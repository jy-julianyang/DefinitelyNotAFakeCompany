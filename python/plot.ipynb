{
 "cells": [
  {
   "cell_type": "markdown",
   "metadata": {
    "heading_collapsed": true
   },
   "source": [
    "# libraries and data"
   ]
  },
  {
   "cell_type": "code",
   "execution_count": null,
   "metadata": {
    "ExecuteTime": {
     "end_time": "2020-07-19T10:13:14.795929Z",
     "start_time": "2020-07-19T10:13:14.392010Z"
    },
    "hidden": true
   },
   "outputs": [],
   "source": [
    "import matplotlib.pyplot as plt\n",
    "import numpy as np\n",
    "%matplotlib inline\n",
    "sns.set() #use seaborn styling"
   ]
  },
  {
   "cell_type": "code",
   "execution_count": null,
   "metadata": {
    "hidden": true
   },
   "outputs": [],
   "source": [
    "# Median Developer Salaries by Age\n",
    "dev_x = [25, 26, 27, 28, 29, 30, 31, 32, 33, 34, 35]\n",
    "\n",
    "dev_y = [38496, 42000, 46752, 49320, 53200,\n",
    "         56000, 62316, 64928, 67317, 68748, 73752]\n",
    "\n",
    "\n",
    "# Median Python Developer Salaries by Age\n",
    "py_dev_x = [25, 26, 27, 28, 29, 30, 31, 32, 33, 34, 35]\n",
    "py_dev_y = [45372, 48876, 53850, 57287, 63016,\n",
    "            65998, 70003, 70000, 71496, 75370, 83640]\n",
    "\n",
    "\n",
    "# Median JavaScript Developer Salaries by Age\n",
    "js_dev_y = [37810, 43515, 46823, 49293, 53437,\n",
    "            56373, 62375, 66674, 68745, 68746, 74583]\n",
    "\n",
    "\n",
    "# Ages 18 to 55\n",
    "ages_x = [18, 19, 20, 21, 22, 23, 24, 25, 26, 27, 28, 29, 30, 31, 32, 33, 34, 35,\n",
    "          36, 37, 38, 39, 40, 41, 42, 43, 44, 45, 46, 47, 48, 49, 50, 51, 52, 53, 54, 55]\n",
    "\n",
    "py_dev_y = [20046, 17100, 20000, 24744, 30500, 37732, 41247, 45372, 48876, 53850, 57287, 63016, 65998, 70003, 70000, 71496, 75370, 83640, 84666,\n",
    "            84392, 78254, 85000, 87038, 91991, 100000, 94796, 97962, 93302, 99240, 102736, 112285, 100771, 104708, 108423, 101407, 112542, 122870, 120000]\n",
    "\n",
    "js_dev_y = [16446, 16791, 18942, 21780, 25704, 29000, 34372, 37810, 43515, 46823, 49293, 53437, 56373, 62375, 66674, 68745, 68746, 74583, 79000,\n",
    "            78508, 79996, 80403, 83820, 88833, 91660, 87892, 96243, 90000, 99313, 91660, 102264, 100000, 100000, 91660, 99240, 108000, 105000, 104000]\n",
    "\n",
    "dev_y = [17784, 16500, 18012, 20628, 25206, 30252, 34368, 38496, 42000, 46752, 49320, 53200, 56000, 62316, 64928, 67317, 68748, 73752, 77232,\n",
    "         78000, 78508, 79536, 82488, 88935, 90000, 90056, 95000, 90000, 91633, 91660, 98150, 98964, 100000, 98988, 100000, 108923, 105000, 103117]"
   ]
  },
  {
   "cell_type": "markdown",
   "metadata": {
    "heading_collapsed": true
   },
   "source": [
    "# line"
   ]
  },
  {
   "cell_type": "code",
   "execution_count": null,
   "metadata": {
    "ExecuteTime": {
     "end_time": "2020-07-19T10:15:06.380510Z",
     "start_time": "2020-07-19T10:15:06.259834Z"
    },
    "hidden": true
   },
   "outputs": [],
   "source": [
    "plt.xkcd()\n",
    "\n",
    "ages_x = [18, 19, 20, 21, 22, 23, 24, 25, 26, 27, 28, 29, 30, 31, 32, 33, 34, 35,\n",
    "          36, 37, 38, 39, 40, 41, 42, 43, 44, 45, 46, 47, 48, 49, 50, 51, 52, 53, 54, 55]\n",
    "\n",
    "py_dev_y = [20046, 17100, 20000, 24744, 30500, 37732, 41247, 45372, 48876, 53850, 57287, 63016, 65998, 70003, 70000, 71496, 75370, 83640, 84666,\n",
    "            84392, 78254, 85000, 87038, 91991, 100000, 94796, 97962, 93302, 99240, 102736, 112285, 100771, 104708, 108423, 101407, 112542, 122870, 120000]\n",
    "plt.plot(ages_x, py_dev_y, label='Python')\n",
    "\n",
    "js_dev_y = [16446, 16791, 18942, 21780, 25704, 29000, 34372, 37810, 43515, 46823, 49293, 53437, 56373, 62375, 66674, 68745, 68746, 74583, 79000,\n",
    "            78508, 79996, 80403, 83820, 88833, 91660, 87892, 96243, 90000, 99313, 91660, 102264, 100000, 100000, 91660, 99240, 108000, 105000, 104000]\n",
    "plt.plot(ages_x, js_dev_y, label='JavaScript')\n",
    "\n",
    "dev_y = [17784, 16500, 18012, 20628, 25206, 30252, 34368, 38496, 42000, 46752, 49320, 53200, 56000, 62316, 64928, 67317, 68748, 73752, 77232,\n",
    "         78000, 78508, 79536, 82488, 88935, 90000, 90056, 95000, 90000, 91633, 91660, 98150, 98964, 100000, 98988, 100000, 108923, 105000, 103117]\n",
    "plt.plot(ages_x, dev_y, color='#444444', linestyle='--', label='All Devs')\n"
   ]
  },
  {
   "cell_type": "code",
   "execution_count": null,
   "metadata": {
    "ExecuteTime": {
     "end_time": "2020-07-19T10:15:08.970580Z",
     "start_time": "2020-07-19T10:15:08.780089Z"
    },
    "hidden": true
   },
   "outputs": [],
   "source": [
    "plt.plot(ages_x, dev_y, color='#444444', linestyle='--', label='All Devs')\n",
    "\n",
    "plt.xlabel('Ages')\n",
    "plt.ylabel('Median Salary (USD)')\n",
    "plt.title('Median Salary (USD) by Age')\n",
    "\n",
    "plt.legend()\n",
    "\n",
    "plt.tight_layout()\n",
    "\n",
    "plt.savefig('plot.png')\n",
    "\n",
    "plt.show()"
   ]
  },
  {
   "cell_type": "code",
   "execution_count": null,
   "metadata": {
    "hidden": true
   },
   "outputs": [],
   "source": [
    "#best to use for simeseries or multiple variables"
   ]
  },
  {
   "cell_type": "code",
   "execution_count": null,
   "metadata": {
    "hidden": true
   },
   "outputs": [],
   "source": [
    "labels = ['x1','x2']\n",
    "plt.figure(figsize = (20,8))\n",
    "plt.plot(data['date'],data['X1'])\n",
    "plt.plot(data['date'],data['X2'])\n",
    "plt.title('title',fontsize=14,fontweight='bold')\n",
    "plt.ylabel('ylabel')\n",
    "plt.xlabel('xlabel')\n",
    "plt.legend(labels=labels,fontsize='large')\n",
    "plt.show()"
   ]
  },
  {
   "cell_type": "code",
   "execution_count": null,
   "metadata": {
    "hidden": true
   },
   "outputs": [],
   "source": [
    "df2 = df[(df.date>'2018-07-01') &\n",
    "         (df.date<'2020-07-01')]"
   ]
  },
  {
   "cell_type": "markdown",
   "metadata": {
    "heading_collapsed": true
   },
   "source": [
    "# bar"
   ]
  },
  {
   "cell_type": "code",
   "execution_count": null,
   "metadata": {
    "hidden": true
   },
   "outputs": [],
   "source": [
    "from matplotlib import pyplot as plt\n",
    "\n",
    "plt.style.use(\"fivethirtyeight\")\n",
    "\n",
    "ages_x = [25, 26, 27, 28, 29, 30, 31, 32, 33, 34, 35]\n",
    "\n",
    "dev_y = [38496, 42000, 46752, 49320, 53200,\n",
    "         56000, 62316, 64928, 67317, 68748, 73752]\n",
    "plt.plot(ages_x, dev_y, color=\"#444444\", label=\"All Devs\")\n",
    "plt.xticks(rotation = 45, fontsize = 13)\n",
    "plt.yticks(rotation = 45, fontsize = 13)\n",
    "\n",
    "# py_dev_y = [45372, 48876, 53850, 57287, 63016,\n",
    "#             65998, 70003, 70000, 71496, 75370, 83640]\n",
    "# plt.plot(ages_x, py_dev_y, color=\"#008fd5\", label=\"Python\")\n",
    "\n",
    "# js_dev_y = [37810, 43515, 46823, 49293, 53437,\n",
    "#             56373, 62375, 66674, 68745, 68746, 74583]\n",
    "# plt.plot(ages_x, js_dev_y, color=\"#e5ae38\", label=\"JavaScript\")\n",
    "\n",
    "plt.legend()\n",
    "\n",
    "plt.title(\"Median Salary (USD) by Age\")\n",
    "plt.xlabel(\"Ages\")\n",
    "plt.ylabel(\"Median Salary (USD)\")\n",
    "\n",
    "plt.tight_layout()\n",
    "\n",
    "plt.show()"
   ]
  },
  {
   "cell_type": "code",
   "execution_count": null,
   "metadata": {
    "hidden": true
   },
   "outputs": [],
   "source": [
    "  \n",
    "import csv\n",
    "import numpy as np\n",
    "import pandas as pd\n",
    "from collections import Counter\n",
    "from matplotlib import pyplot as plt\n",
    "\n",
    "plt.style.use(\"fivethirtyeight\")\n",
    "\n",
    "data = pd.read_csv('data.csv')\n",
    "ids = data['Responder_id']\n",
    "lang_responses = data['LanguagesWorkedWith']\n",
    "\n",
    "language_counter = Counter()\n",
    "\n",
    "for response in lang_responses:\n",
    "    language_counter.update(response.split(';'))\n",
    "\n",
    "languages = []\n",
    "popularity = []\n",
    "\n",
    "for item in language_counter.most_common(15):\n",
    "    languages.append(item[0])\n",
    "    popularity.append(item[1])\n",
    "\n",
    "languages.reverse()\n",
    "popularity.reverse()\n",
    "\n",
    "plt.barh(languages, popularity)\n",
    "\n",
    "plt.title(\"Most Popular Languages\")\n",
    "# plt.ylabel(\"Programming Languages\")\n",
    "plt.xlabel(\"Number of People Who Use\")\n",
    "\n",
    "plt.tight_layout()\n",
    "\n",
    "plt.show()"
   ]
  },
  {
   "cell_type": "code",
   "execution_count": null,
   "metadata": {
    "hidden": true
   },
   "outputs": [],
   "source": [
    "plt.figure(figsize=(9,6))\n",
    "plt.bar(x=x,height=y,color=color)\n",
    "plt.xticks(rotation=45)\n",
    "plt.yticks(fontsize=13)\n",
    "plt.title('title',fontsize=16,fontweight='bold')\n",
    "plt.ylabel('y',fontsize=13)\n",
    "plt.show()\n",
    "plt.savefig('fig')"
   ]
  },
  {
   "cell_type": "code",
   "execution_count": null,
   "metadata": {
    "hidden": true
   },
   "outputs": [],
   "source": [
    "sns.barplot(x='x',y='y',data=df)"
   ]
  },
  {
   "cell_type": "code",
   "execution_count": null,
   "metadata": {
    "hidden": true
   },
   "outputs": [],
   "source": [
    "sns.barplot(x='day', y='tip', data=tips, hue='sex', palette='winter_r')"
   ]
  },
  {
   "cell_type": "code",
   "execution_count": null,
   "metadata": {
    "hidden": true
   },
   "outputs": [],
   "source": [
    "sns.barplot(x='total_bill', y='day', data=tips, palette='spring')"
   ]
  },
  {
   "cell_type": "code",
   "execution_count": null,
   "metadata": {
    "hidden": true
   },
   "outputs": [],
   "source": [
    "sns.barplot(x='day', y='tip', data=tips, palette='spring', order=['Sat','Fri','Sun','Thur'])"
   ]
  },
  {
   "cell_type": "code",
   "execution_count": null,
   "metadata": {
    "hidden": true
   },
   "outputs": [],
   "source": [
    "sns.barplot(x='smoker', y='tip', data=tips, estimator=median, hue='sex', palette='coolwarm')"
   ]
  },
  {
   "cell_type": "code",
   "execution_count": null,
   "metadata": {
    "hidden": true
   },
   "outputs": [],
   "source": [
    "sns.barplot(x='day', y='total_bill', data=tips, palette='spring', capsize=0.3)"
   ]
  },
  {
   "cell_type": "code",
   "execution_count": null,
   "metadata": {
    "hidden": true
   },
   "outputs": [],
   "source": [
    "sns.barplot(x='size', y='tip', data=tips,capsize=0.15, color='red', saturation=0.3)"
   ]
  },
  {
   "cell_type": "markdown",
   "metadata": {
    "heading_collapsed": true
   },
   "source": [
    "# pie"
   ]
  },
  {
   "cell_type": "code",
   "execution_count": null,
   "metadata": {
    "hidden": true
   },
   "outputs": [],
   "source": [
    "from matplotlib import pyplot as plt\n",
    "\n",
    "plt.style.use(\"fivethirtyeight\")\n",
    "\n",
    "\n",
    "plt.title(\"My Awesome Pie Chart\")\n",
    "plt.tight_layout()\n",
    "plt.show()\n",
    "\n",
    "# Colors:\n",
    "# Blue = #008fd5\n",
    "# Red = #fc4f30\n",
    "# Yellow = #e5ae37\n",
    "# Green = #6d904f"
   ]
  },
  {
   "cell_type": "code",
   "execution_count": null,
   "metadata": {
    "hidden": true
   },
   "outputs": [],
   "source": [
    "from matplotlib import pyplot as plt\n",
    "\n",
    "plt.style.use(\"fivethirtyeight\")\n",
    "\n",
    "slices = [59219, 55466, 47544, 36443, 35917]\n",
    "labels = ['JavaScript', 'HTML/CSS', 'SQL', 'Python', 'Java']\n",
    "explode = [0, 0, 0, 0.1, 0]\n",
    "\n",
    "plt.pie(slices, labels=labels, explode=explode, shadow=True,\n",
    "        startangle=90, autopct='%1.1f%%',\n",
    "        wedgeprops={'edgecolor': 'black'})\n",
    "\n",
    "plt.title(\"My Awesome Pie Chart\")\n",
    "plt.tight_layout()\n",
    "plt.show()"
   ]
  },
  {
   "cell_type": "markdown",
   "metadata": {
    "heading_collapsed": true
   },
   "source": [
    "# stack"
   ]
  },
  {
   "cell_type": "code",
   "execution_count": null,
   "metadata": {
    "hidden": true
   },
   "outputs": [],
   "source": [
    "from matplotlib import pyplot as plt\n",
    "\n",
    "plt.style.use(\"fivethirtyeight\")\n",
    "\n",
    "\n",
    "minutes = [1, 2, 3, 4, 5, 6, 7, 8, 9]\n",
    "\n",
    "player1 = [1, 2, 3, 3, 4, 4, 4, 4, 5]\n",
    "player2 = [1, 1, 1, 1, 2, 2, 2, 3, 4]\n",
    "player3 = [1, 1, 1, 2, 2, 2, 3, 3, 3]\n",
    "\n",
    "plt.pie([1, 1, 1], labels=[\"Player 1\", \"Player2\", \"Player3\"])\n",
    "\n",
    "plt.title(\"My Awesome Stack Plot\")\n",
    "plt.tight_layout()\n",
    "plt.show()\n",
    "\n",
    "# Colors:\n",
    "# Blue = #008fd5\n",
    "# Red = #fc4f30\n",
    "# Yellow = #e5ae37\n",
    "# Green = #6d904f"
   ]
  },
  {
   "cell_type": "code",
   "execution_count": null,
   "metadata": {
    "hidden": true
   },
   "outputs": [],
   "source": [
    "from matplotlib import pyplot as plt\n",
    "\n",
    "plt.style.use(\"fivethirtyeight\")\n",
    "\n",
    "\n",
    "minutes = [1, 2, 3, 4, 5, 6, 7, 8, 9]\n",
    "\n",
    "player1 = [8, 6, 5, 5, 4, 2, 1, 1, 0]\n",
    "player2 = [0, 1, 2, 2, 2, 4, 4, 4, 4]\n",
    "player3 = [0, 1, 1, 1, 2, 2, 3, 3, 4]\n",
    "\n",
    "labels = ['player1', 'player2', 'player3']\n",
    "colors = ['#6d904f', '#fc4f30', '#008fd5']\n",
    "\n",
    "plt.stackplot(minutes, player1, player2, player3, labels=labels, colors=colors)\n",
    "\n",
    "plt.legend(loc=(0.07, 0.05))\n",
    "\n",
    "plt.title(\"My Awesome Stack Plot\")\n",
    "plt.tight_layout()\n",
    "plt.show()\n",
    "\n",
    "# Colors:\n",
    "# Blue = #008fd5\n",
    "# Red = #fc4f30\n",
    "# Yellow = #e5ae37\n",
    "# Green = #6d904f"
   ]
  },
  {
   "cell_type": "code",
   "execution_count": null,
   "metadata": {
    "hidden": true
   },
   "outputs": [],
   "source": [
    "colors = ['#6d904f', '#fc4f30', '#008fd5']\n",
    "sns.set_style('white')\n",
    "plt.figure(figsize = (12,6))\n",
    "plt.stackplot(df['column1'],\n",
    "    df['column2'],\n",
    "    df['column3'],\n",
    "    colors = colors,\n",
    "    edgecolor = 'none')\n",
    "plt.xticks(df['x'],rotation = 45)\n",
    "plt.legend(labels = labels, loc=(0.07,0.05))\n",
    "plt.ylabel('',fontsize = 13)\n",
    "plt.title('title',fontsize=14,weight='bold')\n",
    "sns.despine()\n",
    "plt.show()\n"
   ]
  },
  {
   "cell_type": "code",
   "execution_count": null,
   "metadata": {
    "hidden": true
   },
   "outputs": [],
   "source": [
    "# #Get values from the group and categories\n",
    "# quarter = [\"Q1\", \"Q2\", \"Q3\", \"Q4\"]\n",
    "# jeans = [100, 75, 50, 133]\n",
    "# tshirt = [44, 120, 150, 33]\n",
    "# formal_shirt = [70, 90, 111, 80]\n",
    "    \n",
    "# #add colors\n",
    "# colors = ['#FF9999', '#00BFFF','#C1FFC1','#CAE1FF','#FFDEAD']\n",
    "# # The position of the bars on the x-axis\n",
    "# r = range(len(quarter))\n",
    "# barWidth = 1\n",
    "# #plot bars\n",
    "# plt.figure(figsize=(10,7))\n",
    "# ax1 = plt.bar(r, jeans, color=colors[0], edgecolor='white', width=barWidth, label=\"jeans\")\n",
    "# ax2 = plt.bar(r, tshirt, bottom=np.array(jeans), color=colors[1], edgecolor='white', width=barWidth, label='tshirt')\n",
    "# ax3 = plt.bar(r, formal_shirt, bottom=np.array(jeans)+np.array(tshirt), color=colors[2], edgecolor='white', width=barWidth, label='formal shirt')\n",
    "# plt.legend()\n",
    "# # Custom X axis\n",
    "# plt.xticks(r, quarter, fontweight='bold')\n",
    "# plt.ylabel(\"sales\")\n",
    "# for r1, r2, r3 in zip(ax1, ax2, ax3):\n",
    "#     h1 = r1.get_height()\n",
    "#     h2 = r2.get_height()\n",
    "#     h3 = r3.get_height()\n",
    "#     plt.text(r1.get_x() + r1.get_width() / 2., h1 / 2., \"%d\" % h1, ha=\"center\", va=\"center\", color=\"white\", fontsize=16, fontweight=\"bold\")\n",
    "#     plt.text(r2.get_x() + r2.get_width() / 2., h1 + h2 / 2., \"%d\" % h2, ha=\"center\", va=\"center\", color=\"white\", fontsize=16, fontweight=\"bold\")\n",
    "#     plt.text(r3.get_x() + r3.get_width() / 2., h1 + h2 + h3 / 2., \"%d\" % h3, ha=\"center\", va=\"center\", color=\"white\", fontsize=16, fontweight=\"bold\")\n",
    "# plt.savefig(\"stacked2.png\")\n",
    "# plt.show()"
   ]
  },
  {
   "cell_type": "code",
   "execution_count": null,
   "metadata": {
    "hidden": true
   },
   "outputs": [],
   "source": [
    "# stacked bar plot\n",
    "# import numpy as np\n",
    "# import matplotlib.pyplot as plt\n",
    "# #Get values from the group and categories\n",
    "# quarter = np.array([\"Q1\", \"Q2\", \"Q3\", \"Q4\"])\n",
    "# jeans = np.array([100, 75, 50, 133])\n",
    "# tshirt = np.array([44, 120, 150, 33])\n",
    "# formal_shirt = np.array([70, 90, 111, 80])\n",
    "# total = jeans+ tshirt+ formal_shirt\n",
    "# proportion_jeans = np.true_divide(jeans, total) * 100\n",
    "# proportion_tshirts = np.true_divide(tshirt, total) * 100\n",
    "# proportion_formal = np.true_divide(formal_shirt, total) * 100\n",
    "    \n",
    "# #add colors\n",
    "# colors = ['#FF9999', '#00BFFF','#C1FFC1','#CAE1FF','#FFDEAD']\n",
    "# # The position of the bars on the x-axis\n",
    "# r = range(len(quarter))\n",
    "# barWidth = 1\n",
    "# #plot bars\n",
    "# plt.figure(figsize=(10,7))\n",
    "# ax1 = plt.bar(r, proportion_jeans, bottom=proportion_tshirts+proportion_formal, color=colors[0], edgecolor='white', width=barWidth, label=\"jeans\")\n",
    "# ax2 = plt.bar(r, proportion_tshirts, bottom=proportion_formal, color=colors[1], edgecolor='white', width=barWidth, label='tshirt')\n",
    "# ax3 = plt.bar(r, proportion_formal, color=colors[2], edgecolor='white', width=barWidth, label='formal shirt')\n",
    "# plt.legend()\n",
    "# plt.xticks(r, quarter, fontweight='bold')\n",
    "# plt.ylabel(\"sales\")\n",
    "# plt.savefig(\"percentileStacked.png\")\n",
    "# plt.show()"
   ]
  },
  {
   "cell_type": "code",
   "execution_count": null,
   "metadata": {
    "hidden": true
   },
   "outputs": [],
   "source": [
    "# # stacked bar plot\n",
    "# import numpy as np\n",
    "# import matplotlib.pyplot as plt\n",
    "# #Get values from the group and categories\n",
    "# quarter = [\"Q1\", \"Q2\", \"Q3\", \"Q4\"]\n",
    "# jeans = [100, 75, 50, 133]\n",
    "# tshirt = [44, 120, 150, 33]\n",
    "# formal_shirt = [70, 90, 111, 80]\n",
    "    \n",
    "# #add colors\n",
    "# colors = ['#FF9999', '#00BFFF','#C1FFC1','#CAE1FF','#FFDEAD']\n",
    "# # The position of the bars on the x-axis\n",
    "# r = range(len(quarter))\n",
    "# barWidth = 1\n",
    "# #plot bars\n",
    "# plt.figure(figsize=(10,7))\n",
    "# plt.bar(r, jeans, color=colors[0], edgecolor='white', width=barWidth, label=\"jeans\")\n",
    "# plt.bar(r, tshirt, bottom=np.array(jeans), color=colors[1], edgecolor='white', width=barWidth, label='tshirt')\n",
    "# plt.bar(r, formal_shirt, bottom=np.array(jeans)+np.array(tshirt), color=colors[2], edgecolor='white', width=barWidth, label='formal shirt')\n",
    "# plt.legend()\n",
    "# # Custom X axis\n",
    "# plt.xticks(r, quarter, fontweight='bold')\n",
    "# plt.ylabel(\"sales\")\n",
    "# plt.savefig(\"stacked1.png\")\n",
    "# plt.show()"
   ]
  },
  {
   "cell_type": "markdown",
   "metadata": {
    "heading_collapsed": true
   },
   "source": [
    "# fill between"
   ]
  },
  {
   "cell_type": "code",
   "execution_count": null,
   "metadata": {
    "hidden": true
   },
   "outputs": [],
   "source": [
    "import pandas as pd\n",
    "from matplotlib import pyplot as plt\n",
    "\n",
    "data = pd.read_csv('data.csv')\n",
    "ages = data['Age']\n",
    "dev_salaries = data['All_Devs']\n",
    "py_salaries = data['Python']\n",
    "js_salaries = data['JavaScript']\n",
    "\n",
    "plt.plot(ages, dev_salaries, color='#444444',\n",
    "         linestyle='--', label='All Devs')\n",
    "\n",
    "plt.plot(ages, py_salaries, label='Python')\n",
    "\n",
    "# overall_median = 57287\n",
    "\n",
    "plt.legend()\n",
    "\n",
    "plt.title('Median Salary (USD) by Age')\n",
    "plt.xlabel('Ages')\n",
    "plt.ylabel('Median Salary (USD)')\n",
    "\n",
    "plt.tight_layout()\n",
    "\n",
    "plt.show()"
   ]
  },
  {
   "cell_type": "code",
   "execution_count": null,
   "metadata": {
    "hidden": true
   },
   "outputs": [],
   "source": [
    "import pandas as pd\n",
    "from matplotlib import pyplot as plt\n",
    "\n",
    "data = pd.read_csv('data.csv')\n",
    "ages = data['Age']\n",
    "dev_salaries = data['All_Devs']\n",
    "py_salaries = data['Python']\n",
    "js_salaries = data['JavaScript']\n",
    "\n",
    "plt.plot(ages, dev_salaries, color='#444444',\n",
    "         linestyle='--', label='All Devs')\n",
    "\n",
    "plt.plot(ages, py_salaries, label='Python')\n",
    "\n",
    "overall_median = 57287\n",
    "\n",
    "plt.fill_between(ages, py_salaries, dev_salaries,\n",
    "                 where=(py_salaries > dev_salaries),\n",
    "                 interpolate=True, alpha=0.25, label='Above Avg')\n",
    "\n",
    "plt.fill_between(ages, py_salaries, dev_salaries,\n",
    "                 where=(py_salaries <= dev_salaries),\n",
    "                 interpolate=True, color='red', alpha=0.25, label='Below Avg')\n",
    "\n",
    "plt.legend()\n",
    "\n",
    "plt.title('Median Salary (USD) by Age')\n",
    "plt.xlabel('Ages')\n",
    "plt.ylabel('Median Salary (USD)')\n",
    "\n",
    "plt.tight_layout()\n",
    "\n",
    "plt.show()"
   ]
  },
  {
   "cell_type": "markdown",
   "metadata": {
    "heading_collapsed": true
   },
   "source": [
    "# histogram"
   ]
  },
  {
   "cell_type": "code",
   "execution_count": null,
   "metadata": {
    "hidden": true
   },
   "outputs": [],
   "source": [
    "import pandas as pd\n",
    "from matplotlib import pyplot as plt\n",
    "\n",
    "plt.style.use('fivethirtyeight')\n",
    "\n",
    "ages = [18, 19, 21, 25, 26, 26, 30, 32, 38, 45, 55]\n",
    "\n",
    "# data = pd.read_csv('data.csv')\n",
    "# ids = data['Responder_id']\n",
    "# ages = data['Age']\n",
    "\n",
    "# median_age = 29\n",
    "# color = '#fc4f30'\n",
    "\n",
    "# plt.legend()\n",
    "\n",
    "plt.title('Ages of Respondents')\n",
    "plt.xlabel('Ages')\n",
    "plt.ylabel('Total Respondents')\n",
    "\n",
    "plt.tight_layout()\n",
    "\n",
    "plt.show()"
   ]
  },
  {
   "cell_type": "code",
   "execution_count": null,
   "metadata": {
    "hidden": true
   },
   "outputs": [],
   "source": [
    "import pandas as pd\n",
    "from matplotlib import pyplot as plt\n",
    "\n",
    "plt.style.use('fivethirtyeight')\n",
    "\n",
    "data = pd.read_csv('data.csv')\n",
    "ids = data['Responder_id']\n",
    "ages = data['Age']\n",
    "\n",
    "bins = [10, 20, 30, 40, 50, 60, 70, 80, 90, 100]\n",
    "\n",
    "plt.hist(ages, bins=bins, edgecolor='black', log=True)\n",
    "\n",
    "median_age = 29\n",
    "color = '#fc4f30'\n",
    "\n",
    "plt.axvline(median_age, color=color, label='Age Median', linewidth=2)\n",
    "\n",
    "plt.legend()\n",
    "\n",
    "plt.title('Ages of Respondents')\n",
    "plt.xlabel('Ages')\n",
    "plt.ylabel('Total Respondents')\n",
    "\n",
    "plt.tight_layout()\n",
    "\n",
    "plt.show()"
   ]
  },
  {
   "cell_type": "code",
   "execution_count": null,
   "metadata": {
    "hidden": true
   },
   "outputs": [],
   "source": [
    "plt.figure(figsize=(8,6))\n",
    "plt.hist(df['x'],\n",
    "bins = 8\n",
    "color = color)\n",
    "plt.title('title',fontsize=14,weight='bold')\n",
    "plt.xlabel('xlabel')\n",
    "plt.ylabel('ylabel')\n",
    "sns.despine()\n",
    "plt.show()"
   ]
  },
  {
   "cell_type": "code",
   "execution_count": null,
   "metadata": {
    "hidden": true
   },
   "outputs": [],
   "source": [
    "sns.distplot(num)"
   ]
  },
  {
   "cell_type": "code",
   "execution_count": null,
   "metadata": {
    "hidden": true
   },
   "outputs": [],
   "source": [
    "sns.distplot(num, color='red')"
   ]
  },
  {
   "cell_type": "code",
   "execution_count": null,
   "metadata": {
    "hidden": true
   },
   "outputs": [],
   "source": [
    "label_dist = pd.Series(num, name=\"variable x\")"
   ]
  },
  {
   "cell_type": "code",
   "execution_count": null,
   "metadata": {
    "hidden": true
   },
   "outputs": [],
   "source": [
    "sns.distplot(label_dist)"
   ]
  },
  {
   "cell_type": "code",
   "execution_count": null,
   "metadata": {
    "hidden": true
   },
   "outputs": [],
   "source": [
    "sns.distplot(label_dist, vertical=True)"
   ]
  },
  {
   "cell_type": "code",
   "execution_count": null,
   "metadata": {
    "hidden": true
   },
   "outputs": [],
   "source": [
    "\n",
    "sns.distplot(label_dist, vertical=True, color='red')"
   ]
  },
  {
   "cell_type": "code",
   "execution_count": null,
   "metadata": {
    "hidden": true
   },
   "outputs": [],
   "source": [
    "sns.distplot(label_dist, hist=False)"
   ]
  },
  {
   "cell_type": "code",
   "execution_count": null,
   "metadata": {
    "hidden": true
   },
   "outputs": [],
   "source": [
    "sns.distplot(label_dist, rug=True, hist=False)"
   ]
  },
  {
   "cell_type": "code",
   "execution_count": null,
   "metadata": {
    "hidden": true
   },
   "outputs": [],
   "source": [
    "\n",
    "sns.distplot(label_dist, rug=True, hist=False, color='green')"
   ]
  },
  {
   "cell_type": "markdown",
   "metadata": {
    "heading_collapsed": true
   },
   "source": [
    "# scatter"
   ]
  },
  {
   "cell_type": "code",
   "execution_count": null,
   "metadata": {
    "hidden": true
   },
   "outputs": [],
   "source": [
    "import pandas as pd\n",
    "from matplotlib import pyplot as plt\n",
    "\n",
    "plt.style.use('seaborn')\n",
    "\n",
    "x = [5, 7, 8, 5, 6, 7, 9, 2, 3, 4, 4, 4, 2, 6, 3, 6, 8, 6, 4, 1]\n",
    "y = [7, 4, 3, 9, 1, 3, 2, 5, 2, 4, 8, 7, 1, 6, 4, 9, 7, 7, 5, 1]\n",
    "\n",
    "\n",
    "# colors = [7, 5, 9, 7, 5, 7, 2, 5, 3, 7, 1, 2, 8, 1, 9, 2, 5, 6, 7, 5]\n",
    "\n",
    "# sizes = [209, 486, 381, 255, 191, 315, 185, 228, 174,\n",
    "#          538, 239, 394, 399, 153, 273, 293, 436, 501, 397, 539]\n",
    "\n",
    "# data = pd.read_csv('2019-05-31-data.csv')\n",
    "# view_count = data['view_count']\n",
    "# likes = data['likes']\n",
    "# ratio = data['ratio']\n",
    "\n",
    "# plt.title('Trending YouTube Videos')\n",
    "# plt.xlabel('View Count')\n",
    "# plt.ylabel('Total Likes')\n",
    "\n",
    "plt.tight_layout()\n",
    "\n",
    "plt.show()"
   ]
  },
  {
   "cell_type": "code",
   "execution_count": null,
   "metadata": {
    "hidden": true
   },
   "outputs": [],
   "source": [
    "import pandas as pd\n",
    "from matplotlib import pyplot as plt\n",
    "\n",
    "plt.style.use('seaborn')\n",
    "\n",
    "data = pd.read_csv('2019-05-31-data.csv')\n",
    "view_count = data['view_count']\n",
    "likes = data['likes']\n",
    "ratio = data['ratio']\n",
    "\n",
    "plt.scatter(view_count, likes, c=ratio, cmap='summer',\n",
    "            edgecolor='black', linewidth=1, alpha=0.75)\n",
    "\n",
    "cbar = plt.colorbar()\n",
    "cbar.set_label('Like/Dislike Ratio')\n",
    "\n",
    "plt.xscale('log')\n",
    "plt.yscale('log')\n",
    "\n",
    "plt.title('Trending YouTube Videos')\n",
    "plt.xlabel('View Count')\n",
    "plt.ylabel('Total Likes')\n",
    "\n",
    "plt.tight_layout()\n",
    "\n",
    "plt.show()"
   ]
  },
  {
   "cell_type": "code",
   "execution_count": null,
   "metadata": {
    "hidden": true
   },
   "outputs": [],
   "source": [
    "plt.figuresize()\n",
    "scatter = plt.scatter(x,y,alpha=0.6,c=z,cmap='viridis')\n",
    "plt.legend(*scatter.legen_elements(),\n",
    "          loc = 'upperleft',\n",
    "          title='title')\n",
    "plt.title('title',fontsize=14,weight='bold')\n",
    "plt.xlabel('xlabel',weight='bold')\n",
    "plt.ylabel('ylabel',weight='bold')\n",
    "plt.show()"
   ]
  },
  {
   "cell_type": "code",
   "execution_count": null,
   "metadata": {
    "hidden": true
   },
   "outputs": [],
   "source": [
    "plt.figuresize(figsize=(12,8))\n",
    "sns.scatterplot(x,y,\n",
    "               hue=z,\n",
    "               palette = ['black','red','purple','pink']\n",
    "               ,s=100)\n",
    "plt.title('title',fontsize=14,weight='bold')\n",
    "plt.xlabel('xlabel',weight='bold')\n",
    "plt.ylabel('ylabel',weight='bold')\n",
    "plt.show()"
   ]
  },
  {
   "cell_type": "code",
   "execution_count": null,
   "metadata": {
    "hidden": true
   },
   "outputs": [],
   "source": [
    "plt.figuresize(figsize=(12,8))\n",
    "sns.set(rc={'figure.figsize':(9,6)})\n",
    "\n",
    "sns.regplot(x=x,y=y,data=data,scatter_kws={'color':'k'}\n",
    "            ,line_kws={'color':'red'})\n",
    "plt.title('title',fontsize=14,weight='bold')\n",
    "plt.xlabel('xlabel',weight='bold')\n",
    "plt.ylabel('ylabel',weight='bold')\n",
    "plt.show()"
   ]
  },
  {
   "cell_type": "code",
   "execution_count": null,
   "metadata": {
    "hidden": true
   },
   "outputs": [],
   "source": [
    "sns.lmplot(x=x,y=y,data=data,\n",
    "           height=10,\n",
    "           ,scatter_kws={'color':'k'}\n",
    "            ,line_kws={'color':'red'})\n",
    "plt.title('title',fontsize=14,weight='bold')\n",
    "plt.xlabel('xlabel',weight='bold')\n",
    "plt.ylabel('ylabel',weight='bold')\n",
    "plt.show()"
   ]
  },
  {
   "cell_type": "markdown",
   "metadata": {
    "heading_collapsed": true
   },
   "source": [
    "# time series"
   ]
  },
  {
   "cell_type": "code",
   "execution_count": null,
   "metadata": {
    "hidden": true
   },
   "outputs": [],
   "source": [
    "import pandas as pd\n",
    "from datetime import datetime, timedelta\n",
    "from matplotlib import pyplot as plt\n",
    "from matplotlib import dates as mpl_dates\n",
    "\n",
    "plt.style.use('seaborn')\n",
    "\n",
    "dates = [\n",
    "    datetime(2019, 5, 24),\n",
    "    datetime(2019, 5, 25),\n",
    "    datetime(2019, 5, 26),\n",
    "    datetime(2019, 5, 27),\n",
    "    datetime(2019, 5, 28),\n",
    "    datetime(2019, 5, 29),\n",
    "    datetime(2019, 5, 30)\n",
    "]\n",
    "\n",
    "y = [0, 1, 3, 4, 6, 5, 7]\n",
    "\n",
    "# data = pd.read_csv('data.csv')\n",
    "# price_date = data['Date']\n",
    "# price_close = data['Close']\n",
    "\n",
    "# plt.title('Bitcoin Prices')\n",
    "# plt.xlabel('Date')\n",
    "# plt.ylabel('Closing Price')\n",
    "\n",
    "plt.tight_layout()\n",
    "\n",
    "plt.show()"
   ]
  },
  {
   "cell_type": "code",
   "execution_count": null,
   "metadata": {
    "hidden": true
   },
   "outputs": [],
   "source": [
    "import pandas as pd\n",
    "from datetime import datetime, timedelta\n",
    "from matplotlib import pyplot as plt\n",
    "from matplotlib import dates as mpl_dates\n",
    "\n",
    "plt.style.use('seaborn')\n",
    "\n",
    "data = pd.read_csv('data.csv')\n",
    "\n",
    "data['Date'] = pd.to_datetime(data['Date'])\n",
    "data.sort_values('Date', inplace=True)\n",
    "\n",
    "price_date = data['Date']\n",
    "price_close = data['Close']\n",
    "\n",
    "plt.plot_date(price_date, price_close, linestyle='solid')\n",
    "\n",
    "plt.gcf().autofmt_xdate()\n",
    "\n",
    "plt.title('Bitcoin Prices')\n",
    "plt.xlabel('Date')\n",
    "plt.ylabel('Closing Price')\n",
    "\n",
    "plt.tight_layout()\n",
    "\n",
    "plt.show()"
   ]
  },
  {
   "cell_type": "markdown",
   "metadata": {
    "heading_collapsed": true
   },
   "source": [
    "# area"
   ]
  },
  {
   "cell_type": "code",
   "execution_count": null,
   "metadata": {
    "hidden": true
   },
   "outputs": [],
   "source": [
    "colors = [\"#011638\", \"#7e2987\", \"ef2026\"]\n",
    "labels = [\"Diesel\", \"Petrol\", \"Gas\"]\n",
    "sns.set_style(\"white\")\n",
    "plt.figure(figsize = (12, 6))\n",
    "plt.stackplot(df_fuel_engine_types[\"Year\"],\n",
    "              df_fuel_engine_types[\"Diesel\"],\n",
    "              df_fuel_engine_types[\"Petrol\"],\n",
    "              df_fuel_engine_types[\"Gas\"],\n",
    "              colors = colors,\n",
    "              edgecolor = 'none')\n",
    "plt.xticks(df_fuel_engine_types[\"Year\"], rotation = 45)\n",
    "plt.legend(labels = labels, loc = \"upper left\")\n",
    "plt.ylabel(\"Number of Cars\", fontsize = 13)\n",
    "plt.title(\"Popularity of Engine Fuel Types (1982 - 2016)\", fontsize = 14, weight = \"bold\")\n",
    "sns.despine()\n",
    "plt.show()"
   ]
  },
  {
   "cell_type": "markdown",
   "metadata": {
    "heading_collapsed": true
   },
   "source": [
    "# box"
   ]
  },
  {
   "cell_type": "code",
   "execution_count": null,
   "metadata": {
    "hidden": true
   },
   "outputs": [],
   "source": [
    "sns.boxplot(x=tips['size'])"
   ]
  },
  {
   "cell_type": "code",
   "execution_count": null,
   "metadata": {
    "hidden": true
   },
   "outputs": [],
   "source": [
    "sns.boxplot(x='sex', y='total_bill', data=tips)"
   ]
  },
  {
   "cell_type": "code",
   "execution_count": null,
   "metadata": {
    "hidden": true
   },
   "outputs": [],
   "source": [
    "sns.boxplot(x='day', y='total_bill', data=tips, hue='sex', palette='husl')"
   ]
  },
  {
   "cell_type": "code",
   "execution_count": null,
   "metadata": {
    "hidden": true
   },
   "outputs": [],
   "source": [
    "sns.boxplot(data=iris, orient='horizontal', palette='husl') # horizontal or h"
   ]
  },
  {
   "cell_type": "code",
   "execution_count": null,
   "metadata": {
    "hidden": true
   },
   "outputs": [],
   "source": [
    "sns.swarmplot(x='day', y='total_bill', data=tips, color='0.15')"
   ]
  },
  {
   "cell_type": "markdown",
   "metadata": {
    "heading_collapsed": true
   },
   "source": [
    "# heatmap"
   ]
  },
  {
   "cell_type": "code",
   "execution_count": null,
   "metadata": {
    "hidden": true
   },
   "outputs": [],
   "source": [
    "sns.heatmap(flights)"
   ]
  },
  {
   "cell_type": "code",
   "execution_count": null,
   "metadata": {
    "hidden": true
   },
   "outputs": [],
   "source": [
    "sns.clustermap(flights)"
   ]
  },
  {
   "cell_type": "code",
   "execution_count": null,
   "metadata": {
    "hidden": true
   },
   "outputs": [],
   "source": [
    "sns.clustermap(flights, cmap='coolwarm', linewidths=1)"
   ]
  },
  {
   "cell_type": "code",
   "execution_count": null,
   "metadata": {
    "hidden": true
   },
   "outputs": [],
   "source": [
    "\n",
    "sns.clustermap(flights, cmap='Blues_r', linewidths=1.4)"
   ]
  },
  {
   "cell_type": "code",
   "execution_count": null,
   "metadata": {
    "hidden": true
   },
   "outputs": [],
   "source": [
    "sns.clustermap(flights, cmap='coolwarm', linewidths=1.2, figsize=(9,7))"
   ]
  },
  {
   "cell_type": "code",
   "execution_count": null,
   "metadata": {
    "hidden": true
   },
   "outputs": [],
   "source": [
    "sns.clustermap(flights, standard_scale = 1)"
   ]
  },
  {
   "cell_type": "code",
   "execution_count": null,
   "metadata": {
    "hidden": true
   },
   "outputs": [],
   "source": [
    "\n",
    "sns.clustermap(flights, standard_scale = 0)"
   ]
  },
  {
   "cell_type": "code",
   "execution_count": null,
   "metadata": {
    "hidden": true
   },
   "outputs": [],
   "source": [
    "\n",
    "sns.clustermap(flights, z_score=0)"
   ]
  },
  {
   "cell_type": "code",
   "execution_count": null,
   "metadata": {
    "hidden": true
   },
   "outputs": [],
   "source": [
    "sns.clustermap(flights, z_score=1)"
   ]
  },
  {
   "cell_type": "markdown",
   "metadata": {
    "heading_collapsed": true
   },
   "source": [
    "# facetgrid"
   ]
  },
  {
   "cell_type": "code",
   "execution_count": null,
   "metadata": {
    "hidden": true
   },
   "outputs": [],
   "source": [
    "sns.FacetGrid(tips, row='smoker', col='time')"
   ]
  },
  {
   "cell_type": "code",
   "execution_count": null,
   "metadata": {
    "hidden": true
   },
   "outputs": [],
   "source": [
    "x = sns.FacetGrid(tips, row='smoker', col='time')\n",
    "x = x.map(plt.hist, 'total_bill', color='green')"
   ]
  },
  {
   "cell_type": "code",
   "execution_count": null,
   "metadata": {
    "hidden": true
   },
   "outputs": [],
   "source": [
    "x = sns.FacetGrid(tips, row='smoker', col='time')\n",
    "x = x.map(plt.hist, 'total_bill', color='blue', bins=15)"
   ]
  },
  {
   "cell_type": "code",
   "execution_count": null,
   "metadata": {
    "hidden": true
   },
   "outputs": [],
   "source": [
    "x = sns.FacetGrid(tips, col='time', row='smoker')\n",
    "x = x.map(plt.scatter, 'total_bill', 'tip')"
   ]
  },
  {
   "cell_type": "code",
   "execution_count": null,
   "metadata": {
    "hidden": true
   },
   "outputs": [],
   "source": [
    "x = sns.FacetGrid(tips, col='time', row='smoker')\n",
    "x = x.map(sns.regplot, 'total_bill', 'tip')"
   ]
  },
  {
   "cell_type": "code",
   "execution_count": null,
   "metadata": {
    "hidden": true
   },
   "outputs": [],
   "source": [
    "x = sns.FacetGrid(tips, col='day')\n",
    "x = x.map(sns.boxplot, 'total_bill', 'time')"
   ]
  },
  {
   "cell_type": "code",
   "execution_count": null,
   "metadata": {
    "hidden": true
   },
   "outputs": [],
   "source": [
    "x = sns.FacetGrid(tips, col='time', hue='smoker', palette='husl')\n",
    "x = (x.map(plt.scatter, 'total_bill', 'tip').add_legend())"
   ]
  },
  {
   "cell_type": "markdown",
   "metadata": {
    "heading_collapsed": true
   },
   "source": [
    "# jointplot"
   ]
  },
  {
   "cell_type": "code",
   "execution_count": null,
   "metadata": {
    "hidden": true
   },
   "outputs": [],
   "source": [
    "sns.jointplot(x='total_bill', y='tip', data=tips)"
   ]
  },
  {
   "cell_type": "code",
   "execution_count": null,
   "metadata": {
    "hidden": true
   },
   "outputs": [],
   "source": [
    "sns.jointplot(x='total_bill', y='tip', data=tips, kind='reg')"
   ]
  },
  {
   "cell_type": "code",
   "execution_count": null,
   "metadata": {
    "hidden": true
   },
   "outputs": [],
   "source": [
    "sns.jointplot(x='total_bill', y='tip', data=tips, kind='hex')"
   ]
  },
  {
   "cell_type": "code",
   "execution_count": null,
   "metadata": {
    "hidden": true
   },
   "outputs": [],
   "source": [
    "sns.jointplot(x='total_bill', y='tip', data=tips, kind='kde')"
   ]
  },
  {
   "cell_type": "code",
   "execution_count": null,
   "metadata": {
    "hidden": true
   },
   "outputs": [],
   "source": [
    "sns.jointplot(x='size', y='total_bill', data=tips, stat_func=spearmanr, color='blue')"
   ]
  },
  {
   "cell_type": "code",
   "execution_count": null,
   "metadata": {
    "hidden": true
   },
   "outputs": [],
   "source": [
    "sns.jointplot(x='total_bill', y='tip', data=tips, ratio=4, size=6)"
   ]
  },
  {
   "cell_type": "markdown",
   "metadata": {
    "heading_collapsed": true
   },
   "source": [
    "# kernel density estimator"
   ]
  },
  {
   "cell_type": "code",
   "execution_count": null,
   "metadata": {
    "ExecuteTime": {
     "end_time": "2020-07-19T11:41:25.011507Z",
     "start_time": "2020-07-19T11:41:25.003529Z"
    },
    "hidden": true
   },
   "outputs": [],
   "source": [
    "mean = [0,0]\n",
    "cov = [[0.2,0], [0,3]]\n",
    "x_axis, y_axis = np.random.multivariate_normal(mean, cov, size=40).T"
   ]
  },
  {
   "cell_type": "code",
   "execution_count": null,
   "metadata": {
    "ExecuteTime": {
     "end_time": "2020-07-19T11:41:37.757610Z",
     "start_time": "2020-07-19T11:41:37.664858Z"
    },
    "hidden": true
   },
   "outputs": [],
   "source": [
    "sns.kdeplot(x_axis)"
   ]
  },
  {
   "cell_type": "code",
   "execution_count": null,
   "metadata": {
    "ExecuteTime": {
     "end_time": "2020-07-19T11:41:57.134016Z",
     "start_time": "2020-07-19T11:41:57.047742Z"
    },
    "hidden": true
   },
   "outputs": [],
   "source": [
    "sns.kdeplot(x_axis, shade=True)"
   ]
  },
  {
   "cell_type": "code",
   "execution_count": null,
   "metadata": {
    "ExecuteTime": {
     "end_time": "2020-07-19T11:42:05.987952Z",
     "start_time": "2020-07-19T11:42:05.596495Z"
    },
    "hidden": true
   },
   "outputs": [],
   "source": [
    "sns.kdeplot(x_axis, y_axis)"
   ]
  },
  {
   "cell_type": "code",
   "execution_count": null,
   "metadata": {
    "ExecuteTime": {
     "end_time": "2020-07-19T11:42:11.543160Z",
     "start_time": "2020-07-19T11:42:11.156196Z"
    },
    "hidden": true
   },
   "outputs": [],
   "source": [
    "sns.kdeplot(x_axis, y_axis, shade=True)"
   ]
  },
  {
   "cell_type": "code",
   "execution_count": null,
   "metadata": {
    "ExecuteTime": {
     "end_time": "2020-07-19T11:42:22.689540Z",
     "start_time": "2020-07-19T11:42:22.311552Z"
    },
    "hidden": true
   },
   "outputs": [],
   "source": [
    "sns.kdeplot(x_axis, y_axis, cmap='coolwarm')"
   ]
  },
  {
   "cell_type": "code",
   "execution_count": null,
   "metadata": {
    "ExecuteTime": {
     "end_time": "2020-07-19T11:42:32.873107Z",
     "start_time": "2020-07-19T11:42:32.444748Z"
    },
    "hidden": true
   },
   "outputs": [],
   "source": [
    "sns.kdeplot(x_axis, y_axis, n_levels=35, cmap='coolwarm')"
   ]
  },
  {
   "cell_type": "code",
   "execution_count": null,
   "metadata": {
    "ExecuteTime": {
     "end_time": "2020-07-19T11:42:39.052159Z",
     "start_time": "2020-07-19T11:42:38.958903Z"
    },
    "hidden": true
   },
   "outputs": [],
   "source": [
    "sns.kdeplot(y_axis, bw=1.5)"
   ]
  },
  {
   "cell_type": "code",
   "execution_count": null,
   "metadata": {
    "ExecuteTime": {
     "end_time": "2020-07-19T11:42:45.193791Z",
     "start_time": "2020-07-19T11:42:45.075602Z"
    },
    "hidden": true
   },
   "outputs": [],
   "source": [
    "sns.kdeplot(y_axis)"
   ]
  },
  {
   "cell_type": "code",
   "execution_count": null,
   "metadata": {
    "ExecuteTime": {
     "end_time": "2020-07-19T11:42:51.873001Z",
     "start_time": "2020-07-19T11:42:51.785223Z"
    },
    "hidden": true
   },
   "outputs": [],
   "source": [
    "sns.kdeplot(y_axis, bw=0.1)"
   ]
  },
  {
   "cell_type": "code",
   "execution_count": null,
   "metadata": {
    "ExecuteTime": {
     "end_time": "2020-07-19T11:43:01.510386Z",
     "start_time": "2020-07-19T11:43:01.421624Z"
    },
    "hidden": true
   },
   "outputs": [],
   "source": [
    "sns.kdeplot(y_axis, vertical=True)"
   ]
  },
  {
   "cell_type": "markdown",
   "metadata": {
    "heading_collapsed": true
   },
   "source": [
    "# linespace"
   ]
  },
  {
   "cell_type": "code",
   "execution_count": null,
   "metadata": {
    "ExecuteTime": {
     "end_time": "2020-07-19T11:43:50.511235Z",
     "start_time": "2020-07-19T11:43:50.508243Z"
    },
    "hidden": true
   },
   "outputs": [],
   "source": [
    "x = np.linspace(-6, 6, 200)\n",
    "\n",
    "cos = np.cos(x)"
   ]
  },
  {
   "cell_type": "code",
   "execution_count": null,
   "metadata": {
    "ExecuteTime": {
     "end_time": "2020-07-19T11:44:11.531783Z",
     "start_time": "2020-07-19T11:44:11.441519Z"
    },
    "hidden": true
   },
   "outputs": [],
   "source": [
    "plt.plot(x, cos)"
   ]
  },
  {
   "cell_type": "code",
   "execution_count": null,
   "metadata": {
    "ExecuteTime": {
     "end_time": "2020-07-19T11:44:26.244621Z",
     "start_time": "2020-07-19T11:44:26.140899Z"
    },
    "hidden": true
   },
   "outputs": [],
   "source": [
    "plt.figure(figsize=(10,5))\n",
    "\n",
    "x = np.linspace(-6, 6, 200)\n",
    "\n",
    "cos = np.cos(x)\n",
    "sin = np.sin(x)\n",
    "\n",
    "plt.plot(x, cos)\n",
    "plt.plot(x, sin)"
   ]
  },
  {
   "cell_type": "code",
   "execution_count": null,
   "metadata": {
    "ExecuteTime": {
     "end_time": "2020-07-19T11:44:41.432659Z",
     "start_time": "2020-07-19T11:44:41.325944Z"
    },
    "hidden": true
   },
   "outputs": [],
   "source": [
    "plt.figure(figsize=(10,6))\n",
    "\n",
    "x = np.linspace(-6, 6, 200)\n",
    "\n",
    "cos = np.cos(x)\n",
    "sin = np.sin(x)\n",
    "\n",
    "plt.plot(x, cos, color='red', linewidth=2.0)\n",
    "plt.plot(x, sin, color='green', linewidth=3.0)"
   ]
  },
  {
   "cell_type": "code",
   "execution_count": null,
   "metadata": {
    "ExecuteTime": {
     "end_time": "2020-07-19T11:44:58.032461Z",
     "start_time": "2020-07-19T11:44:57.930734Z"
    },
    "hidden": true
   },
   "outputs": [],
   "source": [
    "plt.figure(figsize=(10,5))\n",
    "\n",
    "x = np.linspace(-6, 6, 200)\n",
    "\n",
    "cos = np.cos(x)\n",
    "sin = np.sin(x)\n",
    "\n",
    "plt.plot(x, cos, color='red', linewidth=2.5)\n",
    "plt.plot(x, sin, color='green', linewidth=3.5)\n",
    "\n",
    "plt.xlim(-9,9)\n",
    "plt.ylim(-1.4, 1.4)"
   ]
  },
  {
   "cell_type": "code",
   "execution_count": null,
   "metadata": {
    "ExecuteTime": {
     "end_time": "2020-07-19T11:45:18.609675Z",
     "start_time": "2020-07-19T11:45:18.506934Z"
    },
    "hidden": true
   },
   "outputs": [],
   "source": [
    "plt.figure(figsize=(10,5))\n",
    "\n",
    "x = np.linspace(-6, 6, 200)\n",
    "\n",
    "cos = np.cos(x)\n",
    "sin = np.sin(x)\n",
    "\n",
    "plt.plot(x, cos, color='red', linewidth=2.5)\n",
    "plt.plot(x, sin, color='green', linewidth=3.5)\n",
    "\n",
    "#plt.xlim(x.min()+0.5, x.max()+0.5)\n",
    "plt.xlim(x.min()-2, x.max()+2)\n",
    "plt.ylim(sin.min()*1.3, sin.max()*1.3)"
   ]
  },
  {
   "cell_type": "code",
   "execution_count": null,
   "metadata": {
    "ExecuteTime": {
     "end_time": "2020-07-19T11:45:29.032435Z",
     "start_time": "2020-07-19T11:45:28.959630Z"
    },
    "hidden": true,
    "scrolled": true
   },
   "outputs": [],
   "source": [
    "plt.figure(figsize=(10,5))\n",
    "\n",
    "x = np.linspace(-6, 6, 200)\n",
    "\n",
    "cos = np.cos(x)\n",
    "sin = np.sin(x)\n",
    "\n",
    "plt.plot(x, cos, color='red', linewidth=2.5)\n",
    "plt.plot(x, sin, color='green', linewidth=3.5)\n",
    "\n",
    "plt.xticks([-6,-3,0,1,3,6])\n",
    "plt.yticks([-1,-.4,0,.5,.8,1])"
   ]
  },
  {
   "cell_type": "markdown",
   "metadata": {
    "heading_collapsed": true
   },
   "source": [
    "# pairplots"
   ]
  },
  {
   "cell_type": "code",
   "execution_count": null,
   "metadata": {
    "ExecuteTime": {
     "end_time": "2020-07-19T11:48:05.548747Z",
     "start_time": "2020-07-19T11:48:04.894498Z"
    },
    "hidden": true
   },
   "outputs": [],
   "source": [
    "iris = sns.load_dataset('iris')"
   ]
  },
  {
   "cell_type": "code",
   "execution_count": null,
   "metadata": {
    "ExecuteTime": {
     "end_time": "2020-07-19T11:48:08.416883Z",
     "start_time": "2020-07-19T11:48:06.160111Z"
    },
    "hidden": true
   },
   "outputs": [],
   "source": [
    "sns.pairplot(iris)"
   ]
  },
  {
   "cell_type": "code",
   "execution_count": null,
   "metadata": {
    "ExecuteTime": {
     "end_time": "2020-07-19T11:48:25.230675Z",
     "start_time": "2020-07-19T11:48:23.844815Z"
    },
    "hidden": true
   },
   "outputs": [],
   "source": [
    "tips = sns.load_dataset('tips')\n",
    "sns.pairplot(tips)"
   ]
  },
  {
   "cell_type": "code",
   "execution_count": null,
   "metadata": {
    "ExecuteTime": {
     "end_time": "2020-07-19T11:48:47.264288Z",
     "start_time": "2020-07-19T11:48:44.279433Z"
    },
    "hidden": true
   },
   "outputs": [],
   "source": [
    "sns.pairplot(iris, hue='species')"
   ]
  },
  {
   "cell_type": "code",
   "execution_count": null,
   "metadata": {
    "ExecuteTime": {
     "end_time": "2020-07-19T11:48:56.155124Z",
     "start_time": "2020-07-19T11:48:52.983060Z"
    },
    "hidden": true
   },
   "outputs": [],
   "source": [
    "sns.pairplot(iris, hue='species', palette='husl')"
   ]
  },
  {
   "cell_type": "code",
   "execution_count": null,
   "metadata": {
    "ExecuteTime": {
     "end_time": "2020-07-19T11:49:15.771056Z",
     "start_time": "2020-07-19T11:49:12.487306Z"
    },
    "hidden": true
   },
   "outputs": [],
   "source": [
    "sns.pairplot(iris, hue='species', palette= 'husl', markers=['o', 'D', 's'])"
   ]
  },
  {
   "cell_type": "code",
   "execution_count": null,
   "metadata": {
    "ExecuteTime": {
     "end_time": "2020-07-19T11:49:28.967930Z",
     "start_time": "2020-07-19T11:49:28.375501Z"
    },
    "hidden": true
   },
   "outputs": [],
   "source": [
    "sns.pairplot(iris, vars=['sepal_length', 'sepal_width'])"
   ]
  },
  {
   "cell_type": "code",
   "execution_count": null,
   "metadata": {
    "ExecuteTime": {
     "end_time": "2020-07-19T11:49:42.700382Z",
     "start_time": "2020-07-19T11:49:42.263033Z"
    },
    "hidden": true
   },
   "outputs": [],
   "source": [
    "sns.pairplot(iris, x_vars=['petal_length', 'petal_width'], y_vars=['sepal_length', 'sepal_width'])"
   ]
  },
  {
   "cell_type": "code",
   "execution_count": null,
   "metadata": {
    "ExecuteTime": {
     "end_time": "2020-07-19T11:49:52.903207Z",
     "start_time": "2020-07-19T11:49:52.238975Z"
    },
    "hidden": true
   },
   "outputs": [],
   "source": [
    "sns.pairplot(iris, x_vars=['petal_length', 'petal_width'],\\\n",
    "             y_vars=['sepal_length', 'sepal_width'],\\\n",
    "            palette='husl', hue='species')"
   ]
  },
  {
   "cell_type": "code",
   "execution_count": null,
   "metadata": {
    "ExecuteTime": {
     "end_time": "2020-07-19T11:50:05.293248Z",
     "start_time": "2020-07-19T11:50:03.136482Z"
    },
    "hidden": true
   },
   "outputs": [],
   "source": [
    "sns.pairplot(iris, diag_kind='kde')"
   ]
  },
  {
   "cell_type": "code",
   "execution_count": null,
   "metadata": {
    "ExecuteTime": {
     "end_time": "2020-07-19T11:50:32.269272Z",
     "start_time": "2020-07-19T11:50:26.626474Z"
    },
    "hidden": true
   },
   "outputs": [],
   "source": [
    "sns.pairplot(iris, diag_kind='kde', palette='husl', hue='species',kind='reg')"
   ]
  },
  {
   "cell_type": "markdown",
   "metadata": {
    "heading_collapsed": true
   },
   "source": [
    "# pairgrid"
   ]
  },
  {
   "cell_type": "code",
   "execution_count": null,
   "metadata": {
    "ExecuteTime": {
     "end_time": "2020-07-19T11:51:19.248353Z",
     "start_time": "2020-07-19T11:51:17.283885Z"
    },
    "hidden": true
   },
   "outputs": [],
   "source": [
    "x = sns.PairGrid(iris)\n",
    "x = x.map(plt.scatter)"
   ]
  },
  {
   "cell_type": "code",
   "execution_count": null,
   "metadata": {
    "ExecuteTime": {
     "end_time": "2020-07-19T11:51:07.422665Z",
     "start_time": "2020-07-19T11:51:05.028521Z"
    },
    "hidden": true
   },
   "outputs": [],
   "source": [
    "x = sns.PairGrid(iris)\n",
    "x = x.map_diag(plt.hist)\n",
    "x = x.map_offdiag(plt.scatter)"
   ]
  },
  {
   "cell_type": "code",
   "execution_count": null,
   "metadata": {
    "ExecuteTime": {
     "end_time": "2020-07-19T11:51:53.089812Z",
     "start_time": "2020-07-19T11:51:50.118739Z"
    },
    "hidden": true,
    "scrolled": false
   },
   "outputs": [],
   "source": [
    "x = sns.PairGrid(iris, hue='species', palette='coolwarm')\n",
    "x = x.map_diag(plt.hist)\n",
    "x = x.map_offdiag(plt.scatter)\n",
    "x = x.add_legend()"
   ]
  },
  {
   "cell_type": "code",
   "execution_count": null,
   "metadata": {
    "ExecuteTime": {
     "end_time": "2020-07-19T11:52:08.484820Z",
     "start_time": "2020-07-19T11:52:05.706215Z"
    },
    "hidden": true
   },
   "outputs": [],
   "source": [
    "x = sns.PairGrid(iris, hue='species', palette='RdBu') # husl, winter_r, RdBu\n",
    "x = x.map_diag(plt.hist, histtype='step', linewidth=4)\n",
    "x = x.map_offdiag(plt.scatter)\n",
    "x = x.add_legend()"
   ]
  },
  {
   "cell_type": "code",
   "execution_count": null,
   "metadata": {
    "ExecuteTime": {
     "end_time": "2020-07-19T11:53:36.202093Z",
     "start_time": "2020-07-19T11:53:27.082865Z"
    },
    "hidden": true
   },
   "outputs": [],
   "source": [
    "x = sns.PairGrid(iris, hue='species', hue_kws={'marker':['D','s','+']})\n",
    "x = x.map_diag(plt.hist)\n",
    "x = x.map_upper(plt.scatter)\n",
    "x = x.map_lower(sns.kdeplot)\n",
    "x = x.add_legend()"
   ]
  },
  {
   "cell_type": "markdown",
   "metadata": {
    "heading_collapsed": true
   },
   "source": [
    "# regplot"
   ]
  },
  {
   "cell_type": "code",
   "execution_count": null,
   "metadata": {
    "hidden": true
   },
   "outputs": [],
   "source": [
    "sns.regplot(x='total_bill', y='tip', data=tips)"
   ]
  },
  {
   "cell_type": "code",
   "execution_count": null,
   "metadata": {
    "hidden": true
   },
   "outputs": [],
   "source": [
    "sns.regplot(x='total_bill', y='tip', data=tips, color='red')"
   ]
  },
  {
   "cell_type": "code",
   "execution_count": null,
   "metadata": {
    "hidden": true
   },
   "outputs": [],
   "source": [
    "mean = [2,5]\n",
    "cov = [[1.1, 0.4], [2.2,3]]\n",
    "\n",
    "x_value, y_value = np.random.multivariate_normal(mean, cov, 100).T\n",
    "\n",
    "sns.regplot(x=x_value, y=y_value)"
   ]
  },
  {
   "cell_type": "code",
   "execution_count": null,
   "metadata": {
    "hidden": true
   },
   "outputs": [],
   "source": [
    "series_x_value = pd.Series(x_value, name= \"Var-X\")\n",
    "series_y_value = pd.Series(y_value, name= \"Var-Y\")\n",
    "\n",
    "sns.regplot(x=series_x_value, y=series_y_value)"
   ]
  },
  {
   "cell_type": "code",
   "execution_count": null,
   "metadata": {
    "hidden": true
   },
   "outputs": [],
   "source": [
    "sns.regplot(x=series_x_value, y=series_y_value, marker='D', color='gray')"
   ]
  },
  {
   "cell_type": "code",
   "execution_count": null,
   "metadata": {
    "hidden": true
   },
   "outputs": [],
   "source": [
    "sns.regplot(x='total_bill', y='tip', data=tips, marker='D',\\\n",
    "           scatter_kws={'color':'blue'},\\\n",
    "           line_kws={'color':'red', 'linewidth':4.5})"
   ]
  },
  {
   "cell_type": "code",
   "execution_count": null,
   "metadata": {
    "hidden": true
   },
   "outputs": [],
   "source": [
    "sns.regplot(x=x_value, y=y_value, ci=34)"
   ]
  },
  {
   "cell_type": "code",
   "execution_count": null,
   "metadata": {
    "hidden": true
   },
   "outputs": [],
   "source": [
    "sns.regplot(x='size', y='total_bill', data=tips, x_jitter=0.08)"
   ]
  },
  {
   "cell_type": "code",
   "execution_count": null,
   "metadata": {
    "hidden": true
   },
   "outputs": [],
   "source": [
    "sns.regplot(x='size', y='total_bill', data=tips, x_jitter=0.13, scatter_kws={'color':'red'})"
   ]
  },
  {
   "cell_type": "code",
   "execution_count": null,
   "metadata": {
    "hidden": true
   },
   "outputs": [],
   "source": [
    "sns.regplot(x='size', y='total_bill', data=tips, x_estimator=np.mean)"
   ]
  },
  {
   "cell_type": "markdown",
   "metadata": {
    "heading_collapsed": true
   },
   "source": [
    "# stripplot"
   ]
  },
  {
   "cell_type": "code",
   "execution_count": null,
   "metadata": {
    "hidden": true
   },
   "outputs": [],
   "source": [
    "sns.stripplot(x=tips['total_bill'])"
   ]
  },
  {
   "cell_type": "code",
   "execution_count": null,
   "metadata": {
    "hidden": true
   },
   "outputs": [],
   "source": [
    "sns.stripplot(x='day', y='total_bill', data=tips)"
   ]
  },
  {
   "cell_type": "code",
   "execution_count": null,
   "metadata": {
    "hidden": true
   },
   "outputs": [],
   "source": [
    "sns.stripplot(x='day', y='total_bill', data=tips, jitter=True)"
   ]
  },
  {
   "cell_type": "code",
   "execution_count": null,
   "metadata": {
    "hidden": true
   },
   "outputs": [],
   "source": [
    "sns.stripplot(x='day', y='total_bill', data=tips, jitter=0.2)"
   ]
  },
  {
   "cell_type": "code",
   "execution_count": null,
   "metadata": {
    "hidden": true
   },
   "outputs": [],
   "source": [
    "sns.stripplot(x='total_bill', y='day', data=tips, jitter=1)"
   ]
  },
  {
   "cell_type": "code",
   "execution_count": null,
   "metadata": {
    "hidden": true
   },
   "outputs": [],
   "source": [
    "sns.stripplot(x='total_bill', y='day', data=tips, jitter=1, linewidth=1.5)"
   ]
  },
  {
   "cell_type": "code",
   "execution_count": null,
   "metadata": {
    "hidden": true
   },
   "outputs": [],
   "source": [
    "sns.stripplot(x='day', y='total_bill', data=tips, hue='sex', jitter=True)"
   ]
  },
  {
   "cell_type": "code",
   "execution_count": null,
   "metadata": {
    "hidden": true
   },
   "outputs": [],
   "source": [
    "sns.stripplot(x='day', y='total_bill', data=tips, hue='sex', jitter=True, split=True)"
   ]
  },
  {
   "cell_type": "code",
   "execution_count": null,
   "metadata": {
    "hidden": true
   },
   "outputs": [],
   "source": [
    "sns.stripplot(x='day', y='total_bill', data=tips, hue='smoker', jitter=True,\\\n",
    "              split=True, palette='winter_r', order=['Fri','Sun','Sat','Thur'])"
   ]
  },
  {
   "cell_type": "code",
   "execution_count": null,
   "metadata": {
    "hidden": true
   },
   "outputs": [],
   "source": [
    "sns.stripplot(x='tip', y='day', data=tips, jitter=True)\n",
    "sns.violinplot(x='tip', y='day', data=tips, color='0.9')"
   ]
  },
  {
   "cell_type": "markdown",
   "metadata": {
    "heading_collapsed": true
   },
   "source": [
    "# factorplot"
   ]
  },
  {
   "cell_type": "code",
   "execution_count": null,
   "metadata": {
    "hidden": true
   },
   "outputs": [],
   "source": [
    "sns.factorplot(x='time', y='pulse', data=exercise)"
   ]
  },
  {
   "cell_type": "code",
   "execution_count": null,
   "metadata": {
    "hidden": true
   },
   "outputs": [],
   "source": [
    "sns.factorplot(x='time', y='pulse', data=exercise, hue='kind')"
   ]
  },
  {
   "cell_type": "code",
   "execution_count": null,
   "metadata": {
    "hidden": true
   },
   "outputs": [],
   "source": [
    "sns.factorplot(x='time', y='pulse', hue='kind', data=exercise, kind='bar')"
   ]
  },
  {
   "cell_type": "code",
   "execution_count": null,
   "metadata": {
    "hidden": true
   },
   "outputs": [],
   "source": [
    "sns.factorplot(x='time', y='pulse', hue='kind', data=exercise, kind='violin')"
   ]
  },
  {
   "cell_type": "code",
   "execution_count": null,
   "metadata": {
    "hidden": true
   },
   "outputs": [],
   "source": [
    "sns.factorplot(x='time', y='pulse', hue='kind', data=exercise, kind='box') # strip, point"
   ]
  },
  {
   "cell_type": "code",
   "execution_count": null,
   "metadata": {
    "hidden": true
   },
   "outputs": [],
   "source": [
    "sns.factorplot(x='time', y='pulse', hue='kind', data=exercise, size=6)"
   ]
  },
  {
   "cell_type": "code",
   "execution_count": null,
   "metadata": {
    "hidden": true
   },
   "outputs": [],
   "source": [
    "sns.factorplot(x='time', y='pulse', data=exercise, col='diet', hue='kind')"
   ]
  },
  {
   "cell_type": "code",
   "execution_count": null,
   "metadata": {
    "hidden": true
   },
   "outputs": [],
   "source": [
    "sns.factorplot(x='time', y='pulse', data=exercise, col='diet', hue='kind', size=8)"
   ]
  },
  {
   "cell_type": "code",
   "execution_count": null,
   "metadata": {
    "hidden": true
   },
   "outputs": [],
   "source": [
    "sns.factorplot(x='who', y='survived', data=titanic, kind='bar')"
   ]
  },
  {
   "cell_type": "code",
   "execution_count": null,
   "metadata": {
    "hidden": true
   },
   "outputs": [],
   "source": [
    "sns.factorplot(x='who', y='survived', data=titanic, kind='bar', col='class')"
   ]
  },
  {
   "cell_type": "code",
   "execution_count": null,
   "metadata": {
    "hidden": true
   },
   "outputs": [],
   "source": [
    "sns.factorplot(x='who', y='survived', data=titanic, kind='bar', col='class', ci=None)"
   ]
  },
  {
   "cell_type": "markdown",
   "metadata": {
    "heading_collapsed": true
   },
   "source": [
    "# subplots"
   ]
  },
  {
   "cell_type": "code",
   "execution_count": null,
   "metadata": {
    "ExecuteTime": {
     "end_time": "2020-07-19T11:45:39.427235Z",
     "start_time": "2020-07-19T11:45:39.257689Z"
    },
    "hidden": true
   },
   "outputs": [],
   "source": [
    "\n",
    "plt.figure(figsize=(10,5))\n",
    "plt.subplot(211)\n",
    "\n",
    "x = np.linspace(-10,10,150)\n",
    "cos = np.cos(x)\n",
    "sin = np.sin(x)\n",
    "\n",
    "plt.plot(x, cos, color='red', linewidth=2.4)\n",
    "\n",
    "plt.subplot(212)\n",
    "\n",
    "plt.plot(x, sin, color='green', linewidth=3.4)"
   ]
  },
  {
   "cell_type": "code",
   "execution_count": null,
   "metadata": {
    "ExecuteTime": {
     "end_time": "2020-07-19T11:45:47.794978Z",
     "start_time": "2020-07-19T11:45:47.638890Z"
    },
    "hidden": true
   },
   "outputs": [],
   "source": [
    "plt.subplot(121)\n",
    "\n",
    "x = np.linspace(-10,10,150)\n",
    "cos = np.cos(x)\n",
    "sin = np.sin(x)\n",
    "\n",
    "plt.plot(x, cos, color='red', linewidth=2.4)\n",
    "\n",
    "plt.subplot(122)\n",
    "\n",
    "plt.plot(x, sin, color='green', linewidth=3.4)"
   ]
  },
  {
   "cell_type": "markdown",
   "metadata": {
    "heading_collapsed": true
   },
   "source": [
    "# labels"
   ]
  },
  {
   "cell_type": "code",
   "execution_count": null,
   "metadata": {
    "ExecuteTime": {
     "end_time": "2020-07-19T11:46:24.347100Z",
     "start_time": "2020-07-19T11:46:24.251356Z"
    },
    "hidden": true
   },
   "outputs": [],
   "source": [
    "x = np.linspace(-10,10,150)\n",
    "cos = np.cos(x)\n",
    "sin = np.sin(x)\n",
    "\n",
    "plt.plot(x, cos, color='red', linewidth=3.0)"
   ]
  },
  {
   "cell_type": "code",
   "execution_count": null,
   "metadata": {
    "ExecuteTime": {
     "end_time": "2020-07-19T11:46:33.026513Z",
     "start_time": "2020-07-19T11:46:32.886887Z"
    },
    "hidden": true
   },
   "outputs": [],
   "source": [
    "plt.plot(x, cos, color='red', linewidth=3.0)\n",
    "\n",
    "plt.xlabel('X-axis')\n",
    "plt.ylabel('cosx')\n",
    "plt.title(\"Graph of x vs cosx\")"
   ]
  },
  {
   "cell_type": "code",
   "execution_count": null,
   "metadata": {
    "ExecuteTime": {
     "end_time": "2020-07-19T11:46:41.672024Z",
     "start_time": "2020-07-19T11:46:41.550843Z"
    },
    "hidden": true
   },
   "outputs": [],
   "source": [
    "plt.plot(x, cos, color='red', linewidth=3.0)\n",
    "\n",
    "plt.xlabel('X-axis', fontsize=15, color='green')\n",
    "plt.ylabel('cosx', fontsize=15, color='blue')\n",
    "plt.title(\"Graph of x vs cosx\")\n",
    "plt.grid(True)"
   ]
  },
  {
   "cell_type": "code",
   "execution_count": null,
   "metadata": {
    "ExecuteTime": {
     "end_time": "2020-07-19T11:46:49.373536Z",
     "start_time": "2020-07-19T11:46:49.245373Z"
    },
    "hidden": true
   },
   "outputs": [],
   "source": [
    "plt.plot(x, cos, color='red', linewidth=3.0)\n",
    "\n",
    "plt.xlabel('X-axis', fontsize=15, color='green')\n",
    "plt.ylabel('cosx', fontsize=15, color='blue')\n",
    "plt.title(\"Graph of x vs cosx\")\n",
    "plt.grid(True)\n",
    "\n",
    "plt.annotate('this is one max value', xy=(0,1), xytext=(5, 0.5),\\\n",
    "             arrowprops=dict(facecolor='black', shrink=0.09))"
   ]
  },
  {
   "cell_type": "code",
   "execution_count": null,
   "metadata": {
    "ExecuteTime": {
     "end_time": "2020-07-19T11:46:58.584014Z",
     "start_time": "2020-07-19T11:46:58.458350Z"
    },
    "hidden": true
   },
   "outputs": [],
   "source": [
    "plt.plot(x, cos, color='red', linewidth=3.0)\n",
    "\n",
    "plt.xlabel('X-axis', fontsize=15, color='green')\n",
    "plt.ylabel('cosx', fontsize=15, color='blue')\n",
    "plt.title(\"Graph of x vs cosx\")\n",
    "plt.grid(True)\n",
    "\n",
    "plt.annotate('this is one max value', xy=(0,1), xytext=(7, 0.3),\\\n",
    "             arrowprops=dict(facecolor='black', shrink=0.14))"
   ]
  },
  {
   "cell_type": "code",
   "execution_count": null,
   "metadata": {
    "ExecuteTime": {
     "end_time": "2020-07-19T11:47:23.629805Z",
     "start_time": "2020-07-19T11:47:23.496163Z"
    },
    "hidden": true
   },
   "outputs": [],
   "source": [
    "plt.plot(x, cos, color='red', linewidth=3.0)\n",
    "\n",
    "plt.xlabel('X-axis', fontsize=15, color='green')\n",
    "plt.ylabel('cosx', fontsize=15, color='blue')\n",
    "plt.title(\"Graph of x vs cosx\")\n",
    "plt.text(-4, -0.3, 'This text will be displayed across our plot', rotation=20, fontsize=14)\n",
    "plt.grid(True)\n",
    "\n",
    "plt.annotate('this is one max value', xy=(0,1), xytext=(2.5, 1.5),\\\n",
    "             arrowprops=dict(facecolor='black', shrink=0.09))"
   ]
  },
  {
   "cell_type": "markdown",
   "metadata": {
    "heading_collapsed": true
   },
   "source": [
    "# subplots"
   ]
  },
  {
   "cell_type": "code",
   "execution_count": null,
   "metadata": {
    "hidden": true
   },
   "outputs": [],
   "source": [
    "import pandas as pd\n",
    "from matplotlib import pyplot as plt\n",
    "\n",
    "plt.style.use('seaborn')\n",
    "\n",
    "data = pd.read_csv('data.csv')\n",
    "ages = data['Age']\n",
    "dev_salaries = data['All_Devs']\n",
    "py_salaries = data['Python']\n",
    "js_salaries = data['JavaScript']\n",
    "\n",
    "plt.plot(ages, py_salaries, label='Python')\n",
    "plt.plot(ages, js_salaries, label='JavaScript')\n",
    "\n",
    "plt.plot(ages, dev_salaries, color='#444444',\n",
    "         linestyle='--', label='All Devs')\n",
    "\n",
    "plt.legend()\n",
    "\n",
    "plt.title('Median Salary (USD) by Age')\n",
    "plt.xlabel('Ages')\n",
    "plt.ylabel('Median Salary (USD)')\n",
    "\n",
    "plt.tight_layout()\n",
    "\n",
    "plt.show()"
   ]
  },
  {
   "cell_type": "code",
   "execution_count": null,
   "metadata": {
    "hidden": true
   },
   "outputs": [],
   "source": [
    "import pandas as pd\n",
    "from matplotlib import pyplot as plt\n",
    "\n",
    "plt.style.use('seaborn')\n",
    "\n",
    "data = pd.read_csv('data.csv')\n",
    "ages = data['Age']\n",
    "dev_salaries = data['All_Devs']\n",
    "py_salaries = data['Python']\n",
    "js_salaries = data['JavaScript']\n",
    "\n",
    "fig1, ax1 = plt.subplots()\n",
    "fig2, ax2 = plt.subplots()\n",
    "\n",
    "ax1.plot(ages, dev_salaries, color='#444444',\n",
    "         linestyle='--', label='All Devs')\n",
    "\n",
    "ax2.plot(ages, py_salaries, label='Python')\n",
    "ax2.plot(ages, js_salaries, label='JavaScript')\n",
    "\n",
    "ax1.legend()\n",
    "ax1.set_title('Median Salary (USD) by Age')\n",
    "ax1.set_ylabel('Median Salary (USD)')\n",
    "\n",
    "ax2.legend()\n",
    "ax2.set_xlabel('Ages')\n",
    "ax2.set_ylabel('Median Salary (USD)')\n",
    "\n",
    "plt.tight_layout()\n",
    "\n",
    "plt.show()\n",
    "\n",
    "fig1.savefig('fig1.png')\n",
    "fig2.savefig('fig2.png')"
   ]
  },
  {
   "cell_type": "markdown",
   "metadata": {
    "heading_collapsed": true
   },
   "source": [
    "# live data"
   ]
  },
  {
   "cell_type": "code",
   "execution_count": null,
   "metadata": {
    "hidden": true
   },
   "outputs": [],
   "source": [
    "import csv\n",
    "import random\n",
    "import time\n",
    "\n",
    "x_value = 0\n",
    "total_1 = 1000\n",
    "total_2 = 1000\n",
    "\n",
    "fieldnames = [\"x_value\", \"total_1\", \"total_2\"]\n",
    "\n",
    "\n",
    "with open('data.csv', 'w') as csv_file:\n",
    "    csv_writer = csv.DictWriter(csv_file, fieldnames=fieldnames)\n",
    "    csv_writer.writeheader()\n",
    "\n",
    "while True:\n",
    "\n",
    "    with open('data.csv', 'a') as csv_file:\n",
    "        csv_writer = csv.DictWriter(csv_file, fieldnames=fieldnames)\n",
    "\n",
    "        info = {\n",
    "            \"x_value\": x_value,\n",
    "            \"total_1\": total_1,\n",
    "            \"total_2\": total_2\n",
    "        }\n",
    "\n",
    "        csv_writer.writerow(info)\n",
    "        print(x_value, total_1, total_2)\n",
    "\n",
    "        x_value += 1\n",
    "        total_1 = total_1 + random.randint(-6, 8)\n",
    "        total_2 = total_2 + random.randint(-5, 6)\n",
    "\n",
    "    time.sleep(1)"
   ]
  },
  {
   "cell_type": "code",
   "execution_count": null,
   "metadata": {
    "hidden": true
   },
   "outputs": [],
   "source": [
    "import random\n",
    "from itertools import count\n",
    "import pandas as pd\n",
    "import matplotlib.pyplot as plt\n",
    "\n",
    "plt.style.use('fivethirtyeight')\n",
    "\n",
    "x_vals = [0, 1, 2, 3, 4, 5]\n",
    "y_vals = [0, 1, 3, 2, 3, 5]\n",
    "\n",
    "plt.plot(x_vals, y_vals)\n",
    "\n",
    "\n",
    "# index = count()\n",
    "\n",
    "# def animate(i):\n",
    "#     x_vals.append(next(index))\n",
    "#     y_vals.append(random.randint(0, 5))\n",
    "\n",
    "\n",
    "plt.tight_layout()\n",
    "plt.show()\n",
    "\n",
    "\n",
    "# data = pd.read_csv('data.csv')\n",
    "# x = data['x_value']\n",
    "# y1 = data['total_1']\n",
    "# y2 = data['total_2']"
   ]
  },
  {
   "cell_type": "code",
   "execution_count": null,
   "metadata": {
    "hidden": true
   },
   "outputs": [],
   "source": [
    "import random\n",
    "from itertools import count\n",
    "import pandas as pd\n",
    "import matplotlib.pyplot as plt\n",
    "from matplotlib.animation import FuncAnimation\n",
    "\n",
    "plt.style.use('fivethirtyeight')\n",
    "\n",
    "x_vals = []\n",
    "y_vals = []\n",
    "\n",
    "index = count()\n",
    "\n",
    "\n",
    "def animate(i):\n",
    "    data = pd.read_csv('data.csv')\n",
    "    x = data['x_value']\n",
    "    y1 = data['total_1']\n",
    "    y2 = data['total_2']\n",
    "\n",
    "    plt.cla()\n",
    "\n",
    "    plt.plot(x, y1, label='Channel 1')\n",
    "    plt.plot(x, y2, label='Channel 2')\n",
    "\n",
    "    plt.legend(loc='upper left')\n",
    "    plt.tight_layout()\n",
    "\n",
    "\n",
    "ani = FuncAnimation(plt.gcf(), animate, interval=1000)\n",
    "\n",
    "plt.tight_layout()\n",
    "plt.show()"
   ]
  },
  {
   "cell_type": "code",
   "execution_count": null,
   "metadata": {
    "hidden": true
   },
   "outputs": [],
   "source": [
    "  \n",
    "# Another way to do it without clearing the Axis\n",
    "from itertools import count\n",
    "import pandas as pd\n",
    "import matplotlib.pyplot as plt\n",
    "from matplotlib.animation import FuncAnimation\n",
    "\n",
    "plt.style.use('fivethirtyeight')\n",
    "\n",
    "x_vals = []\n",
    "y_vals = []\n",
    "\n",
    "plt.plot([], [], label='Channel 1')\n",
    "plt.plot([], [], label='Channel 2')\n",
    "\n",
    "\n",
    "def animate(i):\n",
    "    data = pd.read_csv('data.csv')\n",
    "    x = data['x_value']\n",
    "    y1 = data['total_1']\n",
    "    y2 = data['total_2']\n",
    "\n",
    "    ax = plt.gca()\n",
    "    line1, line2 = ax.lines\n",
    "\n",
    "    line1.set_data(x, y1)\n",
    "    line2.set_data(x, y2)\n",
    "\n",
    "    xlim_low, xlim_high = ax.get_xlim()\n",
    "    ylim_low, ylim_high = ax.get_ylim()\n",
    "\n",
    "    ax.set_xlim(xlim_low, (x.max() + 5))\n",
    "\n",
    "    y1max = y1.max()\n",
    "    y2max = y2.max()\n",
    "    current_ymax = y1max if (y1max > y2max) else y2max\n",
    "\n",
    "    y1min = y1.min()\n",
    "    y2min = y2.min()\n",
    "    current_ymin = y1min if (y1min < y2min) else y2min\n",
    "\n",
    "    ax.set_ylim((current_ymin - 5), (current_ymax + 5))\n",
    "\n",
    "\n",
    "ani = FuncAnimation(plt.gcf(), animate, interval=1000)\n",
    "\n",
    "plt.legend()\n",
    "plt.tight_layout()\n",
    "plt.show()"
   ]
  }
 ],
 "metadata": {
  "kernelspec": {
   "display_name": "Python 3",
   "language": "python",
   "name": "python3"
  },
  "language_info": {
   "codemirror_mode": {
    "name": "ipython",
    "version": 3
   },
   "file_extension": ".py",
   "mimetype": "text/x-python",
   "name": "python",
   "nbconvert_exporter": "python",
   "pygments_lexer": "ipython3",
   "version": "3.7.6"
  },
  "varInspector": {
   "cols": {
    "lenName": 16,
    "lenType": 16,
    "lenVar": "100"
   },
   "kernels_config": {
    "python": {
     "delete_cmd_postfix": "",
     "delete_cmd_prefix": "del ",
     "library": "var_list.py",
     "varRefreshCmd": "print(var_dic_list())"
    },
    "r": {
     "delete_cmd_postfix": ") ",
     "delete_cmd_prefix": "rm(",
     "library": "var_list.r",
     "varRefreshCmd": "cat(var_dic_list()) "
    }
   },
   "types_to_exclude": [
    "module",
    "function",
    "builtin_function_or_method",
    "instance",
    "_Feature"
   ],
   "window_display": false
  }
 },
 "nbformat": 4,
 "nbformat_minor": 4
}
