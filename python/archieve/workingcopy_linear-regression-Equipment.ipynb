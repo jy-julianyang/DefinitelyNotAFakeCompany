{
 "cells": [
  {
   "cell_type": "markdown",
   "metadata": {},
   "source": [
    "# Lead generation customer value exploration"
   ]
  },
  {
   "cell_type": "code",
   "execution_count": 1,
   "metadata": {
    "ExecuteTime": {
     "end_time": "2020-05-04T04:02:53.483937Z",
     "start_time": "2020-05-04T04:02:49.990283Z"
    }
   },
   "outputs": [],
   "source": [
    "## Load libraries (o_o)=<\n",
    "\n",
    "import numpy as np\n",
    "import pandas as pd\n",
    "import seaborn as sns\n",
    "import matplotlib.pyplot as plt\n",
    "import statsmodels.api as sm\n",
    "import math \n",
    "import pickle\n",
    "import pylab\n",
    "\n",
    "from scipy import stats\n",
    "from scipy.stats import kurtosis, skew\n",
    "from statsmodels.stats import diagnostic as diag\n",
    "from statsmodels.stats.outliers_influence import variance_inflation_factor\n",
    "from sklearn.model_selection import train_test_split\n",
    "from sklearn.linear_model import LinearRegression\n",
    "from sklearn.metrics import mean_squared_error, r2_score, mean_absolute_error\n",
    "\n",
    "%matplotlib inline\n",
    "pd.options.display.max_rows = 10\n",
    "pd.set_option('display.precision', 2)\n",
    "pd.options.display.float_format = '{:8,.2f}'.format"
   ]
  },
  {
   "cell_type": "code",
   "execution_count": 7,
   "metadata": {
    "ExecuteTime": {
     "end_time": "2020-05-04T04:05:23.316556Z",
     "start_time": "2020-05-04T04:05:15.291996Z"
    },
    "scrolled": false
   },
   "outputs": [
    {
     "data": {
      "text/plain": [
       "Index(['Age_Months', 'LTDSMU', 'CalculatedAnnualUsage', 'HistoricAnnualUsage',\n",
       "       'PARTS_EQ_0_12M', 'PARTS_COUNT_EQ_0_12M', 'PARTS_BACKOUT_Percentage_EQ',\n",
       "       'SERVICES_EQ_0_12M', 'SERVICES_COUNT_EQ_0_12M',\n",
       "       'SERVICES_BACKOUT_Percentage_EQ', 'SOS_COUNT_EQ_0_12M',\n",
       "       'PLSubscriptionActive', 'PLDeviceActive', 'EMT', 'MARC', 'PMContract',\n",
       "       'Warranty_Days_Remaining', 'CSA_Days_Remaining', 'Lease_Days_Remaining',\n",
       "       'FuelConsumptionPercentageOverAverage', 'IdlingPercent', 'OLGAAmount',\n",
       "       'WODollarTotal', 'POPS_EQ', 'AverageDaysToPay',\n",
       "       'PARTS_Total_Per_CatFleetSize', 'PARTS_Count_Per_CatFleetSize',\n",
       "       'PARTS_Count_Per_500HR_Utilized', 'PartsReturnPercentage_CU',\n",
       "       'SERVICES_Total_Per_CatFleetSize', 'SERVICES_Count_Per_CatFleetSize',\n",
       "       'SERVICES_Count_Per_500HR_Utilized', 'SOS_Count_Per_CatFleetSize',\n",
       "       'SOS_Count_Per_500HR_Utilized', 'ServicesBackOutPercentage_CU',\n",
       "       'Percentage_PLDeviceSerialNumber', 'PercentageFleetUtilized',\n",
       "       'Percentage_Cat', 'Avg_AnnualUsage', 'Avg_HistoricAnnualUsage',\n",
       "       'PartsDCAL', 'ServiceDCAL', 'Average_Fleet_Age_Months',\n",
       "       'Average_Fleet_Hours', 'UtilizationOverFleetAverage'],\n",
       "      dtype='object')"
      ]
     },
     "execution_count": 7,
     "metadata": {},
     "output_type": "execute_result"
    }
   ],
   "source": [
    "## Load and verify data set (o_o)=====<\n",
    "\n",
    "#load data\n",
    "data = pd.read_excel('..\\\\data\\\\LeadData_Equipment_All.xlsx', index_col='SerialNumber')\n",
    "\n",
    "#Show summary\n",
    "#data.head()\n",
    "\n",
    "#Verify data types\n",
    "data = data.astype(float)\n",
    "#data.dtypes\n",
    "\n",
    "#Verify data size\n",
    "#data.shape\n",
    "\n",
    "# Print data columns for copy and paste\n",
    "data.columns"
   ]
  },
  {
   "cell_type": "markdown",
   "metadata": {},
   "source": [
    "# Explore the data in multiple linear regression (o_o)!~/\\"
   ]
  },
  {
   "cell_type": "markdown",
   "metadata": {
    "ExecuteTime": {
     "end_time": "2020-04-29T13:19:53.376286Z",
     "start_time": "2020-04-29T13:19:53.374291Z"
    }
   },
   "source": [
    "## Verify Data and building correlation matrix"
   ]
  },
  {
   "cell_type": "code",
   "execution_count": 8,
   "metadata": {
    "ExecuteTime": {
     "end_time": "2020-05-04T04:05:29.069194Z",
     "start_time": "2020-05-04T04:05:29.037280Z"
    },
    "scrolled": true
   },
   "outputs": [
    {
     "data": {
      "text/plain": [
       "Age_Months                      True\n",
       "LTDSMU                          True\n",
       "CalculatedAnnualUsage          False\n",
       "HistoricAnnualUsage             True\n",
       "PARTS_EQ_0_12M                 False\n",
       "                               ...  \n",
       "PartsDCAL                      False\n",
       "ServiceDCAL                    False\n",
       "Average_Fleet_Age_Months        True\n",
       "Average_Fleet_Hours             True\n",
       "UtilizationOverFleetAverage     True\n",
       "Length: 45, dtype: bool"
      ]
     },
     "metadata": {},
     "output_type": "display_data"
    },
    {
     "data": {
      "text/plain": [
       "(6592, 45)"
      ]
     },
     "execution_count": 8,
     "metadata": {},
     "output_type": "execute_result"
    }
   ],
   "source": [
    "# check for missing values\n",
    "display(data.isna().any())\n",
    "\n",
    "# verify/drop any missing values\n",
    "#customer_filtered.isna().any()\n",
    "data_dropna = data.dropna() \n",
    "#instead of dropna. i decided to drop columns instead.\n",
    "#data_dropna = data.drop(['Average_Fleet_Age_Months','Average_Fleet_Hours'], axis = 1)\n",
    "# verify data size\n",
    "data_dropna.shape"
   ]
  },
  {
   "cell_type": "code",
   "execution_count": 9,
   "metadata": {
    "ExecuteTime": {
     "end_time": "2020-05-04T04:05:34.685692Z",
     "start_time": "2020-05-04T04:05:34.675719Z"
    }
   },
   "outputs": [
    {
     "data": {
      "text/plain": [
       "(4910, 45)"
      ]
     },
     "execution_count": 9,
     "metadata": {},
     "output_type": "execute_result"
    }
   ],
   "source": [
    "#remove extreme outliers:\n",
    "#If you have multiple columns in your dataframe and would like to remove all \n",
    "#rows that have outliers in at least one column, the following expression \n",
    "#would do that in one shot: select absolute Z score for the row <3 (). .all or .any\n",
    "\n",
    "data_filtered_by_z = data_dropna[(np.abs(stats.zscore(data_dropna)) < 3).all(axis=1)]\n",
    "data_filtered_by_z.shape"
   ]
  },
  {
   "cell_type": "code",
   "execution_count": 10,
   "metadata": {
    "ExecuteTime": {
     "end_time": "2020-05-04T04:05:36.769622Z",
     "start_time": "2020-05-04T04:05:36.671884Z"
    }
   },
   "outputs": [
    {
     "data": {
      "text/html": [
       "<div>\n",
       "<style scoped>\n",
       "    .dataframe tbody tr th:only-of-type {\n",
       "        vertical-align: middle;\n",
       "    }\n",
       "\n",
       "    .dataframe tbody tr th {\n",
       "        vertical-align: top;\n",
       "    }\n",
       "\n",
       "    .dataframe thead th {\n",
       "        text-align: right;\n",
       "    }\n",
       "</style>\n",
       "<table border=\"1\" class=\"dataframe\">\n",
       "  <thead>\n",
       "    <tr style=\"text-align: right;\">\n",
       "      <th></th>\n",
       "      <th>Age_Months</th>\n",
       "      <th>LTDSMU</th>\n",
       "      <th>CalculatedAnnualUsage</th>\n",
       "      <th>HistoricAnnualUsage</th>\n",
       "      <th>PARTS_EQ_0_12M</th>\n",
       "      <th>PARTS_COUNT_EQ_0_12M</th>\n",
       "      <th>PARTS_BACKOUT_Percentage_EQ</th>\n",
       "      <th>SERVICES_EQ_0_12M</th>\n",
       "      <th>SERVICES_COUNT_EQ_0_12M</th>\n",
       "      <th>SERVICES_BACKOUT_Percentage_EQ</th>\n",
       "      <th>...</th>\n",
       "      <th>Percentage_PLDeviceSerialNumber</th>\n",
       "      <th>PercentageFleetUtilized</th>\n",
       "      <th>Percentage_Cat</th>\n",
       "      <th>Avg_AnnualUsage</th>\n",
       "      <th>Avg_HistoricAnnualUsage</th>\n",
       "      <th>PartsDCAL</th>\n",
       "      <th>ServiceDCAL</th>\n",
       "      <th>Average_Fleet_Age_Months</th>\n",
       "      <th>Average_Fleet_Hours</th>\n",
       "      <th>UtilizationOverFleetAverage</th>\n",
       "    </tr>\n",
       "  </thead>\n",
       "  <tbody>\n",
       "    <tr>\n",
       "      <th>Age_Months</th>\n",
       "      <td>1.00</td>\n",
       "      <td>0.61</td>\n",
       "      <td>-0.02</td>\n",
       "      <td>0.19</td>\n",
       "      <td>0.20</td>\n",
       "      <td>0.24</td>\n",
       "      <td>0.08</td>\n",
       "      <td>0.03</td>\n",
       "      <td>-0.04</td>\n",
       "      <td>0.08</td>\n",
       "      <td>...</td>\n",
       "      <td>-0.06</td>\n",
       "      <td>-0.04</td>\n",
       "      <td>0.01</td>\n",
       "      <td>0.01</td>\n",
       "      <td>0.01</td>\n",
       "      <td>-0.04</td>\n",
       "      <td>0.02</td>\n",
       "      <td>0.33</td>\n",
       "      <td>0.23</td>\n",
       "      <td>-0.01</td>\n",
       "    </tr>\n",
       "    <tr>\n",
       "      <th>LTDSMU</th>\n",
       "      <td>0.61</td>\n",
       "      <td>1.00</td>\n",
       "      <td>0.24</td>\n",
       "      <td>0.51</td>\n",
       "      <td>0.24</td>\n",
       "      <td>0.28</td>\n",
       "      <td>0.08</td>\n",
       "      <td>0.11</td>\n",
       "      <td>0.07</td>\n",
       "      <td>0.09</td>\n",
       "      <td>...</td>\n",
       "      <td>-0.03</td>\n",
       "      <td>-0.01</td>\n",
       "      <td>0.02</td>\n",
       "      <td>0.17</td>\n",
       "      <td>0.05</td>\n",
       "      <td>-0.01</td>\n",
       "      <td>0.03</td>\n",
       "      <td>0.23</td>\n",
       "      <td>0.36</td>\n",
       "      <td>0.06</td>\n",
       "    </tr>\n",
       "    <tr>\n",
       "      <th>CalculatedAnnualUsage</th>\n",
       "      <td>-0.02</td>\n",
       "      <td>0.24</td>\n",
       "      <td>1.00</td>\n",
       "      <td>0.67</td>\n",
       "      <td>0.23</td>\n",
       "      <td>0.31</td>\n",
       "      <td>0.09</td>\n",
       "      <td>0.19</td>\n",
       "      <td>0.29</td>\n",
       "      <td>0.09</td>\n",
       "      <td>...</td>\n",
       "      <td>0.07</td>\n",
       "      <td>0.13</td>\n",
       "      <td>-0.03</td>\n",
       "      <td>0.48</td>\n",
       "      <td>0.06</td>\n",
       "      <td>0.04</td>\n",
       "      <td>0.04</td>\n",
       "      <td>0.02</td>\n",
       "      <td>0.20</td>\n",
       "      <td>0.34</td>\n",
       "    </tr>\n",
       "    <tr>\n",
       "      <th>HistoricAnnualUsage</th>\n",
       "      <td>0.19</td>\n",
       "      <td>0.51</td>\n",
       "      <td>0.67</td>\n",
       "      <td>1.00</td>\n",
       "      <td>0.27</td>\n",
       "      <td>0.32</td>\n",
       "      <td>0.08</td>\n",
       "      <td>0.16</td>\n",
       "      <td>0.19</td>\n",
       "      <td>0.08</td>\n",
       "      <td>...</td>\n",
       "      <td>0.03</td>\n",
       "      <td>0.06</td>\n",
       "      <td>-0.00</td>\n",
       "      <td>0.39</td>\n",
       "      <td>0.11</td>\n",
       "      <td>0.04</td>\n",
       "      <td>0.02</td>\n",
       "      <td>0.11</td>\n",
       "      <td>0.30</td>\n",
       "      <td>0.17</td>\n",
       "    </tr>\n",
       "    <tr>\n",
       "      <th>PARTS_EQ_0_12M</th>\n",
       "      <td>0.20</td>\n",
       "      <td>0.24</td>\n",
       "      <td>0.23</td>\n",
       "      <td>0.27</td>\n",
       "      <td>1.00</td>\n",
       "      <td>0.76</td>\n",
       "      <td>0.17</td>\n",
       "      <td>0.10</td>\n",
       "      <td>0.03</td>\n",
       "      <td>0.22</td>\n",
       "      <td>...</td>\n",
       "      <td>-0.01</td>\n",
       "      <td>0.01</td>\n",
       "      <td>-0.04</td>\n",
       "      <td>0.14</td>\n",
       "      <td>0.04</td>\n",
       "      <td>0.14</td>\n",
       "      <td>0.03</td>\n",
       "      <td>0.10</td>\n",
       "      <td>0.17</td>\n",
       "      <td>0.06</td>\n",
       "    </tr>\n",
       "    <tr>\n",
       "      <th>...</th>\n",
       "      <td>...</td>\n",
       "      <td>...</td>\n",
       "      <td>...</td>\n",
       "      <td>...</td>\n",
       "      <td>...</td>\n",
       "      <td>...</td>\n",
       "      <td>...</td>\n",
       "      <td>...</td>\n",
       "      <td>...</td>\n",
       "      <td>...</td>\n",
       "      <td>...</td>\n",
       "      <td>...</td>\n",
       "      <td>...</td>\n",
       "      <td>...</td>\n",
       "      <td>...</td>\n",
       "      <td>...</td>\n",
       "      <td>...</td>\n",
       "      <td>...</td>\n",
       "      <td>...</td>\n",
       "      <td>...</td>\n",
       "      <td>...</td>\n",
       "    </tr>\n",
       "    <tr>\n",
       "      <th>PartsDCAL</th>\n",
       "      <td>-0.04</td>\n",
       "      <td>-0.01</td>\n",
       "      <td>0.04</td>\n",
       "      <td>0.04</td>\n",
       "      <td>0.14</td>\n",
       "      <td>0.14</td>\n",
       "      <td>0.02</td>\n",
       "      <td>0.15</td>\n",
       "      <td>0.18</td>\n",
       "      <td>0.02</td>\n",
       "      <td>...</td>\n",
       "      <td>0.30</td>\n",
       "      <td>0.31</td>\n",
       "      <td>0.01</td>\n",
       "      <td>0.24</td>\n",
       "      <td>0.11</td>\n",
       "      <td>1.00</td>\n",
       "      <td>0.55</td>\n",
       "      <td>-0.15</td>\n",
       "      <td>0.02</td>\n",
       "      <td>-0.20</td>\n",
       "    </tr>\n",
       "    <tr>\n",
       "      <th>ServiceDCAL</th>\n",
       "      <td>0.02</td>\n",
       "      <td>0.03</td>\n",
       "      <td>0.04</td>\n",
       "      <td>0.02</td>\n",
       "      <td>0.03</td>\n",
       "      <td>0.02</td>\n",
       "      <td>-0.00</td>\n",
       "      <td>0.30</td>\n",
       "      <td>0.40</td>\n",
       "      <td>-0.03</td>\n",
       "      <td>...</td>\n",
       "      <td>0.38</td>\n",
       "      <td>0.43</td>\n",
       "      <td>0.03</td>\n",
       "      <td>0.32</td>\n",
       "      <td>0.03</td>\n",
       "      <td>0.55</td>\n",
       "      <td>1.00</td>\n",
       "      <td>-0.17</td>\n",
       "      <td>0.02</td>\n",
       "      <td>-0.25</td>\n",
       "    </tr>\n",
       "    <tr>\n",
       "      <th>Average_Fleet_Age_Months</th>\n",
       "      <td>0.33</td>\n",
       "      <td>0.23</td>\n",
       "      <td>0.02</td>\n",
       "      <td>0.11</td>\n",
       "      <td>0.10</td>\n",
       "      <td>0.14</td>\n",
       "      <td>0.06</td>\n",
       "      <td>-0.00</td>\n",
       "      <td>-0.08</td>\n",
       "      <td>0.07</td>\n",
       "      <td>...</td>\n",
       "      <td>-0.64</td>\n",
       "      <td>-0.58</td>\n",
       "      <td>-0.08</td>\n",
       "      <td>-0.33</td>\n",
       "      <td>0.12</td>\n",
       "      <td>-0.15</td>\n",
       "      <td>-0.17</td>\n",
       "      <td>1.00</td>\n",
       "      <td>0.52</td>\n",
       "      <td>0.38</td>\n",
       "    </tr>\n",
       "    <tr>\n",
       "      <th>Average_Fleet_Hours</th>\n",
       "      <td>0.23</td>\n",
       "      <td>0.36</td>\n",
       "      <td>0.20</td>\n",
       "      <td>0.30</td>\n",
       "      <td>0.17</td>\n",
       "      <td>0.19</td>\n",
       "      <td>0.10</td>\n",
       "      <td>0.12</td>\n",
       "      <td>0.06</td>\n",
       "      <td>0.08</td>\n",
       "      <td>...</td>\n",
       "      <td>-0.23</td>\n",
       "      <td>-0.15</td>\n",
       "      <td>-0.03</td>\n",
       "      <td>0.15</td>\n",
       "      <td>0.23</td>\n",
       "      <td>0.02</td>\n",
       "      <td>0.02</td>\n",
       "      <td>0.52</td>\n",
       "      <td>1.00</td>\n",
       "      <td>0.07</td>\n",
       "    </tr>\n",
       "    <tr>\n",
       "      <th>UtilizationOverFleetAverage</th>\n",
       "      <td>-0.01</td>\n",
       "      <td>0.06</td>\n",
       "      <td>0.34</td>\n",
       "      <td>0.17</td>\n",
       "      <td>0.06</td>\n",
       "      <td>0.07</td>\n",
       "      <td>0.03</td>\n",
       "      <td>-0.04</td>\n",
       "      <td>-0.06</td>\n",
       "      <td>0.06</td>\n",
       "      <td>...</td>\n",
       "      <td>-0.55</td>\n",
       "      <td>-0.59</td>\n",
       "      <td>-0.02</td>\n",
       "      <td>-0.43</td>\n",
       "      <td>0.00</td>\n",
       "      <td>-0.20</td>\n",
       "      <td>-0.25</td>\n",
       "      <td>0.38</td>\n",
       "      <td>0.07</td>\n",
       "      <td>1.00</td>\n",
       "    </tr>\n",
       "  </tbody>\n",
       "</table>\n",
       "<p>45 rows × 45 columns</p>\n",
       "</div>"
      ],
      "text/plain": [
       "                             Age_Months   LTDSMU  CalculatedAnnualUsage  \\\n",
       "Age_Months                         1.00     0.61                  -0.02   \n",
       "LTDSMU                             0.61     1.00                   0.24   \n",
       "CalculatedAnnualUsage             -0.02     0.24                   1.00   \n",
       "HistoricAnnualUsage                0.19     0.51                   0.67   \n",
       "PARTS_EQ_0_12M                     0.20     0.24                   0.23   \n",
       "...                                 ...      ...                    ...   \n",
       "PartsDCAL                         -0.04    -0.01                   0.04   \n",
       "ServiceDCAL                        0.02     0.03                   0.04   \n",
       "Average_Fleet_Age_Months           0.33     0.23                   0.02   \n",
       "Average_Fleet_Hours                0.23     0.36                   0.20   \n",
       "UtilizationOverFleetAverage       -0.01     0.06                   0.34   \n",
       "\n",
       "                             HistoricAnnualUsage  PARTS_EQ_0_12M  \\\n",
       "Age_Months                                  0.19            0.20   \n",
       "LTDSMU                                      0.51            0.24   \n",
       "CalculatedAnnualUsage                       0.67            0.23   \n",
       "HistoricAnnualUsage                         1.00            0.27   \n",
       "PARTS_EQ_0_12M                              0.27            1.00   \n",
       "...                                          ...             ...   \n",
       "PartsDCAL                                   0.04            0.14   \n",
       "ServiceDCAL                                 0.02            0.03   \n",
       "Average_Fleet_Age_Months                    0.11            0.10   \n",
       "Average_Fleet_Hours                         0.30            0.17   \n",
       "UtilizationOverFleetAverage                 0.17            0.06   \n",
       "\n",
       "                             PARTS_COUNT_EQ_0_12M  \\\n",
       "Age_Months                                   0.24   \n",
       "LTDSMU                                       0.28   \n",
       "CalculatedAnnualUsage                        0.31   \n",
       "HistoricAnnualUsage                          0.32   \n",
       "PARTS_EQ_0_12M                               0.76   \n",
       "...                                           ...   \n",
       "PartsDCAL                                    0.14   \n",
       "ServiceDCAL                                  0.02   \n",
       "Average_Fleet_Age_Months                     0.14   \n",
       "Average_Fleet_Hours                          0.19   \n",
       "UtilizationOverFleetAverage                  0.07   \n",
       "\n",
       "                             PARTS_BACKOUT_Percentage_EQ  SERVICES_EQ_0_12M  \\\n",
       "Age_Months                                          0.08               0.03   \n",
       "LTDSMU                                              0.08               0.11   \n",
       "CalculatedAnnualUsage                               0.09               0.19   \n",
       "HistoricAnnualUsage                                 0.08               0.16   \n",
       "PARTS_EQ_0_12M                                      0.17               0.10   \n",
       "...                                                  ...                ...   \n",
       "PartsDCAL                                           0.02               0.15   \n",
       "ServiceDCAL                                        -0.00               0.30   \n",
       "Average_Fleet_Age_Months                            0.06              -0.00   \n",
       "Average_Fleet_Hours                                 0.10               0.12   \n",
       "UtilizationOverFleetAverage                         0.03              -0.04   \n",
       "\n",
       "                             SERVICES_COUNT_EQ_0_12M  \\\n",
       "Age_Months                                     -0.04   \n",
       "LTDSMU                                          0.07   \n",
       "CalculatedAnnualUsage                           0.29   \n",
       "HistoricAnnualUsage                             0.19   \n",
       "PARTS_EQ_0_12M                                  0.03   \n",
       "...                                              ...   \n",
       "PartsDCAL                                       0.18   \n",
       "ServiceDCAL                                     0.40   \n",
       "Average_Fleet_Age_Months                       -0.08   \n",
       "Average_Fleet_Hours                             0.06   \n",
       "UtilizationOverFleetAverage                    -0.06   \n",
       "\n",
       "                             SERVICES_BACKOUT_Percentage_EQ  ...  \\\n",
       "Age_Months                                             0.08  ...   \n",
       "LTDSMU                                                 0.09  ...   \n",
       "CalculatedAnnualUsage                                  0.09  ...   \n",
       "HistoricAnnualUsage                                    0.08  ...   \n",
       "PARTS_EQ_0_12M                                         0.22  ...   \n",
       "...                                                     ...  ...   \n",
       "PartsDCAL                                              0.02  ...   \n",
       "ServiceDCAL                                           -0.03  ...   \n",
       "Average_Fleet_Age_Months                               0.07  ...   \n",
       "Average_Fleet_Hours                                    0.08  ...   \n",
       "UtilizationOverFleetAverage                            0.06  ...   \n",
       "\n",
       "                             Percentage_PLDeviceSerialNumber  \\\n",
       "Age_Months                                             -0.06   \n",
       "LTDSMU                                                 -0.03   \n",
       "CalculatedAnnualUsage                                   0.07   \n",
       "HistoricAnnualUsage                                     0.03   \n",
       "PARTS_EQ_0_12M                                         -0.01   \n",
       "...                                                      ...   \n",
       "PartsDCAL                                               0.30   \n",
       "ServiceDCAL                                             0.38   \n",
       "Average_Fleet_Age_Months                               -0.64   \n",
       "Average_Fleet_Hours                                    -0.23   \n",
       "UtilizationOverFleetAverage                            -0.55   \n",
       "\n",
       "                             PercentageFleetUtilized  Percentage_Cat  \\\n",
       "Age_Months                                     -0.04            0.01   \n",
       "LTDSMU                                         -0.01            0.02   \n",
       "CalculatedAnnualUsage                           0.13           -0.03   \n",
       "HistoricAnnualUsage                             0.06           -0.00   \n",
       "PARTS_EQ_0_12M                                  0.01           -0.04   \n",
       "...                                              ...             ...   \n",
       "PartsDCAL                                       0.31            0.01   \n",
       "ServiceDCAL                                     0.43            0.03   \n",
       "Average_Fleet_Age_Months                       -0.58           -0.08   \n",
       "Average_Fleet_Hours                            -0.15           -0.03   \n",
       "UtilizationOverFleetAverage                    -0.59           -0.02   \n",
       "\n",
       "                             Avg_AnnualUsage  Avg_HistoricAnnualUsage  \\\n",
       "Age_Months                              0.01                     0.01   \n",
       "LTDSMU                                  0.17                     0.05   \n",
       "CalculatedAnnualUsage                   0.48                     0.06   \n",
       "HistoricAnnualUsage                     0.39                     0.11   \n",
       "PARTS_EQ_0_12M                          0.14                     0.04   \n",
       "...                                      ...                      ...   \n",
       "PartsDCAL                               0.24                     0.11   \n",
       "ServiceDCAL                             0.32                     0.03   \n",
       "Average_Fleet_Age_Months               -0.33                     0.12   \n",
       "Average_Fleet_Hours                     0.15                     0.23   \n",
       "UtilizationOverFleetAverage            -0.43                     0.00   \n",
       "\n",
       "                             PartsDCAL  ServiceDCAL  Average_Fleet_Age_Months  \\\n",
       "Age_Months                       -0.04         0.02                      0.33   \n",
       "LTDSMU                           -0.01         0.03                      0.23   \n",
       "CalculatedAnnualUsage             0.04         0.04                      0.02   \n",
       "HistoricAnnualUsage               0.04         0.02                      0.11   \n",
       "PARTS_EQ_0_12M                    0.14         0.03                      0.10   \n",
       "...                                ...          ...                       ...   \n",
       "PartsDCAL                         1.00         0.55                     -0.15   \n",
       "ServiceDCAL                       0.55         1.00                     -0.17   \n",
       "Average_Fleet_Age_Months         -0.15        -0.17                      1.00   \n",
       "Average_Fleet_Hours               0.02         0.02                      0.52   \n",
       "UtilizationOverFleetAverage      -0.20        -0.25                      0.38   \n",
       "\n",
       "                             Average_Fleet_Hours  UtilizationOverFleetAverage  \n",
       "Age_Months                                  0.23                        -0.01  \n",
       "LTDSMU                                      0.36                         0.06  \n",
       "CalculatedAnnualUsage                       0.20                         0.34  \n",
       "HistoricAnnualUsage                         0.30                         0.17  \n",
       "PARTS_EQ_0_12M                              0.17                         0.06  \n",
       "...                                          ...                          ...  \n",
       "PartsDCAL                                   0.02                        -0.20  \n",
       "ServiceDCAL                                 0.02                        -0.25  \n",
       "Average_Fleet_Age_Months                    0.52                         0.38  \n",
       "Average_Fleet_Hours                         1.00                         0.07  \n",
       "UtilizationOverFleetAverage                 0.07                         1.00  \n",
       "\n",
       "[45 rows x 45 columns]"
      ]
     },
     "metadata": {},
     "output_type": "display_data"
    }
   ],
   "source": [
    "# Compute the correlation matrix\n",
    "corr_matrix = round(data_filtered_by_z.corr(),2)\n",
    "\n",
    "# get sorted correlation\n",
    "# def get_redundant_pairs(df):\n",
    "#     pairs_to_drop = set()\n",
    "#     cols = df.columns\n",
    "#     for i in range(0, df.shape[1]):\n",
    "#         for j in range(0, i+1):\n",
    "#             pairs_to_drop.add((cols[i], cols[j]))\n",
    "#     return pairs_to_drop\n",
    "\n",
    "def get_sorted_corr(df):\n",
    "    crr = df.corr().abs().unstack()\n",
    "#     labels_to_drop = get_redundant_pairs(df)\n",
    "#     crr = crr.drop(labels=labels_to_drop).sort_values(ascending=False)\n",
    "    return crr\n",
    "\n",
    "# I did not remove duplicates because i will be using excel filters\n",
    "\n",
    "get_sorted_corr(data_filtered_by_z)\n",
    "\n",
    "sorted_corr = get_sorted_corr(data_dropna)\n",
    "sorted_corr.to_csv('..\\\\data\\\\Output\\\\Sorted_Correlation_Customer_filtered_by_z.csv')\n",
    "\n",
    "display(corr_matrix)"
   ]
  },
  {
   "cell_type": "code",
   "execution_count": 10,
   "metadata": {
    "ExecuteTime": {
     "end_time": "2020-05-01T15:08:58.165648Z",
     "start_time": "2020-05-01T15:08:47.279683Z"
    }
   },
   "outputs": [
    {
     "data": {
      "image/png": "[encoded data removed]",
      "text/plain": [
       "<Figure size 8640x8640 with 2 Axes>"
      ]
     },
     "metadata": {
      "needs_background": "light"
     },
     "output_type": "display_data"
    }
   ],
   "source": [
    "#Generate a chart for correlations\n",
    "\n",
    "# Generate a mask for the upper triangle\n",
    "mask = np.triu(np.ones_like(corr_matrix, dtype=np.bool))\n",
    "\n",
    "# Set up the matplotlib figure\n",
    "fig, ax = plt.subplots(figsize=(120, 120))\n",
    "\n",
    "# Generate a custom diverging colormap\n",
    "cmap = sns.diverging_palette(240, 10, n=9, as_cmap=True)\n",
    "\n",
    "heatmap = sns.heatmap(corr_matrix, mask=mask, cmap=cmap,\n",
    "                      square=True, linewidths=3,\n",
    "                      cbar_kws = {'shrink': 0.6},\n",
    "                      vmin=-1, vmax=1,\n",
    "                      annot=True, annot_kws = {'size': 2})\n",
    "\n",
    "# add the column names as labels\n",
    "ax.set_yticklabels(corr_matrix.columns)\n",
    "ax.set_xticklabels(corr_matrix.columns)\n",
    "\n",
    "# plt.show()\n",
    "plt.savefig('..\\\\data\\\\Output\\\\Correlation_Matrix_Customer_filtered_by_Z')"
   ]
  },
  {
   "cell_type": "code",
   "execution_count": null,
   "metadata": {
    "ExecuteTime": {
     "end_time": "2020-04-30T17:32:51.807954Z",
     "start_time": "2020-04-30T17:32:51.803950Z"
    }
   },
   "outputs": [],
   "source": [
    "#OR using yoyo's plot (sns)\n",
    "#plt.style.use('seaborn-ticks')\n",
    "\n",
    "#sns.pairplot(data_filtered_by_z, kind='reg', diag_kind='hist',\n",
    "#             height=2.5, aspect=1,\n",
    "#             plot_kws={'scatter_kws': {'alpha': 0.7}})\n",
    "#save the plot\n",
    "#plt.savefig('..\\\\data\\\\Output\\\\Scatter_Plot_Customer_filtered_by_z')"
   ]
  },
  {
   "attachments": {},
   "cell_type": "markdown",
   "metadata": {
    "ExecuteTime": {
     "end_time": "2020-04-28T12:55:05.474059Z",
     "start_time": "2020-04-28T12:55:05.469087Z"
    }
   },
   "source": [
    "## Testing 1 assumption: y = 'PARTS_EQ_0_12M'"
   ]
  },
  {
   "cell_type": "markdown",
   "metadata": {
    "heading_collapsed": true
   },
   "source": [
    "### Drop variables with very low correlation to Y"
   ]
  },
  {
   "cell_type": "code",
   "execution_count": 12,
   "metadata": {
    "ExecuteTime": {
     "end_time": "2020-05-04T04:12:28.464495Z",
     "start_time": "2020-05-04T04:12:28.457514Z"
    },
    "hidden": true
   },
   "outputs": [
    {
     "data": {
      "text/plain": [
       "(6592, 19)"
      ]
     },
     "execution_count": 12,
     "metadata": {},
     "output_type": "execute_result"
    }
   ],
   "source": [
    "#Drop columns with very low correlations\n",
    "customer_filtered = data_dropna.drop([\n",
    "    'SOS_Count_Per_CatFleetSize'       #0.038524450889812\n",
    "    ,'CSA_Days_Remaining'       #0.0347370466787486\n",
    "    ,'PartsReturnPercentage_CU'       #0.03348038910505\n",
    "    ,'SERVICES_Total_Per_CatFleetSize'       #0.0323507017179335\n",
    "    ,'PercentageFleetUtilized'       #0.0287909986542302\n",
    "    ,'EMT'       #0.0276743327821302\n",
    "    ,'PMContract'       #0.0276676722946433\n",
    "    ,'SERVICES_Count_Per_CatFleetSize'       #0.0254876420075093\n",
    "    ,'SERVICES_EQ_0_12M'       #0.024120326948996\n",
    "    ,'ServiceDCAL'       #0.0211827612475528\n",
    "    ,'PLDeviceActive'       #0.0154737776412353\n",
    "    ,'FuelConsumptionPercentageOverAverage'       #0.0141084537043715\n",
    "    ,'Percentage_PLDeviceSerialNumber'       #0.0133357101062391\n",
    "    ,'SERVICES_Count_Per_500HR_Utilized'       #0.00982856506401035\n",
    "    ,'MARC'       #0.00900194859404757\n",
    "    ,'AverageDaysToPay'       #0.00882855720261805\n",
    "    ,'PARTS_Count_Per_500HR_Utilized'       #0.00829972873927927\n",
    "    ,'Percentage_Cat'       #0.0076671121922383\n",
    "    ,'LTDSMU'       #0.00744243318328073\n",
    "    ,'Avg_HistoricAnnualUsage'       #0.00568613389379009\n",
    "    ,'SOS_Count_Per_500HR_Utilized'       #0.00543888487252454\n",
    "    ,'IdlingPercent'       #0.00320024144050275\n",
    "    ,'SERVICES_COUNT_EQ_0_12M'       #0.0030476006215878\n",
    "    ,'UtilizationOverFleetAverage'       #0.00138355869350675\n",
    "    ,'ServicesBackOutPercentage_CU'       #0.000360783281696712\n",
    "    ,'Lease_Days_Remaining'       #0.000326520222420836\n",
    "     ],axis = 1)\n",
    "customer_filtered.shape"
   ]
  },
  {
   "cell_type": "markdown",
   "metadata": {
    "ExecuteTime": {
     "end_time": "2020-04-28T14:33:11.116893Z",
     "start_time": "2020-04-28T14:33:11.113907Z"
    },
    "heading_collapsed": true
   },
   "source": [
    "### Testing for Multicollinearity"
   ]
  },
  {
   "cell_type": "code",
   "execution_count": 13,
   "metadata": {
    "ExecuteTime": {
     "end_time": "2020-05-04T04:13:11.254745Z",
     "start_time": "2020-05-04T04:13:11.067246Z"
    },
    "hidden": true,
    "scrolled": false
   },
   "outputs": [
    {
     "name": "stdout",
     "output_type": "stream",
     "text": [
      "DATA BEFORE\n",
      "----------------------------------------------------------------------------------------------------\n"
     ]
    },
    {
     "data": {
      "text/plain": [
       "const                               21.93\n",
       "Age_Months                           1.90\n",
       "CalculatedAnnualUsage                2.35\n",
       "HistoricAnnualUsage                  1.87\n",
       "PARTS_EQ_0_12M                       1.95\n",
       "PARTS_COUNT_EQ_0_12M                 2.13\n",
       "PARTS_BACKOUT_Percentage_EQ          1.21\n",
       "SERVICES_BACKOUT_Percentage_EQ       1.32\n",
       "SOS_COUNT_EQ_0_12M                   1.67\n",
       "PLSubscriptionActive                 1.18\n",
       "Warranty_Days_Remaining              1.74\n",
       "OLGAAmount                           1.50\n",
       "WODollarTotal                        1.46\n",
       "POPS_EQ                              2.16\n",
       "PARTS_Total_Per_CatFleetSize         2.14\n",
       "PARTS_Count_Per_CatFleetSize         2.08\n",
       "Avg_AnnualUsage                      2.30\n",
       "PartsDCAL                            2.14\n",
       "Average_Fleet_Age_Months             1.55\n",
       "Average_Fleet_Hours                  1.12\n",
       "dtype: float64"
      ]
     },
     "metadata": {},
     "output_type": "display_data"
    },
    {
     "name": "stdout",
     "output_type": "stream",
     "text": [
      "DATA AFTER\n",
      "----------------------------------------------------------------------------------------------------\n"
     ]
    },
    {
     "data": {
      "text/plain": [
       "const                               21.35\n",
       "Age_Months                           1.75\n",
       "CalculatedAnnualUsage                2.35\n",
       "HistoricAnnualUsage                  1.85\n",
       "PARTS_EQ_0_12M                       1.95\n",
       "PARTS_COUNT_EQ_0_12M                 2.13\n",
       "PARTS_BACKOUT_Percentage_EQ          1.20\n",
       "SERVICES_BACKOUT_Percentage_EQ       1.32\n",
       "SOS_COUNT_EQ_0_12M                   1.58\n",
       "PLSubscriptionActive                 1.18\n",
       "Warranty_Days_Remaining              1.74\n",
       "OLGAAmount                           1.47\n",
       "POPS_EQ                              2.16\n",
       "PARTS_Total_Per_CatFleetSize         2.14\n",
       "PARTS_Count_Per_CatFleetSize         2.07\n",
       "Avg_AnnualUsage                      2.29\n",
       "PartsDCAL                            2.13\n",
       "Average_Fleet_Age_Months             1.54\n",
       "Average_Fleet_Hours                  1.12\n",
       "dtype: float64"
      ]
     },
     "metadata": {},
     "output_type": "display_data"
    }
   ],
   "source": [
    "# define two data frames one before the drop and one after the drop\n",
    "customer_filtered_before = customer_filtered\n",
    "customer_filtered_after = customer_filtered.drop([\n",
    "    'WODollarTotal'       #0.115419275443378\n",
    "    ],axis = 1)\n",
    "\n",
    "#Step by step:\n",
    "#look for pairs in correlation matrix, find extreme high correlations and drop 1 of the two\n",
    "#review before/after series and correlation matrix back and forth Multiculinearity \n",
    "#shows high and somewhat similiar variance inflation factor\n",
    "#inf means extremely large and should be concerned\n",
    "#for pairs, drop the variable that is less complete/reliable, or if they could be calculated\n",
    "#from one another, or  has lower correlation to Y\n",
    "\n",
    "#set maximum display row to 100\n",
    "pd.options.display.max_rows = 100\n",
    "\n",
    "# the VFI does expect a constant term in the data, so we need to add one using the add_constant method\n",
    "X1 = sm.tools.add_constant(customer_filtered_before)\n",
    "X2 = sm.tools.add_constant(customer_filtered_after)\n",
    "\n",
    "# create the series for both\n",
    "series_before = pd.Series([variance_inflation_factor(X1.values, i) for i in range(X1.shape[1])], index=X1.columns)\n",
    "series_after = pd.Series([variance_inflation_factor(X2.values, i) for i in range(X2.shape[1])], index=X2.columns)\n",
    "\n",
    "# display the series\n",
    "\n",
    "print('DATA BEFORE')\n",
    "print('-'*100)\n",
    "display(series_before)\n",
    "#series_before.to_csv('..\\\\data\\\\Output\\\\series_before.csv')\n",
    "\n",
    "print('DATA AFTER')\n",
    "print('-'*100)\n",
    "display(series_after)\n",
    "#series_after.to_csv('..\\\\data\\\\Output\\\\series_after.csv')"
   ]
  },
  {
   "cell_type": "code",
   "execution_count": 14,
   "metadata": {
    "ExecuteTime": {
     "end_time": "2020-05-04T04:13:17.106121Z",
     "start_time": "2020-05-04T04:13:17.046281Z"
    },
    "hidden": true,
    "scrolled": false
   },
   "outputs": [
    {
     "data": {
      "text/html": [
       "<div>\n",
       "<style scoped>\n",
       "    .dataframe tbody tr th:only-of-type {\n",
       "        vertical-align: middle;\n",
       "    }\n",
       "\n",
       "    .dataframe tbody tr th {\n",
       "        vertical-align: top;\n",
       "    }\n",
       "\n",
       "    .dataframe thead th {\n",
       "        text-align: right;\n",
       "    }\n",
       "</style>\n",
       "<table border=\"1\" class=\"dataframe\">\n",
       "  <thead>\n",
       "    <tr style=\"text-align: right;\">\n",
       "      <th></th>\n",
       "      <th>const</th>\n",
       "      <th>Age_Months</th>\n",
       "      <th>CalculatedAnnualUsage</th>\n",
       "      <th>HistoricAnnualUsage</th>\n",
       "      <th>PARTS_EQ_0_12M</th>\n",
       "      <th>PARTS_COUNT_EQ_0_12M</th>\n",
       "      <th>PARTS_BACKOUT_Percentage_EQ</th>\n",
       "      <th>SERVICES_BACKOUT_Percentage_EQ</th>\n",
       "      <th>SOS_COUNT_EQ_0_12M</th>\n",
       "      <th>PLSubscriptionActive</th>\n",
       "      <th>Warranty_Days_Remaining</th>\n",
       "      <th>OLGAAmount</th>\n",
       "      <th>POPS_EQ</th>\n",
       "      <th>PARTS_Total_Per_CatFleetSize</th>\n",
       "      <th>PARTS_Count_Per_CatFleetSize</th>\n",
       "      <th>Avg_AnnualUsage</th>\n",
       "      <th>PartsDCAL</th>\n",
       "      <th>Average_Fleet_Age_Months</th>\n",
       "      <th>Average_Fleet_Hours</th>\n",
       "    </tr>\n",
       "  </thead>\n",
       "  <tbody>\n",
       "    <tr>\n",
       "      <th>count</th>\n",
       "      <td>6,592.00</td>\n",
       "      <td>6,592.00</td>\n",
       "      <td>6,592.00</td>\n",
       "      <td>6,592.00</td>\n",
       "      <td>6,592.00</td>\n",
       "      <td>6,592.00</td>\n",
       "      <td>6,592.00</td>\n",
       "      <td>6,592.00</td>\n",
       "      <td>6,592.00</td>\n",
       "      <td>6,592.00</td>\n",
       "      <td>6,592.00</td>\n",
       "      <td>6,592.00</td>\n",
       "      <td>6,592.00</td>\n",
       "      <td>6,592.00</td>\n",
       "      <td>6,592.00</td>\n",
       "      <td>6,592.00</td>\n",
       "      <td>6,592.00</td>\n",
       "      <td>6,592.00</td>\n",
       "      <td>6,592.00</td>\n",
       "    </tr>\n",
       "    <tr>\n",
       "      <th>mean</th>\n",
       "      <td>1.00</td>\n",
       "      <td>60.13</td>\n",
       "      <td>1,013.24</td>\n",
       "      <td>1,136.89</td>\n",
       "      <td>3,210.42</td>\n",
       "      <td>4.27</td>\n",
       "      <td>2.80</td>\n",
       "      <td>3.68</td>\n",
       "      <td>6.52</td>\n",
       "      <td>0.57</td>\n",
       "      <td>305.50</td>\n",
       "      <td>61,248.55</td>\n",
       "      <td>33.26</td>\n",
       "      <td>5,899.82</td>\n",
       "      <td>7.86</td>\n",
       "      <td>665.49</td>\n",
       "      <td>44.35</td>\n",
       "      <td>97.47</td>\n",
       "      <td>10,950.91</td>\n",
       "    </tr>\n",
       "    <tr>\n",
       "      <th>std</th>\n",
       "      <td>0.00</td>\n",
       "      <td>41.06</td>\n",
       "      <td>809.14</td>\n",
       "      <td>863.71</td>\n",
       "      <td>9,878.36</td>\n",
       "      <td>6.73</td>\n",
       "      <td>13.32</td>\n",
       "      <td>20.75</td>\n",
       "      <td>10.73</td>\n",
       "      <td>0.50</td>\n",
       "      <td>508.57</td>\n",
       "      <td>93,544.87</td>\n",
       "      <td>29.34</td>\n",
       "      <td>11,243.00</td>\n",
       "      <td>9.76</td>\n",
       "      <td>477.44</td>\n",
       "      <td>29.26</td>\n",
       "      <td>41.56</td>\n",
       "      <td>18,130.39</td>\n",
       "    </tr>\n",
       "    <tr>\n",
       "      <th>min</th>\n",
       "      <td>1.00</td>\n",
       "      <td>1.00</td>\n",
       "      <td>-6,372.00</td>\n",
       "      <td>0.00</td>\n",
       "      <td>-30,680.00</td>\n",
       "      <td>-3.00</td>\n",
       "      <td>0.00</td>\n",
       "      <td>0.00</td>\n",
       "      <td>0.00</td>\n",
       "      <td>0.00</td>\n",
       "      <td>0.00</td>\n",
       "      <td>0.00</td>\n",
       "      <td>0.00</td>\n",
       "      <td>-9,884.00</td>\n",
       "      <td>-1.00</td>\n",
       "      <td>0.71</td>\n",
       "      <td>0.01</td>\n",
       "      <td>1.00</td>\n",
       "      <td>86.00</td>\n",
       "    </tr>\n",
       "    <tr>\n",
       "      <th>25%</th>\n",
       "      <td>1.00</td>\n",
       "      <td>26.00</td>\n",
       "      <td>472.00</td>\n",
       "      <td>623.24</td>\n",
       "      <td>0.00</td>\n",
       "      <td>0.00</td>\n",
       "      <td>0.00</td>\n",
       "      <td>0.00</td>\n",
       "      <td>0.00</td>\n",
       "      <td>0.00</td>\n",
       "      <td>0.00</td>\n",
       "      <td>2,413.38</td>\n",
       "      <td>7.65</td>\n",
       "      <td>1,179.75</td>\n",
       "      <td>2.00</td>\n",
       "      <td>330.00</td>\n",
       "      <td>21.20</td>\n",
       "      <td>66.00</td>\n",
       "      <td>4,706.75</td>\n",
       "    </tr>\n",
       "    <tr>\n",
       "      <th>50%</th>\n",
       "      <td>1.00</td>\n",
       "      <td>55.00</td>\n",
       "      <td>876.00</td>\n",
       "      <td>1,003.75</td>\n",
       "      <td>676.50</td>\n",
       "      <td>2.00</td>\n",
       "      <td>0.00</td>\n",
       "      <td>0.00</td>\n",
       "      <td>1.00</td>\n",
       "      <td>1.00</td>\n",
       "      <td>0.00</td>\n",
       "      <td>24,951.81</td>\n",
       "      <td>26.62</td>\n",
       "      <td>3,520.00</td>\n",
       "      <td>6.00</td>\n",
       "      <td>575.33</td>\n",
       "      <td>38.84</td>\n",
       "      <td>100.00</td>\n",
       "      <td>7,437.50</td>\n",
       "    </tr>\n",
       "    <tr>\n",
       "      <th>75%</th>\n",
       "      <td>1.00</td>\n",
       "      <td>86.00</td>\n",
       "      <td>1,382.75</td>\n",
       "      <td>1,452.70</td>\n",
       "      <td>2,835.25</td>\n",
       "      <td>5.00</td>\n",
       "      <td>0.00</td>\n",
       "      <td>0.00</td>\n",
       "      <td>10.00</td>\n",
       "      <td>1.00</td>\n",
       "      <td>533.50</td>\n",
       "      <td>83,527.58</td>\n",
       "      <td>52.83</td>\n",
       "      <td>7,617.00</td>\n",
       "      <td>11.00</td>\n",
       "      <td>907.26</td>\n",
       "      <td>66.29</td>\n",
       "      <td>125.00</td>\n",
       "      <td>11,641.00</td>\n",
       "    </tr>\n",
       "    <tr>\n",
       "      <th>max</th>\n",
       "      <td>1.00</td>\n",
       "      <td>216.00</td>\n",
       "      <td>7,843.00</td>\n",
       "      <td>31,452.05</td>\n",
       "      <td>322,087.00</td>\n",
       "      <td>178.00</td>\n",
       "      <td>300.00</td>\n",
       "      <td>600.00</td>\n",
       "      <td>115.00</td>\n",
       "      <td>1.00</td>\n",
       "      <td>2,424.00</td>\n",
       "      <td>1,367,864.55</td>\n",
       "      <td>100.00</td>\n",
       "      <td>473,911.00</td>\n",
       "      <td>223.00</td>\n",
       "      <td>5,513.25</td>\n",
       "      <td>100.00</td>\n",
       "      <td>297.00</td>\n",
       "      <td>504,020.00</td>\n",
       "    </tr>\n",
       "    <tr>\n",
       "      <th>+3_std</th>\n",
       "      <td>1.00</td>\n",
       "      <td>183.30</td>\n",
       "      <td>3,440.68</td>\n",
       "      <td>3,728.03</td>\n",
       "      <td>32,845.50</td>\n",
       "      <td>24.47</td>\n",
       "      <td>42.77</td>\n",
       "      <td>65.94</td>\n",
       "      <td>38.70</td>\n",
       "      <td>2.05</td>\n",
       "      <td>1,831.21</td>\n",
       "      <td>341,883.14</td>\n",
       "      <td>121.28</td>\n",
       "      <td>39,628.82</td>\n",
       "      <td>37.15</td>\n",
       "      <td>2,097.81</td>\n",
       "      <td>132.12</td>\n",
       "      <td>222.15</td>\n",
       "      <td>65,342.07</td>\n",
       "    </tr>\n",
       "    <tr>\n",
       "      <th>-3_std</th>\n",
       "      <td>1.00</td>\n",
       "      <td>-63.04</td>\n",
       "      <td>-1,414.19</td>\n",
       "      <td>-1,454.25</td>\n",
       "      <td>-26,424.66</td>\n",
       "      <td>-15.92</td>\n",
       "      <td>-37.17</td>\n",
       "      <td>-58.58</td>\n",
       "      <td>-25.66</td>\n",
       "      <td>-0.92</td>\n",
       "      <td>-1,220.21</td>\n",
       "      <td>-219,386.05</td>\n",
       "      <td>-54.76</td>\n",
       "      <td>-27,829.18</td>\n",
       "      <td>-21.42</td>\n",
       "      <td>-766.82</td>\n",
       "      <td>-43.42</td>\n",
       "      <td>-27.21</td>\n",
       "      <td>-43,440.25</td>\n",
       "    </tr>\n",
       "  </tbody>\n",
       "</table>\n",
       "</div>"
      ],
      "text/plain": [
       "          const  Age_Months  CalculatedAnnualUsage  HistoricAnnualUsage  \\\n",
       "count  6,592.00    6,592.00               6,592.00             6,592.00   \n",
       "mean       1.00       60.13               1,013.24             1,136.89   \n",
       "std        0.00       41.06                 809.14               863.71   \n",
       "min        1.00        1.00              -6,372.00                 0.00   \n",
       "25%        1.00       26.00                 472.00               623.24   \n",
       "50%        1.00       55.00                 876.00             1,003.75   \n",
       "75%        1.00       86.00               1,382.75             1,452.70   \n",
       "max        1.00      216.00               7,843.00            31,452.05   \n",
       "+3_std     1.00      183.30               3,440.68             3,728.03   \n",
       "-3_std     1.00      -63.04              -1,414.19            -1,454.25   \n",
       "\n",
       "        PARTS_EQ_0_12M  PARTS_COUNT_EQ_0_12M  PARTS_BACKOUT_Percentage_EQ  \\\n",
       "count         6,592.00              6,592.00                     6,592.00   \n",
       "mean          3,210.42                  4.27                         2.80   \n",
       "std           9,878.36                  6.73                        13.32   \n",
       "min         -30,680.00                 -3.00                         0.00   \n",
       "25%               0.00                  0.00                         0.00   \n",
       "50%             676.50                  2.00                         0.00   \n",
       "75%           2,835.25                  5.00                         0.00   \n",
       "max         322,087.00                178.00                       300.00   \n",
       "+3_std       32,845.50                 24.47                        42.77   \n",
       "-3_std      -26,424.66                -15.92                       -37.17   \n",
       "\n",
       "        SERVICES_BACKOUT_Percentage_EQ  SOS_COUNT_EQ_0_12M  \\\n",
       "count                         6,592.00            6,592.00   \n",
       "mean                              3.68                6.52   \n",
       "std                              20.75               10.73   \n",
       "min                               0.00                0.00   \n",
       "25%                               0.00                0.00   \n",
       "50%                               0.00                1.00   \n",
       "75%                               0.00               10.00   \n",
       "max                             600.00              115.00   \n",
       "+3_std                           65.94               38.70   \n",
       "-3_std                          -58.58              -25.66   \n",
       "\n",
       "        PLSubscriptionActive  Warranty_Days_Remaining   OLGAAmount  POPS_EQ  \\\n",
       "count               6,592.00                 6,592.00     6,592.00 6,592.00   \n",
       "mean                    0.57                   305.50    61,248.55    33.26   \n",
       "std                     0.50                   508.57    93,544.87    29.34   \n",
       "min                     0.00                     0.00         0.00     0.00   \n",
       "25%                     0.00                     0.00     2,413.38     7.65   \n",
       "50%                     1.00                     0.00    24,951.81    26.62   \n",
       "75%                     1.00                   533.50    83,527.58    52.83   \n",
       "max                     1.00                 2,424.00 1,367,864.55   100.00   \n",
       "+3_std                  2.05                 1,831.21   341,883.14   121.28   \n",
       "-3_std                 -0.92                -1,220.21  -219,386.05   -54.76   \n",
       "\n",
       "        PARTS_Total_Per_CatFleetSize  PARTS_Count_Per_CatFleetSize  \\\n",
       "count                       6,592.00                      6,592.00   \n",
       "mean                        5,899.82                          7.86   \n",
       "std                        11,243.00                          9.76   \n",
       "min                        -9,884.00                         -1.00   \n",
       "25%                         1,179.75                          2.00   \n",
       "50%                         3,520.00                          6.00   \n",
       "75%                         7,617.00                         11.00   \n",
       "max                       473,911.00                        223.00   \n",
       "+3_std                     39,628.82                         37.15   \n",
       "-3_std                    -27,829.18                        -21.42   \n",
       "\n",
       "        Avg_AnnualUsage  PartsDCAL  Average_Fleet_Age_Months  \\\n",
       "count          6,592.00   6,592.00                  6,592.00   \n",
       "mean             665.49      44.35                     97.47   \n",
       "std              477.44      29.26                     41.56   \n",
       "min                0.71       0.01                      1.00   \n",
       "25%              330.00      21.20                     66.00   \n",
       "50%              575.33      38.84                    100.00   \n",
       "75%              907.26      66.29                    125.00   \n",
       "max            5,513.25     100.00                    297.00   \n",
       "+3_std         2,097.81     132.12                    222.15   \n",
       "-3_std          -766.82     -43.42                    -27.21   \n",
       "\n",
       "        Average_Fleet_Hours  \n",
       "count              6,592.00  \n",
       "mean              10,950.91  \n",
       "std               18,130.39  \n",
       "min                   86.00  \n",
       "25%                4,706.75  \n",
       "50%                7,437.50  \n",
       "75%               11,641.00  \n",
       "max              504,020.00  \n",
       "+3_std            65,342.07  \n",
       "-3_std           -43,440.25  "
      ]
     },
     "execution_count": 14,
     "metadata": {},
     "output_type": "execute_result"
    }
   ],
   "source": [
    "# get the summary\n",
    "desc_df = X2.describe()\n",
    "\n",
    "# add the standard deviation metric\n",
    "desc_df.loc['+3_std'] = desc_df.loc['mean'] + (desc_df.loc['std'] * 3)\n",
    "desc_df.loc['-3_std'] = desc_df.loc['mean'] - (desc_df.loc['std'] * 3)\n",
    "\n",
    "# display it\n",
    "desc_df"
   ]
  },
  {
   "cell_type": "markdown",
   "metadata": {
    "heading_collapsed": true
   },
   "source": [
    "### Create regression model using split"
   ]
  },
  {
   "cell_type": "code",
   "execution_count": 15,
   "metadata": {
    "ExecuteTime": {
     "end_time": "2020-05-04T04:13:35.564837Z",
     "start_time": "2020-05-04T04:13:35.552870Z"
    },
    "hidden": true
   },
   "outputs": [
    {
     "name": "stdout",
     "output_type": "stream",
     "text": [
      "The intercept for our model is -1.16e+03\n",
      "----------------------------------------------------------------------------------------------------\n",
      "The Coefficient for Age_Months is 0.84\n",
      "The Coefficient for CalculatedAnnualUsage is -0.74\n",
      "The Coefficient for HistoricAnnualUsage is 0.36\n",
      "The Coefficient for PARTS_COUNT_EQ_0_12M is 9.8e+02\n",
      "The Coefficient for PARTS_BACKOUT_Percentage_EQ is -1.1e+01\n",
      "The Coefficient for SERVICES_BACKOUT_Percentage_EQ is 4.5e+01\n",
      "The Coefficient for SOS_COUNT_EQ_0_12M is -2.1e+01\n",
      "The Coefficient for PLSubscriptionActive is -2.3e+02\n",
      "The Coefficient for Warranty_Days_Remaining is 0.36\n",
      "The Coefficient for OLGAAmount is 0.0045\n",
      "The Coefficient for POPS_EQ is 0.15\n",
      "The Coefficient for PARTS_Total_Per_CatFleetSize is 0.086\n",
      "The Coefficient for PARTS_Count_Per_CatFleetSize is -9.3e+01\n",
      "The Coefficient for Avg_AnnualUsage is 0.2\n",
      "The Coefficient for PartsDCAL is 9.5\n",
      "The Coefficient for Average_Fleet_Age_Months is -0.082\n",
      "The Coefficient for Average_Fleet_Hours is -0.01\n"
     ]
    }
   ],
   "source": [
    "# define our input variable (X) & output variable\n",
    "X = customer_filtered_after.drop('PARTS_EQ_0_12M', axis = 1)\n",
    "Y = customer_filtered_after[['PARTS_EQ_0_12M']]\n",
    "\n",
    "# Split X and y into X_\n",
    "X_train, X_test, y_train, y_test = train_test_split(X, Y, test_size=0.20, random_state=1)\n",
    "# create a Linear Regression model object\n",
    "regression_model = LinearRegression()\n",
    "# pass through the X_train & y_train data set\n",
    "regression_model.fit(X_train, y_train)\n",
    "\n",
    "# let's grab the coefficient of our model and the intercept\n",
    "intercept2 = regression_model.intercept_[0]\n",
    "coefficent2 = regression_model.coef_[0][0]\n",
    "\n",
    "print(\"The intercept for our model is {:.4}\".format(intercept2))\n",
    "print('-'*100)\n",
    "\n",
    "# loop through the dictionary and print the data\n",
    "for coef in zip(X.columns, regression_model.coef_[0]):\n",
    "    print(\"The Coefficient for {} is {:.2}\".format(coef[0],coef[1]))"
   ]
  },
  {
   "cell_type": "code",
   "execution_count": 16,
   "metadata": {
    "ExecuteTime": {
     "end_time": "2020-05-04T04:13:38.236213Z",
     "start_time": "2020-05-04T04:13:38.217264Z"
    },
    "hidden": true
   },
   "outputs": [
    {
     "name": "stdout",
     "output_type": "stream",
     "text": [
      "                                 OLS Regression Results                                \n",
      "=======================================================================================\n",
      "Dep. Variable:         PARTS_EQ_0_12M   R-squared (uncentered):                   0.574\n",
      "Model:                            OLS   Adj. R-squared (uncentered):              0.572\n",
      "Method:                 Least Squares   F-statistic:                              416.4\n",
      "Date:                Mon, 04 May 2020   Prob (F-statistic):                        0.00\n",
      "Time:                        00:13:38   Log-Likelihood:                         -53933.\n",
      "No. Observations:                5273   AIC:                                  1.079e+05\n",
      "Df Residuals:                    5256   BIC:                                  1.080e+05\n",
      "Df Model:                          17                                                  \n",
      "Covariance Type:            nonrobust                                                  \n",
      "==================================================================================================\n",
      "                                     coef    std err          t      P>|t|      [0.025      0.975]\n",
      "--------------------------------------------------------------------------------------------------\n",
      "Age_Months                        -2.0926      2.762     -0.758      0.449      -7.507       3.321\n",
      "CalculatedAnnualUsage             -0.7855      0.170     -4.618      0.000      -1.119      -0.452\n",
      "HistoricAnnualUsage                0.3298      0.139      2.381      0.017       0.058       0.601\n",
      "PARTS_COUNT_EQ_0_12M             980.1209     15.414     63.586      0.000     949.903    1010.339\n",
      "PARTS_BACKOUT_Percentage_EQ      -11.3351      7.626     -1.486      0.137     -26.285       3.615\n",
      "SERVICES_BACKOUT_Percentage_EQ    44.7992      5.093      8.797      0.000      34.815      54.783\n",
      "SOS_COUNT_EQ_0_12M               -14.5008     10.530     -1.377      0.169     -35.144       6.143\n",
      "PLSubscriptionActive            -267.4255    201.031     -1.330      0.183    -661.529     126.678\n",
      "Warranty_Days_Remaining            0.0177      0.204      0.087      0.931      -0.383       0.418\n",
      "OLGAAmount                         0.0045      0.001      3.779      0.000       0.002       0.007\n",
      "POPS_EQ                           -0.1681      4.593     -0.037      0.971      -9.173       8.837\n",
      "PARTS_Total_Per_CatFleetSize       0.0904      0.011      8.002      0.000       0.068       0.113\n",
      "PARTS_Count_Per_CatFleetSize     -93.4686     13.408     -6.971      0.000    -119.754     -67.183\n",
      "Avg_AnnualUsage                   -0.0997      0.272     -0.367      0.714      -0.633       0.434\n",
      "PartsDCAL                          6.5292      4.432      1.473      0.141      -2.159      15.217\n",
      "Average_Fleet_Age_Months          -4.8564      2.103     -2.309      0.021      -8.979      -0.734\n",
      "Average_Fleet_Hours               -0.0092      0.005     -1.728      0.084      -0.020       0.001\n",
      "==============================================================================\n",
      "Omnibus:                     8545.470   Durbin-Watson:                   2.010\n",
      "Prob(Omnibus):                  0.000   Jarque-Bera (JB):          9182505.871\n",
      "Skew:                          10.408   Prob(JB):                         0.00\n",
      "Kurtosis:                     206.373   Cond. No.                     2.45e+05\n",
      "==============================================================================\n",
      "\n",
      "Warnings:\n",
      "[1] Standard Errors assume that the covariance matrix of the errors is correctly specified.\n",
      "[2] The condition number is large, 2.45e+05. This might indicate that there are\n",
      "strong multicollinearity or other numerical problems.\n"
     ]
    }
   ],
   "source": [
    "# #Print trained model OLS\n",
    "model = sm.OLS(y_train, X_train)\n",
    "results = model.fit()\n",
    "print(results.summary())"
   ]
  },
  {
   "cell_type": "markdown",
   "metadata": {
    "heading_collapsed": true
   },
   "source": [
    "### Measures of Error"
   ]
  },
  {
   "cell_type": "code",
   "execution_count": 17,
   "metadata": {
    "ExecuteTime": {
     "end_time": "2020-05-04T04:13:50.223696Z",
     "start_time": "2020-05-04T04:13:50.217712Z"
    },
    "hidden": true
   },
   "outputs": [
    {
     "name": "stdout",
     "output_type": "stream",
     "text": [
      "MSE 7.28e+07\n",
      "MAE 2.68e+03\n",
      "RMSE 8.53e+03\n"
     ]
    }
   ],
   "source": [
    "y_predict = regression_model.predict(X_test)\n",
    "\n",
    "# calculate the mean squared error\n",
    "model_mse = mean_squared_error(y_test, y_predict)\n",
    "\n",
    "# calculate the mean absolute error\n",
    "model_mae = mean_absolute_error(y_test, y_predict)\n",
    "\n",
    "# calulcate the root mean squared error\n",
    "model_rmse =  math.sqrt(model_mse)\n",
    "\n",
    "# display the output\n",
    "print(\"MSE {:.3}\".format(model_mse))\n",
    "print(\"MAE {:.3}\".format(model_mae))\n",
    "print(\"RMSE {:.3}\".format(model_rmse))"
   ]
  },
  {
   "cell_type": "code",
   "execution_count": 18,
   "metadata": {
    "ExecuteTime": {
     "end_time": "2020-05-04T04:13:51.764089Z",
     "start_time": "2020-05-04T04:13:51.760100Z"
    },
    "hidden": true,
    "scrolled": true
   },
   "outputs": [
    {
     "name": "stdout",
     "output_type": "stream",
     "text": [
      "R2: 0.33\n"
     ]
    }
   ],
   "source": [
    "model_r2 = r2_score(y_test, y_predict)\n",
    "print(\"R2: {:.2}\".format(model_r2))"
   ]
  },
  {
   "cell_type": "markdown",
   "metadata": {
    "ExecuteTime": {
     "end_time": "2020-04-28T12:55:05.474059Z",
     "start_time": "2020-04-28T12:55:05.469087Z"
    }
   },
   "source": [
    "## Testing 2 assumption: y = 'SERVICES_EQ_0_12M'"
   ]
  },
  {
   "cell_type": "markdown",
   "metadata": {},
   "source": [
    "### Drop variables with very low correlation to Y"
   ]
  },
  {
   "cell_type": "code",
   "execution_count": 19,
   "metadata": {
    "ExecuteTime": {
     "end_time": "2020-05-04T04:14:33.226903Z",
     "start_time": "2020-05-04T04:14:33.220920Z"
    }
   },
   "outputs": [
    {
     "data": {
      "text/plain": [
       "(6592, 25)"
      ]
     },
     "execution_count": 19,
     "metadata": {},
     "output_type": "execute_result"
    }
   ],
   "source": [
    "#Drop columns with very low correlations\n",
    "customer_filtered_2 = data_dropna.drop([\n",
    "    'Average_Fleet_Hours'       #0.0437386267931773\n",
    "    ,'PARTS_COUNT_EQ_0_12M'       #0.0429696475738669\n",
    "    ,'FuelConsumptionPercentageOverAverage'       #0.0428252631216837\n",
    "    ,'Average_Fleet_Age_Months'       #0.0396320928688361\n",
    "    ,'PartsReturnPercentage_CU'       #0.0379976191483568\n",
    "    ,'UtilizationOverFleetAverage'       #0.0307364681833042\n",
    "    ,'PARTS_Count_Per_CatFleetSize'       #0.0281963952181182\n",
    "    ,'SERVICES_BACKOUT_Percentage_EQ'       #0.0258586496680364\n",
    "    ,'PARTS_EQ_0_12M'       #0.024120326948996\n",
    "    ,'Percentage_Cat'       #0.0235136001995106\n",
    "    ,'PLDeviceActive'       #0.0222641452605724\n",
    "    ,'SOS_Count_Per_500HR_Utilized'       #0.0184920033550638\n",
    "    ,'PARTS_BACKOUT_Percentage_EQ'       #0.0171745105355248\n",
    "    ,'IdlingPercent'       #0.0150947801543381\n",
    "    ,'PARTS_Count_Per_500HR_Utilized'       #0.00938034335297381\n",
    "    ,'AverageDaysToPay'       #0.00928564344954669\n",
    "    ,'SERVICES_Count_Per_500HR_Utilized'       #0.00389490808453667\n",
    "    ,'LTDSMU'       #0.00323855314470725\n",
    "    ,'Lease_Days_Remaining'       #0.00251031607935539\n",
    "    ,'Avg_HistoricAnnualUsage'       #0.00142326887006079\n",
    "     ],axis = 1)\n",
    "customer_filtered_2.shape"
   ]
  },
  {
   "cell_type": "markdown",
   "metadata": {
    "ExecuteTime": {
     "end_time": "2020-04-28T14:33:11.116893Z",
     "start_time": "2020-04-28T14:33:11.113907Z"
    }
   },
   "source": [
    "### Testing for Multicollinearity"
   ]
  },
  {
   "cell_type": "code",
   "execution_count": 21,
   "metadata": {
    "ExecuteTime": {
     "end_time": "2020-05-04T04:15:26.485274Z",
     "start_time": "2020-05-04T04:15:26.220969Z"
    },
    "scrolled": false
   },
   "outputs": [
    {
     "name": "stdout",
     "output_type": "stream",
     "text": [
      "DATA BEFORE\n",
      "----------------------------------------------------------------------------------------------------\n"
     ]
    },
    {
     "data": {
      "text/plain": [
       "const                                18.59\n",
       "Age_Months                            1.88\n",
       "CalculatedAnnualUsage                 2.56\n",
       "HistoricAnnualUsage                   1.86\n",
       "SERVICES_EQ_0_12M                     1.91\n",
       "SERVICES_COUNT_EQ_0_12M               3.98\n",
       "SOS_COUNT_EQ_0_12M                    3.26\n",
       "PLSubscriptionActive                  1.20\n",
       "EMT                                 644.99\n",
       "MARC                                  1.51\n",
       "PMContract                          647.45\n",
       "Warranty_Days_Remaining               1.74\n",
       "CSA_Days_Remaining                    2.22\n",
       "OLGAAmount                            1.51\n",
       "WODollarTotal                         2.13\n",
       "POPS_EQ                               2.44\n",
       "PARTS_Total_Per_CatFleetSize          1.53\n",
       "SERVICES_Total_Per_CatFleetSize       2.34\n",
       "SERVICES_Count_Per_CatFleetSize       4.20\n",
       "SOS_Count_Per_CatFleetSize            4.77\n",
       "ServicesBackOutPercentage_CU          1.06\n",
       "Percentage_PLDeviceSerialNumber       6.02\n",
       "PercentageFleetUtilized               6.84\n",
       "Avg_AnnualUsage                       4.53\n",
       "PartsDCAL                             2.44\n",
       "ServiceDCAL                           2.79\n",
       "dtype: float64"
      ]
     },
     "metadata": {},
     "output_type": "display_data"
    },
    {
     "name": "stdout",
     "output_type": "stream",
     "text": [
      "DATA AFTER\n",
      "----------------------------------------------------------------------------------------------------\n"
     ]
    },
    {
     "data": {
      "text/plain": [
       "const                                18.30\n",
       "Age_Months                            1.69\n",
       "CalculatedAnnualUsage                 2.55\n",
       "HistoricAnnualUsage                   1.83\n",
       "SERVICES_EQ_0_12M                     1.56\n",
       "SERVICES_COUNT_EQ_0_12M               3.94\n",
       "SOS_COUNT_EQ_0_12M                    3.25\n",
       "PLSubscriptionActive                  1.20\n",
       "MARC                                  1.51\n",
       "PMContract                            3.10\n",
       "Warranty_Days_Remaining               1.74\n",
       "CSA_Days_Remaining                    2.22\n",
       "OLGAAmount                            1.49\n",
       "POPS_EQ                               2.44\n",
       "PARTS_Total_Per_CatFleetSize          1.53\n",
       "SERVICES_Total_Per_CatFleetSize       2.30\n",
       "SERVICES_Count_Per_CatFleetSize       4.20\n",
       "SOS_Count_Per_CatFleetSize            4.76\n",
       "ServicesBackOutPercentage_CU          1.06\n",
       "Percentage_PLDeviceSerialNumber       6.02\n",
       "PercentageFleetUtilized               6.84\n",
       "Avg_AnnualUsage                       4.53\n",
       "PartsDCAL                             2.44\n",
       "ServiceDCAL                           2.79\n",
       "dtype: float64"
      ]
     },
     "metadata": {},
     "output_type": "display_data"
    }
   ],
   "source": [
    "# define two data frames one before the drop and one after the drop\n",
    "customer_filtered_before = customer_filtered_2\n",
    "customer_filtered_after = customer_filtered_2.drop([\n",
    "    'WODollarTotal'       #0.599859223127368\n",
    "    ,'EMT'       #0.234299589979485\n",
    "\n",
    "     # first to remove\n",
    "    ],axis = 1)\n",
    "\n",
    "#Step by step:\n",
    "#look for pairs in correlation matrix, find extreme high correlations and drop 1 of the two\n",
    "#review before/after series and correlation matrix back and forth Multiculinearity \n",
    "#shows high and somewhat similiar variance inflation factor\n",
    "#inf means extremely large and should be concerned\n",
    "#for pairs, drop the variable that is less complete/reliable, or if they could be calculated\n",
    "#from one another, or  has lower correlation to Y\n",
    "\n",
    "#set maximum display row to 100\n",
    "pd.options.display.max_rows = 100\n",
    "\n",
    "# the VFI does expect a constant term in the data, so we need to add one using the add_constant method\n",
    "X1 = sm.tools.add_constant(customer_filtered_before)\n",
    "X2 = sm.tools.add_constant(customer_filtered_after)\n",
    "\n",
    "# create the series for both\n",
    "series_before = pd.Series([variance_inflation_factor(X1.values, i) for i in range(X1.shape[1])], index=X1.columns)\n",
    "series_after = pd.Series([variance_inflation_factor(X2.values, i) for i in range(X2.shape[1])], index=X2.columns)\n",
    "\n",
    "# display the series\n",
    "\n",
    "print('DATA BEFORE')\n",
    "print('-'*100)\n",
    "display(series_before)\n",
    "#series_before.to_csv('..\\\\data\\\\Output\\\\series_before.csv')\n",
    "\n",
    "print('DATA AFTER')\n",
    "print('-'*100)\n",
    "display(series_after)\n",
    "#series_after.to_csv('..\\\\data\\\\Output\\\\series_after.csv')"
   ]
  },
  {
   "cell_type": "code",
   "execution_count": null,
   "metadata": {
    "ExecuteTime": {
     "end_time": "2020-05-01T12:50:39.753521Z",
     "start_time": "2020-05-01T12:50:39.704610Z"
    },
    "scrolled": false
   },
   "outputs": [],
   "source": [
    "# get the summary\n",
    "desc_df = X2.describe()\n",
    "\n",
    "# add the standard deviation metric\n",
    "desc_df.loc['+3_std'] = desc_df.loc['mean'] + (desc_df.loc['std'] * 3)\n",
    "desc_df.loc['-3_std'] = desc_df.loc['mean'] - (desc_df.loc['std'] * 3)\n",
    "\n",
    "# display it\n",
    "desc_df"
   ]
  },
  {
   "cell_type": "markdown",
   "metadata": {
    "heading_collapsed": true
   },
   "source": [
    "### Create regression model using split"
   ]
  },
  {
   "cell_type": "code",
   "execution_count": null,
   "metadata": {
    "ExecuteTime": {
     "end_time": "2020-05-01T12:50:51.351557Z",
     "start_time": "2020-05-01T12:50:51.332607Z"
    },
    "hidden": true
   },
   "outputs": [],
   "source": [
    "# define our input variable (X) & output variable\n",
    "X = customer_filtered_after.drop('Expenditure_12M_PartsNServices', axis = 1)\n",
    "Y = customer_filtered_after[['Expenditure_12M_PartsNServices']]\n",
    "\n",
    "# Split X and y into X_\n",
    "X_train, X_test, y_train, y_test = train_test_split(X, Y, test_size=0.20, random_state=1)\n",
    "# create a Linear Regression model object\n",
    "regression_model = LinearRegression()\n",
    "# pass through the X_train & y_train data set\n",
    "regression_model.fit(X_train, y_train)\n",
    "\n",
    "# let's grab the coefficient of our model and the intercept\n",
    "intercept2 = regression_model.intercept_[0]\n",
    "coefficent2 = regression_model.coef_[0][0]\n",
    "\n",
    "print(\"The intercept for our model is {:.4}\".format(intercept2))\n",
    "print('-'*100)\n",
    "\n",
    "# loop through the dictionary and print the data\n",
    "for coef in zip(X.columns, regression_model.coef_[0]):\n",
    "    print(\"The Coefficient for {} is {:.2}\".format(coef[0],coef[1]))"
   ]
  },
  {
   "cell_type": "code",
   "execution_count": null,
   "metadata": {
    "ExecuteTime": {
     "end_time": "2020-05-01T12:50:54.727829Z",
     "start_time": "2020-05-01T12:50:54.703893Z"
    },
    "hidden": true
   },
   "outputs": [],
   "source": [
    "model = sm.OLS(y_train, X_train)\n",
    "results = model.fit()\n",
    "print(results.summary())"
   ]
  },
  {
   "cell_type": "markdown",
   "metadata": {
    "heading_collapsed": true
   },
   "source": [
    "### Measures of Error"
   ]
  },
  {
   "cell_type": "code",
   "execution_count": null,
   "metadata": {
    "ExecuteTime": {
     "end_time": "2020-05-01T12:51:02.810133Z",
     "start_time": "2020-05-01T12:51:02.798170Z"
    },
    "hidden": true
   },
   "outputs": [],
   "source": [
    "y_predict = regression_model.predict(X_test)\n",
    "\n",
    "# calculate the mean squared error\n",
    "model_mse = mean_squared_error(y_test, y_predict)\n",
    "\n",
    "# calculate the mean absolute error\n",
    "model_mae = mean_absolute_error(y_test, y_predict)\n",
    "\n",
    "# calulcate the root mean squared error\n",
    "model_rmse =  math.sqrt(model_mse)\n",
    "\n",
    "# display the output\n",
    "print(\"MSE {:.3}\".format(model_mse))\n",
    "print(\"MAE {:.3}\".format(model_mae))\n",
    "print(\"RMSE {:.3}\".format(model_rmse))"
   ]
  },
  {
   "cell_type": "code",
   "execution_count": null,
   "metadata": {
    "ExecuteTime": {
     "end_time": "2020-05-01T12:51:09.552434Z",
     "start_time": "2020-05-01T12:51:09.547447Z"
    },
    "hidden": true
   },
   "outputs": [],
   "source": [
    "model_r2 = r2_score(y_test, y_predict)\n",
    "print(\"R2: {:.2}\".format(model_r2))"
   ]
  },
  {
   "cell_type": "markdown",
   "metadata": {
    "ExecuteTime": {
     "end_time": "2020-04-28T12:55:05.474059Z",
     "start_time": "2020-04-28T12:55:05.469087Z"
    },
    "heading_collapsed": true
   },
   "source": [
    "## Testing 3 assumption: y = 'Expenditure_12M_Total'"
   ]
  },
  {
   "cell_type": "markdown",
   "metadata": {
    "heading_collapsed": true,
    "hidden": true
   },
   "source": [
    "### Drop variables with very low correlation to Y"
   ]
  },
  {
   "cell_type": "code",
   "execution_count": 48,
   "metadata": {
    "ExecuteTime": {
     "end_time": "2020-05-01T15:50:08.107812Z",
     "start_time": "2020-05-01T15:50:08.099830Z"
    },
    "hidden": true
   },
   "outputs": [
    {
     "data": {
      "text/plain": [
       "(9206, 22)"
      ]
     },
     "execution_count": 48,
     "metadata": {},
     "output_type": "execute_result"
    }
   ],
   "source": [
    "#Drop columns with very low correlations\n",
    "customer_filtered_4 = data_dropna.drop([\n",
    "      'Mean_SMU_Between_SOS'  #0.136025671692045\n",
    "#     'Family_Expenditure_12M_PartsNServices'  #0.101149367476691\n",
    "#     ,'Family_Expenditure_12M_Equipment'  #0.0992118087131292\n",
    "#      ,'Family_Accounts'  #0.091683866279908\n",
    "     ,'Percentage_SubscriptionActive'  #0.0871301151222554\n",
    "     ,'Percentage_PLDeviceSerialNumber'  #0.0553382796156029\n",
    "    ,'Family_CatFleetSize'  #0.0386292750913722\n",
    "    ,'Family_FleetSize'  #0.0369664040617472\n",
    "    ,'Mean_SMU_Between_Repairs'  #0.011595883273253\n",
    "     ],axis = 1)\n",
    "customer_filtered_4.shape"
   ]
  },
  {
   "cell_type": "markdown",
   "metadata": {
    "ExecuteTime": {
     "end_time": "2020-04-28T14:33:11.116893Z",
     "start_time": "2020-04-28T14:33:11.113907Z"
    },
    "heading_collapsed": true,
    "hidden": true
   },
   "source": [
    "### Testing for Multicollinearity"
   ]
  },
  {
   "cell_type": "code",
   "execution_count": 49,
   "metadata": {
    "ExecuteTime": {
     "end_time": "2020-05-01T15:50:09.749447Z",
     "start_time": "2020-05-01T15:50:09.169888Z"
    },
    "hidden": true,
    "scrolled": false
   },
   "outputs": [
    {
     "name": "stderr",
     "output_type": "stream",
     "text": [
      "C:\\Users\\julianyang\\AppData\\Local\\Continuum\\anaconda3\\lib\\site-packages\\numpy\\core\\fromnumeric.py:2389: FutureWarning: Method .ptp is deprecated and will be removed in a future version. Use numpy.ptp instead.\n",
      "  return ptp(axis=axis, out=out, **kwargs)\n",
      "C:\\Users\\julianyang\\AppData\\Local\\Continuum\\anaconda3\\lib\\site-packages\\statsmodels\\stats\\outliers_influence.py:185: RuntimeWarning: divide by zero encountered in double_scalars\n",
      "  vif = 1. / (1. - r_squared_i)\n"
     ]
    },
    {
     "name": "stdout",
     "output_type": "stream",
     "text": [
      "DATA BEFORE\n",
      "----------------------------------------------------------------------------------------------------\n"
     ]
    },
    {
     "data": {
      "text/plain": [
       "const                                        1.56\n",
       "Family_Accounts                            243.22\n",
       "Expenditure_12M_Equipment                     inf\n",
       "Expenditure_12M_PartsNServices                inf\n",
       "Expenditure_12M_Rentals                       inf\n",
       "Expenditure_12M_Total                         inf\n",
       "Family_Expenditure_12M_Equipment            73.42\n",
       "Family_Expenditure_12M_PartsNServices      103.22\n",
       "Family_Expenditure_12M_Rentals               7.45\n",
       "PARTS_CU_0_12M                              36.96\n",
       "SERVICES_CU_0_12M                           25.76\n",
       "WO_COUNT_CU_0_12M                            7.35\n",
       "SOS_COUNT_CU_0_12M                           8.06\n",
       "Count_CatFleetSize                          11.24\n",
       "Count_FleetSize                              5.03\n",
       "PartsDCAL                                    1.69\n",
       "ServiceDCAL                                  2.10\n",
       "OLGAAmount                                   9.00\n",
       "Utilization_Fleet_0_12M_Total               10.70\n",
       "PercentageFleet_Utilized_0_12M               2.00\n",
       "Average_Fleet_Annual_Utilization             2.10\n",
       "Average_Count_WorkOrder_Per_Unit_0_12M       2.29\n",
       "Average_Count_SOS_Per_Unit_0_12M             2.31\n",
       "dtype: float64"
      ]
     },
     "metadata": {},
     "output_type": "display_data"
    },
    {
     "name": "stdout",
     "output_type": "stream",
     "text": [
      "DATA AFTER\n",
      "----------------------------------------------------------------------------------------------------\n"
     ]
    },
    {
     "data": {
      "text/plain": [
       "const                                        1.50\n",
       "Expenditure_12M_Total                        2.54\n",
       "Family_Expenditure_12M_Rentals               1.06\n",
       "SOS_COUNT_CU_0_12M                           4.17\n",
       "Count_CatFleetSize                           3.15\n",
       "PartsDCAL                                    1.66\n",
       "ServiceDCAL                                  2.09\n",
       "OLGAAmount                                   6.35\n",
       "Utilization_Fleet_0_12M_Total                9.63\n",
       "PercentageFleet_Utilized_0_12M               1.97\n",
       "Average_Fleet_Annual_Utilization             2.08\n",
       "Average_Count_WorkOrder_Per_Unit_0_12M       1.92\n",
       "Average_Count_SOS_Per_Unit_0_12M             2.12\n",
       "dtype: float64"
      ]
     },
     "metadata": {},
     "output_type": "display_data"
    }
   ],
   "source": [
    "# define two data frames one before the drop and one after the drop\n",
    "customer_filtered_before = customer_filtered_4\n",
    "customer_filtered_after = customer_filtered_4.drop([\n",
    "    'Expenditure_12M_Rentals' #0.525139222\n",
    "    ,'Expenditure_12M_Equipment'  #0.792534850730603\n",
    "    ,'Expenditure_12M_PartsNServices'  #0.783863227622462\n",
    "    ,'SERVICES_CU_0_12M'  #0.696393345405361\n",
    "    ,'PARTS_CU_0_12M'  #0.633353238877687\n",
    "    ,'Count_FleetSize'\n",
    "    ,'WO_COUNT_CU_0_12M'\n",
    "    ,'Family_Accounts'\n",
    "    ,'Family_Expenditure_12M_PartsNServices'  #0.101149367476691\n",
    "    ,'Family_Expenditure_12M_Equipment'  #0.0992118087131292\n",
    "    ],axis = 1)\n",
    "\n",
    "#Step by step:\n",
    "#look for pairs in correlation matrix, find extreme high correlations and drop 1 of the two\n",
    "#review before/after series and correlation matrix back and forth Multiculinearity \n",
    "#shows high and somewhat similiar variance inflation factor\n",
    "#inf means extremely large and should be concerned\n",
    "#for pairs, drop the variable that is less complete/reliable, or if they could be calculated\n",
    "#from one another, or  has lower correlation to Y\n",
    "\n",
    "#set maximum display row to 100\n",
    "pd.options.display.max_rows = 100\n",
    "\n",
    "# the VFI does expect a constant term in the data, so we need to add one using the add_constant method\n",
    "X1 = sm.tools.add_constant(customer_filtered_before)\n",
    "X2 = sm.tools.add_constant(customer_filtered_after)\n",
    "\n",
    "# create the series for both\n",
    "series_before = pd.Series([variance_inflation_factor(X1.values, i) for i in range(X1.shape[1])], index=X1.columns)\n",
    "series_after = pd.Series([variance_inflation_factor(X2.values, i) for i in range(X2.shape[1])], index=X2.columns)\n",
    "\n",
    "# display the series\n",
    "\n",
    "print('DATA BEFORE')\n",
    "print('-'*100)\n",
    "display(series_before)\n",
    "#series_before.to_csv('..\\\\data\\\\Output\\\\series_before.csv')\n",
    "\n",
    "print('DATA AFTER')\n",
    "print('-'*100)\n",
    "display(series_after)\n",
    "#series_after.to_csv('..\\\\data\\\\Output\\\\series_after.csv')"
   ]
  },
  {
   "cell_type": "code",
   "execution_count": 50,
   "metadata": {
    "ExecuteTime": {
     "end_time": "2020-05-01T15:50:11.740738Z",
     "start_time": "2020-05-01T15:50:11.657914Z"
    },
    "hidden": true,
    "scrolled": false
   },
   "outputs": [
    {
     "data": {
      "text/html": [
       "<div>\n",
       "<style scoped>\n",
       "    .dataframe tbody tr th:only-of-type {\n",
       "        vertical-align: middle;\n",
       "    }\n",
       "\n",
       "    .dataframe tbody tr th {\n",
       "        vertical-align: top;\n",
       "    }\n",
       "\n",
       "    .dataframe thead th {\n",
       "        text-align: right;\n",
       "    }\n",
       "</style>\n",
       "<table border=\"1\" class=\"dataframe\">\n",
       "  <thead>\n",
       "    <tr style=\"text-align: right;\">\n",
       "      <th></th>\n",
       "      <th>const</th>\n",
       "      <th>Expenditure_12M_Total</th>\n",
       "      <th>Family_Expenditure_12M_Rentals</th>\n",
       "      <th>SOS_COUNT_CU_0_12M</th>\n",
       "      <th>Count_CatFleetSize</th>\n",
       "      <th>PartsDCAL</th>\n",
       "      <th>ServiceDCAL</th>\n",
       "      <th>OLGAAmount</th>\n",
       "      <th>Utilization_Fleet_0_12M_Total</th>\n",
       "      <th>PercentageFleet_Utilized_0_12M</th>\n",
       "      <th>Average_Fleet_Annual_Utilization</th>\n",
       "      <th>Average_Count_WorkOrder_Per_Unit_0_12M</th>\n",
       "      <th>Average_Count_SOS_Per_Unit_0_12M</th>\n",
       "    </tr>\n",
       "  </thead>\n",
       "  <tbody>\n",
       "    <tr>\n",
       "      <td>count</td>\n",
       "      <td>9,206.00</td>\n",
       "      <td>9,206.00</td>\n",
       "      <td>9,206.00</td>\n",
       "      <td>9,206.00</td>\n",
       "      <td>9,206.00</td>\n",
       "      <td>9,206.00</td>\n",
       "      <td>9,206.00</td>\n",
       "      <td>9,206.00</td>\n",
       "      <td>9,206.00</td>\n",
       "      <td>9,206.00</td>\n",
       "      <td>9,206.00</td>\n",
       "      <td>9,206.00</td>\n",
       "      <td>9,206.00</td>\n",
       "    </tr>\n",
       "    <tr>\n",
       "      <td>mean</td>\n",
       "      <td>1.00</td>\n",
       "      <td>90,490.08</td>\n",
       "      <td>176,841.43</td>\n",
       "      <td>7.81</td>\n",
       "      <td>3.54</td>\n",
       "      <td>15.50</td>\n",
       "      <td>10.16</td>\n",
       "      <td>134,329.76</td>\n",
       "      <td>1,168.98</td>\n",
       "      <td>16.89</td>\n",
       "      <td>222.86</td>\n",
       "      <td>0.88</td>\n",
       "      <td>0.82</td>\n",
       "    </tr>\n",
       "    <tr>\n",
       "      <td>std</td>\n",
       "      <td>0.00</td>\n",
       "      <td>589,918.94</td>\n",
       "      <td>1,743,768.33</td>\n",
       "      <td>77.50</td>\n",
       "      <td>12.01</td>\n",
       "      <td>28.95</td>\n",
       "      <td>25.29</td>\n",
       "      <td>624,587.93</td>\n",
       "      <td>6,957.16</td>\n",
       "      <td>31.86</td>\n",
       "      <td>536.18</td>\n",
       "      <td>3.33</td>\n",
       "      <td>3.46</td>\n",
       "    </tr>\n",
       "    <tr>\n",
       "      <td>min</td>\n",
       "      <td>1.00</td>\n",
       "      <td>-11,618.76</td>\n",
       "      <td>-180,000.00</td>\n",
       "      <td>0.00</td>\n",
       "      <td>0.00</td>\n",
       "      <td>0.00</td>\n",
       "      <td>0.00</td>\n",
       "      <td>0.00</td>\n",
       "      <td>-77,451.00</td>\n",
       "      <td>0.00</td>\n",
       "      <td>-15,490.20</td>\n",
       "      <td>-1.00</td>\n",
       "      <td>0.00</td>\n",
       "    </tr>\n",
       "    <tr>\n",
       "      <td>25%</td>\n",
       "      <td>1.00</td>\n",
       "      <td>135.54</td>\n",
       "      <td>0.00</td>\n",
       "      <td>0.00</td>\n",
       "      <td>0.00</td>\n",
       "      <td>0.00</td>\n",
       "      <td>0.00</td>\n",
       "      <td>0.00</td>\n",
       "      <td>0.00</td>\n",
       "      <td>0.00</td>\n",
       "      <td>0.00</td>\n",
       "      <td>0.00</td>\n",
       "      <td>0.00</td>\n",
       "    </tr>\n",
       "    <tr>\n",
       "      <td>50%</td>\n",
       "      <td>1.00</td>\n",
       "      <td>1,548.89</td>\n",
       "      <td>0.00</td>\n",
       "      <td>0.00</td>\n",
       "      <td>1.00</td>\n",
       "      <td>0.00</td>\n",
       "      <td>0.00</td>\n",
       "      <td>3,814.16</td>\n",
       "      <td>0.00</td>\n",
       "      <td>0.00</td>\n",
       "      <td>0.00</td>\n",
       "      <td>0.00</td>\n",
       "      <td>0.00</td>\n",
       "    </tr>\n",
       "    <tr>\n",
       "      <td>75%</td>\n",
       "      <td>1.00</td>\n",
       "      <td>14,074.89</td>\n",
       "      <td>0.00</td>\n",
       "      <td>0.00</td>\n",
       "      <td>3.00</td>\n",
       "      <td>16.32</td>\n",
       "      <td>0.85</td>\n",
       "      <td>69,488.30</td>\n",
       "      <td>196.75</td>\n",
       "      <td>20.00</td>\n",
       "      <td>162.00</td>\n",
       "      <td>0.00</td>\n",
       "      <td>0.00</td>\n",
       "    </tr>\n",
       "    <tr>\n",
       "      <td>max</td>\n",
       "      <td>1.00</td>\n",
       "      <td>20,311,094.32</td>\n",
       "      <td>22,709,669.40</td>\n",
       "      <td>4,932.00</td>\n",
       "      <td>662.00</td>\n",
       "      <td>100.00</td>\n",
       "      <td>100.00</td>\n",
       "      <td>22,472,639.80</td>\n",
       "      <td>291,569.00</td>\n",
       "      <td>100.00</td>\n",
       "      <td>7,869.00</td>\n",
       "      <td>82.00</td>\n",
       "      <td>69.00</td>\n",
       "    </tr>\n",
       "    <tr>\n",
       "      <td>+3_std</td>\n",
       "      <td>1.00</td>\n",
       "      <td>1,860,246.89</td>\n",
       "      <td>5,408,146.41</td>\n",
       "      <td>240.31</td>\n",
       "      <td>39.56</td>\n",
       "      <td>102.35</td>\n",
       "      <td>86.01</td>\n",
       "      <td>2,008,093.55</td>\n",
       "      <td>22,040.46</td>\n",
       "      <td>112.48</td>\n",
       "      <td>1,831.40</td>\n",
       "      <td>10.86</td>\n",
       "      <td>11.19</td>\n",
       "    </tr>\n",
       "    <tr>\n",
       "      <td>-3_std</td>\n",
       "      <td>1.00</td>\n",
       "      <td>-1,679,266.73</td>\n",
       "      <td>-5,054,463.55</td>\n",
       "      <td>-224.69</td>\n",
       "      <td>-32.49</td>\n",
       "      <td>-71.36</td>\n",
       "      <td>-65.70</td>\n",
       "      <td>-1,739,434.03</td>\n",
       "      <td>-19,702.50</td>\n",
       "      <td>-78.69</td>\n",
       "      <td>-1,385.68</td>\n",
       "      <td>-9.11</td>\n",
       "      <td>-9.55</td>\n",
       "    </tr>\n",
       "  </tbody>\n",
       "</table>\n",
       "</div>"
      ],
      "text/plain": [
       "          const  Expenditure_12M_Total  Family_Expenditure_12M_Rentals  \\\n",
       "count  9,206.00               9,206.00                        9,206.00   \n",
       "mean       1.00              90,490.08                      176,841.43   \n",
       "std        0.00             589,918.94                    1,743,768.33   \n",
       "min        1.00             -11,618.76                     -180,000.00   \n",
       "25%        1.00                 135.54                            0.00   \n",
       "50%        1.00               1,548.89                            0.00   \n",
       "75%        1.00              14,074.89                            0.00   \n",
       "max        1.00          20,311,094.32                   22,709,669.40   \n",
       "+3_std     1.00           1,860,246.89                    5,408,146.41   \n",
       "-3_std     1.00          -1,679,266.73                   -5,054,463.55   \n",
       "\n",
       "        SOS_COUNT_CU_0_12M  Count_CatFleetSize  PartsDCAL  ServiceDCAL  \\\n",
       "count             9,206.00            9,206.00   9,206.00     9,206.00   \n",
       "mean                  7.81                3.54      15.50        10.16   \n",
       "std                  77.50               12.01      28.95        25.29   \n",
       "min                   0.00                0.00       0.00         0.00   \n",
       "25%                   0.00                0.00       0.00         0.00   \n",
       "50%                   0.00                1.00       0.00         0.00   \n",
       "75%                   0.00                3.00      16.32         0.85   \n",
       "max               4,932.00              662.00     100.00       100.00   \n",
       "+3_std              240.31               39.56     102.35        86.01   \n",
       "-3_std             -224.69              -32.49     -71.36       -65.70   \n",
       "\n",
       "          OLGAAmount  Utilization_Fleet_0_12M_Total  \\\n",
       "count       9,206.00                       9,206.00   \n",
       "mean      134,329.76                       1,168.98   \n",
       "std       624,587.93                       6,957.16   \n",
       "min             0.00                     -77,451.00   \n",
       "25%             0.00                           0.00   \n",
       "50%         3,814.16                           0.00   \n",
       "75%        69,488.30                         196.75   \n",
       "max    22,472,639.80                     291,569.00   \n",
       "+3_std  2,008,093.55                      22,040.46   \n",
       "-3_std -1,739,434.03                     -19,702.50   \n",
       "\n",
       "        PercentageFleet_Utilized_0_12M  Average_Fleet_Annual_Utilization  \\\n",
       "count                         9,206.00                          9,206.00   \n",
       "mean                             16.89                            222.86   \n",
       "std                              31.86                            536.18   \n",
       "min                               0.00                        -15,490.20   \n",
       "25%                               0.00                              0.00   \n",
       "50%                               0.00                              0.00   \n",
       "75%                              20.00                            162.00   \n",
       "max                             100.00                          7,869.00   \n",
       "+3_std                          112.48                          1,831.40   \n",
       "-3_std                          -78.69                         -1,385.68   \n",
       "\n",
       "        Average_Count_WorkOrder_Per_Unit_0_12M  \\\n",
       "count                                 9,206.00   \n",
       "mean                                      0.88   \n",
       "std                                       3.33   \n",
       "min                                      -1.00   \n",
       "25%                                       0.00   \n",
       "50%                                       0.00   \n",
       "75%                                       0.00   \n",
       "max                                      82.00   \n",
       "+3_std                                   10.86   \n",
       "-3_std                                   -9.11   \n",
       "\n",
       "        Average_Count_SOS_Per_Unit_0_12M  \n",
       "count                           9,206.00  \n",
       "mean                                0.82  \n",
       "std                                 3.46  \n",
       "min                                 0.00  \n",
       "25%                                 0.00  \n",
       "50%                                 0.00  \n",
       "75%                                 0.00  \n",
       "max                                69.00  \n",
       "+3_std                             11.19  \n",
       "-3_std                             -9.55  "
      ]
     },
     "execution_count": 50,
     "metadata": {},
     "output_type": "execute_result"
    }
   ],
   "source": [
    "# get the summary\n",
    "desc_df = X2.describe()\n",
    "\n",
    "# add the standard deviation metric\n",
    "desc_df.loc['+3_std'] = desc_df.loc['mean'] + (desc_df.loc['std'] * 3)\n",
    "desc_df.loc['-3_std'] = desc_df.loc['mean'] - (desc_df.loc['std'] * 3)\n",
    "\n",
    "# display it\n",
    "desc_df"
   ]
  },
  {
   "cell_type": "markdown",
   "metadata": {
    "heading_collapsed": true,
    "hidden": true
   },
   "source": [
    "### Create regression model using split"
   ]
  },
  {
   "cell_type": "code",
   "execution_count": 51,
   "metadata": {
    "ExecuteTime": {
     "end_time": "2020-05-01T15:50:12.741371Z",
     "start_time": "2020-05-01T15:50:12.711451Z"
    },
    "hidden": true
   },
   "outputs": [
    {
     "name": "stdout",
     "output_type": "stream",
     "text": [
      "The intercept for our model is -2.416e+04\n",
      "----------------------------------------------------------------------------------------------------\n",
      "The Coefficient for Family_Expenditure_12M_Rentals is 0.019\n",
      "The Coefficient for SOS_COUNT_CU_0_12M is 1.2e+03\n",
      "The Coefficient for Count_CatFleetSize is 2.2e+04\n",
      "The Coefficient for PartsDCAL is 4.8e+02\n",
      "The Coefficient for ServiceDCAL is -4.8e+02\n",
      "The Coefficient for OLGAAmount is -0.14\n",
      "The Coefficient for Utilization_Fleet_0_12M_Total is 3.6e+01\n",
      "The Coefficient for PercentageFleet_Utilized_0_12M is 9.1e+01\n",
      "The Coefficient for Average_Fleet_Annual_Utilization is -9.6e+01\n",
      "The Coefficient for Average_Count_WorkOrder_Per_Unit_0_12M is 2.3e+04\n",
      "The Coefficient for Average_Count_SOS_Per_Unit_0_12M is -4.3e+03\n"
     ]
    }
   ],
   "source": [
    "# define our input variable (X) & output variable\n",
    "X = customer_filtered_after.drop('Expenditure_12M_Total', axis = 1)\n",
    "Y = customer_filtered_after[['Expenditure_12M_Total']]\n",
    "\n",
    "# Split X and y into X_\n",
    "X_train, X_test, y_train, y_test = train_test_split(X, Y, test_size=0.20, random_state=1)\n",
    "# create a Linear Regression model object\n",
    "regression_model = LinearRegression()\n",
    "# pass through the X_train & y_train data set\n",
    "regression_model.fit(X_train, y_train)\n",
    "\n",
    "# let's grab the coefficient of our model and the intercept\n",
    "intercept2 = regression_model.intercept_[0]\n",
    "coefficent2 = regression_model.coef_[0][0]\n",
    "\n",
    "print(\"The intercept for our model is {:.4}\".format(intercept2))\n",
    "print('-'*100)\n",
    "\n",
    "# loop through the dictionary and print the data\n",
    "for coef in zip(X.columns, regression_model.coef_[0]):\n",
    "    print(\"The Coefficient for {} is {:.2}\".format(coef[0],coef[1]))"
   ]
  },
  {
   "cell_type": "code",
   "execution_count": 52,
   "metadata": {
    "ExecuteTime": {
     "end_time": "2020-05-01T15:50:13.895112Z",
     "start_time": "2020-05-01T15:50:13.877155Z"
    },
    "hidden": true,
    "scrolled": false
   },
   "outputs": [
    {
     "name": "stdout",
     "output_type": "stream",
     "text": [
      "                                  OLS Regression Results                                  \n",
      "==========================================================================================\n",
      "Dep. Variable:     Expenditure_12M_Total   R-squared (uncentered):                   0.659\n",
      "Model:                               OLS   Adj. R-squared (uncentered):              0.658\n",
      "Method:                    Least Squares   F-statistic:                              1289.\n",
      "Date:                   Fri, 01 May 2020   Prob (F-statistic):                        0.00\n",
      "Time:                           11:50:13   Log-Likelihood:                     -1.0474e+05\n",
      "No. Observations:                   7364   AIC:                                  2.095e+05\n",
      "Df Residuals:                       7353   BIC:                                  2.096e+05\n",
      "Df Model:                             11                                                  \n",
      "Covariance Type:               nonrobust                                                  \n",
      "==========================================================================================================\n",
      "                                             coef    std err          t      P>|t|      [0.025      0.975]\n",
      "----------------------------------------------------------------------------------------------------------\n",
      "Family_Expenditure_12M_Rentals             0.0188      0.003      7.506      0.000       0.014       0.024\n",
      "SOS_COUNT_CU_0_12M                      1221.7643    102.307     11.942      0.000    1021.214    1422.315\n",
      "Count_CatFleetSize                       2.17e+04    533.518     40.673      0.000    2.07e+04    2.27e+04\n",
      "PartsDCAL                                251.4707    184.518      1.363      0.173    -110.237     613.178\n",
      "ServiceDCAL                             -449.9655    246.362     -1.826      0.068    -932.906      32.975\n",
      "OLGAAmount                                -0.1470      0.016     -9.029      0.000      -0.179      -0.115\n",
      "Utilization_Fleet_0_12M_Total             37.0570      1.744     21.245      0.000      33.638      40.476\n",
      "PercentageFleet_Utilized_0_12M           -90.2443    182.165     -0.495      0.620    -447.340     266.852\n",
      "Average_Fleet_Annual_Utilization        -101.1385     10.899     -9.280      0.000    -122.504     -79.774\n",
      "Average_Count_WorkOrder_Per_Unit_0_12M  2.333e+04   1744.698     13.372      0.000    1.99e+04    2.68e+04\n",
      "Average_Count_SOS_Per_Unit_0_12M       -3920.5312   1800.862     -2.177      0.030   -7450.737    -390.326\n",
      "==============================================================================\n",
      "Omnibus:                    13003.597   Durbin-Watson:                   1.997\n",
      "Prob(Omnibus):                  0.000   Jarque-Bera (JB):         62239454.392\n",
      "Skew:                          11.927   Prob(JB):                         0.00\n",
      "Kurtosis:                     452.750   Cond. No.                     8.74e+05\n",
      "==============================================================================\n",
      "\n",
      "Warnings:\n",
      "[1] Standard Errors assume that the covariance matrix of the errors is correctly specified.\n",
      "[2] The condition number is large, 8.74e+05. This might indicate that there are\n",
      "strong multicollinearity or other numerical problems.\n"
     ]
    }
   ],
   "source": [
    "model = sm.OLS(y_train, X_train)\n",
    "results = model.fit()\n",
    "print(results.summary())"
   ]
  },
  {
   "cell_type": "code",
   "execution_count": 53,
   "metadata": {
    "ExecuteTime": {
     "end_time": "2020-05-01T15:50:18.592727Z",
     "start_time": "2020-05-01T15:50:18.583748Z"
    },
    "hidden": true
   },
   "outputs": [
    {
     "data": {
      "text/plain": [
       "Family_Expenditure_12M_Rentals               0.00\n",
       "SOS_COUNT_CU_0_12M                           0.00\n",
       "Count_CatFleetSize                           0.00\n",
       "PartsDCAL                                    0.17\n",
       "ServiceDCAL                                  0.07\n",
       "OLGAAmount                                   0.00\n",
       "Utilization_Fleet_0_12M_Total                0.00\n",
       "PercentageFleet_Utilized_0_12M               0.62\n",
       "Average_Fleet_Annual_Utilization             0.00\n",
       "Average_Count_WorkOrder_Per_Unit_0_12M       0.00\n",
       "Average_Count_SOS_Per_Unit_0_12M             0.03\n",
       "dtype: float64"
      ]
     },
     "execution_count": 53,
     "metadata": {},
     "output_type": "execute_result"
    }
   ],
   "source": [
    "results.pvalues"
   ]
  },
  {
   "cell_type": "markdown",
   "metadata": {
    "heading_collapsed": true,
    "hidden": true
   },
   "source": [
    "### Measures of Error"
   ]
  },
  {
   "cell_type": "code",
   "execution_count": 29,
   "metadata": {
    "ExecuteTime": {
     "end_time": "2020-05-01T15:25:26.432973Z",
     "start_time": "2020-05-01T15:25:26.423999Z"
    },
    "hidden": true
   },
   "outputs": [
    {
     "name": "stdout",
     "output_type": "stream",
     "text": [
      "MSE 1.58e+11\n",
      "MAE 1.02e+05\n",
      "RMSE 3.97e+05\n"
     ]
    }
   ],
   "source": [
    "y_predict = regression_model.predict(X_test)\n",
    "\n",
    "# calculate the mean squared error\n",
    "model_mse = mean_squared_error(y_test, y_predict)\n",
    "\n",
    "# calculate the mean absolute error\n",
    "model_mae = mean_absolute_error(y_test, y_predict)\n",
    "\n",
    "# calulcate the root mean squared error\n",
    "model_rmse =  math.sqrt(model_mse)\n",
    "\n",
    "# display the output\n",
    "print(\"MSE {:.3}\".format(model_mse))\n",
    "print(\"MAE {:.3}\".format(model_mae))\n",
    "print(\"RMSE {:.3}\".format(model_rmse))"
   ]
  },
  {
   "cell_type": "markdown",
   "metadata": {
    "ExecuteTime": {
     "end_time": "2020-04-30T18:23:32.106281Z",
     "start_time": "2020-04-30T18:23:32.103320Z"
    },
    "heading_collapsed": true,
    "hidden": true
   },
   "source": [
    "### R-Squared"
   ]
  },
  {
   "cell_type": "code",
   "execution_count": 30,
   "metadata": {
    "ExecuteTime": {
     "end_time": "2020-05-01T15:25:28.808970Z",
     "start_time": "2020-05-01T15:25:28.802988Z"
    },
    "hidden": true
   },
   "outputs": [
    {
     "name": "stdout",
     "output_type": "stream",
     "text": [
      "R2: 0.29\n"
     ]
    }
   ],
   "source": [
    "model_r2 = r2_score(y_test, y_predict)\n",
    "print(\"R2: {:.2}\".format(model_r2))"
   ]
  },
  {
   "cell_type": "markdown",
   "metadata": {
    "heading_collapsed": true,
    "hidden": true
   },
   "source": [
    "### Regression model"
   ]
  },
  {
   "cell_type": "markdown",
   "metadata": {
    "heading_collapsed": true,
    "hidden": true
   },
   "source": [
    "### Testing for Autocorrelation"
   ]
  },
  {
   "cell_type": "code",
   "execution_count": null,
   "metadata": {
    "ExecuteTime": {
     "end_time": "2020-05-01T12:55:58.902026Z",
     "start_time": "2020-05-01T12:55:58.693589Z"
    },
    "hidden": true
   },
   "outputs": [],
   "source": [
    "# test for Autocorrelation\n",
    "from statsmodels.stats.stattools import durbin_watson\n",
    "\n",
    "# define our intput\n",
    "X2 = sm.add_constant(X)\n",
    "\n",
    "# create a OLS model\n",
    "model = sm.OLS(Y, X2)\n",
    "\n",
    "# fit the data\n",
    "est = model.fit()\n",
    "\n",
    "# calculate the lag, optional\n",
    "lag = min(10, (len(X)//5))\n",
    "print('The number of lags will be {}'.format(lag))\n",
    "print('-'*100)\n",
    "\n",
    "# run the Ljung-Box test for no autocorrelation of residuals\n",
    "# test_results = diag.acorr_breusch_godfrey(est, nlags = lag, store = True)\n",
    "test_results = diag.acorr_ljungbox(est.resid, lags = lag)\n",
    "\n",
    "# grab the p-values and the test statistics\n",
    "ibvalue, p_val = test_results\n",
    "\n",
    "# print the results of the test\n",
    "if min(p_val) > 0.05:\n",
    "    print(\"The lowest p-value found was {:.4}\".format(min(p_val)))\n",
    "    print(\"We fail to reject the null hypthoesis, so there is no autocorrelation.\")\n",
    "    print('-'*100)\n",
    "else:\n",
    "    print(\"The lowest p-value found was {:.4}\".format(min(p_val)))\n",
    "    print(\"We reject the null hypthoesis, so there is autocorrelation.\")\n",
    "    print('-'*100)\n",
    "\n",
    "# plot autocorrelation\n",
    "sm.graphics.tsa.plot_acf(est.resid)\n",
    "plt.show()"
   ]
  },
  {
   "cell_type": "markdown",
   "metadata": {
    "heading_collapsed": true,
    "hidden": true
   },
   "source": [
    "### Testing for Heteroscedasticity"
   ]
  },
  {
   "cell_type": "code",
   "execution_count": null,
   "metadata": {
    "ExecuteTime": {
     "end_time": "2020-05-01T12:38:02.502554Z",
     "start_time": "2020-05-01T12:38:02.364884Z"
    },
    "hidden": true
   },
   "outputs": [],
   "source": [
    "#Run the White's test\n",
    "_, pval, __, f_pval = diag.het_white(est.resid, est.model.exog)\n",
    "# print(pval, f_pval)\n",
    "# print('-'*100)\n",
    "\n",
    "# # print the results of the test\n",
    "# if pval > 0.05:\n",
    "#     print(\"For the White's Test\")\n",
    "#     print(\"The p-value was {:.4}\".format(pval))\n",
    "#     print(\"We fail to reject the null hypthoesis, so there is no heterosecdasticity. \\n\")\n",
    "    \n",
    "# else:\n",
    "#     print(\"For the White's Test\")\n",
    "#     print(\"The p-value was {:.4}\".format(pval))\n",
    "#     print(\"We reject the null hypthoesis, so there is heterosecdasticity. \\n\")\n",
    "\n",
    "# # Run the Breusch-Pagan test\n",
    "# _, pval, __, f_pval = diag.het_breuschpagan(est.resid, est.model.exog)\n",
    "# print(pval, f_pval)\n",
    "# print('-'*100)\n",
    "\n",
    "# # print the results of the test\n",
    "# if pval > 0.05:\n",
    "#     print(\"For the Breusch-Pagan's Test\")\n",
    "#     print(\"The p-value was {:.4}\".format(pval))\n",
    "#     print(\"We fail to reject the null hypthoesis, so there is no heterosecdasticity.\")\n",
    "\n",
    "# else:\n",
    "#     print(\"For the Breusch-Pagan's Test\")\n",
    "#     print(\"The p-value was {:.4}\".format(pval))\n",
    "#     print(\"We reject the null hypthoesis, so there is heterosecdasticity.\")"
   ]
  },
  {
   "cell_type": "markdown",
   "metadata": {
    "heading_collapsed": true,
    "hidden": true
   },
   "source": [
    "### Testing the Mean of the Residuals Equals 0"
   ]
  },
  {
   "cell_type": "code",
   "execution_count": null,
   "metadata": {
    "ExecuteTime": {
     "end_time": "2020-05-01T12:56:08.856486Z",
     "start_time": "2020-05-01T12:56:08.704921Z"
    },
    "hidden": true,
    "scrolled": true
   },
   "outputs": [],
   "source": [
    "# check for the normality of the residuals\n",
    "sm.qqplot(est.resid, line='s')\n",
    "pylab.show()\n",
    "\n",
    "# also check that the mean of the residuals is approx. 0.\n",
    "mean_residuals = sum(est.resid)/ len(est.resid)\n",
    "print(\"The mean of the residuals is {:.4}\".format(mean_residuals))"
   ]
  },
  {
   "cell_type": "markdown",
   "metadata": {
    "heading_collapsed": true,
    "hidden": true
   },
   "source": [
    "### Confidence Intervals"
   ]
  },
  {
   "cell_type": "code",
   "execution_count": null,
   "metadata": {
    "ExecuteTime": {
     "end_time": "2020-05-01T12:56:14.462776Z",
     "start_time": "2020-05-01T12:56:14.451848Z"
    },
    "hidden": true,
    "scrolled": true
   },
   "outputs": [],
   "source": [
    "# make some confidence intervals, 95% by default\n",
    "est.conf_int()"
   ]
  },
  {
   "cell_type": "markdown",
   "metadata": {
    "heading_collapsed": true,
    "hidden": true
   },
   "source": [
    "### Hypothesis Testing"
   ]
  },
  {
   "cell_type": "code",
   "execution_count": null,
   "metadata": {
    "ExecuteTime": {
     "end_time": "2020-05-01T12:56:15.871008Z",
     "start_time": "2020-05-01T12:56:15.864030Z"
    },
    "hidden": true,
    "scrolled": false
   },
   "outputs": [],
   "source": [
    "# estimate the p-values\n",
    "est.pvalues"
   ]
  },
  {
   "cell_type": "markdown",
   "metadata": {
    "heading_collapsed": true,
    "hidden": true
   },
   "source": [
    "### Adjust the model"
   ]
  },
  {
   "cell_type": "code",
   "execution_count": null,
   "metadata": {
    "ExecuteTime": {
     "end_time": "2020-05-01T13:00:58.449210Z",
     "start_time": "2020-05-01T13:00:58.420265Z"
    },
    "hidden": true
   },
   "outputs": [],
   "source": [
    "# define our input variable (X) & output variable\n",
    "customer_filtered_again = customer_filtered_after.drop([\n",
    "    'ServiceDCAL'\n",
    "    ,'Average_Count_WorkOrder_Per_Unit_0_12M'\n",
    "    ,'Average_Count_SOS_Per_Unit_0_12M'\n",
    "#    ,'Percentage_PLDeviceSerialNumber'\n",
    "#    ,'PercentageFleet_Utilized_0_12M'\n",
    "#    ,'Mean_SMU_Between_SOS'\n",
    "     ],axis = 1)\n",
    "\n",
    "X = customer_filtered_again.drop('Expenditure_12M_Total', axis = 1)\n",
    "Y = customer_filtered_again[['Expenditure_12M_Total']]\n",
    "\n",
    "# Split X and y into X_\n",
    "X_train, X_test, y_train, y_test = train_test_split(X, Y, test_size=0.20, random_state=1)\n",
    "# create a Linear Regression model object\n",
    "regression_model = LinearRegression()\n",
    "# pass through the X_train & y_train data set\n",
    "regression_model.fit(X_train, y_train)\n",
    "\n",
    "#Summary\n",
    "model = sm.OLS(y_test, X_test)\n",
    "results = model.fit()\n",
    "print(results.summary())"
   ]
  },
  {
   "cell_type": "code",
   "execution_count": null,
   "metadata": {
    "ExecuteTime": {
     "end_time": "2020-05-01T13:01:00.959318Z",
     "start_time": "2020-05-01T13:01:00.949380Z"
    },
    "hidden": true
   },
   "outputs": [],
   "source": [
    "y_predict = regression_model.predict(X_test)\n",
    "\n",
    "# calculate the mean squared error\n",
    "model_mse = mean_squared_error(y_test, y_predict)\n",
    "\n",
    "# calculate the mean absolute error\n",
    "model_mae = mean_absolute_error(y_test, y_predict)\n",
    "\n",
    "# calulcate the root mean squared error\n",
    "model_rmse =  math.sqrt(model_mse)\n",
    "\n",
    "# display the output\n",
    "print(\"MSE {:.3}\".format(model_mse))\n",
    "print(\"MAE {:.3}\".format(model_mae))\n",
    "print(\"RMSE {:.3}\".format(model_rmse))"
   ]
  },
  {
   "cell_type": "markdown",
   "metadata": {
    "ExecuteTime": {
     "end_time": "2020-04-30T18:23:32.106281Z",
     "start_time": "2020-04-30T18:23:32.103320Z"
    },
    "heading_collapsed": true,
    "hidden": true
   },
   "source": [
    "### R-Squared"
   ]
  },
  {
   "cell_type": "code",
   "execution_count": null,
   "metadata": {
    "ExecuteTime": {
     "end_time": "2020-05-01T13:01:02.371172Z",
     "start_time": "2020-05-01T13:01:02.365172Z"
    },
    "hidden": true
   },
   "outputs": [],
   "source": [
    "model_r2 = r2_score(y_test, y_predict)\n",
    "print(\"R2: {:.2}\".format(model_r2))"
   ]
  },
  {
   "cell_type": "markdown",
   "metadata": {
    "heading_collapsed": true
   },
   "source": [
    "# Explore the variables in linear regression (o_o)!===<"
   ]
  },
  {
   "cell_type": "markdown",
   "metadata": {
    "heading_collapsed": true,
    "hidden": true
   },
   "source": [
    "## Test 1: x = Utilization_Fleet_0_12M_Total y= Expenditure_12M_Total"
   ]
  },
  {
   "cell_type": "markdown",
   "metadata": {
    "heading_collapsed": true,
    "hidden": true
   },
   "source": [
    "### Assess the variables"
   ]
  },
  {
   "cell_type": "code",
   "execution_count": 31,
   "metadata": {
    "ExecuteTime": {
     "end_time": "2020-05-01T15:27:47.933678Z",
     "start_time": "2020-05-01T15:27:47.912769Z"
    },
    "hidden": true
   },
   "outputs": [
    {
     "data": {
      "text/html": [
       "<div>\n",
       "<style scoped>\n",
       "    .dataframe tbody tr th:only-of-type {\n",
       "        vertical-align: middle;\n",
       "    }\n",
       "\n",
       "    .dataframe tbody tr th {\n",
       "        vertical-align: top;\n",
       "    }\n",
       "\n",
       "    .dataframe thead th {\n",
       "        text-align: right;\n",
       "    }\n",
       "</style>\n",
       "<table border=\"1\" class=\"dataframe\">\n",
       "  <thead>\n",
       "    <tr style=\"text-align: right;\">\n",
       "      <th></th>\n",
       "      <th>Utilization_Fleet_0_12M_Total</th>\n",
       "      <th>Expenditure_12M_Total</th>\n",
       "    </tr>\n",
       "  </thead>\n",
       "  <tbody>\n",
       "    <tr>\n",
       "      <td>count</td>\n",
       "      <td>9,206.00</td>\n",
       "      <td>9,206.00</td>\n",
       "    </tr>\n",
       "    <tr>\n",
       "      <td>mean</td>\n",
       "      <td>1,168.98</td>\n",
       "      <td>90,490.08</td>\n",
       "    </tr>\n",
       "    <tr>\n",
       "      <td>std</td>\n",
       "      <td>6,957.16</td>\n",
       "      <td>589,918.94</td>\n",
       "    </tr>\n",
       "    <tr>\n",
       "      <td>min</td>\n",
       "      <td>-77,451.00</td>\n",
       "      <td>-11,618.76</td>\n",
       "    </tr>\n",
       "    <tr>\n",
       "      <td>25%</td>\n",
       "      <td>0.00</td>\n",
       "      <td>135.54</td>\n",
       "    </tr>\n",
       "    <tr>\n",
       "      <td>50%</td>\n",
       "      <td>0.00</td>\n",
       "      <td>1,548.89</td>\n",
       "    </tr>\n",
       "    <tr>\n",
       "      <td>75%</td>\n",
       "      <td>196.75</td>\n",
       "      <td>14,074.89</td>\n",
       "    </tr>\n",
       "    <tr>\n",
       "      <td>max</td>\n",
       "      <td>291,569.00</td>\n",
       "      <td>20,311,094.32</td>\n",
       "    </tr>\n",
       "  </tbody>\n",
       "</table>\n",
       "</div>"
      ],
      "text/plain": [
       "       Utilization_Fleet_0_12M_Total  Expenditure_12M_Total\n",
       "count                       9,206.00               9,206.00\n",
       "mean                        1,168.98              90,490.08\n",
       "std                         6,957.16             589,918.94\n",
       "min                       -77,451.00             -11,618.76\n",
       "25%                             0.00                 135.54\n",
       "50%                             0.00               1,548.89\n",
       "75%                           196.75              14,074.89\n",
       "max                       291,569.00          20,311,094.32"
      ]
     },
     "execution_count": 31,
     "metadata": {},
     "output_type": "execute_result"
    }
   ],
   "source": [
    "#Create subset test for testing ideal element\n",
    "test = data_dropna.loc[:, ['Utilization_Fleet_0_12M_Total', 'Expenditure_12M_Total']]\n",
    "#define the x & y data\n",
    "x = test['Utilization_Fleet_0_12M_Total']\n",
    "y = test['Expenditure_12M_Total']\n",
    "\n",
    "test.describe()"
   ]
  },
  {
   "cell_type": "code",
   "execution_count": 32,
   "metadata": {
    "ExecuteTime": {
     "end_time": "2020-05-01T15:27:49.311760Z",
     "start_time": "2020-05-01T15:27:49.052453Z"
    },
    "hidden": true,
    "scrolled": true
   },
   "outputs": [
    {
     "name": "stderr",
     "output_type": "stream",
     "text": [
      "No handles with labels found to put in legend.\n"
     ]
    },
    {
     "data": {
      "image/png": "[encoded data removed]",
      "text/plain": [
       "<Figure size 432x288 with 1 Axes>"
      ]
     },
     "metadata": {
      "needs_background": "light"
     },
     "output_type": "display_data"
    }
   ],
   "source": [
    "#create the scatter plot from data1\n",
    "plt.plot(x,y,'o',color = 'Pink', label = '')\n",
    "# add the column names as labels\n",
    "plt.title('X VS Y')\n",
    "plt.xlabel('Utilization_Fleet_0_12M_Total')\n",
    "plt.ylabel('Expenditure_12M_Total')\n",
    "plt.legend()\n",
    "plt.show()\n",
    "#Scatter plot shows a few extreme samples. Total rows 456"
   ]
  },
  {
   "cell_type": "markdown",
   "metadata": {
    "heading_collapsed": true,
    "hidden": true
   },
   "source": [
    "### Remove outliers"
   ]
  },
  {
   "cell_type": "code",
   "execution_count": 33,
   "metadata": {
    "ExecuteTime": {
     "end_time": "2020-05-01T15:27:52.758303Z",
     "start_time": "2020-05-01T15:27:52.741316Z"
    },
    "hidden": true,
    "scrolled": true
   },
   "outputs": [
    {
     "data": {
      "text/html": [
       "<div>\n",
       "<style scoped>\n",
       "    .dataframe tbody tr th:only-of-type {\n",
       "        vertical-align: middle;\n",
       "    }\n",
       "\n",
       "    .dataframe tbody tr th {\n",
       "        vertical-align: top;\n",
       "    }\n",
       "\n",
       "    .dataframe thead th {\n",
       "        text-align: right;\n",
       "    }\n",
       "</style>\n",
       "<table border=\"1\" class=\"dataframe\">\n",
       "  <thead>\n",
       "    <tr style=\"text-align: right;\">\n",
       "      <th></th>\n",
       "      <th>Utilization_Fleet_0_12M_Total</th>\n",
       "      <th>Expenditure_12M_Total</th>\n",
       "    </tr>\n",
       "  </thead>\n",
       "  <tbody>\n",
       "    <tr>\n",
       "      <td>count</td>\n",
       "      <td>9,095.00</td>\n",
       "      <td>9,095.00</td>\n",
       "    </tr>\n",
       "    <tr>\n",
       "      <td>mean</td>\n",
       "      <td>684.73</td>\n",
       "      <td>50,513.27</td>\n",
       "    </tr>\n",
       "    <tr>\n",
       "      <td>std</td>\n",
       "      <td>2,164.20</td>\n",
       "      <td>163,608.20</td>\n",
       "    </tr>\n",
       "    <tr>\n",
       "      <td>min</td>\n",
       "      <td>-90.00</td>\n",
       "      <td>-11,618.76</td>\n",
       "    </tr>\n",
       "    <tr>\n",
       "      <td>25%</td>\n",
       "      <td>0.00</td>\n",
       "      <td>128.21</td>\n",
       "    </tr>\n",
       "    <tr>\n",
       "      <td>50%</td>\n",
       "      <td>0.00</td>\n",
       "      <td>1,475.24</td>\n",
       "    </tr>\n",
       "    <tr>\n",
       "      <td>75%</td>\n",
       "      <td>146.00</td>\n",
       "      <td>12,788.83</td>\n",
       "    </tr>\n",
       "    <tr>\n",
       "      <td>max</td>\n",
       "      <td>21,985.00</td>\n",
       "      <td>1,860,119.97</td>\n",
       "    </tr>\n",
       "  </tbody>\n",
       "</table>\n",
       "</div>"
      ],
      "text/plain": [
       "       Utilization_Fleet_0_12M_Total  Expenditure_12M_Total\n",
       "count                       9,095.00               9,095.00\n",
       "mean                          684.73              50,513.27\n",
       "std                         2,164.20             163,608.20\n",
       "min                           -90.00             -11,618.76\n",
       "25%                             0.00                 128.21\n",
       "50%                             0.00               1,475.24\n",
       "75%                           146.00              12,788.83\n",
       "max                        21,985.00           1,860,119.97"
      ]
     },
     "execution_count": 33,
     "metadata": {},
     "output_type": "execute_result"
    }
   ],
   "source": [
    "#remove extreme outliers:\n",
    "#If you have multiple columns in your dataframe and would like to remove all rows that have outliers in at least one column, \n",
    "#the following expression would do that in one shot: select absolute Z score for the row <1.65 (). .all or .any\n",
    "test_reduced_by_z = test[(np.abs(stats.zscore(test)) < 3).all(axis=1)]\n",
    "\n",
    "x = test_reduced_by_z['Utilization_Fleet_0_12M_Total']\n",
    "y = test_reduced_by_z['Expenditure_12M_Total']\n",
    "test_reduced_by_z.describe()"
   ]
  },
  {
   "cell_type": "code",
   "execution_count": 34,
   "metadata": {
    "ExecuteTime": {
     "end_time": "2020-05-01T15:27:54.143669Z",
     "start_time": "2020-05-01T15:27:53.906305Z"
    },
    "hidden": true
   },
   "outputs": [
    {
     "name": "stderr",
     "output_type": "stream",
     "text": [
      "No handles with labels found to put in legend.\n"
     ]
    },
    {
     "data": {
      "image/png": "[encoded data removed]",
      "text/plain": [
       "<Figure size 432x288 with 1 Axes>"
      ]
     },
     "metadata": {
      "needs_background": "light"
     },
     "output_type": "display_data"
    }
   ],
   "source": [
    "#create the new scatter plot\n",
    "plt.plot(x,y,'o',color = 'pink', label = '')\n",
    "# add the column names as labels\n",
    "plt.title('X VS Y')\n",
    "plt.xlabel('Utilization_Fleet_0_12M_Total')\n",
    "plt.ylabel('Expenditure_12M_Total')\n",
    "plt.legend()\n",
    "plt.show()"
   ]
  },
  {
   "cell_type": "code",
   "execution_count": 35,
   "metadata": {
    "ExecuteTime": {
     "end_time": "2020-05-01T15:27:55.554000Z",
     "start_time": "2020-05-01T15:27:55.544028Z"
    },
    "hidden": true,
    "scrolled": false
   },
   "outputs": [
    {
     "data": {
      "text/html": [
       "<div>\n",
       "<style scoped>\n",
       "    .dataframe tbody tr th:only-of-type {\n",
       "        vertical-align: middle;\n",
       "    }\n",
       "\n",
       "    .dataframe tbody tr th {\n",
       "        vertical-align: top;\n",
       "    }\n",
       "\n",
       "    .dataframe thead th {\n",
       "        text-align: right;\n",
       "    }\n",
       "</style>\n",
       "<table border=\"1\" class=\"dataframe\">\n",
       "  <thead>\n",
       "    <tr style=\"text-align: right;\">\n",
       "      <th></th>\n",
       "      <th>Utilization_Fleet_0_12M_Total</th>\n",
       "      <th>Expenditure_12M_Total</th>\n",
       "    </tr>\n",
       "  </thead>\n",
       "  <tbody>\n",
       "    <tr>\n",
       "      <td>Utilization_Fleet_0_12M_Total</td>\n",
       "      <td>1.00</td>\n",
       "      <td>0.56</td>\n",
       "    </tr>\n",
       "    <tr>\n",
       "      <td>Expenditure_12M_Total</td>\n",
       "      <td>0.56</td>\n",
       "      <td>1.00</td>\n",
       "    </tr>\n",
       "  </tbody>\n",
       "</table>\n",
       "</div>"
      ],
      "text/plain": [
       "                               Utilization_Fleet_0_12M_Total  \\\n",
       "Utilization_Fleet_0_12M_Total                           1.00   \n",
       "Expenditure_12M_Total                                   0.56   \n",
       "\n",
       "                               Expenditure_12M_Total  \n",
       "Utilization_Fleet_0_12M_Total                   0.56  \n",
       "Expenditure_12M_Total                           1.00  "
      ]
     },
     "execution_count": 35,
     "metadata": {},
     "output_type": "execute_result"
    }
   ],
   "source": [
    "test_reduced_by_z.corr()"
   ]
  },
  {
   "cell_type": "code",
   "execution_count": 36,
   "metadata": {
    "ExecuteTime": {
     "end_time": "2020-05-01T15:27:58.125258Z",
     "start_time": "2020-05-01T15:27:57.810070Z"
    },
    "hidden": true
   },
   "outputs": [
    {
     "data": {
      "text/plain": [
       "array([[<matplotlib.axes._subplots.AxesSubplot object at 0x000001E25A6FC508>,\n",
       "        <matplotlib.axes._subplots.AxesSubplot object at 0x000001E25ADFB9C8>]],\n",
       "      dtype=object)"
      ]
     },
     "execution_count": 36,
     "metadata": {},
     "output_type": "execute_result"
    },
    {
     "data": {
      "image/png": "[encoded data removed]",
      "text/plain": [
       "<Figure size 432x288 with 2 Axes>"
      ]
     },
     "metadata": {
      "needs_background": "light"
     },
     "output_type": "display_data"
    }
   ],
   "source": [
    "test_reduced_by_z.hist(grid = True, color = 'CadetBlue')"
   ]
  },
  {
   "cell_type": "code",
   "execution_count": 37,
   "metadata": {
    "ExecuteTime": {
     "end_time": "2020-05-01T15:28:00.800296Z",
     "start_time": "2020-05-01T15:28:00.771362Z"
    },
    "hidden": true
   },
   "outputs": [
    {
     "data": {
      "text/plain": [
       "'Utilization_Fleet_0_12M_Total_kurtosis: 33.221498268313084'"
      ]
     },
     "metadata": {},
     "output_type": "display_data"
    },
    {
     "data": {
      "text/plain": [
       "KurtosistestResult(statistic=51.77077437001283, pvalue=0.0)"
      ]
     },
     "metadata": {},
     "output_type": "display_data"
    },
    {
     "name": "stdout",
     "output_type": "stream",
     "text": [
      "\n",
      "\n"
     ]
    },
    {
     "data": {
      "text/plain": [
       "'Utilization_Fleet_0_12M_Total_skew: 5.227951507418931'"
      ]
     },
     "metadata": {},
     "output_type": "display_data"
    },
    {
     "data": {
      "text/plain": [
       "SkewtestResult(statistic=81.37998376291726, pvalue=0.0)"
      ]
     },
     "metadata": {},
     "output_type": "display_data"
    },
    {
     "name": "stdout",
     "output_type": "stream",
     "text": [
      "\n",
      "\n"
     ]
    },
    {
     "data": {
      "text/plain": [
       "'Expenditure_12M_Total: 35.088955664122516'"
      ]
     },
     "metadata": {},
     "output_type": "display_data"
    },
    {
     "data": {
      "text/plain": [
       "KurtosistestResult(statistic=52.23053116926102, pvalue=0.0)"
      ]
     },
     "metadata": {},
     "output_type": "display_data"
    },
    {
     "name": "stdout",
     "output_type": "stream",
     "text": [
      "\n",
      "\n"
     ]
    },
    {
     "data": {
      "text/plain": [
       "'Expenditure_12M_Total: 5.333897913666952'"
      ]
     },
     "metadata": {},
     "output_type": "display_data"
    },
    {
     "data": {
      "text/plain": [
       "SkewtestResult(statistic=82.01155405459349, pvalue=0.0)"
      ]
     },
     "metadata": {},
     "output_type": "display_data"
    }
   ],
   "source": [
    "x_kurtosis = kurtosis(test_reduced_by_z['Utilization_Fleet_0_12M_Total'], fisher = True)\n",
    "y_kurtosis = kurtosis(test_reduced_by_z['Expenditure_12M_Total'], fisher = True)\n",
    "\n",
    "x_skew = skew(test_reduced_by_z['Utilization_Fleet_0_12M_Total'])\n",
    "y_skew = skew(test_reduced_by_z['Expenditure_12M_Total'])\n",
    "\n",
    "display(\"Utilization_Fleet_0_12M_Total_kurtosis: {:2}\".format(x_kurtosis))\n",
    "display(stats.kurtosistest(test_reduced_by_z['Utilization_Fleet_0_12M_Total']))\n",
    "print('\\n')\n",
    "display(\"Utilization_Fleet_0_12M_Total_skew: {:2}\".format(x_skew))\n",
    "display(stats.skewtest(test_reduced_by_z['Utilization_Fleet_0_12M_Total']))\n",
    "print('\\n')\n",
    "display(\"Expenditure_12M_Total: {:2}\".format(y_kurtosis))\n",
    "display(stats.kurtosistest(test_reduced_by_z['Expenditure_12M_Total']))\n",
    "print('\\n')\n",
    "display(\"Expenditure_12M_Total: {:2}\".format(y_skew))\n",
    "display(stats.skewtest(test_reduced_by_z['Expenditure_12M_Total']))"
   ]
  },
  {
   "cell_type": "raw",
   "metadata": {
    "ExecuteTime": {
     "end_time": "2020-04-28T13:31:18.869062Z",
     "start_time": "2020-04-28T13:31:18.864078Z"
    },
    "hidden": true
   },
   "source": [
    "#**Kurtosis**\n",
    "# - Any distribution with **kurtosis ≈3 (excess ≈0)** is called mesokurtic. This is a normal distribution\n",
    "# - Any distribution with **kurtosis <3 (excess kurtosis <0)** is called platykurtic. Tails are shorter and thinner, and often its central peak is lower and broader.\n",
    "# - Any distribution with **kurtosis >3 (excess kurtosis >0)** is called leptokurtic. Tails are longer and fatter, and often its central peak is higher and sharper.\n",
    "\n",
    "# **Skewness**\n",
    "# - If skewness is **less than −1 or greater than +1**, the distribution is highly skewed.\n",
    "# - If skewness is **between −1 and −½ or between +½ and +1**, the distribution is moderately skewed.\n",
    "# - If skewness is **between −½ and +½**, the distribution is approximately symmetric."
   ]
  },
  {
   "cell_type": "markdown",
   "metadata": {
    "heading_collapsed": true,
    "hidden": true
   },
   "source": [
    "### Build a model"
   ]
  },
  {
   "cell_type": "code",
   "execution_count": 38,
   "metadata": {
    "ExecuteTime": {
     "end_time": "2020-05-01T15:28:10.797251Z",
     "start_time": "2020-05-01T15:28:10.771359Z"
    },
    "hidden": true,
    "scrolled": false
   },
   "outputs": [
    {
     "name": "stdout",
     "output_type": "stream",
     "text": [
      "                                  OLS Regression Results                                  \n",
      "==========================================================================================\n",
      "Dep. Variable:     Expenditure_12M_Total   R-squared (uncentered):                   0.349\n",
      "Model:                               OLS   Adj. R-squared (uncentered):              0.349\n",
      "Method:                    Least Squares   F-statistic:                              3901.\n",
      "Date:                   Fri, 01 May 2020   Prob (F-statistic):                        0.00\n",
      "Time:                           11:28:10   Log-Likelihood:                         -96369.\n",
      "No. Observations:                   7276   AIC:                                  1.927e+05\n",
      "Df Residuals:                       7275   BIC:                                  1.927e+05\n",
      "Df Model:                              1                                                  \n",
      "Covariance Type:               nonrobust                                                  \n",
      "=================================================================================================\n",
      "                                    coef    std err          t      P>|t|      [0.025      0.975]\n",
      "-------------------------------------------------------------------------------------------------\n",
      "Utilization_Fleet_0_12M_Total    43.3086      0.693     62.459      0.000      41.949      44.668\n",
      "==============================================================================\n",
      "Omnibus:                     7052.495   Durbin-Watson:                   1.962\n",
      "Prob(Omnibus):                  0.000   Jarque-Bera (JB):           534323.351\n",
      "Skew:                           4.561   Prob(JB):                         0.00\n",
      "Kurtosis:                      43.979   Cond. No.                         1.00\n",
      "==============================================================================\n",
      "\n",
      "Warnings:\n",
      "[1] Standard Errors assume that the covariance matrix of the errors is correctly specified.\n"
     ]
    }
   ],
   "source": [
    "# define our input variable & output variable\n",
    "x = test_reduced_by_z[['Utilization_Fleet_0_12M_Total']]\n",
    "y = test_reduced_by_z[['Expenditure_12M_Total']]\n",
    "\n",
    "# Split X and y into X_\n",
    "x_train, x_test, y_train, y_test = train_test_split(x, y, test_size=0.20, random_state=1)\n",
    "# create a Linear Regression model object.\n",
    "single_regression_model = LinearRegression()\n",
    "# pass through the X_train & y_train data set.\n",
    "single_regression_model.fit(x_train, y_train)\n",
    "# create OLS model for training data\n",
    "model = sm.OLS(y_train, x_train)\n",
    "# pass through the X_train & y_train data set.\n",
    "est = model.fit()\n",
    "print(est.summary())"
   ]
  },
  {
   "cell_type": "markdown",
   "metadata": {
    "heading_collapsed": true,
    "hidden": true
   },
   "source": [
    "### Verify model is valid by adding constant"
   ]
  },
  {
   "cell_type": "code",
   "execution_count": 39,
   "metadata": {
    "ExecuteTime": {
     "end_time": "2020-05-01T15:28:18.368315Z",
     "start_time": "2020-05-01T15:28:18.353356Z"
    },
    "hidden": true
   },
   "outputs": [
    {
     "name": "stderr",
     "output_type": "stream",
     "text": [
      "C:\\Users\\julianyang\\AppData\\Local\\Continuum\\anaconda3\\lib\\site-packages\\numpy\\core\\fromnumeric.py:2389: FutureWarning: Method .ptp is deprecated and will be removed in a future version. Use numpy.ptp instead.\n",
      "  return ptp(axis=axis, out=out, **kwargs)\n"
     ]
    },
    {
     "data": {
      "text/html": [
       "<div>\n",
       "<style scoped>\n",
       "    .dataframe tbody tr th:only-of-type {\n",
       "        vertical-align: middle;\n",
       "    }\n",
       "\n",
       "    .dataframe tbody tr th {\n",
       "        vertical-align: top;\n",
       "    }\n",
       "\n",
       "    .dataframe thead th {\n",
       "        text-align: right;\n",
       "    }\n",
       "</style>\n",
       "<table border=\"1\" class=\"dataframe\">\n",
       "  <thead>\n",
       "    <tr style=\"text-align: right;\">\n",
       "      <th></th>\n",
       "      <th>0</th>\n",
       "      <th>1</th>\n",
       "    </tr>\n",
       "  </thead>\n",
       "  <tbody>\n",
       "    <tr>\n",
       "      <td>const</td>\n",
       "      <td>18,916.32</td>\n",
       "      <td>25,432.84</td>\n",
       "    </tr>\n",
       "    <tr>\n",
       "      <td>Utilization_Fleet_0_12M_Total</td>\n",
       "      <td>38.99</td>\n",
       "      <td>41.81</td>\n",
       "    </tr>\n",
       "  </tbody>\n",
       "</table>\n",
       "</div>"
      ],
      "text/plain": [
       "                                      0         1\n",
       "const                         18,916.32 25,432.84\n",
       "Utilization_Fleet_0_12M_Total     38.99     41.81"
      ]
     },
     "execution_count": 39,
     "metadata": {},
     "output_type": "execute_result"
    }
   ],
   "source": [
    "#Evaluate Traning model\n",
    "# add constant\n",
    "x_train2 = sm.add_constant(x_train)\n",
    "# create a OLS model.\n",
    "model2 = sm.OLS(y_train, x_train2)\n",
    "# fit the data\n",
    "est2 = model2.fit()\n",
    "# make some confidence intervals, 95% by default.\n",
    "est2.conf_int()"
   ]
  },
  {
   "cell_type": "code",
   "execution_count": 40,
   "metadata": {
    "ExecuteTime": {
     "end_time": "2020-05-01T15:28:19.456079Z",
     "start_time": "2020-05-01T15:28:19.447071Z"
    },
    "hidden": true
   },
   "outputs": [
    {
     "data": {
      "text/plain": [
       "const                               0.00\n",
       "Utilization_Fleet_0_12M_Total       0.00\n",
       "dtype: float64"
      ]
     },
     "execution_count": 40,
     "metadata": {},
     "output_type": "execute_result"
    }
   ],
   "source": [
    "# estimate the p-values\n",
    "est2.pvalues"
   ]
  },
  {
   "cell_type": "markdown",
   "metadata": {
    "hidden": true
   },
   "source": [
    "### Explore model"
   ]
  },
  {
   "cell_type": "code",
   "execution_count": 41,
   "metadata": {
    "ExecuteTime": {
     "end_time": "2020-05-01T15:28:22.170189Z",
     "start_time": "2020-05-01T15:28:22.165203Z"
    },
    "hidden": true,
    "scrolled": true
   },
   "outputs": [
    {
     "name": "stdout",
     "output_type": "stream",
     "text": [
      "The Coefficient for training model is 40.40132763602576\n",
      "The intercept for training model is 22174.582796154064\n"
     ]
    }
   ],
   "source": [
    "# calculate and display intercept, coefficient\n",
    "intercept = single_regression_model.intercept_[0]\n",
    "coefficient = single_regression_model.coef_[0][0]\n",
    "# print out\n",
    "print(\"The Coefficient for training model is {:2}\".format(coefficient))\n",
    "print(\"The intercept for training model is {:4}\".format(intercept))"
   ]
  },
  {
   "cell_type": "code",
   "execution_count": 42,
   "metadata": {
    "ExecuteTime": {
     "end_time": "2020-05-01T15:28:22.815463Z",
     "start_time": "2020-05-01T15:28:22.805491Z"
    },
    "hidden": true
   },
   "outputs": [
    {
     "name": "stdout",
     "output_type": "stream",
     "text": [
      "MSE 18397646557.7212\n",
      "MAE 56439.44318962682\n",
      "RMSE 135637.92448176577\n"
     ]
    }
   ],
   "source": [
    "# create prediction value and calculate errors\n",
    "y_predict = single_regression_model.predict(x_test)\n",
    "# calculate the mean squared error.\n",
    "model_mse = mean_squared_error(y_test, y_predict)\n",
    "# calculate the mean absolute error.\n",
    "model_mae = mean_absolute_error(y_test, y_predict)\n",
    "# calulcate the root mean squared error\n",
    "model_rmse =  math.sqrt(model_mse)\n",
    "# display the output\n",
    "print(\"MSE {:3}\".format(model_mse))\n",
    "print(\"MAE {:3}\".format(model_mae))\n",
    "print(\"RMSE {:3}\".format(model_rmse))"
   ]
  },
  {
   "cell_type": "code",
   "execution_count": 44,
   "metadata": {
    "ExecuteTime": {
     "end_time": "2020-05-01T15:32:42.938951Z",
     "start_time": "2020-05-01T15:32:42.927965Z"
    },
    "hidden": true
   },
   "outputs": [
    {
     "name": "stdout",
     "output_type": "stream",
     "text": [
      "R2 of the prediction is: 0.37\n"
     ]
    }
   ],
   "source": [
    "model_r2 = r2_score(y_test, y_predict)\n",
    "print(\"R2 of the prediction is: {:.2}\".format(model_r2))"
   ]
  },
  {
   "cell_type": "code",
   "execution_count": 45,
   "metadata": {
    "ExecuteTime": {
     "end_time": "2020-05-01T15:32:44.326433Z",
     "start_time": "2020-05-01T15:32:44.098791Z"
    },
    "hidden": true
   },
   "outputs": [
    {
     "data": {
      "image/png": "[encoded data removed]",
      "text/plain": [
       "<Figure size 432x288 with 1 Axes>"
      ]
     },
     "metadata": {
      "needs_background": "light"
     },
     "output_type": "display_data"
    }
   ],
   "source": [
    "# Grab the residuals & then call the hist() method\n",
    "(y_test - y_predict).hist(grid = False, color = 'royalblue')\n",
    "plt.title(\"Model Residuals\")\n",
    "plt.show()"
   ]
  },
  {
   "cell_type": "code",
   "execution_count": 46,
   "metadata": {
    "ExecuteTime": {
     "end_time": "2020-05-01T15:32:45.556830Z",
     "start_time": "2020-05-01T15:32:45.256641Z"
    },
    "hidden": true
   },
   "outputs": [
    {
     "data": {
      "image/png": "[encoded data removed]",
      "text/plain": [
       "<Figure size 432x288 with 1 Axes>"
      ]
     },
     "metadata": {
      "needs_background": "light"
     },
     "output_type": "display_data"
    },
    {
     "name": "stdout",
     "output_type": "stream",
     "text": [
      "Coefficient:\u001b[1m4e+01\u001b[0m\n",
      "Mean squared error: \u001b[1m1.84e+10\u001b[0m\n",
      "Root Mean squared error: \u001b[1m1.356e+05\u001b[0m\n",
      "R2 score: \u001b[1m0.37\u001b[0m\n"
     ]
    }
   ],
   "source": [
    "# Plot outputs\n",
    "plt.scatter(x_test, y_test,  color='gainsboro', label = '')\n",
    "plt.plot(x_test, y_predict, color='royalblue', linewidth = 3, linestyle= '-',label ='Regression Line')\n",
    "\n",
    "plt.title(\"Usage_Total VS Expenditure_Total\")\n",
    "plt.xlabel(\"x\")\n",
    "plt.ylabel(\"y\")\n",
    "plt.legend()\n",
    "plt.show()\n",
    "\n",
    "# The coefficients\n",
    "print('Coefficient:' + '\\033[1m' + '{:.2}''\\033[0m'.format(single_regression_model.coef_[0][0]))\n",
    "\n",
    "# The mean squared error\n",
    "print('Mean squared error: ' + '\\033[1m' + '{:.4}''\\033[0m'.format(model_mse))\n",
    "\n",
    "# The mean squared error\n",
    "print('Root Mean squared error: ' + '\\033[1m' + '{:.4}''\\033[0m'.format(math.sqrt(model_mse)))\n",
    "\n",
    "# Explained variance score: 1 is perfect prediction\n",
    "print('R2 score: '+ '\\033[1m' + '{:.2}''\\033[0m'.format(r2_score(y_test,y_predict)))"
   ]
  },
  {
   "cell_type": "markdown",
   "metadata": {
    "heading_collapsed": true,
    "hidden": true
   },
   "source": [
    "### Conclusion"
   ]
  },
  {
   "cell_type": "markdown",
   "metadata": {
    "heading_collapsed": true,
    "hidden": true
   },
   "source": [
    "## Test 2: x = OLGAAmount y= Expenditure_12M_PartsNServices"
   ]
  },
  {
   "cell_type": "markdown",
   "metadata": {
    "heading_collapsed": true,
    "hidden": true
   },
   "source": [
    "### Test 2"
   ]
  },
  {
   "cell_type": "code",
   "execution_count": null,
   "metadata": {
    "ExecuteTime": {
     "end_time": "2020-05-01T13:21:46.371116Z",
     "start_time": "2020-05-01T13:21:46.353203Z"
    },
    "hidden": true
   },
   "outputs": [],
   "source": [
    "#Create subset data1 for testing ideal element\n",
    "test = data_dropna.loc[:, ['OLGAAmount', 'Expenditure_12M_PartsNServices']]\n",
    "\n",
    "#remove extreme outliers:\n",
    "#If you have multiple columns in your dataframe and would like to remove all rows that have outliers in at least one column, \n",
    "#the following expression would do that in one shot: select absolute Z score for the row <1.65 (). .all or .any\n",
    "test_reduced_by_z = test[(np.abs(stats.zscore(test)) < 3).all(axis=1)]\n",
    "\n",
    "#define the x & y data\n",
    "x = test_reduced_by_z['OLGAAmount']\n",
    "y = test_reduced_by_z['Expenditure_12M_PartsNServices']\n",
    "\n",
    "test_reduced_by_z.describe()"
   ]
  },
  {
   "cell_type": "code",
   "execution_count": null,
   "metadata": {
    "ExecuteTime": {
     "end_time": "2020-05-01T13:21:47.695858Z",
     "start_time": "2020-05-01T13:21:47.519276Z"
    },
    "hidden": true
   },
   "outputs": [],
   "source": [
    "#create the new scatter plot\n",
    "plt.plot(x,y,'o',color = 'pink', label = '')\n",
    "# add the column names as labels\n",
    "plt.title('X VS Y')\n",
    "plt.xlabel('X')\n",
    "plt.ylabel('Y')\n",
    "plt.legend()\n",
    "plt.show()"
   ]
  },
  {
   "cell_type": "code",
   "execution_count": null,
   "metadata": {
    "ExecuteTime": {
     "end_time": "2020-05-01T13:21:48.928648Z",
     "start_time": "2020-05-01T13:21:48.920631Z"
    },
    "hidden": true,
    "scrolled": false
   },
   "outputs": [],
   "source": [
    "test_reduced_by_z.corr()"
   ]
  },
  {
   "cell_type": "code",
   "execution_count": null,
   "metadata": {
    "ExecuteTime": {
     "end_time": "2020-05-01T13:21:51.158243Z",
     "start_time": "2020-05-01T13:21:50.902945Z"
    },
    "hidden": true
   },
   "outputs": [],
   "source": [
    "test_reduced_by_z.hist(grid = True, color = 'Purple')"
   ]
  },
  {
   "cell_type": "code",
   "execution_count": null,
   "metadata": {
    "ExecuteTime": {
     "end_time": "2020-05-01T13:21:52.481613Z",
     "start_time": "2020-05-01T13:21:52.467714Z"
    },
    "hidden": true
   },
   "outputs": [],
   "source": [
    "display(stats.kurtosistest(test_reduced_by_z['OLGAAmount']))\n",
    "display(stats.skewtest(test_reduced_by_z['OLGAAmount']))\n",
    "print('\\n')\n",
    "display(stats.kurtosistest(test_reduced_by_z['Expenditure_12M_PartsNServices']))\n",
    "display(stats.skewtest(test_reduced_by_z['Expenditure_12M_PartsNServices']))"
   ]
  },
  {
   "cell_type": "code",
   "execution_count": null,
   "metadata": {
    "ExecuteTime": {
     "end_time": "2020-05-01T13:21:56.472489Z",
     "start_time": "2020-05-01T13:21:56.447555Z"
    },
    "hidden": true,
    "scrolled": false
   },
   "outputs": [],
   "source": [
    "# define our input variable & output variable\n",
    "x = test_reduced_by_z[['OLGAAmount']]\n",
    "y = test_reduced_by_z[['Expenditure_12M_PartsNServices']]\n",
    "\n",
    "# Split X and y into X_\n",
    "x_train, x_test, y_train, y_test = train_test_split(x, y, test_size=0.20, random_state=1)\n",
    "# create a Linear Regression model object.\n",
    "single_regression_model = LinearRegression()\n",
    "# pass through the X_train & y_train data set.\n",
    "single_regression_model.fit(x_train, y_train)\n",
    "# create OLS model for training data\n",
    "model = sm.OLS(y_train, x_train)\n",
    "# pass through the X_train & y_train data set.\n",
    "est = model.fit()\n",
    "print(est.summary())"
   ]
  },
  {
   "cell_type": "code",
   "execution_count": null,
   "metadata": {
    "ExecuteTime": {
     "end_time": "2020-05-01T13:21:58.478461Z",
     "start_time": "2020-05-01T13:21:58.470467Z"
    },
    "hidden": true
   },
   "outputs": [],
   "source": [
    "# make some confidence intervals, 95% by default.\n",
    "est.conf_int()"
   ]
  },
  {
   "cell_type": "code",
   "execution_count": null,
   "metadata": {
    "ExecuteTime": {
     "end_time": "2020-05-01T13:22:03.846280Z",
     "start_time": "2020-05-01T13:22:03.838299Z"
    },
    "hidden": true
   },
   "outputs": [],
   "source": [
    "# estimate the p-values\n",
    "est.pvalues"
   ]
  },
  {
   "cell_type": "code",
   "execution_count": null,
   "metadata": {
    "ExecuteTime": {
     "end_time": "2020-05-01T13:22:05.500896Z",
     "start_time": "2020-05-01T13:22:05.495943Z"
    },
    "hidden": true,
    "scrolled": true
   },
   "outputs": [],
   "source": [
    "# calculate and display intercept, coefficient\n",
    "intercept = single_regression_model.intercept_[0]\n",
    "coefficient = single_regression_model.coef_[0][0]\n",
    "# print out\n",
    "print(\"The Coefficient for training model is {:2}\".format(coefficient))\n",
    "print(\"The intercept for training model is {:4}\".format(intercept))"
   ]
  },
  {
   "cell_type": "code",
   "execution_count": null,
   "metadata": {
    "ExecuteTime": {
     "end_time": "2020-05-01T13:22:06.390421Z",
     "start_time": "2020-05-01T13:22:06.380462Z"
    },
    "hidden": true
   },
   "outputs": [],
   "source": [
    "# create prediction value and calculate errors\n",
    "y_predict = single_regression_model.predict(x_test)\n",
    "# calculate the mean squared error.\n",
    "model_mse = mean_squared_error(y_test, y_predict)\n",
    "# calculate the mean absolute error.\n",
    "model_mae = mean_absolute_error(y_test, y_predict)\n",
    "# calulcate the root mean squared error\n",
    "model_rmse =  math.sqrt(model_mse)\n",
    "# display the output\n",
    "print(\"MSE {:3}\".format(model_mse))\n",
    "print(\"MAE {:3}\".format(model_mae))\n",
    "print(\"RMSE {:3}\".format(model_rmse))"
   ]
  },
  {
   "cell_type": "code",
   "execution_count": null,
   "metadata": {
    "ExecuteTime": {
     "end_time": "2020-05-01T13:22:07.592562Z",
     "start_time": "2020-05-01T13:22:07.586570Z"
    },
    "hidden": true
   },
   "outputs": [],
   "source": [
    "model_r2 = r2_score(y_test, y_predict)\n",
    "print(\"R2 of the prediction is: {:.2}\".format(model_r2))"
   ]
  },
  {
   "cell_type": "code",
   "execution_count": null,
   "metadata": {
    "ExecuteTime": {
     "end_time": "2020-05-01T13:22:09.022277Z",
     "start_time": "2020-05-01T13:22:08.885637Z"
    },
    "hidden": true
   },
   "outputs": [],
   "source": [
    "# Grab the residuals & then call the hist() method\n",
    "(y_test - y_predict).hist(grid = False, color = 'Gold')\n",
    "plt.title(\"Model Residuals\")\n",
    "plt.show()"
   ]
  },
  {
   "cell_type": "code",
   "execution_count": null,
   "metadata": {
    "ExecuteTime": {
     "end_time": "2020-05-01T13:22:10.340378Z",
     "start_time": "2020-05-01T13:22:10.161862Z"
    },
    "hidden": true,
    "scrolled": true
   },
   "outputs": [],
   "source": [
    "# Plot outputs\n",
    "plt.scatter(x_test, y_test,  color='pink', label = '')\n",
    "plt.plot(x_test, y_predict, color='royalblue', linewidth = 3, linestyle= '-',label ='Regression Line')\n",
    "\n",
    "plt.title(\"OLGAAmount VS Expenditure_12M_PartsNServices\")\n",
    "plt.xlabel(\"x\")\n",
    "plt.ylabel(\"y\")\n",
    "plt.legend()\n",
    "plt.show()\n",
    "\n",
    "# The coefficients\n",
    "print('Coefficient:' + '\\033[1m' + '{:.2}''\\033[0m'.format(single_regression_model.coef_[0][0]))\n",
    "\n",
    "# The mean squared error\n",
    "print('Mean squared error: ' + '\\033[1m' + '{:.4}''\\033[0m'.format(model_mse))\n",
    "\n",
    "# The mean squared error\n",
    "print('Root Mean squared error: ' + '\\033[1m' + '{:.4}''\\033[0m'.format(math.sqrt(model_mse)))\n",
    "\n",
    "# Explained variance score: 1 is perfect prediction\n",
    "print('R2 score: '+ '\\033[1m' + '{:.2}''\\033[0m'.format(r2_score(y_test,y_predict)))"
   ]
  },
  {
   "cell_type": "markdown",
   "metadata": {
    "heading_collapsed": true,
    "hidden": true
   },
   "source": [
    "### Test 2 Conclusion"
   ]
  },
  {
   "cell_type": "markdown",
   "metadata": {
    "heading_collapsed": true,
    "hidden": true
   },
   "source": [
    "## Test 3: x = Count_CatFleetSize y= Expenditure_12M_PartsNServices"
   ]
  },
  {
   "cell_type": "markdown",
   "metadata": {
    "heading_collapsed": true,
    "hidden": true
   },
   "source": [
    "### Test 3"
   ]
  },
  {
   "cell_type": "code",
   "execution_count": null,
   "metadata": {
    "ExecuteTime": {
     "end_time": "2020-05-01T13:22:24.560548Z",
     "start_time": "2020-05-01T13:22:24.538609Z"
    },
    "hidden": true
   },
   "outputs": [],
   "source": [
    "#Create subset data1 for testing ideal element\n",
    "test = data_dropna.loc[:, ['Count_CatFleetSize', 'Expenditure_12M_PartsNServices']]\n",
    "\n",
    "#remove extreme outliers:\n",
    "#If you have multiple columns in your dataframe and would like to remove all rows that have outliers in at least one column, \n",
    "#the following expression would do that in one shot: select absolute Z score for the row <1.65 (). .all or .any\n",
    "test_reduced_by_z = test[(np.abs(stats.zscore(test)) < 3).all(axis=1)]\n",
    "\n",
    "#define the x & y data\n",
    "x = test_reduced_by_z['Count_CatFleetSize']\n",
    "y = test_reduced_by_z['Expenditure_12M_PartsNServices']\n",
    "\n",
    "test_reduced_by_z.describe()"
   ]
  },
  {
   "cell_type": "code",
   "execution_count": null,
   "metadata": {
    "ExecuteTime": {
     "end_time": "2020-05-01T13:22:26.235811Z",
     "start_time": "2020-05-01T13:22:26.060325Z"
    },
    "hidden": true
   },
   "outputs": [],
   "source": [
    "#create the new scatter plot\n",
    "plt.plot(x,y,'o',color = 'pink', label = '')\n",
    "# add the column names as labels\n",
    "plt.title('X VS Y')\n",
    "plt.xlabel('X')\n",
    "plt.ylabel('Y')\n",
    "plt.legend()\n",
    "plt.show()"
   ]
  },
  {
   "cell_type": "code",
   "execution_count": null,
   "metadata": {
    "ExecuteTime": {
     "end_time": "2020-05-01T13:22:27.581127Z",
     "start_time": "2020-05-01T13:22:27.570159Z"
    },
    "hidden": true,
    "scrolled": false
   },
   "outputs": [],
   "source": [
    "test_reduced_by_z.corr()"
   ]
  },
  {
   "cell_type": "code",
   "execution_count": null,
   "metadata": {
    "ExecuteTime": {
     "end_time": "2020-05-01T13:22:29.220667Z",
     "start_time": "2020-05-01T13:22:28.937387Z"
    },
    "hidden": true
   },
   "outputs": [],
   "source": [
    "test_reduced_by_z.hist(grid = True, color = 'Purple')"
   ]
  },
  {
   "cell_type": "code",
   "execution_count": null,
   "metadata": {
    "ExecuteTime": {
     "end_time": "2020-05-01T13:22:30.868487Z",
     "start_time": "2020-05-01T13:22:30.857520Z"
    },
    "hidden": true
   },
   "outputs": [],
   "source": [
    "display(stats.kurtosistest(test_reduced_by_z['Count_CatFleetSize']))\n",
    "display(stats.skewtest(test_reduced_by_z['Count_CatFleetSize']))"
   ]
  },
  {
   "cell_type": "code",
   "execution_count": null,
   "metadata": {
    "ExecuteTime": {
     "end_time": "2020-05-01T13:22:34.992234Z",
     "start_time": "2020-05-01T13:22:34.970295Z"
    },
    "hidden": true,
    "scrolled": false
   },
   "outputs": [],
   "source": [
    "# define our input variable & output variable\n",
    "x = test_reduced_by_z[['Count_CatFleetSize']]\n",
    "y = test_reduced_by_z[['Expenditure_12M_PartsNServices']]\n",
    "\n",
    "# Split X and y into X_\n",
    "x_train, x_test, y_train, y_test = train_test_split(x, y, test_size=0.20, random_state=1)\n",
    "# create a Linear Regression model object.\n",
    "single_regression_model = LinearRegression()\n",
    "# pass through the X_train & y_train data set.\n",
    "single_regression_model.fit(x_train, y_train)\n",
    "# create OLS model for training data\n",
    "model = sm.OLS(y_train, x_train)\n",
    "# pass through the X_train & y_train data set.\n",
    "est = model.fit()\n",
    "print(est.summary())"
   ]
  },
  {
   "cell_type": "code",
   "execution_count": null,
   "metadata": {
    "ExecuteTime": {
     "end_time": "2020-05-01T13:22:36.440024Z",
     "start_time": "2020-05-01T13:22:36.432005Z"
    },
    "hidden": true
   },
   "outputs": [],
   "source": [
    "# make some confidence intervals, 95% by default.\n",
    "est.conf_int()"
   ]
  },
  {
   "cell_type": "code",
   "execution_count": null,
   "metadata": {
    "ExecuteTime": {
     "end_time": "2020-05-01T13:22:37.230727Z",
     "start_time": "2020-05-01T13:22:37.225751Z"
    },
    "hidden": true
   },
   "outputs": [],
   "source": [
    "# estimate the p-values\n",
    "est.pvalues"
   ]
  },
  {
   "cell_type": "code",
   "execution_count": null,
   "metadata": {
    "ExecuteTime": {
     "end_time": "2020-05-01T13:22:40.340967Z",
     "start_time": "2020-05-01T13:22:40.335983Z"
    },
    "hidden": true,
    "scrolled": true
   },
   "outputs": [],
   "source": [
    "# calculate and display intercept, coefficient\n",
    "intercept = single_regression_model.intercept_[0]\n",
    "coefficient = single_regression_model.coef_[0][0]\n",
    "# print out\n",
    "print(\"The Coefficient for training model is {:2}\".format(coefficient))\n",
    "print(\"The intercept for training model is {:4}\".format(intercept))"
   ]
  },
  {
   "cell_type": "code",
   "execution_count": null,
   "metadata": {
    "ExecuteTime": {
     "end_time": "2020-05-01T13:22:46.342070Z",
     "start_time": "2020-05-01T13:22:46.334093Z"
    },
    "hidden": true
   },
   "outputs": [],
   "source": [
    "# create prediction value and calculate errors\n",
    "y_predict = single_regression_model.predict(x_test)\n",
    "# calculate the mean squared error.\n",
    "model_mse = mean_squared_error(y_test, y_predict)\n",
    "# calculate the mean absolute error.\n",
    "model_mae = mean_absolute_error(y_test, y_predict)\n",
    "# calulcate the root mean squared error\n",
    "model_rmse =  math.sqrt(model_mse)\n",
    "# display the output\n",
    "print(\"MSE {:3}\".format(model_mse))\n",
    "print(\"MAE {:3}\".format(model_mae))\n",
    "print(\"RMSE {:3}\".format(model_rmse))"
   ]
  },
  {
   "cell_type": "code",
   "execution_count": null,
   "metadata": {
    "ExecuteTime": {
     "end_time": "2020-05-01T13:22:48.434215Z",
     "start_time": "2020-05-01T13:22:48.427274Z"
    },
    "hidden": true
   },
   "outputs": [],
   "source": [
    "model_r2 = r2_score(y_test, y_predict)\n",
    "print(\"R2 of the prediction is: {:.2}\".format(model_r2))"
   ]
  },
  {
   "cell_type": "code",
   "execution_count": null,
   "metadata": {
    "ExecuteTime": {
     "end_time": "2020-05-01T13:22:49.966687Z",
     "start_time": "2020-05-01T13:22:49.828013Z"
    },
    "hidden": true
   },
   "outputs": [],
   "source": [
    "# Grab the residuals & then call the hist() method\n",
    "(y_test - y_predict).hist(grid = False, color = 'Gold')\n",
    "plt.title(\"Model Residuals\")\n",
    "plt.show()"
   ]
  },
  {
   "cell_type": "code",
   "execution_count": null,
   "metadata": {
    "ExecuteTime": {
     "end_time": "2020-05-01T13:22:52.731050Z",
     "start_time": "2020-05-01T13:22:52.547878Z"
    },
    "hidden": true
   },
   "outputs": [],
   "source": [
    "# Plot outputs\n",
    "plt.scatter(x_test, y_test,  color='pink', label = '')\n",
    "plt.plot(x_test, y_predict, color='royalblue', linewidth = 3, linestyle= '-',label ='Regression Line')\n",
    "\n",
    "plt.title(\"Count_CatFleetSize VS Expenditure_12M_PartsNServices\")\n",
    "plt.xlabel(\"x\")\n",
    "plt.ylabel(\"y\")\n",
    "plt.legend()\n",
    "plt.show()\n",
    "\n",
    "# The coefficients\n",
    "print('Coefficient:' + '\\033[1m' + '{:.2}''\\033[0m'.format(single_regression_model.coef_[0][0]))\n",
    "\n",
    "# The mean squared error\n",
    "print('Mean squared error: ' + '\\033[1m' + '{:.4}''\\033[0m'.format(model_mse))\n",
    "\n",
    "# The mean squared error\n",
    "print('Root Mean squared error: ' + '\\033[1m' + '{:.4}''\\033[0m'.format(math.sqrt(model_mse)))\n",
    "\n",
    "# Explained variance score: 1 is perfect prediction\n",
    "print('R2 score: '+ '\\033[1m' + '{:.2}''\\033[0m'.format(r2_score(y_test,y_predict)))"
   ]
  },
  {
   "cell_type": "markdown",
   "metadata": {
    "heading_collapsed": true,
    "hidden": true
   },
   "source": [
    "### Test 3 Conclusion"
   ]
  },
  {
   "cell_type": "markdown",
   "metadata": {
    "heading_collapsed": true,
    "hidden": true
   },
   "source": [
    "## Test 4: x = SOS_COUNT_CU_0_12M  y= Expenditure_12M_PartsNServices"
   ]
  },
  {
   "cell_type": "markdown",
   "metadata": {
    "heading_collapsed": true,
    "hidden": true
   },
   "source": [
    "### Test 4"
   ]
  },
  {
   "cell_type": "code",
   "execution_count": null,
   "metadata": {
    "ExecuteTime": {
     "end_time": "2020-05-01T13:23:19.426046Z",
     "start_time": "2020-05-01T13:23:19.405098Z"
    },
    "hidden": true
   },
   "outputs": [],
   "source": [
    "#Create subset data1 for testing ideal element\n",
    "test = data_dropna.loc[:, ['SOS_COUNT_CU_0_12M', 'Expenditure_12M_PartsNServices']]\n",
    "\n",
    "#remove extreme outliers:\n",
    "#If you have multiple columns in your dataframe and would like to remove all rows that have outliers in at least one column, \n",
    "#the following expression would do that in one shot: select absolute Z score for the row <1.65 (). .all or .any\n",
    "test_reduced_by_z = test[(np.abs(stats.zscore(test)) < 3).all(axis=1)]\n",
    "\n",
    "#define the x & y data\n",
    "x = test_reduced_by_z['SOS_COUNT_CU_0_12M']\n",
    "y = test_reduced_by_z['Expenditure_12M_PartsNServices']\n",
    "\n",
    "test_reduced_by_z.describe()"
   ]
  },
  {
   "cell_type": "code",
   "execution_count": null,
   "metadata": {
    "ExecuteTime": {
     "end_time": "2020-05-01T13:23:21.809082Z",
     "start_time": "2020-05-01T13:23:21.632559Z"
    },
    "hidden": true
   },
   "outputs": [],
   "source": [
    "#create the new scatter plot\n",
    "plt.plot(x,y,'o',color = 'pink', label = '')\n",
    "# add the column names as labels\n",
    "plt.title('X VS Y')\n",
    "plt.xlabel('X')\n",
    "plt.ylabel('Y')\n",
    "plt.legend()\n",
    "plt.show()"
   ]
  },
  {
   "cell_type": "code",
   "execution_count": null,
   "metadata": {
    "ExecuteTime": {
     "end_time": "2020-05-01T13:23:23.101259Z",
     "start_time": "2020-05-01T13:23:23.092286Z"
    },
    "hidden": true,
    "scrolled": false
   },
   "outputs": [],
   "source": [
    "test_reduced_by_z.corr()"
   ]
  },
  {
   "cell_type": "code",
   "execution_count": null,
   "metadata": {
    "ExecuteTime": {
     "end_time": "2020-05-01T13:23:24.813717Z",
     "start_time": "2020-05-01T13:23:24.541486Z"
    },
    "hidden": true
   },
   "outputs": [],
   "source": [
    "test_reduced_by_z.hist(grid = True, color = 'Purple')"
   ]
  },
  {
   "cell_type": "code",
   "execution_count": null,
   "metadata": {
    "ExecuteTime": {
     "end_time": "2020-05-01T13:23:26.129013Z",
     "start_time": "2020-05-01T13:23:26.119042Z"
    },
    "hidden": true
   },
   "outputs": [],
   "source": [
    "display(stats.kurtosistest(test_reduced_by_z['SOS_COUNT_CU_0_12M']))\n",
    "display(stats.skewtest(test_reduced_by_z['SOS_COUNT_CU_0_12M']))"
   ]
  },
  {
   "cell_type": "code",
   "execution_count": null,
   "metadata": {
    "ExecuteTime": {
     "end_time": "2020-05-01T13:23:27.857917Z",
     "start_time": "2020-05-01T13:23:27.837015Z"
    },
    "hidden": true,
    "scrolled": false
   },
   "outputs": [],
   "source": [
    "# define our input variable & output variable\n",
    "x = test_reduced_by_z[['SOS_COUNT_CU_0_12M']]\n",
    "y = test_reduced_by_z[['Expenditure_12M_PartsNServices']]\n",
    "\n",
    "# Split X and y into X_\n",
    "x_train, x_test, y_train, y_test = train_test_split(x, y, test_size=0.20, random_state=1)\n",
    "# create a Linear Regression model object.\n",
    "single_regression_model = LinearRegression()\n",
    "# pass through the X_train & y_train data set.\n",
    "single_regression_model.fit(x_train, y_train)\n",
    "# create OLS model for training data\n",
    "model = sm.OLS(y_train, x_train)\n",
    "# pass through the X_train & y_train data set.\n",
    "est = model.fit()\n",
    "print(est.summary())"
   ]
  },
  {
   "cell_type": "code",
   "execution_count": null,
   "metadata": {
    "ExecuteTime": {
     "end_time": "2020-05-01T13:23:31.901098Z",
     "start_time": "2020-05-01T13:23:31.892161Z"
    },
    "hidden": true
   },
   "outputs": [],
   "source": [
    "# make some confidence intervals, 95% by default.\n",
    "est.conf_int()"
   ]
  },
  {
   "cell_type": "code",
   "execution_count": null,
   "metadata": {
    "ExecuteTime": {
     "end_time": "2020-05-01T13:23:33.219313Z",
     "start_time": "2020-05-01T13:23:33.210339Z"
    },
    "hidden": true
   },
   "outputs": [],
   "source": [
    "# estimate the p-values\n",
    "est.pvalues"
   ]
  },
  {
   "cell_type": "code",
   "execution_count": null,
   "metadata": {
    "ExecuteTime": {
     "end_time": "2020-05-01T13:23:33.911458Z",
     "start_time": "2020-05-01T13:23:33.906479Z"
    },
    "hidden": true,
    "scrolled": true
   },
   "outputs": [],
   "source": [
    "# calculate and display intercept, coefficient\n",
    "intercept = single_regression_model.intercept_[0]\n",
    "coefficient = single_regression_model.coef_[0][0]\n",
    "# print out\n",
    "print(\"The Coefficient for training model is {:2}\".format(coefficient))\n",
    "print(\"The intercept for training model is {:4}\".format(intercept))"
   ]
  },
  {
   "cell_type": "code",
   "execution_count": null,
   "metadata": {
    "ExecuteTime": {
     "end_time": "2020-05-01T13:23:34.924642Z",
     "start_time": "2020-05-01T13:23:34.914704Z"
    },
    "hidden": true
   },
   "outputs": [],
   "source": [
    "# create prediction value and calculate errors\n",
    "y_predict = single_regression_model.predict(x_test)\n",
    "# calculate the mean squared error.\n",
    "model_mse = mean_squared_error(y_test, y_predict)\n",
    "# calculate the mean absolute error.\n",
    "model_mae = mean_absolute_error(y_test, y_predict)\n",
    "# calulcate the root mean squared error\n",
    "model_rmse =  math.sqrt(model_mse)\n",
    "# display the output\n",
    "print(\"MSE {:3}\".format(model_mse))\n",
    "print(\"MAE {:3}\".format(model_mae))\n",
    "print(\"RMSE {:3}\".format(model_rmse))"
   ]
  },
  {
   "cell_type": "code",
   "execution_count": null,
   "metadata": {
    "ExecuteTime": {
     "end_time": "2020-05-01T13:23:36.510464Z",
     "start_time": "2020-05-01T13:23:36.505478Z"
    },
    "hidden": true
   },
   "outputs": [],
   "source": [
    "model_r2 = r2_score(y_test, y_predict)\n",
    "print(\"R2 of the prediction is: {:.2}\".format(model_r2))"
   ]
  },
  {
   "cell_type": "code",
   "execution_count": null,
   "metadata": {
    "ExecuteTime": {
     "end_time": "2020-05-01T13:23:37.352571Z",
     "start_time": "2020-05-01T13:23:37.193034Z"
    },
    "hidden": true
   },
   "outputs": [],
   "source": [
    "# Grab the residuals & then call the hist() method\n",
    "(y_test - y_predict).hist(grid = False, color = 'Gold')\n",
    "plt.title(\"Model Residuals\")\n",
    "plt.show()"
   ]
  },
  {
   "cell_type": "code",
   "execution_count": null,
   "metadata": {
    "ExecuteTime": {
     "end_time": "2020-05-01T13:23:38.547684Z",
     "start_time": "2020-05-01T13:23:38.337211Z"
    },
    "hidden": true
   },
   "outputs": [],
   "source": [
    "# Plot outputs\n",
    "plt.scatter(x_test, y_test,  color='pink', label = '')\n",
    "plt.plot(x_test, y_predict, color='royalblue', linewidth = 3, linestyle= '-',label ='Regression Line')\n",
    "\n",
    "plt.title(\"SOS_COUNT_CU_0_12M VS PartsNServices\")\n",
    "plt.xlabel(\"x\")\n",
    "plt.ylabel(\"y\")\n",
    "plt.legend()\n",
    "plt.show()\n",
    "\n",
    "# The coefficients\n",
    "print('Coefficient:' + '\\033[1m' + '{:.2}''\\033[0m'.format(single_regression_model.coef_[0][0]))\n",
    "\n",
    "# The mean squared error\n",
    "print('Mean squared error: ' + '\\033[1m' + '{:.4}''\\033[0m'.format(model_mse))\n",
    "\n",
    "# The mean squared error\n",
    "print('Root Mean squared error: ' + '\\033[1m' + '{:.4}''\\033[0m'.format(math.sqrt(model_mse)))\n",
    "\n",
    "# Explained variance score: 1 is perfect prediction\n",
    "print('R2 score: '+ '\\033[1m' + '{:.2}''\\033[0m'.format(r2_score(y_test,y_predict)))"
   ]
  },
  {
   "cell_type": "markdown",
   "metadata": {
    "heading_collapsed": true,
    "hidden": true
   },
   "source": [
    "### Test 4 Conclusion"
   ]
  },
  {
   "cell_type": "markdown",
   "metadata": {
    "heading_collapsed": true,
    "hidden": true
   },
   "source": [
    "## Test 5: x = Family_Expenditure_12M_Rentals y= Expenditure_12M_Total"
   ]
  },
  {
   "cell_type": "markdown",
   "metadata": {
    "heading_collapsed": true,
    "hidden": true
   },
   "source": [
    "### Test 5"
   ]
  },
  {
   "cell_type": "code",
   "execution_count": null,
   "metadata": {
    "ExecuteTime": {
     "end_time": "2020-05-01T14:34:37.421816Z",
     "start_time": "2020-05-01T14:34:37.402901Z"
    },
    "hidden": true
   },
   "outputs": [],
   "source": [
    "#Create subset data1 for testing ideal element\n",
    "test = data_dropna.loc[:, ['Family_Expenditure_12M_Rentals', 'Expenditure_12M_Total']]\n",
    "\n",
    "#remove extreme outliers:\n",
    "#If you have multiple columns in your dataframe and would like to remove all rows that have outliers in at least one column, \n",
    "#the following expression would do that in one shot: select absolute Z score for the row <1.65 (). .all or .any\n",
    "test_reduced_by_z = test[(np.abs(stats.zscore(test)) < 3).all(axis=1)]\n",
    "\n",
    "#define the x & y data\n",
    "x = test_reduced_by_z['Family_Expenditure_12M_Rentals']\n",
    "y = test_reduced_by_z['Expenditure_12M_Total']\n",
    "\n",
    "test_reduced_by_z.describe()"
   ]
  },
  {
   "cell_type": "code",
   "execution_count": null,
   "metadata": {
    "ExecuteTime": {
     "end_time": "2020-05-01T14:34:38.961660Z",
     "start_time": "2020-05-01T14:34:38.793115Z"
    },
    "hidden": true
   },
   "outputs": [],
   "source": [
    "#create the new scatter plot\n",
    "plt.plot(x,y,'o',color = 'pink', label = '')\n",
    "# add the column names as labels\n",
    "plt.title('X VS Y')\n",
    "plt.xlabel('X')\n",
    "plt.ylabel('Y')\n",
    "plt.legend()\n",
    "plt.show()"
   ]
  },
  {
   "cell_type": "code",
   "execution_count": null,
   "metadata": {
    "ExecuteTime": {
     "end_time": "2020-05-01T14:34:41.153643Z",
     "start_time": "2020-05-01T14:34:41.146664Z"
    },
    "hidden": true,
    "scrolled": false
   },
   "outputs": [],
   "source": [
    "test_reduced_by_z.corr()"
   ]
  },
  {
   "cell_type": "code",
   "execution_count": null,
   "metadata": {
    "ExecuteTime": {
     "end_time": "2020-05-01T14:34:43.036671Z",
     "start_time": "2020-05-01T14:34:42.765394Z"
    },
    "hidden": true
   },
   "outputs": [],
   "source": [
    "test_reduced_by_z.hist(grid = True, color = 'Purple')"
   ]
  },
  {
   "cell_type": "code",
   "execution_count": null,
   "metadata": {
    "ExecuteTime": {
     "end_time": "2020-05-01T14:34:43.949951Z",
     "start_time": "2020-05-01T14:34:43.940964Z"
    },
    "hidden": true
   },
   "outputs": [],
   "source": [
    "display(stats.kurtosistest(test_reduced_by_z['Family_Expenditure_12M_Rentals']))\n",
    "display(stats.skewtest(test_reduced_by_z['Family_Expenditure_12M_Rentals']))"
   ]
  },
  {
   "cell_type": "code",
   "execution_count": null,
   "metadata": {
    "ExecuteTime": {
     "end_time": "2020-05-01T14:34:44.724652Z",
     "start_time": "2020-05-01T14:34:44.694769Z"
    },
    "hidden": true,
    "scrolled": false
   },
   "outputs": [],
   "source": [
    "# define our input variable & output variable\n",
    "x = test_reduced_by_z[['Family_Expenditure_12M_Rentals']]\n",
    "y = test_reduced_by_z[['Expenditure_12M_Total']]\n",
    "\n",
    "# Split X and y into X_\n",
    "x_train, x_test, y_train, y_test = train_test_split(x, y, test_size=0.20, random_state=1)\n",
    "# create a Linear Regression model object.\n",
    "single_regression_model = LinearRegression()\n",
    "# pass through the X_train & y_train data set.\n",
    "single_regression_model.fit(x_train, y_train)\n",
    "# create OLS model for training data\n",
    "model = sm.OLS(y_train, x_train)\n",
    "# pass through the X_train & y_train data set.\n",
    "est = model.fit()\n",
    "print(est.summary())"
   ]
  },
  {
   "cell_type": "code",
   "execution_count": null,
   "metadata": {
    "ExecuteTime": {
     "end_time": "2020-05-01T14:34:50.726536Z",
     "start_time": "2020-05-01T14:34:50.718517Z"
    },
    "hidden": true
   },
   "outputs": [],
   "source": [
    "# make some confidence intervals, 95% by default.\n",
    "est.conf_int()"
   ]
  },
  {
   "cell_type": "code",
   "execution_count": null,
   "metadata": {
    "ExecuteTime": {
     "end_time": "2020-05-01T14:34:51.798891Z",
     "start_time": "2020-05-01T14:34:51.791909Z"
    },
    "hidden": true
   },
   "outputs": [],
   "source": [
    "# estimate the p-values\n",
    "est.pvalues"
   ]
  },
  {
   "cell_type": "code",
   "execution_count": null,
   "metadata": {
    "ExecuteTime": {
     "end_time": "2020-05-01T14:34:52.429208Z",
     "start_time": "2020-05-01T14:34:52.423283Z"
    },
    "hidden": true,
    "scrolled": true
   },
   "outputs": [],
   "source": [
    "# calculate and display intercept, coefficient\n",
    "intercept = single_regression_model.intercept_[0]\n",
    "coefficient = single_regression_model.coef_[0][0]\n",
    "# print out\n",
    "print(\"The Coefficient for training model is {:2}\".format(coefficient))\n",
    "print(\"The intercept for training model is {:4}\".format(intercept))"
   ]
  },
  {
   "cell_type": "code",
   "execution_count": null,
   "metadata": {
    "ExecuteTime": {
     "end_time": "2020-05-01T14:34:53.162236Z",
     "start_time": "2020-05-01T14:34:53.155254Z"
    },
    "hidden": true
   },
   "outputs": [],
   "source": [
    "# create prediction value and calculate errors\n",
    "y_predict = single_regression_model.predict(x_test)\n",
    "# calculate the mean squared error.\n",
    "model_mse = mean_squared_error(y_test, y_predict)\n",
    "# calculate the mean absolute error.\n",
    "model_mae = mean_absolute_error(y_test, y_predict)\n",
    "# calulcate the root mean squared error\n",
    "model_rmse =  math.sqrt(model_mse)\n",
    "# display the output\n",
    "print(\"MSE {:3}\".format(model_mse))\n",
    "print(\"MAE {:3}\".format(model_mae))\n",
    "print(\"RMSE {:3}\".format(model_rmse))"
   ]
  },
  {
   "cell_type": "code",
   "execution_count": null,
   "metadata": {
    "ExecuteTime": {
     "end_time": "2020-05-01T14:34:55.049934Z",
     "start_time": "2020-05-01T14:34:55.043949Z"
    },
    "hidden": true
   },
   "outputs": [],
   "source": [
    "model_r2 = r2_score(y_test, y_predict)\n",
    "print(\"R2 of the prediction is: {:.2}\".format(model_r2))"
   ]
  },
  {
   "cell_type": "code",
   "execution_count": null,
   "metadata": {
    "ExecuteTime": {
     "end_time": "2020-05-01T14:34:55.831732Z",
     "start_time": "2020-05-01T14:34:55.691109Z"
    },
    "hidden": true
   },
   "outputs": [],
   "source": [
    "# Grab the residuals & then call the hist() method\n",
    "(y_test - y_predict).hist(grid = False, color = 'Gold')\n",
    "plt.title(\"Model Residuals\")\n",
    "plt.show()"
   ]
  },
  {
   "cell_type": "code",
   "execution_count": null,
   "metadata": {
    "ExecuteTime": {
     "end_time": "2020-05-01T14:34:57.078163Z",
     "start_time": "2020-05-01T14:34:56.889659Z"
    },
    "hidden": true
   },
   "outputs": [],
   "source": [
    "# Plot outputs\n",
    "plt.scatter(x_test, y_test,  color='pink', label = '')\n",
    "plt.plot(x_test, y_predict, color='royalblue', linewidth = 3, linestyle= '-',label ='Regression Line')\n",
    "\n",
    "plt.title(\"FamilyExpenditure_Rentals VS Expenditure_12M_Total\")\n",
    "plt.xlabel(\"x\")\n",
    "plt.ylabel(\"y\")\n",
    "plt.legend()\n",
    "plt.show()\n",
    "\n",
    "# The coefficients\n",
    "print('Coefficient:' + '\\033[1m' + '{:.2}''\\033[0m'.format(single_regression_model.coef_[0][0]))\n",
    "\n",
    "# The mean squared error\n",
    "print('Mean squared error: ' + '\\033[1m' + '{:.4}''\\033[0m'.format(model_mse))\n",
    "\n",
    "# The mean squared error\n",
    "print('Root Mean squared error: ' + '\\033[1m' + '{:.4}''\\033[0m'.format(math.sqrt(model_mse)))\n",
    "\n",
    "# Explained variance score: 1 is perfect prediction\n",
    "print('R2 score: '+ '\\033[1m' + '{:.2}''\\033[0m'.format(r2_score(y_test,y_predict)))"
   ]
  },
  {
   "cell_type": "markdown",
   "metadata": {
    "heading_collapsed": true,
    "hidden": true
   },
   "source": [
    "### Test 5 Conclusion"
   ]
  },
  {
   "cell_type": "markdown",
   "metadata": {
    "heading_collapsed": true,
    "hidden": true
   },
   "source": [
    "## Test 6: x = PercentageFleet_Utilized_0_12M y= Expenditure_12M_Equipment"
   ]
  },
  {
   "cell_type": "markdown",
   "metadata": {
    "heading_collapsed": true,
    "hidden": true
   },
   "source": [
    "### Test 6"
   ]
  },
  {
   "cell_type": "code",
   "execution_count": null,
   "metadata": {
    "ExecuteTime": {
     "end_time": "2020-05-01T14:35:06.587182Z",
     "start_time": "2020-05-01T14:35:06.567236Z"
    },
    "hidden": true
   },
   "outputs": [],
   "source": [
    "#Create subset data1 for testing ideal element\n",
    "test = data_dropna.loc[:, ['PercentageFleet_Utilized_0_12M', 'Expenditure_12M_Equipment']]\n",
    "\n",
    "#remove extreme outliers:\n",
    "#If you have multiple columns in your dataframe and would like to remove all rows that have outliers in at least one column, \n",
    "#the following expression would do that in one shot: select absolute Z score for the row <1.65 (). .all or .any\n",
    "test_reduced_by_z = test[(np.abs(stats.zscore(test)) < 3).all(axis=1)]\n",
    "\n",
    "#define the x & y data\n",
    "x = test_reduced_by_z['PercentageFleet_Utilized_0_12M']\n",
    "y = test_reduced_by_z['Expenditure_12M_Equipment']\n",
    "\n",
    "test_reduced_by_z.describe()"
   ]
  },
  {
   "cell_type": "code",
   "execution_count": null,
   "metadata": {
    "ExecuteTime": {
     "end_time": "2020-05-01T14:35:07.934413Z",
     "start_time": "2020-05-01T14:35:07.769881Z"
    },
    "hidden": true
   },
   "outputs": [],
   "source": [
    "#create the new scatter plot\n",
    "plt.plot(x,y,'o',color = 'pink', label = '')\n",
    "# add the column names as labels\n",
    "plt.title('X VS Y')\n",
    "plt.xlabel('X')\n",
    "plt.ylabel('Y')\n",
    "plt.legend()\n",
    "plt.show()"
   ]
  },
  {
   "cell_type": "code",
   "execution_count": null,
   "metadata": {
    "ExecuteTime": {
     "end_time": "2020-05-01T14:35:09.445371Z",
     "start_time": "2020-05-01T14:35:09.437375Z"
    },
    "hidden": true,
    "scrolled": false
   },
   "outputs": [],
   "source": [
    "test_reduced_by_z.corr()"
   ]
  },
  {
   "cell_type": "code",
   "execution_count": null,
   "metadata": {
    "ExecuteTime": {
     "end_time": "2020-05-01T14:35:11.137168Z",
     "start_time": "2020-05-01T14:35:10.695296Z"
    },
    "hidden": true
   },
   "outputs": [],
   "source": [
    "test_reduced_by_z.hist(grid = True, color = 'Purple')"
   ]
  },
  {
   "cell_type": "code",
   "execution_count": null,
   "metadata": {
    "ExecuteTime": {
     "end_time": "2020-05-01T14:35:12.380859Z",
     "start_time": "2020-05-01T14:35:12.371884Z"
    },
    "hidden": true
   },
   "outputs": [],
   "source": [
    "display(stats.kurtosistest(test_reduced_by_z['PercentageFleet_Utilized_0_12M']))\n",
    "display(stats.skewtest(test_reduced_by_z['PercentageFleet_Utilized_0_12M']))"
   ]
  },
  {
   "cell_type": "code",
   "execution_count": null,
   "metadata": {
    "ExecuteTime": {
     "end_time": "2020-05-01T14:35:13.077026Z",
     "start_time": "2020-05-01T14:35:13.055086Z"
    },
    "hidden": true,
    "scrolled": false
   },
   "outputs": [],
   "source": [
    "# define our input variable & output variable\n",
    "x = test_reduced_by_z[['PercentageFleet_Utilized_0_12M']]\n",
    "y = test_reduced_by_z[['Expenditure_12M_Equipment']]\n",
    "\n",
    "# Split X and y into X_\n",
    "x_train, x_test, y_train, y_test = train_test_split(x, y, test_size=0.20, random_state=1)\n",
    "# create a Linear Regression model object.\n",
    "single_regression_model = LinearRegression()\n",
    "# pass through the X_train & y_train data set.\n",
    "single_regression_model.fit(x_train, y_train)\n",
    "# create OLS model for training data\n",
    "model = sm.OLS(y_train, x_train)\n",
    "# pass through the X_train & y_train data set.\n",
    "est = model.fit()\n",
    "print(est.summary())"
   ]
  },
  {
   "cell_type": "code",
   "execution_count": null,
   "metadata": {
    "ExecuteTime": {
     "end_time": "2020-05-01T14:35:15.298794Z",
     "start_time": "2020-05-01T14:35:15.291770Z"
    },
    "hidden": true
   },
   "outputs": [],
   "source": [
    "# make some confidence intervals, 95% by default.\n",
    "est.conf_int()"
   ]
  },
  {
   "cell_type": "code",
   "execution_count": null,
   "metadata": {
    "ExecuteTime": {
     "end_time": "2020-05-01T14:35:16.473199Z",
     "start_time": "2020-05-01T14:35:16.467189Z"
    },
    "hidden": true
   },
   "outputs": [],
   "source": [
    "# estimate the p-values\n",
    "est.pvalues"
   ]
  },
  {
   "cell_type": "code",
   "execution_count": null,
   "metadata": {
    "ExecuteTime": {
     "end_time": "2020-05-01T14:35:17.935267Z",
     "start_time": "2020-05-01T14:35:17.929291Z"
    },
    "hidden": true,
    "scrolled": true
   },
   "outputs": [],
   "source": [
    "# calculate and display intercept, coefficient\n",
    "intercept = single_regression_model.intercept_[0]\n",
    "coefficient = single_regression_model.coef_[0][0]\n",
    "# print out\n",
    "print(\"The Coefficient for training model is {:2}\".format(coefficient))\n",
    "print(\"The intercept for training model is {:4}\".format(intercept))"
   ]
  },
  {
   "cell_type": "code",
   "execution_count": null,
   "metadata": {
    "ExecuteTime": {
     "end_time": "2020-05-01T14:35:18.727136Z",
     "start_time": "2020-05-01T14:35:18.716165Z"
    },
    "hidden": true
   },
   "outputs": [],
   "source": [
    "# create prediction value and calculate errors\n",
    "y_predict = single_regression_model.predict(x_test)\n",
    "# calculate the mean squared error.\n",
    "model_mse = mean_squared_error(y_test, y_predict)\n",
    "# calculate the mean absolute error.\n",
    "model_mae = mean_absolute_error(y_test, y_predict)\n",
    "# calulcate the root mean squared error\n",
    "model_rmse =  math.sqrt(model_mse)\n",
    "# display the output\n",
    "print(\"MSE {:3}\".format(model_mse))\n",
    "print(\"MAE {:3}\".format(model_mae))\n",
    "print(\"RMSE {:3}\".format(model_rmse))"
   ]
  },
  {
   "cell_type": "code",
   "execution_count": null,
   "metadata": {
    "ExecuteTime": {
     "end_time": "2020-05-01T14:35:19.648082Z",
     "start_time": "2020-05-01T14:35:19.640084Z"
    },
    "hidden": true
   },
   "outputs": [],
   "source": [
    "model_r2 = r2_score(y_test, y_predict)\n",
    "print(\"R2 of the prediction is: {:.2}\".format(model_r2))"
   ]
  },
  {
   "cell_type": "code",
   "execution_count": null,
   "metadata": {
    "ExecuteTime": {
     "end_time": "2020-05-01T14:35:20.607572Z",
     "start_time": "2020-05-01T14:35:20.441999Z"
    },
    "hidden": true
   },
   "outputs": [],
   "source": [
    "# Grab the residuals & then call the hist() method\n",
    "(y_test - y_predict).hist(grid = False, color = 'Gold')\n",
    "plt.title(\"Model Residuals\")\n",
    "plt.show()"
   ]
  },
  {
   "cell_type": "code",
   "execution_count": null,
   "metadata": {
    "ExecuteTime": {
     "end_time": "2020-05-01T14:35:21.917535Z",
     "start_time": "2020-05-01T14:35:21.719072Z"
    },
    "hidden": true
   },
   "outputs": [],
   "source": [
    "# Plot outputs\n",
    "plt.scatter(x_test, y_test,  color='pink', label = '')\n",
    "plt.plot(x_test, y_predict, color='royalblue', linewidth = 3, linestyle= '-',label ='Regression Line')\n",
    "\n",
    "plt.title(\"PercentageFleet_Utilized_0_12M VS Expenditure_12M_Equipment\")\n",
    "plt.xlabel(\"x\")\n",
    "plt.ylabel(\"y\")\n",
    "plt.legend()\n",
    "plt.show()\n",
    "\n",
    "# The coefficients\n",
    "print('Coefficient:' + '\\033[1m' + '{:.2}''\\033[0m'.format(single_regression_model.coef_[0][0]))\n",
    "\n",
    "# The mean squared error\n",
    "print('Mean squared error: ' + '\\033[1m' + '{:.4}''\\033[0m'.format(model_mse))\n",
    "\n",
    "# The mean squared error\n",
    "print('Root Mean squared error: ' + '\\033[1m' + '{:.4}''\\033[0m'.format(math.sqrt(model_mse)))\n",
    "\n",
    "# Explained variance score: 1 is perfect prediction\n",
    "print('R2 score: '+ '\\033[1m' + '{:.2}''\\033[0m'.format(r2_score(y_test,y_predict)))"
   ]
  },
  {
   "cell_type": "markdown",
   "metadata": {
    "heading_collapsed": true,
    "hidden": true
   },
   "source": [
    "### Test 6 Conclusion"
   ]
  },
  {
   "cell_type": "markdown",
   "metadata": {
    "heading_collapsed": true,
    "hidden": true
   },
   "source": [
    "## Test 7: x = Percentage_SubscriptionActive y= Expenditure_12M_Equipment"
   ]
  },
  {
   "cell_type": "markdown",
   "metadata": {
    "heading_collapsed": true,
    "hidden": true
   },
   "source": [
    "### Test 7"
   ]
  },
  {
   "cell_type": "code",
   "execution_count": null,
   "metadata": {
    "ExecuteTime": {
     "end_time": "2020-05-01T14:35:29.590825Z",
     "start_time": "2020-05-01T14:35:29.569883Z"
    },
    "hidden": true
   },
   "outputs": [],
   "source": [
    "#Create subset data1 for testing ideal element\n",
    "test = data_dropna.loc[:, ['PercentageFleet_Utilized_0_12M', 'Expenditure_12M_Equipment']]\n",
    "\n",
    "#remove extreme outliers:\n",
    "#If you have multiple columns in your dataframe and would like to remove all rows that have outliers in at least one column, \n",
    "#the following expression would do that in one shot: select absolute Z score for the row <1.65 (). .all or .any\n",
    "test_reduced_by_z = test[(np.abs(stats.zscore(test)) < 3).all(axis=1)]\n",
    "\n",
    "#define the x & y data\n",
    "x = test_reduced_by_z['PercentageFleet_Utilized_0_12M']\n",
    "y = test_reduced_by_z['Expenditure_12M_Equipment']\n",
    "\n",
    "test_reduced_by_z.describe()"
   ]
  },
  {
   "cell_type": "code",
   "execution_count": null,
   "metadata": {
    "ExecuteTime": {
     "end_time": "2020-05-01T14:35:31.336556Z",
     "start_time": "2020-05-01T14:35:31.175954Z"
    },
    "hidden": true
   },
   "outputs": [],
   "source": [
    "#create the new scatter plot\n",
    "plt.plot(x,y,'o',color = 'pink', label = '')\n",
    "# add the column names as labels\n",
    "plt.title('X VS Y')\n",
    "plt.xlabel('X')\n",
    "plt.ylabel('Y')\n",
    "plt.legend()\n",
    "plt.show()"
   ]
  },
  {
   "cell_type": "code",
   "execution_count": null,
   "metadata": {
    "ExecuteTime": {
     "end_time": "2020-05-01T14:35:32.434739Z",
     "start_time": "2020-05-01T14:35:32.426763Z"
    },
    "hidden": true,
    "scrolled": false
   },
   "outputs": [],
   "source": [
    "test_reduced_by_z.corr()"
   ]
  },
  {
   "cell_type": "code",
   "execution_count": null,
   "metadata": {
    "ExecuteTime": {
     "end_time": "2020-05-01T14:35:33.651446Z",
     "start_time": "2020-05-01T14:35:33.345303Z"
    },
    "hidden": true
   },
   "outputs": [],
   "source": [
    "test_reduced_by_z.hist(grid = True, color = 'Purple')"
   ]
  },
  {
   "cell_type": "code",
   "execution_count": null,
   "metadata": {
    "ExecuteTime": {
     "end_time": "2020-05-01T14:35:34.622949Z",
     "start_time": "2020-05-01T14:35:34.612975Z"
    },
    "hidden": true
   },
   "outputs": [],
   "source": [
    "display(stats.kurtosistest(test_reduced_by_z['PercentageFleet_Utilized_0_12M']))\n",
    "display(stats.skewtest(test_reduced_by_z['PercentageFleet_Utilized_0_12M']))"
   ]
  },
  {
   "cell_type": "code",
   "execution_count": null,
   "metadata": {
    "ExecuteTime": {
     "end_time": "2020-05-01T14:35:35.343978Z",
     "start_time": "2020-05-01T14:35:35.321040Z"
    },
    "hidden": true,
    "scrolled": false
   },
   "outputs": [],
   "source": [
    "# define our input variable & output variable\n",
    "x = test_reduced_by_z[['PercentageFleet_Utilized_0_12M']]\n",
    "y = test_reduced_by_z[['Expenditure_12M_Equipment']]\n",
    "\n",
    "# Split X and y into X_\n",
    "x_train, x_test, y_train, y_test = train_test_split(x, y, test_size=0.20, random_state=1)\n",
    "# create a Linear Regression model object.\n",
    "single_regression_model = LinearRegression()\n",
    "# pass through the X_train & y_train data set.\n",
    "single_regression_model.fit(x_train, y_train)\n",
    "# create OLS model for training data\n",
    "model = sm.OLS(y_train, x_train)\n",
    "# pass through the X_train & y_train data set.\n",
    "est = model.fit()\n",
    "print(est.summary())"
   ]
  },
  {
   "cell_type": "code",
   "execution_count": null,
   "metadata": {
    "ExecuteTime": {
     "end_time": "2020-05-01T14:35:36.890331Z",
     "start_time": "2020-05-01T14:35:36.882353Z"
    },
    "hidden": true
   },
   "outputs": [],
   "source": [
    "# make some confidence intervals, 95% by default.\n",
    "est.conf_int()"
   ]
  },
  {
   "cell_type": "code",
   "execution_count": null,
   "metadata": {
    "ExecuteTime": {
     "end_time": "2020-05-01T14:35:38.383775Z",
     "start_time": "2020-05-01T14:35:38.376794Z"
    },
    "hidden": true
   },
   "outputs": [],
   "source": [
    "# estimate the p-values\n",
    "est.pvalues"
   ]
  },
  {
   "cell_type": "code",
   "execution_count": null,
   "metadata": {
    "ExecuteTime": {
     "end_time": "2020-05-01T14:35:39.404147Z",
     "start_time": "2020-05-01T14:35:39.399150Z"
    },
    "hidden": true,
    "scrolled": true
   },
   "outputs": [],
   "source": [
    "# calculate and display intercept, coefficient\n",
    "intercept = single_regression_model.intercept_[0]\n",
    "coefficient = single_regression_model.coef_[0][0]\n",
    "# print out\n",
    "print(\"The Coefficient for training model is {:2}\".format(coefficient))\n",
    "print(\"The intercept for training model is {:4}\".format(intercept))"
   ]
  },
  {
   "cell_type": "code",
   "execution_count": null,
   "metadata": {
    "ExecuteTime": {
     "end_time": "2020-05-01T14:35:40.856308Z",
     "start_time": "2020-05-01T14:35:40.849327Z"
    },
    "hidden": true
   },
   "outputs": [],
   "source": [
    "# create prediction value and calculate errors\n",
    "y_predict = single_regression_model.predict(x_test)\n",
    "# calculate the mean squared error.\n",
    "model_mse = mean_squared_error(y_test, y_predict)\n",
    "# calculate the mean absolute error.\n",
    "model_mae = mean_absolute_error(y_test, y_predict)\n",
    "# calulcate the root mean squared error\n",
    "model_rmse =  math.sqrt(model_mse)\n",
    "# display the output\n",
    "print(\"MSE {:3}\".format(model_mse))\n",
    "print(\"MAE {:3}\".format(model_mae))\n",
    "print(\"RMSE {:3}\".format(model_rmse))"
   ]
  },
  {
   "cell_type": "code",
   "execution_count": null,
   "metadata": {
    "ExecuteTime": {
     "end_time": "2020-05-01T14:35:41.883020Z",
     "start_time": "2020-05-01T14:35:41.876047Z"
    },
    "hidden": true
   },
   "outputs": [],
   "source": [
    "model_r2 = r2_score(y_test, y_predict)\n",
    "print(\"R2 of the prediction is: {:.2}\".format(model_r2))"
   ]
  },
  {
   "cell_type": "code",
   "execution_count": null,
   "metadata": {
    "ExecuteTime": {
     "end_time": "2020-05-01T14:35:43.901356Z",
     "start_time": "2020-05-01T14:35:43.758739Z"
    },
    "hidden": true
   },
   "outputs": [],
   "source": [
    "# Grab the residuals & then call the hist() method\n",
    "(y_test - y_predict).hist(grid = False, color = 'Gold')\n",
    "plt.title(\"Model Residuals\")\n",
    "plt.show()"
   ]
  },
  {
   "cell_type": "code",
   "execution_count": null,
   "metadata": {
    "ExecuteTime": {
     "end_time": "2020-05-01T14:35:51.198959Z",
     "start_time": "2020-05-01T14:35:51.005471Z"
    },
    "hidden": true
   },
   "outputs": [],
   "source": [
    "# Plot outputs\n",
    "plt.scatter(x_test, y_test,  color='pink', label = '')\n",
    "plt.plot(x_test, y_predict, color='royalblue', linewidth = 3, linestyle= '-',label ='Regression Line')\n",
    "\n",
    "plt.title(\"PercentageFleet_Utilized_0_12M VS Expenditure_12M_Equipment\")\n",
    "plt.xlabel(\"x\")\n",
    "plt.ylabel(\"y\")\n",
    "plt.legend()\n",
    "plt.show()\n",
    "\n",
    "# The coefficients\n",
    "print('Coefficient:' + '\\033[1m' + '{:.2}''\\033[0m'.format(single_regression_model.coef_[0][0]))\n",
    "\n",
    "# The mean squared error\n",
    "print('Mean squared error: ' + '\\033[1m' + '{:.4}''\\033[0m'.format(model_mse))\n",
    "\n",
    "# The mean squared error\n",
    "print('Root Mean squared error: ' + '\\033[1m' + '{:.4}''\\033[0m'.format(math.sqrt(model_mse)))\n",
    "\n",
    "# Explained variance score: 1 is perfect prediction\n",
    "print('R2 score: '+ '\\033[1m' + '{:.2}''\\033[0m'.format(r2_score(y_test,y_predict)))"
   ]
  },
  {
   "cell_type": "markdown",
   "metadata": {
    "heading_collapsed": true,
    "hidden": true
   },
   "source": [
    "### Test 7 Conclusion"
   ]
  },
  {
   "cell_type": "markdown",
   "metadata": {
    "heading_collapsed": true,
    "hidden": true
   },
   "source": [
    "## Test 8: x = Average_Fleet_Annual_Utilization y= Expenditure_12M_Total"
   ]
  },
  {
   "cell_type": "markdown",
   "metadata": {
    "heading_collapsed": true,
    "hidden": true
   },
   "source": [
    "### Test 8"
   ]
  },
  {
   "cell_type": "code",
   "execution_count": null,
   "metadata": {
    "ExecuteTime": {
     "end_time": "2020-05-01T14:35:57.727385Z",
     "start_time": "2020-05-01T14:35:57.708437Z"
    },
    "hidden": true
   },
   "outputs": [],
   "source": [
    "#Create subset data1 for testing ideal element\n",
    "test = data_dropna.loc[:, ['Average_Fleet_Annual_Utilization', 'Expenditure_12M_Total']]\n",
    "\n",
    "#remove extreme outliers:\n",
    "#If you have multiple columns in your dataframe and would like to remove all rows that have outliers in at least one column, \n",
    "#the following expression would do that in one shot: select absolute Z score for the row <1.65 (). .all or .any\n",
    "test_reduced_by_z = test[(np.abs(stats.zscore(test)) < 3).all(axis=1)]\n",
    "\n",
    "#define the x & y data\n",
    "x = test_reduced_by_z['Average_Fleet_Annual_Utilization']\n",
    "y = test_reduced_by_z['Expenditure_12M_Total']\n",
    "\n",
    "test_reduced_by_z.describe()"
   ]
  },
  {
   "cell_type": "code",
   "execution_count": null,
   "metadata": {
    "ExecuteTime": {
     "end_time": "2020-05-01T14:35:59.925081Z",
     "start_time": "2020-05-01T14:35:59.733561Z"
    },
    "hidden": true
   },
   "outputs": [],
   "source": [
    "#create the new scatter plot\n",
    "plt.plot(x,y,'o',color = 'pink', label = '')\n",
    "# add the column names as labels\n",
    "plt.title('X VS Y')\n",
    "plt.xlabel('X')\n",
    "plt.ylabel('Y')\n",
    "plt.legend()\n",
    "plt.show()"
   ]
  },
  {
   "cell_type": "code",
   "execution_count": null,
   "metadata": {
    "ExecuteTime": {
     "end_time": "2020-05-01T14:36:01.566104Z",
     "start_time": "2020-05-01T14:36:01.542169Z"
    },
    "hidden": true,
    "scrolled": false
   },
   "outputs": [],
   "source": [
    "# #Remove negative x\n",
    "# test_absolute_x = test_reduced_by_z[test_reduced_by_z['Average_Fleet_Annual_Utilization'] >= 0]\n",
    "\n",
    "# x = test_absolute_x['Average_Fleet_Annual_Utilization']\n",
    "# y = test_absolute_x['Expenditure_12M_Total']\n",
    "# test_reduced_by_z.describe()"
   ]
  },
  {
   "cell_type": "code",
   "execution_count": null,
   "metadata": {
    "ExecuteTime": {
     "end_time": "2020-05-01T14:36:03.501188Z",
     "start_time": "2020-05-01T14:36:03.315688Z"
    },
    "hidden": true
   },
   "outputs": [],
   "source": [
    "# #create the new scatter plot\n",
    "# plt.plot(x,y,'o',color = 'pink', label = '')\n",
    "# # add the column names as labels\n",
    "# plt.title('X VS Y')\n",
    "# plt.xlabel('X')\n",
    "# plt.ylabel('Y')\n",
    "# plt.legend()\n",
    "# plt.show()"
   ]
  },
  {
   "cell_type": "code",
   "execution_count": null,
   "metadata": {
    "ExecuteTime": {
     "end_time": "2020-05-01T14:36:42.790316Z",
     "start_time": "2020-05-01T14:36:42.782338Z"
    },
    "hidden": true
   },
   "outputs": [],
   "source": [
    "test_reduced_by_z.corr()"
   ]
  },
  {
   "cell_type": "code",
   "execution_count": null,
   "metadata": {
    "ExecuteTime": {
     "end_time": "2020-05-01T14:36:44.180998Z",
     "start_time": "2020-05-01T14:36:43.902720Z"
    },
    "hidden": true
   },
   "outputs": [],
   "source": [
    "test_reduced_by_z.hist(grid = True, color = 'Purple')"
   ]
  },
  {
   "cell_type": "code",
   "execution_count": null,
   "metadata": {
    "ExecuteTime": {
     "end_time": "2020-05-01T14:36:48.556421Z",
     "start_time": "2020-05-01T14:36:48.547413Z"
    },
    "hidden": true
   },
   "outputs": [],
   "source": [
    "display(stats.kurtosistest(test_reduced_by_z['Average_Fleet_Annual_Utilization']))\n",
    "display(stats.skewtest(test_reduced_by_z['Average_Fleet_Annual_Utilization']))"
   ]
  },
  {
   "cell_type": "code",
   "execution_count": null,
   "metadata": {
    "ExecuteTime": {
     "end_time": "2020-05-01T14:36:52.780959Z",
     "start_time": "2020-05-01T14:36:52.759019Z"
    },
    "hidden": true,
    "scrolled": false
   },
   "outputs": [],
   "source": [
    "# define our input variable & output variable\n",
    "x = test_reduced_by_z[['Average_Fleet_Annual_Utilization']]\n",
    "y = test_reduced_by_z[['Expenditure_12M_Total']]\n",
    "\n",
    "# Split X and y into X_\n",
    "x_train, x_test, y_train, y_test = train_test_split(x, y, test_size=0.20, random_state=1)\n",
    "# create a Linear Regression model object.\n",
    "single_regression_model = LinearRegression()\n",
    "# pass through the X_train & y_train data set.\n",
    "single_regression_model.fit(x_train, y_train)\n",
    "# create OLS model for training data\n",
    "model = sm.OLS(y_train, x_train)\n",
    "# pass through the X_train & y_train data set.\n",
    "est = model.fit()\n",
    "print(est.summary())"
   ]
  },
  {
   "cell_type": "code",
   "execution_count": null,
   "metadata": {
    "ExecuteTime": {
     "end_time": "2020-05-01T14:36:54.383147Z",
     "start_time": "2020-05-01T14:36:54.375136Z"
    },
    "hidden": true
   },
   "outputs": [],
   "source": [
    "# make some confidence intervals, 95% by default.\n",
    "est.conf_int()"
   ]
  },
  {
   "cell_type": "code",
   "execution_count": null,
   "metadata": {
    "ExecuteTime": {
     "end_time": "2020-05-01T14:36:55.386688Z",
     "start_time": "2020-05-01T14:36:55.380705Z"
    },
    "hidden": true
   },
   "outputs": [],
   "source": [
    "# estimate the p-values\n",
    "est.pvalues"
   ]
  },
  {
   "cell_type": "code",
   "execution_count": null,
   "metadata": {
    "ExecuteTime": {
     "end_time": "2020-05-01T14:36:56.102228Z",
     "start_time": "2020-05-01T14:36:56.098198Z"
    },
    "hidden": true,
    "scrolled": true
   },
   "outputs": [],
   "source": [
    "# calculate and display intercept, coefficient\n",
    "intercept = single_regression_model.intercept_[0]\n",
    "coefficient = single_regression_model.coef_[0][0]\n",
    "# print out\n",
    "print(\"The Coefficient for training model is {:2}\".format(coefficient))\n",
    "print(\"The intercept for training model is {:4}\".format(intercept))"
   ]
  },
  {
   "cell_type": "code",
   "execution_count": null,
   "metadata": {
    "ExecuteTime": {
     "end_time": "2020-05-01T14:36:57.477374Z",
     "start_time": "2020-05-01T14:36:57.469431Z"
    },
    "hidden": true
   },
   "outputs": [],
   "source": [
    "# create prediction value and calculate errors\n",
    "y_predict = single_regression_model.predict(x_test)\n",
    "# calculate the mean squared error.\n",
    "model_mse = mean_squared_error(y_test, y_predict)\n",
    "# calculate the mean absolute error.\n",
    "model_mae = mean_absolute_error(y_test, y_predict)\n",
    "# calulcate the root mean squared error\n",
    "model_rmse =  math.sqrt(model_mse)\n",
    "# display the output\n",
    "print(\"MSE {:3}\".format(model_mse))\n",
    "print(\"MAE {:3}\".format(model_mae))\n",
    "print(\"RMSE {:3}\".format(model_rmse))"
   ]
  },
  {
   "cell_type": "code",
   "execution_count": null,
   "metadata": {
    "ExecuteTime": {
     "end_time": "2020-05-01T14:36:58.542939Z",
     "start_time": "2020-05-01T14:36:58.536953Z"
    },
    "hidden": true
   },
   "outputs": [],
   "source": [
    "model_r2 = r2_score(y_test, y_predict)\n",
    "print(\"R2 of the prediction is: {:.2}\".format(model_r2))"
   ]
  },
  {
   "cell_type": "code",
   "execution_count": null,
   "metadata": {
    "ExecuteTime": {
     "end_time": "2020-05-01T14:36:59.548754Z",
     "start_time": "2020-05-01T14:36:59.408128Z"
    },
    "hidden": true
   },
   "outputs": [],
   "source": [
    "# Grab the residuals & then call the hist() method\n",
    "(y_test - y_predict).hist(grid = False, color = 'Gold')\n",
    "plt.title(\"Model Residuals\")\n",
    "plt.show()"
   ]
  },
  {
   "cell_type": "code",
   "execution_count": null,
   "metadata": {
    "ExecuteTime": {
     "end_time": "2020-05-01T14:37:03.210377Z",
     "start_time": "2020-05-01T14:37:03.021883Z"
    },
    "hidden": true,
    "scrolled": false
   },
   "outputs": [],
   "source": [
    "# Plot outputs\n",
    "plt.scatter(x_test, y_test,  color='pink', label = '')\n",
    "plt.plot(x_test, y_predict, color='royalblue', linewidth = 3, linestyle= '-',label ='Regression Line')\n",
    "\n",
    "plt.title(\"Average_Fleet_Annual_Utilization VS Expenditure_12M_Total\")\n",
    "plt.xlabel(\"x\")\n",
    "plt.ylabel(\"y\")\n",
    "plt.legend()\n",
    "plt.show()\n",
    "\n",
    "# The coefficients\n",
    "print('Coefficient:' + '\\033[1m' + '{:.2}''\\033[0m'.format(single_regression_model.coef_[0][0]))\n",
    "\n",
    "# The mean squared error\n",
    "print('Mean squared error: ' + '\\033[1m' + '{:.4}''\\033[0m'.format(model_mse))\n",
    "\n",
    "# The mean squared error\n",
    "print('Root Mean squared error: ' + '\\033[1m' + '{:.4}''\\033[0m'.format(math.sqrt(model_mse)))\n",
    "\n",
    "# Explained variance score: 1 is perfect prediction\n",
    "print('R2 score: '+ '\\033[1m' + '{:.2}''\\033[0m'.format(r2_score(y_test,y_predict)))"
   ]
  },
  {
   "cell_type": "markdown",
   "metadata": {
    "heading_collapsed": true,
    "hidden": true
   },
   "source": [
    "### Test 8 Conclusion"
   ]
  },
  {
   "cell_type": "markdown",
   "metadata": {
    "heading_collapsed": true,
    "hidden": true
   },
   "source": [
    "## Test 9: x = Mean_SMU_Between_SOS y= Expenditure_12M_Total\n"
   ]
  },
  {
   "cell_type": "markdown",
   "metadata": {
    "heading_collapsed": true,
    "hidden": true
   },
   "source": [
    "### Test 9"
   ]
  },
  {
   "cell_type": "code",
   "execution_count": null,
   "metadata": {
    "ExecuteTime": {
     "end_time": "2020-05-01T14:37:12.138741Z",
     "start_time": "2020-05-01T14:37:12.119793Z"
    },
    "hidden": true
   },
   "outputs": [],
   "source": [
    "#Create subset data1 for testing ideal element\n",
    "test = data_dropna.loc[:, ['Mean_SMU_Between_SOS', 'Expenditure_12M_Total']]\n",
    "\n",
    "#remove extreme outliers:\n",
    "#If you have multiple columns in your dataframe and would like to remove all rows that have outliers in at least one column, \n",
    "#the following expression would do that in one shot: select absolute Z score for the row <1.65 (). .all or .any\n",
    "test_reduced_by_z = test[(np.abs(stats.zscore(test)) < 3).all(axis=1)]\n",
    "\n",
    "#define the x & y data\n",
    "x = test_reduced_by_z['Mean_SMU_Between_SOS']\n",
    "y = test_reduced_by_z['Expenditure_12M_Total']\n",
    "\n",
    "test_reduced_by_z.describe()"
   ]
  },
  {
   "cell_type": "code",
   "execution_count": null,
   "metadata": {
    "ExecuteTime": {
     "end_time": "2020-05-01T14:37:13.790779Z",
     "start_time": "2020-05-01T14:37:13.599298Z"
    },
    "hidden": true
   },
   "outputs": [],
   "source": [
    "#create the new scatter plot\n",
    "plt.plot(x,y,'o',color = 'pink', label = '')\n",
    "# add the column names as labels\n",
    "plt.title('X VS Y')\n",
    "plt.xlabel('X')\n",
    "plt.ylabel('Y')\n",
    "plt.legend()\n",
    "plt.show()"
   ]
  },
  {
   "cell_type": "code",
   "execution_count": null,
   "metadata": {
    "ExecuteTime": {
     "end_time": "2020-05-01T14:37:15.770839Z",
     "start_time": "2020-05-01T14:37:15.760870Z"
    },
    "hidden": true,
    "scrolled": false
   },
   "outputs": [],
   "source": [
    "test_reduced_by_z.corr()"
   ]
  },
  {
   "cell_type": "code",
   "execution_count": null,
   "metadata": {
    "ExecuteTime": {
     "end_time": "2020-05-01T14:37:20.763881Z",
     "start_time": "2020-05-01T14:37:20.742933Z"
    },
    "hidden": true,
    "scrolled": true
   },
   "outputs": [],
   "source": [
    "# define our input variable & output variable\n",
    "x = test_reduced_by_z[['Mean_SMU_Between_SOS']]\n",
    "y = test_reduced_by_z[['Expenditure_12M_Total']]\n",
    "\n",
    "# Split X and y into X_\n",
    "x_train, x_test, y_train, y_test = train_test_split(x, y, test_size=0.20, random_state=1)\n",
    "# create a Linear Regression model object.\n",
    "single_regression_model = LinearRegression()\n",
    "# pass through the X_train & y_train data set.\n",
    "single_regression_model.fit(x_train, y_train)\n",
    "# create OLS model for training data\n",
    "model = sm.OLS(y_train, x_train)\n",
    "# pass through the X_train & y_train data set.\n",
    "est = model.fit()\n",
    "print(est.summary())"
   ]
  },
  {
   "cell_type": "code",
   "execution_count": null,
   "metadata": {
    "ExecuteTime": {
     "end_time": "2020-05-01T14:37:22.335138Z",
     "start_time": "2020-05-01T14:37:22.327173Z"
    },
    "hidden": true
   },
   "outputs": [],
   "source": [
    "# make some confidence intervals, 95% by default.\n",
    "est.conf_int()"
   ]
  },
  {
   "cell_type": "code",
   "execution_count": null,
   "metadata": {
    "ExecuteTime": {
     "end_time": "2020-05-01T14:37:23.240340Z",
     "start_time": "2020-05-01T14:37:23.234362Z"
    },
    "hidden": true
   },
   "outputs": [],
   "source": [
    "# estimate the p-values\n",
    "est.pvalues"
   ]
  },
  {
   "cell_type": "code",
   "execution_count": null,
   "metadata": {
    "ExecuteTime": {
     "end_time": "2020-05-01T14:37:23.928533Z",
     "start_time": "2020-05-01T14:37:23.923548Z"
    },
    "hidden": true,
    "scrolled": true
   },
   "outputs": [],
   "source": [
    "# calculate and display intercept, coefficient\n",
    "intercept = single_regression_model.intercept_[0]\n",
    "coefficient = single_regression_model.coef_[0][0]\n",
    "# print out\n",
    "print(\"The Coefficient for training model is {:2}\".format(coefficient))\n",
    "print(\"The intercept for training model is {:4}\".format(intercept))"
   ]
  },
  {
   "cell_type": "code",
   "execution_count": null,
   "metadata": {
    "ExecuteTime": {
     "end_time": "2020-05-01T14:37:24.658873Z",
     "start_time": "2020-05-01T14:37:24.650856Z"
    },
    "hidden": true
   },
   "outputs": [],
   "source": [
    "# create prediction value and calculate errors\n",
    "y_predict = single_regression_model.predict(x_test)\n",
    "# calculate the mean squared error.\n",
    "model_mse = mean_squared_error(y_test, y_predict)\n",
    "# calculate the mean absolute error.\n",
    "model_mae = mean_absolute_error(y_test, y_predict)\n",
    "# calulcate the root mean squared error\n",
    "model_rmse =  math.sqrt(model_mse)\n",
    "# display the output\n",
    "print(\"MSE {:3}\".format(model_mse))\n",
    "print(\"MAE {:3}\".format(model_mae))\n",
    "print(\"RMSE {:3}\".format(model_rmse))"
   ]
  },
  {
   "cell_type": "code",
   "execution_count": null,
   "metadata": {
    "ExecuteTime": {
     "end_time": "2020-05-01T14:37:26.041082Z",
     "start_time": "2020-05-01T14:37:26.034104Z"
    },
    "hidden": true
   },
   "outputs": [],
   "source": [
    "model_r2 = r2_score(y_test, y_predict)\n",
    "print(\"R2 of the prediction is: {:.2}\".format(model_r2))"
   ]
  },
  {
   "cell_type": "code",
   "execution_count": null,
   "metadata": {
    "ExecuteTime": {
     "end_time": "2020-05-01T14:37:26.903277Z",
     "start_time": "2020-05-01T14:37:26.753647Z"
    },
    "hidden": true
   },
   "outputs": [],
   "source": [
    "# Grab the residuals & then call the hist() method\n",
    "(y_test - y_predict).hist(grid = False, color = 'Gold')\n",
    "plt.title(\"Model Residuals\")\n",
    "plt.show()"
   ]
  },
  {
   "cell_type": "code",
   "execution_count": null,
   "metadata": {
    "ExecuteTime": {
     "end_time": "2020-05-01T13:44:43.821554Z",
     "start_time": "2020-05-01T13:44:43.632026Z"
    },
    "hidden": true,
    "scrolled": false
   },
   "outputs": [],
   "source": [
    "# Plot outputs\n",
    "plt.scatter(x_test, y_test,  color='pink', label = '')\n",
    "plt.plot(x_test, y_predict, color='royalblue', linewidth = 3, linestyle= '-',label ='Regression Line')\n",
    "\n",
    "plt.title(\"Mean_SMU_Between_SOS VS Expenditure_12M_Total\")\n",
    "plt.xlabel(\"x\")\n",
    "plt.ylabel(\"y\")\n",
    "plt.legend()\n",
    "plt.show()\n",
    "\n",
    "# The coefficients\n",
    "print('Coefficient:' + '\\033[1m' + '{:.2}''\\033[0m'.format(single_regression_model.coef_[0][0]))\n",
    "\n",
    "# The mean squared error\n",
    "print('Mean squared error: ' + '\\033[1m' + '{:.4}''\\033[0m'.format(model_mse))\n",
    "\n",
    "# The mean squared error\n",
    "print('Root Mean squared error: ' + '\\033[1m' + '{:.4}''\\033[0m'.format(math.sqrt(model_mse)))\n",
    "\n",
    "# Explained variance score: 1 is perfect prediction\n",
    "print('R2 score: '+ '\\033[1m' + '{:.2}''\\033[0m'.format(r2_score(y_test,y_predict)))"
   ]
  },
  {
   "cell_type": "markdown",
   "metadata": {
    "heading_collapsed": true,
    "hidden": true
   },
   "source": [
    "### Test 9 Conclusion"
   ]
  },
  {
   "cell_type": "markdown",
   "metadata": {
    "heading_collapsed": true,
    "hidden": true
   },
   "source": [
    "## Test 10: x = Mean_SMU_Between_Repairs y= Expenditure_12M_PartsNServices\n"
   ]
  },
  {
   "cell_type": "markdown",
   "metadata": {
    "heading_collapsed": true,
    "hidden": true
   },
   "source": [
    "### Test 10"
   ]
  },
  {
   "cell_type": "code",
   "execution_count": null,
   "metadata": {
    "ExecuteTime": {
     "end_time": "2020-05-01T14:39:20.128142Z",
     "start_time": "2020-05-01T14:39:20.105229Z"
    },
    "hidden": true
   },
   "outputs": [],
   "source": [
    "#Create subset data1 for testing ideal element\n",
    "test = data_dropna.loc[:, ['Mean_SMU_Between_Repairs', 'Expenditure_12M_PartsNServices']]\n",
    "\n",
    "#remove extreme outliers:\n",
    "#If you have multiple columns in your dataframe and would like to remove all rows that have outliers in at least one column, \n",
    "#the following expression would do that in one shot: select absolute Z score for the row <1.65 (). .all or .any\n",
    "test_reduced_by_z = test[(np.abs(stats.zscore(test)) < 3).all(axis=1)]\n",
    "\n",
    "#define the x & y data\n",
    "x = test_reduced_by_z['Mean_SMU_Between_Repairs']\n",
    "y = test_reduced_by_z['Expenditure_12M_PartsNServices']\n",
    "\n",
    "test_reduced_by_z.describe()"
   ]
  },
  {
   "cell_type": "code",
   "execution_count": null,
   "metadata": {
    "ExecuteTime": {
     "end_time": "2020-05-01T14:39:22.062977Z",
     "start_time": "2020-05-01T14:39:21.901414Z"
    },
    "hidden": true
   },
   "outputs": [],
   "source": [
    "#create the new scatter plot\n",
    "plt.plot(x,y,'o',color = 'pink', label = '')\n",
    "# add the column names as labels\n",
    "plt.title('X VS Y')\n",
    "plt.xlabel('X')\n",
    "plt.ylabel('Y')\n",
    "plt.legend()\n",
    "plt.show()"
   ]
  },
  {
   "cell_type": "code",
   "execution_count": null,
   "metadata": {
    "ExecuteTime": {
     "end_time": "2020-05-01T14:38:53.627208Z",
     "start_time": "2020-05-01T14:38:53.619191Z"
    },
    "hidden": true,
    "scrolled": false
   },
   "outputs": [],
   "source": [
    "#Remove negative x\n",
    "test_absolute_x = test_reduced_by_z[test_reduced_by_z['Mean_SMU_Between_Repairs'] >= 0]\n",
    "x = test_absolute_x['Mean_SMU_Between_Repairs']\n",
    "y = test_absolute_x['Expenditure_12M_PartsNServices']\n",
    "#create the new scatter plot\n",
    "plt.plot(x,y,'o',color = 'pink', label = '')\n",
    "# add the column names as labels\n",
    "plt.title('X VS Y')\n",
    "plt.xlabel('X')\n",
    "plt.ylabel('Y')\n",
    "plt.legend()\n",
    "plt.show()"
   ]
  },
  {
   "cell_type": "code",
   "execution_count": null,
   "metadata": {
    "ExecuteTime": {
     "end_time": "2020-05-01T14:38:08.698916Z",
     "start_time": "2020-05-01T14:38:08.690940Z"
    },
    "hidden": true
   },
   "outputs": [],
   "source": [
    "test_absolute_x.corr()"
   ]
  },
  {
   "cell_type": "code",
   "execution_count": null,
   "metadata": {
    "ExecuteTime": {
     "end_time": "2020-05-01T14:38:54.991960Z",
     "start_time": "2020-05-01T14:38:54.972017Z"
    },
    "hidden": true,
    "scrolled": true
   },
   "outputs": [],
   "source": [
    "# define our input variable & output variable\n",
    "x = test_absolute_x[['Mean_SMU_Between_Repairs']]\n",
    "y = test_absolute_x[['Expenditure_12M_PartsNServices']]\n",
    "\n",
    "# Split X and y into X_\n",
    "x_train, x_test, y_train, y_test = train_test_split(x, y, test_size=0.20, random_state=1)\n",
    "# create a Linear Regression model object.\n",
    "single_regression_model = LinearRegression()\n",
    "# pass through the X_train & y_train data set.\n",
    "single_regression_model.fit(x_train, y_train)\n",
    "# create OLS model for training data\n",
    "model = sm.OLS(y_train, x_train)\n",
    "# pass through the X_train & y_train data set.\n",
    "est = model.fit()\n",
    "print(est.summary())"
   ]
  },
  {
   "cell_type": "code",
   "execution_count": null,
   "metadata": {
    "ExecuteTime": {
     "end_time": "2020-05-01T14:39:01.673750Z",
     "start_time": "2020-05-01T14:39:01.666771Z"
    },
    "hidden": true
   },
   "outputs": [],
   "source": [
    "# make some confidence intervals, 95% by default.\n",
    "est.conf_int()"
   ]
  },
  {
   "cell_type": "code",
   "execution_count": null,
   "metadata": {
    "ExecuteTime": {
     "end_time": "2020-05-01T14:39:02.653046Z",
     "start_time": "2020-05-01T14:39:02.647062Z"
    },
    "hidden": true
   },
   "outputs": [],
   "source": [
    "# estimate the p-values\n",
    "est.pvalues"
   ]
  },
  {
   "cell_type": "code",
   "execution_count": null,
   "metadata": {
    "ExecuteTime": {
     "end_time": "2020-05-01T14:39:03.290616Z",
     "start_time": "2020-05-01T14:39:03.285608Z"
    },
    "hidden": true,
    "scrolled": true
   },
   "outputs": [],
   "source": [
    "# calculate and display intercept, coefficient\n",
    "intercept = single_regression_model.intercept_[0]\n",
    "coefficient = single_regression_model.coef_[0][0]\n",
    "# print out\n",
    "print(\"The Coefficient for training model is {:2}\".format(coefficient))\n",
    "print(\"The intercept for training model is {:4}\".format(intercept))"
   ]
  },
  {
   "cell_type": "code",
   "execution_count": null,
   "metadata": {
    "ExecuteTime": {
     "end_time": "2020-05-01T14:39:04.362559Z",
     "start_time": "2020-05-01T14:39:04.354577Z"
    },
    "hidden": true
   },
   "outputs": [],
   "source": [
    "# create prediction value and calculate errors\n",
    "y_predict = single_regression_model.predict(x_test)\n",
    "# calculate the mean squared error.\n",
    "model_mse = mean_squared_error(y_test, y_predict)\n",
    "# calculate the mean absolute error.\n",
    "model_mae = mean_absolute_error(y_test, y_predict)\n",
    "# calulcate the root mean squared error\n",
    "model_rmse =  math.sqrt(model_mse)\n",
    "# display the output\n",
    "print(\"MSE {:3}\".format(model_mse))\n",
    "print(\"MAE {:3}\".format(model_mae))\n",
    "print(\"RMSE {:3}\".format(model_rmse))"
   ]
  },
  {
   "cell_type": "code",
   "execution_count": null,
   "metadata": {
    "ExecuteTime": {
     "end_time": "2020-05-01T14:39:05.750536Z",
     "start_time": "2020-05-01T14:39:05.742560Z"
    },
    "hidden": true
   },
   "outputs": [],
   "source": [
    "model_r2 = r2_score(y_test, y_predict)\n",
    "print(\"R2 of the prediction is: {:.2}\".format(model_r2))"
   ]
  },
  {
   "cell_type": "code",
   "execution_count": null,
   "metadata": {
    "ExecuteTime": {
     "end_time": "2020-05-01T14:39:06.641123Z",
     "start_time": "2020-05-01T14:39:06.481499Z"
    },
    "hidden": true
   },
   "outputs": [],
   "source": [
    "# Grab the residuals & then call the hist() method\n",
    "(y_test - y_predict).hist(grid = False, color = 'Gold')\n",
    "plt.title(\"Model Residuals\")\n",
    "plt.show()"
   ]
  },
  {
   "cell_type": "code",
   "execution_count": null,
   "metadata": {
    "ExecuteTime": {
     "end_time": "2020-05-01T14:39:08.992903Z",
     "start_time": "2020-05-01T14:39:08.798480Z"
    },
    "hidden": true,
    "scrolled": true
   },
   "outputs": [],
   "source": [
    "# Plot outputs\n",
    "plt.scatter(x_test, y_test,  color='pink', label = '')\n",
    "plt.plot(x_test, y_predict, color='royalblue', linewidth = 3, linestyle= '-',label ='Regression Line')\n",
    "\n",
    "plt.title(\"Mean_SMU_Between_Repairs VS Expenditure_12M_PartsNServices\")\n",
    "plt.xlabel(\"x\")\n",
    "plt.ylabel(\"y\")\n",
    "plt.legend()\n",
    "plt.show()\n",
    "\n",
    "# The coefficients\n",
    "print('Coefficient:' + '\\033[1m' + '{:.2}''\\033[0m'.format(single_regression_model.coef_[0][0]))\n",
    "\n",
    "# The mean squared error\n",
    "print('Mean squared error: ' + '\\033[1m' + '{:.4}''\\033[0m'.format(model_mse))\n",
    "\n",
    "# The mean squared error\n",
    "print('Root Mean squared error: ' + '\\033[1m' + '{:.4}''\\033[0m'.format(math.sqrt(model_mse)))\n",
    "\n",
    "# Explained variance score: 1 is perfect prediction\n",
    "print('R2 score: '+ '\\033[1m' + '{:.2}''\\033[0m'.format(r2_score(y_test,y_predict)))"
   ]
  },
  {
   "cell_type": "markdown",
   "metadata": {
    "heading_collapsed": true,
    "hidden": true
   },
   "source": [
    "### Test 10 Conclusion"
   ]
  },
  {
   "cell_type": "markdown",
   "metadata": {
    "heading_collapsed": true,
    "hidden": true
   },
   "source": [
    "## Test 11: x = Family_Accounts y= Expenditure_12M_Total\n"
   ]
  },
  {
   "cell_type": "markdown",
   "metadata": {
    "heading_collapsed": true,
    "hidden": true
   },
   "source": [
    "### Test 11"
   ]
  },
  {
   "cell_type": "code",
   "execution_count": null,
   "metadata": {
    "ExecuteTime": {
     "end_time": "2020-05-01T14:39:20.128142Z",
     "start_time": "2020-05-01T14:39:20.105229Z"
    },
    "hidden": true
   },
   "outputs": [],
   "source": [
    "#Create subset data1 for testing ideal element\n",
    "test = data_dropna.loc[:, ['Family_Accounts', 'Expenditure_12M_Total']]\n",
    "\n",
    "#remove extreme outliers:\n",
    "#If you have multiple columns in your dataframe and would like to remove all rows that have outliers in at least one column, \n",
    "#the following expression would do that in one shot: select absolute Z score for the row <1.65 (). .all or .any\n",
    "test_reduced_by_z = test[(np.abs(stats.zscore(test)) < 3).all(axis=1)]\n",
    "\n",
    "#define the x & y data\n",
    "x = test_reduced_by_z['Family_Accounts']\n",
    "y = test_reduced_by_z['Expenditure_12M_Total']\n",
    "\n",
    "test_reduced_by_z.describe()"
   ]
  },
  {
   "cell_type": "code",
   "execution_count": null,
   "metadata": {
    "ExecuteTime": {
     "end_time": "2020-05-01T14:39:22.062977Z",
     "start_time": "2020-05-01T14:39:21.901414Z"
    },
    "hidden": true
   },
   "outputs": [],
   "source": [
    "#create the new scatter plot\n",
    "plt.plot(x,y,'o',color = 'pink', label = '')\n",
    "# add the column names as labels\n",
    "plt.title('X VS Y')\n",
    "plt.xlabel('X')\n",
    "plt.ylabel('Y')\n",
    "plt.legend()\n",
    "plt.show()"
   ]
  },
  {
   "cell_type": "code",
   "execution_count": null,
   "metadata": {
    "ExecuteTime": {
     "end_time": "2020-05-01T14:38:53.627208Z",
     "start_time": "2020-05-01T14:38:53.619191Z"
    },
    "hidden": true,
    "scrolled": false
   },
   "outputs": [],
   "source": [
    "test_reduced_by_z.corr()"
   ]
  },
  {
   "cell_type": "code",
   "execution_count": null,
   "metadata": {
    "ExecuteTime": {
     "end_time": "2020-05-01T14:38:54.991960Z",
     "start_time": "2020-05-01T14:38:54.972017Z"
    },
    "hidden": true,
    "scrolled": true
   },
   "outputs": [],
   "source": [
    "# define our input variable & output variable\n",
    "x = test_reduced_by_z[['Family_Accounts']]\n",
    "y = test_reduced_by_z[['Expenditure_12M_Total']]\n",
    "\n",
    "# Split X and y into X_\n",
    "x_train, x_test, y_train, y_test = train_test_split(x, y, test_size=0.20, random_state=1)\n",
    "# create a Linear Regression model object.\n",
    "single_regression_model = LinearRegression()\n",
    "# pass through the X_train & y_train data set.\n",
    "single_regression_model.fit(x_train, y_train)\n",
    "# create OLS model for training data\n",
    "model = sm.OLS(y_train, x_train)\n",
    "# pass through the X_train & y_train data set.\n",
    "est = model.fit()\n",
    "print(est.summary())"
   ]
  },
  {
   "cell_type": "code",
   "execution_count": null,
   "metadata": {
    "ExecuteTime": {
     "end_time": "2020-05-01T14:39:01.673750Z",
     "start_time": "2020-05-01T14:39:01.666771Z"
    },
    "hidden": true
   },
   "outputs": [],
   "source": [
    "# make some confidence intervals, 95% by default.\n",
    "est.conf_int()"
   ]
  },
  {
   "cell_type": "code",
   "execution_count": null,
   "metadata": {
    "ExecuteTime": {
     "end_time": "2020-05-01T14:39:02.653046Z",
     "start_time": "2020-05-01T14:39:02.647062Z"
    },
    "hidden": true
   },
   "outputs": [],
   "source": [
    "# estimate the p-values\n",
    "est.pvalues"
   ]
  },
  {
   "cell_type": "code",
   "execution_count": null,
   "metadata": {
    "ExecuteTime": {
     "end_time": "2020-05-01T14:39:03.290616Z",
     "start_time": "2020-05-01T14:39:03.285608Z"
    },
    "hidden": true,
    "scrolled": true
   },
   "outputs": [],
   "source": [
    "# calculate and display intercept, coefficient\n",
    "intercept = single_regression_model.intercept_[0]\n",
    "coefficient = single_regression_model.coef_[0][0]\n",
    "# print out\n",
    "print(\"The Coefficient for training model is {:2}\".format(coefficient))\n",
    "print(\"The intercept for training model is {:4}\".format(intercept))"
   ]
  },
  {
   "cell_type": "code",
   "execution_count": null,
   "metadata": {
    "ExecuteTime": {
     "end_time": "2020-05-01T14:39:04.362559Z",
     "start_time": "2020-05-01T14:39:04.354577Z"
    },
    "hidden": true
   },
   "outputs": [],
   "source": [
    "# create prediction value and calculate errors\n",
    "y_predict = single_regression_model.predict(x_test)\n",
    "# calculate the mean squared error.\n",
    "model_mse = mean_squared_error(y_test, y_predict)\n",
    "# calculate the mean absolute error.\n",
    "model_mae = mean_absolute_error(y_test, y_predict)\n",
    "# calulcate the root mean squared error\n",
    "model_rmse =  math.sqrt(model_mse)\n",
    "# display the output\n",
    "print(\"MSE {:3}\".format(model_mse))\n",
    "print(\"MAE {:3}\".format(model_mae))\n",
    "print(\"RMSE {:3}\".format(model_rmse))"
   ]
  },
  {
   "cell_type": "code",
   "execution_count": null,
   "metadata": {
    "ExecuteTime": {
     "end_time": "2020-05-01T14:39:05.750536Z",
     "start_time": "2020-05-01T14:39:05.742560Z"
    },
    "hidden": true
   },
   "outputs": [],
   "source": [
    "model_r2 = r2_score(y_test, y_predict)\n",
    "print(\"R2 of the prediction is: {:.2}\".format(model_r2))"
   ]
  },
  {
   "cell_type": "code",
   "execution_count": null,
   "metadata": {
    "ExecuteTime": {
     "end_time": "2020-05-01T14:39:06.641123Z",
     "start_time": "2020-05-01T14:39:06.481499Z"
    },
    "hidden": true
   },
   "outputs": [],
   "source": [
    "# Grab the residuals & then call the hist() method\n",
    "(y_test - y_predict).hist(grid = False, color = 'Gold')\n",
    "plt.title(\"Model Residuals\")\n",
    "plt.show()"
   ]
  },
  {
   "cell_type": "code",
   "execution_count": null,
   "metadata": {
    "ExecuteTime": {
     "end_time": "2020-05-01T14:39:08.992903Z",
     "start_time": "2020-05-01T14:39:08.798480Z"
    },
    "hidden": true,
    "scrolled": true
   },
   "outputs": [],
   "source": [
    "# Plot outputs\n",
    "plt.scatter(x_test, y_test,  color='pink', label = '')\n",
    "plt.plot(x_test, y_predict, color='royalblue', linewidth = 3, linestyle= '-',label ='Regression Line')\n",
    "\n",
    "plt.title(\"Family_Accounts VS Expenditure_12M_Total\")\n",
    "plt.xlabel(\"x\")\n",
    "plt.ylabel(\"y\")\n",
    "plt.legend()\n",
    "plt.show()\n",
    "\n",
    "# The coefficients\n",
    "print('Coefficient:' + '\\033[1m' + '{:.2}''\\033[0m'.format(single_regression_model.coef_[0][0]))\n",
    "\n",
    "# The mean squared error\n",
    "print('Mean squared error: ' + '\\033[1m' + '{:.4}''\\033[0m'.format(model_mse))\n",
    "\n",
    "# The mean squared error\n",
    "print('Root Mean squared error: ' + '\\033[1m' + '{:.4}''\\033[0m'.format(math.sqrt(model_mse)))\n",
    "\n",
    "# Explained variance score: 1 is perfect prediction\n",
    "print('R2 score: '+ '\\033[1m' + '{:.2}''\\033[0m'.format(r2_score(y_test,y_predict)))"
   ]
  },
  {
   "cell_type": "markdown",
   "metadata": {
    "heading_collapsed": true,
    "hidden": true
   },
   "source": [
    "### Test 11 Conclusion"
   ]
  },
  {
   "cell_type": "markdown",
   "metadata": {
    "heading_collapsed": true,
    "hidden": true
   },
   "source": [
    "## Test 12: x = Average_Count_SOS_Per_Unit_0_12M y= Expenditure_12M_Total\n"
   ]
  },
  {
   "cell_type": "markdown",
   "metadata": {
    "heading_collapsed": true,
    "hidden": true
   },
   "source": [
    "### Test 12"
   ]
  },
  {
   "cell_type": "code",
   "execution_count": null,
   "metadata": {
    "ExecuteTime": {
     "end_time": "2020-05-01T14:39:20.128142Z",
     "start_time": "2020-05-01T14:39:20.105229Z"
    },
    "hidden": true
   },
   "outputs": [],
   "source": [
    "#Create subset data1 for testing ideal element\n",
    "test = data_dropna.loc[:, ['Average_Count_SOS_Per_Unit_0_12M', 'Expenditure_12M_Total']]\n",
    "\n",
    "#remove extreme outliers:\n",
    "#If you have multiple columns in your dataframe and would like to remove all rows that have outliers in at least one column, \n",
    "#the following expression would do that in one shot: select absolute Z score for the row <1.65 (). .all or .any\n",
    "test_reduced_by_z = test[(np.abs(stats.zscore(test)) < 3).all(axis=1)]\n",
    "\n",
    "#define the x & y data\n",
    "x = test_reduced_by_z['Average_Count_SOS_Per_Unit_0_12M']\n",
    "y = test_reduced_by_z['Expenditure_12M_Total']\n",
    "\n",
    "test_reduced_by_z.describe()"
   ]
  },
  {
   "cell_type": "code",
   "execution_count": null,
   "metadata": {
    "ExecuteTime": {
     "end_time": "2020-05-01T14:39:22.062977Z",
     "start_time": "2020-05-01T14:39:21.901414Z"
    },
    "hidden": true
   },
   "outputs": [],
   "source": [
    "#create the new scatter plot\n",
    "plt.plot(x,y,'o',color = 'pink', label = '')\n",
    "# add the column names as labels\n",
    "plt.title('X VS Y')\n",
    "plt.xlabel('X')\n",
    "plt.ylabel('Y')\n",
    "plt.legend()\n",
    "plt.show()"
   ]
  },
  {
   "cell_type": "markdown",
   "metadata": {
    "heading_collapsed": true,
    "hidden": true
   },
   "source": [
    "### Normalize Expenditure to ExpenditurePerUnit !!! Not sure how to create array need time"
   ]
  },
  {
   "cell_type": "code",
   "execution_count": null,
   "metadata": {
    "ExecuteTime": {
     "end_time": "2020-05-01T14:44:03.878228Z",
     "start_time": "2020-05-01T14:44:03.855292Z"
    },
    "hidden": true
   },
   "outputs": [],
   "source": [
    "#Create subset data1 for testing ideal element\n",
    "test = data_dropna.loc[:, ['Average_Count_SOS_Per_Unit_0_12M', 'Expenditure_12M_Total','Count_CatFleetSize']]\n",
    "\n",
    "#remove extreme outliers:\n",
    "#If you have multiple columns in your dataframe and would like to remove all rows that have outliers in at least one column, \n",
    "#the following expression would do that in one shot: select absolute Z score for the row <1.65 (). .all or .any\n",
    "test_reduced_by_z = test[(np.abs(stats.zscore(test)) < 3).all(axis=1)]\n",
    "\n",
    "#define the x & y data\n",
    "x = test_reduced_by_z['Average_Count_SOS_Per_Unit_0_12M']\n",
    "y = test_reduced_by_z['Expenditure_12M_Total'] / test_reduced_by_z['Count_CatFleetSize']\n",
    "\n",
    "test_reduced_by_z.describe()"
   ]
  },
  {
   "cell_type": "code",
   "execution_count": null,
   "metadata": {
    "ExecuteTime": {
     "end_time": "2020-05-01T14:38:53.627208Z",
     "start_time": "2020-05-01T14:38:53.619191Z"
    },
    "hidden": true,
    "scrolled": false
   },
   "outputs": [],
   "source": [
    "test_reduced_by_z.corr()"
   ]
  },
  {
   "cell_type": "code",
   "execution_count": null,
   "metadata": {
    "ExecuteTime": {
     "end_time": "2020-05-01T14:38:54.991960Z",
     "start_time": "2020-05-01T14:38:54.972017Z"
    },
    "hidden": true,
    "scrolled": true
   },
   "outputs": [],
   "source": [
    "# define our input variable & output variable\n",
    "x = test_reduced_by_z[['Average_Count_SOS_Per_Unit_0_12M']]\n",
    "y = test_reduced_by_z[['Expenditure_12M_Total']]\n",
    "\n",
    "# Split X and y into X_\n",
    "x_train, x_test, y_train, y_test = train_test_split(x, y, test_size=0.20, random_state=1)\n",
    "# create a Linear Regression model object.\n",
    "single_regression_model = LinearRegression()\n",
    "# pass through the X_train & y_train data set.\n",
    "single_regression_model.fit(x_train, y_train)\n",
    "# create OLS model for training data\n",
    "model = sm.OLS(y_train, x_train)\n",
    "# pass through the X_train & y_train data set.\n",
    "est = model.fit()\n",
    "print(est.summary())"
   ]
  },
  {
   "cell_type": "code",
   "execution_count": null,
   "metadata": {
    "ExecuteTime": {
     "end_time": "2020-05-01T14:39:01.673750Z",
     "start_time": "2020-05-01T14:39:01.666771Z"
    },
    "hidden": true
   },
   "outputs": [],
   "source": [
    "# make some confidence intervals, 95% by default.\n",
    "est.conf_int()"
   ]
  },
  {
   "cell_type": "code",
   "execution_count": null,
   "metadata": {
    "ExecuteTime": {
     "end_time": "2020-05-01T14:39:02.653046Z",
     "start_time": "2020-05-01T14:39:02.647062Z"
    },
    "hidden": true
   },
   "outputs": [],
   "source": [
    "# estimate the p-values\n",
    "est.pvalues"
   ]
  },
  {
   "cell_type": "code",
   "execution_count": null,
   "metadata": {
    "ExecuteTime": {
     "end_time": "2020-05-01T14:39:03.290616Z",
     "start_time": "2020-05-01T14:39:03.285608Z"
    },
    "hidden": true,
    "scrolled": true
   },
   "outputs": [],
   "source": [
    "# calculate and display intercept, coefficient\n",
    "intercept = single_regression_model.intercept_[0]\n",
    "coefficient = single_regression_model.coef_[0][0]\n",
    "# print out\n",
    "print(\"The Coefficient for training model is {:2}\".format(coefficient))\n",
    "print(\"The intercept for training model is {:4}\".format(intercept))"
   ]
  },
  {
   "cell_type": "code",
   "execution_count": null,
   "metadata": {
    "ExecuteTime": {
     "end_time": "2020-05-01T14:39:04.362559Z",
     "start_time": "2020-05-01T14:39:04.354577Z"
    },
    "hidden": true
   },
   "outputs": [],
   "source": [
    "# create prediction value and calculate errors\n",
    "y_predict = single_regression_model.predict(x_test)\n",
    "# calculate the mean squared error.\n",
    "model_mse = mean_squared_error(y_test, y_predict)\n",
    "# calculate the mean absolute error.\n",
    "model_mae = mean_absolute_error(y_test, y_predict)\n",
    "# calulcate the root mean squared error\n",
    "model_rmse =  math.sqrt(model_mse)\n",
    "# display the output\n",
    "print(\"MSE {:3}\".format(model_mse))\n",
    "print(\"MAE {:3}\".format(model_mae))\n",
    "print(\"RMSE {:3}\".format(model_rmse))"
   ]
  },
  {
   "cell_type": "code",
   "execution_count": null,
   "metadata": {
    "ExecuteTime": {
     "end_time": "2020-05-01T14:39:05.750536Z",
     "start_time": "2020-05-01T14:39:05.742560Z"
    },
    "hidden": true
   },
   "outputs": [],
   "source": [
    "model_r2 = r2_score(y_test, y_predict)\n",
    "print(\"R2 of the prediction is: {:.2}\".format(model_r2))"
   ]
  },
  {
   "cell_type": "code",
   "execution_count": null,
   "metadata": {
    "ExecuteTime": {
     "end_time": "2020-05-01T14:39:06.641123Z",
     "start_time": "2020-05-01T14:39:06.481499Z"
    },
    "hidden": true
   },
   "outputs": [],
   "source": [
    "# Grab the residuals & then call the hist() method\n",
    "(y_test - y_predict).hist(grid = False, color = 'Gold')\n",
    "plt.title(\"Model Residuals\")\n",
    "plt.show()"
   ]
  },
  {
   "cell_type": "code",
   "execution_count": null,
   "metadata": {
    "ExecuteTime": {
     "end_time": "2020-05-01T14:39:08.992903Z",
     "start_time": "2020-05-01T14:39:08.798480Z"
    },
    "hidden": true,
    "scrolled": true
   },
   "outputs": [],
   "source": [
    "# Plot outputs\n",
    "plt.scatter(x_test, y_test,  color='pink', label = '')\n",
    "plt.plot(x_test, y_predict, color='royalblue', linewidth = 3, linestyle= '-',label ='Regression Line')\n",
    "\n",
    "plt.title(\"Average_Count_SOS_Per_Unit_0_12M VS Expenditure_12M_Total\")\n",
    "plt.xlabel(\"x\")\n",
    "plt.ylabel(\"y\")\n",
    "plt.legend()\n",
    "plt.show()\n",
    "\n",
    "# The coefficients\n",
    "print('Coefficient:' + '\\033[1m' + '{:.2}''\\033[0m'.format(single_regression_model.coef_[0][0]))\n",
    "\n",
    "# The mean squared error\n",
    "print('Mean squared error: ' + '\\033[1m' + '{:.4}''\\033[0m'.format(model_mse))\n",
    "\n",
    "# The mean squared error\n",
    "print('Root Mean squared error: ' + '\\033[1m' + '{:.4}''\\033[0m'.format(math.sqrt(model_mse)))\n",
    "\n",
    "# Explained variance score: 1 is perfect prediction\n",
    "print('R2 score: '+ '\\033[1m' + '{:.2}''\\033[0m'.format(r2_score(y_test,y_predict)))"
   ]
  },
  {
   "cell_type": "markdown",
   "metadata": {
    "heading_collapsed": true,
    "hidden": true
   },
   "source": [
    "### Test 12 Conclusion"
   ]
  },
  {
   "cell_type": "markdown",
   "metadata": {
    "heading_collapsed": true,
    "hidden": true
   },
   "source": [
    "## Test 13: x = Average_Count_WorkOrder_Per_Unit_0_12M y= Expenditure_12M_Total\n"
   ]
  },
  {
   "cell_type": "markdown",
   "metadata": {
    "heading_collapsed": true,
    "hidden": true
   },
   "source": [
    "### Test 13"
   ]
  },
  {
   "cell_type": "code",
   "execution_count": null,
   "metadata": {
    "ExecuteTime": {
     "end_time": "2020-05-01T14:44:50.931121Z",
     "start_time": "2020-05-01T14:44:50.911120Z"
    },
    "hidden": true,
    "scrolled": true
   },
   "outputs": [],
   "source": [
    "#Create subset data1 for testing ideal element\n",
    "test = data_dropna.loc[:, ['Average_Count_WorkOrder_Per_Unit_0_12M', 'Expenditure_12M_Total']]\n",
    "\n",
    "#remove extreme outliers:\n",
    "#If you have multiple columns in your dataframe and would like to remove all rows that have outliers in at least one column, \n",
    "#the following expression would do that in one shot: select absolute Z score for the row <1.65 (). .all or .any\n",
    "test_reduced_by_z = test[(np.abs(stats.zscore(test)) < 3).all(axis=1)]\n",
    "\n",
    "#define the x & y data\n",
    "x = test_reduced_by_z['Average_Count_WorkOrder_Per_Unit_0_12M']\n",
    "y = test_reduced_by_z['Expenditure_12M_Total']\n",
    "\n",
    "test_reduced_by_z.describe()"
   ]
  },
  {
   "cell_type": "code",
   "execution_count": null,
   "metadata": {
    "ExecuteTime": {
     "end_time": "2020-05-01T14:44:52.410729Z",
     "start_time": "2020-05-01T14:44:52.239225Z"
    },
    "hidden": true
   },
   "outputs": [],
   "source": [
    "#create the new scatter plot\n",
    "plt.plot(x,y,'o',color = 'pink', label = '')\n",
    "# add the column names as labels\n",
    "plt.title('X VS Y')\n",
    "plt.xlabel('X')\n",
    "plt.ylabel('Y')\n",
    "plt.legend()\n",
    "plt.show()"
   ]
  },
  {
   "cell_type": "markdown",
   "metadata": {
    "heading_collapsed": true,
    "hidden": true
   },
   "source": [
    "### Normalize Expenditure to ExpenditurePerUnit !!! Not sure how to create array need time"
   ]
  },
  {
   "cell_type": "code",
   "execution_count": null,
   "metadata": {
    "ExecuteTime": {
     "end_time": "2020-05-01T14:44:50.931121Z",
     "start_time": "2020-05-01T14:44:50.911120Z"
    },
    "hidden": true,
    "scrolled": true
   },
   "outputs": [],
   "source": [
    "#Create subset data1 for testing ideal element\n",
    "test = data_dropna.loc[:, ['Average_Count_WorkOrder_Per_Unit_0_12M', 'Expenditure_12M_Total']]\n",
    "\n",
    "#remove extreme outliers:\n",
    "#If you have multiple columns in your dataframe and would like to remove all rows that have outliers in at least one column, \n",
    "#the following expression would do that in one shot: select absolute Z score for the row <1.65 (). .all or .any\n",
    "test_reduced_by_z = test[(np.abs(stats.zscore(test)) < 3).all(axis=1)]\n",
    "\n",
    "#define the x & y data\n",
    "x = test_reduced_by_z['Average_Count_WorkOrder_Per_Unit_0_12M']\n",
    "y = test_reduced_by_z['Expenditure_12M_Total']\n",
    "\n",
    "test_reduced_by_z.describe()"
   ]
  },
  {
   "cell_type": "code",
   "execution_count": null,
   "metadata": {
    "ExecuteTime": {
     "end_time": "2020-05-01T14:44:52.410729Z",
     "start_time": "2020-05-01T14:44:52.239225Z"
    },
    "hidden": true
   },
   "outputs": [],
   "source": [
    "#create the new scatter plot\n",
    "plt.plot(x,y,'o',color = 'pink', label = '')\n",
    "# add the column names as labels\n",
    "plt.title('X VS Y')\n",
    "plt.xlabel('X')\n",
    "plt.ylabel('Y')\n",
    "plt.legend()\n",
    "plt.show()"
   ]
  },
  {
   "cell_type": "code",
   "execution_count": null,
   "metadata": {
    "ExecuteTime": {
     "end_time": "2020-05-01T14:44:54.080654Z",
     "start_time": "2020-05-01T14:44:54.069686Z"
    },
    "hidden": true,
    "scrolled": false
   },
   "outputs": [],
   "source": [
    "test_reduced_by_z.corr()"
   ]
  },
  {
   "cell_type": "code",
   "execution_count": null,
   "metadata": {
    "ExecuteTime": {
     "end_time": "2020-05-01T14:45:00.883268Z",
     "start_time": "2020-05-01T14:45:00.861364Z"
    },
    "hidden": true,
    "scrolled": true
   },
   "outputs": [],
   "source": [
    "# define our input variable & output variable\n",
    "x = test_reduced_by_z[['Average_Count_WorkOrder_Per_Unit_0_12M']]\n",
    "y = test_reduced_by_z[['Expenditure_12M_Total']]\n",
    "\n",
    "# Split X and y into X_\n",
    "x_train, x_test, y_train, y_test = train_test_split(x, y, test_size=0.20, random_state=1)\n",
    "# create a Linear Regression model object.\n",
    "single_regression_model = LinearRegression()\n",
    "# pass through the X_train & y_train data set.\n",
    "single_regression_model.fit(x_train, y_train)\n",
    "# create OLS model for training data\n",
    "model = sm.OLS(y_train, x_train)\n",
    "# pass through the X_train & y_train data set.\n",
    "est = model.fit()\n",
    "print(est.summary())"
   ]
  },
  {
   "cell_type": "code",
   "execution_count": null,
   "metadata": {
    "ExecuteTime": {
     "end_time": "2020-05-01T14:45:02.913311Z",
     "start_time": "2020-05-01T14:45:02.907324Z"
    },
    "hidden": true
   },
   "outputs": [],
   "source": [
    "# make some confidence intervals, 95% by default.\n",
    "est.conf_int()"
   ]
  },
  {
   "cell_type": "code",
   "execution_count": null,
   "metadata": {
    "ExecuteTime": {
     "end_time": "2020-05-01T14:45:04.276000Z",
     "start_time": "2020-05-01T14:45:04.269021Z"
    },
    "hidden": true
   },
   "outputs": [],
   "source": [
    "# estimate the p-values\n",
    "est.pvalues"
   ]
  },
  {
   "cell_type": "code",
   "execution_count": null,
   "metadata": {
    "ExecuteTime": {
     "end_time": "2020-05-01T14:45:11.492985Z",
     "start_time": "2020-05-01T14:45:11.487999Z"
    },
    "hidden": true,
    "scrolled": true
   },
   "outputs": [],
   "source": [
    "# calculate and display intercept, coefficient\n",
    "intercept = single_regression_model.intercept_[0]\n",
    "coefficient = single_regression_model.coef_[0][0]\n",
    "# print out\n",
    "print(\"The Coefficient for training model is {:2}\".format(coefficient))\n",
    "print(\"The intercept for training model is {:4}\".format(intercept))"
   ]
  },
  {
   "cell_type": "code",
   "execution_count": null,
   "metadata": {
    "ExecuteTime": {
     "end_time": "2020-05-01T14:45:12.213054Z",
     "start_time": "2020-05-01T14:45:12.203081Z"
    },
    "hidden": true
   },
   "outputs": [],
   "source": [
    "# create prediction value and calculate errors\n",
    "y_predict = single_regression_model.predict(x_test)\n",
    "# calculate the mean squared error.\n",
    "model_mse = mean_squared_error(y_test, y_predict)\n",
    "# calculate the mean absolute error.\n",
    "model_mae = mean_absolute_error(y_test, y_predict)\n",
    "# calulcate the root mean squared error\n",
    "model_rmse =  math.sqrt(model_mse)\n",
    "# display the output\n",
    "print(\"MSE {:3}\".format(model_mse))\n",
    "print(\"MAE {:3}\".format(model_mae))\n",
    "print(\"RMSE {:3}\".format(model_rmse))"
   ]
  },
  {
   "cell_type": "code",
   "execution_count": null,
   "metadata": {
    "ExecuteTime": {
     "end_time": "2020-05-01T14:45:13.563911Z",
     "start_time": "2020-05-01T14:45:13.556930Z"
    },
    "hidden": true
   },
   "outputs": [],
   "source": [
    "model_r2 = r2_score(y_test, y_predict)\n",
    "print(\"R2 of the prediction is: {:.2}\".format(model_r2))"
   ]
  },
  {
   "cell_type": "code",
   "execution_count": null,
   "metadata": {
    "ExecuteTime": {
     "end_time": "2020-05-01T14:45:14.358830Z",
     "start_time": "2020-05-01T14:45:14.227180Z"
    },
    "hidden": true
   },
   "outputs": [],
   "source": [
    "# Grab the residuals & then call the hist() method\n",
    "(y_test - y_predict).hist(grid = False, color = 'Gold')\n",
    "plt.title(\"Model Residuals\")\n",
    "plt.show()"
   ]
  },
  {
   "cell_type": "code",
   "execution_count": null,
   "metadata": {
    "ExecuteTime": {
     "end_time": "2020-05-01T14:45:15.810771Z",
     "start_time": "2020-05-01T14:45:15.627264Z"
    },
    "hidden": true,
    "scrolled": true
   },
   "outputs": [],
   "source": [
    "# Plot outputs\n",
    "plt.scatter(x_test, y_test,  color='pink', label = '')\n",
    "plt.plot(x_test, y_predict, color='royalblue', linewidth = 3, linestyle= '-',label ='Regression Line')\n",
    "\n",
    "plt.title(\"Average_Count_WorkOrder_Per_Unit_0_12M VS Expenditure_12M_Total\")\n",
    "plt.xlabel(\"x\")\n",
    "plt.ylabel(\"y\")\n",
    "plt.legend()\n",
    "plt.show()\n",
    "\n",
    "# The coefficients\n",
    "print('Coefficient:' + '\\033[1m' + '{:.2}''\\033[0m'.format(single_regression_model.coef_[0][0]))\n",
    "\n",
    "# The mean squared error\n",
    "print('Mean squared error: ' + '\\033[1m' + '{:.4}''\\033[0m'.format(model_mse))\n",
    "\n",
    "# The mean squared error\n",
    "print('Root Mean squared error: ' + '\\033[1m' + '{:.4}''\\033[0m'.format(math.sqrt(model_mse)))\n",
    "\n",
    "# Explained variance score: 1 is perfect prediction\n",
    "print('R2 score: '+ '\\033[1m' + '{:.2}''\\033[0m'.format(r2_score(y_test,y_predict)))"
   ]
  },
  {
   "cell_type": "markdown",
   "metadata": {
    "heading_collapsed": true,
    "hidden": true
   },
   "source": [
    "### Test 13 Conclusion"
   ]
  },
  {
   "cell_type": "markdown",
   "metadata": {
    "heading_collapsed": true,
    "hidden": true
   },
   "source": [
    "## Test 14: x = PartsDCAL y= Expenditure_12M_PartsNServices"
   ]
  },
  {
   "cell_type": "markdown",
   "metadata": {
    "heading_collapsed": true,
    "hidden": true
   },
   "source": [
    "### Test 14"
   ]
  },
  {
   "cell_type": "code",
   "execution_count": null,
   "metadata": {
    "ExecuteTime": {
     "end_time": "2020-05-01T14:46:14.973594Z",
     "start_time": "2020-05-01T14:46:14.954615Z"
    },
    "hidden": true
   },
   "outputs": [],
   "source": [
    "#Create subset data1 for testing ideal element\n",
    "test = data_dropna.loc[:, ['PartsDCAL', 'Expenditure_12M_PartsNServices']]\n",
    "\n",
    "#remove extreme outliers:\n",
    "#If you have multiple columns in your dataframe and would like to remove all rows that have outliers in at least one column, \n",
    "#the following expression would do that in one shot: select absolute Z score for the row <1.65 (). .all or .any\n",
    "test_reduced_by_z = test[(np.abs(stats.zscore(test)) < 3).all(axis=1)]\n",
    "\n",
    "#define the x & y data\n",
    "x = test_reduced_by_z['PartsDCAL']\n",
    "y = test_reduced_by_z['Expenditure_12M_PartsNServices']\n",
    "\n",
    "test_reduced_by_z.describe()"
   ]
  },
  {
   "cell_type": "code",
   "execution_count": null,
   "metadata": {
    "ExecuteTime": {
     "end_time": "2020-05-01T14:46:16.213770Z",
     "start_time": "2020-05-01T14:46:16.050250Z"
    },
    "hidden": true
   },
   "outputs": [],
   "source": [
    "#create the new scatter plot\n",
    "plt.plot(x,y,'o',color = 'pink', label = '')\n",
    "# add the column names as labels\n",
    "plt.title('X VS Y')\n",
    "plt.xlabel('X')\n",
    "plt.ylabel('Y')\n",
    "plt.legend()\n",
    "plt.show()"
   ]
  },
  {
   "cell_type": "code",
   "execution_count": null,
   "metadata": {
    "ExecuteTime": {
     "end_time": "2020-05-01T14:46:17.531393Z",
     "start_time": "2020-05-01T14:46:17.523416Z"
    },
    "hidden": true,
    "scrolled": false
   },
   "outputs": [],
   "source": [
    "test_reduced_by_z.corr()"
   ]
  },
  {
   "cell_type": "code",
   "execution_count": null,
   "metadata": {
    "ExecuteTime": {
     "end_time": "2020-05-01T14:46:27.070162Z",
     "start_time": "2020-05-01T14:46:27.049261Z"
    },
    "hidden": true,
    "scrolled": true
   },
   "outputs": [],
   "source": [
    "# define our input variable & output variable\n",
    "x = test_reduced_by_z[['PartsDCAL']]\n",
    "y = test_reduced_by_z[['Expenditure_12M_PartsNServices']]\n",
    "\n",
    "# Split X and y into X_\n",
    "x_train, x_test, y_train, y_test = train_test_split(x, y, test_size=0.20, random_state=1)\n",
    "# create a Linear Regression model object.\n",
    "single_regression_model = LinearRegression()\n",
    "# pass through the X_train & y_train data set.\n",
    "single_regression_model.fit(x_train, y_train)\n",
    "# create OLS model for training data\n",
    "model = sm.OLS(y_train, x_train)\n",
    "# pass through the X_train & y_train data set.\n",
    "est = model.fit()\n",
    "print(est.summary())"
   ]
  },
  {
   "cell_type": "code",
   "execution_count": null,
   "metadata": {
    "ExecuteTime": {
     "end_time": "2020-05-01T14:46:30.261732Z",
     "start_time": "2020-05-01T14:46:30.252759Z"
    },
    "hidden": true
   },
   "outputs": [],
   "source": [
    "# make some confidence intervals, 95% by default.\n",
    "est.conf_int()"
   ]
  },
  {
   "cell_type": "code",
   "execution_count": null,
   "metadata": {
    "ExecuteTime": {
     "end_time": "2020-05-01T14:46:31.327196Z",
     "start_time": "2020-05-01T14:46:31.321215Z"
    },
    "hidden": true
   },
   "outputs": [],
   "source": [
    "# estimate the p-values\n",
    "est.pvalues"
   ]
  },
  {
   "cell_type": "code",
   "execution_count": null,
   "metadata": {
    "ExecuteTime": {
     "end_time": "2020-05-01T14:46:32.293248Z",
     "start_time": "2020-05-01T14:46:32.288262Z"
    },
    "hidden": true,
    "scrolled": true
   },
   "outputs": [],
   "source": [
    "# calculate and display intercept, coefficient\n",
    "intercept = single_regression_model.intercept_[0]\n",
    "coefficient = single_regression_model.coef_[0][0]\n",
    "# print out\n",
    "print(\"The Coefficient for training model is {:2}\".format(coefficient))\n",
    "print(\"The intercept for training model is {:4}\".format(intercept))"
   ]
  },
  {
   "cell_type": "code",
   "execution_count": null,
   "metadata": {
    "ExecuteTime": {
     "end_time": "2020-05-01T14:46:33.456898Z",
     "start_time": "2020-05-01T14:46:33.447923Z"
    },
    "hidden": true
   },
   "outputs": [],
   "source": [
    "# create prediction value and calculate errors\n",
    "y_predict = single_regression_model.predict(x_test)\n",
    "# calculate the mean squared error.\n",
    "model_mse = mean_squared_error(y_test, y_predict)\n",
    "# calculate the mean absolute error.\n",
    "model_mae = mean_absolute_error(y_test, y_predict)\n",
    "# calulcate the root mean squared error\n",
    "model_rmse =  math.sqrt(model_mse)\n",
    "# display the output\n",
    "print(\"MSE {:3}\".format(model_mse))\n",
    "print(\"MAE {:3}\".format(model_mae))\n",
    "print(\"RMSE {:3}\".format(model_rmse))"
   ]
  },
  {
   "cell_type": "code",
   "execution_count": null,
   "metadata": {
    "ExecuteTime": {
     "end_time": "2020-05-01T14:46:34.444274Z",
     "start_time": "2020-05-01T14:46:34.438294Z"
    },
    "hidden": true
   },
   "outputs": [],
   "source": [
    "model_r2 = r2_score(y_test, y_predict)\n",
    "print(\"R2 of the prediction is: {:.2}\".format(model_r2))"
   ]
  },
  {
   "cell_type": "code",
   "execution_count": null,
   "metadata": {
    "ExecuteTime": {
     "end_time": "2020-05-01T14:46:36.138600Z",
     "start_time": "2020-05-01T14:46:35.999966Z"
    },
    "hidden": true
   },
   "outputs": [],
   "source": [
    "# Grab the residuals & then call the hist() method\n",
    "(y_test - y_predict).hist(grid = False, color = 'Gold')\n",
    "plt.title(\"Model Residuals\")\n",
    "plt.show()"
   ]
  },
  {
   "cell_type": "code",
   "execution_count": null,
   "metadata": {
    "ExecuteTime": {
     "end_time": "2020-05-01T14:46:37.283190Z",
     "start_time": "2020-05-01T14:46:37.119628Z"
    },
    "hidden": true,
    "scrolled": true
   },
   "outputs": [],
   "source": [
    "# Plot outputs\n",
    "plt.scatter(x_test, y_test,  color='pink', label = '')\n",
    "plt.plot(x_test, y_predict, color='royalblue', linewidth = 3, linestyle= '-',label ='Regression Line')\n",
    "\n",
    "plt.title(\"PartsDCAL VS Expenditure_12M_PartsNServices\")\n",
    "plt.xlabel(\"x\")\n",
    "plt.ylabel(\"y\")\n",
    "plt.legend()\n",
    "plt.show()\n",
    "\n",
    "# The coefficients\n",
    "print('Coefficient:' + '\\033[1m' + '{:.2}''\\033[0m'.format(single_regression_model.coef_[0][0]))\n",
    "\n",
    "# The mean squared error\n",
    "print('Mean squared error: ' + '\\033[1m' + '{:.4}''\\033[0m'.format(model_mse))\n",
    "\n",
    "# The mean squared error\n",
    "print('Root Mean squared error: ' + '\\033[1m' + '{:.4}''\\033[0m'.format(math.sqrt(model_mse)))\n",
    "\n",
    "# Explained variance score: 1 is perfect prediction\n",
    "print('R2 score: '+ '\\033[1m' + '{:.2}''\\033[0m'.format(r2_score(y_test,y_predict)))"
   ]
  },
  {
   "cell_type": "markdown",
   "metadata": {
    "heading_collapsed": true,
    "hidden": true
   },
   "source": [
    "### Test 14 Conclusion"
   ]
  },
  {
   "cell_type": "markdown",
   "metadata": {
    "heading_collapsed": true,
    "hidden": true
   },
   "source": [
    "## Test 15: x = ServiceDCAL y= Expenditure_12M_PartsNServices"
   ]
  },
  {
   "cell_type": "markdown",
   "metadata": {
    "heading_collapsed": true,
    "hidden": true
   },
   "source": [
    "### Test 15"
   ]
  },
  {
   "cell_type": "code",
   "execution_count": null,
   "metadata": {
    "ExecuteTime": {
     "end_time": "2020-05-01T14:49:28.149666Z",
     "start_time": "2020-05-01T14:49:28.130718Z"
    },
    "hidden": true
   },
   "outputs": [],
   "source": [
    "#Create subset data1 for testing ideal element\n",
    "test = data_dropna.loc[:, ['ServiceDCAL', 'Expenditure_12M_PartsNServices']]\n",
    "\n",
    "#remove extreme outliers:\n",
    "#If you have multiple columns in your dataframe and would like to remove all rows that have outliers in at least one column, \n",
    "#the following expression would do that in one shot: select absolute Z score for the row <1.65 (). .all or .any\n",
    "test_reduced_by_z = test[(np.abs(stats.zscore(test)) < 3).all(axis=1)]\n",
    "\n",
    "#define the x & y data\n",
    "x = test_reduced_by_z['ServiceDCAL']\n",
    "y = test_reduced_by_z['Expenditure_12M_PartsNServices']\n",
    "\n",
    "test_reduced_by_z.describe()"
   ]
  },
  {
   "cell_type": "code",
   "execution_count": null,
   "metadata": {
    "ExecuteTime": {
     "end_time": "2020-05-01T14:49:30.299897Z",
     "start_time": "2020-05-01T14:49:30.128374Z"
    },
    "hidden": true
   },
   "outputs": [],
   "source": [
    "#create the new scatter plot\n",
    "plt.plot(x,y,'o',color = 'pink', label = '')\n",
    "# add the column names as labels\n",
    "plt.title('X VS Y')\n",
    "plt.xlabel('X')\n",
    "plt.ylabel('Y')\n",
    "plt.legend()\n",
    "plt.show()"
   ]
  },
  {
   "cell_type": "code",
   "execution_count": null,
   "metadata": {
    "ExecuteTime": {
     "end_time": "2020-05-01T14:49:33.273050Z",
     "start_time": "2020-05-01T14:49:33.263041Z"
    },
    "hidden": true,
    "scrolled": false
   },
   "outputs": [],
   "source": [
    "test_reduced_by_z.corr()"
   ]
  },
  {
   "cell_type": "code",
   "execution_count": null,
   "metadata": {
    "ExecuteTime": {
     "end_time": "2020-05-01T14:49:40.056573Z",
     "start_time": "2020-05-01T14:49:40.030644Z"
    },
    "hidden": true,
    "scrolled": true
   },
   "outputs": [],
   "source": [
    "# define our input variable & output variable\n",
    "x = test_reduced_by_z[['ServiceDCAL']]\n",
    "y = test_reduced_by_z[['Expenditure_12M_PartsNServices']]\n",
    "\n",
    "# Split X and y into X_\n",
    "x_train, x_test, y_train, y_test = train_test_split(x, y, test_size=0.20, random_state=1)\n",
    "# create a Linear Regression model object.\n",
    "single_regression_model = LinearRegression()\n",
    "# pass through the X_train & y_train data set.\n",
    "single_regression_model.fit(x_train, y_train)\n",
    "# create OLS model for training data\n",
    "model = sm.OLS(y_train, x_train)\n",
    "# pass through the X_train & y_train data set.\n",
    "est = model.fit()\n",
    "print(est.summary())"
   ]
  },
  {
   "cell_type": "code",
   "execution_count": null,
   "metadata": {
    "ExecuteTime": {
     "end_time": "2020-05-01T14:49:43.362924Z",
     "start_time": "2020-05-01T14:49:43.354949Z"
    },
    "hidden": true
   },
   "outputs": [],
   "source": [
    "# make some confidence intervals, 95% by default.\n",
    "est.conf_int()"
   ]
  },
  {
   "cell_type": "code",
   "execution_count": null,
   "metadata": {
    "ExecuteTime": {
     "end_time": "2020-05-01T14:49:44.926918Z",
     "start_time": "2020-05-01T14:49:44.919940Z"
    },
    "hidden": true
   },
   "outputs": [],
   "source": [
    "# estimate the p-values\n",
    "est.pvalues"
   ]
  },
  {
   "cell_type": "code",
   "execution_count": null,
   "metadata": {
    "ExecuteTime": {
     "end_time": "2020-05-01T14:49:45.578666Z",
     "start_time": "2020-05-01T14:49:45.574669Z"
    },
    "hidden": true,
    "scrolled": true
   },
   "outputs": [],
   "source": [
    "# calculate and display intercept, coefficient\n",
    "intercept = single_regression_model.intercept_[0]\n",
    "coefficient = single_regression_model.coef_[0][0]\n",
    "# print out\n",
    "print(\"The Coefficient for training model is {:2}\".format(coefficient))\n",
    "print(\"The intercept for training model is {:4}\".format(intercept))"
   ]
  },
  {
   "cell_type": "code",
   "execution_count": null,
   "metadata": {
    "ExecuteTime": {
     "end_time": "2020-05-01T14:49:46.565764Z",
     "start_time": "2020-05-01T14:49:46.556781Z"
    },
    "hidden": true
   },
   "outputs": [],
   "source": [
    "# create prediction value and calculate errors\n",
    "y_predict = single_regression_model.predict(x_test)\n",
    "# calculate the mean squared error.\n",
    "model_mse = mean_squared_error(y_test, y_predict)\n",
    "# calculate the mean absolute error.\n",
    "model_mae = mean_absolute_error(y_test, y_predict)\n",
    "# calulcate the root mean squared error\n",
    "model_rmse =  math.sqrt(model_mse)\n",
    "# display the output\n",
    "print(\"MSE {:3}\".format(model_mse))\n",
    "print(\"MAE {:3}\".format(model_mae))\n",
    "print(\"RMSE {:3}\".format(model_rmse))"
   ]
  },
  {
   "cell_type": "code",
   "execution_count": null,
   "metadata": {
    "ExecuteTime": {
     "end_time": "2020-05-01T14:49:47.738666Z",
     "start_time": "2020-05-01T14:49:47.732660Z"
    },
    "hidden": true
   },
   "outputs": [],
   "source": [
    "model_r2 = r2_score(y_test, y_predict)\n",
    "print(\"R2 of the prediction is: {:.2}\".format(model_r2))"
   ]
  },
  {
   "cell_type": "code",
   "execution_count": null,
   "metadata": {
    "ExecuteTime": {
     "end_time": "2020-05-01T14:49:48.541945Z",
     "start_time": "2020-05-01T14:49:48.388357Z"
    },
    "hidden": true
   },
   "outputs": [],
   "source": [
    "# Grab the residuals & then call the hist() method\n",
    "(y_test - y_predict).hist(grid = False, color = 'Gold')\n",
    "plt.title(\"Model Residuals\")\n",
    "plt.show()"
   ]
  },
  {
   "cell_type": "code",
   "execution_count": null,
   "metadata": {
    "ExecuteTime": {
     "end_time": "2020-05-01T14:48:53.564256Z",
     "start_time": "2020-05-01T14:48:53.382743Z"
    },
    "hidden": true,
    "scrolled": true
   },
   "outputs": [],
   "source": [
    "# Plot outputs\n",
    "plt.scatter(x_test, y_test,  color='pink', label = '')\n",
    "plt.plot(x_test, y_predict, color='royalblue', linewidth = 3, linestyle= '-',label ='Regression Line')\n",
    "\n",
    "plt.title(\"ServiceDCAL VS Expenditure_12M_PartsNServices\")\n",
    "plt.xlabel(\"x\")\n",
    "plt.ylabel(\"y\")\n",
    "plt.legend()\n",
    "plt.show()\n",
    "\n",
    "# The coefficients\n",
    "print('Coefficient:' + '\\033[1m' + '{:.2}''\\033[0m'.format(single_regression_model.coef_[0][0]))\n",
    "\n",
    "# The mean squared error\n",
    "print('Mean squared error: ' + '\\033[1m' + '{:.4}''\\033[0m'.format(model_mse))\n",
    "\n",
    "# The mean squared error\n",
    "print('Root Mean squared error: ' + '\\033[1m' + '{:.4}''\\033[0m'.format(math.sqrt(model_mse)))\n",
    "\n",
    "# Explained variance score: 1 is perfect prediction\n",
    "print('R2 score: '+ '\\033[1m' + '{:.2}''\\033[0m'.format(r2_score(y_test,y_predict)))"
   ]
  },
  {
   "cell_type": "markdown",
   "metadata": {
    "heading_collapsed": true,
    "hidden": true
   },
   "source": [
    "### Test 15 conclusion"
   ]
  },
  {
   "cell_type": "markdown",
   "metadata": {
    "heading_collapsed": true,
    "hidden": true
   },
   "source": [
    "## Test 16: x = Count_FleetSize y= Count_CatFleetSize"
   ]
  },
  {
   "cell_type": "markdown",
   "metadata": {
    "heading_collapsed": true,
    "hidden": true
   },
   "source": [
    "### Test 16"
   ]
  },
  {
   "cell_type": "code",
   "execution_count": null,
   "metadata": {
    "ExecuteTime": {
     "end_time": "2020-05-01T14:49:28.149666Z",
     "start_time": "2020-05-01T14:49:28.130718Z"
    },
    "hidden": true
   },
   "outputs": [],
   "source": [
    "#Create subset data1 for testing ideal element\n",
    "test = data_dropna.loc[:, ['Count_FleetSize', 'Count_CatFleetSize']]\n",
    "\n",
    "#remove extreme outliers:\n",
    "#If you have multiple columns in your dataframe and would like to remove all rows that have outliers in at least one column, \n",
    "#the following expression would do that in one shot: select absolute Z score for the row <1.65 (). .all or .any\n",
    "test_reduced_by_z = test[(np.abs(stats.zscore(test)) < 3).all(axis=1)]\n",
    "\n",
    "#define the x & y data\n",
    "x = test_reduced_by_z['Count_FleetSize']\n",
    "y = test_reduced_by_z['Count_CatFleetSize']\n",
    "\n",
    "test_reduced_by_z.describe()"
   ]
  },
  {
   "cell_type": "code",
   "execution_count": null,
   "metadata": {
    "ExecuteTime": {
     "end_time": "2020-05-01T14:49:30.299897Z",
     "start_time": "2020-05-01T14:49:30.128374Z"
    },
    "hidden": true,
    "scrolled": true
   },
   "outputs": [],
   "source": [
    "#create the new scatter plot\n",
    "plt.plot(x,y,'o',color = 'pink', label = '')\n",
    "# add the column names as labels\n",
    "plt.title('X VS Y')\n",
    "plt.xlabel('X')\n",
    "plt.ylabel('Y')\n",
    "plt.legend()\n",
    "plt.show()"
   ]
  },
  {
   "cell_type": "code",
   "execution_count": null,
   "metadata": {
    "ExecuteTime": {
     "end_time": "2020-05-01T14:47:23.404252Z",
     "start_time": "2020-05-01T14:47:23.394279Z"
    },
    "hidden": true,
    "scrolled": false
   },
   "outputs": [],
   "source": [
    "test_reduced_by_z.corr()"
   ]
  },
  {
   "cell_type": "markdown",
   "metadata": {
    "ExecuteTime": {
     "end_time": "2020-05-01T14:17:37.052633Z",
     "start_time": "2020-05-01T14:17:37.048620Z"
    },
    "heading_collapsed": true,
    "hidden": true
   },
   "source": [
    "### Test 16 conclusion"
   ]
  },
  {
   "cell_type": "code",
   "execution_count": null,
   "metadata": {
    "ExecuteTime": {
     "end_time": "2020-05-01T14:30:56.239520Z",
     "start_time": "2020-05-01T14:30:56.235531Z"
    },
    "hidden": true
   },
   "outputs": [],
   "source": [
    "# I agree Fleet size is highly correlated with cat fleet size and should not be used"
   ]
  },
  {
   "cell_type": "markdown",
   "metadata": {
    "heading_collapsed": true,
    "hidden": true
   },
   "source": [
    "## Test 17: x = Family_CatFleetSize y= Count_CatFleetSize"
   ]
  },
  {
   "cell_type": "markdown",
   "metadata": {
    "heading_collapsed": true,
    "hidden": true
   },
   "source": [
    "### Test 17"
   ]
  },
  {
   "cell_type": "code",
   "execution_count": null,
   "metadata": {
    "ExecuteTime": {
     "end_time": "2020-05-01T14:49:28.149666Z",
     "start_time": "2020-05-01T14:49:28.130718Z"
    },
    "hidden": true
   },
   "outputs": [],
   "source": [
    "#Create subset data1 for testing ideal element\n",
    "test = data_dropna.loc[:, ['Family_CatFleetSize', 'Count_CatFleetSize']]\n",
    "\n",
    "#remove extreme outliers:\n",
    "#If you have multiple columns in your dataframe and would like to remove all rows that have outliers in at least one column, \n",
    "#the following expression would do that in one shot: select absolute Z score for the row <1.65 (). .all or .any\n",
    "test_reduced_by_z = test[(np.abs(stats.zscore(test)) < 3).all(axis=1)]\n",
    "\n",
    "#define the x & y data\n",
    "x = test_reduced_by_z['Family_CatFleetSize']\n",
    "y = test_reduced_by_z['Count_CatFleetSize']\n",
    "\n",
    "test_reduced_by_z.describe()"
   ]
  },
  {
   "cell_type": "code",
   "execution_count": null,
   "metadata": {
    "ExecuteTime": {
     "end_time": "2020-05-01T14:49:30.299897Z",
     "start_time": "2020-05-01T14:49:30.128374Z"
    },
    "hidden": true
   },
   "outputs": [],
   "source": [
    "#create the new scatter plot\n",
    "plt.plot(x,y,'o',color = 'pink', label = '')\n",
    "# add the column names as labels\n",
    "plt.title('X VS Y')\n",
    "plt.xlabel('X')\n",
    "plt.ylabel('Y')\n",
    "plt.legend()\n",
    "plt.show()"
   ]
  },
  {
   "cell_type": "code",
   "execution_count": null,
   "metadata": {
    "ExecuteTime": {
     "end_time": "2020-05-01T14:49:33.273050Z",
     "start_time": "2020-05-01T14:49:33.263041Z"
    },
    "hidden": true,
    "scrolled": false
   },
   "outputs": [],
   "source": [
    "test_reduced_by_z.corr()"
   ]
  },
  {
   "cell_type": "code",
   "execution_count": null,
   "metadata": {
    "ExecuteTime": {
     "end_time": "2020-05-01T14:49:40.056573Z",
     "start_time": "2020-05-01T14:49:40.030644Z"
    },
    "hidden": true,
    "scrolled": true
   },
   "outputs": [],
   "source": [
    "# define our input variable & output variable\n",
    "x = test_reduced_by_z[['Family_CatFleetSize']]\n",
    "y = test_reduced_by_z[['Count_CatFleetSize']]\n",
    "\n",
    "# Split X and y into X_\n",
    "x_train, x_test, y_train, y_test = train_test_split(x, y, test_size=0.20, random_state=1)\n",
    "# create a Linear Regression model object.\n",
    "single_regression_model = LinearRegression()\n",
    "# pass through the X_train & y_train data set.\n",
    "single_regression_model.fit(x_train, y_train)\n",
    "# create OLS model for training data\n",
    "model = sm.OLS(y_train, x_train)\n",
    "# pass through the X_train & y_train data set.\n",
    "est = model.fit()\n",
    "print(est.summary())"
   ]
  },
  {
   "cell_type": "code",
   "execution_count": null,
   "metadata": {
    "ExecuteTime": {
     "end_time": "2020-05-01T14:49:43.362924Z",
     "start_time": "2020-05-01T14:49:43.354949Z"
    },
    "hidden": true
   },
   "outputs": [],
   "source": [
    "# make some confidence intervals, 95% by default.\n",
    "est.conf_int()"
   ]
  },
  {
   "cell_type": "code",
   "execution_count": null,
   "metadata": {
    "ExecuteTime": {
     "end_time": "2020-05-01T14:49:44.926918Z",
     "start_time": "2020-05-01T14:49:44.919940Z"
    },
    "hidden": true
   },
   "outputs": [],
   "source": [
    "# estimate the p-values\n",
    "est.pvalues"
   ]
  },
  {
   "cell_type": "code",
   "execution_count": null,
   "metadata": {
    "ExecuteTime": {
     "end_time": "2020-05-01T14:49:45.578666Z",
     "start_time": "2020-05-01T14:49:45.574669Z"
    },
    "hidden": true,
    "scrolled": true
   },
   "outputs": [],
   "source": [
    "# calculate and display intercept, coefficient\n",
    "intercept = single_regression_model.intercept_[0]\n",
    "coefficient = single_regression_model.coef_[0][0]\n",
    "# print out\n",
    "print(\"The Coefficient for training model is {:2}\".format(coefficient))\n",
    "print(\"The intercept for training model is {:4}\".format(intercept))"
   ]
  },
  {
   "cell_type": "code",
   "execution_count": null,
   "metadata": {
    "ExecuteTime": {
     "end_time": "2020-05-01T14:49:46.565764Z",
     "start_time": "2020-05-01T14:49:46.556781Z"
    },
    "hidden": true
   },
   "outputs": [],
   "source": [
    "# create prediction value and calculate errors\n",
    "y_predict = single_regression_model.predict(x_test)\n",
    "# calculate the mean squared error.\n",
    "model_mse = mean_squared_error(y_test, y_predict)\n",
    "# calculate the mean absolute error.\n",
    "model_mae = mean_absolute_error(y_test, y_predict)\n",
    "# calulcate the root mean squared error\n",
    "model_rmse =  math.sqrt(model_mse)\n",
    "# display the output\n",
    "print(\"MSE {:3}\".format(model_mse))\n",
    "print(\"MAE {:3}\".format(model_mae))\n",
    "print(\"RMSE {:3}\".format(model_rmse))"
   ]
  },
  {
   "cell_type": "code",
   "execution_count": null,
   "metadata": {
    "ExecuteTime": {
     "end_time": "2020-05-01T14:49:47.738666Z",
     "start_time": "2020-05-01T14:49:47.732660Z"
    },
    "hidden": true
   },
   "outputs": [],
   "source": [
    "model_r2 = r2_score(y_test, y_predict)\n",
    "print(\"R2 of the prediction is: {:.2}\".format(model_r2))"
   ]
  },
  {
   "cell_type": "code",
   "execution_count": null,
   "metadata": {
    "ExecuteTime": {
     "end_time": "2020-05-01T14:49:48.541945Z",
     "start_time": "2020-05-01T14:49:48.388357Z"
    },
    "hidden": true
   },
   "outputs": [],
   "source": [
    "# Grab the residuals & then call the hist() method\n",
    "(y_test - y_predict).hist(grid = False, color = 'Gold')\n",
    "plt.title(\"Model Residuals\")\n",
    "plt.show()"
   ]
  },
  {
   "cell_type": "code",
   "execution_count": null,
   "metadata": {
    "ExecuteTime": {
     "end_time": "2020-05-01T14:48:53.564256Z",
     "start_time": "2020-05-01T14:48:53.382743Z"
    },
    "hidden": true
   },
   "outputs": [],
   "source": [
    "# Plot outputs\n",
    "plt.scatter(x_test, y_test,  color='pink', label = '')\n",
    "plt.plot(x_test, y_predict, color='royalblue', linewidth = 3, linestyle= '-',label ='Regression Line')\n",
    "\n",
    "plt.title(\"Family_CatFleetSize VS Count_CatFleetSize\")\n",
    "plt.xlabel(\"x\")\n",
    "plt.ylabel(\"y\")\n",
    "plt.legend()\n",
    "plt.show()\n",
    "\n",
    "# The coefficients\n",
    "print('Coefficient:' + '\\033[1m' + '{:.2}''\\033[0m'.format(single_regression_model.coef_[0][0]))\n",
    "\n",
    "# The mean squared error\n",
    "print('Mean squared error: ' + '\\033[1m' + '{:.4}''\\033[0m'.format(model_mse))\n",
    "\n",
    "# The mean squared error\n",
    "print('Root Mean squared error: ' + '\\033[1m' + '{:.4}''\\033[0m'.format(math.sqrt(model_mse)))\n",
    "\n",
    "# Explained variance score: 1 is perfect prediction\n",
    "print('R2 score: '+ '\\033[1m' + '{:.2}''\\033[0m'.format(r2_score(y_test,y_predict)))"
   ]
  },
  {
   "cell_type": "markdown",
   "metadata": {
    "heading_collapsed": true,
    "hidden": true
   },
   "source": [
    "### Test 17 Conclusion"
   ]
  },
  {
   "cell_type": "markdown",
   "metadata": {
    "heading_collapsed": true,
    "hidden": true
   },
   "source": [
    "## Test 18: x = Family_FleetSize y= Family_CatFleetSize"
   ]
  },
  {
   "cell_type": "markdown",
   "metadata": {
    "heading_collapsed": true,
    "hidden": true
   },
   "source": [
    "### Test 18"
   ]
  },
  {
   "cell_type": "code",
   "execution_count": null,
   "metadata": {
    "ExecuteTime": {
     "end_time": "2020-05-01T14:49:28.149666Z",
     "start_time": "2020-05-01T14:49:28.130718Z"
    },
    "hidden": true
   },
   "outputs": [],
   "source": [
    "#Create subset data1 for testing ideal element\n",
    "test = data_dropna.loc[:, ['Family_FleetSize', 'Family_CatFleetSize']]\n",
    "\n",
    "#remove extreme outliers:\n",
    "#If you have multiple columns in your dataframe and would like to remove all rows that have outliers in at least one column, \n",
    "#the following expression would do that in one shot: select absolute Z score for the row <1.65 (). .all or .any\n",
    "test_reduced_by_z = test[(np.abs(stats.zscore(test)) < 3).all(axis=1)]\n",
    "\n",
    "#define the x & y data\n",
    "x = test_reduced_by_z['Family_FleetSize']\n",
    "y = test_reduced_by_z['Family_CatFleetSize']\n",
    "\n",
    "test_reduced_by_z.describe()"
   ]
  },
  {
   "cell_type": "code",
   "execution_count": null,
   "metadata": {
    "ExecuteTime": {
     "end_time": "2020-05-01T14:49:30.299897Z",
     "start_time": "2020-05-01T14:49:30.128374Z"
    },
    "hidden": true
   },
   "outputs": [],
   "source": [
    "#create the new scatter plot\n",
    "plt.plot(x,y,'o',color = 'pink', label = '')\n",
    "# add the column names as labels\n",
    "plt.title('X VS Y')\n",
    "plt.xlabel('X')\n",
    "plt.ylabel('Y')\n",
    "plt.legend()\n",
    "plt.show()"
   ]
  },
  {
   "cell_type": "code",
   "execution_count": null,
   "metadata": {
    "ExecuteTime": {
     "end_time": "2020-05-01T14:49:33.273050Z",
     "start_time": "2020-05-01T14:49:33.263041Z"
    },
    "hidden": true,
    "scrolled": false
   },
   "outputs": [],
   "source": [
    "test_reduced_by_z.corr()"
   ]
  },
  {
   "cell_type": "code",
   "execution_count": null,
   "metadata": {
    "ExecuteTime": {
     "end_time": "2020-05-01T14:49:40.056573Z",
     "start_time": "2020-05-01T14:49:40.030644Z"
    },
    "hidden": true,
    "scrolled": true
   },
   "outputs": [],
   "source": [
    "# define our input variable & output variable\n",
    "x = test_reduced_by_z[['Family_FleetSize']]\n",
    "y = test_reduced_by_z[['Family_CatFleetSize']]\n",
    "\n",
    "# Split X and y into X_\n",
    "x_train, x_test, y_train, y_test = train_test_split(x, y, test_size=0.20, random_state=1)\n",
    "# create a Linear Regression model object.\n",
    "single_regression_model = LinearRegression()\n",
    "# pass through the X_train & y_train data set.\n",
    "single_regression_model.fit(x_train, y_train)\n",
    "# create OLS model for training data\n",
    "model = sm.OLS(y_train, x_train)\n",
    "# pass through the X_train & y_train data set.\n",
    "est = model.fit()\n",
    "print(est.summary())"
   ]
  },
  {
   "cell_type": "code",
   "execution_count": null,
   "metadata": {
    "ExecuteTime": {
     "end_time": "2020-05-01T14:49:43.362924Z",
     "start_time": "2020-05-01T14:49:43.354949Z"
    },
    "hidden": true
   },
   "outputs": [],
   "source": [
    "# make some confidence intervals, 95% by default.\n",
    "est.conf_int()"
   ]
  },
  {
   "cell_type": "code",
   "execution_count": null,
   "metadata": {
    "ExecuteTime": {
     "end_time": "2020-05-01T14:49:44.926918Z",
     "start_time": "2020-05-01T14:49:44.919940Z"
    },
    "hidden": true
   },
   "outputs": [],
   "source": [
    "# estimate the p-values\n",
    "est.pvalues"
   ]
  },
  {
   "cell_type": "code",
   "execution_count": null,
   "metadata": {
    "ExecuteTime": {
     "end_time": "2020-05-01T14:49:45.578666Z",
     "start_time": "2020-05-01T14:49:45.574669Z"
    },
    "hidden": true,
    "scrolled": true
   },
   "outputs": [],
   "source": [
    "# calculate and display intercept, coefficient\n",
    "intercept = single_regression_model.intercept_[0]\n",
    "coefficient = single_regression_model.coef_[0][0]\n",
    "# print out\n",
    "print(\"The Coefficient for training model is {:2}\".format(coefficient))\n",
    "print(\"The intercept for training model is {:4}\".format(intercept))"
   ]
  },
  {
   "cell_type": "code",
   "execution_count": null,
   "metadata": {
    "ExecuteTime": {
     "end_time": "2020-05-01T14:49:46.565764Z",
     "start_time": "2020-05-01T14:49:46.556781Z"
    },
    "hidden": true
   },
   "outputs": [],
   "source": [
    "# create prediction value and calculate errors\n",
    "y_predict = single_regression_model.predict(x_test)\n",
    "# calculate the mean squared error.\n",
    "model_mse = mean_squared_error(y_test, y_predict)\n",
    "# calculate the mean absolute error.\n",
    "model_mae = mean_absolute_error(y_test, y_predict)\n",
    "# calulcate the root mean squared error\n",
    "model_rmse =  math.sqrt(model_mse)\n",
    "# display the output\n",
    "print(\"MSE {:3}\".format(model_mse))\n",
    "print(\"MAE {:3}\".format(model_mae))\n",
    "print(\"RMSE {:3}\".format(model_rmse))"
   ]
  },
  {
   "cell_type": "code",
   "execution_count": null,
   "metadata": {
    "ExecuteTime": {
     "end_time": "2020-05-01T14:49:47.738666Z",
     "start_time": "2020-05-01T14:49:47.732660Z"
    },
    "hidden": true
   },
   "outputs": [],
   "source": [
    "model_r2 = r2_score(y_test, y_predict)\n",
    "print(\"R2 of the prediction is: {:.2}\".format(model_r2))"
   ]
  },
  {
   "cell_type": "markdown",
   "metadata": {
    "heading_collapsed": true,
    "hidden": true
   },
   "source": [
    "### Test 18 conclusion"
   ]
  },
  {
   "cell_type": "markdown",
   "metadata": {
    "heading_collapsed": true,
    "hidden": true
   },
   "source": [
    "## Test 19: x = Family_CatFleetSize y= Expenditure_12M_PartsNServices"
   ]
  },
  {
   "cell_type": "markdown",
   "metadata": {
    "heading_collapsed": true,
    "hidden": true
   },
   "source": [
    "### Test 19"
   ]
  },
  {
   "cell_type": "code",
   "execution_count": null,
   "metadata": {
    "ExecuteTime": {
     "end_time": "2020-05-01T14:58:06.823432Z",
     "start_time": "2020-05-01T14:58:06.803524Z"
    },
    "hidden": true
   },
   "outputs": [],
   "source": [
    "#Create subset data1 for testing ideal element\n",
    "test = data_dropna.loc[:, ['Family_CatFleetSize', 'Expenditure_12M_PartsNServices']]\n",
    "\n",
    "#remove extreme outliers:\n",
    "#If you have multiple columns in your dataframe and would like to remove all rows that have outliers in at least one column, \n",
    "#the following expression would do that in one shot: select absolute Z score for the row <1.65 (). .all or .any\n",
    "test_reduced_by_z = test[(np.abs(stats.zscore(test)) < 3).all(axis=1)]\n",
    "\n",
    "#define the x & y data\n",
    "x = test_reduced_by_z['Family_CatFleetSize']\n",
    "y = test_reduced_by_z['Expenditure_12M_PartsNServices']\n",
    "\n",
    "test_reduced_by_z.describe()"
   ]
  },
  {
   "cell_type": "code",
   "execution_count": null,
   "metadata": {
    "ExecuteTime": {
     "end_time": "2020-05-01T14:58:08.183643Z",
     "start_time": "2020-05-01T14:58:07.984444Z"
    },
    "hidden": true
   },
   "outputs": [],
   "source": [
    "#create the new scatter plot\n",
    "plt.plot(x,y,'o',color = 'pink', label = '')\n",
    "# add the column names as labels\n",
    "plt.title('X VS Y')\n",
    "plt.xlabel('X')\n",
    "plt.ylabel('Y')\n",
    "plt.legend()\n",
    "plt.show()"
   ]
  },
  {
   "cell_type": "code",
   "execution_count": null,
   "metadata": {
    "ExecuteTime": {
     "end_time": "2020-05-01T14:56:50.020975Z",
     "start_time": "2020-05-01T14:56:50.004024Z"
    },
    "hidden": true
   },
   "outputs": [],
   "source": [
    "# #reduce X to under 1500\n",
    "test_reduced_by_z = test_reduced_by_z[test_reduced_by_z['Family_CatFleetSize'] <= 1500]\n",
    "\n",
    "x = test_reduced_by_z['Family_CatFleetSize']\n",
    "y = test_reduced_by_z['Expenditure_12M_PartsNServices']\n",
    "test_reduced_by_z.describe()"
   ]
  },
  {
   "cell_type": "code",
   "execution_count": null,
   "metadata": {
    "ExecuteTime": {
     "end_time": "2020-05-01T14:56:51.345344Z",
     "start_time": "2020-05-01T14:56:51.166784Z"
    },
    "hidden": true
   },
   "outputs": [],
   "source": [
    "#create the new scatter plot\n",
    "plt.plot(x,y,'o',color = 'pink', label = '')\n",
    "# add the column names as labels\n",
    "plt.title('X VS Y')\n",
    "plt.xlabel('X')\n",
    "plt.ylabel('Y')\n",
    "plt.legend()\n",
    "plt.show()"
   ]
  },
  {
   "cell_type": "code",
   "execution_count": null,
   "metadata": {
    "ExecuteTime": {
     "end_time": "2020-05-01T14:58:09.419514Z",
     "start_time": "2020-05-01T14:58:09.410538Z"
    },
    "hidden": true,
    "scrolled": false
   },
   "outputs": [],
   "source": [
    "test_reduced_by_z.corr()"
   ]
  },
  {
   "cell_type": "code",
   "execution_count": null,
   "metadata": {
    "ExecuteTime": {
     "end_time": "2020-05-01T14:58:10.206394Z",
     "start_time": "2020-05-01T14:58:10.182529Z"
    },
    "hidden": true,
    "scrolled": true
   },
   "outputs": [],
   "source": [
    "# define our input variable & output variable\n",
    "x = test_reduced_by_z[['Family_CatFleetSize']]\n",
    "y = test_reduced_by_z[['Expenditure_12M_PartsNServices']]\n",
    "\n",
    "# Split X and y into X_\n",
    "x_train, x_test, y_train, y_test = train_test_split(x, y, test_size=0.20, random_state=1)\n",
    "# create a Linear Regression model object.\n",
    "single_regression_model = LinearRegression()\n",
    "# pass through the X_train & y_train data set.\n",
    "single_regression_model.fit(x_train, y_train)\n",
    "# create OLS model for training data\n",
    "model = sm.OLS(y_train, x_train)\n",
    "# pass through the X_train & y_train data set.\n",
    "est = model.fit()\n",
    "print(est.summary())"
   ]
  },
  {
   "cell_type": "code",
   "execution_count": null,
   "metadata": {
    "ExecuteTime": {
     "end_time": "2020-05-01T14:58:11.890684Z",
     "start_time": "2020-05-01T14:58:11.882705Z"
    },
    "hidden": true
   },
   "outputs": [],
   "source": [
    "# make some confidence intervals, 95% by default.\n",
    "est.conf_int()"
   ]
  },
  {
   "cell_type": "code",
   "execution_count": null,
   "metadata": {
    "ExecuteTime": {
     "end_time": "2020-05-01T14:58:12.784166Z",
     "start_time": "2020-05-01T14:58:12.777213Z"
    },
    "hidden": true
   },
   "outputs": [],
   "source": [
    "# estimate the p-values\n",
    "est.pvalues"
   ]
  },
  {
   "cell_type": "code",
   "execution_count": null,
   "metadata": {
    "ExecuteTime": {
     "end_time": "2020-05-01T14:58:13.441404Z",
     "start_time": "2020-05-01T14:58:13.435421Z"
    },
    "hidden": true,
    "scrolled": true
   },
   "outputs": [],
   "source": [
    "# calculate and display intercept, coefficient\n",
    "intercept = single_regression_model.intercept_[0]\n",
    "coefficient = single_regression_model.coef_[0][0]\n",
    "# print out\n",
    "print(\"The Coefficient for training model is {:2}\".format(coefficient))\n",
    "print(\"The intercept for training model is {:4}\".format(intercept))"
   ]
  },
  {
   "cell_type": "code",
   "execution_count": null,
   "metadata": {
    "ExecuteTime": {
     "end_time": "2020-05-01T14:58:14.660501Z",
     "start_time": "2020-05-01T14:58:14.651528Z"
    },
    "hidden": true
   },
   "outputs": [],
   "source": [
    "# create prediction value and calculate errors\n",
    "y_predict = single_regression_model.predict(x_test)\n",
    "# calculate the mean squared error.\n",
    "model_mse = mean_squared_error(y_test, y_predict)\n",
    "# calculate the mean absolute error.\n",
    "model_mae = mean_absolute_error(y_test, y_predict)\n",
    "# calulcate the root mean squared error\n",
    "model_rmse =  math.sqrt(model_mse)\n",
    "# display the output\n",
    "print(\"MSE {:3}\".format(model_mse))\n",
    "print(\"MAE {:3}\".format(model_mae))\n",
    "print(\"RMSE {:3}\".format(model_rmse))"
   ]
  },
  {
   "cell_type": "code",
   "execution_count": null,
   "metadata": {
    "ExecuteTime": {
     "end_time": "2020-05-01T14:58:15.407547Z",
     "start_time": "2020-05-01T14:58:15.401565Z"
    },
    "hidden": true
   },
   "outputs": [],
   "source": [
    "model_r2 = r2_score(y_test, y_predict)\n",
    "print(\"R2 of the prediction is: {:.2}\".format(model_r2))"
   ]
  },
  {
   "cell_type": "code",
   "execution_count": null,
   "metadata": {
    "ExecuteTime": {
     "end_time": "2020-05-01T14:58:16.106981Z",
     "start_time": "2020-05-01T14:58:15.950373Z"
    },
    "hidden": true
   },
   "outputs": [],
   "source": [
    "# Grab the residuals & then call the hist() method\n",
    "(y_test - y_predict).hist(grid = False, color = 'Gold')\n",
    "plt.title(\"Model Residuals\")\n",
    "plt.show()"
   ]
  },
  {
   "cell_type": "code",
   "execution_count": null,
   "metadata": {
    "ExecuteTime": {
     "end_time": "2020-05-01T14:58:19.951524Z",
     "start_time": "2020-05-01T14:58:19.781935Z"
    },
    "hidden": true,
    "scrolled": true
   },
   "outputs": [],
   "source": [
    "# Plot outputs\n",
    "plt.scatter(x_test, y_test,  color='pink', label = '')\n",
    "plt.plot(x_test, y_predict, color='royalblue', linewidth = 3, linestyle= '-',label ='Regression Line')\n",
    "\n",
    "plt.title(\"Family_CatFleetSize VS Expenditure_12M_PartsNServices\")\n",
    "plt.xlabel(\"x\")\n",
    "plt.ylabel(\"y\")\n",
    "plt.legend()\n",
    "plt.show()\n",
    "\n",
    "# The coefficients\n",
    "print('Coefficient:' + '\\033[1m' + '{:.2}''\\033[0m'.format(single_regression_model.coef_[0][0]))\n",
    "\n",
    "# The mean squared error\n",
    "print('Mean squared error: ' + '\\033[1m' + '{:.4}''\\033[0m'.format(model_mse))\n",
    "\n",
    "# The mean squared error\n",
    "print('Root Mean squared error: ' + '\\033[1m' + '{:.4}''\\033[0m'.format(math.sqrt(model_mse)))\n",
    "\n",
    "# Explained variance score: 1 is perfect prediction\n",
    "print('R2 score: '+ '\\033[1m' + '{:.2}''\\033[0m'.format(r2_score(y_test,y_predict)))"
   ]
  },
  {
   "cell_type": "markdown",
   "metadata": {
    "heading_collapsed": true,
    "hidden": true
   },
   "source": [
    "### Test 19 Conclusion"
   ]
  },
  {
   "cell_type": "markdown",
   "metadata": {
    "heading_collapsed": true,
    "hidden": true
   },
   "source": [
    "## Test 20: x = Family_Expenditure_12M_Equipment y= Expenditure_12M_PartsNServices"
   ]
  },
  {
   "cell_type": "markdown",
   "metadata": {
    "heading_collapsed": true,
    "hidden": true
   },
   "source": [
    "### Test 20"
   ]
  },
  {
   "cell_type": "code",
   "execution_count": null,
   "metadata": {
    "ExecuteTime": {
     "end_time": "2020-05-01T14:58:06.823432Z",
     "start_time": "2020-05-01T14:58:06.803524Z"
    },
    "hidden": true
   },
   "outputs": [],
   "source": [
    "#Create subset data1 for testing ideal element\n",
    "test = data_dropna.loc[:, ['Family_Expenditure_12M_Equipment', 'Expenditure_12M_PartsNServices']]\n",
    "\n",
    "#remove extreme outliers:\n",
    "#If you have multiple columns in your dataframe and would like to remove all rows that have outliers in at least one column, \n",
    "#the following expression would do that in one shot: select absolute Z score for the row <1.65 (). .all or .any\n",
    "test_reduced_by_z = test[(np.abs(stats.zscore(test)) < 3).all(axis=1)]\n",
    "\n",
    "#define the x & y data\n",
    "x = test_reduced_by_z['Family_Expenditure_12M_Equipment']\n",
    "y = test_reduced_by_z['Expenditure_12M_PartsNServices']\n",
    "\n",
    "test_reduced_by_z.describe()"
   ]
  },
  {
   "cell_type": "code",
   "execution_count": null,
   "metadata": {
    "ExecuteTime": {
     "end_time": "2020-05-01T14:58:08.183643Z",
     "start_time": "2020-05-01T14:58:07.984444Z"
    },
    "hidden": true
   },
   "outputs": [],
   "source": [
    "#create the new scatter plot\n",
    "plt.plot(x,y,'o',color = 'pink', label = '')\n",
    "# add the column names as labels\n",
    "plt.title('X VS Y')\n",
    "plt.xlabel('X')\n",
    "plt.ylabel('Y')\n",
    "plt.legend()\n",
    "plt.show()"
   ]
  },
  {
   "cell_type": "code",
   "execution_count": null,
   "metadata": {
    "ExecuteTime": {
     "end_time": "2020-05-01T14:58:09.419514Z",
     "start_time": "2020-05-01T14:58:09.410538Z"
    },
    "hidden": true,
    "scrolled": false
   },
   "outputs": [],
   "source": [
    "test_reduced_by_z.corr()"
   ]
  },
  {
   "cell_type": "code",
   "execution_count": null,
   "metadata": {
    "ExecuteTime": {
     "end_time": "2020-05-01T14:58:10.206394Z",
     "start_time": "2020-05-01T14:58:10.182529Z"
    },
    "hidden": true,
    "scrolled": true
   },
   "outputs": [],
   "source": [
    "# define our input variable & output variable\n",
    "x = test_reduced_by_z[['Family_Expenditure_12M_Equipment']]\n",
    "y = test_reduced_by_z[['Expenditure_12M_PartsNServices']]\n",
    "\n",
    "# Split X and y into X_\n",
    "x_train, x_test, y_train, y_test = train_test_split(x, y, test_size=0.20, random_state=1)\n",
    "# create a Linear Regression model object.\n",
    "single_regression_model = LinearRegression()\n",
    "# pass through the X_train & y_train data set.\n",
    "single_regression_model.fit(x_train, y_train)\n",
    "# create OLS model for training data\n",
    "model = sm.OLS(y_train, x_train)\n",
    "# pass through the X_train & y_train data set.\n",
    "est = model.fit()\n",
    "print(est.summary())"
   ]
  },
  {
   "cell_type": "code",
   "execution_count": null,
   "metadata": {
    "ExecuteTime": {
     "end_time": "2020-05-01T14:58:11.890684Z",
     "start_time": "2020-05-01T14:58:11.882705Z"
    },
    "hidden": true
   },
   "outputs": [],
   "source": [
    "# make some confidence intervals, 95% by default.\n",
    "est.conf_int()"
   ]
  },
  {
   "cell_type": "code",
   "execution_count": null,
   "metadata": {
    "ExecuteTime": {
     "end_time": "2020-05-01T14:58:12.784166Z",
     "start_time": "2020-05-01T14:58:12.777213Z"
    },
    "hidden": true
   },
   "outputs": [],
   "source": [
    "# estimate the p-values\n",
    "est.pvalues"
   ]
  },
  {
   "cell_type": "code",
   "execution_count": null,
   "metadata": {
    "ExecuteTime": {
     "end_time": "2020-05-01T14:58:13.441404Z",
     "start_time": "2020-05-01T14:58:13.435421Z"
    },
    "hidden": true,
    "scrolled": true
   },
   "outputs": [],
   "source": [
    "# calculate and display intercept, coefficient\n",
    "intercept = single_regression_model.intercept_[0]\n",
    "coefficient = single_regression_model.coef_[0][0]\n",
    "# print out\n",
    "print(\"The Coefficient for training model is {:2}\".format(coefficient))\n",
    "print(\"The intercept for training model is {:4}\".format(intercept))"
   ]
  },
  {
   "cell_type": "code",
   "execution_count": null,
   "metadata": {
    "ExecuteTime": {
     "end_time": "2020-05-01T14:58:14.660501Z",
     "start_time": "2020-05-01T14:58:14.651528Z"
    },
    "hidden": true
   },
   "outputs": [],
   "source": [
    "# create prediction value and calculate errors\n",
    "y_predict = single_regression_model.predict(x_test)\n",
    "# calculate the mean squared error.\n",
    "model_mse = mean_squared_error(y_test, y_predict)\n",
    "# calculate the mean absolute error.\n",
    "model_mae = mean_absolute_error(y_test, y_predict)\n",
    "# calulcate the root mean squared error\n",
    "model_rmse =  math.sqrt(model_mse)\n",
    "# display the output\n",
    "print(\"MSE {:3}\".format(model_mse))\n",
    "print(\"MAE {:3}\".format(model_mae))\n",
    "print(\"RMSE {:3}\".format(model_rmse))"
   ]
  },
  {
   "cell_type": "code",
   "execution_count": null,
   "metadata": {
    "ExecuteTime": {
     "end_time": "2020-05-01T14:58:15.407547Z",
     "start_time": "2020-05-01T14:58:15.401565Z"
    },
    "hidden": true
   },
   "outputs": [],
   "source": [
    "model_r2 = r2_score(y_test, y_predict)\n",
    "print(\"R2 of the prediction is: {:.2}\".format(model_r2))"
   ]
  },
  {
   "cell_type": "code",
   "execution_count": null,
   "metadata": {
    "ExecuteTime": {
     "end_time": "2020-05-01T14:58:16.106981Z",
     "start_time": "2020-05-01T14:58:15.950373Z"
    },
    "hidden": true
   },
   "outputs": [],
   "source": [
    "# Grab the residuals & then call the hist() method\n",
    "(y_test - y_predict).hist(grid = False, color = 'Gold')\n",
    "plt.title(\"Model Residuals\")\n",
    "plt.show()"
   ]
  },
  {
   "cell_type": "code",
   "execution_count": null,
   "metadata": {
    "ExecuteTime": {
     "end_time": "2020-05-01T14:58:19.951524Z",
     "start_time": "2020-05-01T14:58:19.781935Z"
    },
    "hidden": true,
    "scrolled": true
   },
   "outputs": [],
   "source": [
    "# Plot outputs\n",
    "plt.scatter(x_test, y_test,  color='pink', label = '')\n",
    "plt.plot(x_test, y_predict, color='royalblue', linewidth = 3, linestyle= '-',label ='Regression Line')\n",
    "\n",
    "plt.title(\"Family_Expenditure_12M_Equipment VS Expenditure_12M_PartsNServices\")\n",
    "plt.xlabel(\"x\")\n",
    "plt.ylabel(\"y\")\n",
    "plt.legend()\n",
    "plt.show()\n",
    "\n",
    "# The coefficients\n",
    "print('Coefficient:' + '\\033[1m' + '{:.2}''\\033[0m'.format(single_regression_model.coef_[0][0]))\n",
    "\n",
    "# The mean squared error\n",
    "print('Mean squared error: ' + '\\033[1m' + '{:.4}''\\033[0m'.format(model_mse))\n",
    "\n",
    "# The mean squared error\n",
    "print('Root Mean squared error: ' + '\\033[1m' + '{:.4}''\\033[0m'.format(math.sqrt(model_mse)))\n",
    "\n",
    "# Explained variance score: 1 is perfect prediction\n",
    "print('R2 score: '+ '\\033[1m' + '{:.2}''\\033[0m'.format(r2_score(y_test,y_predict)))"
   ]
  },
  {
   "cell_type": "markdown",
   "metadata": {
    "heading_collapsed": true,
    "hidden": true
   },
   "source": [
    "### Test 20 conclusion"
   ]
  },
  {
   "cell_type": "markdown",
   "metadata": {
    "heading_collapsed": true,
    "hidden": true
   },
   "source": [
    "## Test 21: x = Family_Expenditure_12M_PartsNServices y= Expenditure_12M_PartsNServices"
   ]
  },
  {
   "cell_type": "markdown",
   "metadata": {
    "heading_collapsed": true,
    "hidden": true
   },
   "source": [
    "### Test 21"
   ]
  },
  {
   "cell_type": "code",
   "execution_count": null,
   "metadata": {
    "ExecuteTime": {
     "end_time": "2020-05-01T14:58:06.823432Z",
     "start_time": "2020-05-01T14:58:06.803524Z"
    },
    "hidden": true
   },
   "outputs": [],
   "source": [
    "#Create subset data1 for testing ideal element\n",
    "test = data_dropna.loc[:, ['Family_Expenditure_12M_PartsNServices', 'Expenditure_12M_PartsNServices']]\n",
    "\n",
    "#remove extreme outliers:\n",
    "#If you have multiple columns in your dataframe and would like to remove all rows that have outliers in at least one column, \n",
    "#the following expression would do that in one shot: select absolute Z score for the row <1.65 (). .all or .any\n",
    "test_reduced_by_z = test[(np.abs(stats.zscore(test)) < 3).all(axis=1)]\n",
    "\n",
    "#define the x & y data\n",
    "x = test_reduced_by_z['Family_Expenditure_12M_PartsNServices']\n",
    "y = test_reduced_by_z['Expenditure_12M_PartsNServices']\n",
    "\n",
    "test_reduced_by_z.describe()"
   ]
  },
  {
   "cell_type": "code",
   "execution_count": null,
   "metadata": {
    "ExecuteTime": {
     "end_time": "2020-05-01T14:58:08.183643Z",
     "start_time": "2020-05-01T14:58:07.984444Z"
    },
    "hidden": true
   },
   "outputs": [],
   "source": [
    "#create the new scatter plot\n",
    "plt.plot(x,y,'o',color = 'pink', label = '')\n",
    "# add the column names as labels\n",
    "plt.title('X VS Y')\n",
    "plt.xlabel('X')\n",
    "plt.ylabel('Y')\n",
    "plt.legend()\n",
    "plt.show()"
   ]
  },
  {
   "cell_type": "code",
   "execution_count": null,
   "metadata": {
    "ExecuteTime": {
     "end_time": "2020-05-01T14:58:09.419514Z",
     "start_time": "2020-05-01T14:58:09.410538Z"
    },
    "hidden": true,
    "scrolled": false
   },
   "outputs": [],
   "source": [
    "test_reduced_by_z.corr()"
   ]
  },
  {
   "cell_type": "code",
   "execution_count": null,
   "metadata": {
    "ExecuteTime": {
     "end_time": "2020-05-01T14:58:10.206394Z",
     "start_time": "2020-05-01T14:58:10.182529Z"
    },
    "hidden": true,
    "scrolled": true
   },
   "outputs": [],
   "source": [
    "# define our input variable & output variable\n",
    "x = test_reduced_by_z[['PartsDCAL']]\n",
    "y = test_reduced_by_z[['Expenditure_12M_PartsNServices']]\n",
    "\n",
    "# Split X and y into X_\n",
    "x_train, x_test, y_train, y_test = train_test_split(x, y, test_size=0.20, random_state=1)\n",
    "# create a Linear Regression model object.\n",
    "single_regression_model = LinearRegression()\n",
    "# pass through the X_train & y_train data set.\n",
    "single_regression_model.fit(x_train, y_train)\n",
    "# create OLS model for training data\n",
    "model = sm.OLS(y_train, x_train)\n",
    "# pass through the X_train & y_train data set.\n",
    "est = model.fit()\n",
    "print(est.summary())"
   ]
  },
  {
   "cell_type": "code",
   "execution_count": null,
   "metadata": {
    "ExecuteTime": {
     "end_time": "2020-05-01T14:58:11.890684Z",
     "start_time": "2020-05-01T14:58:11.882705Z"
    },
    "hidden": true
   },
   "outputs": [],
   "source": [
    "# make some confidence intervals, 95% by default.\n",
    "est.conf_int()"
   ]
  },
  {
   "cell_type": "code",
   "execution_count": null,
   "metadata": {
    "ExecuteTime": {
     "end_time": "2020-05-01T14:58:12.784166Z",
     "start_time": "2020-05-01T14:58:12.777213Z"
    },
    "hidden": true
   },
   "outputs": [],
   "source": [
    "# estimate the p-values\n",
    "est.pvalues"
   ]
  },
  {
   "cell_type": "code",
   "execution_count": null,
   "metadata": {
    "ExecuteTime": {
     "end_time": "2020-05-01T14:58:13.441404Z",
     "start_time": "2020-05-01T14:58:13.435421Z"
    },
    "hidden": true,
    "scrolled": true
   },
   "outputs": [],
   "source": [
    "# calculate and display intercept, coefficient\n",
    "intercept = single_regression_model.intercept_[0]\n",
    "coefficient = single_regression_model.coef_[0][0]\n",
    "# print out\n",
    "print(\"The Coefficient for training model is {:2}\".format(coefficient))\n",
    "print(\"The intercept for training model is {:4}\".format(intercept))"
   ]
  },
  {
   "cell_type": "code",
   "execution_count": null,
   "metadata": {
    "ExecuteTime": {
     "end_time": "2020-05-01T14:58:14.660501Z",
     "start_time": "2020-05-01T14:58:14.651528Z"
    },
    "hidden": true
   },
   "outputs": [],
   "source": [
    "# create prediction value and calculate errors\n",
    "y_predict = single_regression_model.predict(x_test)\n",
    "# calculate the mean squared error.\n",
    "model_mse = mean_squared_error(y_test, y_predict)\n",
    "# calculate the mean absolute error.\n",
    "model_mae = mean_absolute_error(y_test, y_predict)\n",
    "# calulcate the root mean squared error\n",
    "model_rmse =  math.sqrt(model_mse)\n",
    "# display the output\n",
    "print(\"MSE {:3}\".format(model_mse))\n",
    "print(\"MAE {:3}\".format(model_mae))\n",
    "print(\"RMSE {:3}\".format(model_rmse))"
   ]
  },
  {
   "cell_type": "code",
   "execution_count": null,
   "metadata": {
    "ExecuteTime": {
     "end_time": "2020-05-01T14:58:15.407547Z",
     "start_time": "2020-05-01T14:58:15.401565Z"
    },
    "hidden": true
   },
   "outputs": [],
   "source": [
    "model_r2 = r2_score(y_test, y_predict)\n",
    "print(\"R2 of the prediction is: {:.2}\".format(model_r2))"
   ]
  },
  {
   "cell_type": "code",
   "execution_count": null,
   "metadata": {
    "ExecuteTime": {
     "end_time": "2020-05-01T14:58:16.106981Z",
     "start_time": "2020-05-01T14:58:15.950373Z"
    },
    "hidden": true
   },
   "outputs": [],
   "source": [
    "# Grab the residuals & then call the hist() method\n",
    "(y_test - y_predict).hist(grid = False, color = 'Gold')\n",
    "plt.title(\"Model Residuals\")\n",
    "plt.show()"
   ]
  },
  {
   "cell_type": "code",
   "execution_count": null,
   "metadata": {
    "ExecuteTime": {
     "end_time": "2020-05-01T14:58:19.951524Z",
     "start_time": "2020-05-01T14:58:19.781935Z"
    },
    "hidden": true,
    "scrolled": true
   },
   "outputs": [],
   "source": [
    "# Plot outputs\n",
    "plt.scatter(x_test, y_test,  color='pink', label = '')\n",
    "plt.plot(x_test, y_predict, color='royalblue', linewidth = 3, linestyle= '-',label ='Regression Line')\n",
    "\n",
    "plt.title(\"Family_Expenditure_12M_PartsNServices VS Expenditure_12M_PartsNServices\")\n",
    "plt.xlabel(\"x\")\n",
    "plt.ylabel(\"y\")\n",
    "plt.legend()\n",
    "plt.show()\n",
    "\n",
    "# The coefficients\n",
    "print('Coefficient:' + '\\033[1m' + '{:.2}''\\033[0m'.format(single_regression_model.coef_[0][0]))\n",
    "\n",
    "# The mean squared error\n",
    "print('Mean squared error: ' + '\\033[1m' + '{:.4}''\\033[0m'.format(model_mse))\n",
    "\n",
    "# The mean squared error\n",
    "print('Root Mean squared error: ' + '\\033[1m' + '{:.4}''\\033[0m'.format(math.sqrt(model_mse)))\n",
    "\n",
    "# Explained variance score: 1 is perfect prediction\n",
    "print('R2 score: '+ '\\033[1m' + '{:.2}''\\033[0m'.format(r2_score(y_test,y_predict)))"
   ]
  },
  {
   "cell_type": "markdown",
   "metadata": {
    "heading_collapsed": true,
    "hidden": true
   },
   "source": [
    "### Test 21 Conclusion"
   ]
  },
  {
   "cell_type": "markdown",
   "metadata": {
    "ExecuteTime": {
     "end_time": "2020-04-30T20:29:15.147664Z",
     "start_time": "2020-04-30T20:29:15.143670Z"
    },
    "heading_collapsed": true
   },
   "source": [
    "# Next Steps"
   ]
  },
  {
   "cell_type": "markdown",
   "metadata": {
    "ExecuteTime": {
     "end_time": "2020-05-01T13:45:51.480892Z",
     "start_time": "2020-05-01T13:45:51.475909Z"
    },
    "heading_collapsed": true,
    "hidden": true
   },
   "source": [
    "## regularization"
   ]
  },
  {
   "cell_type": "markdown",
   "metadata": {
    "heading_collapsed": true,
    "hidden": true
   },
   "source": [
    "## Split dataset by POPS"
   ]
  }
 ],
 "metadata": {
  "kernelspec": {
   "display_name": "Python 3",
   "language": "python",
   "name": "python3"
  },
  "language_info": {
   "codemirror_mode": {
    "name": "ipython",
    "version": 3
   },
   "file_extension": ".py",
   "mimetype": "text/x-python",
   "name": "python",
   "nbconvert_exporter": "python",
   "pygments_lexer": "ipython3",
   "version": "3.7.6"
  },
  "varInspector": {
   "cols": {
    "lenName": 16,
    "lenType": 16,
    "lenVar": "100"
   },
   "kernels_config": {
    "python": {
     "delete_cmd_postfix": "",
     "delete_cmd_prefix": "del ",
     "library": "var_list.py",
     "varRefreshCmd": "print(var_dic_list())"
    },
    "r": {
     "delete_cmd_postfix": ") ",
     "delete_cmd_prefix": "rm(",
     "library": "var_list.r",
     "varRefreshCmd": "cat(var_dic_list()) "
    }
   },
   "position": {
    "height": "672px",
    "left": "341px",
    "right": "20px",
    "top": "175px",
    "width": "800px"
   },
   "types_to_exclude": [
    "module",
    "function",
    "builtin_function_or_method",
    "instance",
    "_Feature"
   ],
   "window_display": false
  },
  "widgets": {
   "application/vnd.jupyter.widget-state+json": {
    "state": {},
    "version_major": 2,
    "version_minor": 0
   }
  }
 },
 "nbformat": 4,
 "nbformat_minor": 2
}
