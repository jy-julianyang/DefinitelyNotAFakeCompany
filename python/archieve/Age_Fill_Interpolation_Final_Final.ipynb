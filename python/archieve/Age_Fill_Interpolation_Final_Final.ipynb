{
 "cells": [
  {
   "cell_type": "markdown",
   "metadata": {
    "heading_collapsed": true
   },
   "source": [
    "# Table of contents\n",
    "  Each section have libraries and data. Do not need to run altogether.\n",
    " #1. Exploration: \n",
    "    #1. Use scatter for SN2 vs Age to see trend\n",
    "    #2. Select and apply interp1d model (one serial at a time)\n",
    " #2. Testing with split for DBS and Delivery:\n",
    "    #1. Split population before entering loop\n",
    "    #2. Split by SN after entering loop\n",
    "    #3. Test smoothing kind linear vs nearest\n",
    " #3. Loop for batch estimate and check output\n",
    " #4. Export"
   ]
  },
  {
   "cell_type": "markdown",
   "metadata": {
    "ExecuteTime": {
     "end_time": "2020-05-21T13:39:00.253441Z",
     "start_time": "2020-05-21T13:39:00.249440Z"
    },
    "heading_collapsed": true
   },
   "source": [
    "#  Exploration"
   ]
  },
  {
   "cell_type": "code",
   "execution_count": null,
   "metadata": {
    "ExecuteTime": {
     "end_time": "2020-06-13T14:35:09.986197Z",
     "start_time": "2020-06-13T14:35:07.058547Z"
    },
    "hidden": true
   },
   "outputs": [],
   "source": [
    "import pandas as pd\n",
    "import seaborn as sns"
   ]
  },
  {
   "cell_type": "code",
   "execution_count": null,
   "metadata": {
    "ExecuteTime": {
     "end_time": "2020-06-13T14:35:26.967269Z",
     "start_time": "2020-06-13T14:35:10.001168Z"
    },
    "hidden": true
   },
   "outputs": [],
   "source": [
    "df = pd.read_excel('..\\\\data\\\\Equipment_Age_SQL_Export.xlsx', index_col='EquipmentCode')\n",
    "df.shape"
   ]
  },
  {
   "cell_type": "code",
   "execution_count": null,
   "metadata": {
    "ExecuteTime": {
     "end_time": "2020-06-13T14:35:27.025057Z",
     "start_time": "2020-06-13T14:35:26.999147Z"
    },
    "hidden": true,
    "scrolled": true
   },
   "outputs": [],
   "source": [
    "Prefix = list(dict.fromkeys(list(df['SN1'])))\n",
    "len(Prefix)"
   ]
  },
  {
   "cell_type": "code",
   "execution_count": null,
   "metadata": {
    "ExecuteTime": {
     "end_time": "2020-06-13T14:35:44.361677Z",
     "start_time": "2020-06-13T14:35:44.352693Z"
    },
    "hidden": true
   },
   "outputs": [],
   "source": [
    "#First play with Age_From_DBS. I need SN2 for matching and drop everything else for easier plotting.\n",
    "plt = df.drop(['SerialNumber','Territory','Model','SISModel'],axis=1)\n",
    "plt.columns"
   ]
  },
  {
   "cell_type": "code",
   "execution_count": null,
   "metadata": {
    "ExecuteTime": {
     "end_time": "2020-06-13T14:35:31.095734Z",
     "start_time": "2020-06-13T14:35:28.152005Z"
    },
    "hidden": true
   },
   "outputs": [],
   "source": [
    "plot = plt.drop(plt.index[plt.SN1 != 'BZY'])\n",
    "\n",
    "sns.pairplot(plot, kind='reg', diag_kind='hist',height=4, aspect=1,plot_kws={'scatter_kws': {'alpha': 0.7}})"
   ]
  },
  {
   "cell_type": "code",
   "execution_count": null,
   "metadata": {
    "ExecuteTime": {
     "end_time": "2020-06-13T14:36:08.792072Z",
     "start_time": "2020-06-13T14:36:06.440216Z"
    },
    "hidden": true
   },
   "outputs": [],
   "source": [
    "plot = plt.drop(plt.index[plt.SN1 != 'RKB'])\n",
    "\n",
    "sns.pairplot(plot, kind='reg', diag_kind='hist',height=4, aspect=1,plot_kws={'scatter_kws': {'alpha': 0.7}})"
   ]
  },
  {
   "cell_type": "code",
   "execution_count": null,
   "metadata": {
    "ExecuteTime": {
     "end_time": "2020-06-13T14:36:14.869215Z",
     "start_time": "2020-06-13T14:36:12.072581Z"
    },
    "hidden": true
   },
   "outputs": [],
   "source": [
    "plot = plt.drop(plt.index[plt.SN1 != 'FJH'])\n",
    "\n",
    "sns.pairplot(plot, kind='reg', diag_kind='hist',height=4, aspect=1,plot_kws={'scatter_kws': {'alpha': 0.7}})"
   ]
  },
  {
   "cell_type": "code",
   "execution_count": null,
   "metadata": {
    "ExecuteTime": {
     "end_time": "2020-06-13T14:36:39.198882Z",
     "start_time": "2020-06-13T14:36:36.723694Z"
    },
    "hidden": true
   },
   "outputs": [],
   "source": [
    "plot = plt.drop(plt.index[plt.SN1 != 'RZA'])\n",
    "\n",
    "sns.pairplot(plot, kind='reg', diag_kind='hist',height=4, aspect=1,plot_kws={'scatter_kws': {'alpha': 0.7}})"
   ]
  },
  {
   "cell_type": "code",
   "execution_count": null,
   "metadata": {
    "ExecuteTime": {
     "end_time": "2020-06-13T14:36:46.681806Z",
     "start_time": "2020-06-13T14:36:43.998936Z"
    },
    "hidden": true
   },
   "outputs": [],
   "source": [
    "plot = plt.drop(plt.index[plt.SN1 != 'TZA'])\n",
    "\n",
    "sns.pairplot(plot, kind='reg', diag_kind='hist',height=4, aspect=1,plot_kws={'scatter_kws': {'alpha': 0.7}})"
   ]
  },
  {
   "cell_type": "code",
   "execution_count": null,
   "metadata": {
    "ExecuteTime": {
     "end_time": "2020-06-13T14:36:54.789892Z",
     "start_time": "2020-06-13T14:36:52.541865Z"
    },
    "hidden": true
   },
   "outputs": [],
   "source": [
    "plot = plt.drop(plt.index[plt.SN1 != 'DFY'])\n",
    "\n",
    "sns.pairplot(plot, kind='reg', diag_kind='hist',height=4, aspect=1,plot_kws={'scatter_kws': {'alpha': 0.7}})"
   ]
  },
  {
   "cell_type": "markdown",
   "metadata": {
    "heading_collapsed": true
   },
   "source": [
    "# Model"
   ]
  },
  {
   "cell_type": "code",
   "execution_count": null,
   "metadata": {
    "hidden": true
   },
   "outputs": [],
   "source": [
    "import math\n",
    "import statsmodels.api as sm\n",
    "from sklearn.metrics import mean_squared_error, mean_absolute_error\n",
    "from sklearn.model_selection import train_test_split\n",
    "from scipy import interpolate\n",
    "from scipy.interpolate import *\n",
    "\n",
    "pd.options.display.max_rows = 20\n",
    "pd.options.display.max_columns = 10"
   ]
  },
  {
   "cell_type": "markdown",
   "metadata": {
    "hidden": true
   },
   "source": [
    "## DBS"
   ]
  },
  {
   "cell_type": "code",
   "execution_count": null,
   "metadata": {
    "ExecuteTime": {
     "end_time": "2020-06-13T14:56:45.736382Z",
     "start_time": "2020-06-13T14:56:45.679534Z"
    },
    "hidden": true
   },
   "outputs": [],
   "source": [
    "#Since we are filling missing data in a sequencial curce, I decided to use interpolation function to estimate cat production rate.\n",
    "DBS = df.drop(['SerialNumber','Territory','Model','SISModel','Age_In_Months_From_Delivery_DBS'],axis=1)\n",
    "BZY_DBS = DBS.drop(DBS.index[DBS.SN1 != 'BZY']).dropna()\n",
    "#Split\n",
    "Train_DBS, Test_DBS = train_test_split(BZY_DBS, test_size=0.1,random_state=50)\n",
    "#Transform\n",
    "X1 = Train_DBS[['SN2']].squeeze().astype(int)\n",
    "Y1 = Train_DBS[['Age_In_Months_From_DBS']].squeeze().astype(int)\n",
    "# Scipy learn interp1d. Data: DBS / Delivery. Kind: Linear / Nearest\n",
    "model_DBS_linear = interp1d(X1, Y1 ,kind='linear',bounds_error=0,fill_value=\"extrapolate\")\n",
    "model_DBS_nearest = interp1d(X1, Y1 ,kind='nearest',fill_value=\"extrapolate\")\n",
    "model_DBS_cubic = interp1d(X1, Y1 ,kind='cubic',fill_value=\"array-like \")"
   ]
  },
  {
   "cell_type": "code",
   "execution_count": null,
   "metadata": {
    "ExecuteTime": {
     "end_time": "2020-06-13T14:57:10.168990Z",
     "start_time": "2020-06-13T14:57:10.125051Z"
    },
    "hidden": true,
    "scrolled": false
   },
   "outputs": [],
   "source": [
    "#Use model to predict tesst\n",
    "for idx in Test_DBS.index.values:\n",
    "    Test_DBS.loc[idx, 'Predicted_Age_By_DBS_Linear'] = model_DBS_linear(Test_DBS.loc[idx, 'SN2'])\n",
    "    Test_DBS.loc[idx, 'Predicted_Age_By_DBS_Nearest'] = model_DBS_nearest(Test_DBS.loc[idx, 'SN2'])\n",
    "    Test_DBS.loc[idx, 'Predicted_Age_By_DBS_Cubic'] = model_DBS_cubic(Test_DBS.loc[idx, 'SN2'])"
   ]
  },
  {
   "cell_type": "code",
   "execution_count": null,
   "metadata": {
    "ExecuteTime": {
     "end_time": "2020-06-13T14:57:37.655856Z",
     "start_time": "2020-06-13T14:57:37.633948Z"
    },
    "hidden": true
   },
   "outputs": [],
   "source": [
    "#Check for DBS Age Prediction errors \n",
    "Y = Test_DBS[['Age_In_Months_From_DBS']]\n",
    "X_linear = Test_DBS[['Predicted_Age_By_DBS_Linear']]\n",
    "\n",
    "model_mse = mean_squared_error(Y, X_linear)\n",
    "model_mae = mean_absolute_error(Y, X_linear)\n",
    "model_rmse =  math.sqrt(model_mse)\n",
    "\n",
    "print(\"MSE for Linear {:3}\".format(model_mse))\n",
    "print(\"MAE for Linear {:3}\".format(model_mae))\n",
    "print(\"RMSE for Linear {:3}\".format(model_rmse))\n",
    "\n",
    "X_nearest = Test_DBS[['Predicted_Age_By_DBS_Nearest']]\n",
    "model_mse2 = mean_squared_error(Y, X_nearest)\n",
    "model_mae2 = mean_absolute_error(Y, X_nearest)\n",
    "model_rmse2 =  math.sqrt(model_mse)\n",
    "\n",
    "print(\"MSE for Nearest {:3}\".format(model_mse2))\n",
    "print(\"MAE for Nearest  {:3}\".format(model_mae2))\n",
    "print(\"RMSE for Nearest  {:3}\".format(model_rmse2))\n",
    "\n",
    "X_cubic = Test_DBS[['Predicted_Age_By_DBS_Cubic']]\n",
    "model_mse3 = mean_squared_error(Y, X_cubic)\n",
    "model_mae3 = mean_absolute_error(Y, X_cubic)\n",
    "model_rmse3 =  math.sqrt(model_mse)\n",
    "\n",
    "print(\"MSE for Cubic {:3}\".format(model_mse3))\n",
    "print(\"MAE for Cubic  {:3}\".format(model_mae3))\n",
    "print(\"RMSE for Cubic  {:3}\".format(model_rmse3))"
   ]
  },
  {
   "cell_type": "code",
   "execution_count": null,
   "metadata": {
    "ExecuteTime": {
     "end_time": "2020-06-13T14:43:06.458933Z",
     "start_time": "2020-06-13T14:43:06.189658Z"
    },
    "hidden": true
   },
   "outputs": [],
   "source": [
    "# Check prediction plot \"DBS / linear\"\n",
    "sns.regplot(x=\"Predicted_Age_By_DBS_Linear\", y=\"Age_In_Months_From_DBS\", data=Test_DBS)"
   ]
  },
  {
   "cell_type": "code",
   "execution_count": null,
   "metadata": {
    "ExecuteTime": {
     "end_time": "2020-06-13T14:43:10.086720Z",
     "start_time": "2020-06-13T14:43:09.851392Z"
    },
    "hidden": true
   },
   "outputs": [],
   "source": [
    "# Check prediction plot \"DBS / Nearest\"\n",
    "sns.regplot(x=\"Predicted_Age_By_DBS_Nearest\", y=\"Age_In_Months_From_DBS\", data=Test_DBS)"
   ]
  },
  {
   "cell_type": "code",
   "execution_count": null,
   "metadata": {
    "ExecuteTime": {
     "end_time": "2020-06-13T14:58:01.744489Z",
     "start_time": "2020-06-13T14:58:01.476208Z"
    },
    "hidden": true
   },
   "outputs": [],
   "source": [
    "# Check prediction plot \"DBS / Nearest\"\n",
    "sns.regplot(x=\"Predicted_Age_By_DBS_Cubic\", y=\"Age_In_Months_From_DBS\", data=Test_DBS)"
   ]
  },
  {
   "cell_type": "markdown",
   "metadata": {
    "heading_collapsed": true,
    "hidden": true
   },
   "source": [
    "## Delivery_DBS"
   ]
  },
  {
   "cell_type": "code",
   "execution_count": null,
   "metadata": {
    "ExecuteTime": {
     "end_time": "2020-06-13T15:01:25.144831Z",
     "start_time": "2020-06-13T15:01:25.091973Z"
    },
    "hidden": true
   },
   "outputs": [],
   "source": [
    "Delivery_DBS = df.drop(['SerialNumber','Territory','Model','SISModel','Age_In_Months_From_DBS'],axis=1)\n",
    "BZY_Delivery_DBS = Delivery_DBS.drop(Delivery_DBS.index[Delivery_DBS.SN1 != 'BZY']).dropna()\n",
    "\n",
    "Train_Delivery, Test_Delivery = train_test_split(BZY_Delivery_DBS, test_size=0.1,random_state=50)\n",
    "\n",
    "X2 = Train_Delivery[['SN2']].squeeze().astype(int)\n",
    "Y2 = Train_Delivery[['Age_In_Months_From_Delivery_DBS']].squeeze().astype(int)\n",
    "\n",
    "model_Delivery_linear = interp1d(X2, Y2 ,kind='linear',fill_value=\"extrapolate\")\n",
    "model_Delivery_nearest = interp1d(X2, Y2 ,kind='nearest',fill_value=\"extrapolate\")\n",
    "model_Delivery_cubic = interp1d(X1, Y1 ,kind='cubic',fill_value=\"array-like \")"
   ]
  },
  {
   "cell_type": "code",
   "execution_count": null,
   "metadata": {
    "ExecuteTime": {
     "end_time": "2020-06-13T15:01:25.910126Z",
     "start_time": "2020-06-13T15:01:25.837321Z"
    },
    "hidden": true
   },
   "outputs": [],
   "source": [
    "for idx in Test_Delivery.index.values:\n",
    "    Test_Delivery.loc[idx, 'Predicted_Age_By_Delivery_Linear'] = model_Delivery_linear(Test_Delivery.loc[idx, 'SN2'])\n",
    "    Test_Delivery.loc[idx, 'Predicted_Age_By_Delivery_Nearest'] = model_Delivery_nearest(Test_Delivery.loc[idx, 'SN2'])\n",
    "    Test_Delivery.loc[idx, 'Predicted_Age_By_Delivery_Cubic'] = model_Delivery_cubic(Test_Delivery.loc[idx, 'SN2'])"
   ]
  },
  {
   "cell_type": "code",
   "execution_count": null,
   "metadata": {
    "ExecuteTime": {
     "end_time": "2020-06-13T15:01:26.661005Z",
     "start_time": "2020-06-13T15:01:26.640063Z"
    },
    "hidden": true
   },
   "outputs": [],
   "source": [
    "#Check for DBS Age Prediction errors \n",
    "Y = Test_Delivery[['Age_In_Months_From_Delivery_DBS']]\n",
    "X_linear = Test_Delivery[['Predicted_Age_By_Delivery_Linear']]\n",
    "\n",
    "model_mse = mean_squared_error(Y, X_linear)\n",
    "model_mae = mean_absolute_error(Y, X_linear)\n",
    "model_rmse =  math.sqrt(model_mse)\n",
    "\n",
    "print(\"MSE for Linear {:3}\".format(model_mse))\n",
    "print(\"MAE for Linear {:3}\".format(model_mae))\n",
    "print(\"RMSE for Linear {:3}\".format(model_rmse))\n",
    "\n",
    "X_nearest = Test_Delivery[['Predicted_Age_By_Delivery_Nearest']]\n",
    "model_mse2 = mean_squared_error(Y, X_nearest)\n",
    "model_mae2 = mean_absolute_error(Y, X_nearest)\n",
    "model_rmse2 =  math.sqrt(model_mse)\n",
    "\n",
    "print(\"MSE for Nearest {:3}\".format(model_mse2))\n",
    "print(\"MAE for Nearest  {:3}\".format(model_mae2))\n",
    "print(\"RMSE for Nearest  {:3}\".format(model_rmse2))\n",
    "\n",
    "X_cubic = Test_Delivery[['Predicted_Age_By_Delivery_Nearest']]\n",
    "model_mse3 = mean_squared_error(Y, X_nearest)\n",
    "model_mae3 = mean_absolute_error(Y, X_nearest)\n",
    "model_rmse3 =  math.sqrt(model_mse)\n",
    "\n",
    "print(\"MSE for Cubic {:3}\".format(model_mse3))\n",
    "print(\"MAE for Cubic  {:3}\".format(model_mae3))\n",
    "print(\"RMSE for Cubic  {:3}\".format(model_rmse3))"
   ]
  },
  {
   "cell_type": "code",
   "execution_count": null,
   "metadata": {
    "ExecuteTime": {
     "end_time": "2020-06-13T15:01:32.785481Z",
     "start_time": "2020-06-13T15:01:32.511216Z"
    },
    "hidden": true,
    "scrolled": true
   },
   "outputs": [],
   "source": [
    "# Check prediction plot for \"Delivery / Linear\"\n",
    "sns.regplot(x=\"Predicted_Age_By_Delivery_Linear\", y=\"Age_In_Months_From_Delivery_DBS\", data=Test_Delivery)"
   ]
  },
  {
   "cell_type": "code",
   "execution_count": null,
   "metadata": {
    "ExecuteTime": {
     "end_time": "2020-06-13T15:01:34.589310Z",
     "start_time": "2020-06-13T15:01:34.338980Z"
    },
    "hidden": true,
    "scrolled": false
   },
   "outputs": [],
   "source": [
    "# Check prediction plot for \"Delivery / Linear\"\n",
    "sns.regplot(x=\"Predicted_Age_By_Delivery_Nearest\", y=\"Age_In_Months_From_Delivery_DBS\", data=Test_Delivery)"
   ]
  },
  {
   "cell_type": "code",
   "execution_count": null,
   "metadata": {
    "ExecuteTime": {
     "end_time": "2020-06-13T15:01:36.105971Z",
     "start_time": "2020-06-13T15:01:35.867609Z"
    },
    "hidden": true
   },
   "outputs": [],
   "source": [
    "# Check prediction plot\n",
    "sns.regplot(x=\"Predicted_Age_By_Delivery_Cubic\", y=\"Age_In_Months_From_Delivery_DBS\", data=Test_Delivery)"
   ]
  },
  {
   "cell_type": "markdown",
   "metadata": {
    "heading_collapsed": true
   },
   "source": [
    "# Testing"
   ]
  },
  {
   "cell_type": "code",
   "execution_count": null,
   "metadata": {
    "ExecuteTime": {
     "end_time": "2020-06-13T15:02:30.938956Z",
     "start_time": "2020-06-13T15:02:14.108658Z"
    },
    "hidden": true
   },
   "outputs": [],
   "source": [
    "import pandas as pd\n",
    "import seaborn as sns\n",
    "import math\n",
    "import statsmodels.api as sm\n",
    "from sklearn.metrics import mean_squared_error, mean_absolute_error\n",
    "from sklearn.model_selection import train_test_split\n",
    "from scipy import interpolate\n",
    "from scipy.interpolate import *\n",
    "\n",
    "df = pd.read_excel('..\\\\data\\\\Equipment_Age_SQL_Export.xlsx', index_col='EquipmentCode')\n",
    "Prefix = list(dict.fromkeys(list(df['SN1'])))"
   ]
  },
  {
   "cell_type": "code",
   "execution_count": null,
   "metadata": {
    "ExecuteTime": {
     "end_time": "2020-06-13T15:02:32.839874Z",
     "start_time": "2020-06-13T15:02:32.809955Z"
    },
    "hidden": true
   },
   "outputs": [],
   "source": [
    "#For testing step i don't need to concern with machines without age because i couldnt test them.\n",
    "\n",
    "data_DBS = df.drop(['SerialNumber','Territory','Model','SISModel','Age_In_Months_From_Delivery_DBS'],axis=1)\n",
    "data_Delivery = df.drop(['SerialNumber','Territory','Model','SISModel','Age_In_Months_From_DBS'],axis=1)\n",
    "\n",
    "#Actual Train / Test will be created inside the loop\n",
    "\n",
    "data_DBS_Train = data_DBS.dropna()\n",
    "data_Delivery_Train = data_Delivery.dropna()\n",
    "\n",
    "print('data_DBS_Train.shape',data_DBS_Train.shape)\n",
    "print('data_Delivery_Train',data_Delivery_Train.shape)"
   ]
  },
  {
   "cell_type": "markdown",
   "metadata": {
    "heading_collapsed": true,
    "hidden": true
   },
   "source": [
    "### DBS"
   ]
  },
  {
   "cell_type": "code",
   "execution_count": null,
   "metadata": {
    "ExecuteTime": {
     "end_time": "2020-06-13T16:12:36.635175Z",
     "start_time": "2020-06-13T16:11:19.836952Z"
    },
    "hidden": true,
    "scrolled": false
   },
   "outputs": [],
   "source": [
    "DBS_Results = pd.DataFrame()\n",
    "\n",
    "for serialnumberbeinglooped in Prefix:\n",
    "    Current_Train = data_DBS_Train.drop(data_DBS_Train.index[data_DBS_Train.SN1 != serialnumberbeinglooped])\n",
    "    if len(Current_Train) > 2 :\n",
    "        DBS_Train, DBS_Test = train_test_split(Current_Train, test_size=0.2,random_state=4)\n",
    "    \n",
    "        Current_Test = DBS_Test\n",
    "        X = DBS_Train[['SN2']].squeeze()\n",
    "        Y = DBS_Train[['Age_In_Months_From_DBS']].squeeze()\n",
    "        X = X.astype(int)\n",
    "        Y = Y.astype(int)\n",
    "        model = interp1d(X, Y ,kind='linear',bounds_error=0)\n",
    "\n",
    "        for idx in Current_Test.index.values:\n",
    "            DBS_Test.loc[idx, 'Predicted_Age_By_DBS'] = model(DBS_Test.loc[idx, 'SN2'])\n",
    "\n",
    "    DBS_Results = DBS_Results.append([DBS_Test])\n",
    "    DBS_Results = DBS_Results.drop_duplicates()"
   ]
  },
  {
   "cell_type": "code",
   "execution_count": null,
   "metadata": {
    "ExecuteTime": {
     "end_time": "2020-06-13T16:12:50.462126Z",
     "start_time": "2020-06-13T16:12:50.439186Z"
    },
    "hidden": true,
    "scrolled": true
   },
   "outputs": [],
   "source": [
    "DBS_Results.describe()"
   ]
  },
  {
   "cell_type": "code",
   "execution_count": null,
   "metadata": {
    "ExecuteTime": {
     "end_time": "2020-06-13T16:12:55.366263Z",
     "start_time": "2020-06-13T16:12:55.351251Z"
    },
    "hidden": true
   },
   "outputs": [],
   "source": [
    "error_check = DBS_Results.dropna()\n",
    "#Check for DBS Age Prediction errors \n",
    "Y = error_check[['Age_In_Months_From_DBS']]\n",
    "X= error_check[['Predicted_Age_By_DBS']]\n",
    "\n",
    "model_mse = mean_squared_error(Y, X)\n",
    "model_mae = mean_absolute_error(Y, X)\n",
    "model_rmse =  math.sqrt(model_mse)\n",
    "\n",
    "print(\"MSE {:3}\".format(model_mse))\n",
    "print(\"MAE {:3}\".format(model_mae))\n",
    "print(\"RMSE {:3}\".format(model_rmse))"
   ]
  },
  {
   "cell_type": "code",
   "execution_count": null,
   "metadata": {
    "ExecuteTime": {
     "end_time": "2020-06-13T16:13:02.245981Z",
     "start_time": "2020-06-13T16:13:01.532930Z"
    },
    "hidden": true
   },
   "outputs": [],
   "source": [
    "# Check prediction plot \"DBS / linear\"\n",
    "sns.regplot(X, Y)"
   ]
  },
  {
   "cell_type": "code",
   "execution_count": null,
   "metadata": {
    "ExecuteTime": {
     "end_time": "2020-06-13T16:14:38.144183Z",
     "start_time": "2020-06-13T16:14:38.110273Z"
    },
    "hidden": true
   },
   "outputs": [],
   "source": [
    "ols = sm.OLS(X,Y)\n",
    "est = ols.fit()\n",
    "print(est.summary())"
   ]
  },
  {
   "cell_type": "markdown",
   "metadata": {
    "heading_collapsed": true,
    "hidden": true
   },
   "source": [
    "### Delivery"
   ]
  },
  {
   "cell_type": "code",
   "execution_count": null,
   "metadata": {
    "ExecuteTime": {
     "end_time": "2020-06-13T16:19:19.492805Z",
     "start_time": "2020-06-13T16:18:05.700793Z"
    },
    "hidden": true,
    "scrolled": false
   },
   "outputs": [],
   "source": [
    "Delivery_Results = pd.DataFrame()\n",
    "\n",
    "for serialnumberbeinglooped in Prefix:\n",
    "    Current_Train = data_Delivery_Train.drop(data_Delivery_Train.index[data_Delivery_Train.SN1 != serialnumberbeinglooped])\n",
    "    if len(Current_Train) > 2 :\n",
    "        Delivery_Train, Delivery_Test = train_test_split(Current_Train, test_size=0.2,random_state=4)\n",
    "    \n",
    "        Current_Test = Delivery_Test\n",
    "        X = Delivery_Train[['SN2']].squeeze()\n",
    "        Y = Delivery_Train[['Age_In_Months_From_Delivery_DBS']].squeeze()\n",
    "        X = X.astype(int)\n",
    "        Y = Y.astype(int)\n",
    "        model = interp1d(X, Y ,kind='linear',bounds_error=0)\n",
    "\n",
    "        for idx in Current_Test.index.values:\n",
    "            Delivery_Test.loc[idx, 'Predicted_Age_By_Delivery'] = model(Delivery_Test.loc[idx, 'SN2'])\n",
    "\n",
    "    Delivery_Results = Delivery_Results.append([Delivery_Test])\n",
    "    Delivery_Results = Delivery_Results.drop_duplicates()"
   ]
  },
  {
   "cell_type": "code",
   "execution_count": null,
   "metadata": {
    "ExecuteTime": {
     "end_time": "2020-06-13T16:19:21.562732Z",
     "start_time": "2020-06-13T16:19:21.541787Z"
    },
    "hidden": true,
    "scrolled": true
   },
   "outputs": [],
   "source": [
    "Delivery_Results.describe()"
   ]
  },
  {
   "cell_type": "code",
   "execution_count": null,
   "metadata": {
    "ExecuteTime": {
     "end_time": "2020-06-13T16:19:24.950375Z",
     "start_time": "2020-06-13T16:19:24.936393Z"
    },
    "hidden": true
   },
   "outputs": [],
   "source": [
    "error_check = Delivery_Results.dropna()\n",
    "#Check for DBS Age Prediction errors \n",
    "Y = error_check[['Age_In_Months_From_Delivery_DBS']]\n",
    "X= error_check[['Predicted_Age_By_Delivery']]\n",
    "\n",
    "model_mse = mean_squared_error(Y, X)\n",
    "model_mae = mean_absolute_error(Y, X)\n",
    "model_rmse =  math.sqrt(model_mse)\n",
    "\n",
    "print(\"MSE {:3}\".format(model_mse))\n",
    "print(\"MAE {:3}\".format(model_mae))\n",
    "print(\"RMSE {:3}\".format(model_rmse))"
   ]
  },
  {
   "cell_type": "code",
   "execution_count": null,
   "metadata": {
    "ExecuteTime": {
     "end_time": "2020-06-13T16:19:27.490499Z",
     "start_time": "2020-06-13T16:19:26.709615Z"
    },
    "hidden": true
   },
   "outputs": [],
   "source": [
    "# Check prediction plot \"DBS / linear\"\n",
    "sns.regplot(X, Y)"
   ]
  },
  {
   "cell_type": "code",
   "execution_count": null,
   "metadata": {
    "ExecuteTime": {
     "end_time": "2020-06-13T16:19:28.668900Z",
     "start_time": "2020-06-13T16:19:28.653978Z"
    },
    "hidden": true
   },
   "outputs": [],
   "source": [
    "ols = sm.OLS(X,Y)\n",
    "est = ols.fit()\n",
    "print(est.summary())"
   ]
  },
  {
   "cell_type": "markdown",
   "metadata": {},
   "source": [
    "# Loop"
   ]
  },
  {
   "cell_type": "code",
   "execution_count": 1,
   "metadata": {
    "ExecuteTime": {
     "end_time": "2020-06-13T17:10:59.617128Z",
     "start_time": "2020-06-13T17:10:51.899368Z"
    }
   },
   "outputs": [],
   "source": [
    "import pandas as pd\n",
    "import seaborn as sns\n",
    "import math\n",
    "import statsmodels.api as sm\n",
    "from sklearn.metrics import mean_squared_error, mean_absolute_error\n",
    "from sklearn.model_selection import train_test_split\n",
    "from scipy import interpolate\n",
    "from scipy.interpolate import *"
   ]
  },
  {
   "cell_type": "code",
   "execution_count": 11,
   "metadata": {
    "ExecuteTime": {
     "end_time": "2020-06-13T17:12:45.175005Z",
     "start_time": "2020-06-13T17:12:39.875136Z"
    }
   },
   "outputs": [
    {
     "data": {
      "text/plain": [
       "Index(['SN1', 'SN2', 'Age_In_Months_From_DBS',\n",
       "       'Age_In_Months_From_Delivery_DBS'],\n",
       "      dtype='object')"
      ]
     },
     "execution_count": 11,
     "metadata": {},
     "output_type": "execute_result"
    }
   ],
   "source": [
    "df = pd.read_excel('..\\\\data\\\\Equipment_Age_SQL_Export.xlsx', index_col='EquipmentCode')\n",
    "Prefix = list(dict.fromkeys(list(df['SN1'])))\n",
    "df.columns"
   ]
  },
  {
   "cell_type": "code",
   "execution_count": 9,
   "metadata": {
    "ExecuteTime": {
     "end_time": "2020-06-13T17:12:33.950568Z",
     "start_time": "2020-06-13T17:12:33.893718Z"
    }
   },
   "outputs": [
    {
     "name": "stdout",
     "output_type": "stream",
     "text": [
      "(93289, 3)\n",
      "(93289, 3)\n",
      "(52129, 3)\n",
      "(52133, 3)\n",
      "(40637, 3)\n",
      "(40633, 3)\n",
      "(93289, 4)\n"
     ]
    }
   ],
   "source": [
    "#Seperate data by DBS and Delivery. They have different null fields so len might be different\n",
    "data_DBS = df.drop(['Age_In_Months_From_Delivery_DBS'],axis=1)\n",
    "data_Delivery = df.drop(['Age_In_Months_From_DBS'],axis=1)\n",
    "print(data_DBS.shape)\n",
    "print(data_Delivery.shape)\n",
    "#Training set should not contain nulls\n",
    "DBS_Train = data_DBS.dropna()\n",
    "Delivery_Train = data_Delivery.dropna()\n",
    "print(DBS_Train.shape)\n",
    "print(Delivery_Train.shape)\n",
    "#Estimate entire population\n",
    "DBS_Predict = data_DBS[pd.isnull(data_DBS['Age_In_Months_From_DBS'])]\n",
    "Delivery_Predict = data_DBS[pd.isnull(data_Delivery['Age_In_Months_From_Delivery_DBS'])]\n",
    "print(DBS_Predict.shape)\n",
    "print(Delivery_Predict.shape)\n",
    "#Blank results for appending later\n",
    "Results = df\n",
    "print(Results.shape)"
   ]
  },
  {
   "cell_type": "code",
   "execution_count": 13,
   "metadata": {
    "ExecuteTime": {
     "end_time": "2020-06-13T17:23:44.752291Z",
     "start_time": "2020-06-13T17:15:35.750732Z"
    },
    "scrolled": true
   },
   "outputs": [
    {
     "ename": "KeyboardInterrupt",
     "evalue": "",
     "output_type": "error",
     "traceback": [
      "\u001b[1;31m---------------------------------------------------------------------------\u001b[0m",
      "\u001b[1;31mKeyboardInterrupt\u001b[0m                         Traceback (most recent call last)",
      "\u001b[1;32m<ipython-input-13-7482d4cf3583>\u001b[0m in \u001b[0;36m<module>\u001b[1;34m\u001b[0m\n\u001b[0;32m     30\u001b[0m     \u001b[0mResults\u001b[0m \u001b[1;33m=\u001b[0m \u001b[0mResults\u001b[0m\u001b[1;33m.\u001b[0m\u001b[0mappend\u001b[0m\u001b[1;33m(\u001b[0m\u001b[1;33m[\u001b[0m\u001b[0mCurrent_DBS_Train\u001b[0m\u001b[1;33m]\u001b[0m\u001b[1;33m)\u001b[0m\u001b[1;33m\u001b[0m\u001b[1;33m\u001b[0m\u001b[0m\n\u001b[0;32m     31\u001b[0m     \u001b[0mResults\u001b[0m \u001b[1;33m=\u001b[0m \u001b[0mResults\u001b[0m\u001b[1;33m.\u001b[0m\u001b[0mappend\u001b[0m\u001b[1;33m(\u001b[0m\u001b[1;33m[\u001b[0m\u001b[0mCurrent_Delivery_Train\u001b[0m\u001b[1;33m]\u001b[0m\u001b[1;33m)\u001b[0m\u001b[1;33m\u001b[0m\u001b[1;33m\u001b[0m\u001b[0m\n\u001b[1;32m---> 32\u001b[1;33m     \u001b[0mResults\u001b[0m \u001b[1;33m=\u001b[0m \u001b[0mResults\u001b[0m\u001b[1;33m.\u001b[0m\u001b[0mdrop_duplicates\u001b[0m\u001b[1;33m(\u001b[0m\u001b[1;33m)\u001b[0m\u001b[1;33m\u001b[0m\u001b[1;33m\u001b[0m\u001b[0m\n\u001b[0m\u001b[0;32m     33\u001b[0m \u001b[0mprint\u001b[0m\u001b[1;33m(\u001b[0m\u001b[1;34m'Done'\u001b[0m\u001b[1;33m)\u001b[0m\u001b[1;33m\u001b[0m\u001b[1;33m\u001b[0m\u001b[0m\n",
      "\u001b[1;32m~\\AppData\\Local\\Continuum\\anaconda3\\lib\\site-packages\\pandas\\core\\frame.py\u001b[0m in \u001b[0;36mdrop_duplicates\u001b[1;34m(self, subset, keep, inplace)\u001b[0m\n\u001b[0;32m   4892\u001b[0m \u001b[1;33m\u001b[0m\u001b[0m\n\u001b[0;32m   4893\u001b[0m         \u001b[0minplace\u001b[0m \u001b[1;33m=\u001b[0m \u001b[0mvalidate_bool_kwarg\u001b[0m\u001b[1;33m(\u001b[0m\u001b[0minplace\u001b[0m\u001b[1;33m,\u001b[0m \u001b[1;34m\"inplace\"\u001b[0m\u001b[1;33m)\u001b[0m\u001b[1;33m\u001b[0m\u001b[1;33m\u001b[0m\u001b[0m\n\u001b[1;32m-> 4894\u001b[1;33m         \u001b[0mduplicated\u001b[0m \u001b[1;33m=\u001b[0m \u001b[0mself\u001b[0m\u001b[1;33m.\u001b[0m\u001b[0mduplicated\u001b[0m\u001b[1;33m(\u001b[0m\u001b[0msubset\u001b[0m\u001b[1;33m,\u001b[0m \u001b[0mkeep\u001b[0m\u001b[1;33m=\u001b[0m\u001b[0mkeep\u001b[0m\u001b[1;33m)\u001b[0m\u001b[1;33m\u001b[0m\u001b[1;33m\u001b[0m\u001b[0m\n\u001b[0m\u001b[0;32m   4895\u001b[0m \u001b[1;33m\u001b[0m\u001b[0m\n\u001b[0;32m   4896\u001b[0m         \u001b[1;32mif\u001b[0m \u001b[0minplace\u001b[0m\u001b[1;33m:\u001b[0m\u001b[1;33m\u001b[0m\u001b[1;33m\u001b[0m\u001b[0m\n",
      "\u001b[1;32m~\\AppData\\Local\\Continuum\\anaconda3\\lib\\site-packages\\pandas\\core\\frame.py\u001b[0m in \u001b[0;36mduplicated\u001b[1;34m(self, subset, keep)\u001b[0m\n\u001b[0;32m   4952\u001b[0m \u001b[1;33m\u001b[0m\u001b[0m\n\u001b[0;32m   4953\u001b[0m         \u001b[0mvals\u001b[0m \u001b[1;33m=\u001b[0m \u001b[1;33m(\u001b[0m\u001b[0mcol\u001b[0m\u001b[1;33m.\u001b[0m\u001b[0mvalues\u001b[0m \u001b[1;32mfor\u001b[0m \u001b[0mname\u001b[0m\u001b[1;33m,\u001b[0m \u001b[0mcol\u001b[0m \u001b[1;32min\u001b[0m \u001b[0mself\u001b[0m\u001b[1;33m.\u001b[0m\u001b[0mitems\u001b[0m\u001b[1;33m(\u001b[0m\u001b[1;33m)\u001b[0m \u001b[1;32mif\u001b[0m \u001b[0mname\u001b[0m \u001b[1;32min\u001b[0m \u001b[0msubset\u001b[0m\u001b[1;33m)\u001b[0m\u001b[1;33m\u001b[0m\u001b[1;33m\u001b[0m\u001b[0m\n\u001b[1;32m-> 4954\u001b[1;33m         \u001b[0mlabels\u001b[0m\u001b[1;33m,\u001b[0m \u001b[0mshape\u001b[0m \u001b[1;33m=\u001b[0m \u001b[0mmap\u001b[0m\u001b[1;33m(\u001b[0m\u001b[0mlist\u001b[0m\u001b[1;33m,\u001b[0m \u001b[0mzip\u001b[0m\u001b[1;33m(\u001b[0m\u001b[1;33m*\u001b[0m\u001b[0mmap\u001b[0m\u001b[1;33m(\u001b[0m\u001b[0mf\u001b[0m\u001b[1;33m,\u001b[0m \u001b[0mvals\u001b[0m\u001b[1;33m)\u001b[0m\u001b[1;33m)\u001b[0m\u001b[1;33m)\u001b[0m\u001b[1;33m\u001b[0m\u001b[1;33m\u001b[0m\u001b[0m\n\u001b[0m\u001b[0;32m   4955\u001b[0m \u001b[1;33m\u001b[0m\u001b[0m\n\u001b[0;32m   4956\u001b[0m         \u001b[0mids\u001b[0m \u001b[1;33m=\u001b[0m \u001b[0mget_group_index\u001b[0m\u001b[1;33m(\u001b[0m\u001b[0mlabels\u001b[0m\u001b[1;33m,\u001b[0m \u001b[0mshape\u001b[0m\u001b[1;33m,\u001b[0m \u001b[0msort\u001b[0m\u001b[1;33m=\u001b[0m\u001b[1;32mFalse\u001b[0m\u001b[1;33m,\u001b[0m \u001b[0mxnull\u001b[0m\u001b[1;33m=\u001b[0m\u001b[1;32mFalse\u001b[0m\u001b[1;33m)\u001b[0m\u001b[1;33m\u001b[0m\u001b[1;33m\u001b[0m\u001b[0m\n",
      "\u001b[1;32m~\\AppData\\Local\\Continuum\\anaconda3\\lib\\site-packages\\pandas\\core\\frame.py\u001b[0m in \u001b[0;36mf\u001b[1;34m(vals)\u001b[0m\n\u001b[0;32m   4930\u001b[0m         \u001b[1;32mdef\u001b[0m \u001b[0mf\u001b[0m\u001b[1;33m(\u001b[0m\u001b[0mvals\u001b[0m\u001b[1;33m)\u001b[0m\u001b[1;33m:\u001b[0m\u001b[1;33m\u001b[0m\u001b[1;33m\u001b[0m\u001b[0m\n\u001b[0;32m   4931\u001b[0m             labels, shape = algorithms.factorize(\n\u001b[1;32m-> 4932\u001b[1;33m                 \u001b[0mvals\u001b[0m\u001b[1;33m,\u001b[0m \u001b[0msize_hint\u001b[0m\u001b[1;33m=\u001b[0m\u001b[0mmin\u001b[0m\u001b[1;33m(\u001b[0m\u001b[0mlen\u001b[0m\u001b[1;33m(\u001b[0m\u001b[0mself\u001b[0m\u001b[1;33m)\u001b[0m\u001b[1;33m,\u001b[0m \u001b[0m_SIZE_HINT_LIMIT\u001b[0m\u001b[1;33m)\u001b[0m\u001b[1;33m\u001b[0m\u001b[1;33m\u001b[0m\u001b[0m\n\u001b[0m\u001b[0;32m   4933\u001b[0m             )\n\u001b[0;32m   4934\u001b[0m             \u001b[1;32mreturn\u001b[0m \u001b[0mlabels\u001b[0m\u001b[1;33m.\u001b[0m\u001b[0mastype\u001b[0m\u001b[1;33m(\u001b[0m\u001b[1;34m\"i8\"\u001b[0m\u001b[1;33m,\u001b[0m \u001b[0mcopy\u001b[0m\u001b[1;33m=\u001b[0m\u001b[1;32mFalse\u001b[0m\u001b[1;33m)\u001b[0m\u001b[1;33m,\u001b[0m \u001b[0mlen\u001b[0m\u001b[1;33m(\u001b[0m\u001b[0mshape\u001b[0m\u001b[1;33m)\u001b[0m\u001b[1;33m\u001b[0m\u001b[1;33m\u001b[0m\u001b[0m\n",
      "\u001b[1;32m~\\AppData\\Local\\Continuum\\anaconda3\\lib\\site-packages\\pandas\\util\\_decorators.py\u001b[0m in \u001b[0;36mwrapper\u001b[1;34m(*args, **kwargs)\u001b[0m\n\u001b[0;32m    206\u001b[0m                 \u001b[1;32melse\u001b[0m\u001b[1;33m:\u001b[0m\u001b[1;33m\u001b[0m\u001b[1;33m\u001b[0m\u001b[0m\n\u001b[0;32m    207\u001b[0m                     \u001b[0mkwargs\u001b[0m\u001b[1;33m[\u001b[0m\u001b[0mnew_arg_name\u001b[0m\u001b[1;33m]\u001b[0m \u001b[1;33m=\u001b[0m \u001b[0mnew_arg_value\u001b[0m\u001b[1;33m\u001b[0m\u001b[1;33m\u001b[0m\u001b[0m\n\u001b[1;32m--> 208\u001b[1;33m             \u001b[1;32mreturn\u001b[0m \u001b[0mfunc\u001b[0m\u001b[1;33m(\u001b[0m\u001b[1;33m*\u001b[0m\u001b[0margs\u001b[0m\u001b[1;33m,\u001b[0m \u001b[1;33m**\u001b[0m\u001b[0mkwargs\u001b[0m\u001b[1;33m)\u001b[0m\u001b[1;33m\u001b[0m\u001b[1;33m\u001b[0m\u001b[0m\n\u001b[0m\u001b[0;32m    209\u001b[0m \u001b[1;33m\u001b[0m\u001b[0m\n\u001b[0;32m    210\u001b[0m         \u001b[1;32mreturn\u001b[0m \u001b[0mwrapper\u001b[0m\u001b[1;33m\u001b[0m\u001b[1;33m\u001b[0m\u001b[0m\n",
      "\u001b[1;32m~\\AppData\\Local\\Continuum\\anaconda3\\lib\\site-packages\\pandas\\core\\algorithms.py\u001b[0m in \u001b[0;36mfactorize\u001b[1;34m(values, sort, order, na_sentinel, size_hint)\u001b[0m\n\u001b[0;32m    670\u001b[0m \u001b[1;33m\u001b[0m\u001b[0m\n\u001b[0;32m    671\u001b[0m         labels, uniques = _factorize_array(\n\u001b[1;32m--> 672\u001b[1;33m             \u001b[0mvalues\u001b[0m\u001b[1;33m,\u001b[0m \u001b[0mna_sentinel\u001b[0m\u001b[1;33m=\u001b[0m\u001b[0mna_sentinel\u001b[0m\u001b[1;33m,\u001b[0m \u001b[0msize_hint\u001b[0m\u001b[1;33m=\u001b[0m\u001b[0msize_hint\u001b[0m\u001b[1;33m,\u001b[0m \u001b[0mna_value\u001b[0m\u001b[1;33m=\u001b[0m\u001b[0mna_value\u001b[0m\u001b[1;33m\u001b[0m\u001b[1;33m\u001b[0m\u001b[0m\n\u001b[0m\u001b[0;32m    673\u001b[0m         )\n\u001b[0;32m    674\u001b[0m \u001b[1;33m\u001b[0m\u001b[0m\n",
      "\u001b[1;32m~\\AppData\\Local\\Continuum\\anaconda3\\lib\\site-packages\\pandas\\core\\algorithms.py\u001b[0m in \u001b[0;36m_factorize_array\u001b[1;34m(values, na_sentinel, size_hint, na_value)\u001b[0m\n\u001b[0;32m    506\u001b[0m     \u001b[0mtable\u001b[0m \u001b[1;33m=\u001b[0m \u001b[0mhash_klass\u001b[0m\u001b[1;33m(\u001b[0m\u001b[0msize_hint\u001b[0m \u001b[1;32mor\u001b[0m \u001b[0mlen\u001b[0m\u001b[1;33m(\u001b[0m\u001b[0mvalues\u001b[0m\u001b[1;33m)\u001b[0m\u001b[1;33m)\u001b[0m\u001b[1;33m\u001b[0m\u001b[1;33m\u001b[0m\u001b[0m\n\u001b[0;32m    507\u001b[0m     uniques, labels = table.factorize(\n\u001b[1;32m--> 508\u001b[1;33m         \u001b[0mvalues\u001b[0m\u001b[1;33m,\u001b[0m \u001b[0mna_sentinel\u001b[0m\u001b[1;33m=\u001b[0m\u001b[0mna_sentinel\u001b[0m\u001b[1;33m,\u001b[0m \u001b[0mna_value\u001b[0m\u001b[1;33m=\u001b[0m\u001b[0mna_value\u001b[0m\u001b[1;33m\u001b[0m\u001b[1;33m\u001b[0m\u001b[0m\n\u001b[0m\u001b[0;32m    509\u001b[0m     )\n\u001b[0;32m    510\u001b[0m \u001b[1;33m\u001b[0m\u001b[0m\n",
      "\u001b[1;32mpandas\\_libs\\hashtable_class_helper.pxi\u001b[0m in \u001b[0;36mpandas._libs.hashtable.Float64HashTable.factorize\u001b[1;34m()\u001b[0m\n",
      "\u001b[1;32mpandas\\_libs\\hashtable_class_helper.pxi\u001b[0m in \u001b[0;36mpandas._libs.hashtable.Float64HashTable._unique\u001b[1;34m()\u001b[0m\n",
      "\u001b[1;32m~\\AppData\\Local\\Continuum\\anaconda3\\lib\\site-packages\\numpy\\core\\numeric.py\u001b[0m in \u001b[0;36masarray\u001b[1;34m(a, dtype, order)\u001b[0m\n\u001b[0;32m    467\u001b[0m \u001b[1;33m\u001b[0m\u001b[0m\n\u001b[0;32m    468\u001b[0m \u001b[1;33m\u001b[0m\u001b[0m\n\u001b[1;32m--> 469\u001b[1;33m \u001b[1;33m@\u001b[0m\u001b[0mset_module\u001b[0m\u001b[1;33m(\u001b[0m\u001b[1;34m'numpy'\u001b[0m\u001b[1;33m)\u001b[0m\u001b[1;33m\u001b[0m\u001b[1;33m\u001b[0m\u001b[0m\n\u001b[0m\u001b[0;32m    470\u001b[0m \u001b[1;32mdef\u001b[0m \u001b[0masarray\u001b[0m\u001b[1;33m(\u001b[0m\u001b[0ma\u001b[0m\u001b[1;33m,\u001b[0m \u001b[0mdtype\u001b[0m\u001b[1;33m=\u001b[0m\u001b[1;32mNone\u001b[0m\u001b[1;33m,\u001b[0m \u001b[0morder\u001b[0m\u001b[1;33m=\u001b[0m\u001b[1;32mNone\u001b[0m\u001b[1;33m)\u001b[0m\u001b[1;33m:\u001b[0m\u001b[1;33m\u001b[0m\u001b[1;33m\u001b[0m\u001b[0m\n\u001b[0;32m    471\u001b[0m     \"\"\"Convert the input to an array.\n",
      "\u001b[1;31mKeyboardInterrupt\u001b[0m: "
     ]
    }
   ],
   "source": [
    "for x in Prefix:\n",
    "    Current_DBS_Train = DBS_Train.drop(DBS_Train.index[DBS_Train.SN1 != x])\n",
    "    Current_DBS_Train = Current_DBS_Train.dropna()  \n",
    "    Current_DBS_Predict = DBS_Predict.drop(DBS_Predict.index[DBS_Predict.SN1 != x])    \n",
    "    if len(Current_DBS_Train) > 2 :\n",
    "        X = Current_DBS_Train[['SN2']].squeeze()\n",
    "        Y = Current_DBS_Train[['Age_In_Months_From_DBS']].squeeze()\n",
    "        X = X.astype(int)\n",
    "        Y = Y.astype(int)\n",
    "        model_DBS = interp1d(X, Y,kind='linear',bounds_error=0)\n",
    "        for idx in Current_DBS_Predict.index.values:\n",
    "            Current_DBS_Predict.loc[idx, 'Predicted_Age_By_DBS'] = model_DBS(Current_DBS_Predict.loc[idx, 'SN2'])\n",
    "        for idx in Current_DBS_Train.index.values:\n",
    "            Current_DBS_Train.loc[idx, 'Predicted_Age_By_DBS'] = Current_DBS_Train.loc[idx, 'Age_In_Months_From_DBS']\n",
    "    Current_Delivery_Train = Delivery_Train.drop(Delivery_Train.index[Delivery_Train.SN1 != x])\n",
    "    Current_Delivery_Train = Current_Delivery_Train.dropna()\n",
    "    Current_Delivery_Predict = Delivery_Predict.drop(Delivery_Predict.index[Delivery_Predict.SN1 != x])    \n",
    "    if len(Current_Delivery_Train) > 2 :\n",
    "        X2 = Current_Delivery_Train[['SN2']].squeeze()\n",
    "        Y2 = Current_Delivery_Train[['Age_In_Months_From_Delivery_DBS']].squeeze()\n",
    "        X2 = X2.astype(int)\n",
    "        Y2 = Y2.astype(int)       \n",
    "        model_Delivery = interp1d(X2, Y2,kind='linear',bounds_error=0)\n",
    "        for idx in Current_Delivery_Predict.index.values:\n",
    "            Current_Delivery_Predict.loc[idx, 'Predicted_Age_By_Delivery'] = model_Delivery(Current_Delivery_Predict.loc[idx, 'SN2'])\n",
    "        for idx in Current_Delivery_Train.index.values:\n",
    "            Current_Delivery_Train.loc[idx, 'Predicted_Age_By_Delivery'] = Current_Delivery_Train.loc[idx, 'Age_In_Months_From_Delivery_DBS']\n",
    "    Results = Results.append([Current_DBS_Predict])\n",
    "    Results = Results.append([Current_Delivery_Predict])\n",
    "    Results = Results.append([Current_DBS_Train])\n",
    "    Results = Results.append([Current_Delivery_Train])\n",
    "    Results = Results.drop_duplicates()    \n",
    "print('Done')"
   ]
  },
  {
   "cell_type": "code",
   "execution_count": 60,
   "metadata": {
    "ExecuteTime": {
     "end_time": "2020-06-13T17:08:01.907999Z",
     "start_time": "2020-06-13T17:08:01.861086Z"
    }
   },
   "outputs": [
    {
     "data": {
      "text/html": [
       "<div>\n",
       "<style scoped>\n",
       "    .dataframe tbody tr th:only-of-type {\n",
       "        vertical-align: middle;\n",
       "    }\n",
       "\n",
       "    .dataframe tbody tr th {\n",
       "        vertical-align: top;\n",
       "    }\n",
       "\n",
       "    .dataframe thead th {\n",
       "        text-align: right;\n",
       "    }\n",
       "</style>\n",
       "<table border=\"1\" class=\"dataframe\">\n",
       "  <thead>\n",
       "    <tr style=\"text-align: right;\">\n",
       "      <th></th>\n",
       "      <th>Age_In_Months_From_DBS</th>\n",
       "      <th>Predicted_Age_By_DBS_Nearest</th>\n",
       "      <th>Predicted_Age_By_Delivery_Nearest</th>\n",
       "      <th>SN2</th>\n",
       "      <th>Territory</th>\n",
       "    </tr>\n",
       "  </thead>\n",
       "  <tbody>\n",
       "    <tr>\n",
       "      <td>count</td>\n",
       "      <td>0.0</td>\n",
       "      <td>34350.000000</td>\n",
       "      <td>34356.000000</td>\n",
       "      <td>74405.000000</td>\n",
       "      <td>74993.000000</td>\n",
       "    </tr>\n",
       "    <tr>\n",
       "      <td>mean</td>\n",
       "      <td>NaN</td>\n",
       "      <td>209.664203</td>\n",
       "      <td>209.043744</td>\n",
       "      <td>2807.465802</td>\n",
       "      <td>0.882842</td>\n",
       "    </tr>\n",
       "    <tr>\n",
       "      <td>std</td>\n",
       "      <td>NaN</td>\n",
       "      <td>155.084358</td>\n",
       "      <td>155.413620</td>\n",
       "      <td>5440.654581</td>\n",
       "      <td>0.321610</td>\n",
       "    </tr>\n",
       "    <tr>\n",
       "      <td>min</td>\n",
       "      <td>NaN</td>\n",
       "      <td>0.000000</td>\n",
       "      <td>0.000000</td>\n",
       "      <td>0.000000</td>\n",
       "      <td>0.000000</td>\n",
       "    </tr>\n",
       "    <tr>\n",
       "      <td>25%</td>\n",
       "      <td>NaN</td>\n",
       "      <td>96.000000</td>\n",
       "      <td>91.078416</td>\n",
       "      <td>559.000000</td>\n",
       "      <td>1.000000</td>\n",
       "    </tr>\n",
       "    <tr>\n",
       "      <td>50%</td>\n",
       "      <td>NaN</td>\n",
       "      <td>168.000000</td>\n",
       "      <td>168.000000</td>\n",
       "      <td>1249.000000</td>\n",
       "      <td>1.000000</td>\n",
       "    </tr>\n",
       "    <tr>\n",
       "      <td>75%</td>\n",
       "      <td>NaN</td>\n",
       "      <td>300.000000</td>\n",
       "      <td>300.000000</td>\n",
       "      <td>2864.000000</td>\n",
       "      <td>1.000000</td>\n",
       "    </tr>\n",
       "    <tr>\n",
       "      <td>max</td>\n",
       "      <td>NaN</td>\n",
       "      <td>912.369657</td>\n",
       "      <td>912.369657</td>\n",
       "      <td>99999.000000</td>\n",
       "      <td>1.000000</td>\n",
       "    </tr>\n",
       "  </tbody>\n",
       "</table>\n",
       "</div>"
      ],
      "text/plain": [
       "       Age_In_Months_From_DBS  Predicted_Age_By_DBS_Nearest  \\\n",
       "count                     0.0                  34350.000000   \n",
       "mean                      NaN                    209.664203   \n",
       "std                       NaN                    155.084358   \n",
       "min                       NaN                      0.000000   \n",
       "25%                       NaN                     96.000000   \n",
       "50%                       NaN                    168.000000   \n",
       "75%                       NaN                    300.000000   \n",
       "max                       NaN                    912.369657   \n",
       "\n",
       "       Predicted_Age_By_Delivery_Nearest           SN2     Territory  \n",
       "count                       34356.000000  74405.000000  74993.000000  \n",
       "mean                          209.043744   2807.465802      0.882842  \n",
       "std                           155.413620   5440.654581      0.321610  \n",
       "min                             0.000000      0.000000      0.000000  \n",
       "25%                            91.078416    559.000000      1.000000  \n",
       "50%                           168.000000   1249.000000      1.000000  \n",
       "75%                           300.000000   2864.000000      1.000000  \n",
       "max                           912.369657  99999.000000      1.000000  "
      ]
     },
     "execution_count": 60,
     "metadata": {},
     "output_type": "execute_result"
    }
   ],
   "source": [
    "Results.describe()"
   ]
  },
  {
   "cell_type": "code",
   "execution_count": null,
   "metadata": {
    "ExecuteTime": {
     "end_time": "2020-05-26T12:51:19.039852Z",
     "start_time": "2020-05-26T12:51:18.990978Z"
    }
   },
   "outputs": [],
   "source": [
    "check_for_null_dbs_prediction = Results.drop(['Predicted_Age_By_DBS'],axis=1)\n",
    "check_for_null_dbs_prediction = check_for_null_dbs_prediction.dropna()\n",
    "print('Could not estimate DBS Age:',len(DBS_Results) - len(check_for_null_dbs_prediction))\n",
    "\n",
    "check_for_null_delivery_prediction = Results.drop(['Predicted_Age_By_Delivery'],axis=1)\n",
    "check_for_null_delivery_prediction = check_for_null_delivery_prediction.dropna()\n",
    "print('Could not estimate Delivery Age:',len(df) - len(check_for_null_delivery_prediction))"
   ]
  },
  {
   "cell_type": "code",
   "execution_count": null,
   "metadata": {},
   "outputs": [],
   "source": [
    "#Seperate data by DBS and Delivery. They have different null fields so len might be different\n",
    "data_DBS = Results.drop(['Predicted_Age_By_Delivery','Age_In_Months_From_DBS','Age_In_Months_From_Delivery_DBS'],axis=1)\n",
    "data_Delivery = df.drop(['Predicted_Age_By_DBS','Age_In_Months_From_DBS','Age_In_Months_From_Delivery_DBS'],axis=1)\n",
    "print(data_DBS.shape)\n",
    "print(data_Delivery.shape)\n",
    "#Training set should not contain nulls\n",
    "DBS_Train = data_DBS.dropna()\n",
    "Delivery_Train = data_Delivery.dropna()\n",
    "print(DBS_Train.shape)\n",
    "print(Delivery_Train.shape)\n",
    "#Estimate entire population\n",
    "DBS_Predict = data_DBS[pd.isnull(data_DBS['Predicted_Age_By_DBS'])]\n",
    "Delivery_Predict = data_DBS[pd.isnull(data_Delivery['Predicted_Age_By_Delivery'])]\n",
    "print(DBS_Predict.shape)\n",
    "print(Delivery_Predict.shape)\n",
    "#Blank results for appending later\n",
    "Results = df\n",
    "print(Results.shape)"
   ]
  },
  {
   "cell_type": "code",
   "execution_count": null,
   "metadata": {},
   "outputs": [],
   "source": [
    "for x in Prefix:\n",
    "    Current_DBS_Train = DBS_Train.drop(DBS_Train.index[DBS_Train.SN1 != x])\n",
    "    Current_DBS_Train = Current_DBS_Train.dropna()  \n",
    "    Current_DBS_Predict = DBS_Predict.drop(DBS_Predict.index[DBS_Predict.SN1 != x])    \n",
    "    if len(Current_DBS_Train) > 2 :\n",
    "        X = Current_DBS_Train[['SN2']].squeeze()\n",
    "        Y = Current_DBS_Train[['Predicted_Age_By_DBS']].squeeze()\n",
    "        X = X.astype(int)\n",
    "        Y = Y.astype(int)\n",
    "        model_DBS = interp1d(X, Y,kind='nearest',bounds_error=0,fill_type='extrapolate')\n",
    "        for idx in Current_DBS_Predict.index.values:\n",
    "            Current_DBS_Predict.loc[idx, 'Predicted_Age_By_DBS'] = model_DBS(Current_DBS_Predict.loc[idx, 'SN2'])\n",
    "    \n",
    "    Current_Delivery_Train = Delivery_Train.drop(Delivery_Train.index[Delivery_Train.SN1 != x])\n",
    "    Current_Delivery_Train = Current_Delivery_Train.dropna()\n",
    "    Current_Delivery_Predict = Delivery_Predict.drop(Delivery_Predict.index[Delivery_Predict.SN1 != x])    \n",
    "    if len(Current_Delivery_Train) > 2 :\n",
    "        X2 = Current_Delivery_Train[['SN2']].squeeze()\n",
    "        Y2 = Current_Delivery_Train[['Age_In_Months_From_Delivery_DBS']].squeeze()\n",
    "        X2 = X2.astype(int)\n",
    "        Y2 = Y2.astype(int)       \n",
    "        model_Delivery = interp1d(X2, Y2,kind='nearest',bounds_error=0,fill_type='extrapolate')\n",
    "        for idx in Current_Delivery_Train.index.values:\n",
    "            Current_Delivery_Train.loc[idx, 'Predicted_Age_By_Delivery'] = Current_Delivery_Train.loc[idx, 'Age_In_Months_From_Delivery_DBS']\n",
    "\n",
    "    Results = Results.append([Current_DBS_Predict])\n",
    "    Results = Results.append([Current_Delivery_Predict])\n",
    "    Results = Results.drop_duplicates()    \n",
    "print('Done')"
   ]
  },
  {
   "cell_type": "markdown",
   "metadata": {
    "heading_collapsed": true
   },
   "source": [
    "# Export"
   ]
  },
  {
   "cell_type": "code",
   "execution_count": null,
   "metadata": {
    "ExecuteTime": {
     "end_time": "2020-05-26T12:59:01.897720Z",
     "start_time": "2020-05-26T12:59:01.889742Z"
    },
    "hidden": true
   },
   "outputs": [],
   "source": [
    "Bruce_Export = DBS_Results\n",
    "Bruce_Export.shape"
   ]
  },
  {
   "cell_type": "code",
   "execution_count": null,
   "metadata": {
    "ExecuteTime": {
     "end_time": "2020-05-26T12:59:02.556964Z",
     "start_time": "2020-05-26T12:59:02.516069Z"
    },
    "hidden": true
   },
   "outputs": [],
   "source": [
    "Bruce_Export = Bruce_Export.drop(Bruce_Export.index[Bruce_Export.Age_In_Months_From_DBS > 120])\n",
    "Bruce_Export = Bruce_Export.drop(Bruce_Export.index[Bruce_Export.Predicted_Age_By_DBS_Nearest > 120])\n",
    "Bruce_Export.shape"
   ]
  },
  {
   "cell_type": "code",
   "execution_count": null,
   "metadata": {
    "ExecuteTime": {
     "end_time": "2020-05-26T12:59:03.740801Z",
     "start_time": "2020-05-26T12:59:03.726868Z"
    },
    "hidden": true
   },
   "outputs": [],
   "source": [
    "Bruce_Export = Bruce_Export.drop(Bruce_Export.index[Bruce_Export.Territory != 1])\n",
    "Bruce_Export.shape"
   ]
  },
  {
   "cell_type": "code",
   "execution_count": null,
   "metadata": {
    "ExecuteTime": {
     "end_time": "2020-05-26T12:59:04.599548Z",
     "start_time": "2020-05-26T12:59:04.590533Z"
    },
    "hidden": true
   },
   "outputs": [],
   "source": [
    "Bruce_Export = Bruce_Export[Bruce_Export.Predicted_Age_By_DBS_Nearest.notnull()]\n",
    "\n",
    "Bruce_Export.shape"
   ]
  },
  {
   "cell_type": "code",
   "execution_count": null,
   "metadata": {
    "ExecuteTime": {
     "end_time": "2020-05-26T12:59:05.434282Z",
     "start_time": "2020-05-26T12:59:05.429295Z"
    },
    "hidden": true
   },
   "outputs": [],
   "source": [
    "Bruce_Export.columns"
   ]
  },
  {
   "cell_type": "code",
   "execution_count": null,
   "metadata": {
    "ExecuteTime": {
     "end_time": "2020-05-26T12:59:06.300925Z",
     "start_time": "2020-05-26T12:59:06.292941Z"
    },
    "hidden": true
   },
   "outputs": [],
   "source": [
    "Bruce_Export = Bruce_Export.drop(['SN1','SN2','Territory'\n",
    "                   ],axis=1)\n",
    "Bruce_Export.columns"
   ]
  },
  {
   "cell_type": "code",
   "execution_count": null,
   "metadata": {
    "ExecuteTime": {
     "end_time": "2020-05-26T12:59:07.313821Z",
     "start_time": "2020-05-26T12:59:07.184171Z"
    },
    "hidden": true
   },
   "outputs": [],
   "source": [
    "Bruce_Export.to_csv('..\\\\data\\\\Output\\\\ECAN_Equipment_Under_10_Years.csv')"
   ]
  }
 ],
 "metadata": {
  "kernelspec": {
   "display_name": "Python 3",
   "language": "python",
   "name": "python3"
  },
  "language_info": {
   "codemirror_mode": {
    "name": "ipython",
    "version": 3
   },
   "file_extension": ".py",
   "mimetype": "text/x-python",
   "name": "python",
   "nbconvert_exporter": "python",
   "pygments_lexer": "ipython3",
   "version": "3.7.4"
  },
  "varInspector": {
   "cols": {
    "lenName": 16,
    "lenType": 16,
    "lenVar": "100"
   },
   "kernels_config": {
    "python": {
     "delete_cmd_postfix": "",
     "delete_cmd_prefix": "del ",
     "library": "var_list.py",
     "varRefreshCmd": "print(var_dic_list())"
    },
    "r": {
     "delete_cmd_postfix": ") ",
     "delete_cmd_prefix": "rm(",
     "library": "var_list.r",
     "varRefreshCmd": "cat(var_dic_list()) "
    }
   },
   "position": {
    "height": "917px",
    "left": "13.2656px",
    "right": "20px",
    "top": "50px",
    "width": "522.172px"
   },
   "types_to_exclude": [
    "module",
    "function",
    "builtin_function_or_method",
    "instance",
    "_Feature"
   ],
   "window_display": false
  }
 },
 "nbformat": 4,
 "nbformat_minor": 2
}
