{
 "cells": [
  {
   "cell_type": "code",
   "execution_count": 2,
   "metadata": {
    "ExecuteTime": {
     "end_time": "2020-07-20T17:07:43.496426Z",
     "start_time": "2020-07-20T17:07:43.491405Z"
    }
   },
   "outputs": [],
   "source": [
    "# Packages / libraries\n",
    "import os #provides functions for interacting with the operating system\n",
    "import numpy as np \n",
    "import pandas as pd\n",
    "from matplotlib import pyplot as plt\n",
    "import seaborn as sns\n",
    "from sklearn.linear_model import LinearRegression\n",
    "from sklearn.linear_model import LogisticRegression\n",
    "from sklearn.tree import DecisionTreeClassifier\n",
    "from sklearn.model_selection import train_test_split\n",
    "from sklearn.metrics import r2_score, explained_variance_score, confusion_matrix, accuracy_score, classification_report, log_loss\n",
    "from math import sqrt"
   ]
  },
  {
   "cell_type": "code",
   "execution_count": 3,
   "metadata": {
    "ExecuteTime": {
     "end_time": "2020-07-20T17:07:44.375063Z",
     "start_time": "2020-07-20T17:07:44.366087Z"
    }
   },
   "outputs": [],
   "source": [
    "%matplotlib inline\n",
    "np.set_printoptions(formatter={'float_kind':'{:f}'.format})\n",
    "sns.set(rc={'figure.figsize':(12,10)})"
   ]
  },
  {
   "cell_type": "code",
   "execution_count": 4,
   "metadata": {
    "ExecuteTime": {
     "end_time": "2020-07-20T17:07:45.323640Z",
     "start_time": "2020-07-20T17:07:45.253417Z"
    }
   },
   "outputs": [],
   "source": [
    "# Loading the data\n",
    "df = pd.read_csv('C:\\Work\\Work\\Data\\CVA_explore.csv')"
   ]
  },
  {
   "cell_type": "code",
   "execution_count": 8,
   "metadata": {
    "ExecuteTime": {
     "end_time": "2020-07-20T17:08:07.581427Z",
     "start_time": "2020-07-20T17:08:07.563473Z"
    }
   },
   "outputs": [
    {
     "name": "stdout",
     "output_type": "stream",
     "text": [
      "C1_PartsDCAL                124\n",
      "C2_ServiceDCAL              124\n",
      "M18_Age_In_Years            103\n",
      "M19_LTDSMU                  177\n",
      "DI4M                          1\n",
      "WWM                           1\n",
      "DIM                           1\n",
      "Account                       1\n",
      "PS_PotentialABC_High          1\n",
      "PS_PotentialABC_Medium        1\n",
      "PS_PotentialABC_Low           1\n",
      "PS_PotentialABC_Inactive      1\n",
      "dtype: int64\n"
     ]
    },
    {
     "data": {
      "text/plain": [
       "(10593, 30)"
      ]
     },
     "execution_count": 8,
     "metadata": {},
     "output_type": "execute_result"
    }
   ],
   "source": [
    "#Drop most null columns or completely irrelevant or obviously multicolineary\n",
    "data = df.drop(['C3_PSPotential123'\n",
    "                ,'C4_PSPotentialABC'\n",
    "                ,'C7_Average_Days_To_Pay'\n",
    "                ,'C3_PSPotential123'\n",
    "                ,'C4_PSPotentialABC'\n",
    "               ,'C13_Cusomter_Preferred_Contract_Type'\n",
    "               ,'C11_Customer_Prefered_Contract_Duration_Hours'\n",
    "               ,'C12_Customer_Prefered_Contract_Duration_Months'\n",
    "                ,'C14_Have_Signed_Contract_Before'\n",
    "                ,'C16_Average_Contract_Value'\n",
    "                ,'M20_AnnualUsage'\n",
    "                ,'M24_Months_Until_Contract_Ends'\n",
    "                ,'M26_Original_Contract_Length_In_Months'\n",
    "                ,'M27_Original_Contract_Duration_In_Hours'\n",
    "                ,'M28_Original_Contract_Type'\n",
    "                ,'M29_Contract_Value'\n",
    "                ,'M31_Average_Contract_Value_BaseModel_PM'\n",
    "                ,'M32_Average_Contract_Value_BaseModel_MC'\n",
    "                ,'M38_Average_Contract_Value_By_Months_PM'\n",
    "                ,'M39_Average_Contract_Value_By_Months_MC'\n",
    "                ,'M40_Average_Contract_Value_By_Hours_PM'\n",
    "                ,'M41_Average_Contract_Value_By_Hours_MC'\n",
    "                ,'M42_Estimated_Contract_Value_Customer_Preference'\n",
    "               ,'New_CVA_Lead'\n",
    "               ,'Renewal_CVA_Lead']\n",
    "               ,axis=1)\n",
    "null_columns = data.isnull().sum()\n",
    "print(null_columns[null_columns>0])\n",
    "data = data.dropna()\n",
    "data.shape"
   ]
  },
  {
   "cell_type": "code",
   "execution_count": 9,
   "metadata": {
    "ExecuteTime": {
     "end_time": "2020-07-20T17:08:17.500666Z",
     "start_time": "2020-07-20T17:08:17.491651Z"
    }
   },
   "outputs": [
    {
     "name": "stdout",
     "output_type": "stream",
     "text": [
      "(10593, 29)\n",
      "(10593,)\n"
     ]
    }
   ],
   "source": [
    "# Split the data into X & y\n",
    "Objective = data['M17_Contract_Active']\n",
    "\n",
    "X = data.drop('M17_Contract_Active', axis = 1).values\n",
    "y = data['M17_Contract_Active']\n",
    "y = y.astype(int)\n",
    "print(X.shape)\n",
    "print(y.shape)"
   ]
  },
  {
   "cell_type": "code",
   "execution_count": 10,
   "metadata": {
    "ExecuteTime": {
     "end_time": "2020-07-20T17:08:20.794477Z",
     "start_time": "2020-07-20T17:08:20.696658Z"
    }
   },
   "outputs": [
    {
     "data": {
      "text/plain": [
       "DecisionTreeClassifier(class_weight=None, criterion='entropy', max_depth=10,\n",
       "                       max_features=None, max_leaf_nodes=None,\n",
       "                       min_impurity_decrease=0.0, min_impurity_split=None,\n",
       "                       min_samples_leaf=1, min_samples_split=2,\n",
       "                       min_weight_fraction_leaf=0.0, presort=False,\n",
       "                       random_state=15, splitter='best')"
      ]
     },
     "execution_count": 10,
     "metadata": {},
     "output_type": "execute_result"
    }
   ],
   "source": [
    "# Run a Tree-based estimators (i.e. decision trees & random forests)\n",
    "dt = DecisionTreeClassifier(random_state=15, criterion = 'entropy', max_depth = 10)\n",
    "dt.fit(X,y)"
   ]
  },
  {
   "cell_type": "code",
   "execution_count": 11,
   "metadata": {
    "ExecuteTime": {
     "end_time": "2020-07-20T17:08:23.322863Z",
     "start_time": "2020-07-20T17:08:23.311855Z"
    }
   },
   "outputs": [
    {
     "name": "stdout",
     "output_type": "stream",
     "text": [
      "The feature importance for EquipmentId is : 0.029102252662305945\n",
      "The feature importance for C1_PartsDCAL is : 0.00687814343907175\n",
      "The feature importance for C2_ServiceDCAL is : 0.005548401061859694\n",
      "The feature importance for C8_Percentage_Parts_Purchased_Direct is : 0.008476125479081931\n",
      "The feature importance for C9_Percentage_Labour_Purchased_PSTotal is : 0.009818351788334925\n",
      "The feature importance for C10_Percentage_Parts_Purchased_ServiceTotal is : 0.01188663256442969\n",
      "The feature importance for C15_Percentage_Equipment_Currently_On_Contract is : 0.52807150508362\n",
      "The feature importance for M18_Age_In_Years is : 0.014890116235347717\n",
      "The feature importance for M19_LTDSMU is : 0.024932249902940344\n",
      "The feature importance for M21_Potentially_Disposed is : 0.0\n",
      "The feature importance for M22_PLActive is : 0.19868367438239598\n",
      "The feature importance for M23_OLGAAmount is : 0.014775192892310997\n",
      "The feature importance for M25_Months_Until_Warranty_Ends is : 0.007684170757778557\n",
      "The feature importance for M30_Number_Of_Contracts_Under_Base_Model is : 0.022759342556158187\n",
      "The feature importance for M32_Percentage_Parts_Purchased_Direct is : 0.01204868949208498\n",
      "The feature importance for M33_Percentage_Labour_Purchased_PSTotal is : 0.014532588433277734\n",
      "The feature importance for M34_Percentage_Parts_Purchased_ServiceTotal is : 0.03949776450346346\n",
      "The feature importance for M35_Percentage_Parts_Returned is : 0.0015591887028039274\n",
      "The feature importance for M36_Percentage_WO_Backed_Out is : 0.002890616369588139\n",
      "The feature importance for M37_SOS_Count is : 0.029150884316910926\n",
      "The feature importance for Is_Customers_Top_Model is : 0.00698260856135584\n",
      "The feature importance for DI4M is : 0.0\n",
      "The feature importance for WWM is : 0.000683045797010964\n",
      "The feature importance for DIM is : 0.00033266194263135746\n",
      "The feature importance for Account is : 0.0\n",
      "The feature importance for PS_PotentialABC_High is : 0.001639414945285163\n",
      "The feature importance for PS_PotentialABC_Medium is : 0.004289903796147944\n",
      "The feature importance for PS_PotentialABC_Low is : 0.0028864743338038665\n",
      "The feature importance for PS_PotentialABC_Inactive is : 0.0\n"
     ]
    }
   ],
   "source": [
    "# Running Feature Importance\n",
    "fi_col = []\n",
    "fi = []\n",
    "\n",
    "for i,column in enumerate(data.drop('M17_Contract_Active', axis = 1)):\n",
    "    print('The feature importance for {} is : {}'.format(column, dt.feature_importances_[i]))\n",
    "    \n",
    "    fi_col.append(column)\n",
    "    fi.append(dt.feature_importances_[i])"
   ]
  },
  {
   "cell_type": "code",
   "execution_count": 12,
   "metadata": {
    "ExecuteTime": {
     "end_time": "2020-07-20T17:08:28.004233Z",
     "start_time": "2020-07-20T17:08:27.988275Z"
    }
   },
   "outputs": [
    {
     "data": {
      "text/html": [
       "<div>\n",
       "<style scoped>\n",
       "    .dataframe tbody tr th:only-of-type {\n",
       "        vertical-align: middle;\n",
       "    }\n",
       "\n",
       "    .dataframe tbody tr th {\n",
       "        vertical-align: top;\n",
       "    }\n",
       "\n",
       "    .dataframe thead th {\n",
       "        text-align: right;\n",
       "    }\n",
       "</style>\n",
       "<table border=\"1\" class=\"dataframe\">\n",
       "  <thead>\n",
       "    <tr style=\"text-align: right;\">\n",
       "      <th></th>\n",
       "      <th>index</th>\n",
       "      <th>Feature</th>\n",
       "      <th>Feature Importance</th>\n",
       "    </tr>\n",
       "  </thead>\n",
       "  <tbody>\n",
       "    <tr>\n",
       "      <td>0</td>\n",
       "      <td>6</td>\n",
       "      <td>C15_Percentage_Equipment_Currently_On_Contract</td>\n",
       "      <td>0.528072</td>\n",
       "    </tr>\n",
       "    <tr>\n",
       "      <td>1</td>\n",
       "      <td>10</td>\n",
       "      <td>M22_PLActive</td>\n",
       "      <td>0.198684</td>\n",
       "    </tr>\n",
       "    <tr>\n",
       "      <td>2</td>\n",
       "      <td>16</td>\n",
       "      <td>M34_Percentage_Parts_Purchased_ServiceTotal</td>\n",
       "      <td>0.039498</td>\n",
       "    </tr>\n",
       "    <tr>\n",
       "      <td>3</td>\n",
       "      <td>19</td>\n",
       "      <td>M37_SOS_Count</td>\n",
       "      <td>0.029151</td>\n",
       "    </tr>\n",
       "    <tr>\n",
       "      <td>4</td>\n",
       "      <td>0</td>\n",
       "      <td>EquipmentId</td>\n",
       "      <td>0.029102</td>\n",
       "    </tr>\n",
       "    <tr>\n",
       "      <td>5</td>\n",
       "      <td>8</td>\n",
       "      <td>M19_LTDSMU</td>\n",
       "      <td>0.024932</td>\n",
       "    </tr>\n",
       "    <tr>\n",
       "      <td>6</td>\n",
       "      <td>13</td>\n",
       "      <td>M30_Number_Of_Contracts_Under_Base_Model</td>\n",
       "      <td>0.022759</td>\n",
       "    </tr>\n",
       "    <tr>\n",
       "      <td>7</td>\n",
       "      <td>7</td>\n",
       "      <td>M18_Age_In_Years</td>\n",
       "      <td>0.014890</td>\n",
       "    </tr>\n",
       "    <tr>\n",
       "      <td>8</td>\n",
       "      <td>11</td>\n",
       "      <td>M23_OLGAAmount</td>\n",
       "      <td>0.014775</td>\n",
       "    </tr>\n",
       "    <tr>\n",
       "      <td>9</td>\n",
       "      <td>15</td>\n",
       "      <td>M33_Percentage_Labour_Purchased_PSTotal</td>\n",
       "      <td>0.014533</td>\n",
       "    </tr>\n",
       "    <tr>\n",
       "      <td>10</td>\n",
       "      <td>14</td>\n",
       "      <td>M32_Percentage_Parts_Purchased_Direct</td>\n",
       "      <td>0.012049</td>\n",
       "    </tr>\n",
       "    <tr>\n",
       "      <td>11</td>\n",
       "      <td>5</td>\n",
       "      <td>C10_Percentage_Parts_Purchased_ServiceTotal</td>\n",
       "      <td>0.011887</td>\n",
       "    </tr>\n",
       "    <tr>\n",
       "      <td>12</td>\n",
       "      <td>4</td>\n",
       "      <td>C9_Percentage_Labour_Purchased_PSTotal</td>\n",
       "      <td>0.009818</td>\n",
       "    </tr>\n",
       "    <tr>\n",
       "      <td>13</td>\n",
       "      <td>3</td>\n",
       "      <td>C8_Percentage_Parts_Purchased_Direct</td>\n",
       "      <td>0.008476</td>\n",
       "    </tr>\n",
       "    <tr>\n",
       "      <td>14</td>\n",
       "      <td>12</td>\n",
       "      <td>M25_Months_Until_Warranty_Ends</td>\n",
       "      <td>0.007684</td>\n",
       "    </tr>\n",
       "    <tr>\n",
       "      <td>15</td>\n",
       "      <td>20</td>\n",
       "      <td>Is_Customers_Top_Model</td>\n",
       "      <td>0.006983</td>\n",
       "    </tr>\n",
       "    <tr>\n",
       "      <td>16</td>\n",
       "      <td>1</td>\n",
       "      <td>C1_PartsDCAL</td>\n",
       "      <td>0.006878</td>\n",
       "    </tr>\n",
       "    <tr>\n",
       "      <td>17</td>\n",
       "      <td>2</td>\n",
       "      <td>C2_ServiceDCAL</td>\n",
       "      <td>0.005548</td>\n",
       "    </tr>\n",
       "    <tr>\n",
       "      <td>18</td>\n",
       "      <td>26</td>\n",
       "      <td>PS_PotentialABC_Medium</td>\n",
       "      <td>0.004290</td>\n",
       "    </tr>\n",
       "    <tr>\n",
       "      <td>19</td>\n",
       "      <td>18</td>\n",
       "      <td>M36_Percentage_WO_Backed_Out</td>\n",
       "      <td>0.002891</td>\n",
       "    </tr>\n",
       "    <tr>\n",
       "      <td>20</td>\n",
       "      <td>27</td>\n",
       "      <td>PS_PotentialABC_Low</td>\n",
       "      <td>0.002886</td>\n",
       "    </tr>\n",
       "    <tr>\n",
       "      <td>21</td>\n",
       "      <td>25</td>\n",
       "      <td>PS_PotentialABC_High</td>\n",
       "      <td>0.001639</td>\n",
       "    </tr>\n",
       "    <tr>\n",
       "      <td>22</td>\n",
       "      <td>17</td>\n",
       "      <td>M35_Percentage_Parts_Returned</td>\n",
       "      <td>0.001559</td>\n",
       "    </tr>\n",
       "    <tr>\n",
       "      <td>23</td>\n",
       "      <td>22</td>\n",
       "      <td>WWM</td>\n",
       "      <td>0.000683</td>\n",
       "    </tr>\n",
       "    <tr>\n",
       "      <td>24</td>\n",
       "      <td>23</td>\n",
       "      <td>DIM</td>\n",
       "      <td>0.000333</td>\n",
       "    </tr>\n",
       "    <tr>\n",
       "      <td>25</td>\n",
       "      <td>9</td>\n",
       "      <td>M21_Potentially_Disposed</td>\n",
       "      <td>0.000000</td>\n",
       "    </tr>\n",
       "    <tr>\n",
       "      <td>26</td>\n",
       "      <td>24</td>\n",
       "      <td>Account</td>\n",
       "      <td>0.000000</td>\n",
       "    </tr>\n",
       "    <tr>\n",
       "      <td>27</td>\n",
       "      <td>21</td>\n",
       "      <td>DI4M</td>\n",
       "      <td>0.000000</td>\n",
       "    </tr>\n",
       "    <tr>\n",
       "      <td>28</td>\n",
       "      <td>28</td>\n",
       "      <td>PS_PotentialABC_Inactive</td>\n",
       "      <td>0.000000</td>\n",
       "    </tr>\n",
       "  </tbody>\n",
       "</table>\n",
       "</div>"
      ],
      "text/plain": [
       "    index                                         Feature  Feature Importance\n",
       "0       6  C15_Percentage_Equipment_Currently_On_Contract            0.528072\n",
       "1      10                                    M22_PLActive            0.198684\n",
       "2      16     M34_Percentage_Parts_Purchased_ServiceTotal            0.039498\n",
       "3      19                                   M37_SOS_Count            0.029151\n",
       "4       0                                     EquipmentId            0.029102\n",
       "5       8                                      M19_LTDSMU            0.024932\n",
       "6      13        M30_Number_Of_Contracts_Under_Base_Model            0.022759\n",
       "7       7                                M18_Age_In_Years            0.014890\n",
       "8      11                                  M23_OLGAAmount            0.014775\n",
       "9      15         M33_Percentage_Labour_Purchased_PSTotal            0.014533\n",
       "10     14           M32_Percentage_Parts_Purchased_Direct            0.012049\n",
       "11      5     C10_Percentage_Parts_Purchased_ServiceTotal            0.011887\n",
       "12      4          C9_Percentage_Labour_Purchased_PSTotal            0.009818\n",
       "13      3            C8_Percentage_Parts_Purchased_Direct            0.008476\n",
       "14     12                  M25_Months_Until_Warranty_Ends            0.007684\n",
       "15     20                          Is_Customers_Top_Model            0.006983\n",
       "16      1                                    C1_PartsDCAL            0.006878\n",
       "17      2                                  C2_ServiceDCAL            0.005548\n",
       "18     26                          PS_PotentialABC_Medium            0.004290\n",
       "19     18                    M36_Percentage_WO_Backed_Out            0.002891\n",
       "20     27                             PS_PotentialABC_Low            0.002886\n",
       "21     25                            PS_PotentialABC_High            0.001639\n",
       "22     17                   M35_Percentage_Parts_Returned            0.001559\n",
       "23     22                                             WWM            0.000683\n",
       "24     23                                             DIM            0.000333\n",
       "25      9                        M21_Potentially_Disposed            0.000000\n",
       "26     24                                         Account            0.000000\n",
       "27     21                                            DI4M            0.000000\n",
       "28     28                        PS_PotentialABC_Inactive            0.000000"
      ]
     },
     "execution_count": 12,
     "metadata": {},
     "output_type": "execute_result"
    }
   ],
   "source": [
    "# Creating a Dataframe\n",
    "fi_col\n",
    "fi\n",
    "\n",
    "fi_df = zip(fi_col, fi)\n",
    "fi_df = pd.DataFrame(fi_df, columns = ['Feature','Feature Importance'])\n",
    "fi_df\n",
    "\n",
    "\n",
    "# Ordering the data\n",
    "fi_df = fi_df.sort_values('Feature Importance', ascending = False).reset_index()\n",
    "\n",
    "# Creating columns to keep\n",
    "columns_to_keep = fi_df['Feature'][0:40]\n",
    "\n",
    "fi_df"
   ]
  },
  {
   "cell_type": "code",
   "execution_count": null,
   "metadata": {
    "ExecuteTime": {
     "end_time": "2020-07-20T16:58:21.146823Z",
     "start_time": "2020-07-20T16:58:21.139839Z"
    }
   },
   "outputs": [],
   "source": [
    "# Print the shapes\n",
    "\n",
    "print(data.shape)\n",
    "print(data[columns_to_keep].shape)\n",
    "\n",
    "# new_raw_data = new_raw_data[columns_to_keep]"
   ]
  },
  {
   "cell_type": "code",
   "execution_count": null,
   "metadata": {
    "ExecuteTime": {
     "end_time": "2020-07-20T16:58:22.579015Z",
     "start_time": "2020-07-20T16:58:22.555057Z"
    }
   },
   "outputs": [],
   "source": [
    "data.head()"
   ]
  },
  {
   "cell_type": "code",
   "execution_count": null,
   "metadata": {
    "ExecuteTime": {
     "end_time": "2020-07-20T16:58:23.586696Z",
     "start_time": "2020-07-20T16:58:23.568706Z"
    }
   },
   "outputs": [],
   "source": [
    "# Split the data into X & y\n",
    "\n",
    "X = data[columns_to_keep].values\n",
    "X\n",
    "\n",
    "y = data['M17_Contract_Active']\n",
    "y = y.astype(int)\n",
    "y\n",
    "\n",
    "print(X.shape)\n",
    "print(y.shape)"
   ]
  },
  {
   "cell_type": "code",
   "execution_count": null,
   "metadata": {
    "ExecuteTime": {
     "end_time": "2020-07-20T16:58:24.634052Z",
     "start_time": "2020-07-20T16:58:24.620062Z"
    }
   },
   "outputs": [],
   "source": [
    "# Hold-out validation\n",
    "\n",
    "# first one\n",
    "X_train, X_test, y_train, y_test = train_test_split(X, y, train_size = 0.8, test_size=0.2, random_state=15)\n",
    "\n",
    "# Second one\n",
    "X_train, X_valid, y_train, y_valid = train_test_split(X_train, y_train, train_size = 0.9, test_size=0.1, random_state=15)\n",
    "\n",
    "print(X_train.shape)\n",
    "print(X_test.shape)\n",
    "print(X_valid.shape)\n",
    "\n",
    "print(y_train.shape)\n",
    "print(y_test.shape)\n",
    "print(y_valid.shape)\n",
    "\n",
    "# Official Doc: https://scikit-learn.org/stable/modules/generated/sklearn.model_selection.train_test_split.html"
   ]
  },
  {
   "cell_type": "code",
   "execution_count": null,
   "metadata": {
    "ExecuteTime": {
     "end_time": "2020-07-20T16:58:52.437267Z",
     "start_time": "2020-07-20T16:58:52.269669Z"
    }
   },
   "outputs": [],
   "source": [
    "# Investigating the distr of all ys\n",
    "\n",
    "ax = sns.countplot(x = y_valid, palette = \"Set3\")"
   ]
  },
  {
   "cell_type": "markdown",
   "metadata": {},
   "source": [
    "## 8. Running Logistic Regression"
   ]
  },
  {
   "cell_type": "code",
   "execution_count": null,
   "metadata": {
    "ExecuteTime": {
     "end_time": "2020-07-20T16:58:54.305286Z",
     "start_time": "2020-07-20T16:58:54.218538Z"
    }
   },
   "outputs": [],
   "source": [
    "# Training my model\n",
    "\n",
    "log_reg = LogisticRegression(random_state=10, solver = 'lbfgs')\n",
    "\n",
    "log_reg.fit(X_train, y_train)\n",
    "\n",
    "# SKLearn doc: https://scikit-learn.org/stable/modules/generated/sklearn.linear_model.LogisticRegression.html"
   ]
  },
  {
   "cell_type": "code",
   "execution_count": null,
   "metadata": {
    "ExecuteTime": {
     "end_time": "2020-07-20T16:58:55.918420Z",
     "start_time": "2020-07-20T16:58:55.909443Z"
    }
   },
   "outputs": [],
   "source": [
    "# Methods we can use in Logistic\n",
    "\n",
    "# predict - Predict class labels for samples in X\n",
    "log_reg.predict(X_train)\n",
    "y_pred = log_reg.predict(X_train)\n",
    "\n",
    "# predict_proba - Probability estimates\n",
    "pred_proba = log_reg.predict_proba(X_train)\n",
    "\n",
    "# coef_ - Coefficient of the features in the decision function\n",
    "log_reg.coef_\n",
    "\n",
    "# score- Returns the mean accuracy on the given test data and labels - below"
   ]
  },
  {
   "cell_type": "markdown",
   "metadata": {},
   "source": [
    "## 9. Evaluating the Model"
   ]
  },
  {
   "cell_type": "code",
   "execution_count": null,
   "metadata": {
    "ExecuteTime": {
     "end_time": "2020-07-20T16:58:56.659690Z",
     "start_time": "2020-07-20T16:58:56.634716Z"
    }
   },
   "outputs": [],
   "source": [
    "# Accuracy on Train\n",
    "print(\"The Training Accuracy is: \", log_reg.score(X_train, y_train))\n",
    "\n",
    "# Accuracy on Test\n",
    "print(\"The Testing Accuracy is: \", log_reg.score(X_test, y_test))\n",
    "\n",
    "\n",
    "# Classification Report\n",
    "print(classification_report(y_train, y_pred))\n",
    "\n"
   ]
  },
  {
   "cell_type": "code",
   "execution_count": null,
   "metadata": {
    "ExecuteTime": {
     "end_time": "2020-07-20T17:01:20.661418Z",
     "start_time": "2020-07-20T17:01:20.655469Z"
    }
   },
   "outputs": [],
   "source": [
    "# Confusion Matrix function\n",
    "\n",
    "def plot_confusion_matrix(cm, classes=None, title='Confusion matrix'):\n",
    "    \"\"\"Plots a confusion matrix.\"\"\"\n",
    "    if classes is not None:\n",
    "        sns.heatmap(cm, cmap=\"YlGnBu\", xticklabels=classes, yticklabels=classes, vmin=0., vmax=1., annot=True, annot_kws={'size':25})\n",
    "    else:\n",
    "        sns.heatmap(cm, vmin=0., vmax=1.)\n",
    "    plt.title(title)\n",
    "    plt.ylabel('True label')\n",
    "    plt.xlabel('Predicted label')"
   ]
  },
  {
   "cell_type": "code",
   "execution_count": null,
   "metadata": {
    "ExecuteTime": {
     "end_time": "2020-07-20T17:01:38.391402Z",
     "start_time": "2020-07-20T17:01:38.172887Z"
    }
   },
   "outputs": [],
   "source": [
    "# Visualizing cm\n",
    "\n",
    "cm = confusion_matrix(y_train, y_pred)\n",
    "cm_norm = cm / cm.sum(axis=1).reshape(-1,1)\n",
    "\n",
    "plot_confusion_matrix(cm_norm, classes = log_reg.classes_, title='Confusion matrix')"
   ]
  },
  {
   "cell_type": "code",
   "execution_count": null,
   "metadata": {
    "ExecuteTime": {
     "end_time": "2020-07-20T17:01:48.521745Z",
     "start_time": "2020-07-20T17:01:48.517755Z"
    }
   },
   "outputs": [],
   "source": [
    "log_reg.classes_"
   ]
  },
  {
   "cell_type": "code",
   "execution_count": null,
   "metadata": {
    "ExecuteTime": {
     "end_time": "2020-07-20T17:01:49.635494Z",
     "start_time": "2020-07-20T17:01:49.630508Z"
    }
   },
   "outputs": [],
   "source": []
  },
  {
   "cell_type": "code",
   "execution_count": null,
   "metadata": {
    "ExecuteTime": {
     "end_time": "2020-07-20T17:01:57.868467Z",
     "start_time": "2020-07-20T17:01:57.863478Z"
    }
   },
   "outputs": [],
   "source": [
    "cm"
   ]
  },
  {
   "cell_type": "code",
   "execution_count": null,
   "metadata": {
    "ExecuteTime": {
     "end_time": "2020-07-20T17:01:59.015367Z",
     "start_time": "2020-07-20T17:01:59.007388Z"
    }
   },
   "outputs": [],
   "source": [
    "cm.sum(axis=0)"
   ]
  },
  {
   "cell_type": "code",
   "execution_count": null,
   "metadata": {
    "ExecuteTime": {
     "end_time": "2020-07-20T17:01:59.963758Z",
     "start_time": "2020-07-20T17:01:59.955816Z"
    }
   },
   "outputs": [],
   "source": [
    "np.diag(cm)"
   ]
  },
  {
   "cell_type": "code",
   "execution_count": null,
   "metadata": {
    "ExecuteTime": {
     "end_time": "2020-07-20T17:02:01.062987Z",
     "start_time": "2020-07-20T17:02:01.050023Z"
    }
   },
   "outputs": [],
   "source": [
    "# Calculating False Positives (FP), False Negatives (FN), True Positives (TP) & True Negatives (TN)\n",
    "\n",
    "FP = cm.sum(axis=0) - np.diag(cm)\n",
    "FN = cm.sum(axis=1) - np.diag(cm)\n",
    "TP = np.diag(cm)\n",
    "TN = cm.sum() - (FP + FN + TP)\n",
    "\n",
    "\n",
    "# Sensitivity, hit rate, recall, or true positive rate\n",
    "TPR = TP / (TP + FN)\n",
    "print(\"The True Positive Rate is:\", TPR)\n",
    "\n",
    "# Precision or positive predictive value\n",
    "PPV = TP / (TP + FP)\n",
    "print(\"The Precision is:\", PPV)\n",
    "\n",
    "# False positive rate or False alarm rate\n",
    "FPR = FP / (FP + TN)\n",
    "print(\"The False positive rate is:\", FPR)\n",
    "\n",
    "\n",
    "# False negative rate or Miss Rate\n",
    "FNR = FN / (FN + TP)\n",
    "print(\"The False Negative Rate is: \", FNR)\n",
    "\n",
    "\n",
    "\n",
    "##Total averages :\n",
    "print(\"\")\n",
    "print(\"The average TPR is:\", TPR.sum()/2)\n",
    "print(\"The average Precision is:\", PPV.sum()/2)\n",
    "print(\"The average False positive rate is:\", FPR.sum()/2)\n",
    "print(\"The average False Negative Rate is:\", FNR.sum()/2)\n"
   ]
  },
  {
   "cell_type": "code",
   "execution_count": null,
   "metadata": {
    "ExecuteTime": {
     "end_time": "2020-07-20T17:02:12.654933Z",
     "start_time": "2020-07-20T17:02:12.643963Z"
    }
   },
   "outputs": [],
   "source": [
    "# Running Log loss on training\n",
    "print(\"The Log Loss on Training is: \", log_loss(y_train, pred_proba))\n",
    "\n",
    "# Running Log loss on testing\n",
    "pred_proba_t = log_reg.predict_proba(X_test)\n",
    "print(\"The Log Loss on Testing Dataset is: \", log_loss(y_test, pred_proba_t))\n"
   ]
  },
  {
   "cell_type": "code",
   "execution_count": null,
   "metadata": {
    "ExecuteTime": {
     "end_time": "2020-07-20T17:02:18.317308Z",
     "start_time": "2020-07-20T17:02:18.312285Z"
    }
   },
   "outputs": [],
   "source": [
    "np.geomspace(1e-5, 1e5, num=20)"
   ]
  },
  {
   "cell_type": "code",
   "execution_count": null,
   "metadata": {
    "ExecuteTime": {
     "end_time": "2020-07-20T17:02:20.631919Z",
     "start_time": "2020-07-20T17:02:20.338688Z"
    }
   },
   "outputs": [],
   "source": [
    "# Creating a range for C values\n",
    "np.geomspace(1e-5, 1e5, num=20)\n",
    "\n",
    "# ploting it\n",
    "plt.plot(np.geomspace(1e-5, 1e5, num=20)) #  uniformly distributed in log space\n",
    "plt.plot(np.linspace(1e-5, 1e5, num=20)) # uniformly distributed in linear space, instead of log space\n",
    "# plt.plot(np.logspace(np.log10(1e-5) , np.log10(1e5) , num=20)) # same as geomspace\n"
   ]
  },
  {
   "cell_type": "code",
   "execution_count": null,
   "metadata": {
    "ExecuteTime": {
     "end_time": "2020-07-20T17:02:28.737667Z",
     "start_time": "2020-07-20T17:02:27.478023Z"
    },
    "scrolled": true
   },
   "outputs": [],
   "source": [
    "# Looping over the parameters\n",
    "\n",
    "C_List = np.geomspace(1e-5, 1e5, num=20)\n",
    "CA = []\n",
    "Logarithmic_Loss = []\n",
    "\n",
    "for c in C_List:\n",
    "    log_reg2 = LogisticRegression(random_state=10, solver = 'lbfgs', C=c)\n",
    "    log_reg2.fit(X_train, y_train)\n",
    "    score = log_reg2.score(X_test, y_test)\n",
    "    CA.append(score)\n",
    "    print(\"The CA of C parameter {} is {}:\".format(c, score))\n",
    "    pred_proba_t = log_reg2.predict_proba(X_test)\n",
    "    log_loss2 = log_loss(y_test, pred_proba_t)\n",
    "    Logarithmic_Loss.append(log_loss2)\n",
    "    print(\"The Logg Loss of C parameter {} is {}:\".format(c, log_loss2))\n",
    "    print(\"\")"
   ]
  },
  {
   "cell_type": "code",
   "execution_count": null,
   "metadata": {
    "ExecuteTime": {
     "end_time": "2020-07-20T17:02:31.194008Z",
     "start_time": "2020-07-20T17:02:31.179037Z"
    }
   },
   "outputs": [],
   "source": [
    "# putting the outcomes in a Table\n",
    "\n",
    "# reshaping\n",
    "CA2 = np.array(CA).reshape(20,)\n",
    "Logarithmic_Loss2 = np.array(Logarithmic_Loss).reshape(20,)\n",
    "\n",
    "# zip\n",
    "outcomes = zip(C_List, CA2, Logarithmic_Loss2)\n",
    "\n",
    "#df\n",
    "df_outcomes = pd.DataFrame(outcomes, columns = [\"C_List\", 'CA2','Logarithmic_Loss2'])\n",
    "\n",
    "#print\n",
    "df_outcomes\n",
    "\n",
    "# Ordering the data (sort_values)\n",
    "df_outcomes.sort_values(\"Logarithmic_Loss2\", ascending = True).reset_index()"
   ]
  },
  {
   "cell_type": "code",
   "execution_count": null,
   "metadata": {
    "ExecuteTime": {
     "end_time": "2020-07-20T17:02:34.838593Z",
     "start_time": "2020-07-20T17:02:34.406746Z"
    }
   },
   "outputs": [],
   "source": [
    "# Another way of doing the above\n",
    "# Scikit-learn offers a LogisticRegressionCV module which implements Logistic Regression \n",
    "# with builtin cross-validation to find out the optimal C parameter\n",
    "\n",
    "from sklearn.linear_model import LogisticRegressionCV\n",
    "from sklearn.model_selection import KFold\n",
    "kf = KFold(n_splits=3, random_state=0, shuffle=True)\n",
    "\n",
    "# Logistic Reg CV\n",
    "Log_reg3 = LogisticRegressionCV(random_state=15, Cs = C_List, solver ='lbfgs')\n",
    "Log_reg3.fit(X_train, y_train)\n",
    "print(\"The CA is:\", Log_reg3.score(X_test, y_test))\n",
    "pred_proba_t = Log_reg3.predict_proba(X_test)\n",
    "log_loss3 = log_loss(y_test, pred_proba_t)\n",
    "print(\"The Logistic Loss is: \", log_loss3)\n",
    "\n",
    "print(\"The optimal C parameter is: \", Log_reg3.C_)\n",
    "\n",
    "\n",
    "\n",
    "# Doc: https://scikit-learn.org/stable/modules/generated/sklearn.linear_model.LogisticRegressionCV.html"
   ]
  },
  {
   "cell_type": "code",
   "execution_count": null,
   "metadata": {
    "ExecuteTime": {
     "end_time": "2020-07-20T17:03:19.536214Z",
     "start_time": "2020-07-20T17:03:13.055423Z"
    },
    "scrolled": true
   },
   "outputs": [],
   "source": [
    "# Maybe we have a different metric we want to track\n",
    "\n",
    "# Looping over the parameters\n",
    "\n",
    "C_List = np.geomspace(1e-5, 1e5, num=20)\n",
    "CA = []\n",
    "Logarithmic_Loss = []\n",
    "\n",
    "for c in C_List:\n",
    "    log_reg2 = LogisticRegression(random_state=10, solver = 'lbfgs', C=c)\n",
    "    log_reg2.fit(X_train, y_train)\n",
    "    score = log_reg2.score(X_test, y_test)\n",
    "    CA.append(score)\n",
    "    print(\"The CA of C parameter {} is {}:\".format(c, score))\n",
    "    pred_proba_t = log_reg2.predict_proba(X_test)\n",
    "    log_loss2 = log_loss(y_test, pred_proba_t)\n",
    "    Logarithmic_Loss.append(log_loss2)\n",
    "    print(\"The Logg Loss of C parameter {} is {}:\".format(c, log_loss2))\n",
    "    print(\"\")\n",
    "    \n",
    "    y_pred = log_reg2.predict(X_train)\n",
    "    cm = confusion_matrix(y_train, y_pred)\n",
    "    cm_norm = cm / cm.sum(axis=1).reshape(-1,1)\n",
    "    plot_confusion_matrix(cm_norm, classes = log_reg.classes_, title='Confusion matrix')\n",
    "    plt.show()"
   ]
  },
  {
   "cell_type": "code",
   "execution_count": null,
   "metadata": {
    "ExecuteTime": {
     "end_time": "2020-07-20T17:03:19.699732Z",
     "start_time": "2020-07-20T17:03:19.690756Z"
    }
   },
   "outputs": [],
   "source": [
    "# Training a Dummy Classifier\n",
    "\n",
    "from sklearn.dummy import DummyClassifier\n",
    "\n",
    "dummy_clf = DummyClassifier(strategy=\"most_frequent\")\n",
    "dummy_clf.fit(X_train, y_train)\n",
    "score = dummy_clf.score(X_test, y_test)\n",
    "\n",
    "pred_proba_t = dummy_clf.predict_proba(X_test)\n",
    "log_loss2 = log_loss(y_test, pred_proba_t)\n",
    "\n",
    "print(\"Testing Acc:\", score)\n",
    "print(\"Log Loss:\", log_loss2)\n",
    "\n",
    "\n",
    "# Doc: https://scikit-learn.org/stable/modules/generated/sklearn.dummy.DummyClassifier.html"
   ]
  },
  {
   "cell_type": "markdown",
   "metadata": {},
   "source": [
    "## 11. Final Model with Selected Parameters"
   ]
  },
  {
   "cell_type": "code",
   "execution_count": null,
   "metadata": {
    "ExecuteTime": {
     "end_time": "2020-07-20T17:03:19.925131Z",
     "start_time": "2020-07-20T17:03:19.849342Z"
    }
   },
   "outputs": [],
   "source": [
    "# Final Model \n",
    "\n",
    "log_reg3 = LogisticRegression(random_state=10, solver = 'lbfgs', C=784.759970)\n",
    "log_reg3.fit(X_train, y_train)\n",
    "score = log_reg3.score(X_valid, y_valid)\n",
    "\n",
    "pred_proba_t = log_reg3.predict_proba(X_valid)\n",
    "log_loss2 = log_loss(y_valid, pred_proba_t)\n",
    "\n",
    "print(\"Testing Acc:\", score)\n",
    "print(\"Log Loss:\", log_loss2)"
   ]
  }
 ],
 "metadata": {
  "kernelspec": {
   "display_name": "Python 3",
   "language": "python",
   "name": "python3"
  },
  "language_info": {
   "codemirror_mode": {
    "name": "ipython",
    "version": 3
   },
   "file_extension": ".py",
   "mimetype": "text/x-python",
   "name": "python",
   "nbconvert_exporter": "python",
   "pygments_lexer": "ipython3",
   "version": "3.7.4"
  },
  "varInspector": {
   "cols": {
    "lenName": 16,
    "lenType": 16,
    "lenVar": "100"
   },
   "kernels_config": {
    "python": {
     "delete_cmd_postfix": "",
     "delete_cmd_prefix": "del ",
     "library": "var_list.py",
     "varRefreshCmd": "print(var_dic_list())"
    },
    "r": {
     "delete_cmd_postfix": ") ",
     "delete_cmd_prefix": "rm(",
     "library": "var_list.r",
     "varRefreshCmd": "cat(var_dic_list()) "
    }
   },
   "types_to_exclude": [
    "module",
    "function",
    "builtin_function_or_method",
    "instance",
    "_Feature"
   ],
   "window_display": false
  }
 },
 "nbformat": 4,
 "nbformat_minor": 2
}
