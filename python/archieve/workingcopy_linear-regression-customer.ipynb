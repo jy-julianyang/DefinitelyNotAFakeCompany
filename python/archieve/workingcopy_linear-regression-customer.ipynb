{
 "cells": [
  {
   "cell_type": "markdown",
   "metadata": {
    "heading_collapsed": true
   },
   "source": [
    "# Lead generation customer value exploration"
   ]
  },
  {
   "cell_type": "code",
   "execution_count": null,
   "metadata": {
    "ExecuteTime": {
     "end_time": "2020-05-01T15:05:39.988069Z",
     "start_time": "2020-05-01T15:05:36.741855Z"
    },
    "hidden": true
   },
   "outputs": [],
   "source": [
    "## Load libraries (o_o)=<\n",
    "\n",
    "import numpy as np\n",
    "import pandas as pd\n",
    "import seaborn as sns\n",
    "import matplotlib.pyplot as plt\n",
    "import statsmodels.api as sm\n",
    "import math \n",
    "import pickle\n",
    "import pylab\n",
    "\n",
    "from scipy import stats\n",
    "from scipy.stats import kurtosis, skew\n",
    "from statsmodels.stats import diagnostic as diag\n",
    "from statsmodels.stats.outliers_influence import variance_inflation_factor\n",
    "from sklearn.model_selection import train_test_split\n",
    "from sklearn.linear_model import LinearRegression\n",
    "from sklearn.metrics import mean_squared_error, r2_score, mean_absolute_error\n",
    "\n",
    "%matplotlib inline\n",
    "pd.options.display.max_rows = 10\n",
    "pd.set_option('display.precision', 2)\n",
    "pd.options.display.float_format = '{:8,.2f}'.format"
   ]
  },
  {
   "cell_type": "code",
   "execution_count": null,
   "metadata": {
    "ExecuteTime": {
     "end_time": "2020-05-01T15:08:06.422793Z",
     "start_time": "2020-05-01T15:08:03.263350Z"
    },
    "hidden": true,
    "scrolled": false
   },
   "outputs": [],
   "source": [
    "## Load and verify data set (o_o)=====<\n",
    "\n",
    "#load data\n",
    "data = pd.read_excel('..\\\\data\\\\LeadData_Customer.xlsx', index_col='OriginalCustomerNumber')\n",
    "\n",
    "#Show summary\n",
    "#data.head()\n",
    "\n",
    "#Verify data types\n",
    "data = data.astype(float)\n",
    "#data.dtypes\n",
    "\n",
    "#Verify data size\n",
    "#data.shape\n",
    "\n",
    "# Print data columns for copy and paste\n",
    "data.columns"
   ]
  },
  {
   "cell_type": "markdown",
   "metadata": {
    "heading_collapsed": true
   },
   "source": [
    "# Explore the data in multiple linear regression (o_o)!~/\\"
   ]
  },
  {
   "cell_type": "markdown",
   "metadata": {
    "ExecuteTime": {
     "end_time": "2020-04-29T13:19:53.376286Z",
     "start_time": "2020-04-29T13:19:53.374291Z"
    },
    "heading_collapsed": true,
    "hidden": true
   },
   "source": [
    "## Verify Data and building correlation matrix"
   ]
  },
  {
   "cell_type": "code",
   "execution_count": null,
   "metadata": {
    "ExecuteTime": {
     "end_time": "2020-05-01T15:08:15.089663Z",
     "start_time": "2020-05-01T15:08:15.072710Z"
    },
    "hidden": true,
    "scrolled": true
   },
   "outputs": [],
   "source": [
    "# check for missing values\n",
    "display(data.isna().any())\n",
    "\n",
    "# verify/drop any missing values\n",
    "#customer_filtered.isna().any()\n",
    "#data_dropna = data.dropna() \n",
    "#instead of dropna. i decided to drop columns instead.\n",
    "data_dropna = data.drop(['Average_Fleet_Age_Months','Average_Fleet_Hours'], axis = 1)\n",
    "# verify data size\n",
    "data_dropna.shape"
   ]
  },
  {
   "cell_type": "code",
   "execution_count": null,
   "metadata": {
    "ExecuteTime": {
     "end_time": "2020-05-01T15:08:24.150459Z",
     "start_time": "2020-05-01T15:08:24.134551Z"
    },
    "hidden": true
   },
   "outputs": [],
   "source": [
    "#remove extreme outliers:\n",
    "#If you have multiple columns in your dataframe and would like to remove all \n",
    "#rows that have outliers in at least one column, the following expression \n",
    "#would do that in one shot: select absolute Z score for the row <3 (). .all or .any\n",
    "\n",
    "data_filtered_by_z = data_dropna[(np.abs(stats.zscore(data_dropna)) < 3).all(axis=1)]\n",
    "data_filtered_by_z.shape"
   ]
  },
  {
   "cell_type": "code",
   "execution_count": null,
   "metadata": {
    "ExecuteTime": {
     "end_time": "2020-05-01T15:08:35.667120Z",
     "start_time": "2020-05-01T15:08:35.575331Z"
    },
    "hidden": true
   },
   "outputs": [],
   "source": [
    "# Compute the correlation matrix\n",
    "corr_matrix = round(data_filtered_by_z.corr(),2)\n",
    "\n",
    "# get sorted correlation\n",
    "# def get_redundant_pairs(df):\n",
    "#     pairs_to_drop = set()\n",
    "#     cols = df.columns\n",
    "#     for i in range(0, df.shape[1]):\n",
    "#         for j in range(0, i+1):\n",
    "#             pairs_to_drop.add((cols[i], cols[j]))\n",
    "#     return pairs_to_drop\n",
    "\n",
    "def get_sorted_corr(df):\n",
    "    crr = df.corr().abs().unstack()\n",
    "#     labels_to_drop = get_redundant_pairs(df)\n",
    "#     crr = crr.drop(labels=labels_to_drop).sort_values(ascending=False)\n",
    "    return crr\n",
    "\n",
    "# I did not remove duplicates because i will be using excel filters\n",
    "\n",
    "get_sorted_corr(data_filtered_by_z)\n",
    "\n",
    "sorted_corr = get_sorted_corr(data_dropna)\n",
    "sorted_corr.to_csv('..\\\\data\\\\Output\\\\Sorted_Correlation_Customer_filtered_by_z.csv')\n",
    "\n",
    "display(corr_matrix)"
   ]
  },
  {
   "cell_type": "code",
   "execution_count": null,
   "metadata": {
    "ExecuteTime": {
     "end_time": "2020-05-01T15:08:58.165648Z",
     "start_time": "2020-05-01T15:08:47.279683Z"
    },
    "hidden": true
   },
   "outputs": [],
   "source": [
    "#Generate a chart for correlations\n",
    "\n",
    "# Generate a mask for the upper triangle\n",
    "mask = np.triu(np.ones_like(corr_matrix, dtype=np.bool))\n",
    "\n",
    "# Set up the matplotlib figure\n",
    "fig, ax = plt.subplots(figsize=(120, 120))\n",
    "\n",
    "# Generate a custom diverging colormap\n",
    "cmap = sns.diverging_palette(240, 10, n=9, as_cmap=True)\n",
    "\n",
    "heatmap = sns.heatmap(corr_matrix, mask=mask, cmap=cmap,\n",
    "                      square=True, linewidths=3,\n",
    "                      cbar_kws = {'shrink': 0.6},\n",
    "                      vmin=-1, vmax=1,\n",
    "                      annot=True, annot_kws = {'size': 2})\n",
    "\n",
    "# add the column names as labels\n",
    "ax.set_yticklabels(corr_matrix.columns)\n",
    "ax.set_xticklabels(corr_matrix.columns)\n",
    "\n",
    "# plt.show()\n",
    "plt.savefig('..\\\\data\\\\Output\\\\Correlation_Matrix_Customer_filtered_by_Z')"
   ]
  },
  {
   "cell_type": "code",
   "execution_count": null,
   "metadata": {
    "ExecuteTime": {
     "end_time": "2020-04-30T17:32:51.807954Z",
     "start_time": "2020-04-30T17:32:51.803950Z"
    },
    "hidden": true
   },
   "outputs": [],
   "source": [
    "#OR using yoyo's plot (sns)\n",
    "#plt.style.use('seaborn-ticks')\n",
    "\n",
    "#sns.pairplot(data_filtered_by_z, kind='reg', diag_kind='hist',\n",
    "#             height=2.5, aspect=1,\n",
    "#             plot_kws={'scatter_kws': {'alpha': 0.7}})\n",
    "#save the plot\n",
    "#plt.savefig('..\\\\data\\\\Output\\\\Scatter_Plot_Customer_filtered_by_z')"
   ]
  },
  {
   "cell_type": "markdown",
   "metadata": {
    "ExecuteTime": {
     "end_time": "2020-04-28T12:55:05.474059Z",
     "start_time": "2020-04-28T12:55:05.469087Z"
    },
    "heading_collapsed": true,
    "hidden": true
   },
   "source": [
    "## Testing 1 assumption: y = 'Expenditure_12M_Equipment'"
   ]
  },
  {
   "cell_type": "markdown",
   "metadata": {
    "heading_collapsed": true,
    "hidden": true
   },
   "source": [
    "### Drop variables with very low correlation to Y"
   ]
  },
  {
   "cell_type": "code",
   "execution_count": null,
   "metadata": {
    "ExecuteTime": {
     "end_time": "2020-05-01T15:10:37.459152Z",
     "start_time": "2020-05-01T15:10:37.447186Z"
    },
    "hidden": true
   },
   "outputs": [],
   "source": [
    "#Drop columns with very low correlations\n",
    "customer_filtered = data_dropna.drop([\n",
    "#     'Average_Fleet_Annual_Utilization'#0.175846059\n",
    "#     ,'Average_Count_WorkOrder_Per_Unit_0_12M'#0.170213446\n",
    "#     ,'PARTS_CU_0_12M'#0.169683379\n",
    "#     ,'Average_Count_SOS_Per_Unit_0_12M'#0.163032163\n",
    "#     ,'Family_Expenditure_12M_Rentals'#0.146013307\n",
    "#     ,'Mean_SMU_Between_SOS'#0.135341631\n",
    "#     ,'Percentage_SubscriptionActive'#0.123444156\n",
    "#     ,'ServiceDCAL'#0.111352903\n",
    "#     ,'Family_Expenditure_12M_Equipment'#0.101919145\n",
    "#     ,'PartsDCAL'#0.10153469\n",
    "#     ,'Family_Accounts'#0.090045625\n",
    "#    ,'Family_Expenditure_12M_PartsNServices'#0.089948971\n",
    "#    ,'Percentage_PLDeviceSerialNumber'#0.089306841\n",
    "    'Family_CatFleetSize'#0.017900534\n",
    "    ,'Family_FleetSize'#0.016308968\n",
    "    ,'Mean_SMU_Between_Repairs'#0.008058017\n",
    "     ],axis = 1)\n",
    "customer_filtered.shape"
   ]
  },
  {
   "cell_type": "markdown",
   "metadata": {
    "ExecuteTime": {
     "end_time": "2020-04-28T14:33:11.116893Z",
     "start_time": "2020-04-28T14:33:11.113907Z"
    },
    "heading_collapsed": true,
    "hidden": true
   },
   "source": [
    "### Testing for Multicollinearity"
   ]
  },
  {
   "cell_type": "code",
   "execution_count": null,
   "metadata": {
    "ExecuteTime": {
     "end_time": "2020-05-01T15:10:55.802717Z",
     "start_time": "2020-05-01T15:10:55.234669Z"
    },
    "hidden": true,
    "scrolled": false
   },
   "outputs": [],
   "source": [
    "# define two data frames one before the drop and one after the drop\n",
    "customer_filtered_before = customer_filtered\n",
    "customer_filtered_after = customer_filtered.drop([\n",
    "    'Expenditure_12M_Total'\n",
    "    ,'Count_FleetSize'\n",
    "    ,'SERVICES_CU_0_12M'\n",
    "    ,'WO_COUNT_CU_0_12M'\n",
    "    ,'Family_Expenditure_12M_PartsNServices'\n",
    "    ,'Family_Expenditure_12M_Equipment'\n",
    "    ,'Family_Expenditure_12M_Rentals'\n",
    "     # first to remove\n",
    "    ],axis = 1)\n",
    "\n",
    "#Step by step:\n",
    "#look for pairs in correlation matrix, find extreme high correlations and drop 1 of the two\n",
    "#review before/after series and correlation matrix back and forth Multiculinearity \n",
    "#shows high and somewhat similiar variance inflation factor\n",
    "#inf means extremely large and should be concerned\n",
    "#for pairs, drop the variable that is less complete/reliable, or if they could be calculated\n",
    "#from one another, or  has lower correlation to Y\n",
    "\n",
    "#set maximum display row to 100\n",
    "pd.options.display.max_rows = 100\n",
    "\n",
    "# the VFI does expect a constant term in the data, so we need to add one using the add_constant method\n",
    "X1 = sm.tools.add_constant(customer_filtered_before)\n",
    "X2 = sm.tools.add_constant(customer_filtered_after)\n",
    "\n",
    "# create the series for both\n",
    "series_before = pd.Series([variance_inflation_factor(X1.values, i) for i in range(X1.shape[1])], index=X1.columns)\n",
    "series_after = pd.Series([variance_inflation_factor(X2.values, i) for i in range(X2.shape[1])], index=X2.columns)\n",
    "\n",
    "# display the series\n",
    "\n",
    "print('DATA BEFORE')\n",
    "print('-'*100)\n",
    "display(series_before)\n",
    "#series_before.to_csv('..\\\\data\\\\Output\\\\series_before.csv')\n",
    "\n",
    "print('DATA AFTER')\n",
    "print('-'*100)\n",
    "display(series_after)\n",
    "#series_after.to_csv('..\\\\data\\\\Output\\\\series_after.csv')"
   ]
  },
  {
   "cell_type": "code",
   "execution_count": null,
   "metadata": {
    "ExecuteTime": {
     "end_time": "2020-05-01T15:13:36.865374Z",
     "start_time": "2020-05-01T15:13:36.800527Z"
    },
    "hidden": true,
    "scrolled": false
   },
   "outputs": [],
   "source": [
    "# get the summary\n",
    "desc_df = X2.describe()\n",
    "\n",
    "# add the standard deviation metric\n",
    "desc_df.loc['+3_std'] = desc_df.loc['mean'] + (desc_df.loc['std'] * 3)\n",
    "desc_df.loc['-3_std'] = desc_df.loc['mean'] - (desc_df.loc['std'] * 3)\n",
    "\n",
    "# display it\n",
    "desc_df"
   ]
  },
  {
   "cell_type": "markdown",
   "metadata": {
    "heading_collapsed": true,
    "hidden": true
   },
   "source": [
    "### Create regression model using split"
   ]
  },
  {
   "cell_type": "code",
   "execution_count": null,
   "metadata": {
    "ExecuteTime": {
     "end_time": "2020-05-01T15:13:44.773780Z",
     "start_time": "2020-05-01T15:13:44.739871Z"
    },
    "hidden": true
   },
   "outputs": [],
   "source": [
    "# define our input variable (X) & output variable\n",
    "X = customer_filtered_after.drop('Expenditure_12M_Equipment', axis = 1)\n",
    "Y = customer_filtered_after[['Expenditure_12M_Equipment']]\n",
    "\n",
    "# Split X and y into X_\n",
    "X_train, X_test, y_train, y_test = train_test_split(X, Y, test_size=0.20, random_state=1)\n",
    "# create a Linear Regression model object\n",
    "regression_model = LinearRegression()\n",
    "# pass through the X_train & y_train data set\n",
    "regression_model.fit(X_train, y_train)\n",
    "\n",
    "# let's grab the coefficient of our model and the intercept\n",
    "intercept2 = regression_model.intercept_[0]\n",
    "coefficent2 = regression_model.coef_[0][0]\n",
    "\n",
    "print(\"The intercept for our model is {:.4}\".format(intercept2))\n",
    "print('-'*100)\n",
    "\n",
    "# loop through the dictionary and print the data\n",
    "for coef in zip(X.columns, regression_model.coef_[0]):\n",
    "    print(\"The Coefficient for {} is {:.2}\".format(coef[0],coef[1]))"
   ]
  },
  {
   "cell_type": "code",
   "execution_count": null,
   "metadata": {
    "ExecuteTime": {
     "end_time": "2020-05-01T15:13:49.296388Z",
     "start_time": "2020-05-01T15:13:49.257494Z"
    },
    "hidden": true
   },
   "outputs": [],
   "source": [
    "# #Print trained model OLS\n",
    "model = sm.OLS(y_train, X_train)\n",
    "results = model.fit()\n",
    "print(results.summary())"
   ]
  },
  {
   "cell_type": "markdown",
   "metadata": {
    "heading_collapsed": true,
    "hidden": true
   },
   "source": [
    "### Measures of Error"
   ]
  },
  {
   "cell_type": "code",
   "execution_count": null,
   "metadata": {
    "ExecuteTime": {
     "end_time": "2020-05-01T15:14:04.322164Z",
     "start_time": "2020-05-01T15:14:04.305210Z"
    },
    "hidden": true
   },
   "outputs": [],
   "source": [
    "y_predict = regression_model.predict(X_test)\n",
    "\n",
    "# calculate the mean squared error\n",
    "model_mse = mean_squared_error(y_test, y_predict)\n",
    "\n",
    "# calculate the mean absolute error\n",
    "model_mae = mean_absolute_error(y_test, y_predict)\n",
    "\n",
    "# calulcate the root mean squared error\n",
    "model_rmse =  math.sqrt(model_mse)\n",
    "\n",
    "# display the output\n",
    "print(\"MSE {:.3}\".format(model_mse))\n",
    "print(\"MAE {:.3}\".format(model_mae))\n",
    "print(\"RMSE {:.3}\".format(model_rmse))"
   ]
  },
  {
   "cell_type": "code",
   "execution_count": null,
   "metadata": {
    "ExecuteTime": {
     "end_time": "2020-05-01T15:15:35.717069Z",
     "start_time": "2020-05-01T15:15:35.710089Z"
    },
    "hidden": true,
    "scrolled": true
   },
   "outputs": [],
   "source": [
    "model_r2 = r2_score(y_test, y_predict)\n",
    "print(\"R2: {:.2}\".format(model_r2))"
   ]
  },
  {
   "cell_type": "markdown",
   "metadata": {
    "ExecuteTime": {
     "end_time": "2020-04-28T12:55:05.474059Z",
     "start_time": "2020-04-28T12:55:05.469087Z"
    },
    "heading_collapsed": true,
    "hidden": true
   },
   "source": [
    "## Testing 2 assumption: y = 'Expenditure_12M_PartsNServices'"
   ]
  },
  {
   "cell_type": "markdown",
   "metadata": {
    "heading_collapsed": true,
    "hidden": true
   },
   "source": [
    "### Drop variables with very low correlation to Y"
   ]
  },
  {
   "cell_type": "code",
   "execution_count": null,
   "metadata": {
    "ExecuteTime": {
     "end_time": "2020-05-01T12:50:31.176679Z",
     "start_time": "2020-05-01T12:50:31.167713Z"
    },
    "hidden": true
   },
   "outputs": [],
   "source": [
    "#Drop columns with very low correlations\n",
    "customer_filtered_2 = data_dropna.drop([\n",
    "#     'Average_Count_WorkOrder_Per_Unit_0_12M'  #0.166633334661175\n",
    "#     ,'Average_Count_SOS_Per_Unit_0_12M'  #0.156288888416924\n",
    "#     ,'Average_Fleet_Annual_Utilization'  #0.153399972348449\n",
    "#     ,'PartsDCAL'  #0.145070067775836\n",
    "#     ,'ServiceDCAL'  #0.137168296369414\n",
    "#     ,'PercentageFleet_Utilized_0_12M'  #0.122034899759774\n",
    "#     ,'Family_Expenditure_12M_Rentals'  #0.108104086618808\n",
    "#     'Mean_SMU_Between_SOS'  #0.0854501915530597\n",
    "#    ,'Family_Expenditure_12M_PartsNServices'  #0.0825992300016435\n",
    "#    ,'Family_Accounts'  #0.0667757747635436\n",
    "#    ,'Family_Expenditure_12M_Equipment'  #0.0664845302668116\n",
    "    'Family_CatFleetSize'  #0.0490952789636112\n",
    "    ,'Family_FleetSize'  #0.0478747284722545\n",
    "    ,'Mean_SMU_Between_Repairs'  #0.0245275784741454\n",
    "    ,'Percentage_SubscriptionActive'  #0.0212732964124215\n",
    "    ,'Percentage_PLDeviceSerialNumber'  #0.0034875756755241\n",
    "     ],axis = 1)\n",
    "customer_filtered_2.shape"
   ]
  },
  {
   "cell_type": "markdown",
   "metadata": {
    "ExecuteTime": {
     "end_time": "2020-04-28T14:33:11.116893Z",
     "start_time": "2020-04-28T14:33:11.113907Z"
    },
    "heading_collapsed": true,
    "hidden": true
   },
   "source": [
    "### Testing for Multicollinearity"
   ]
  },
  {
   "cell_type": "code",
   "execution_count": null,
   "metadata": {
    "ExecuteTime": {
     "end_time": "2020-05-01T12:50:35.989769Z",
     "start_time": "2020-05-01T12:50:35.552945Z"
    },
    "hidden": true,
    "scrolled": false
   },
   "outputs": [],
   "source": [
    "# define two data frames one before the drop and one after the drop\n",
    "customer_filtered_before = customer_filtered_2\n",
    "customer_filtered_after = customer_filtered_2.drop([\n",
    "    'Expenditure_12M_Total'\n",
    "    ,'Count_FleetSize'\n",
    "    ,'SERVICES_CU_0_12M'\n",
    "    ,'PARTS_CU_0_12M'\n",
    "    ,'WO_COUNT_CU_0_12M'\n",
    "    ,'Family_Accounts'\n",
    "     ,'Family_Expenditure_12M_Rentals'  #0.108104086618808\n",
    "    ,'Family_Expenditure_12M_PartsNServices'  #0.0825992300016435\n",
    "    ,'Family_Expenditure_12M_Equipment'  #0.0664845302668116\n",
    "     # first to remove\n",
    "    ],axis = 1)\n",
    "\n",
    "#Step by step:\n",
    "#look for pairs in correlation matrix, find extreme high correlations and drop 1 of the two\n",
    "#review before/after series and correlation matrix back and forth Multiculinearity \n",
    "#shows high and somewhat similiar variance inflation factor\n",
    "#inf means extremely large and should be concerned\n",
    "#for pairs, drop the variable that is less complete/reliable, or if they could be calculated\n",
    "#from one another, or  has lower correlation to Y\n",
    "\n",
    "#set maximum display row to 100\n",
    "pd.options.display.max_rows = 100\n",
    "\n",
    "# the VFI does expect a constant term in the data, so we need to add one using the add_constant method\n",
    "X1 = sm.tools.add_constant(customer_filtered_before)\n",
    "X2 = sm.tools.add_constant(customer_filtered_after)\n",
    "\n",
    "# create the series for both\n",
    "series_before = pd.Series([variance_inflation_factor(X1.values, i) for i in range(X1.shape[1])], index=X1.columns)\n",
    "series_after = pd.Series([variance_inflation_factor(X2.values, i) for i in range(X2.shape[1])], index=X2.columns)\n",
    "\n",
    "# display the series\n",
    "\n",
    "print('DATA BEFORE')\n",
    "print('-'*100)\n",
    "display(series_before)\n",
    "#series_before.to_csv('..\\\\data\\\\Output\\\\series_before.csv')\n",
    "\n",
    "print('DATA AFTER')\n",
    "print('-'*100)\n",
    "display(series_after)\n",
    "#series_after.to_csv('..\\\\data\\\\Output\\\\series_after.csv')"
   ]
  },
  {
   "cell_type": "code",
   "execution_count": null,
   "metadata": {
    "ExecuteTime": {
     "end_time": "2020-05-01T12:50:39.753521Z",
     "start_time": "2020-05-01T12:50:39.704610Z"
    },
    "hidden": true,
    "scrolled": false
   },
   "outputs": [],
   "source": [
    "# get the summary\n",
    "desc_df = X2.describe()\n",
    "\n",
    "# add the standard deviation metric\n",
    "desc_df.loc['+3_std'] = desc_df.loc['mean'] + (desc_df.loc['std'] * 3)\n",
    "desc_df.loc['-3_std'] = desc_df.loc['mean'] - (desc_df.loc['std'] * 3)\n",
    "\n",
    "# display it\n",
    "desc_df"
   ]
  },
  {
   "cell_type": "markdown",
   "metadata": {
    "heading_collapsed": true,
    "hidden": true
   },
   "source": [
    "### Create regression model using split"
   ]
  },
  {
   "cell_type": "code",
   "execution_count": null,
   "metadata": {
    "ExecuteTime": {
     "end_time": "2020-05-01T12:50:51.351557Z",
     "start_time": "2020-05-01T12:50:51.332607Z"
    },
    "hidden": true
   },
   "outputs": [],
   "source": [
    "# define our input variable (X) & output variable\n",
    "X = customer_filtered_after.drop('Expenditure_12M_PartsNServices', axis = 1)\n",
    "Y = customer_filtered_after[['Expenditure_12M_PartsNServices']]\n",
    "\n",
    "# Split X and y into X_\n",
    "X_train, X_test, y_train, y_test = train_test_split(X, Y, test_size=0.20, random_state=1)\n",
    "# create a Linear Regression model object\n",
    "regression_model = LinearRegression()\n",
    "# pass through the X_train & y_train data set\n",
    "regression_model.fit(X_train, y_train)\n",
    "\n",
    "# let's grab the coefficient of our model and the intercept\n",
    "intercept2 = regression_model.intercept_[0]\n",
    "coefficent2 = regression_model.coef_[0][0]\n",
    "\n",
    "print(\"The intercept for our model is {:.4}\".format(intercept2))\n",
    "print('-'*100)\n",
    "\n",
    "# loop through the dictionary and print the data\n",
    "for coef in zip(X.columns, regression_model.coef_[0]):\n",
    "    print(\"The Coefficient for {} is {:.2}\".format(coef[0],coef[1]))"
   ]
  },
  {
   "cell_type": "code",
   "execution_count": null,
   "metadata": {
    "ExecuteTime": {
     "end_time": "2020-05-01T12:50:54.727829Z",
     "start_time": "2020-05-01T12:50:54.703893Z"
    },
    "hidden": true
   },
   "outputs": [],
   "source": [
    "model = sm.OLS(y_train, X_train)\n",
    "results = model.fit()\n",
    "print(results.summary())"
   ]
  },
  {
   "cell_type": "markdown",
   "metadata": {
    "heading_collapsed": true,
    "hidden": true
   },
   "source": [
    "### Measures of Error"
   ]
  },
  {
   "cell_type": "code",
   "execution_count": null,
   "metadata": {
    "ExecuteTime": {
     "end_time": "2020-05-01T12:51:02.810133Z",
     "start_time": "2020-05-01T12:51:02.798170Z"
    },
    "hidden": true
   },
   "outputs": [],
   "source": [
    "y_predict = regression_model.predict(X_test)\n",
    "\n",
    "# calculate the mean squared error\n",
    "model_mse = mean_squared_error(y_test, y_predict)\n",
    "\n",
    "# calculate the mean absolute error\n",
    "model_mae = mean_absolute_error(y_test, y_predict)\n",
    "\n",
    "# calulcate the root mean squared error\n",
    "model_rmse =  math.sqrt(model_mse)\n",
    "\n",
    "# display the output\n",
    "print(\"MSE {:.3}\".format(model_mse))\n",
    "print(\"MAE {:.3}\".format(model_mae))\n",
    "print(\"RMSE {:.3}\".format(model_rmse))"
   ]
  },
  {
   "cell_type": "code",
   "execution_count": null,
   "metadata": {
    "ExecuteTime": {
     "end_time": "2020-05-01T12:51:09.552434Z",
     "start_time": "2020-05-01T12:51:09.547447Z"
    },
    "hidden": true
   },
   "outputs": [],
   "source": [
    "model_r2 = r2_score(y_test, y_predict)\n",
    "print(\"R2: {:.2}\".format(model_r2))"
   ]
  },
  {
   "cell_type": "markdown",
   "metadata": {
    "ExecuteTime": {
     "end_time": "2020-04-28T12:55:05.474059Z",
     "start_time": "2020-04-28T12:55:05.469087Z"
    },
    "heading_collapsed": true,
    "hidden": true
   },
   "source": [
    "## Testing 3 assumption: y = 'Expenditure_12M_Rentals'"
   ]
  },
  {
   "cell_type": "markdown",
   "metadata": {
    "heading_collapsed": true,
    "hidden": true
   },
   "source": [
    "### Drop variables with very low correlation to Y"
   ]
  },
  {
   "cell_type": "code",
   "execution_count": null,
   "metadata": {
    "ExecuteTime": {
     "end_time": "2020-05-01T12:51:13.712654Z",
     "start_time": "2020-05-01T12:51:13.703681Z"
    },
    "hidden": true
   },
   "outputs": [],
   "source": [
    "#Drop columns with very low correlations\n",
    "customer_filtered_3 = data_dropna.drop([\n",
    "#    'Family_Expenditure_12M_Rentals'  #0.120975475580277\n",
    "#     ,'Average_Count_WorkOrder_Per_Unit_0_12M'  #0.0980163342347926\n",
    "#     ,'ServiceDCAL'  #0.0853271623755782\n",
    "#     ,'Average_Fleet_Annual_Utilization'  #0.0794614031324676\n",
    "#     ,'PercentageFleet_Utilized_0_12M'  #0.0753220870037637\n",
    "#     ,'PartsDCAL'  #0.0685646052572167\n",
    "#     ,'Average_Count_SOS_Per_Unit_0_12M'  #0.0676082558054839\n",
    "    'Mean_SMU_Between_SOS'  #0.0470133914198075\n",
    "    ,'Mean_SMU_Between_Repairs'  #0.0145017106442887\n",
    "    ,'Percentage_SubscriptionActive'  #0.013981050846743\n",
    "    ,'Family_Expenditure_12M_Equipment'  #0.0104706272426273\n",
    "    ,'Family_Expenditure_12M_PartsNServices'  #0.0101370377282621\n",
    "    ,'Family_Accounts'  #0.00653449338871061\n",
    "    ,'Percentage_PLDeviceSerialNumber'  #0.0043947503190068\n",
    "    ,'Family_CatFleetSize'  #0.00295002581263044\n",
    "    ,'Family_FleetSize'  #0.00272325099532973\n",
    "     ],axis = 1)\n",
    "customer_filtered_3.shape"
   ]
  },
  {
   "cell_type": "markdown",
   "metadata": {
    "ExecuteTime": {
     "end_time": "2020-04-28T14:33:11.116893Z",
     "start_time": "2020-04-28T14:33:11.113907Z"
    },
    "heading_collapsed": true,
    "hidden": true
   },
   "source": [
    "### Testing for Multicollinearity"
   ]
  },
  {
   "cell_type": "code",
   "execution_count": null,
   "metadata": {
    "ExecuteTime": {
     "end_time": "2020-05-01T12:51:16.632217Z",
     "start_time": "2020-05-01T12:51:16.373904Z"
    },
    "hidden": true,
    "scrolled": true
   },
   "outputs": [],
   "source": [
    "# define two data frames one before the drop and one after the drop\n",
    "customer_filtered_before = customer_filtered_3\n",
    "customer_filtered_after = customer_filtered_3.drop([\n",
    "    'Expenditure_12M_Total'\n",
    "    ,'Count_FleetSize'\n",
    "    ,'SERVICES_CU_0_12M'\n",
    "    ,'PARTS_CU_0_12M'\n",
    "    ,'WO_COUNT_CU_0_12M'\n",
    "     # first to remove\n",
    "    ],axis = 1)\n",
    "\n",
    "#Step by step:\n",
    "#look for pairs in correlation matrix, find extreme high correlations and drop 1 of the two\n",
    "#review before/after series and correlation matrix back and forth Multiculinearity \n",
    "#shows high and somewhat similiar variance inflation factor\n",
    "#inf means extremely large and should be concerned\n",
    "#for pairs, drop the variable that is less complete/reliable, or if they could be calculated\n",
    "#from one another, or  has lower correlation to Y\n",
    "\n",
    "#set maximum display row to 100\n",
    "pd.options.display.max_rows = 100\n",
    "\n",
    "# the VFI does expect a constant term in the data, so we need to add one using the add_constant method\n",
    "X1 = sm.tools.add_constant(customer_filtered_before)\n",
    "X2 = sm.tools.add_constant(customer_filtered_after)\n",
    "\n",
    "# create the series for both\n",
    "series_before = pd.Series([variance_inflation_factor(X1.values, i) for i in range(X1.shape[1])], index=X1.columns)\n",
    "series_after = pd.Series([variance_inflation_factor(X2.values, i) for i in range(X2.shape[1])], index=X2.columns)\n",
    "\n",
    "# display the series\n",
    "\n",
    "print('DATA BEFORE')\n",
    "print('-'*100)\n",
    "display(series_before)\n",
    "#series_before.to_csv('..\\\\data\\\\Output\\\\series_before.csv')\n",
    "\n",
    "print('DATA AFTER')\n",
    "print('-'*100)\n",
    "display(series_after)\n",
    "#series_after.to_csv('..\\\\data\\\\Output\\\\series_after.csv')"
   ]
  },
  {
   "cell_type": "code",
   "execution_count": null,
   "metadata": {
    "ExecuteTime": {
     "end_time": "2020-05-01T12:51:21.430700Z",
     "start_time": "2020-05-01T12:51:21.378839Z"
    },
    "hidden": true,
    "scrolled": false
   },
   "outputs": [],
   "source": [
    "# get the summary\n",
    "desc_df = X2.describe()\n",
    "\n",
    "# add the standard deviation metric\n",
    "desc_df.loc['+3_std'] = desc_df.loc['mean'] + (desc_df.loc['std'] * 3)\n",
    "desc_df.loc['-3_std'] = desc_df.loc['mean'] - (desc_df.loc['std'] * 3)\n",
    "\n",
    "# display it\n",
    "desc_df"
   ]
  },
  {
   "cell_type": "markdown",
   "metadata": {
    "heading_collapsed": true,
    "hidden": true
   },
   "source": [
    "### Create regression model using split"
   ]
  },
  {
   "cell_type": "code",
   "execution_count": null,
   "metadata": {
    "ExecuteTime": {
     "end_time": "2020-05-01T12:51:25.482990Z",
     "start_time": "2020-05-01T12:51:25.463079Z"
    },
    "hidden": true
   },
   "outputs": [],
   "source": [
    "# define our input variable (X) & output variable\n",
    "X = customer_filtered_after.drop('Expenditure_12M_Rentals', axis = 1)\n",
    "Y = customer_filtered_after[['Expenditure_12M_Rentals']]\n",
    "\n",
    "# Split X and y into X_\n",
    "X_train, X_test, y_train, y_test = train_test_split(X, Y, test_size=0.20, random_state=1)\n",
    "# create a Linear Regression model object\n",
    "regression_model = LinearRegression()\n",
    "# pass through the X_train & y_train data set\n",
    "regression_model.fit(X_train, y_train)\n",
    "\n",
    "# let's grab the coefficient of our model and the intercept\n",
    "intercept2 = regression_model.intercept_[0]\n",
    "coefficent2 = regression_model.coef_[0][0]\n",
    "\n",
    "print(\"The intercept for our model is {:.4}\".format(intercept2))\n",
    "print('-'*100)\n",
    "\n",
    "# loop through the dictionary and print the data\n",
    "for coef in zip(X.columns, regression_model.coef_[0]):\n",
    "    print(\"The Coefficient for {} is {:.2}\".format(coef[0],coef[1]))"
   ]
  },
  {
   "cell_type": "code",
   "execution_count": null,
   "metadata": {
    "ExecuteTime": {
     "end_time": "2020-05-01T12:51:36.426117Z",
     "start_time": "2020-05-01T12:51:36.399188Z"
    },
    "hidden": true
   },
   "outputs": [],
   "source": [
    "model = sm.OLS(y_train, X_train)\n",
    "results = model.fit()\n",
    "print(results.summary())"
   ]
  },
  {
   "cell_type": "markdown",
   "metadata": {
    "heading_collapsed": true,
    "hidden": true
   },
   "source": [
    "### Measures of Error"
   ]
  },
  {
   "cell_type": "code",
   "execution_count": null,
   "metadata": {
    "ExecuteTime": {
     "end_time": "2020-05-01T12:51:40.798512Z",
     "start_time": "2020-05-01T12:51:40.787542Z"
    },
    "hidden": true
   },
   "outputs": [],
   "source": [
    "y_predict = regression_model.predict(X_test)\n",
    "\n",
    "# calculate the mean squared error\n",
    "model_mse = mean_squared_error(y_test, y_predict)\n",
    "\n",
    "# calculate the mean absolute error\n",
    "model_mae = mean_absolute_error(y_test, y_predict)\n",
    "\n",
    "# calulcate the root mean squared error\n",
    "model_rmse =  math.sqrt(model_mse)\n",
    "\n",
    "# display the output\n",
    "print(\"MSE {:.3}\".format(model_mse))\n",
    "print(\"MAE {:.3}\".format(model_mae))\n",
    "print(\"RMSE {:.3}\".format(model_rmse))"
   ]
  },
  {
   "cell_type": "code",
   "execution_count": null,
   "metadata": {
    "ExecuteTime": {
     "end_time": "2020-05-01T12:51:41.847030Z",
     "start_time": "2020-05-01T12:51:41.841012Z"
    },
    "hidden": true
   },
   "outputs": [],
   "source": [
    "model_r2 = r2_score(y_test, y_predict)\n",
    "print(\"R2: {:.2}\".format(model_r2))"
   ]
  },
  {
   "cell_type": "markdown",
   "metadata": {
    "ExecuteTime": {
     "end_time": "2020-04-28T12:55:05.474059Z",
     "start_time": "2020-04-28T12:55:05.469087Z"
    },
    "heading_collapsed": true,
    "hidden": true
   },
   "source": [
    "## Testing 4 assumption: y = 'Expenditure_12M_Total'"
   ]
  },
  {
   "cell_type": "markdown",
   "metadata": {
    "heading_collapsed": true,
    "hidden": true
   },
   "source": [
    "### Drop variables with very low correlation to Y"
   ]
  },
  {
   "cell_type": "code",
   "execution_count": null,
   "metadata": {
    "ExecuteTime": {
     "end_time": "2020-05-01T15:50:08.107812Z",
     "start_time": "2020-05-01T15:50:08.099830Z"
    },
    "hidden": true
   },
   "outputs": [],
   "source": [
    "#Drop columns with very low correlations\n",
    "customer_filtered_4 = data_dropna.drop([\n",
    "      'Mean_SMU_Between_SOS'  #0.136025671692045\n",
    "#     'Family_Expenditure_12M_PartsNServices'  #0.101149367476691\n",
    "#     ,'Family_Expenditure_12M_Equipment'  #0.0992118087131292\n",
    "#      ,'Family_Accounts'  #0.091683866279908\n",
    "     ,'Percentage_SubscriptionActive'  #0.0871301151222554\n",
    "     ,'Percentage_PLDeviceSerialNumber'  #0.0553382796156029\n",
    "    ,'Family_CatFleetSize'  #0.0386292750913722\n",
    "    ,'Family_FleetSize'  #0.0369664040617472\n",
    "    ,'Mean_SMU_Between_Repairs'  #0.011595883273253\n",
    "     ],axis = 1)\n",
    "customer_filtered_4.shape"
   ]
  },
  {
   "cell_type": "markdown",
   "metadata": {
    "ExecuteTime": {
     "end_time": "2020-04-28T14:33:11.116893Z",
     "start_time": "2020-04-28T14:33:11.113907Z"
    },
    "heading_collapsed": true,
    "hidden": true
   },
   "source": [
    "### Testing for Multicollinearity"
   ]
  },
  {
   "cell_type": "code",
   "execution_count": null,
   "metadata": {
    "ExecuteTime": {
     "end_time": "2020-05-01T15:50:09.749447Z",
     "start_time": "2020-05-01T15:50:09.169888Z"
    },
    "hidden": true,
    "scrolled": false
   },
   "outputs": [],
   "source": [
    "# define two data frames one before the drop and one after the drop\n",
    "customer_filtered_before = customer_filtered_4\n",
    "customer_filtered_after = customer_filtered_4.drop([\n",
    "    'Expenditure_12M_Rentals' #0.525139222\n",
    "    ,'Expenditure_12M_Equipment'  #0.792534850730603\n",
    "    ,'Expenditure_12M_PartsNServices'  #0.783863227622462\n",
    "    ,'SERVICES_CU_0_12M'  #0.696393345405361\n",
    "    ,'PARTS_CU_0_12M'  #0.633353238877687\n",
    "    ,'Count_FleetSize'\n",
    "    ,'WO_COUNT_CU_0_12M'\n",
    "    ,'Family_Accounts'\n",
    "    ,'Family_Expenditure_12M_PartsNServices'  #0.101149367476691\n",
    "    ,'Family_Expenditure_12M_Equipment'  #0.0992118087131292\n",
    "    ],axis = 1)\n",
    "\n",
    "#Step by step:\n",
    "#look for pairs in correlation matrix, find extreme high correlations and drop 1 of the two\n",
    "#review before/after series and correlation matrix back and forth Multiculinearity \n",
    "#shows high and somewhat similiar variance inflation factor\n",
    "#inf means extremely large and should be concerned\n",
    "#for pairs, drop the variable that is less complete/reliable, or if they could be calculated\n",
    "#from one another, or  has lower correlation to Y\n",
    "\n",
    "#set maximum display row to 100\n",
    "pd.options.display.max_rows = 100\n",
    "\n",
    "# the VFI does expect a constant term in the data, so we need to add one using the add_constant method\n",
    "X1 = sm.tools.add_constant(customer_filtered_before)\n",
    "X2 = sm.tools.add_constant(customer_filtered_after)\n",
    "\n",
    "# create the series for both\n",
    "series_before = pd.Series([variance_inflation_factor(X1.values, i) for i in range(X1.shape[1])], index=X1.columns)\n",
    "series_after = pd.Series([variance_inflation_factor(X2.values, i) for i in range(X2.shape[1])], index=X2.columns)\n",
    "\n",
    "# display the series\n",
    "\n",
    "print('DATA BEFORE')\n",
    "print('-'*100)\n",
    "display(series_before)\n",
    "#series_before.to_csv('..\\\\data\\\\Output\\\\series_before.csv')\n",
    "\n",
    "print('DATA AFTER')\n",
    "print('-'*100)\n",
    "display(series_after)\n",
    "#series_after.to_csv('..\\\\data\\\\Output\\\\series_after.csv')"
   ]
  },
  {
   "cell_type": "code",
   "execution_count": null,
   "metadata": {
    "ExecuteTime": {
     "end_time": "2020-05-01T15:50:11.740738Z",
     "start_time": "2020-05-01T15:50:11.657914Z"
    },
    "hidden": true,
    "scrolled": false
   },
   "outputs": [],
   "source": [
    "# get the summary\n",
    "desc_df = X2.describe()\n",
    "\n",
    "# add the standard deviation metric\n",
    "desc_df.loc['+3_std'] = desc_df.loc['mean'] + (desc_df.loc['std'] * 3)\n",
    "desc_df.loc['-3_std'] = desc_df.loc['mean'] - (desc_df.loc['std'] * 3)\n",
    "\n",
    "# display it\n",
    "desc_df"
   ]
  },
  {
   "cell_type": "markdown",
   "metadata": {
    "heading_collapsed": true,
    "hidden": true
   },
   "source": [
    "### Create regression model using split"
   ]
  },
  {
   "cell_type": "code",
   "execution_count": null,
   "metadata": {
    "ExecuteTime": {
     "end_time": "2020-05-01T15:50:12.741371Z",
     "start_time": "2020-05-01T15:50:12.711451Z"
    },
    "hidden": true
   },
   "outputs": [],
   "source": [
    "# define our input variable (X) & output variable\n",
    "X = customer_filtered_after.drop('Expenditure_12M_Total', axis = 1)\n",
    "Y = customer_filtered_after[['Expenditure_12M_Total']]\n",
    "\n",
    "# Split X and y into X_\n",
    "X_train, X_test, y_train, y_test = train_test_split(X, Y, test_size=0.20, random_state=1)\n",
    "# create a Linear Regression model object\n",
    "regression_model = LinearRegression()\n",
    "# pass through the X_train & y_train data set\n",
    "regression_model.fit(X_train, y_train)\n",
    "\n",
    "# let's grab the coefficient of our model and the intercept\n",
    "intercept2 = regression_model.intercept_[0]\n",
    "coefficent2 = regression_model.coef_[0][0]\n",
    "\n",
    "print(\"The intercept for our model is {:.4}\".format(intercept2))\n",
    "print('-'*100)\n",
    "\n",
    "# loop through the dictionary and print the data\n",
    "for coef in zip(X.columns, regression_model.coef_[0]):\n",
    "    print(\"The Coefficient for {} is {:.2}\".format(coef[0],coef[1]))"
   ]
  },
  {
   "cell_type": "code",
   "execution_count": null,
   "metadata": {
    "ExecuteTime": {
     "end_time": "2020-05-01T15:50:13.895112Z",
     "start_time": "2020-05-01T15:50:13.877155Z"
    },
    "hidden": true,
    "scrolled": false
   },
   "outputs": [],
   "source": [
    "model = sm.OLS(y_train, X_train)\n",
    "results = model.fit()\n",
    "print(results.summary())"
   ]
  },
  {
   "cell_type": "code",
   "execution_count": null,
   "metadata": {
    "ExecuteTime": {
     "end_time": "2020-05-01T15:50:18.592727Z",
     "start_time": "2020-05-01T15:50:18.583748Z"
    },
    "hidden": true
   },
   "outputs": [],
   "source": [
    "results.pvalues"
   ]
  },
  {
   "cell_type": "markdown",
   "metadata": {
    "heading_collapsed": true,
    "hidden": true
   },
   "source": [
    "### Measures of Error"
   ]
  },
  {
   "cell_type": "code",
   "execution_count": null,
   "metadata": {
    "ExecuteTime": {
     "end_time": "2020-05-01T15:25:26.432973Z",
     "start_time": "2020-05-01T15:25:26.423999Z"
    },
    "hidden": true
   },
   "outputs": [],
   "source": [
    "y_predict = regression_model.predict(X_test)\n",
    "\n",
    "# calculate the mean squared error\n",
    "model_mse = mean_squared_error(y_test, y_predict)\n",
    "\n",
    "# calculate the mean absolute error\n",
    "model_mae = mean_absolute_error(y_test, y_predict)\n",
    "\n",
    "# calulcate the root mean squared error\n",
    "model_rmse =  math.sqrt(model_mse)\n",
    "\n",
    "# display the output\n",
    "print(\"MSE {:.3}\".format(model_mse))\n",
    "print(\"MAE {:.3}\".format(model_mae))\n",
    "print(\"RMSE {:.3}\".format(model_rmse))"
   ]
  },
  {
   "cell_type": "markdown",
   "metadata": {
    "ExecuteTime": {
     "end_time": "2020-04-30T18:23:32.106281Z",
     "start_time": "2020-04-30T18:23:32.103320Z"
    },
    "heading_collapsed": true,
    "hidden": true
   },
   "source": [
    "### R-Squared"
   ]
  },
  {
   "cell_type": "code",
   "execution_count": null,
   "metadata": {
    "ExecuteTime": {
     "end_time": "2020-05-01T15:25:28.808970Z",
     "start_time": "2020-05-01T15:25:28.802988Z"
    },
    "hidden": true
   },
   "outputs": [],
   "source": [
    "model_r2 = r2_score(y_test, y_predict)\n",
    "print(\"R2: {:.2}\".format(model_r2))"
   ]
  },
  {
   "cell_type": "markdown",
   "metadata": {
    "heading_collapsed": true,
    "hidden": true
   },
   "source": [
    "## Regression model for Expenditure_12M_Total"
   ]
  },
  {
   "cell_type": "markdown",
   "metadata": {
    "heading_collapsed": true,
    "hidden": true
   },
   "source": [
    "### Testing for Autocorrelation"
   ]
  },
  {
   "cell_type": "code",
   "execution_count": null,
   "metadata": {
    "ExecuteTime": {
     "end_time": "2020-05-01T12:55:58.902026Z",
     "start_time": "2020-05-01T12:55:58.693589Z"
    },
    "hidden": true
   },
   "outputs": [],
   "source": [
    "# test for Autocorrelation\n",
    "from statsmodels.stats.stattools import durbin_watson\n",
    "\n",
    "# define our intput\n",
    "X2 = sm.add_constant(X)\n",
    "\n",
    "# create a OLS model\n",
    "model = sm.OLS(Y, X2)\n",
    "\n",
    "# fit the data\n",
    "est = model.fit()\n",
    "\n",
    "# calculate the lag, optional\n",
    "lag = min(10, (len(X)//5))\n",
    "print('The number of lags will be {}'.format(lag))\n",
    "print('-'*100)\n",
    "\n",
    "# run the Ljung-Box test for no autocorrelation of residuals\n",
    "# test_results = diag.acorr_breusch_godfrey(est, nlags = lag, store = True)\n",
    "test_results = diag.acorr_ljungbox(est.resid, lags = lag)\n",
    "\n",
    "# grab the p-values and the test statistics\n",
    "ibvalue, p_val = test_results\n",
    "\n",
    "# print the results of the test\n",
    "if min(p_val) > 0.05:\n",
    "    print(\"The lowest p-value found was {:.4}\".format(min(p_val)))\n",
    "    print(\"We fail to reject the null hypthoesis, so there is no autocorrelation.\")\n",
    "    print('-'*100)\n",
    "else:\n",
    "    print(\"The lowest p-value found was {:.4}\".format(min(p_val)))\n",
    "    print(\"We reject the null hypthoesis, so there is autocorrelation.\")\n",
    "    print('-'*100)\n",
    "\n",
    "# plot autocorrelation\n",
    "sm.graphics.tsa.plot_acf(est.resid)\n",
    "plt.show()"
   ]
  },
  {
   "cell_type": "markdown",
   "metadata": {
    "heading_collapsed": true,
    "hidden": true
   },
   "source": [
    "### Testing for Heteroscedasticity"
   ]
  },
  {
   "cell_type": "code",
   "execution_count": null,
   "metadata": {
    "ExecuteTime": {
     "end_time": "2020-05-01T12:38:02.502554Z",
     "start_time": "2020-05-01T12:38:02.364884Z"
    },
    "hidden": true
   },
   "outputs": [],
   "source": [
    "#Run the White's test\n",
    "_, pval, __, f_pval = diag.het_white(est.resid, est.model.exog)\n",
    "# print(pval, f_pval)\n",
    "# print('-'*100)\n",
    "\n",
    "# # print the results of the test\n",
    "# if pval > 0.05:\n",
    "#     print(\"For the White's Test\")\n",
    "#     print(\"The p-value was {:.4}\".format(pval))\n",
    "#     print(\"We fail to reject the null hypthoesis, so there is no heterosecdasticity. \\n\")\n",
    "    \n",
    "# else:\n",
    "#     print(\"For the White's Test\")\n",
    "#     print(\"The p-value was {:.4}\".format(pval))\n",
    "#     print(\"We reject the null hypthoesis, so there is heterosecdasticity. \\n\")\n",
    "\n",
    "# # Run the Breusch-Pagan test\n",
    "# _, pval, __, f_pval = diag.het_breuschpagan(est.resid, est.model.exog)\n",
    "# print(pval, f_pval)\n",
    "# print('-'*100)\n",
    "\n",
    "# # print the results of the test\n",
    "# if pval > 0.05:\n",
    "#     print(\"For the Breusch-Pagan's Test\")\n",
    "#     print(\"The p-value was {:.4}\".format(pval))\n",
    "#     print(\"We fail to reject the null hypthoesis, so there is no heterosecdasticity.\")\n",
    "\n",
    "# else:\n",
    "#     print(\"For the Breusch-Pagan's Test\")\n",
    "#     print(\"The p-value was {:.4}\".format(pval))\n",
    "#     print(\"We reject the null hypthoesis, so there is heterosecdasticity.\")"
   ]
  },
  {
   "cell_type": "markdown",
   "metadata": {
    "heading_collapsed": true,
    "hidden": true
   },
   "source": [
    "### Testing the Mean of the Residuals Equals 0"
   ]
  },
  {
   "cell_type": "code",
   "execution_count": null,
   "metadata": {
    "ExecuteTime": {
     "end_time": "2020-05-01T12:56:08.856486Z",
     "start_time": "2020-05-01T12:56:08.704921Z"
    },
    "hidden": true,
    "scrolled": true
   },
   "outputs": [],
   "source": [
    "# check for the normality of the residuals\n",
    "sm.qqplot(est.resid, line='s')\n",
    "pylab.show()\n",
    "\n",
    "# also check that the mean of the residuals is approx. 0.\n",
    "mean_residuals = sum(est.resid)/ len(est.resid)\n",
    "print(\"The mean of the residuals is {:.4}\".format(mean_residuals))"
   ]
  },
  {
   "cell_type": "markdown",
   "metadata": {
    "heading_collapsed": true,
    "hidden": true
   },
   "source": [
    "### Confidence Intervals"
   ]
  },
  {
   "cell_type": "code",
   "execution_count": null,
   "metadata": {
    "ExecuteTime": {
     "end_time": "2020-05-01T12:56:14.462776Z",
     "start_time": "2020-05-01T12:56:14.451848Z"
    },
    "hidden": true,
    "scrolled": true
   },
   "outputs": [],
   "source": [
    "# make some confidence intervals, 95% by default\n",
    "est.conf_int()"
   ]
  },
  {
   "cell_type": "markdown",
   "metadata": {
    "heading_collapsed": true,
    "hidden": true
   },
   "source": [
    "### Hypothesis Testing"
   ]
  },
  {
   "cell_type": "code",
   "execution_count": null,
   "metadata": {
    "ExecuteTime": {
     "end_time": "2020-05-01T12:56:15.871008Z",
     "start_time": "2020-05-01T12:56:15.864030Z"
    },
    "hidden": true,
    "scrolled": false
   },
   "outputs": [],
   "source": [
    "# estimate the p-values\n",
    "est.pvalues"
   ]
  },
  {
   "cell_type": "markdown",
   "metadata": {
    "heading_collapsed": true,
    "hidden": true
   },
   "source": [
    "### Adjust the model"
   ]
  },
  {
   "cell_type": "code",
   "execution_count": null,
   "metadata": {
    "ExecuteTime": {
     "end_time": "2020-05-01T13:00:58.449210Z",
     "start_time": "2020-05-01T13:00:58.420265Z"
    },
    "hidden": true
   },
   "outputs": [],
   "source": [
    "# define our input variable (X) & output variable\n",
    "customer_filtered_again = customer_filtered_after.drop([\n",
    "    'ServiceDCAL'\n",
    "    ,'Average_Count_WorkOrder_Per_Unit_0_12M'\n",
    "    ,'Average_Count_SOS_Per_Unit_0_12M'\n",
    "#    ,'Percentage_PLDeviceSerialNumber'\n",
    "#    ,'PercentageFleet_Utilized_0_12M'\n",
    "#    ,'Mean_SMU_Between_SOS'\n",
    "     ],axis = 1)\n",
    "\n",
    "X = customer_filtered_again.drop('Expenditure_12M_Total', axis = 1)\n",
    "Y = customer_filtered_again[['Expenditure_12M_Total']]\n",
    "\n",
    "# Split X and y into X_\n",
    "X_train, X_test, y_train, y_test = train_test_split(X, Y, test_size=0.20, random_state=1)\n",
    "# create a Linear Regression model object\n",
    "regression_model = LinearRegression()\n",
    "# pass through the X_train & y_train data set\n",
    "regression_model.fit(X_train, y_train)\n",
    "\n",
    "#Summary\n",
    "model = sm.OLS(y_test, X_test)\n",
    "results = model.fit()\n",
    "print(results.summary())"
   ]
  },
  {
   "cell_type": "code",
   "execution_count": null,
   "metadata": {
    "ExecuteTime": {
     "end_time": "2020-05-01T13:01:00.959318Z",
     "start_time": "2020-05-01T13:01:00.949380Z"
    },
    "hidden": true
   },
   "outputs": [],
   "source": [
    "y_predict = regression_model.predict(X_test)\n",
    "\n",
    "# calculate the mean squared error\n",
    "model_mse = mean_squared_error(y_test, y_predict)\n",
    "\n",
    "# calculate the mean absolute error\n",
    "model_mae = mean_absolute_error(y_test, y_predict)\n",
    "\n",
    "# calulcate the root mean squared error\n",
    "model_rmse =  math.sqrt(model_mse)\n",
    "\n",
    "# display the output\n",
    "print(\"MSE {:.3}\".format(model_mse))\n",
    "print(\"MAE {:.3}\".format(model_mae))\n",
    "print(\"RMSE {:.3}\".format(model_rmse))"
   ]
  },
  {
   "cell_type": "markdown",
   "metadata": {
    "ExecuteTime": {
     "end_time": "2020-04-30T18:23:32.106281Z",
     "start_time": "2020-04-30T18:23:32.103320Z"
    },
    "heading_collapsed": true,
    "hidden": true
   },
   "source": [
    "### R-Squared"
   ]
  },
  {
   "cell_type": "code",
   "execution_count": null,
   "metadata": {
    "ExecuteTime": {
     "end_time": "2020-05-01T13:01:02.371172Z",
     "start_time": "2020-05-01T13:01:02.365172Z"
    },
    "hidden": true
   },
   "outputs": [],
   "source": [
    "model_r2 = r2_score(y_test, y_predict)\n",
    "print(\"R2: {:.2}\".format(model_r2))"
   ]
  },
  {
   "cell_type": "markdown",
   "metadata": {
    "heading_collapsed": true
   },
   "source": [
    "# Explore the variables in linear regression (o_o)!===<"
   ]
  },
  {
   "cell_type": "markdown",
   "metadata": {
    "heading_collapsed": true,
    "hidden": true
   },
   "source": [
    "## Test 1: x = Utilization_Fleet_0_12M_Total y= Expenditure_12M_Total"
   ]
  },
  {
   "cell_type": "markdown",
   "metadata": {
    "heading_collapsed": true,
    "hidden": true
   },
   "source": [
    "### Assess the variables"
   ]
  },
  {
   "cell_type": "code",
   "execution_count": null,
   "metadata": {
    "ExecuteTime": {
     "end_time": "2020-05-01T15:27:47.933678Z",
     "start_time": "2020-05-01T15:27:47.912769Z"
    },
    "hidden": true
   },
   "outputs": [],
   "source": [
    "#Create subset test for testing ideal element\n",
    "test = data_dropna.loc[:, ['Utilization_Fleet_0_12M_Total', 'Expenditure_12M_Total']]\n",
    "#define the x & y data\n",
    "x = test['Utilization_Fleet_0_12M_Total']\n",
    "y = test['Expenditure_12M_Total']\n",
    "\n",
    "test.describe()"
   ]
  },
  {
   "cell_type": "code",
   "execution_count": null,
   "metadata": {
    "ExecuteTime": {
     "end_time": "2020-05-01T15:27:49.311760Z",
     "start_time": "2020-05-01T15:27:49.052453Z"
    },
    "hidden": true,
    "scrolled": true
   },
   "outputs": [],
   "source": [
    "#create the scatter plot from data1\n",
    "plt.plot(x,y,'o',color = 'Pink', label = '')\n",
    "# add the column names as labels\n",
    "plt.title('X VS Y')\n",
    "plt.xlabel('Utilization_Fleet_0_12M_Total')\n",
    "plt.ylabel('Expenditure_12M_Total')\n",
    "plt.legend()\n",
    "plt.show()\n",
    "#Scatter plot shows a few extreme samples. Total rows 456"
   ]
  },
  {
   "cell_type": "markdown",
   "metadata": {
    "heading_collapsed": true,
    "hidden": true
   },
   "source": [
    "### Remove outliers"
   ]
  },
  {
   "cell_type": "code",
   "execution_count": null,
   "metadata": {
    "ExecuteTime": {
     "end_time": "2020-05-01T15:27:52.758303Z",
     "start_time": "2020-05-01T15:27:52.741316Z"
    },
    "hidden": true,
    "scrolled": true
   },
   "outputs": [],
   "source": [
    "#remove extreme outliers:\n",
    "#If you have multiple columns in your dataframe and would like to remove all rows that have outliers in at least one column, \n",
    "#the following expression would do that in one shot: select absolute Z score for the row <1.65 (). .all or .any\n",
    "test_reduced_by_z = test[(np.abs(stats.zscore(test)) < 3).all(axis=1)]\n",
    "\n",
    "x = test_reduced_by_z['Utilization_Fleet_0_12M_Total']\n",
    "y = test_reduced_by_z['Expenditure_12M_Total']\n",
    "test_reduced_by_z.describe()"
   ]
  },
  {
   "cell_type": "code",
   "execution_count": null,
   "metadata": {
    "ExecuteTime": {
     "end_time": "2020-05-01T15:27:54.143669Z",
     "start_time": "2020-05-01T15:27:53.906305Z"
    },
    "hidden": true
   },
   "outputs": [],
   "source": [
    "#create the new scatter plot\n",
    "plt.plot(x,y,'o',color = 'pink', label = '')\n",
    "# add the column names as labels\n",
    "plt.title('X VS Y')\n",
    "plt.xlabel('Utilization_Fleet_0_12M_Total')\n",
    "plt.ylabel('Expenditure_12M_Total')\n",
    "plt.legend()\n",
    "plt.show()"
   ]
  },
  {
   "cell_type": "code",
   "execution_count": null,
   "metadata": {
    "ExecuteTime": {
     "end_time": "2020-05-01T15:27:55.554000Z",
     "start_time": "2020-05-01T15:27:55.544028Z"
    },
    "hidden": true,
    "scrolled": false
   },
   "outputs": [],
   "source": [
    "test_reduced_by_z.corr()"
   ]
  },
  {
   "cell_type": "code",
   "execution_count": null,
   "metadata": {
    "ExecuteTime": {
     "end_time": "2020-05-01T15:27:58.125258Z",
     "start_time": "2020-05-01T15:27:57.810070Z"
    },
    "hidden": true
   },
   "outputs": [],
   "source": [
    "test_reduced_by_z.hist(grid = True, color = 'CadetBlue')"
   ]
  },
  {
   "cell_type": "code",
   "execution_count": null,
   "metadata": {
    "ExecuteTime": {
     "end_time": "2020-05-01T15:28:00.800296Z",
     "start_time": "2020-05-01T15:28:00.771362Z"
    },
    "hidden": true
   },
   "outputs": [],
   "source": [
    "x_kurtosis = kurtosis(test_reduced_by_z['Utilization_Fleet_0_12M_Total'], fisher = True)\n",
    "y_kurtosis = kurtosis(test_reduced_by_z['Expenditure_12M_Total'], fisher = True)\n",
    "\n",
    "x_skew = skew(test_reduced_by_z['Utilization_Fleet_0_12M_Total'])\n",
    "y_skew = skew(test_reduced_by_z['Expenditure_12M_Total'])\n",
    "\n",
    "display(\"Utilization_Fleet_0_12M_Total_kurtosis: {:2}\".format(x_kurtosis))\n",
    "display(stats.kurtosistest(test_reduced_by_z['Utilization_Fleet_0_12M_Total']))\n",
    "print('\\n')\n",
    "display(\"Utilization_Fleet_0_12M_Total_skew: {:2}\".format(x_skew))\n",
    "display(stats.skewtest(test_reduced_by_z['Utilization_Fleet_0_12M_Total']))\n",
    "print('\\n')\n",
    "display(\"Expenditure_12M_Total: {:2}\".format(y_kurtosis))\n",
    "display(stats.kurtosistest(test_reduced_by_z['Expenditure_12M_Total']))\n",
    "print('\\n')\n",
    "display(\"Expenditure_12M_Total: {:2}\".format(y_skew))\n",
    "display(stats.skewtest(test_reduced_by_z['Expenditure_12M_Total']))"
   ]
  },
  {
   "cell_type": "raw",
   "metadata": {
    "ExecuteTime": {
     "end_time": "2020-04-28T13:31:18.869062Z",
     "start_time": "2020-04-28T13:31:18.864078Z"
    },
    "hidden": true
   },
   "source": [
    "#**Kurtosis**\n",
    "# - Any distribution with **kurtosis ≈3 (excess ≈0)** is called mesokurtic. This is a normal distribution\n",
    "# - Any distribution with **kurtosis <3 (excess kurtosis <0)** is called platykurtic. Tails are shorter and thinner, and often its central peak is lower and broader.\n",
    "# - Any distribution with **kurtosis >3 (excess kurtosis >0)** is called leptokurtic. Tails are longer and fatter, and often its central peak is higher and sharper.\n",
    "\n",
    "# **Skewness**\n",
    "# - If skewness is **less than −1 or greater than +1**, the distribution is highly skewed.\n",
    "# - If skewness is **between −1 and −½ or between +½ and +1**, the distribution is moderately skewed.\n",
    "# - If skewness is **between −½ and +½**, the distribution is approximately symmetric."
   ]
  },
  {
   "cell_type": "markdown",
   "metadata": {
    "heading_collapsed": true,
    "hidden": true
   },
   "source": [
    "### Build a model"
   ]
  },
  {
   "cell_type": "code",
   "execution_count": null,
   "metadata": {
    "ExecuteTime": {
     "end_time": "2020-05-01T15:28:10.797251Z",
     "start_time": "2020-05-01T15:28:10.771359Z"
    },
    "hidden": true,
    "scrolled": false
   },
   "outputs": [],
   "source": [
    "# define our input variable & output variable\n",
    "x = test_reduced_by_z[['Utilization_Fleet_0_12M_Total']]\n",
    "y = test_reduced_by_z[['Expenditure_12M_Total']]\n",
    "\n",
    "# Split X and y into X_\n",
    "x_train, x_test, y_train, y_test = train_test_split(x, y, test_size=0.20, random_state=1)\n",
    "# create a Linear Regression model object.\n",
    "single_regression_model = LinearRegression()\n",
    "# pass through the X_train & y_train data set.\n",
    "single_regression_model.fit(x_train, y_train)\n",
    "# create OLS model for training data\n",
    "model = sm.OLS(y_train, x_train)\n",
    "# pass through the X_train & y_train data set.\n",
    "est = model.fit()\n",
    "print(est.summary())"
   ]
  },
  {
   "cell_type": "markdown",
   "metadata": {
    "heading_collapsed": true,
    "hidden": true
   },
   "source": [
    "### Verify model is valid by adding constant"
   ]
  },
  {
   "cell_type": "code",
   "execution_count": null,
   "metadata": {
    "ExecuteTime": {
     "end_time": "2020-05-01T15:28:18.368315Z",
     "start_time": "2020-05-01T15:28:18.353356Z"
    },
    "hidden": true
   },
   "outputs": [],
   "source": [
    "#Evaluate Traning model\n",
    "# add constant\n",
    "x_train2 = sm.add_constant(x_train)\n",
    "# create a OLS model.\n",
    "model2 = sm.OLS(y_train, x_train2)\n",
    "# fit the data\n",
    "est2 = model2.fit()\n",
    "# make some confidence intervals, 95% by default.\n",
    "est2.conf_int()"
   ]
  },
  {
   "cell_type": "code",
   "execution_count": null,
   "metadata": {
    "ExecuteTime": {
     "end_time": "2020-05-01T15:28:19.456079Z",
     "start_time": "2020-05-01T15:28:19.447071Z"
    },
    "hidden": true
   },
   "outputs": [],
   "source": [
    "# estimate the p-values\n",
    "est2.pvalues"
   ]
  },
  {
   "cell_type": "markdown",
   "metadata": {
    "heading_collapsed": true,
    "hidden": true
   },
   "source": [
    "### Explore model"
   ]
  },
  {
   "cell_type": "code",
   "execution_count": null,
   "metadata": {
    "ExecuteTime": {
     "end_time": "2020-05-01T15:28:22.170189Z",
     "start_time": "2020-05-01T15:28:22.165203Z"
    },
    "hidden": true,
    "scrolled": true
   },
   "outputs": [],
   "source": [
    "# calculate and display intercept, coefficient\n",
    "intercept = single_regression_model.intercept_[0]\n",
    "coefficient = single_regression_model.coef_[0][0]\n",
    "# print out\n",
    "print(\"The Coefficient for training model is {:2}\".format(coefficient))\n",
    "print(\"The intercept for training model is {:4}\".format(intercept))"
   ]
  },
  {
   "cell_type": "code",
   "execution_count": null,
   "metadata": {
    "ExecuteTime": {
     "end_time": "2020-05-01T15:28:22.815463Z",
     "start_time": "2020-05-01T15:28:22.805491Z"
    },
    "hidden": true
   },
   "outputs": [],
   "source": [
    "# create prediction value and calculate errors\n",
    "y_predict = single_regression_model.predict(x_test)\n",
    "# calculate the mean squared error.\n",
    "model_mse = mean_squared_error(y_test, y_predict)\n",
    "# calculate the mean absolute error.\n",
    "model_mae = mean_absolute_error(y_test, y_predict)\n",
    "# calulcate the root mean squared error\n",
    "model_rmse =  math.sqrt(model_mse)\n",
    "# display the output\n",
    "print(\"MSE {:3}\".format(model_mse))\n",
    "print(\"MAE {:3}\".format(model_mae))\n",
    "print(\"RMSE {:3}\".format(model_rmse))"
   ]
  },
  {
   "cell_type": "code",
   "execution_count": null,
   "metadata": {
    "ExecuteTime": {
     "end_time": "2020-05-01T15:32:42.938951Z",
     "start_time": "2020-05-01T15:32:42.927965Z"
    },
    "hidden": true
   },
   "outputs": [],
   "source": [
    "model_r2 = r2_score(y_test, y_predict)\n",
    "print(\"R2 of the prediction is: {:.2}\".format(model_r2))"
   ]
  },
  {
   "cell_type": "code",
   "execution_count": null,
   "metadata": {
    "ExecuteTime": {
     "end_time": "2020-05-01T15:32:44.326433Z",
     "start_time": "2020-05-01T15:32:44.098791Z"
    },
    "hidden": true
   },
   "outputs": [],
   "source": [
    "# Grab the residuals & then call the hist() method\n",
    "(y_test - y_predict).hist(grid = False, color = 'royalblue')\n",
    "plt.title(\"Model Residuals\")\n",
    "plt.show()"
   ]
  },
  {
   "cell_type": "code",
   "execution_count": null,
   "metadata": {
    "ExecuteTime": {
     "end_time": "2020-05-01T15:32:45.556830Z",
     "start_time": "2020-05-01T15:32:45.256641Z"
    },
    "hidden": true
   },
   "outputs": [],
   "source": [
    "# Plot outputs\n",
    "plt.scatter(x_test, y_test,  color='gainsboro', label = '')\n",
    "plt.plot(x_test, y_predict, color='royalblue', linewidth = 3, linestyle= '-',label ='Regression Line')\n",
    "\n",
    "plt.title(\"Usage_Total VS Expenditure_Total\")\n",
    "plt.xlabel(\"x\")\n",
    "plt.ylabel(\"y\")\n",
    "plt.legend()\n",
    "plt.show()\n",
    "\n",
    "# The coefficients\n",
    "print('Coefficient:' + '\\033[1m' + '{:.2}''\\033[0m'.format(single_regression_model.coef_[0][0]))\n",
    "\n",
    "# The mean squared error\n",
    "print('Mean squared error: ' + '\\033[1m' + '{:.4}''\\033[0m'.format(model_mse))\n",
    "\n",
    "# The mean squared error\n",
    "print('Root Mean squared error: ' + '\\033[1m' + '{:.4}''\\033[0m'.format(math.sqrt(model_mse)))\n",
    "\n",
    "# Explained variance score: 1 is perfect prediction\n",
    "print('R2 score: '+ '\\033[1m' + '{:.2}''\\033[0m'.format(r2_score(y_test,y_predict)))"
   ]
  },
  {
   "cell_type": "markdown",
   "metadata": {
    "heading_collapsed": true,
    "hidden": true
   },
   "source": [
    "### Conclusion"
   ]
  },
  {
   "cell_type": "markdown",
   "metadata": {
    "heading_collapsed": true,
    "hidden": true
   },
   "source": [
    "## Test 2: x = OLGAAmount y= Expenditure_12M_PartsNServices"
   ]
  },
  {
   "cell_type": "markdown",
   "metadata": {
    "heading_collapsed": true,
    "hidden": true
   },
   "source": [
    "### Test 2"
   ]
  },
  {
   "cell_type": "code",
   "execution_count": null,
   "metadata": {
    "ExecuteTime": {
     "end_time": "2020-05-01T13:21:46.371116Z",
     "start_time": "2020-05-01T13:21:46.353203Z"
    },
    "hidden": true
   },
   "outputs": [],
   "source": [
    "#Create subset data1 for testing ideal element\n",
    "test = data_dropna.loc[:, ['OLGAAmount', 'Expenditure_12M_PartsNServices']]\n",
    "\n",
    "#remove extreme outliers:\n",
    "#If you have multiple columns in your dataframe and would like to remove all rows that have outliers in at least one column, \n",
    "#the following expression would do that in one shot: select absolute Z score for the row <1.65 (). .all or .any\n",
    "test_reduced_by_z = test[(np.abs(stats.zscore(test)) < 3).all(axis=1)]\n",
    "\n",
    "#define the x & y data\n",
    "x = test_reduced_by_z['OLGAAmount']\n",
    "y = test_reduced_by_z['Expenditure_12M_PartsNServices']\n",
    "\n",
    "test_reduced_by_z.describe()"
   ]
  },
  {
   "cell_type": "code",
   "execution_count": null,
   "metadata": {
    "ExecuteTime": {
     "end_time": "2020-05-01T13:21:47.695858Z",
     "start_time": "2020-05-01T13:21:47.519276Z"
    },
    "hidden": true
   },
   "outputs": [],
   "source": [
    "#create the new scatter plot\n",
    "plt.plot(x,y,'o',color = 'pink', label = '')\n",
    "# add the column names as labels\n",
    "plt.title('X VS Y')\n",
    "plt.xlabel('X')\n",
    "plt.ylabel('Y')\n",
    "plt.legend()\n",
    "plt.show()"
   ]
  },
  {
   "cell_type": "code",
   "execution_count": null,
   "metadata": {
    "ExecuteTime": {
     "end_time": "2020-05-01T13:21:48.928648Z",
     "start_time": "2020-05-01T13:21:48.920631Z"
    },
    "hidden": true,
    "scrolled": false
   },
   "outputs": [],
   "source": [
    "test_reduced_by_z.corr()"
   ]
  },
  {
   "cell_type": "code",
   "execution_count": null,
   "metadata": {
    "ExecuteTime": {
     "end_time": "2020-05-01T13:21:51.158243Z",
     "start_time": "2020-05-01T13:21:50.902945Z"
    },
    "hidden": true
   },
   "outputs": [],
   "source": [
    "test_reduced_by_z.hist(grid = True, color = 'Purple')"
   ]
  },
  {
   "cell_type": "code",
   "execution_count": null,
   "metadata": {
    "ExecuteTime": {
     "end_time": "2020-05-01T13:21:52.481613Z",
     "start_time": "2020-05-01T13:21:52.467714Z"
    },
    "hidden": true
   },
   "outputs": [],
   "source": [
    "display(stats.kurtosistest(test_reduced_by_z['OLGAAmount']))\n",
    "display(stats.skewtest(test_reduced_by_z['OLGAAmount']))\n",
    "print('\\n')\n",
    "display(stats.kurtosistest(test_reduced_by_z['Expenditure_12M_PartsNServices']))\n",
    "display(stats.skewtest(test_reduced_by_z['Expenditure_12M_PartsNServices']))"
   ]
  },
  {
   "cell_type": "code",
   "execution_count": null,
   "metadata": {
    "ExecuteTime": {
     "end_time": "2020-05-01T13:21:56.472489Z",
     "start_time": "2020-05-01T13:21:56.447555Z"
    },
    "hidden": true,
    "scrolled": false
   },
   "outputs": [],
   "source": [
    "# define our input variable & output variable\n",
    "x = test_reduced_by_z[['OLGAAmount']]\n",
    "y = test_reduced_by_z[['Expenditure_12M_PartsNServices']]\n",
    "\n",
    "# Split X and y into X_\n",
    "x_train, x_test, y_train, y_test = train_test_split(x, y, test_size=0.20, random_state=1)\n",
    "# create a Linear Regression model object.\n",
    "single_regression_model = LinearRegression()\n",
    "# pass through the X_train & y_train data set.\n",
    "single_regression_model.fit(x_train, y_train)\n",
    "# create OLS model for training data\n",
    "model = sm.OLS(y_train, x_train)\n",
    "# pass through the X_train & y_train data set.\n",
    "est = model.fit()\n",
    "print(est.summary())"
   ]
  },
  {
   "cell_type": "code",
   "execution_count": null,
   "metadata": {
    "ExecuteTime": {
     "end_time": "2020-05-01T13:21:58.478461Z",
     "start_time": "2020-05-01T13:21:58.470467Z"
    },
    "hidden": true
   },
   "outputs": [],
   "source": [
    "# make some confidence intervals, 95% by default.\n",
    "est.conf_int()"
   ]
  },
  {
   "cell_type": "code",
   "execution_count": null,
   "metadata": {
    "ExecuteTime": {
     "end_time": "2020-05-01T13:22:03.846280Z",
     "start_time": "2020-05-01T13:22:03.838299Z"
    },
    "hidden": true
   },
   "outputs": [],
   "source": [
    "# estimate the p-values\n",
    "est.pvalues"
   ]
  },
  {
   "cell_type": "code",
   "execution_count": null,
   "metadata": {
    "ExecuteTime": {
     "end_time": "2020-05-01T13:22:05.500896Z",
     "start_time": "2020-05-01T13:22:05.495943Z"
    },
    "hidden": true,
    "scrolled": true
   },
   "outputs": [],
   "source": [
    "# calculate and display intercept, coefficient\n",
    "intercept = single_regression_model.intercept_[0]\n",
    "coefficient = single_regression_model.coef_[0][0]\n",
    "# print out\n",
    "print(\"The Coefficient for training model is {:2}\".format(coefficient))\n",
    "print(\"The intercept for training model is {:4}\".format(intercept))"
   ]
  },
  {
   "cell_type": "code",
   "execution_count": null,
   "metadata": {
    "ExecuteTime": {
     "end_time": "2020-05-01T13:22:06.390421Z",
     "start_time": "2020-05-01T13:22:06.380462Z"
    },
    "hidden": true
   },
   "outputs": [],
   "source": [
    "# create prediction value and calculate errors\n",
    "y_predict = single_regression_model.predict(x_test)\n",
    "# calculate the mean squared error.\n",
    "model_mse = mean_squared_error(y_test, y_predict)\n",
    "# calculate the mean absolute error.\n",
    "model_mae = mean_absolute_error(y_test, y_predict)\n",
    "# calulcate the root mean squared error\n",
    "model_rmse =  math.sqrt(model_mse)\n",
    "# display the output\n",
    "print(\"MSE {:3}\".format(model_mse))\n",
    "print(\"MAE {:3}\".format(model_mae))\n",
    "print(\"RMSE {:3}\".format(model_rmse))"
   ]
  },
  {
   "cell_type": "code",
   "execution_count": null,
   "metadata": {
    "ExecuteTime": {
     "end_time": "2020-05-01T13:22:07.592562Z",
     "start_time": "2020-05-01T13:22:07.586570Z"
    },
    "hidden": true
   },
   "outputs": [],
   "source": [
    "model_r2 = r2_score(y_test, y_predict)\n",
    "print(\"R2 of the prediction is: {:.2}\".format(model_r2))"
   ]
  },
  {
   "cell_type": "code",
   "execution_count": null,
   "metadata": {
    "ExecuteTime": {
     "end_time": "2020-05-01T13:22:09.022277Z",
     "start_time": "2020-05-01T13:22:08.885637Z"
    },
    "hidden": true
   },
   "outputs": [],
   "source": [
    "# Grab the residuals & then call the hist() method\n",
    "(y_test - y_predict).hist(grid = False, color = 'Gold')\n",
    "plt.title(\"Model Residuals\")\n",
    "plt.show()"
   ]
  },
  {
   "cell_type": "code",
   "execution_count": null,
   "metadata": {
    "ExecuteTime": {
     "end_time": "2020-05-01T13:22:10.340378Z",
     "start_time": "2020-05-01T13:22:10.161862Z"
    },
    "hidden": true,
    "scrolled": true
   },
   "outputs": [],
   "source": [
    "# Plot outputs\n",
    "plt.scatter(x_test, y_test,  color='pink', label = '')\n",
    "plt.plot(x_test, y_predict, color='royalblue', linewidth = 3, linestyle= '-',label ='Regression Line')\n",
    "\n",
    "plt.title(\"OLGAAmount VS Expenditure_12M_PartsNServices\")\n",
    "plt.xlabel(\"x\")\n",
    "plt.ylabel(\"y\")\n",
    "plt.legend()\n",
    "plt.show()\n",
    "\n",
    "# The coefficients\n",
    "print('Coefficient:' + '\\033[1m' + '{:.2}''\\033[0m'.format(single_regression_model.coef_[0][0]))\n",
    "\n",
    "# The mean squared error\n",
    "print('Mean squared error: ' + '\\033[1m' + '{:.4}''\\033[0m'.format(model_mse))\n",
    "\n",
    "# The mean squared error\n",
    "print('Root Mean squared error: ' + '\\033[1m' + '{:.4}''\\033[0m'.format(math.sqrt(model_mse)))\n",
    "\n",
    "# Explained variance score: 1 is perfect prediction\n",
    "print('R2 score: '+ '\\033[1m' + '{:.2}''\\033[0m'.format(r2_score(y_test,y_predict)))"
   ]
  },
  {
   "cell_type": "markdown",
   "metadata": {
    "heading_collapsed": true,
    "hidden": true
   },
   "source": [
    "### Test 2 Conclusion"
   ]
  },
  {
   "cell_type": "markdown",
   "metadata": {
    "heading_collapsed": true,
    "hidden": true
   },
   "source": [
    "## Test 3: x = Count_CatFleetSize y= Expenditure_12M_PartsNServices"
   ]
  },
  {
   "cell_type": "markdown",
   "metadata": {
    "heading_collapsed": true,
    "hidden": true
   },
   "source": [
    "### Test 3"
   ]
  },
  {
   "cell_type": "code",
   "execution_count": null,
   "metadata": {
    "ExecuteTime": {
     "end_time": "2020-05-01T13:22:24.560548Z",
     "start_time": "2020-05-01T13:22:24.538609Z"
    },
    "hidden": true
   },
   "outputs": [],
   "source": [
    "#Create subset data1 for testing ideal element\n",
    "test = data_dropna.loc[:, ['Count_CatFleetSize', 'Expenditure_12M_PartsNServices']]\n",
    "\n",
    "#remove extreme outliers:\n",
    "#If you have multiple columns in your dataframe and would like to remove all rows that have outliers in at least one column, \n",
    "#the following expression would do that in one shot: select absolute Z score for the row <1.65 (). .all or .any\n",
    "test_reduced_by_z = test[(np.abs(stats.zscore(test)) < 3).all(axis=1)]\n",
    "\n",
    "#define the x & y data\n",
    "x = test_reduced_by_z['Count_CatFleetSize']\n",
    "y = test_reduced_by_z['Expenditure_12M_PartsNServices']\n",
    "\n",
    "test_reduced_by_z.describe()"
   ]
  },
  {
   "cell_type": "code",
   "execution_count": null,
   "metadata": {
    "ExecuteTime": {
     "end_time": "2020-05-01T13:22:26.235811Z",
     "start_time": "2020-05-01T13:22:26.060325Z"
    },
    "hidden": true
   },
   "outputs": [],
   "source": [
    "#create the new scatter plot\n",
    "plt.plot(x,y,'o',color = 'pink', label = '')\n",
    "# add the column names as labels\n",
    "plt.title('X VS Y')\n",
    "plt.xlabel('X')\n",
    "plt.ylabel('Y')\n",
    "plt.legend()\n",
    "plt.show()"
   ]
  },
  {
   "cell_type": "code",
   "execution_count": null,
   "metadata": {
    "ExecuteTime": {
     "end_time": "2020-05-01T13:22:27.581127Z",
     "start_time": "2020-05-01T13:22:27.570159Z"
    },
    "hidden": true,
    "scrolled": false
   },
   "outputs": [],
   "source": [
    "test_reduced_by_z.corr()"
   ]
  },
  {
   "cell_type": "code",
   "execution_count": null,
   "metadata": {
    "ExecuteTime": {
     "end_time": "2020-05-01T13:22:29.220667Z",
     "start_time": "2020-05-01T13:22:28.937387Z"
    },
    "hidden": true
   },
   "outputs": [],
   "source": [
    "test_reduced_by_z.hist(grid = True, color = 'Purple')"
   ]
  },
  {
   "cell_type": "code",
   "execution_count": null,
   "metadata": {
    "ExecuteTime": {
     "end_time": "2020-05-01T13:22:30.868487Z",
     "start_time": "2020-05-01T13:22:30.857520Z"
    },
    "hidden": true
   },
   "outputs": [],
   "source": [
    "display(stats.kurtosistest(test_reduced_by_z['Count_CatFleetSize']))\n",
    "display(stats.skewtest(test_reduced_by_z['Count_CatFleetSize']))"
   ]
  },
  {
   "cell_type": "code",
   "execution_count": null,
   "metadata": {
    "ExecuteTime": {
     "end_time": "2020-05-01T13:22:34.992234Z",
     "start_time": "2020-05-01T13:22:34.970295Z"
    },
    "hidden": true,
    "scrolled": false
   },
   "outputs": [],
   "source": [
    "# define our input variable & output variable\n",
    "x = test_reduced_by_z[['Count_CatFleetSize']]\n",
    "y = test_reduced_by_z[['Expenditure_12M_PartsNServices']]\n",
    "\n",
    "# Split X and y into X_\n",
    "x_train, x_test, y_train, y_test = train_test_split(x, y, test_size=0.20, random_state=1)\n",
    "# create a Linear Regression model object.\n",
    "single_regression_model = LinearRegression()\n",
    "# pass through the X_train & y_train data set.\n",
    "single_regression_model.fit(x_train, y_train)\n",
    "# create OLS model for training data\n",
    "model = sm.OLS(y_train, x_train)\n",
    "# pass through the X_train & y_train data set.\n",
    "est = model.fit()\n",
    "print(est.summary())"
   ]
  },
  {
   "cell_type": "code",
   "execution_count": null,
   "metadata": {
    "ExecuteTime": {
     "end_time": "2020-05-01T13:22:36.440024Z",
     "start_time": "2020-05-01T13:22:36.432005Z"
    },
    "hidden": true
   },
   "outputs": [],
   "source": [
    "# make some confidence intervals, 95% by default.\n",
    "est.conf_int()"
   ]
  },
  {
   "cell_type": "code",
   "execution_count": null,
   "metadata": {
    "ExecuteTime": {
     "end_time": "2020-05-01T13:22:37.230727Z",
     "start_time": "2020-05-01T13:22:37.225751Z"
    },
    "hidden": true
   },
   "outputs": [],
   "source": [
    "# estimate the p-values\n",
    "est.pvalues"
   ]
  },
  {
   "cell_type": "code",
   "execution_count": null,
   "metadata": {
    "ExecuteTime": {
     "end_time": "2020-05-01T13:22:40.340967Z",
     "start_time": "2020-05-01T13:22:40.335983Z"
    },
    "hidden": true,
    "scrolled": true
   },
   "outputs": [],
   "source": [
    "# calculate and display intercept, coefficient\n",
    "intercept = single_regression_model.intercept_[0]\n",
    "coefficient = single_regression_model.coef_[0][0]\n",
    "# print out\n",
    "print(\"The Coefficient for training model is {:2}\".format(coefficient))\n",
    "print(\"The intercept for training model is {:4}\".format(intercept))"
   ]
  },
  {
   "cell_type": "code",
   "execution_count": null,
   "metadata": {
    "ExecuteTime": {
     "end_time": "2020-05-01T13:22:46.342070Z",
     "start_time": "2020-05-01T13:22:46.334093Z"
    },
    "hidden": true
   },
   "outputs": [],
   "source": [
    "# create prediction value and calculate errors\n",
    "y_predict = single_regression_model.predict(x_test)\n",
    "# calculate the mean squared error.\n",
    "model_mse = mean_squared_error(y_test, y_predict)\n",
    "# calculate the mean absolute error.\n",
    "model_mae = mean_absolute_error(y_test, y_predict)\n",
    "# calulcate the root mean squared error\n",
    "model_rmse =  math.sqrt(model_mse)\n",
    "# display the output\n",
    "print(\"MSE {:3}\".format(model_mse))\n",
    "print(\"MAE {:3}\".format(model_mae))\n",
    "print(\"RMSE {:3}\".format(model_rmse))"
   ]
  },
  {
   "cell_type": "code",
   "execution_count": null,
   "metadata": {
    "ExecuteTime": {
     "end_time": "2020-05-01T13:22:48.434215Z",
     "start_time": "2020-05-01T13:22:48.427274Z"
    },
    "hidden": true
   },
   "outputs": [],
   "source": [
    "model_r2 = r2_score(y_test, y_predict)\n",
    "print(\"R2 of the prediction is: {:.2}\".format(model_r2))"
   ]
  },
  {
   "cell_type": "code",
   "execution_count": null,
   "metadata": {
    "ExecuteTime": {
     "end_time": "2020-05-01T13:22:49.966687Z",
     "start_time": "2020-05-01T13:22:49.828013Z"
    },
    "hidden": true
   },
   "outputs": [],
   "source": [
    "# Grab the residuals & then call the hist() method\n",
    "(y_test - y_predict).hist(grid = False, color = 'Gold')\n",
    "plt.title(\"Model Residuals\")\n",
    "plt.show()"
   ]
  },
  {
   "cell_type": "code",
   "execution_count": null,
   "metadata": {
    "ExecuteTime": {
     "end_time": "2020-05-01T13:22:52.731050Z",
     "start_time": "2020-05-01T13:22:52.547878Z"
    },
    "hidden": true
   },
   "outputs": [],
   "source": [
    "# Plot outputs\n",
    "plt.scatter(x_test, y_test,  color='pink', label = '')\n",
    "plt.plot(x_test, y_predict, color='royalblue', linewidth = 3, linestyle= '-',label ='Regression Line')\n",
    "\n",
    "plt.title(\"Count_CatFleetSize VS Expenditure_12M_PartsNServices\")\n",
    "plt.xlabel(\"x\")\n",
    "plt.ylabel(\"y\")\n",
    "plt.legend()\n",
    "plt.show()\n",
    "\n",
    "# The coefficients\n",
    "print('Coefficient:' + '\\033[1m' + '{:.2}''\\033[0m'.format(single_regression_model.coef_[0][0]))\n",
    "\n",
    "# The mean squared error\n",
    "print('Mean squared error: ' + '\\033[1m' + '{:.4}''\\033[0m'.format(model_mse))\n",
    "\n",
    "# The mean squared error\n",
    "print('Root Mean squared error: ' + '\\033[1m' + '{:.4}''\\033[0m'.format(math.sqrt(model_mse)))\n",
    "\n",
    "# Explained variance score: 1 is perfect prediction\n",
    "print('R2 score: '+ '\\033[1m' + '{:.2}''\\033[0m'.format(r2_score(y_test,y_predict)))"
   ]
  },
  {
   "cell_type": "markdown",
   "metadata": {
    "heading_collapsed": true,
    "hidden": true
   },
   "source": [
    "### Test 3 Conclusion"
   ]
  },
  {
   "cell_type": "markdown",
   "metadata": {
    "heading_collapsed": true,
    "hidden": true
   },
   "source": [
    "## Test 4: x = SOS_COUNT_CU_0_12M  y= Expenditure_12M_PartsNServices"
   ]
  },
  {
   "cell_type": "markdown",
   "metadata": {
    "heading_collapsed": true,
    "hidden": true
   },
   "source": [
    "### Test 4"
   ]
  },
  {
   "cell_type": "code",
   "execution_count": null,
   "metadata": {
    "ExecuteTime": {
     "end_time": "2020-05-01T13:23:19.426046Z",
     "start_time": "2020-05-01T13:23:19.405098Z"
    },
    "hidden": true
   },
   "outputs": [],
   "source": [
    "#Create subset data1 for testing ideal element\n",
    "test = data_dropna.loc[:, ['SOS_COUNT_CU_0_12M', 'Expenditure_12M_PartsNServices']]\n",
    "\n",
    "#remove extreme outliers:\n",
    "#If you have multiple columns in your dataframe and would like to remove all rows that have outliers in at least one column, \n",
    "#the following expression would do that in one shot: select absolute Z score for the row <1.65 (). .all or .any\n",
    "test_reduced_by_z = test[(np.abs(stats.zscore(test)) < 3).all(axis=1)]\n",
    "\n",
    "#define the x & y data\n",
    "x = test_reduced_by_z['SOS_COUNT_CU_0_12M']\n",
    "y = test_reduced_by_z['Expenditure_12M_PartsNServices']\n",
    "\n",
    "test_reduced_by_z.describe()"
   ]
  },
  {
   "cell_type": "code",
   "execution_count": null,
   "metadata": {
    "ExecuteTime": {
     "end_time": "2020-05-01T13:23:21.809082Z",
     "start_time": "2020-05-01T13:23:21.632559Z"
    },
    "hidden": true
   },
   "outputs": [],
   "source": [
    "#create the new scatter plot\n",
    "plt.plot(x,y,'o',color = 'pink', label = '')\n",
    "# add the column names as labels\n",
    "plt.title('X VS Y')\n",
    "plt.xlabel('X')\n",
    "plt.ylabel('Y')\n",
    "plt.legend()\n",
    "plt.show()"
   ]
  },
  {
   "cell_type": "code",
   "execution_count": null,
   "metadata": {
    "ExecuteTime": {
     "end_time": "2020-05-01T13:23:23.101259Z",
     "start_time": "2020-05-01T13:23:23.092286Z"
    },
    "hidden": true,
    "scrolled": false
   },
   "outputs": [],
   "source": [
    "test_reduced_by_z.corr()"
   ]
  },
  {
   "cell_type": "code",
   "execution_count": null,
   "metadata": {
    "ExecuteTime": {
     "end_time": "2020-05-01T13:23:24.813717Z",
     "start_time": "2020-05-01T13:23:24.541486Z"
    },
    "hidden": true
   },
   "outputs": [],
   "source": [
    "test_reduced_by_z.hist(grid = True, color = 'Purple')"
   ]
  },
  {
   "cell_type": "code",
   "execution_count": null,
   "metadata": {
    "ExecuteTime": {
     "end_time": "2020-05-01T13:23:26.129013Z",
     "start_time": "2020-05-01T13:23:26.119042Z"
    },
    "hidden": true
   },
   "outputs": [],
   "source": [
    "display(stats.kurtosistest(test_reduced_by_z['SOS_COUNT_CU_0_12M']))\n",
    "display(stats.skewtest(test_reduced_by_z['SOS_COUNT_CU_0_12M']))"
   ]
  },
  {
   "cell_type": "code",
   "execution_count": null,
   "metadata": {
    "ExecuteTime": {
     "end_time": "2020-05-01T13:23:27.857917Z",
     "start_time": "2020-05-01T13:23:27.837015Z"
    },
    "hidden": true,
    "scrolled": false
   },
   "outputs": [],
   "source": [
    "# define our input variable & output variable\n",
    "x = test_reduced_by_z[['SOS_COUNT_CU_0_12M']]\n",
    "y = test_reduced_by_z[['Expenditure_12M_PartsNServices']]\n",
    "\n",
    "# Split X and y into X_\n",
    "x_train, x_test, y_train, y_test = train_test_split(x, y, test_size=0.20, random_state=1)\n",
    "# create a Linear Regression model object.\n",
    "single_regression_model = LinearRegression()\n",
    "# pass through the X_train & y_train data set.\n",
    "single_regression_model.fit(x_train, y_train)\n",
    "# create OLS model for training data\n",
    "model = sm.OLS(y_train, x_train)\n",
    "# pass through the X_train & y_train data set.\n",
    "est = model.fit()\n",
    "print(est.summary())"
   ]
  },
  {
   "cell_type": "code",
   "execution_count": null,
   "metadata": {
    "ExecuteTime": {
     "end_time": "2020-05-01T13:23:31.901098Z",
     "start_time": "2020-05-01T13:23:31.892161Z"
    },
    "hidden": true
   },
   "outputs": [],
   "source": [
    "# make some confidence intervals, 95% by default.\n",
    "est.conf_int()"
   ]
  },
  {
   "cell_type": "code",
   "execution_count": null,
   "metadata": {
    "ExecuteTime": {
     "end_time": "2020-05-01T13:23:33.219313Z",
     "start_time": "2020-05-01T13:23:33.210339Z"
    },
    "hidden": true
   },
   "outputs": [],
   "source": [
    "# estimate the p-values\n",
    "est.pvalues"
   ]
  },
  {
   "cell_type": "code",
   "execution_count": null,
   "metadata": {
    "ExecuteTime": {
     "end_time": "2020-05-01T13:23:33.911458Z",
     "start_time": "2020-05-01T13:23:33.906479Z"
    },
    "hidden": true,
    "scrolled": true
   },
   "outputs": [],
   "source": [
    "# calculate and display intercept, coefficient\n",
    "intercept = single_regression_model.intercept_[0]\n",
    "coefficient = single_regression_model.coef_[0][0]\n",
    "# print out\n",
    "print(\"The Coefficient for training model is {:2}\".format(coefficient))\n",
    "print(\"The intercept for training model is {:4}\".format(intercept))"
   ]
  },
  {
   "cell_type": "code",
   "execution_count": null,
   "metadata": {
    "ExecuteTime": {
     "end_time": "2020-05-01T13:23:34.924642Z",
     "start_time": "2020-05-01T13:23:34.914704Z"
    },
    "hidden": true
   },
   "outputs": [],
   "source": [
    "# create prediction value and calculate errors\n",
    "y_predict = single_regression_model.predict(x_test)\n",
    "# calculate the mean squared error.\n",
    "model_mse = mean_squared_error(y_test, y_predict)\n",
    "# calculate the mean absolute error.\n",
    "model_mae = mean_absolute_error(y_test, y_predict)\n",
    "# calulcate the root mean squared error\n",
    "model_rmse =  math.sqrt(model_mse)\n",
    "# display the output\n",
    "print(\"MSE {:3}\".format(model_mse))\n",
    "print(\"MAE {:3}\".format(model_mae))\n",
    "print(\"RMSE {:3}\".format(model_rmse))"
   ]
  },
  {
   "cell_type": "code",
   "execution_count": null,
   "metadata": {
    "ExecuteTime": {
     "end_time": "2020-05-01T13:23:36.510464Z",
     "start_time": "2020-05-01T13:23:36.505478Z"
    },
    "hidden": true
   },
   "outputs": [],
   "source": [
    "model_r2 = r2_score(y_test, y_predict)\n",
    "print(\"R2 of the prediction is: {:.2}\".format(model_r2))"
   ]
  },
  {
   "cell_type": "code",
   "execution_count": null,
   "metadata": {
    "ExecuteTime": {
     "end_time": "2020-05-01T13:23:37.352571Z",
     "start_time": "2020-05-01T13:23:37.193034Z"
    },
    "hidden": true
   },
   "outputs": [],
   "source": [
    "# Grab the residuals & then call the hist() method\n",
    "(y_test - y_predict).hist(grid = False, color = 'Gold')\n",
    "plt.title(\"Model Residuals\")\n",
    "plt.show()"
   ]
  },
  {
   "cell_type": "code",
   "execution_count": null,
   "metadata": {
    "ExecuteTime": {
     "end_time": "2020-05-01T13:23:38.547684Z",
     "start_time": "2020-05-01T13:23:38.337211Z"
    },
    "hidden": true
   },
   "outputs": [],
   "source": [
    "# Plot outputs\n",
    "plt.scatter(x_test, y_test,  color='pink', label = '')\n",
    "plt.plot(x_test, y_predict, color='royalblue', linewidth = 3, linestyle= '-',label ='Regression Line')\n",
    "\n",
    "plt.title(\"SOS_COUNT_CU_0_12M VS PartsNServices\")\n",
    "plt.xlabel(\"x\")\n",
    "plt.ylabel(\"y\")\n",
    "plt.legend()\n",
    "plt.show()\n",
    "\n",
    "# The coefficients\n",
    "print('Coefficient:' + '\\033[1m' + '{:.2}''\\033[0m'.format(single_regression_model.coef_[0][0]))\n",
    "\n",
    "# The mean squared error\n",
    "print('Mean squared error: ' + '\\033[1m' + '{:.4}''\\033[0m'.format(model_mse))\n",
    "\n",
    "# The mean squared error\n",
    "print('Root Mean squared error: ' + '\\033[1m' + '{:.4}''\\033[0m'.format(math.sqrt(model_mse)))\n",
    "\n",
    "# Explained variance score: 1 is perfect prediction\n",
    "print('R2 score: '+ '\\033[1m' + '{:.2}''\\033[0m'.format(r2_score(y_test,y_predict)))"
   ]
  },
  {
   "cell_type": "markdown",
   "metadata": {
    "heading_collapsed": true,
    "hidden": true
   },
   "source": [
    "### Test 4 Conclusion"
   ]
  },
  {
   "cell_type": "markdown",
   "metadata": {
    "heading_collapsed": true,
    "hidden": true
   },
   "source": [
    "## Test 5: x = Family_Expenditure_12M_Rentals y= Expenditure_12M_Total"
   ]
  },
  {
   "cell_type": "markdown",
   "metadata": {
    "heading_collapsed": true,
    "hidden": true
   },
   "source": [
    "### Test 5"
   ]
  },
  {
   "cell_type": "code",
   "execution_count": null,
   "metadata": {
    "ExecuteTime": {
     "end_time": "2020-05-01T14:34:37.421816Z",
     "start_time": "2020-05-01T14:34:37.402901Z"
    },
    "hidden": true
   },
   "outputs": [],
   "source": [
    "#Create subset data1 for testing ideal element\n",
    "test = data_dropna.loc[:, ['Family_Expenditure_12M_Rentals', 'Expenditure_12M_Total']]\n",
    "\n",
    "#remove extreme outliers:\n",
    "#If you have multiple columns in your dataframe and would like to remove all rows that have outliers in at least one column, \n",
    "#the following expression would do that in one shot: select absolute Z score for the row <1.65 (). .all or .any\n",
    "test_reduced_by_z = test[(np.abs(stats.zscore(test)) < 3).all(axis=1)]\n",
    "\n",
    "#define the x & y data\n",
    "x = test_reduced_by_z['Family_Expenditure_12M_Rentals']\n",
    "y = test_reduced_by_z['Expenditure_12M_Total']\n",
    "\n",
    "test_reduced_by_z.describe()"
   ]
  },
  {
   "cell_type": "code",
   "execution_count": null,
   "metadata": {
    "ExecuteTime": {
     "end_time": "2020-05-01T14:34:38.961660Z",
     "start_time": "2020-05-01T14:34:38.793115Z"
    },
    "hidden": true
   },
   "outputs": [],
   "source": [
    "#create the new scatter plot\n",
    "plt.plot(x,y,'o',color = 'pink', label = '')\n",
    "# add the column names as labels\n",
    "plt.title('X VS Y')\n",
    "plt.xlabel('X')\n",
    "plt.ylabel('Y')\n",
    "plt.legend()\n",
    "plt.show()"
   ]
  },
  {
   "cell_type": "code",
   "execution_count": null,
   "metadata": {
    "ExecuteTime": {
     "end_time": "2020-05-01T14:34:41.153643Z",
     "start_time": "2020-05-01T14:34:41.146664Z"
    },
    "hidden": true,
    "scrolled": false
   },
   "outputs": [],
   "source": [
    "test_reduced_by_z.corr()"
   ]
  },
  {
   "cell_type": "code",
   "execution_count": null,
   "metadata": {
    "ExecuteTime": {
     "end_time": "2020-05-01T14:34:43.036671Z",
     "start_time": "2020-05-01T14:34:42.765394Z"
    },
    "hidden": true
   },
   "outputs": [],
   "source": [
    "test_reduced_by_z.hist(grid = True, color = 'Purple')"
   ]
  },
  {
   "cell_type": "code",
   "execution_count": null,
   "metadata": {
    "ExecuteTime": {
     "end_time": "2020-05-01T14:34:43.949951Z",
     "start_time": "2020-05-01T14:34:43.940964Z"
    },
    "hidden": true
   },
   "outputs": [],
   "source": [
    "display(stats.kurtosistest(test_reduced_by_z['Family_Expenditure_12M_Rentals']))\n",
    "display(stats.skewtest(test_reduced_by_z['Family_Expenditure_12M_Rentals']))"
   ]
  },
  {
   "cell_type": "code",
   "execution_count": null,
   "metadata": {
    "ExecuteTime": {
     "end_time": "2020-05-01T14:34:44.724652Z",
     "start_time": "2020-05-01T14:34:44.694769Z"
    },
    "hidden": true,
    "scrolled": false
   },
   "outputs": [],
   "source": [
    "# define our input variable & output variable\n",
    "x = test_reduced_by_z[['Family_Expenditure_12M_Rentals']]\n",
    "y = test_reduced_by_z[['Expenditure_12M_Total']]\n",
    "\n",
    "# Split X and y into X_\n",
    "x_train, x_test, y_train, y_test = train_test_split(x, y, test_size=0.20, random_state=1)\n",
    "# create a Linear Regression model object.\n",
    "single_regression_model = LinearRegression()\n",
    "# pass through the X_train & y_train data set.\n",
    "single_regression_model.fit(x_train, y_train)\n",
    "# create OLS model for training data\n",
    "model = sm.OLS(y_train, x_train)\n",
    "# pass through the X_train & y_train data set.\n",
    "est = model.fit()\n",
    "print(est.summary())"
   ]
  },
  {
   "cell_type": "code",
   "execution_count": null,
   "metadata": {
    "ExecuteTime": {
     "end_time": "2020-05-01T14:34:50.726536Z",
     "start_time": "2020-05-01T14:34:50.718517Z"
    },
    "hidden": true
   },
   "outputs": [],
   "source": [
    "# make some confidence intervals, 95% by default.\n",
    "est.conf_int()"
   ]
  },
  {
   "cell_type": "code",
   "execution_count": null,
   "metadata": {
    "ExecuteTime": {
     "end_time": "2020-05-01T14:34:51.798891Z",
     "start_time": "2020-05-01T14:34:51.791909Z"
    },
    "hidden": true
   },
   "outputs": [],
   "source": [
    "# estimate the p-values\n",
    "est.pvalues"
   ]
  },
  {
   "cell_type": "code",
   "execution_count": null,
   "metadata": {
    "ExecuteTime": {
     "end_time": "2020-05-01T14:34:52.429208Z",
     "start_time": "2020-05-01T14:34:52.423283Z"
    },
    "hidden": true,
    "scrolled": true
   },
   "outputs": [],
   "source": [
    "# calculate and display intercept, coefficient\n",
    "intercept = single_regression_model.intercept_[0]\n",
    "coefficient = single_regression_model.coef_[0][0]\n",
    "# print out\n",
    "print(\"The Coefficient for training model is {:2}\".format(coefficient))\n",
    "print(\"The intercept for training model is {:4}\".format(intercept))"
   ]
  },
  {
   "cell_type": "code",
   "execution_count": null,
   "metadata": {
    "ExecuteTime": {
     "end_time": "2020-05-01T14:34:53.162236Z",
     "start_time": "2020-05-01T14:34:53.155254Z"
    },
    "hidden": true
   },
   "outputs": [],
   "source": [
    "# create prediction value and calculate errors\n",
    "y_predict = single_regression_model.predict(x_test)\n",
    "# calculate the mean squared error.\n",
    "model_mse = mean_squared_error(y_test, y_predict)\n",
    "# calculate the mean absolute error.\n",
    "model_mae = mean_absolute_error(y_test, y_predict)\n",
    "# calulcate the root mean squared error\n",
    "model_rmse =  math.sqrt(model_mse)\n",
    "# display the output\n",
    "print(\"MSE {:3}\".format(model_mse))\n",
    "print(\"MAE {:3}\".format(model_mae))\n",
    "print(\"RMSE {:3}\".format(model_rmse))"
   ]
  },
  {
   "cell_type": "code",
   "execution_count": null,
   "metadata": {
    "ExecuteTime": {
     "end_time": "2020-05-01T14:34:55.049934Z",
     "start_time": "2020-05-01T14:34:55.043949Z"
    },
    "hidden": true
   },
   "outputs": [],
   "source": [
    "model_r2 = r2_score(y_test, y_predict)\n",
    "print(\"R2 of the prediction is: {:.2}\".format(model_r2))"
   ]
  },
  {
   "cell_type": "code",
   "execution_count": null,
   "metadata": {
    "ExecuteTime": {
     "end_time": "2020-05-01T14:34:55.831732Z",
     "start_time": "2020-05-01T14:34:55.691109Z"
    },
    "hidden": true
   },
   "outputs": [],
   "source": [
    "# Grab the residuals & then call the hist() method\n",
    "(y_test - y_predict).hist(grid = False, color = 'Gold')\n",
    "plt.title(\"Model Residuals\")\n",
    "plt.show()"
   ]
  },
  {
   "cell_type": "code",
   "execution_count": null,
   "metadata": {
    "ExecuteTime": {
     "end_time": "2020-05-01T14:34:57.078163Z",
     "start_time": "2020-05-01T14:34:56.889659Z"
    },
    "hidden": true
   },
   "outputs": [],
   "source": [
    "# Plot outputs\n",
    "plt.scatter(x_test, y_test,  color='pink', label = '')\n",
    "plt.plot(x_test, y_predict, color='royalblue', linewidth = 3, linestyle= '-',label ='Regression Line')\n",
    "\n",
    "plt.title(\"FamilyExpenditure_Rentals VS Expenditure_12M_Total\")\n",
    "plt.xlabel(\"x\")\n",
    "plt.ylabel(\"y\")\n",
    "plt.legend()\n",
    "plt.show()\n",
    "\n",
    "# The coefficients\n",
    "print('Coefficient:' + '\\033[1m' + '{:.2}''\\033[0m'.format(single_regression_model.coef_[0][0]))\n",
    "\n",
    "# The mean squared error\n",
    "print('Mean squared error: ' + '\\033[1m' + '{:.4}''\\033[0m'.format(model_mse))\n",
    "\n",
    "# The mean squared error\n",
    "print('Root Mean squared error: ' + '\\033[1m' + '{:.4}''\\033[0m'.format(math.sqrt(model_mse)))\n",
    "\n",
    "# Explained variance score: 1 is perfect prediction\n",
    "print('R2 score: '+ '\\033[1m' + '{:.2}''\\033[0m'.format(r2_score(y_test,y_predict)))"
   ]
  },
  {
   "cell_type": "markdown",
   "metadata": {
    "heading_collapsed": true,
    "hidden": true
   },
   "source": [
    "### Test 5 Conclusion"
   ]
  },
  {
   "cell_type": "markdown",
   "metadata": {
    "heading_collapsed": true,
    "hidden": true
   },
   "source": [
    "## Test 6: x = PercentageFleet_Utilized_0_12M y= Expenditure_12M_Equipment"
   ]
  },
  {
   "cell_type": "markdown",
   "metadata": {
    "heading_collapsed": true,
    "hidden": true
   },
   "source": [
    "### Test 6"
   ]
  },
  {
   "cell_type": "code",
   "execution_count": null,
   "metadata": {
    "ExecuteTime": {
     "end_time": "2020-05-01T14:35:06.587182Z",
     "start_time": "2020-05-01T14:35:06.567236Z"
    },
    "hidden": true
   },
   "outputs": [],
   "source": [
    "#Create subset data1 for testing ideal element\n",
    "test = data_dropna.loc[:, ['PercentageFleet_Utilized_0_12M', 'Expenditure_12M_Equipment']]\n",
    "\n",
    "#remove extreme outliers:\n",
    "#If you have multiple columns in your dataframe and would like to remove all rows that have outliers in at least one column, \n",
    "#the following expression would do that in one shot: select absolute Z score for the row <1.65 (). .all or .any\n",
    "test_reduced_by_z = test[(np.abs(stats.zscore(test)) < 3).all(axis=1)]\n",
    "\n",
    "#define the x & y data\n",
    "x = test_reduced_by_z['PercentageFleet_Utilized_0_12M']\n",
    "y = test_reduced_by_z['Expenditure_12M_Equipment']\n",
    "\n",
    "test_reduced_by_z.describe()"
   ]
  },
  {
   "cell_type": "code",
   "execution_count": null,
   "metadata": {
    "ExecuteTime": {
     "end_time": "2020-05-01T14:35:07.934413Z",
     "start_time": "2020-05-01T14:35:07.769881Z"
    },
    "hidden": true
   },
   "outputs": [],
   "source": [
    "#create the new scatter plot\n",
    "plt.plot(x,y,'o',color = 'pink', label = '')\n",
    "# add the column names as labels\n",
    "plt.title('X VS Y')\n",
    "plt.xlabel('X')\n",
    "plt.ylabel('Y')\n",
    "plt.legend()\n",
    "plt.show()"
   ]
  },
  {
   "cell_type": "code",
   "execution_count": null,
   "metadata": {
    "ExecuteTime": {
     "end_time": "2020-05-01T14:35:09.445371Z",
     "start_time": "2020-05-01T14:35:09.437375Z"
    },
    "hidden": true,
    "scrolled": false
   },
   "outputs": [],
   "source": [
    "test_reduced_by_z.corr()"
   ]
  },
  {
   "cell_type": "code",
   "execution_count": null,
   "metadata": {
    "ExecuteTime": {
     "end_time": "2020-05-01T14:35:11.137168Z",
     "start_time": "2020-05-01T14:35:10.695296Z"
    },
    "hidden": true
   },
   "outputs": [],
   "source": [
    "test_reduced_by_z.hist(grid = True, color = 'Purple')"
   ]
  },
  {
   "cell_type": "code",
   "execution_count": null,
   "metadata": {
    "ExecuteTime": {
     "end_time": "2020-05-01T14:35:12.380859Z",
     "start_time": "2020-05-01T14:35:12.371884Z"
    },
    "hidden": true
   },
   "outputs": [],
   "source": [
    "display(stats.kurtosistest(test_reduced_by_z['PercentageFleet_Utilized_0_12M']))\n",
    "display(stats.skewtest(test_reduced_by_z['PercentageFleet_Utilized_0_12M']))"
   ]
  },
  {
   "cell_type": "code",
   "execution_count": null,
   "metadata": {
    "ExecuteTime": {
     "end_time": "2020-05-01T14:35:13.077026Z",
     "start_time": "2020-05-01T14:35:13.055086Z"
    },
    "hidden": true,
    "scrolled": false
   },
   "outputs": [],
   "source": [
    "# define our input variable & output variable\n",
    "x = test_reduced_by_z[['PercentageFleet_Utilized_0_12M']]\n",
    "y = test_reduced_by_z[['Expenditure_12M_Equipment']]\n",
    "\n",
    "# Split X and y into X_\n",
    "x_train, x_test, y_train, y_test = train_test_split(x, y, test_size=0.20, random_state=1)\n",
    "# create a Linear Regression model object.\n",
    "single_regression_model = LinearRegression()\n",
    "# pass through the X_train & y_train data set.\n",
    "single_regression_model.fit(x_train, y_train)\n",
    "# create OLS model for training data\n",
    "model = sm.OLS(y_train, x_train)\n",
    "# pass through the X_train & y_train data set.\n",
    "est = model.fit()\n",
    "print(est.summary())"
   ]
  },
  {
   "cell_type": "code",
   "execution_count": null,
   "metadata": {
    "ExecuteTime": {
     "end_time": "2020-05-01T14:35:15.298794Z",
     "start_time": "2020-05-01T14:35:15.291770Z"
    },
    "hidden": true
   },
   "outputs": [],
   "source": [
    "# make some confidence intervals, 95% by default.\n",
    "est.conf_int()"
   ]
  },
  {
   "cell_type": "code",
   "execution_count": null,
   "metadata": {
    "ExecuteTime": {
     "end_time": "2020-05-01T14:35:16.473199Z",
     "start_time": "2020-05-01T14:35:16.467189Z"
    },
    "hidden": true
   },
   "outputs": [],
   "source": [
    "# estimate the p-values\n",
    "est.pvalues"
   ]
  },
  {
   "cell_type": "code",
   "execution_count": null,
   "metadata": {
    "ExecuteTime": {
     "end_time": "2020-05-01T14:35:17.935267Z",
     "start_time": "2020-05-01T14:35:17.929291Z"
    },
    "hidden": true,
    "scrolled": true
   },
   "outputs": [],
   "source": [
    "# calculate and display intercept, coefficient\n",
    "intercept = single_regression_model.intercept_[0]\n",
    "coefficient = single_regression_model.coef_[0][0]\n",
    "# print out\n",
    "print(\"The Coefficient for training model is {:2}\".format(coefficient))\n",
    "print(\"The intercept for training model is {:4}\".format(intercept))"
   ]
  },
  {
   "cell_type": "code",
   "execution_count": null,
   "metadata": {
    "ExecuteTime": {
     "end_time": "2020-05-01T14:35:18.727136Z",
     "start_time": "2020-05-01T14:35:18.716165Z"
    },
    "hidden": true
   },
   "outputs": [],
   "source": [
    "# create prediction value and calculate errors\n",
    "y_predict = single_regression_model.predict(x_test)\n",
    "# calculate the mean squared error.\n",
    "model_mse = mean_squared_error(y_test, y_predict)\n",
    "# calculate the mean absolute error.\n",
    "model_mae = mean_absolute_error(y_test, y_predict)\n",
    "# calulcate the root mean squared error\n",
    "model_rmse =  math.sqrt(model_mse)\n",
    "# display the output\n",
    "print(\"MSE {:3}\".format(model_mse))\n",
    "print(\"MAE {:3}\".format(model_mae))\n",
    "print(\"RMSE {:3}\".format(model_rmse))"
   ]
  },
  {
   "cell_type": "code",
   "execution_count": null,
   "metadata": {
    "ExecuteTime": {
     "end_time": "2020-05-01T14:35:19.648082Z",
     "start_time": "2020-05-01T14:35:19.640084Z"
    },
    "hidden": true
   },
   "outputs": [],
   "source": [
    "model_r2 = r2_score(y_test, y_predict)\n",
    "print(\"R2 of the prediction is: {:.2}\".format(model_r2))"
   ]
  },
  {
   "cell_type": "code",
   "execution_count": null,
   "metadata": {
    "ExecuteTime": {
     "end_time": "2020-05-01T14:35:20.607572Z",
     "start_time": "2020-05-01T14:35:20.441999Z"
    },
    "hidden": true
   },
   "outputs": [],
   "source": [
    "# Grab the residuals & then call the hist() method\n",
    "(y_test - y_predict).hist(grid = False, color = 'Gold')\n",
    "plt.title(\"Model Residuals\")\n",
    "plt.show()"
   ]
  },
  {
   "cell_type": "code",
   "execution_count": null,
   "metadata": {
    "ExecuteTime": {
     "end_time": "2020-05-01T14:35:21.917535Z",
     "start_time": "2020-05-01T14:35:21.719072Z"
    },
    "hidden": true
   },
   "outputs": [],
   "source": [
    "# Plot outputs\n",
    "plt.scatter(x_test, y_test,  color='pink', label = '')\n",
    "plt.plot(x_test, y_predict, color='royalblue', linewidth = 3, linestyle= '-',label ='Regression Line')\n",
    "\n",
    "plt.title(\"PercentageFleet_Utilized_0_12M VS Expenditure_12M_Equipment\")\n",
    "plt.xlabel(\"x\")\n",
    "plt.ylabel(\"y\")\n",
    "plt.legend()\n",
    "plt.show()\n",
    "\n",
    "# The coefficients\n",
    "print('Coefficient:' + '\\033[1m' + '{:.2}''\\033[0m'.format(single_regression_model.coef_[0][0]))\n",
    "\n",
    "# The mean squared error\n",
    "print('Mean squared error: ' + '\\033[1m' + '{:.4}''\\033[0m'.format(model_mse))\n",
    "\n",
    "# The mean squared error\n",
    "print('Root Mean squared error: ' + '\\033[1m' + '{:.4}''\\033[0m'.format(math.sqrt(model_mse)))\n",
    "\n",
    "# Explained variance score: 1 is perfect prediction\n",
    "print('R2 score: '+ '\\033[1m' + '{:.2}''\\033[0m'.format(r2_score(y_test,y_predict)))"
   ]
  },
  {
   "cell_type": "markdown",
   "metadata": {
    "heading_collapsed": true,
    "hidden": true
   },
   "source": [
    "### Test 6 Conclusion"
   ]
  },
  {
   "cell_type": "markdown",
   "metadata": {
    "heading_collapsed": true,
    "hidden": true
   },
   "source": [
    "## Test 7: x = Percentage_SubscriptionActive y= Expenditure_12M_Equipment"
   ]
  },
  {
   "cell_type": "markdown",
   "metadata": {
    "heading_collapsed": true,
    "hidden": true
   },
   "source": [
    "### Test 7"
   ]
  },
  {
   "cell_type": "code",
   "execution_count": null,
   "metadata": {
    "ExecuteTime": {
     "end_time": "2020-05-01T14:35:29.590825Z",
     "start_time": "2020-05-01T14:35:29.569883Z"
    },
    "hidden": true
   },
   "outputs": [],
   "source": [
    "#Create subset data1 for testing ideal element\n",
    "test = data_dropna.loc[:, ['PercentageFleet_Utilized_0_12M', 'Expenditure_12M_Equipment']]\n",
    "\n",
    "#remove extreme outliers:\n",
    "#If you have multiple columns in your dataframe and would like to remove all rows that have outliers in at least one column, \n",
    "#the following expression would do that in one shot: select absolute Z score for the row <1.65 (). .all or .any\n",
    "test_reduced_by_z = test[(np.abs(stats.zscore(test)) < 3).all(axis=1)]\n",
    "\n",
    "#define the x & y data\n",
    "x = test_reduced_by_z['PercentageFleet_Utilized_0_12M']\n",
    "y = test_reduced_by_z['Expenditure_12M_Equipment']\n",
    "\n",
    "test_reduced_by_z.describe()"
   ]
  },
  {
   "cell_type": "code",
   "execution_count": null,
   "metadata": {
    "ExecuteTime": {
     "end_time": "2020-05-01T14:35:31.336556Z",
     "start_time": "2020-05-01T14:35:31.175954Z"
    },
    "hidden": true
   },
   "outputs": [],
   "source": [
    "#create the new scatter plot\n",
    "plt.plot(x,y,'o',color = 'pink', label = '')\n",
    "# add the column names as labels\n",
    "plt.title('X VS Y')\n",
    "plt.xlabel('X')\n",
    "plt.ylabel('Y')\n",
    "plt.legend()\n",
    "plt.show()"
   ]
  },
  {
   "cell_type": "code",
   "execution_count": null,
   "metadata": {
    "ExecuteTime": {
     "end_time": "2020-05-01T14:35:32.434739Z",
     "start_time": "2020-05-01T14:35:32.426763Z"
    },
    "hidden": true,
    "scrolled": false
   },
   "outputs": [],
   "source": [
    "test_reduced_by_z.corr()"
   ]
  },
  {
   "cell_type": "code",
   "execution_count": null,
   "metadata": {
    "ExecuteTime": {
     "end_time": "2020-05-01T14:35:33.651446Z",
     "start_time": "2020-05-01T14:35:33.345303Z"
    },
    "hidden": true
   },
   "outputs": [],
   "source": [
    "test_reduced_by_z.hist(grid = True, color = 'Purple')"
   ]
  },
  {
   "cell_type": "code",
   "execution_count": null,
   "metadata": {
    "ExecuteTime": {
     "end_time": "2020-05-01T14:35:34.622949Z",
     "start_time": "2020-05-01T14:35:34.612975Z"
    },
    "hidden": true
   },
   "outputs": [],
   "source": [
    "display(stats.kurtosistest(test_reduced_by_z['PercentageFleet_Utilized_0_12M']))\n",
    "display(stats.skewtest(test_reduced_by_z['PercentageFleet_Utilized_0_12M']))"
   ]
  },
  {
   "cell_type": "code",
   "execution_count": null,
   "metadata": {
    "ExecuteTime": {
     "end_time": "2020-05-01T14:35:35.343978Z",
     "start_time": "2020-05-01T14:35:35.321040Z"
    },
    "hidden": true,
    "scrolled": false
   },
   "outputs": [],
   "source": [
    "# define our input variable & output variable\n",
    "x = test_reduced_by_z[['PercentageFleet_Utilized_0_12M']]\n",
    "y = test_reduced_by_z[['Expenditure_12M_Equipment']]\n",
    "\n",
    "# Split X and y into X_\n",
    "x_train, x_test, y_train, y_test = train_test_split(x, y, test_size=0.20, random_state=1)\n",
    "# create a Linear Regression model object.\n",
    "single_regression_model = LinearRegression()\n",
    "# pass through the X_train & y_train data set.\n",
    "single_regression_model.fit(x_train, y_train)\n",
    "# create OLS model for training data\n",
    "model = sm.OLS(y_train, x_train)\n",
    "# pass through the X_train & y_train data set.\n",
    "est = model.fit()\n",
    "print(est.summary())"
   ]
  },
  {
   "cell_type": "code",
   "execution_count": null,
   "metadata": {
    "ExecuteTime": {
     "end_time": "2020-05-01T14:35:36.890331Z",
     "start_time": "2020-05-01T14:35:36.882353Z"
    },
    "hidden": true
   },
   "outputs": [],
   "source": [
    "# make some confidence intervals, 95% by default.\n",
    "est.conf_int()"
   ]
  },
  {
   "cell_type": "code",
   "execution_count": null,
   "metadata": {
    "ExecuteTime": {
     "end_time": "2020-05-01T14:35:38.383775Z",
     "start_time": "2020-05-01T14:35:38.376794Z"
    },
    "hidden": true
   },
   "outputs": [],
   "source": [
    "# estimate the p-values\n",
    "est.pvalues"
   ]
  },
  {
   "cell_type": "code",
   "execution_count": null,
   "metadata": {
    "ExecuteTime": {
     "end_time": "2020-05-01T14:35:39.404147Z",
     "start_time": "2020-05-01T14:35:39.399150Z"
    },
    "hidden": true,
    "scrolled": true
   },
   "outputs": [],
   "source": [
    "# calculate and display intercept, coefficient\n",
    "intercept = single_regression_model.intercept_[0]\n",
    "coefficient = single_regression_model.coef_[0][0]\n",
    "# print out\n",
    "print(\"The Coefficient for training model is {:2}\".format(coefficient))\n",
    "print(\"The intercept for training model is {:4}\".format(intercept))"
   ]
  },
  {
   "cell_type": "code",
   "execution_count": null,
   "metadata": {
    "ExecuteTime": {
     "end_time": "2020-05-01T14:35:40.856308Z",
     "start_time": "2020-05-01T14:35:40.849327Z"
    },
    "hidden": true
   },
   "outputs": [],
   "source": [
    "# create prediction value and calculate errors\n",
    "y_predict = single_regression_model.predict(x_test)\n",
    "# calculate the mean squared error.\n",
    "model_mse = mean_squared_error(y_test, y_predict)\n",
    "# calculate the mean absolute error.\n",
    "model_mae = mean_absolute_error(y_test, y_predict)\n",
    "# calulcate the root mean squared error\n",
    "model_rmse =  math.sqrt(model_mse)\n",
    "# display the output\n",
    "print(\"MSE {:3}\".format(model_mse))\n",
    "print(\"MAE {:3}\".format(model_mae))\n",
    "print(\"RMSE {:3}\".format(model_rmse))"
   ]
  },
  {
   "cell_type": "code",
   "execution_count": null,
   "metadata": {
    "ExecuteTime": {
     "end_time": "2020-05-01T14:35:41.883020Z",
     "start_time": "2020-05-01T14:35:41.876047Z"
    },
    "hidden": true
   },
   "outputs": [],
   "source": [
    "model_r2 = r2_score(y_test, y_predict)\n",
    "print(\"R2 of the prediction is: {:.2}\".format(model_r2))"
   ]
  },
  {
   "cell_type": "code",
   "execution_count": null,
   "metadata": {
    "ExecuteTime": {
     "end_time": "2020-05-01T14:35:43.901356Z",
     "start_time": "2020-05-01T14:35:43.758739Z"
    },
    "hidden": true
   },
   "outputs": [],
   "source": [
    "# Grab the residuals & then call the hist() method\n",
    "(y_test - y_predict).hist(grid = False, color = 'Gold')\n",
    "plt.title(\"Model Residuals\")\n",
    "plt.show()"
   ]
  },
  {
   "cell_type": "code",
   "execution_count": null,
   "metadata": {
    "ExecuteTime": {
     "end_time": "2020-05-01T14:35:51.198959Z",
     "start_time": "2020-05-01T14:35:51.005471Z"
    },
    "hidden": true
   },
   "outputs": [],
   "source": [
    "# Plot outputs\n",
    "plt.scatter(x_test, y_test,  color='pink', label = '')\n",
    "plt.plot(x_test, y_predict, color='royalblue', linewidth = 3, linestyle= '-',label ='Regression Line')\n",
    "\n",
    "plt.title(\"PercentageFleet_Utilized_0_12M VS Expenditure_12M_Equipment\")\n",
    "plt.xlabel(\"x\")\n",
    "plt.ylabel(\"y\")\n",
    "plt.legend()\n",
    "plt.show()\n",
    "\n",
    "# The coefficients\n",
    "print('Coefficient:' + '\\033[1m' + '{:.2}''\\033[0m'.format(single_regression_model.coef_[0][0]))\n",
    "\n",
    "# The mean squared error\n",
    "print('Mean squared error: ' + '\\033[1m' + '{:.4}''\\033[0m'.format(model_mse))\n",
    "\n",
    "# The mean squared error\n",
    "print('Root Mean squared error: ' + '\\033[1m' + '{:.4}''\\033[0m'.format(math.sqrt(model_mse)))\n",
    "\n",
    "# Explained variance score: 1 is perfect prediction\n",
    "print('R2 score: '+ '\\033[1m' + '{:.2}''\\033[0m'.format(r2_score(y_test,y_predict)))"
   ]
  },
  {
   "cell_type": "markdown",
   "metadata": {
    "heading_collapsed": true,
    "hidden": true
   },
   "source": [
    "### Test 7 Conclusion"
   ]
  },
  {
   "cell_type": "markdown",
   "metadata": {
    "heading_collapsed": true,
    "hidden": true
   },
   "source": [
    "## Test 8: x = Average_Fleet_Annual_Utilization y= Expenditure_12M_Total"
   ]
  },
  {
   "cell_type": "markdown",
   "metadata": {
    "heading_collapsed": true,
    "hidden": true
   },
   "source": [
    "### Test 8"
   ]
  },
  {
   "cell_type": "code",
   "execution_count": null,
   "metadata": {
    "ExecuteTime": {
     "end_time": "2020-05-01T14:35:57.727385Z",
     "start_time": "2020-05-01T14:35:57.708437Z"
    },
    "hidden": true
   },
   "outputs": [],
   "source": [
    "#Create subset data1 for testing ideal element\n",
    "test = data_dropna.loc[:, ['Average_Fleet_Annual_Utilization', 'Expenditure_12M_Total']]\n",
    "\n",
    "#remove extreme outliers:\n",
    "#If you have multiple columns in your dataframe and would like to remove all rows that have outliers in at least one column, \n",
    "#the following expression would do that in one shot: select absolute Z score for the row <1.65 (). .all or .any\n",
    "test_reduced_by_z = test[(np.abs(stats.zscore(test)) < 3).all(axis=1)]\n",
    "\n",
    "#define the x & y data\n",
    "x = test_reduced_by_z['Average_Fleet_Annual_Utilization']\n",
    "y = test_reduced_by_z['Expenditure_12M_Total']\n",
    "\n",
    "test_reduced_by_z.describe()"
   ]
  },
  {
   "cell_type": "code",
   "execution_count": null,
   "metadata": {
    "ExecuteTime": {
     "end_time": "2020-05-01T14:35:59.925081Z",
     "start_time": "2020-05-01T14:35:59.733561Z"
    },
    "hidden": true
   },
   "outputs": [],
   "source": [
    "#create the new scatter plot\n",
    "plt.plot(x,y,'o',color = 'pink', label = '')\n",
    "# add the column names as labels\n",
    "plt.title('X VS Y')\n",
    "plt.xlabel('X')\n",
    "plt.ylabel('Y')\n",
    "plt.legend()\n",
    "plt.show()"
   ]
  },
  {
   "cell_type": "code",
   "execution_count": null,
   "metadata": {
    "ExecuteTime": {
     "end_time": "2020-05-01T14:36:01.566104Z",
     "start_time": "2020-05-01T14:36:01.542169Z"
    },
    "hidden": true,
    "scrolled": false
   },
   "outputs": [],
   "source": [
    "# #Remove negative x\n",
    "# test_absolute_x = test_reduced_by_z[test_reduced_by_z['Average_Fleet_Annual_Utilization'] >= 0]\n",
    "\n",
    "# x = test_absolute_x['Average_Fleet_Annual_Utilization']\n",
    "# y = test_absolute_x['Expenditure_12M_Total']\n",
    "# test_reduced_by_z.describe()"
   ]
  },
  {
   "cell_type": "code",
   "execution_count": null,
   "metadata": {
    "ExecuteTime": {
     "end_time": "2020-05-01T14:36:03.501188Z",
     "start_time": "2020-05-01T14:36:03.315688Z"
    },
    "hidden": true
   },
   "outputs": [],
   "source": [
    "# #create the new scatter plot\n",
    "# plt.plot(x,y,'o',color = 'pink', label = '')\n",
    "# # add the column names as labels\n",
    "# plt.title('X VS Y')\n",
    "# plt.xlabel('X')\n",
    "# plt.ylabel('Y')\n",
    "# plt.legend()\n",
    "# plt.show()"
   ]
  },
  {
   "cell_type": "code",
   "execution_count": null,
   "metadata": {
    "ExecuteTime": {
     "end_time": "2020-05-01T14:36:42.790316Z",
     "start_time": "2020-05-01T14:36:42.782338Z"
    },
    "hidden": true
   },
   "outputs": [],
   "source": [
    "test_reduced_by_z.corr()"
   ]
  },
  {
   "cell_type": "code",
   "execution_count": null,
   "metadata": {
    "ExecuteTime": {
     "end_time": "2020-05-01T14:36:44.180998Z",
     "start_time": "2020-05-01T14:36:43.902720Z"
    },
    "hidden": true
   },
   "outputs": [],
   "source": [
    "test_reduced_by_z.hist(grid = True, color = 'Purple')"
   ]
  },
  {
   "cell_type": "code",
   "execution_count": null,
   "metadata": {
    "ExecuteTime": {
     "end_time": "2020-05-01T14:36:48.556421Z",
     "start_time": "2020-05-01T14:36:48.547413Z"
    },
    "hidden": true
   },
   "outputs": [],
   "source": [
    "display(stats.kurtosistest(test_reduced_by_z['Average_Fleet_Annual_Utilization']))\n",
    "display(stats.skewtest(test_reduced_by_z['Average_Fleet_Annual_Utilization']))"
   ]
  },
  {
   "cell_type": "code",
   "execution_count": null,
   "metadata": {
    "ExecuteTime": {
     "end_time": "2020-05-01T14:36:52.780959Z",
     "start_time": "2020-05-01T14:36:52.759019Z"
    },
    "hidden": true,
    "scrolled": false
   },
   "outputs": [],
   "source": [
    "# define our input variable & output variable\n",
    "x = test_reduced_by_z[['Average_Fleet_Annual_Utilization']]\n",
    "y = test_reduced_by_z[['Expenditure_12M_Total']]\n",
    "\n",
    "# Split X and y into X_\n",
    "x_train, x_test, y_train, y_test = train_test_split(x, y, test_size=0.20, random_state=1)\n",
    "# create a Linear Regression model object.\n",
    "single_regression_model = LinearRegression()\n",
    "# pass through the X_train & y_train data set.\n",
    "single_regression_model.fit(x_train, y_train)\n",
    "# create OLS model for training data\n",
    "model = sm.OLS(y_train, x_train)\n",
    "# pass through the X_train & y_train data set.\n",
    "est = model.fit()\n",
    "print(est.summary())"
   ]
  },
  {
   "cell_type": "code",
   "execution_count": null,
   "metadata": {
    "ExecuteTime": {
     "end_time": "2020-05-01T14:36:54.383147Z",
     "start_time": "2020-05-01T14:36:54.375136Z"
    },
    "hidden": true
   },
   "outputs": [],
   "source": [
    "# make some confidence intervals, 95% by default.\n",
    "est.conf_int()"
   ]
  },
  {
   "cell_type": "code",
   "execution_count": null,
   "metadata": {
    "ExecuteTime": {
     "end_time": "2020-05-01T14:36:55.386688Z",
     "start_time": "2020-05-01T14:36:55.380705Z"
    },
    "hidden": true
   },
   "outputs": [],
   "source": [
    "# estimate the p-values\n",
    "est.pvalues"
   ]
  },
  {
   "cell_type": "code",
   "execution_count": null,
   "metadata": {
    "ExecuteTime": {
     "end_time": "2020-05-01T14:36:56.102228Z",
     "start_time": "2020-05-01T14:36:56.098198Z"
    },
    "hidden": true,
    "scrolled": true
   },
   "outputs": [],
   "source": [
    "# calculate and display intercept, coefficient\n",
    "intercept = single_regression_model.intercept_[0]\n",
    "coefficient = single_regression_model.coef_[0][0]\n",
    "# print out\n",
    "print(\"The Coefficient for training model is {:2}\".format(coefficient))\n",
    "print(\"The intercept for training model is {:4}\".format(intercept))"
   ]
  },
  {
   "cell_type": "code",
   "execution_count": null,
   "metadata": {
    "ExecuteTime": {
     "end_time": "2020-05-01T14:36:57.477374Z",
     "start_time": "2020-05-01T14:36:57.469431Z"
    },
    "hidden": true
   },
   "outputs": [],
   "source": [
    "# create prediction value and calculate errors\n",
    "y_predict = single_regression_model.predict(x_test)\n",
    "# calculate the mean squared error.\n",
    "model_mse = mean_squared_error(y_test, y_predict)\n",
    "# calculate the mean absolute error.\n",
    "model_mae = mean_absolute_error(y_test, y_predict)\n",
    "# calulcate the root mean squared error\n",
    "model_rmse =  math.sqrt(model_mse)\n",
    "# display the output\n",
    "print(\"MSE {:3}\".format(model_mse))\n",
    "print(\"MAE {:3}\".format(model_mae))\n",
    "print(\"RMSE {:3}\".format(model_rmse))"
   ]
  },
  {
   "cell_type": "code",
   "execution_count": null,
   "metadata": {
    "ExecuteTime": {
     "end_time": "2020-05-01T14:36:58.542939Z",
     "start_time": "2020-05-01T14:36:58.536953Z"
    },
    "hidden": true
   },
   "outputs": [],
   "source": [
    "model_r2 = r2_score(y_test, y_predict)\n",
    "print(\"R2 of the prediction is: {:.2}\".format(model_r2))"
   ]
  },
  {
   "cell_type": "code",
   "execution_count": null,
   "metadata": {
    "ExecuteTime": {
     "end_time": "2020-05-01T14:36:59.548754Z",
     "start_time": "2020-05-01T14:36:59.408128Z"
    },
    "hidden": true
   },
   "outputs": [],
   "source": [
    "# Grab the residuals & then call the hist() method\n",
    "(y_test - y_predict).hist(grid = False, color = 'Gold')\n",
    "plt.title(\"Model Residuals\")\n",
    "plt.show()"
   ]
  },
  {
   "cell_type": "code",
   "execution_count": null,
   "metadata": {
    "ExecuteTime": {
     "end_time": "2020-05-01T14:37:03.210377Z",
     "start_time": "2020-05-01T14:37:03.021883Z"
    },
    "hidden": true,
    "scrolled": false
   },
   "outputs": [],
   "source": [
    "# Plot outputs\n",
    "plt.scatter(x_test, y_test,  color='pink', label = '')\n",
    "plt.plot(x_test, y_predict, color='royalblue', linewidth = 3, linestyle= '-',label ='Regression Line')\n",
    "\n",
    "plt.title(\"Average_Fleet_Annual_Utilization VS Expenditure_12M_Total\")\n",
    "plt.xlabel(\"x\")\n",
    "plt.ylabel(\"y\")\n",
    "plt.legend()\n",
    "plt.show()\n",
    "\n",
    "# The coefficients\n",
    "print('Coefficient:' + '\\033[1m' + '{:.2}''\\033[0m'.format(single_regression_model.coef_[0][0]))\n",
    "\n",
    "# The mean squared error\n",
    "print('Mean squared error: ' + '\\033[1m' + '{:.4}''\\033[0m'.format(model_mse))\n",
    "\n",
    "# The mean squared error\n",
    "print('Root Mean squared error: ' + '\\033[1m' + '{:.4}''\\033[0m'.format(math.sqrt(model_mse)))\n",
    "\n",
    "# Explained variance score: 1 is perfect prediction\n",
    "print('R2 score: '+ '\\033[1m' + '{:.2}''\\033[0m'.format(r2_score(y_test,y_predict)))"
   ]
  },
  {
   "cell_type": "markdown",
   "metadata": {
    "heading_collapsed": true,
    "hidden": true
   },
   "source": [
    "### Test 8 Conclusion"
   ]
  },
  {
   "cell_type": "markdown",
   "metadata": {
    "heading_collapsed": true,
    "hidden": true
   },
   "source": [
    "## Test 9: x = Mean_SMU_Between_SOS y= Expenditure_12M_Total\n"
   ]
  },
  {
   "cell_type": "markdown",
   "metadata": {
    "heading_collapsed": true,
    "hidden": true
   },
   "source": [
    "### Test 9"
   ]
  },
  {
   "cell_type": "code",
   "execution_count": null,
   "metadata": {
    "ExecuteTime": {
     "end_time": "2020-05-01T14:37:12.138741Z",
     "start_time": "2020-05-01T14:37:12.119793Z"
    },
    "hidden": true
   },
   "outputs": [],
   "source": [
    "#Create subset data1 for testing ideal element\n",
    "test = data_dropna.loc[:, ['Mean_SMU_Between_SOS', 'Expenditure_12M_Total']]\n",
    "\n",
    "#remove extreme outliers:\n",
    "#If you have multiple columns in your dataframe and would like to remove all rows that have outliers in at least one column, \n",
    "#the following expression would do that in one shot: select absolute Z score for the row <1.65 (). .all or .any\n",
    "test_reduced_by_z = test[(np.abs(stats.zscore(test)) < 3).all(axis=1)]\n",
    "\n",
    "#define the x & y data\n",
    "x = test_reduced_by_z['Mean_SMU_Between_SOS']\n",
    "y = test_reduced_by_z['Expenditure_12M_Total']\n",
    "\n",
    "test_reduced_by_z.describe()"
   ]
  },
  {
   "cell_type": "code",
   "execution_count": null,
   "metadata": {
    "ExecuteTime": {
     "end_time": "2020-05-01T14:37:13.790779Z",
     "start_time": "2020-05-01T14:37:13.599298Z"
    },
    "hidden": true
   },
   "outputs": [],
   "source": [
    "#create the new scatter plot\n",
    "plt.plot(x,y,'o',color = 'pink', label = '')\n",
    "# add the column names as labels\n",
    "plt.title('X VS Y')\n",
    "plt.xlabel('X')\n",
    "plt.ylabel('Y')\n",
    "plt.legend()\n",
    "plt.show()"
   ]
  },
  {
   "cell_type": "code",
   "execution_count": null,
   "metadata": {
    "ExecuteTime": {
     "end_time": "2020-05-01T14:37:15.770839Z",
     "start_time": "2020-05-01T14:37:15.760870Z"
    },
    "hidden": true,
    "scrolled": false
   },
   "outputs": [],
   "source": [
    "test_reduced_by_z.corr()"
   ]
  },
  {
   "cell_type": "code",
   "execution_count": null,
   "metadata": {
    "ExecuteTime": {
     "end_time": "2020-05-01T14:37:20.763881Z",
     "start_time": "2020-05-01T14:37:20.742933Z"
    },
    "hidden": true,
    "scrolled": true
   },
   "outputs": [],
   "source": [
    "# define our input variable & output variable\n",
    "x = test_reduced_by_z[['Mean_SMU_Between_SOS']]\n",
    "y = test_reduced_by_z[['Expenditure_12M_Total']]\n",
    "\n",
    "# Split X and y into X_\n",
    "x_train, x_test, y_train, y_test = train_test_split(x, y, test_size=0.20, random_state=1)\n",
    "# create a Linear Regression model object.\n",
    "single_regression_model = LinearRegression()\n",
    "# pass through the X_train & y_train data set.\n",
    "single_regression_model.fit(x_train, y_train)\n",
    "# create OLS model for training data\n",
    "model = sm.OLS(y_train, x_train)\n",
    "# pass through the X_train & y_train data set.\n",
    "est = model.fit()\n",
    "print(est.summary())"
   ]
  },
  {
   "cell_type": "code",
   "execution_count": null,
   "metadata": {
    "ExecuteTime": {
     "end_time": "2020-05-01T14:37:22.335138Z",
     "start_time": "2020-05-01T14:37:22.327173Z"
    },
    "hidden": true
   },
   "outputs": [],
   "source": [
    "# make some confidence intervals, 95% by default.\n",
    "est.conf_int()"
   ]
  },
  {
   "cell_type": "code",
   "execution_count": null,
   "metadata": {
    "ExecuteTime": {
     "end_time": "2020-05-01T14:37:23.240340Z",
     "start_time": "2020-05-01T14:37:23.234362Z"
    },
    "hidden": true
   },
   "outputs": [],
   "source": [
    "# estimate the p-values\n",
    "est.pvalues"
   ]
  },
  {
   "cell_type": "code",
   "execution_count": null,
   "metadata": {
    "ExecuteTime": {
     "end_time": "2020-05-01T14:37:23.928533Z",
     "start_time": "2020-05-01T14:37:23.923548Z"
    },
    "hidden": true,
    "scrolled": true
   },
   "outputs": [],
   "source": [
    "# calculate and display intercept, coefficient\n",
    "intercept = single_regression_model.intercept_[0]\n",
    "coefficient = single_regression_model.coef_[0][0]\n",
    "# print out\n",
    "print(\"The Coefficient for training model is {:2}\".format(coefficient))\n",
    "print(\"The intercept for training model is {:4}\".format(intercept))"
   ]
  },
  {
   "cell_type": "code",
   "execution_count": null,
   "metadata": {
    "ExecuteTime": {
     "end_time": "2020-05-01T14:37:24.658873Z",
     "start_time": "2020-05-01T14:37:24.650856Z"
    },
    "hidden": true
   },
   "outputs": [],
   "source": [
    "# create prediction value and calculate errors\n",
    "y_predict = single_regression_model.predict(x_test)\n",
    "# calculate the mean squared error.\n",
    "model_mse = mean_squared_error(y_test, y_predict)\n",
    "# calculate the mean absolute error.\n",
    "model_mae = mean_absolute_error(y_test, y_predict)\n",
    "# calulcate the root mean squared error\n",
    "model_rmse =  math.sqrt(model_mse)\n",
    "# display the output\n",
    "print(\"MSE {:3}\".format(model_mse))\n",
    "print(\"MAE {:3}\".format(model_mae))\n",
    "print(\"RMSE {:3}\".format(model_rmse))"
   ]
  },
  {
   "cell_type": "code",
   "execution_count": null,
   "metadata": {
    "ExecuteTime": {
     "end_time": "2020-05-01T14:37:26.041082Z",
     "start_time": "2020-05-01T14:37:26.034104Z"
    },
    "hidden": true
   },
   "outputs": [],
   "source": [
    "model_r2 = r2_score(y_test, y_predict)\n",
    "print(\"R2 of the prediction is: {:.2}\".format(model_r2))"
   ]
  },
  {
   "cell_type": "code",
   "execution_count": null,
   "metadata": {
    "ExecuteTime": {
     "end_time": "2020-05-01T14:37:26.903277Z",
     "start_time": "2020-05-01T14:37:26.753647Z"
    },
    "hidden": true
   },
   "outputs": [],
   "source": [
    "# Grab the residuals & then call the hist() method\n",
    "(y_test - y_predict).hist(grid = False, color = 'Gold')\n",
    "plt.title(\"Model Residuals\")\n",
    "plt.show()"
   ]
  },
  {
   "cell_type": "code",
   "execution_count": null,
   "metadata": {
    "ExecuteTime": {
     "end_time": "2020-05-01T13:44:43.821554Z",
     "start_time": "2020-05-01T13:44:43.632026Z"
    },
    "hidden": true,
    "scrolled": false
   },
   "outputs": [],
   "source": [
    "# Plot outputs\n",
    "plt.scatter(x_test, y_test,  color='pink', label = '')\n",
    "plt.plot(x_test, y_predict, color='royalblue', linewidth = 3, linestyle= '-',label ='Regression Line')\n",
    "\n",
    "plt.title(\"Mean_SMU_Between_SOS VS Expenditure_12M_Total\")\n",
    "plt.xlabel(\"x\")\n",
    "plt.ylabel(\"y\")\n",
    "plt.legend()\n",
    "plt.show()\n",
    "\n",
    "# The coefficients\n",
    "print('Coefficient:' + '\\033[1m' + '{:.2}''\\033[0m'.format(single_regression_model.coef_[0][0]))\n",
    "\n",
    "# The mean squared error\n",
    "print('Mean squared error: ' + '\\033[1m' + '{:.4}''\\033[0m'.format(model_mse))\n",
    "\n",
    "# The mean squared error\n",
    "print('Root Mean squared error: ' + '\\033[1m' + '{:.4}''\\033[0m'.format(math.sqrt(model_mse)))\n",
    "\n",
    "# Explained variance score: 1 is perfect prediction\n",
    "print('R2 score: '+ '\\033[1m' + '{:.2}''\\033[0m'.format(r2_score(y_test,y_predict)))"
   ]
  },
  {
   "cell_type": "markdown",
   "metadata": {
    "heading_collapsed": true,
    "hidden": true
   },
   "source": [
    "### Test 9 Conclusion"
   ]
  },
  {
   "cell_type": "markdown",
   "metadata": {
    "heading_collapsed": true,
    "hidden": true
   },
   "source": [
    "## Test 10: x = Mean_SMU_Between_Repairs y= Expenditure_12M_PartsNServices\n"
   ]
  },
  {
   "cell_type": "markdown",
   "metadata": {
    "heading_collapsed": true,
    "hidden": true
   },
   "source": [
    "### Test 10"
   ]
  },
  {
   "cell_type": "code",
   "execution_count": null,
   "metadata": {
    "ExecuteTime": {
     "end_time": "2020-05-01T14:39:20.128142Z",
     "start_time": "2020-05-01T14:39:20.105229Z"
    },
    "hidden": true
   },
   "outputs": [],
   "source": [
    "#Create subset data1 for testing ideal element\n",
    "test = data_dropna.loc[:, ['Mean_SMU_Between_Repairs', 'Expenditure_12M_PartsNServices']]\n",
    "\n",
    "#remove extreme outliers:\n",
    "#If you have multiple columns in your dataframe and would like to remove all rows that have outliers in at least one column, \n",
    "#the following expression would do that in one shot: select absolute Z score for the row <1.65 (). .all or .any\n",
    "test_reduced_by_z = test[(np.abs(stats.zscore(test)) < 3).all(axis=1)]\n",
    "\n",
    "#define the x & y data\n",
    "x = test_reduced_by_z['Mean_SMU_Between_Repairs']\n",
    "y = test_reduced_by_z['Expenditure_12M_PartsNServices']\n",
    "\n",
    "test_reduced_by_z.describe()"
   ]
  },
  {
   "cell_type": "code",
   "execution_count": null,
   "metadata": {
    "ExecuteTime": {
     "end_time": "2020-05-01T14:39:22.062977Z",
     "start_time": "2020-05-01T14:39:21.901414Z"
    },
    "hidden": true
   },
   "outputs": [],
   "source": [
    "#create the new scatter plot\n",
    "plt.plot(x,y,'o',color = 'pink', label = '')\n",
    "# add the column names as labels\n",
    "plt.title('X VS Y')\n",
    "plt.xlabel('X')\n",
    "plt.ylabel('Y')\n",
    "plt.legend()\n",
    "plt.show()"
   ]
  },
  {
   "cell_type": "code",
   "execution_count": null,
   "metadata": {
    "ExecuteTime": {
     "end_time": "2020-05-01T14:38:53.627208Z",
     "start_time": "2020-05-01T14:38:53.619191Z"
    },
    "hidden": true,
    "scrolled": false
   },
   "outputs": [],
   "source": [
    "#Remove negative x\n",
    "test_absolute_x = test_reduced_by_z[test_reduced_by_z['Mean_SMU_Between_Repairs'] >= 0]\n",
    "x = test_absolute_x['Mean_SMU_Between_Repairs']\n",
    "y = test_absolute_x['Expenditure_12M_PartsNServices']\n",
    "#create the new scatter plot\n",
    "plt.plot(x,y,'o',color = 'pink', label = '')\n",
    "# add the column names as labels\n",
    "plt.title('X VS Y')\n",
    "plt.xlabel('X')\n",
    "plt.ylabel('Y')\n",
    "plt.legend()\n",
    "plt.show()"
   ]
  },
  {
   "cell_type": "code",
   "execution_count": null,
   "metadata": {
    "ExecuteTime": {
     "end_time": "2020-05-01T14:38:08.698916Z",
     "start_time": "2020-05-01T14:38:08.690940Z"
    },
    "hidden": true
   },
   "outputs": [],
   "source": [
    "test_absolute_x.corr()"
   ]
  },
  {
   "cell_type": "code",
   "execution_count": null,
   "metadata": {
    "ExecuteTime": {
     "end_time": "2020-05-01T14:38:54.991960Z",
     "start_time": "2020-05-01T14:38:54.972017Z"
    },
    "hidden": true,
    "scrolled": true
   },
   "outputs": [],
   "source": [
    "# define our input variable & output variable\n",
    "x = test_absolute_x[['Mean_SMU_Between_Repairs']]\n",
    "y = test_absolute_x[['Expenditure_12M_PartsNServices']]\n",
    "\n",
    "# Split X and y into X_\n",
    "x_train, x_test, y_train, y_test = train_test_split(x, y, test_size=0.20, random_state=1)\n",
    "# create a Linear Regression model object.\n",
    "single_regression_model = LinearRegression()\n",
    "# pass through the X_train & y_train data set.\n",
    "single_regression_model.fit(x_train, y_train)\n",
    "# create OLS model for training data\n",
    "model = sm.OLS(y_train, x_train)\n",
    "# pass through the X_train & y_train data set.\n",
    "est = model.fit()\n",
    "print(est.summary())"
   ]
  },
  {
   "cell_type": "code",
   "execution_count": null,
   "metadata": {
    "ExecuteTime": {
     "end_time": "2020-05-01T14:39:01.673750Z",
     "start_time": "2020-05-01T14:39:01.666771Z"
    },
    "hidden": true
   },
   "outputs": [],
   "source": [
    "# make some confidence intervals, 95% by default.\n",
    "est.conf_int()"
   ]
  },
  {
   "cell_type": "code",
   "execution_count": null,
   "metadata": {
    "ExecuteTime": {
     "end_time": "2020-05-01T14:39:02.653046Z",
     "start_time": "2020-05-01T14:39:02.647062Z"
    },
    "hidden": true
   },
   "outputs": [],
   "source": [
    "# estimate the p-values\n",
    "est.pvalues"
   ]
  },
  {
   "cell_type": "code",
   "execution_count": null,
   "metadata": {
    "ExecuteTime": {
     "end_time": "2020-05-01T14:39:03.290616Z",
     "start_time": "2020-05-01T14:39:03.285608Z"
    },
    "hidden": true,
    "scrolled": true
   },
   "outputs": [],
   "source": [
    "# calculate and display intercept, coefficient\n",
    "intercept = single_regression_model.intercept_[0]\n",
    "coefficient = single_regression_model.coef_[0][0]\n",
    "# print out\n",
    "print(\"The Coefficient for training model is {:2}\".format(coefficient))\n",
    "print(\"The intercept for training model is {:4}\".format(intercept))"
   ]
  },
  {
   "cell_type": "code",
   "execution_count": null,
   "metadata": {
    "ExecuteTime": {
     "end_time": "2020-05-01T14:39:04.362559Z",
     "start_time": "2020-05-01T14:39:04.354577Z"
    },
    "hidden": true
   },
   "outputs": [],
   "source": [
    "# create prediction value and calculate errors\n",
    "y_predict = single_regression_model.predict(x_test)\n",
    "# calculate the mean squared error.\n",
    "model_mse = mean_squared_error(y_test, y_predict)\n",
    "# calculate the mean absolute error.\n",
    "model_mae = mean_absolute_error(y_test, y_predict)\n",
    "# calulcate the root mean squared error\n",
    "model_rmse =  math.sqrt(model_mse)\n",
    "# display the output\n",
    "print(\"MSE {:3}\".format(model_mse))\n",
    "print(\"MAE {:3}\".format(model_mae))\n",
    "print(\"RMSE {:3}\".format(model_rmse))"
   ]
  },
  {
   "cell_type": "code",
   "execution_count": null,
   "metadata": {
    "ExecuteTime": {
     "end_time": "2020-05-01T14:39:05.750536Z",
     "start_time": "2020-05-01T14:39:05.742560Z"
    },
    "hidden": true
   },
   "outputs": [],
   "source": [
    "model_r2 = r2_score(y_test, y_predict)\n",
    "print(\"R2 of the prediction is: {:.2}\".format(model_r2))"
   ]
  },
  {
   "cell_type": "code",
   "execution_count": null,
   "metadata": {
    "ExecuteTime": {
     "end_time": "2020-05-01T14:39:06.641123Z",
     "start_time": "2020-05-01T14:39:06.481499Z"
    },
    "hidden": true
   },
   "outputs": [],
   "source": [
    "# Grab the residuals & then call the hist() method\n",
    "(y_test - y_predict).hist(grid = False, color = 'Gold')\n",
    "plt.title(\"Model Residuals\")\n",
    "plt.show()"
   ]
  },
  {
   "cell_type": "code",
   "execution_count": null,
   "metadata": {
    "ExecuteTime": {
     "end_time": "2020-05-01T14:39:08.992903Z",
     "start_time": "2020-05-01T14:39:08.798480Z"
    },
    "hidden": true,
    "scrolled": true
   },
   "outputs": [],
   "source": [
    "# Plot outputs\n",
    "plt.scatter(x_test, y_test,  color='pink', label = '')\n",
    "plt.plot(x_test, y_predict, color='royalblue', linewidth = 3, linestyle= '-',label ='Regression Line')\n",
    "\n",
    "plt.title(\"Mean_SMU_Between_Repairs VS Expenditure_12M_PartsNServices\")\n",
    "plt.xlabel(\"x\")\n",
    "plt.ylabel(\"y\")\n",
    "plt.legend()\n",
    "plt.show()\n",
    "\n",
    "# The coefficients\n",
    "print('Coefficient:' + '\\033[1m' + '{:.2}''\\033[0m'.format(single_regression_model.coef_[0][0]))\n",
    "\n",
    "# The mean squared error\n",
    "print('Mean squared error: ' + '\\033[1m' + '{:.4}''\\033[0m'.format(model_mse))\n",
    "\n",
    "# The mean squared error\n",
    "print('Root Mean squared error: ' + '\\033[1m' + '{:.4}''\\033[0m'.format(math.sqrt(model_mse)))\n",
    "\n",
    "# Explained variance score: 1 is perfect prediction\n",
    "print('R2 score: '+ '\\033[1m' + '{:.2}''\\033[0m'.format(r2_score(y_test,y_predict)))"
   ]
  },
  {
   "cell_type": "markdown",
   "metadata": {
    "heading_collapsed": true,
    "hidden": true
   },
   "source": [
    "### Test 10 Conclusion"
   ]
  },
  {
   "cell_type": "markdown",
   "metadata": {
    "heading_collapsed": true,
    "hidden": true
   },
   "source": [
    "## Test 11: x = Family_Accounts y= Expenditure_12M_Total\n"
   ]
  },
  {
   "cell_type": "markdown",
   "metadata": {
    "heading_collapsed": true,
    "hidden": true
   },
   "source": [
    "### Test 11"
   ]
  },
  {
   "cell_type": "code",
   "execution_count": null,
   "metadata": {
    "ExecuteTime": {
     "end_time": "2020-05-01T14:39:20.128142Z",
     "start_time": "2020-05-01T14:39:20.105229Z"
    },
    "hidden": true
   },
   "outputs": [],
   "source": [
    "#Create subset data1 for testing ideal element\n",
    "test = data_dropna.loc[:, ['Family_Accounts', 'Expenditure_12M_Total']]\n",
    "\n",
    "#remove extreme outliers:\n",
    "#If you have multiple columns in your dataframe and would like to remove all rows that have outliers in at least one column, \n",
    "#the following expression would do that in one shot: select absolute Z score for the row <1.65 (). .all or .any\n",
    "test_reduced_by_z = test[(np.abs(stats.zscore(test)) < 3).all(axis=1)]\n",
    "\n",
    "#define the x & y data\n",
    "x = test_reduced_by_z['Family_Accounts']\n",
    "y = test_reduced_by_z['Expenditure_12M_Total']\n",
    "\n",
    "test_reduced_by_z.describe()"
   ]
  },
  {
   "cell_type": "code",
   "execution_count": null,
   "metadata": {
    "ExecuteTime": {
     "end_time": "2020-05-01T14:39:22.062977Z",
     "start_time": "2020-05-01T14:39:21.901414Z"
    },
    "hidden": true
   },
   "outputs": [],
   "source": [
    "#create the new scatter plot\n",
    "plt.plot(x,y,'o',color = 'pink', label = '')\n",
    "# add the column names as labels\n",
    "plt.title('X VS Y')\n",
    "plt.xlabel('X')\n",
    "plt.ylabel('Y')\n",
    "plt.legend()\n",
    "plt.show()"
   ]
  },
  {
   "cell_type": "code",
   "execution_count": null,
   "metadata": {
    "ExecuteTime": {
     "end_time": "2020-05-01T14:38:53.627208Z",
     "start_time": "2020-05-01T14:38:53.619191Z"
    },
    "hidden": true,
    "scrolled": false
   },
   "outputs": [],
   "source": [
    "test_reduced_by_z.corr()"
   ]
  },
  {
   "cell_type": "code",
   "execution_count": null,
   "metadata": {
    "ExecuteTime": {
     "end_time": "2020-05-01T14:38:54.991960Z",
     "start_time": "2020-05-01T14:38:54.972017Z"
    },
    "hidden": true,
    "scrolled": true
   },
   "outputs": [],
   "source": [
    "# define our input variable & output variable\n",
    "x = test_reduced_by_z[['Family_Accounts']]\n",
    "y = test_reduced_by_z[['Expenditure_12M_Total']]\n",
    "\n",
    "# Split X and y into X_\n",
    "x_train, x_test, y_train, y_test = train_test_split(x, y, test_size=0.20, random_state=1)\n",
    "# create a Linear Regression model object.\n",
    "single_regression_model = LinearRegression()\n",
    "# pass through the X_train & y_train data set.\n",
    "single_regression_model.fit(x_train, y_train)\n",
    "# create OLS model for training data\n",
    "model = sm.OLS(y_train, x_train)\n",
    "# pass through the X_train & y_train data set.\n",
    "est = model.fit()\n",
    "print(est.summary())"
   ]
  },
  {
   "cell_type": "code",
   "execution_count": null,
   "metadata": {
    "ExecuteTime": {
     "end_time": "2020-05-01T14:39:01.673750Z",
     "start_time": "2020-05-01T14:39:01.666771Z"
    },
    "hidden": true
   },
   "outputs": [],
   "source": [
    "# make some confidence intervals, 95% by default.\n",
    "est.conf_int()"
   ]
  },
  {
   "cell_type": "code",
   "execution_count": null,
   "metadata": {
    "ExecuteTime": {
     "end_time": "2020-05-01T14:39:02.653046Z",
     "start_time": "2020-05-01T14:39:02.647062Z"
    },
    "hidden": true
   },
   "outputs": [],
   "source": [
    "# estimate the p-values\n",
    "est.pvalues"
   ]
  },
  {
   "cell_type": "code",
   "execution_count": null,
   "metadata": {
    "ExecuteTime": {
     "end_time": "2020-05-01T14:39:03.290616Z",
     "start_time": "2020-05-01T14:39:03.285608Z"
    },
    "hidden": true,
    "scrolled": true
   },
   "outputs": [],
   "source": [
    "# calculate and display intercept, coefficient\n",
    "intercept = single_regression_model.intercept_[0]\n",
    "coefficient = single_regression_model.coef_[0][0]\n",
    "# print out\n",
    "print(\"The Coefficient for training model is {:2}\".format(coefficient))\n",
    "print(\"The intercept for training model is {:4}\".format(intercept))"
   ]
  },
  {
   "cell_type": "code",
   "execution_count": null,
   "metadata": {
    "ExecuteTime": {
     "end_time": "2020-05-01T14:39:04.362559Z",
     "start_time": "2020-05-01T14:39:04.354577Z"
    },
    "hidden": true
   },
   "outputs": [],
   "source": [
    "# create prediction value and calculate errors\n",
    "y_predict = single_regression_model.predict(x_test)\n",
    "# calculate the mean squared error.\n",
    "model_mse = mean_squared_error(y_test, y_predict)\n",
    "# calculate the mean absolute error.\n",
    "model_mae = mean_absolute_error(y_test, y_predict)\n",
    "# calulcate the root mean squared error\n",
    "model_rmse =  math.sqrt(model_mse)\n",
    "# display the output\n",
    "print(\"MSE {:3}\".format(model_mse))\n",
    "print(\"MAE {:3}\".format(model_mae))\n",
    "print(\"RMSE {:3}\".format(model_rmse))"
   ]
  },
  {
   "cell_type": "code",
   "execution_count": null,
   "metadata": {
    "ExecuteTime": {
     "end_time": "2020-05-01T14:39:05.750536Z",
     "start_time": "2020-05-01T14:39:05.742560Z"
    },
    "hidden": true
   },
   "outputs": [],
   "source": [
    "model_r2 = r2_score(y_test, y_predict)\n",
    "print(\"R2 of the prediction is: {:.2}\".format(model_r2))"
   ]
  },
  {
   "cell_type": "code",
   "execution_count": null,
   "metadata": {
    "ExecuteTime": {
     "end_time": "2020-05-01T14:39:06.641123Z",
     "start_time": "2020-05-01T14:39:06.481499Z"
    },
    "hidden": true
   },
   "outputs": [],
   "source": [
    "# Grab the residuals & then call the hist() method\n",
    "(y_test - y_predict).hist(grid = False, color = 'Gold')\n",
    "plt.title(\"Model Residuals\")\n",
    "plt.show()"
   ]
  },
  {
   "cell_type": "code",
   "execution_count": null,
   "metadata": {
    "ExecuteTime": {
     "end_time": "2020-05-01T14:39:08.992903Z",
     "start_time": "2020-05-01T14:39:08.798480Z"
    },
    "hidden": true,
    "scrolled": true
   },
   "outputs": [],
   "source": [
    "# Plot outputs\n",
    "plt.scatter(x_test, y_test,  color='pink', label = '')\n",
    "plt.plot(x_test, y_predict, color='royalblue', linewidth = 3, linestyle= '-',label ='Regression Line')\n",
    "\n",
    "plt.title(\"Family_Accounts VS Expenditure_12M_Total\")\n",
    "plt.xlabel(\"x\")\n",
    "plt.ylabel(\"y\")\n",
    "plt.legend()\n",
    "plt.show()\n",
    "\n",
    "# The coefficients\n",
    "print('Coefficient:' + '\\033[1m' + '{:.2}''\\033[0m'.format(single_regression_model.coef_[0][0]))\n",
    "\n",
    "# The mean squared error\n",
    "print('Mean squared error: ' + '\\033[1m' + '{:.4}''\\033[0m'.format(model_mse))\n",
    "\n",
    "# The mean squared error\n",
    "print('Root Mean squared error: ' + '\\033[1m' + '{:.4}''\\033[0m'.format(math.sqrt(model_mse)))\n",
    "\n",
    "# Explained variance score: 1 is perfect prediction\n",
    "print('R2 score: '+ '\\033[1m' + '{:.2}''\\033[0m'.format(r2_score(y_test,y_predict)))"
   ]
  },
  {
   "cell_type": "markdown",
   "metadata": {
    "heading_collapsed": true,
    "hidden": true
   },
   "source": [
    "### Test 11 Conclusion"
   ]
  },
  {
   "cell_type": "markdown",
   "metadata": {
    "heading_collapsed": true,
    "hidden": true
   },
   "source": [
    "## Test 12: x = Average_Count_SOS_Per_Unit_0_12M y= Expenditure_12M_Total\n"
   ]
  },
  {
   "cell_type": "markdown",
   "metadata": {
    "heading_collapsed": true,
    "hidden": true
   },
   "source": [
    "### Test 12"
   ]
  },
  {
   "cell_type": "code",
   "execution_count": null,
   "metadata": {
    "ExecuteTime": {
     "end_time": "2020-05-01T14:39:20.128142Z",
     "start_time": "2020-05-01T14:39:20.105229Z"
    },
    "hidden": true
   },
   "outputs": [],
   "source": [
    "#Create subset data1 for testing ideal element\n",
    "test = data_dropna.loc[:, ['Average_Count_SOS_Per_Unit_0_12M', 'Expenditure_12M_Total']]\n",
    "\n",
    "#remove extreme outliers:\n",
    "#If you have multiple columns in your dataframe and would like to remove all rows that have outliers in at least one column, \n",
    "#the following expression would do that in one shot: select absolute Z score for the row <1.65 (). .all or .any\n",
    "test_reduced_by_z = test[(np.abs(stats.zscore(test)) < 3).all(axis=1)]\n",
    "\n",
    "#define the x & y data\n",
    "x = test_reduced_by_z['Average_Count_SOS_Per_Unit_0_12M']\n",
    "y = test_reduced_by_z['Expenditure_12M_Total']\n",
    "\n",
    "test_reduced_by_z.describe()"
   ]
  },
  {
   "cell_type": "code",
   "execution_count": null,
   "metadata": {
    "ExecuteTime": {
     "end_time": "2020-05-01T14:39:22.062977Z",
     "start_time": "2020-05-01T14:39:21.901414Z"
    },
    "hidden": true
   },
   "outputs": [],
   "source": [
    "#create the new scatter plot\n",
    "plt.plot(x,y,'o',color = 'pink', label = '')\n",
    "# add the column names as labels\n",
    "plt.title('X VS Y')\n",
    "plt.xlabel('X')\n",
    "plt.ylabel('Y')\n",
    "plt.legend()\n",
    "plt.show()"
   ]
  },
  {
   "cell_type": "markdown",
   "metadata": {
    "heading_collapsed": true,
    "hidden": true
   },
   "source": [
    "### Normalize Expenditure to ExpenditurePerUnit !!! Not sure how to create array need time"
   ]
  },
  {
   "cell_type": "code",
   "execution_count": null,
   "metadata": {
    "ExecuteTime": {
     "end_time": "2020-05-01T14:44:03.878228Z",
     "start_time": "2020-05-01T14:44:03.855292Z"
    },
    "hidden": true
   },
   "outputs": [],
   "source": [
    "#Create subset data1 for testing ideal element\n",
    "test = data_dropna.loc[:, ['Average_Count_SOS_Per_Unit_0_12M', 'Expenditure_12M_Total','Count_CatFleetSize']]\n",
    "\n",
    "#remove extreme outliers:\n",
    "#If you have multiple columns in your dataframe and would like to remove all rows that have outliers in at least one column, \n",
    "#the following expression would do that in one shot: select absolute Z score for the row <1.65 (). .all or .any\n",
    "test_reduced_by_z = test[(np.abs(stats.zscore(test)) < 3).all(axis=1)]\n",
    "\n",
    "#define the x & y data\n",
    "x = test_reduced_by_z['Average_Count_SOS_Per_Unit_0_12M']\n",
    "y = test_reduced_by_z['Expenditure_12M_Total'] / test_reduced_by_z['Count_CatFleetSize']\n",
    "\n",
    "test_reduced_by_z.describe()"
   ]
  },
  {
   "cell_type": "code",
   "execution_count": null,
   "metadata": {
    "ExecuteTime": {
     "end_time": "2020-05-01T14:38:53.627208Z",
     "start_time": "2020-05-01T14:38:53.619191Z"
    },
    "hidden": true,
    "scrolled": false
   },
   "outputs": [],
   "source": [
    "test_reduced_by_z.corr()"
   ]
  },
  {
   "cell_type": "code",
   "execution_count": null,
   "metadata": {
    "ExecuteTime": {
     "end_time": "2020-05-01T14:38:54.991960Z",
     "start_time": "2020-05-01T14:38:54.972017Z"
    },
    "hidden": true,
    "scrolled": true
   },
   "outputs": [],
   "source": [
    "# define our input variable & output variable\n",
    "x = test_reduced_by_z[['Average_Count_SOS_Per_Unit_0_12M']]\n",
    "y = test_reduced_by_z[['Expenditure_12M_Total']]\n",
    "\n",
    "# Split X and y into X_\n",
    "x_train, x_test, y_train, y_test = train_test_split(x, y, test_size=0.20, random_state=1)\n",
    "# create a Linear Regression model object.\n",
    "single_regression_model = LinearRegression()\n",
    "# pass through the X_train & y_train data set.\n",
    "single_regression_model.fit(x_train, y_train)\n",
    "# create OLS model for training data\n",
    "model = sm.OLS(y_train, x_train)\n",
    "# pass through the X_train & y_train data set.\n",
    "est = model.fit()\n",
    "print(est.summary())"
   ]
  },
  {
   "cell_type": "code",
   "execution_count": null,
   "metadata": {
    "ExecuteTime": {
     "end_time": "2020-05-01T14:39:01.673750Z",
     "start_time": "2020-05-01T14:39:01.666771Z"
    },
    "hidden": true
   },
   "outputs": [],
   "source": [
    "# make some confidence intervals, 95% by default.\n",
    "est.conf_int()"
   ]
  },
  {
   "cell_type": "code",
   "execution_count": null,
   "metadata": {
    "ExecuteTime": {
     "end_time": "2020-05-01T14:39:02.653046Z",
     "start_time": "2020-05-01T14:39:02.647062Z"
    },
    "hidden": true
   },
   "outputs": [],
   "source": [
    "# estimate the p-values\n",
    "est.pvalues"
   ]
  },
  {
   "cell_type": "code",
   "execution_count": null,
   "metadata": {
    "ExecuteTime": {
     "end_time": "2020-05-01T14:39:03.290616Z",
     "start_time": "2020-05-01T14:39:03.285608Z"
    },
    "hidden": true,
    "scrolled": true
   },
   "outputs": [],
   "source": [
    "# calculate and display intercept, coefficient\n",
    "intercept = single_regression_model.intercept_[0]\n",
    "coefficient = single_regression_model.coef_[0][0]\n",
    "# print out\n",
    "print(\"The Coefficient for training model is {:2}\".format(coefficient))\n",
    "print(\"The intercept for training model is {:4}\".format(intercept))"
   ]
  },
  {
   "cell_type": "code",
   "execution_count": null,
   "metadata": {
    "ExecuteTime": {
     "end_time": "2020-05-01T14:39:04.362559Z",
     "start_time": "2020-05-01T14:39:04.354577Z"
    },
    "hidden": true
   },
   "outputs": [],
   "source": [
    "# create prediction value and calculate errors\n",
    "y_predict = single_regression_model.predict(x_test)\n",
    "# calculate the mean squared error.\n",
    "model_mse = mean_squared_error(y_test, y_predict)\n",
    "# calculate the mean absolute error.\n",
    "model_mae = mean_absolute_error(y_test, y_predict)\n",
    "# calulcate the root mean squared error\n",
    "model_rmse =  math.sqrt(model_mse)\n",
    "# display the output\n",
    "print(\"MSE {:3}\".format(model_mse))\n",
    "print(\"MAE {:3}\".format(model_mae))\n",
    "print(\"RMSE {:3}\".format(model_rmse))"
   ]
  },
  {
   "cell_type": "code",
   "execution_count": null,
   "metadata": {
    "ExecuteTime": {
     "end_time": "2020-05-01T14:39:05.750536Z",
     "start_time": "2020-05-01T14:39:05.742560Z"
    },
    "hidden": true
   },
   "outputs": [],
   "source": [
    "model_r2 = r2_score(y_test, y_predict)\n",
    "print(\"R2 of the prediction is: {:.2}\".format(model_r2))"
   ]
  },
  {
   "cell_type": "code",
   "execution_count": null,
   "metadata": {
    "ExecuteTime": {
     "end_time": "2020-05-01T14:39:06.641123Z",
     "start_time": "2020-05-01T14:39:06.481499Z"
    },
    "hidden": true
   },
   "outputs": [],
   "source": [
    "# Grab the residuals & then call the hist() method\n",
    "(y_test - y_predict).hist(grid = False, color = 'Gold')\n",
    "plt.title(\"Model Residuals\")\n",
    "plt.show()"
   ]
  },
  {
   "cell_type": "code",
   "execution_count": null,
   "metadata": {
    "ExecuteTime": {
     "end_time": "2020-05-01T14:39:08.992903Z",
     "start_time": "2020-05-01T14:39:08.798480Z"
    },
    "hidden": true,
    "scrolled": true
   },
   "outputs": [],
   "source": [
    "# Plot outputs\n",
    "plt.scatter(x_test, y_test,  color='pink', label = '')\n",
    "plt.plot(x_test, y_predict, color='royalblue', linewidth = 3, linestyle= '-',label ='Regression Line')\n",
    "\n",
    "plt.title(\"Average_Count_SOS_Per_Unit_0_12M VS Expenditure_12M_Total\")\n",
    "plt.xlabel(\"x\")\n",
    "plt.ylabel(\"y\")\n",
    "plt.legend()\n",
    "plt.show()\n",
    "\n",
    "# The coefficients\n",
    "print('Coefficient:' + '\\033[1m' + '{:.2}''\\033[0m'.format(single_regression_model.coef_[0][0]))\n",
    "\n",
    "# The mean squared error\n",
    "print('Mean squared error: ' + '\\033[1m' + '{:.4}''\\033[0m'.format(model_mse))\n",
    "\n",
    "# The mean squared error\n",
    "print('Root Mean squared error: ' + '\\033[1m' + '{:.4}''\\033[0m'.format(math.sqrt(model_mse)))\n",
    "\n",
    "# Explained variance score: 1 is perfect prediction\n",
    "print('R2 score: '+ '\\033[1m' + '{:.2}''\\033[0m'.format(r2_score(y_test,y_predict)))"
   ]
  },
  {
   "cell_type": "markdown",
   "metadata": {
    "heading_collapsed": true,
    "hidden": true
   },
   "source": [
    "### Test 12 Conclusion"
   ]
  },
  {
   "cell_type": "markdown",
   "metadata": {
    "heading_collapsed": true,
    "hidden": true
   },
   "source": [
    "## Test 13: x = Average_Count_WorkOrder_Per_Unit_0_12M y= Expenditure_12M_Total\n"
   ]
  },
  {
   "cell_type": "markdown",
   "metadata": {
    "heading_collapsed": true,
    "hidden": true
   },
   "source": [
    "### Test 13"
   ]
  },
  {
   "cell_type": "code",
   "execution_count": null,
   "metadata": {
    "ExecuteTime": {
     "end_time": "2020-05-01T14:44:50.931121Z",
     "start_time": "2020-05-01T14:44:50.911120Z"
    },
    "hidden": true,
    "scrolled": true
   },
   "outputs": [],
   "source": [
    "#Create subset data1 for testing ideal element\n",
    "test = data_dropna.loc[:, ['Average_Count_WorkOrder_Per_Unit_0_12M', 'Expenditure_12M_Total']]\n",
    "\n",
    "#remove extreme outliers:\n",
    "#If you have multiple columns in your dataframe and would like to remove all rows that have outliers in at least one column, \n",
    "#the following expression would do that in one shot: select absolute Z score for the row <1.65 (). .all or .any\n",
    "test_reduced_by_z = test[(np.abs(stats.zscore(test)) < 3).all(axis=1)]\n",
    "\n",
    "#define the x & y data\n",
    "x = test_reduced_by_z['Average_Count_WorkOrder_Per_Unit_0_12M']\n",
    "y = test_reduced_by_z['Expenditure_12M_Total']\n",
    "\n",
    "test_reduced_by_z.describe()"
   ]
  },
  {
   "cell_type": "code",
   "execution_count": null,
   "metadata": {
    "ExecuteTime": {
     "end_time": "2020-05-01T14:44:52.410729Z",
     "start_time": "2020-05-01T14:44:52.239225Z"
    },
    "hidden": true
   },
   "outputs": [],
   "source": [
    "#create the new scatter plot\n",
    "plt.plot(x,y,'o',color = 'pink', label = '')\n",
    "# add the column names as labels\n",
    "plt.title('X VS Y')\n",
    "plt.xlabel('X')\n",
    "plt.ylabel('Y')\n",
    "plt.legend()\n",
    "plt.show()"
   ]
  },
  {
   "cell_type": "markdown",
   "metadata": {
    "heading_collapsed": true,
    "hidden": true
   },
   "source": [
    "### Normalize Expenditure to ExpenditurePerUnit !!! Not sure how to create array need time"
   ]
  },
  {
   "cell_type": "code",
   "execution_count": null,
   "metadata": {
    "ExecuteTime": {
     "end_time": "2020-05-01T14:44:50.931121Z",
     "start_time": "2020-05-01T14:44:50.911120Z"
    },
    "hidden": true,
    "scrolled": true
   },
   "outputs": [],
   "source": [
    "#Create subset data1 for testing ideal element\n",
    "test = data_dropna.loc[:, ['Average_Count_WorkOrder_Per_Unit_0_12M', 'Expenditure_12M_Total']]\n",
    "\n",
    "#remove extreme outliers:\n",
    "#If you have multiple columns in your dataframe and would like to remove all rows that have outliers in at least one column, \n",
    "#the following expression would do that in one shot: select absolute Z score for the row <1.65 (). .all or .any\n",
    "test_reduced_by_z = test[(np.abs(stats.zscore(test)) < 3).all(axis=1)]\n",
    "\n",
    "#define the x & y data\n",
    "x = test_reduced_by_z['Average_Count_WorkOrder_Per_Unit_0_12M']\n",
    "y = test_reduced_by_z['Expenditure_12M_Total']\n",
    "\n",
    "test_reduced_by_z.describe()"
   ]
  },
  {
   "cell_type": "code",
   "execution_count": null,
   "metadata": {
    "ExecuteTime": {
     "end_time": "2020-05-01T14:44:52.410729Z",
     "start_time": "2020-05-01T14:44:52.239225Z"
    },
    "hidden": true
   },
   "outputs": [],
   "source": [
    "#create the new scatter plot\n",
    "plt.plot(x,y,'o',color = 'pink', label = '')\n",
    "# add the column names as labels\n",
    "plt.title('X VS Y')\n",
    "plt.xlabel('X')\n",
    "plt.ylabel('Y')\n",
    "plt.legend()\n",
    "plt.show()"
   ]
  },
  {
   "cell_type": "code",
   "execution_count": null,
   "metadata": {
    "ExecuteTime": {
     "end_time": "2020-05-01T14:44:54.080654Z",
     "start_time": "2020-05-01T14:44:54.069686Z"
    },
    "hidden": true,
    "scrolled": false
   },
   "outputs": [],
   "source": [
    "test_reduced_by_z.corr()"
   ]
  },
  {
   "cell_type": "code",
   "execution_count": null,
   "metadata": {
    "ExecuteTime": {
     "end_time": "2020-05-01T14:45:00.883268Z",
     "start_time": "2020-05-01T14:45:00.861364Z"
    },
    "hidden": true,
    "scrolled": true
   },
   "outputs": [],
   "source": [
    "# define our input variable & output variable\n",
    "x = test_reduced_by_z[['Average_Count_WorkOrder_Per_Unit_0_12M']]\n",
    "y = test_reduced_by_z[['Expenditure_12M_Total']]\n",
    "\n",
    "# Split X and y into X_\n",
    "x_train, x_test, y_train, y_test = train_test_split(x, y, test_size=0.20, random_state=1)\n",
    "# create a Linear Regression model object.\n",
    "single_regression_model = LinearRegression()\n",
    "# pass through the X_train & y_train data set.\n",
    "single_regression_model.fit(x_train, y_train)\n",
    "# create OLS model for training data\n",
    "model = sm.OLS(y_train, x_train)\n",
    "# pass through the X_train & y_train data set.\n",
    "est = model.fit()\n",
    "print(est.summary())"
   ]
  },
  {
   "cell_type": "code",
   "execution_count": null,
   "metadata": {
    "ExecuteTime": {
     "end_time": "2020-05-01T14:45:02.913311Z",
     "start_time": "2020-05-01T14:45:02.907324Z"
    },
    "hidden": true
   },
   "outputs": [],
   "source": [
    "# make some confidence intervals, 95% by default.\n",
    "est.conf_int()"
   ]
  },
  {
   "cell_type": "code",
   "execution_count": null,
   "metadata": {
    "ExecuteTime": {
     "end_time": "2020-05-01T14:45:04.276000Z",
     "start_time": "2020-05-01T14:45:04.269021Z"
    },
    "hidden": true
   },
   "outputs": [],
   "source": [
    "# estimate the p-values\n",
    "est.pvalues"
   ]
  },
  {
   "cell_type": "code",
   "execution_count": null,
   "metadata": {
    "ExecuteTime": {
     "end_time": "2020-05-01T14:45:11.492985Z",
     "start_time": "2020-05-01T14:45:11.487999Z"
    },
    "hidden": true,
    "scrolled": true
   },
   "outputs": [],
   "source": [
    "# calculate and display intercept, coefficient\n",
    "intercept = single_regression_model.intercept_[0]\n",
    "coefficient = single_regression_model.coef_[0][0]\n",
    "# print out\n",
    "print(\"The Coefficient for training model is {:2}\".format(coefficient))\n",
    "print(\"The intercept for training model is {:4}\".format(intercept))"
   ]
  },
  {
   "cell_type": "code",
   "execution_count": null,
   "metadata": {
    "ExecuteTime": {
     "end_time": "2020-05-01T14:45:12.213054Z",
     "start_time": "2020-05-01T14:45:12.203081Z"
    },
    "hidden": true
   },
   "outputs": [],
   "source": [
    "# create prediction value and calculate errors\n",
    "y_predict = single_regression_model.predict(x_test)\n",
    "# calculate the mean squared error.\n",
    "model_mse = mean_squared_error(y_test, y_predict)\n",
    "# calculate the mean absolute error.\n",
    "model_mae = mean_absolute_error(y_test, y_predict)\n",
    "# calulcate the root mean squared error\n",
    "model_rmse =  math.sqrt(model_mse)\n",
    "# display the output\n",
    "print(\"MSE {:3}\".format(model_mse))\n",
    "print(\"MAE {:3}\".format(model_mae))\n",
    "print(\"RMSE {:3}\".format(model_rmse))"
   ]
  },
  {
   "cell_type": "code",
   "execution_count": null,
   "metadata": {
    "ExecuteTime": {
     "end_time": "2020-05-01T14:45:13.563911Z",
     "start_time": "2020-05-01T14:45:13.556930Z"
    },
    "hidden": true
   },
   "outputs": [],
   "source": [
    "model_r2 = r2_score(y_test, y_predict)\n",
    "print(\"R2 of the prediction is: {:.2}\".format(model_r2))"
   ]
  },
  {
   "cell_type": "code",
   "execution_count": null,
   "metadata": {
    "ExecuteTime": {
     "end_time": "2020-05-01T14:45:14.358830Z",
     "start_time": "2020-05-01T14:45:14.227180Z"
    },
    "hidden": true
   },
   "outputs": [],
   "source": [
    "# Grab the residuals & then call the hist() method\n",
    "(y_test - y_predict).hist(grid = False, color = 'Gold')\n",
    "plt.title(\"Model Residuals\")\n",
    "plt.show()"
   ]
  },
  {
   "cell_type": "code",
   "execution_count": null,
   "metadata": {
    "ExecuteTime": {
     "end_time": "2020-05-01T14:45:15.810771Z",
     "start_time": "2020-05-01T14:45:15.627264Z"
    },
    "hidden": true,
    "scrolled": true
   },
   "outputs": [],
   "source": [
    "# Plot outputs\n",
    "plt.scatter(x_test, y_test,  color='pink', label = '')\n",
    "plt.plot(x_test, y_predict, color='royalblue', linewidth = 3, linestyle= '-',label ='Regression Line')\n",
    "\n",
    "plt.title(\"Average_Count_WorkOrder_Per_Unit_0_12M VS Expenditure_12M_Total\")\n",
    "plt.xlabel(\"x\")\n",
    "plt.ylabel(\"y\")\n",
    "plt.legend()\n",
    "plt.show()\n",
    "\n",
    "# The coefficients\n",
    "print('Coefficient:' + '\\033[1m' + '{:.2}''\\033[0m'.format(single_regression_model.coef_[0][0]))\n",
    "\n",
    "# The mean squared error\n",
    "print('Mean squared error: ' + '\\033[1m' + '{:.4}''\\033[0m'.format(model_mse))\n",
    "\n",
    "# The mean squared error\n",
    "print('Root Mean squared error: ' + '\\033[1m' + '{:.4}''\\033[0m'.format(math.sqrt(model_mse)))\n",
    "\n",
    "# Explained variance score: 1 is perfect prediction\n",
    "print('R2 score: '+ '\\033[1m' + '{:.2}''\\033[0m'.format(r2_score(y_test,y_predict)))"
   ]
  },
  {
   "cell_type": "markdown",
   "metadata": {
    "heading_collapsed": true,
    "hidden": true
   },
   "source": [
    "### Test 13 Conclusion"
   ]
  },
  {
   "cell_type": "markdown",
   "metadata": {
    "heading_collapsed": true,
    "hidden": true
   },
   "source": [
    "## Test 14: x = PartsDCAL y= Expenditure_12M_PartsNServices"
   ]
  },
  {
   "cell_type": "markdown",
   "metadata": {
    "heading_collapsed": true,
    "hidden": true
   },
   "source": [
    "### Test 14"
   ]
  },
  {
   "cell_type": "code",
   "execution_count": null,
   "metadata": {
    "ExecuteTime": {
     "end_time": "2020-05-01T14:46:14.973594Z",
     "start_time": "2020-05-01T14:46:14.954615Z"
    },
    "hidden": true
   },
   "outputs": [],
   "source": [
    "#Create subset data1 for testing ideal element\n",
    "test = data_dropna.loc[:, ['PartsDCAL', 'Expenditure_12M_PartsNServices']]\n",
    "\n",
    "#remove extreme outliers:\n",
    "#If you have multiple columns in your dataframe and would like to remove all rows that have outliers in at least one column, \n",
    "#the following expression would do that in one shot: select absolute Z score for the row <1.65 (). .all or .any\n",
    "test_reduced_by_z = test[(np.abs(stats.zscore(test)) < 3).all(axis=1)]\n",
    "\n",
    "#define the x & y data\n",
    "x = test_reduced_by_z['PartsDCAL']\n",
    "y = test_reduced_by_z['Expenditure_12M_PartsNServices']\n",
    "\n",
    "test_reduced_by_z.describe()"
   ]
  },
  {
   "cell_type": "code",
   "execution_count": null,
   "metadata": {
    "ExecuteTime": {
     "end_time": "2020-05-01T14:46:16.213770Z",
     "start_time": "2020-05-01T14:46:16.050250Z"
    },
    "hidden": true
   },
   "outputs": [],
   "source": [
    "#create the new scatter plot\n",
    "plt.plot(x,y,'o',color = 'pink', label = '')\n",
    "# add the column names as labels\n",
    "plt.title('X VS Y')\n",
    "plt.xlabel('X')\n",
    "plt.ylabel('Y')\n",
    "plt.legend()\n",
    "plt.show()"
   ]
  },
  {
   "cell_type": "code",
   "execution_count": null,
   "metadata": {
    "ExecuteTime": {
     "end_time": "2020-05-01T14:46:17.531393Z",
     "start_time": "2020-05-01T14:46:17.523416Z"
    },
    "hidden": true,
    "scrolled": false
   },
   "outputs": [],
   "source": [
    "test_reduced_by_z.corr()"
   ]
  },
  {
   "cell_type": "code",
   "execution_count": null,
   "metadata": {
    "ExecuteTime": {
     "end_time": "2020-05-01T14:46:27.070162Z",
     "start_time": "2020-05-01T14:46:27.049261Z"
    },
    "hidden": true,
    "scrolled": true
   },
   "outputs": [],
   "source": [
    "# define our input variable & output variable\n",
    "x = test_reduced_by_z[['PartsDCAL']]\n",
    "y = test_reduced_by_z[['Expenditure_12M_PartsNServices']]\n",
    "\n",
    "# Split X and y into X_\n",
    "x_train, x_test, y_train, y_test = train_test_split(x, y, test_size=0.20, random_state=1)\n",
    "# create a Linear Regression model object.\n",
    "single_regression_model = LinearRegression()\n",
    "# pass through the X_train & y_train data set.\n",
    "single_regression_model.fit(x_train, y_train)\n",
    "# create OLS model for training data\n",
    "model = sm.OLS(y_train, x_train)\n",
    "# pass through the X_train & y_train data set.\n",
    "est = model.fit()\n",
    "print(est.summary())"
   ]
  },
  {
   "cell_type": "code",
   "execution_count": null,
   "metadata": {
    "ExecuteTime": {
     "end_time": "2020-05-01T14:46:30.261732Z",
     "start_time": "2020-05-01T14:46:30.252759Z"
    },
    "hidden": true
   },
   "outputs": [],
   "source": [
    "# make some confidence intervals, 95% by default.\n",
    "est.conf_int()"
   ]
  },
  {
   "cell_type": "code",
   "execution_count": null,
   "metadata": {
    "ExecuteTime": {
     "end_time": "2020-05-01T14:46:31.327196Z",
     "start_time": "2020-05-01T14:46:31.321215Z"
    },
    "hidden": true
   },
   "outputs": [],
   "source": [
    "# estimate the p-values\n",
    "est.pvalues"
   ]
  },
  {
   "cell_type": "code",
   "execution_count": null,
   "metadata": {
    "ExecuteTime": {
     "end_time": "2020-05-01T14:46:32.293248Z",
     "start_time": "2020-05-01T14:46:32.288262Z"
    },
    "hidden": true,
    "scrolled": true
   },
   "outputs": [],
   "source": [
    "# calculate and display intercept, coefficient\n",
    "intercept = single_regression_model.intercept_[0]\n",
    "coefficient = single_regression_model.coef_[0][0]\n",
    "# print out\n",
    "print(\"The Coefficient for training model is {:2}\".format(coefficient))\n",
    "print(\"The intercept for training model is {:4}\".format(intercept))"
   ]
  },
  {
   "cell_type": "code",
   "execution_count": null,
   "metadata": {
    "ExecuteTime": {
     "end_time": "2020-05-01T14:46:33.456898Z",
     "start_time": "2020-05-01T14:46:33.447923Z"
    },
    "hidden": true
   },
   "outputs": [],
   "source": [
    "# create prediction value and calculate errors\n",
    "y_predict = single_regression_model.predict(x_test)\n",
    "# calculate the mean squared error.\n",
    "model_mse = mean_squared_error(y_test, y_predict)\n",
    "# calculate the mean absolute error.\n",
    "model_mae = mean_absolute_error(y_test, y_predict)\n",
    "# calulcate the root mean squared error\n",
    "model_rmse =  math.sqrt(model_mse)\n",
    "# display the output\n",
    "print(\"MSE {:3}\".format(model_mse))\n",
    "print(\"MAE {:3}\".format(model_mae))\n",
    "print(\"RMSE {:3}\".format(model_rmse))"
   ]
  },
  {
   "cell_type": "code",
   "execution_count": null,
   "metadata": {
    "ExecuteTime": {
     "end_time": "2020-05-01T14:46:34.444274Z",
     "start_time": "2020-05-01T14:46:34.438294Z"
    },
    "hidden": true
   },
   "outputs": [],
   "source": [
    "model_r2 = r2_score(y_test, y_predict)\n",
    "print(\"R2 of the prediction is: {:.2}\".format(model_r2))"
   ]
  },
  {
   "cell_type": "code",
   "execution_count": null,
   "metadata": {
    "ExecuteTime": {
     "end_time": "2020-05-01T14:46:36.138600Z",
     "start_time": "2020-05-01T14:46:35.999966Z"
    },
    "hidden": true
   },
   "outputs": [],
   "source": [
    "# Grab the residuals & then call the hist() method\n",
    "(y_test - y_predict).hist(grid = False, color = 'Gold')\n",
    "plt.title(\"Model Residuals\")\n",
    "plt.show()"
   ]
  },
  {
   "cell_type": "code",
   "execution_count": null,
   "metadata": {
    "ExecuteTime": {
     "end_time": "2020-05-01T14:46:37.283190Z",
     "start_time": "2020-05-01T14:46:37.119628Z"
    },
    "hidden": true,
    "scrolled": true
   },
   "outputs": [],
   "source": [
    "# Plot outputs\n",
    "plt.scatter(x_test, y_test,  color='pink', label = '')\n",
    "plt.plot(x_test, y_predict, color='royalblue', linewidth = 3, linestyle= '-',label ='Regression Line')\n",
    "\n",
    "plt.title(\"PartsDCAL VS Expenditure_12M_PartsNServices\")\n",
    "plt.xlabel(\"x\")\n",
    "plt.ylabel(\"y\")\n",
    "plt.legend()\n",
    "plt.show()\n",
    "\n",
    "# The coefficients\n",
    "print('Coefficient:' + '\\033[1m' + '{:.2}''\\033[0m'.format(single_regression_model.coef_[0][0]))\n",
    "\n",
    "# The mean squared error\n",
    "print('Mean squared error: ' + '\\033[1m' + '{:.4}''\\033[0m'.format(model_mse))\n",
    "\n",
    "# The mean squared error\n",
    "print('Root Mean squared error: ' + '\\033[1m' + '{:.4}''\\033[0m'.format(math.sqrt(model_mse)))\n",
    "\n",
    "# Explained variance score: 1 is perfect prediction\n",
    "print('R2 score: '+ '\\033[1m' + '{:.2}''\\033[0m'.format(r2_score(y_test,y_predict)))"
   ]
  },
  {
   "cell_type": "markdown",
   "metadata": {
    "heading_collapsed": true,
    "hidden": true
   },
   "source": [
    "### Test 14 Conclusion"
   ]
  },
  {
   "cell_type": "markdown",
   "metadata": {
    "heading_collapsed": true,
    "hidden": true
   },
   "source": [
    "## Test 15: x = ServiceDCAL y= Expenditure_12M_PartsNServices"
   ]
  },
  {
   "cell_type": "markdown",
   "metadata": {
    "heading_collapsed": true,
    "hidden": true
   },
   "source": [
    "### Test 15"
   ]
  },
  {
   "cell_type": "code",
   "execution_count": null,
   "metadata": {
    "ExecuteTime": {
     "end_time": "2020-05-01T14:49:28.149666Z",
     "start_time": "2020-05-01T14:49:28.130718Z"
    },
    "hidden": true
   },
   "outputs": [],
   "source": [
    "#Create subset data1 for testing ideal element\n",
    "test = data_dropna.loc[:, ['ServiceDCAL', 'Expenditure_12M_PartsNServices']]\n",
    "\n",
    "#remove extreme outliers:\n",
    "#If you have multiple columns in your dataframe and would like to remove all rows that have outliers in at least one column, \n",
    "#the following expression would do that in one shot: select absolute Z score for the row <1.65 (). .all or .any\n",
    "test_reduced_by_z = test[(np.abs(stats.zscore(test)) < 3).all(axis=1)]\n",
    "\n",
    "#define the x & y data\n",
    "x = test_reduced_by_z['ServiceDCAL']\n",
    "y = test_reduced_by_z['Expenditure_12M_PartsNServices']\n",
    "\n",
    "test_reduced_by_z.describe()"
   ]
  },
  {
   "cell_type": "code",
   "execution_count": null,
   "metadata": {
    "ExecuteTime": {
     "end_time": "2020-05-01T14:49:30.299897Z",
     "start_time": "2020-05-01T14:49:30.128374Z"
    },
    "hidden": true
   },
   "outputs": [],
   "source": [
    "#create the new scatter plot\n",
    "plt.plot(x,y,'o',color = 'pink', label = '')\n",
    "# add the column names as labels\n",
    "plt.title('X VS Y')\n",
    "plt.xlabel('X')\n",
    "plt.ylabel('Y')\n",
    "plt.legend()\n",
    "plt.show()"
   ]
  },
  {
   "cell_type": "code",
   "execution_count": null,
   "metadata": {
    "ExecuteTime": {
     "end_time": "2020-05-01T14:49:33.273050Z",
     "start_time": "2020-05-01T14:49:33.263041Z"
    },
    "hidden": true,
    "scrolled": false
   },
   "outputs": [],
   "source": [
    "test_reduced_by_z.corr()"
   ]
  },
  {
   "cell_type": "code",
   "execution_count": null,
   "metadata": {
    "ExecuteTime": {
     "end_time": "2020-05-01T14:49:40.056573Z",
     "start_time": "2020-05-01T14:49:40.030644Z"
    },
    "hidden": true,
    "scrolled": true
   },
   "outputs": [],
   "source": [
    "# define our input variable & output variable\n",
    "x = test_reduced_by_z[['ServiceDCAL']]\n",
    "y = test_reduced_by_z[['Expenditure_12M_PartsNServices']]\n",
    "\n",
    "# Split X and y into X_\n",
    "x_train, x_test, y_train, y_test = train_test_split(x, y, test_size=0.20, random_state=1)\n",
    "# create a Linear Regression model object.\n",
    "single_regression_model = LinearRegression()\n",
    "# pass through the X_train & y_train data set.\n",
    "single_regression_model.fit(x_train, y_train)\n",
    "# create OLS model for training data\n",
    "model = sm.OLS(y_train, x_train)\n",
    "# pass through the X_train & y_train data set.\n",
    "est = model.fit()\n",
    "print(est.summary())"
   ]
  },
  {
   "cell_type": "code",
   "execution_count": null,
   "metadata": {
    "ExecuteTime": {
     "end_time": "2020-05-01T14:49:43.362924Z",
     "start_time": "2020-05-01T14:49:43.354949Z"
    },
    "hidden": true
   },
   "outputs": [],
   "source": [
    "# make some confidence intervals, 95% by default.\n",
    "est.conf_int()"
   ]
  },
  {
   "cell_type": "code",
   "execution_count": null,
   "metadata": {
    "ExecuteTime": {
     "end_time": "2020-05-01T14:49:44.926918Z",
     "start_time": "2020-05-01T14:49:44.919940Z"
    },
    "hidden": true
   },
   "outputs": [],
   "source": [
    "# estimate the p-values\n",
    "est.pvalues"
   ]
  },
  {
   "cell_type": "code",
   "execution_count": null,
   "metadata": {
    "ExecuteTime": {
     "end_time": "2020-05-01T14:49:45.578666Z",
     "start_time": "2020-05-01T14:49:45.574669Z"
    },
    "hidden": true,
    "scrolled": true
   },
   "outputs": [],
   "source": [
    "# calculate and display intercept, coefficient\n",
    "intercept = single_regression_model.intercept_[0]\n",
    "coefficient = single_regression_model.coef_[0][0]\n",
    "# print out\n",
    "print(\"The Coefficient for training model is {:2}\".format(coefficient))\n",
    "print(\"The intercept for training model is {:4}\".format(intercept))"
   ]
  },
  {
   "cell_type": "code",
   "execution_count": null,
   "metadata": {
    "ExecuteTime": {
     "end_time": "2020-05-01T14:49:46.565764Z",
     "start_time": "2020-05-01T14:49:46.556781Z"
    },
    "hidden": true
   },
   "outputs": [],
   "source": [
    "# create prediction value and calculate errors\n",
    "y_predict = single_regression_model.predict(x_test)\n",
    "# calculate the mean squared error.\n",
    "model_mse = mean_squared_error(y_test, y_predict)\n",
    "# calculate the mean absolute error.\n",
    "model_mae = mean_absolute_error(y_test, y_predict)\n",
    "# calulcate the root mean squared error\n",
    "model_rmse =  math.sqrt(model_mse)\n",
    "# display the output\n",
    "print(\"MSE {:3}\".format(model_mse))\n",
    "print(\"MAE {:3}\".format(model_mae))\n",
    "print(\"RMSE {:3}\".format(model_rmse))"
   ]
  },
  {
   "cell_type": "code",
   "execution_count": null,
   "metadata": {
    "ExecuteTime": {
     "end_time": "2020-05-01T14:49:47.738666Z",
     "start_time": "2020-05-01T14:49:47.732660Z"
    },
    "hidden": true
   },
   "outputs": [],
   "source": [
    "model_r2 = r2_score(y_test, y_predict)\n",
    "print(\"R2 of the prediction is: {:.2}\".format(model_r2))"
   ]
  },
  {
   "cell_type": "code",
   "execution_count": null,
   "metadata": {
    "ExecuteTime": {
     "end_time": "2020-05-01T14:49:48.541945Z",
     "start_time": "2020-05-01T14:49:48.388357Z"
    },
    "hidden": true
   },
   "outputs": [],
   "source": [
    "# Grab the residuals & then call the hist() method\n",
    "(y_test - y_predict).hist(grid = False, color = 'Gold')\n",
    "plt.title(\"Model Residuals\")\n",
    "plt.show()"
   ]
  },
  {
   "cell_type": "code",
   "execution_count": null,
   "metadata": {
    "ExecuteTime": {
     "end_time": "2020-05-01T14:48:53.564256Z",
     "start_time": "2020-05-01T14:48:53.382743Z"
    },
    "hidden": true,
    "scrolled": true
   },
   "outputs": [],
   "source": [
    "# Plot outputs\n",
    "plt.scatter(x_test, y_test,  color='pink', label = '')\n",
    "plt.plot(x_test, y_predict, color='royalblue', linewidth = 3, linestyle= '-',label ='Regression Line')\n",
    "\n",
    "plt.title(\"ServiceDCAL VS Expenditure_12M_PartsNServices\")\n",
    "plt.xlabel(\"x\")\n",
    "plt.ylabel(\"y\")\n",
    "plt.legend()\n",
    "plt.show()\n",
    "\n",
    "# The coefficients\n",
    "print('Coefficient:' + '\\033[1m' + '{:.2}''\\033[0m'.format(single_regression_model.coef_[0][0]))\n",
    "\n",
    "# The mean squared error\n",
    "print('Mean squared error: ' + '\\033[1m' + '{:.4}''\\033[0m'.format(model_mse))\n",
    "\n",
    "# The mean squared error\n",
    "print('Root Mean squared error: ' + '\\033[1m' + '{:.4}''\\033[0m'.format(math.sqrt(model_mse)))\n",
    "\n",
    "# Explained variance score: 1 is perfect prediction\n",
    "print('R2 score: '+ '\\033[1m' + '{:.2}''\\033[0m'.format(r2_score(y_test,y_predict)))"
   ]
  },
  {
   "cell_type": "markdown",
   "metadata": {
    "heading_collapsed": true,
    "hidden": true
   },
   "source": [
    "### Test 15 conclusion"
   ]
  },
  {
   "cell_type": "markdown",
   "metadata": {
    "heading_collapsed": true,
    "hidden": true
   },
   "source": [
    "## Test 16: x = Count_FleetSize y= Count_CatFleetSize"
   ]
  },
  {
   "cell_type": "markdown",
   "metadata": {
    "heading_collapsed": true,
    "hidden": true
   },
   "source": [
    "### Test 16"
   ]
  },
  {
   "cell_type": "code",
   "execution_count": null,
   "metadata": {
    "ExecuteTime": {
     "end_time": "2020-05-01T14:49:28.149666Z",
     "start_time": "2020-05-01T14:49:28.130718Z"
    },
    "hidden": true
   },
   "outputs": [],
   "source": [
    "#Create subset data1 for testing ideal element\n",
    "test = data_dropna.loc[:, ['Count_FleetSize', 'Count_CatFleetSize']]\n",
    "\n",
    "#remove extreme outliers:\n",
    "#If you have multiple columns in your dataframe and would like to remove all rows that have outliers in at least one column, \n",
    "#the following expression would do that in one shot: select absolute Z score for the row <1.65 (). .all or .any\n",
    "test_reduced_by_z = test[(np.abs(stats.zscore(test)) < 3).all(axis=1)]\n",
    "\n",
    "#define the x & y data\n",
    "x = test_reduced_by_z['Count_FleetSize']\n",
    "y = test_reduced_by_z['Count_CatFleetSize']\n",
    "\n",
    "test_reduced_by_z.describe()"
   ]
  },
  {
   "cell_type": "code",
   "execution_count": null,
   "metadata": {
    "ExecuteTime": {
     "end_time": "2020-05-01T14:49:30.299897Z",
     "start_time": "2020-05-01T14:49:30.128374Z"
    },
    "hidden": true,
    "scrolled": true
   },
   "outputs": [],
   "source": [
    "#create the new scatter plot\n",
    "plt.plot(x,y,'o',color = 'pink', label = '')\n",
    "# add the column names as labels\n",
    "plt.title('X VS Y')\n",
    "plt.xlabel('X')\n",
    "plt.ylabel('Y')\n",
    "plt.legend()\n",
    "plt.show()"
   ]
  },
  {
   "cell_type": "code",
   "execution_count": null,
   "metadata": {
    "ExecuteTime": {
     "end_time": "2020-05-01T14:47:23.404252Z",
     "start_time": "2020-05-01T14:47:23.394279Z"
    },
    "hidden": true,
    "scrolled": false
   },
   "outputs": [],
   "source": [
    "test_reduced_by_z.corr()"
   ]
  },
  {
   "cell_type": "markdown",
   "metadata": {
    "ExecuteTime": {
     "end_time": "2020-05-01T14:17:37.052633Z",
     "start_time": "2020-05-01T14:17:37.048620Z"
    },
    "heading_collapsed": true,
    "hidden": true
   },
   "source": [
    "### Test 16 conclusion"
   ]
  },
  {
   "cell_type": "code",
   "execution_count": null,
   "metadata": {
    "ExecuteTime": {
     "end_time": "2020-05-01T14:30:56.239520Z",
     "start_time": "2020-05-01T14:30:56.235531Z"
    },
    "hidden": true
   },
   "outputs": [],
   "source": [
    "# I agree Fleet size is highly correlated with cat fleet size and should not be used"
   ]
  },
  {
   "cell_type": "markdown",
   "metadata": {
    "heading_collapsed": true,
    "hidden": true
   },
   "source": [
    "## Test 17: x = Family_CatFleetSize y= Count_CatFleetSize"
   ]
  },
  {
   "cell_type": "markdown",
   "metadata": {
    "heading_collapsed": true,
    "hidden": true
   },
   "source": [
    "### Test 17"
   ]
  },
  {
   "cell_type": "code",
   "execution_count": null,
   "metadata": {
    "ExecuteTime": {
     "end_time": "2020-05-01T14:49:28.149666Z",
     "start_time": "2020-05-01T14:49:28.130718Z"
    },
    "hidden": true
   },
   "outputs": [],
   "source": [
    "#Create subset data1 for testing ideal element\n",
    "test = data_dropna.loc[:, ['Family_CatFleetSize', 'Count_CatFleetSize']]\n",
    "\n",
    "#remove extreme outliers:\n",
    "#If you have multiple columns in your dataframe and would like to remove all rows that have outliers in at least one column, \n",
    "#the following expression would do that in one shot: select absolute Z score for the row <1.65 (). .all or .any\n",
    "test_reduced_by_z = test[(np.abs(stats.zscore(test)) < 3).all(axis=1)]\n",
    "\n",
    "#define the x & y data\n",
    "x = test_reduced_by_z['Family_CatFleetSize']\n",
    "y = test_reduced_by_z['Count_CatFleetSize']\n",
    "\n",
    "test_reduced_by_z.describe()"
   ]
  },
  {
   "cell_type": "code",
   "execution_count": null,
   "metadata": {
    "ExecuteTime": {
     "end_time": "2020-05-01T14:49:30.299897Z",
     "start_time": "2020-05-01T14:49:30.128374Z"
    },
    "hidden": true
   },
   "outputs": [],
   "source": [
    "#create the new scatter plot\n",
    "plt.plot(x,y,'o',color = 'pink', label = '')\n",
    "# add the column names as labels\n",
    "plt.title('X VS Y')\n",
    "plt.xlabel('X')\n",
    "plt.ylabel('Y')\n",
    "plt.legend()\n",
    "plt.show()"
   ]
  },
  {
   "cell_type": "code",
   "execution_count": null,
   "metadata": {
    "ExecuteTime": {
     "end_time": "2020-05-01T14:49:33.273050Z",
     "start_time": "2020-05-01T14:49:33.263041Z"
    },
    "hidden": true,
    "scrolled": false
   },
   "outputs": [],
   "source": [
    "test_reduced_by_z.corr()"
   ]
  },
  {
   "cell_type": "code",
   "execution_count": null,
   "metadata": {
    "ExecuteTime": {
     "end_time": "2020-05-01T14:49:40.056573Z",
     "start_time": "2020-05-01T14:49:40.030644Z"
    },
    "hidden": true,
    "scrolled": true
   },
   "outputs": [],
   "source": [
    "# define our input variable & output variable\n",
    "x = test_reduced_by_z[['Family_CatFleetSize']]\n",
    "y = test_reduced_by_z[['Count_CatFleetSize']]\n",
    "\n",
    "# Split X and y into X_\n",
    "x_train, x_test, y_train, y_test = train_test_split(x, y, test_size=0.20, random_state=1)\n",
    "# create a Linear Regression model object.\n",
    "single_regression_model = LinearRegression()\n",
    "# pass through the X_train & y_train data set.\n",
    "single_regression_model.fit(x_train, y_train)\n",
    "# create OLS model for training data\n",
    "model = sm.OLS(y_train, x_train)\n",
    "# pass through the X_train & y_train data set.\n",
    "est = model.fit()\n",
    "print(est.summary())"
   ]
  },
  {
   "cell_type": "code",
   "execution_count": null,
   "metadata": {
    "ExecuteTime": {
     "end_time": "2020-05-01T14:49:43.362924Z",
     "start_time": "2020-05-01T14:49:43.354949Z"
    },
    "hidden": true
   },
   "outputs": [],
   "source": [
    "# make some confidence intervals, 95% by default.\n",
    "est.conf_int()"
   ]
  },
  {
   "cell_type": "code",
   "execution_count": null,
   "metadata": {
    "ExecuteTime": {
     "end_time": "2020-05-01T14:49:44.926918Z",
     "start_time": "2020-05-01T14:49:44.919940Z"
    },
    "hidden": true
   },
   "outputs": [],
   "source": [
    "# estimate the p-values\n",
    "est.pvalues"
   ]
  },
  {
   "cell_type": "code",
   "execution_count": null,
   "metadata": {
    "ExecuteTime": {
     "end_time": "2020-05-01T14:49:45.578666Z",
     "start_time": "2020-05-01T14:49:45.574669Z"
    },
    "hidden": true,
    "scrolled": true
   },
   "outputs": [],
   "source": [
    "# calculate and display intercept, coefficient\n",
    "intercept = single_regression_model.intercept_[0]\n",
    "coefficient = single_regression_model.coef_[0][0]\n",
    "# print out\n",
    "print(\"The Coefficient for training model is {:2}\".format(coefficient))\n",
    "print(\"The intercept for training model is {:4}\".format(intercept))"
   ]
  },
  {
   "cell_type": "code",
   "execution_count": null,
   "metadata": {
    "ExecuteTime": {
     "end_time": "2020-05-01T14:49:46.565764Z",
     "start_time": "2020-05-01T14:49:46.556781Z"
    },
    "hidden": true
   },
   "outputs": [],
   "source": [
    "# create prediction value and calculate errors\n",
    "y_predict = single_regression_model.predict(x_test)\n",
    "# calculate the mean squared error.\n",
    "model_mse = mean_squared_error(y_test, y_predict)\n",
    "# calculate the mean absolute error.\n",
    "model_mae = mean_absolute_error(y_test, y_predict)\n",
    "# calulcate the root mean squared error\n",
    "model_rmse =  math.sqrt(model_mse)\n",
    "# display the output\n",
    "print(\"MSE {:3}\".format(model_mse))\n",
    "print(\"MAE {:3}\".format(model_mae))\n",
    "print(\"RMSE {:3}\".format(model_rmse))"
   ]
  },
  {
   "cell_type": "code",
   "execution_count": null,
   "metadata": {
    "ExecuteTime": {
     "end_time": "2020-05-01T14:49:47.738666Z",
     "start_time": "2020-05-01T14:49:47.732660Z"
    },
    "hidden": true
   },
   "outputs": [],
   "source": [
    "model_r2 = r2_score(y_test, y_predict)\n",
    "print(\"R2 of the prediction is: {:.2}\".format(model_r2))"
   ]
  },
  {
   "cell_type": "code",
   "execution_count": null,
   "metadata": {
    "ExecuteTime": {
     "end_time": "2020-05-01T14:49:48.541945Z",
     "start_time": "2020-05-01T14:49:48.388357Z"
    },
    "hidden": true
   },
   "outputs": [],
   "source": [
    "# Grab the residuals & then call the hist() method\n",
    "(y_test - y_predict).hist(grid = False, color = 'Gold')\n",
    "plt.title(\"Model Residuals\")\n",
    "plt.show()"
   ]
  },
  {
   "cell_type": "code",
   "execution_count": null,
   "metadata": {
    "ExecuteTime": {
     "end_time": "2020-05-01T14:48:53.564256Z",
     "start_time": "2020-05-01T14:48:53.382743Z"
    },
    "hidden": true
   },
   "outputs": [],
   "source": [
    "# Plot outputs\n",
    "plt.scatter(x_test, y_test,  color='pink', label = '')\n",
    "plt.plot(x_test, y_predict, color='royalblue', linewidth = 3, linestyle= '-',label ='Regression Line')\n",
    "\n",
    "plt.title(\"Family_CatFleetSize VS Count_CatFleetSize\")\n",
    "plt.xlabel(\"x\")\n",
    "plt.ylabel(\"y\")\n",
    "plt.legend()\n",
    "plt.show()\n",
    "\n",
    "# The coefficients\n",
    "print('Coefficient:' + '\\033[1m' + '{:.2}''\\033[0m'.format(single_regression_model.coef_[0][0]))\n",
    "\n",
    "# The mean squared error\n",
    "print('Mean squared error: ' + '\\033[1m' + '{:.4}''\\033[0m'.format(model_mse))\n",
    "\n",
    "# The mean squared error\n",
    "print('Root Mean squared error: ' + '\\033[1m' + '{:.4}''\\033[0m'.format(math.sqrt(model_mse)))\n",
    "\n",
    "# Explained variance score: 1 is perfect prediction\n",
    "print('R2 score: '+ '\\033[1m' + '{:.2}''\\033[0m'.format(r2_score(y_test,y_predict)))"
   ]
  },
  {
   "cell_type": "markdown",
   "metadata": {
    "heading_collapsed": true,
    "hidden": true
   },
   "source": [
    "### Test 17 Conclusion"
   ]
  },
  {
   "cell_type": "markdown",
   "metadata": {
    "heading_collapsed": true,
    "hidden": true
   },
   "source": [
    "## Test 18: x = Family_FleetSize y= Family_CatFleetSize"
   ]
  },
  {
   "cell_type": "markdown",
   "metadata": {
    "heading_collapsed": true,
    "hidden": true
   },
   "source": [
    "### Test 18"
   ]
  },
  {
   "cell_type": "code",
   "execution_count": null,
   "metadata": {
    "ExecuteTime": {
     "end_time": "2020-05-01T14:49:28.149666Z",
     "start_time": "2020-05-01T14:49:28.130718Z"
    },
    "hidden": true
   },
   "outputs": [],
   "source": [
    "#Create subset data1 for testing ideal element\n",
    "test = data_dropna.loc[:, ['Family_FleetSize', 'Family_CatFleetSize']]\n",
    "\n",
    "#remove extreme outliers:\n",
    "#If you have multiple columns in your dataframe and would like to remove all rows that have outliers in at least one column, \n",
    "#the following expression would do that in one shot: select absolute Z score for the row <1.65 (). .all or .any\n",
    "test_reduced_by_z = test[(np.abs(stats.zscore(test)) < 3).all(axis=1)]\n",
    "\n",
    "#define the x & y data\n",
    "x = test_reduced_by_z['Family_FleetSize']\n",
    "y = test_reduced_by_z['Family_CatFleetSize']\n",
    "\n",
    "test_reduced_by_z.describe()"
   ]
  },
  {
   "cell_type": "code",
   "execution_count": null,
   "metadata": {
    "ExecuteTime": {
     "end_time": "2020-05-01T14:49:30.299897Z",
     "start_time": "2020-05-01T14:49:30.128374Z"
    },
    "hidden": true
   },
   "outputs": [],
   "source": [
    "#create the new scatter plot\n",
    "plt.plot(x,y,'o',color = 'pink', label = '')\n",
    "# add the column names as labels\n",
    "plt.title('X VS Y')\n",
    "plt.xlabel('X')\n",
    "plt.ylabel('Y')\n",
    "plt.legend()\n",
    "plt.show()"
   ]
  },
  {
   "cell_type": "code",
   "execution_count": null,
   "metadata": {
    "ExecuteTime": {
     "end_time": "2020-05-01T14:49:33.273050Z",
     "start_time": "2020-05-01T14:49:33.263041Z"
    },
    "hidden": true,
    "scrolled": false
   },
   "outputs": [],
   "source": [
    "test_reduced_by_z.corr()"
   ]
  },
  {
   "cell_type": "code",
   "execution_count": null,
   "metadata": {
    "ExecuteTime": {
     "end_time": "2020-05-01T14:49:40.056573Z",
     "start_time": "2020-05-01T14:49:40.030644Z"
    },
    "hidden": true,
    "scrolled": true
   },
   "outputs": [],
   "source": [
    "# define our input variable & output variable\n",
    "x = test_reduced_by_z[['Family_FleetSize']]\n",
    "y = test_reduced_by_z[['Family_CatFleetSize']]\n",
    "\n",
    "# Split X and y into X_\n",
    "x_train, x_test, y_train, y_test = train_test_split(x, y, test_size=0.20, random_state=1)\n",
    "# create a Linear Regression model object.\n",
    "single_regression_model = LinearRegression()\n",
    "# pass through the X_train & y_train data set.\n",
    "single_regression_model.fit(x_train, y_train)\n",
    "# create OLS model for training data\n",
    "model = sm.OLS(y_train, x_train)\n",
    "# pass through the X_train & y_train data set.\n",
    "est = model.fit()\n",
    "print(est.summary())"
   ]
  },
  {
   "cell_type": "code",
   "execution_count": null,
   "metadata": {
    "ExecuteTime": {
     "end_time": "2020-05-01T14:49:43.362924Z",
     "start_time": "2020-05-01T14:49:43.354949Z"
    },
    "hidden": true
   },
   "outputs": [],
   "source": [
    "# make some confidence intervals, 95% by default.\n",
    "est.conf_int()"
   ]
  },
  {
   "cell_type": "code",
   "execution_count": null,
   "metadata": {
    "ExecuteTime": {
     "end_time": "2020-05-01T14:49:44.926918Z",
     "start_time": "2020-05-01T14:49:44.919940Z"
    },
    "hidden": true
   },
   "outputs": [],
   "source": [
    "# estimate the p-values\n",
    "est.pvalues"
   ]
  },
  {
   "cell_type": "code",
   "execution_count": null,
   "metadata": {
    "ExecuteTime": {
     "end_time": "2020-05-01T14:49:45.578666Z",
     "start_time": "2020-05-01T14:49:45.574669Z"
    },
    "hidden": true,
    "scrolled": true
   },
   "outputs": [],
   "source": [
    "# calculate and display intercept, coefficient\n",
    "intercept = single_regression_model.intercept_[0]\n",
    "coefficient = single_regression_model.coef_[0][0]\n",
    "# print out\n",
    "print(\"The Coefficient for training model is {:2}\".format(coefficient))\n",
    "print(\"The intercept for training model is {:4}\".format(intercept))"
   ]
  },
  {
   "cell_type": "code",
   "execution_count": null,
   "metadata": {
    "ExecuteTime": {
     "end_time": "2020-05-01T14:49:46.565764Z",
     "start_time": "2020-05-01T14:49:46.556781Z"
    },
    "hidden": true
   },
   "outputs": [],
   "source": [
    "# create prediction value and calculate errors\n",
    "y_predict = single_regression_model.predict(x_test)\n",
    "# calculate the mean squared error.\n",
    "model_mse = mean_squared_error(y_test, y_predict)\n",
    "# calculate the mean absolute error.\n",
    "model_mae = mean_absolute_error(y_test, y_predict)\n",
    "# calulcate the root mean squared error\n",
    "model_rmse =  math.sqrt(model_mse)\n",
    "# display the output\n",
    "print(\"MSE {:3}\".format(model_mse))\n",
    "print(\"MAE {:3}\".format(model_mae))\n",
    "print(\"RMSE {:3}\".format(model_rmse))"
   ]
  },
  {
   "cell_type": "code",
   "execution_count": null,
   "metadata": {
    "ExecuteTime": {
     "end_time": "2020-05-01T14:49:47.738666Z",
     "start_time": "2020-05-01T14:49:47.732660Z"
    },
    "hidden": true
   },
   "outputs": [],
   "source": [
    "model_r2 = r2_score(y_test, y_predict)\n",
    "print(\"R2 of the prediction is: {:.2}\".format(model_r2))"
   ]
  },
  {
   "cell_type": "markdown",
   "metadata": {
    "heading_collapsed": true,
    "hidden": true
   },
   "source": [
    "### Test 18 conclusion"
   ]
  },
  {
   "cell_type": "markdown",
   "metadata": {
    "heading_collapsed": true,
    "hidden": true
   },
   "source": [
    "## Test 19: x = Family_CatFleetSize y= Expenditure_12M_PartsNServices"
   ]
  },
  {
   "cell_type": "markdown",
   "metadata": {
    "heading_collapsed": true,
    "hidden": true
   },
   "source": [
    "### Test 19"
   ]
  },
  {
   "cell_type": "code",
   "execution_count": null,
   "metadata": {
    "ExecuteTime": {
     "end_time": "2020-05-01T14:58:06.823432Z",
     "start_time": "2020-05-01T14:58:06.803524Z"
    },
    "hidden": true
   },
   "outputs": [],
   "source": [
    "#Create subset data1 for testing ideal element\n",
    "test = data_dropna.loc[:, ['Family_CatFleetSize', 'Expenditure_12M_PartsNServices']]\n",
    "\n",
    "#remove extreme outliers:\n",
    "#If you have multiple columns in your dataframe and would like to remove all rows that have outliers in at least one column, \n",
    "#the following expression would do that in one shot: select absolute Z score for the row <1.65 (). .all or .any\n",
    "test_reduced_by_z = test[(np.abs(stats.zscore(test)) < 3).all(axis=1)]\n",
    "\n",
    "#define the x & y data\n",
    "x = test_reduced_by_z['Family_CatFleetSize']\n",
    "y = test_reduced_by_z['Expenditure_12M_PartsNServices']\n",
    "\n",
    "test_reduced_by_z.describe()"
   ]
  },
  {
   "cell_type": "code",
   "execution_count": null,
   "metadata": {
    "ExecuteTime": {
     "end_time": "2020-05-01T14:58:08.183643Z",
     "start_time": "2020-05-01T14:58:07.984444Z"
    },
    "hidden": true
   },
   "outputs": [],
   "source": [
    "#create the new scatter plot\n",
    "plt.plot(x,y,'o',color = 'pink', label = '')\n",
    "# add the column names as labels\n",
    "plt.title('X VS Y')\n",
    "plt.xlabel('X')\n",
    "plt.ylabel('Y')\n",
    "plt.legend()\n",
    "plt.show()"
   ]
  },
  {
   "cell_type": "code",
   "execution_count": null,
   "metadata": {
    "ExecuteTime": {
     "end_time": "2020-05-01T14:56:50.020975Z",
     "start_time": "2020-05-01T14:56:50.004024Z"
    },
    "hidden": true
   },
   "outputs": [],
   "source": [
    "# #reduce X to under 1500\n",
    "test_reduced_by_z = test_reduced_by_z[test_reduced_by_z['Family_CatFleetSize'] <= 1500]\n",
    "\n",
    "x = test_reduced_by_z['Family_CatFleetSize']\n",
    "y = test_reduced_by_z['Expenditure_12M_PartsNServices']\n",
    "test_reduced_by_z.describe()"
   ]
  },
  {
   "cell_type": "code",
   "execution_count": null,
   "metadata": {
    "ExecuteTime": {
     "end_time": "2020-05-01T14:56:51.345344Z",
     "start_time": "2020-05-01T14:56:51.166784Z"
    },
    "hidden": true
   },
   "outputs": [],
   "source": [
    "#create the new scatter plot\n",
    "plt.plot(x,y,'o',color = 'pink', label = '')\n",
    "# add the column names as labels\n",
    "plt.title('X VS Y')\n",
    "plt.xlabel('X')\n",
    "plt.ylabel('Y')\n",
    "plt.legend()\n",
    "plt.show()"
   ]
  },
  {
   "cell_type": "code",
   "execution_count": null,
   "metadata": {
    "ExecuteTime": {
     "end_time": "2020-05-01T14:58:09.419514Z",
     "start_time": "2020-05-01T14:58:09.410538Z"
    },
    "hidden": true,
    "scrolled": false
   },
   "outputs": [],
   "source": [
    "test_reduced_by_z.corr()"
   ]
  },
  {
   "cell_type": "code",
   "execution_count": null,
   "metadata": {
    "ExecuteTime": {
     "end_time": "2020-05-01T14:58:10.206394Z",
     "start_time": "2020-05-01T14:58:10.182529Z"
    },
    "hidden": true,
    "scrolled": true
   },
   "outputs": [],
   "source": [
    "# define our input variable & output variable\n",
    "x = test_reduced_by_z[['Family_CatFleetSize']]\n",
    "y = test_reduced_by_z[['Expenditure_12M_PartsNServices']]\n",
    "\n",
    "# Split X and y into X_\n",
    "x_train, x_test, y_train, y_test = train_test_split(x, y, test_size=0.20, random_state=1)\n",
    "# create a Linear Regression model object.\n",
    "single_regression_model = LinearRegression()\n",
    "# pass through the X_train & y_train data set.\n",
    "single_regression_model.fit(x_train, y_train)\n",
    "# create OLS model for training data\n",
    "model = sm.OLS(y_train, x_train)\n",
    "# pass through the X_train & y_train data set.\n",
    "est = model.fit()\n",
    "print(est.summary())"
   ]
  },
  {
   "cell_type": "code",
   "execution_count": null,
   "metadata": {
    "ExecuteTime": {
     "end_time": "2020-05-01T14:58:11.890684Z",
     "start_time": "2020-05-01T14:58:11.882705Z"
    },
    "hidden": true
   },
   "outputs": [],
   "source": [
    "# make some confidence intervals, 95% by default.\n",
    "est.conf_int()"
   ]
  },
  {
   "cell_type": "code",
   "execution_count": null,
   "metadata": {
    "ExecuteTime": {
     "end_time": "2020-05-01T14:58:12.784166Z",
     "start_time": "2020-05-01T14:58:12.777213Z"
    },
    "hidden": true
   },
   "outputs": [],
   "source": [
    "# estimate the p-values\n",
    "est.pvalues"
   ]
  },
  {
   "cell_type": "code",
   "execution_count": null,
   "metadata": {
    "ExecuteTime": {
     "end_time": "2020-05-01T14:58:13.441404Z",
     "start_time": "2020-05-01T14:58:13.435421Z"
    },
    "hidden": true,
    "scrolled": true
   },
   "outputs": [],
   "source": [
    "# calculate and display intercept, coefficient\n",
    "intercept = single_regression_model.intercept_[0]\n",
    "coefficient = single_regression_model.coef_[0][0]\n",
    "# print out\n",
    "print(\"The Coefficient for training model is {:2}\".format(coefficient))\n",
    "print(\"The intercept for training model is {:4}\".format(intercept))"
   ]
  },
  {
   "cell_type": "code",
   "execution_count": null,
   "metadata": {
    "ExecuteTime": {
     "end_time": "2020-05-01T14:58:14.660501Z",
     "start_time": "2020-05-01T14:58:14.651528Z"
    },
    "hidden": true
   },
   "outputs": [],
   "source": [
    "# create prediction value and calculate errors\n",
    "y_predict = single_regression_model.predict(x_test)\n",
    "# calculate the mean squared error.\n",
    "model_mse = mean_squared_error(y_test, y_predict)\n",
    "# calculate the mean absolute error.\n",
    "model_mae = mean_absolute_error(y_test, y_predict)\n",
    "# calulcate the root mean squared error\n",
    "model_rmse =  math.sqrt(model_mse)\n",
    "# display the output\n",
    "print(\"MSE {:3}\".format(model_mse))\n",
    "print(\"MAE {:3}\".format(model_mae))\n",
    "print(\"RMSE {:3}\".format(model_rmse))"
   ]
  },
  {
   "cell_type": "code",
   "execution_count": null,
   "metadata": {
    "ExecuteTime": {
     "end_time": "2020-05-01T14:58:15.407547Z",
     "start_time": "2020-05-01T14:58:15.401565Z"
    },
    "hidden": true
   },
   "outputs": [],
   "source": [
    "model_r2 = r2_score(y_test, y_predict)\n",
    "print(\"R2 of the prediction is: {:.2}\".format(model_r2))"
   ]
  },
  {
   "cell_type": "code",
   "execution_count": null,
   "metadata": {
    "ExecuteTime": {
     "end_time": "2020-05-01T14:58:16.106981Z",
     "start_time": "2020-05-01T14:58:15.950373Z"
    },
    "hidden": true
   },
   "outputs": [],
   "source": [
    "# Grab the residuals & then call the hist() method\n",
    "(y_test - y_predict).hist(grid = False, color = 'Gold')\n",
    "plt.title(\"Model Residuals\")\n",
    "plt.show()"
   ]
  },
  {
   "cell_type": "code",
   "execution_count": null,
   "metadata": {
    "ExecuteTime": {
     "end_time": "2020-05-01T14:58:19.951524Z",
     "start_time": "2020-05-01T14:58:19.781935Z"
    },
    "hidden": true,
    "scrolled": true
   },
   "outputs": [],
   "source": [
    "# Plot outputs\n",
    "plt.scatter(x_test, y_test,  color='pink', label = '')\n",
    "plt.plot(x_test, y_predict, color='royalblue', linewidth = 3, linestyle= '-',label ='Regression Line')\n",
    "\n",
    "plt.title(\"Family_CatFleetSize VS Expenditure_12M_PartsNServices\")\n",
    "plt.xlabel(\"x\")\n",
    "plt.ylabel(\"y\")\n",
    "plt.legend()\n",
    "plt.show()\n",
    "\n",
    "# The coefficients\n",
    "print('Coefficient:' + '\\033[1m' + '{:.2}''\\033[0m'.format(single_regression_model.coef_[0][0]))\n",
    "\n",
    "# The mean squared error\n",
    "print('Mean squared error: ' + '\\033[1m' + '{:.4}''\\033[0m'.format(model_mse))\n",
    "\n",
    "# The mean squared error\n",
    "print('Root Mean squared error: ' + '\\033[1m' + '{:.4}''\\033[0m'.format(math.sqrt(model_mse)))\n",
    "\n",
    "# Explained variance score: 1 is perfect prediction\n",
    "print('R2 score: '+ '\\033[1m' + '{:.2}''\\033[0m'.format(r2_score(y_test,y_predict)))"
   ]
  },
  {
   "cell_type": "markdown",
   "metadata": {
    "heading_collapsed": true,
    "hidden": true
   },
   "source": [
    "### Test 19 Conclusion"
   ]
  },
  {
   "cell_type": "markdown",
   "metadata": {
    "heading_collapsed": true,
    "hidden": true
   },
   "source": [
    "## Test 20: x = Family_Expenditure_12M_Equipment y= Expenditure_12M_PartsNServices"
   ]
  },
  {
   "cell_type": "markdown",
   "metadata": {
    "heading_collapsed": true,
    "hidden": true
   },
   "source": [
    "### Test 20"
   ]
  },
  {
   "cell_type": "code",
   "execution_count": null,
   "metadata": {
    "ExecuteTime": {
     "end_time": "2020-05-01T14:58:06.823432Z",
     "start_time": "2020-05-01T14:58:06.803524Z"
    },
    "hidden": true
   },
   "outputs": [],
   "source": [
    "#Create subset data1 for testing ideal element\n",
    "test = data_dropna.loc[:, ['Family_Expenditure_12M_Equipment', 'Expenditure_12M_PartsNServices']]\n",
    "\n",
    "#remove extreme outliers:\n",
    "#If you have multiple columns in your dataframe and would like to remove all rows that have outliers in at least one column, \n",
    "#the following expression would do that in one shot: select absolute Z score for the row <1.65 (). .all or .any\n",
    "test_reduced_by_z = test[(np.abs(stats.zscore(test)) < 3).all(axis=1)]\n",
    "\n",
    "#define the x & y data\n",
    "x = test_reduced_by_z['Family_Expenditure_12M_Equipment']\n",
    "y = test_reduced_by_z['Expenditure_12M_PartsNServices']\n",
    "\n",
    "test_reduced_by_z.describe()"
   ]
  },
  {
   "cell_type": "code",
   "execution_count": null,
   "metadata": {
    "ExecuteTime": {
     "end_time": "2020-05-01T14:58:08.183643Z",
     "start_time": "2020-05-01T14:58:07.984444Z"
    },
    "hidden": true
   },
   "outputs": [],
   "source": [
    "#create the new scatter plot\n",
    "plt.plot(x,y,'o',color = 'pink', label = '')\n",
    "# add the column names as labels\n",
    "plt.title('X VS Y')\n",
    "plt.xlabel('X')\n",
    "plt.ylabel('Y')\n",
    "plt.legend()\n",
    "plt.show()"
   ]
  },
  {
   "cell_type": "code",
   "execution_count": null,
   "metadata": {
    "ExecuteTime": {
     "end_time": "2020-05-01T14:58:09.419514Z",
     "start_time": "2020-05-01T14:58:09.410538Z"
    },
    "hidden": true,
    "scrolled": false
   },
   "outputs": [],
   "source": [
    "test_reduced_by_z.corr()"
   ]
  },
  {
   "cell_type": "code",
   "execution_count": null,
   "metadata": {
    "ExecuteTime": {
     "end_time": "2020-05-01T14:58:10.206394Z",
     "start_time": "2020-05-01T14:58:10.182529Z"
    },
    "hidden": true,
    "scrolled": true
   },
   "outputs": [],
   "source": [
    "# define our input variable & output variable\n",
    "x = test_reduced_by_z[['Family_Expenditure_12M_Equipment']]\n",
    "y = test_reduced_by_z[['Expenditure_12M_PartsNServices']]\n",
    "\n",
    "# Split X and y into X_\n",
    "x_train, x_test, y_train, y_test = train_test_split(x, y, test_size=0.20, random_state=1)\n",
    "# create a Linear Regression model object.\n",
    "single_regression_model = LinearRegression()\n",
    "# pass through the X_train & y_train data set.\n",
    "single_regression_model.fit(x_train, y_train)\n",
    "# create OLS model for training data\n",
    "model = sm.OLS(y_train, x_train)\n",
    "# pass through the X_train & y_train data set.\n",
    "est = model.fit()\n",
    "print(est.summary())"
   ]
  },
  {
   "cell_type": "code",
   "execution_count": null,
   "metadata": {
    "ExecuteTime": {
     "end_time": "2020-05-01T14:58:11.890684Z",
     "start_time": "2020-05-01T14:58:11.882705Z"
    },
    "hidden": true
   },
   "outputs": [],
   "source": [
    "# make some confidence intervals, 95% by default.\n",
    "est.conf_int()"
   ]
  },
  {
   "cell_type": "code",
   "execution_count": null,
   "metadata": {
    "ExecuteTime": {
     "end_time": "2020-05-01T14:58:12.784166Z",
     "start_time": "2020-05-01T14:58:12.777213Z"
    },
    "hidden": true
   },
   "outputs": [],
   "source": [
    "# estimate the p-values\n",
    "est.pvalues"
   ]
  },
  {
   "cell_type": "code",
   "execution_count": null,
   "metadata": {
    "ExecuteTime": {
     "end_time": "2020-05-01T14:58:13.441404Z",
     "start_time": "2020-05-01T14:58:13.435421Z"
    },
    "hidden": true,
    "scrolled": true
   },
   "outputs": [],
   "source": [
    "# calculate and display intercept, coefficient\n",
    "intercept = single_regression_model.intercept_[0]\n",
    "coefficient = single_regression_model.coef_[0][0]\n",
    "# print out\n",
    "print(\"The Coefficient for training model is {:2}\".format(coefficient))\n",
    "print(\"The intercept for training model is {:4}\".format(intercept))"
   ]
  },
  {
   "cell_type": "code",
   "execution_count": null,
   "metadata": {
    "ExecuteTime": {
     "end_time": "2020-05-01T14:58:14.660501Z",
     "start_time": "2020-05-01T14:58:14.651528Z"
    },
    "hidden": true
   },
   "outputs": [],
   "source": [
    "# create prediction value and calculate errors\n",
    "y_predict = single_regression_model.predict(x_test)\n",
    "# calculate the mean squared error.\n",
    "model_mse = mean_squared_error(y_test, y_predict)\n",
    "# calculate the mean absolute error.\n",
    "model_mae = mean_absolute_error(y_test, y_predict)\n",
    "# calulcate the root mean squared error\n",
    "model_rmse =  math.sqrt(model_mse)\n",
    "# display the output\n",
    "print(\"MSE {:3}\".format(model_mse))\n",
    "print(\"MAE {:3}\".format(model_mae))\n",
    "print(\"RMSE {:3}\".format(model_rmse))"
   ]
  },
  {
   "cell_type": "code",
   "execution_count": null,
   "metadata": {
    "ExecuteTime": {
     "end_time": "2020-05-01T14:58:15.407547Z",
     "start_time": "2020-05-01T14:58:15.401565Z"
    },
    "hidden": true
   },
   "outputs": [],
   "source": [
    "model_r2 = r2_score(y_test, y_predict)\n",
    "print(\"R2 of the prediction is: {:.2}\".format(model_r2))"
   ]
  },
  {
   "cell_type": "code",
   "execution_count": null,
   "metadata": {
    "ExecuteTime": {
     "end_time": "2020-05-01T14:58:16.106981Z",
     "start_time": "2020-05-01T14:58:15.950373Z"
    },
    "hidden": true
   },
   "outputs": [],
   "source": [
    "# Grab the residuals & then call the hist() method\n",
    "(y_test - y_predict).hist(grid = False, color = 'Gold')\n",
    "plt.title(\"Model Residuals\")\n",
    "plt.show()"
   ]
  },
  {
   "cell_type": "code",
   "execution_count": null,
   "metadata": {
    "ExecuteTime": {
     "end_time": "2020-05-01T14:58:19.951524Z",
     "start_time": "2020-05-01T14:58:19.781935Z"
    },
    "hidden": true,
    "scrolled": true
   },
   "outputs": [],
   "source": [
    "# Plot outputs\n",
    "plt.scatter(x_test, y_test,  color='pink', label = '')\n",
    "plt.plot(x_test, y_predict, color='royalblue', linewidth = 3, linestyle= '-',label ='Regression Line')\n",
    "\n",
    "plt.title(\"Family_Expenditure_12M_Equipment VS Expenditure_12M_PartsNServices\")\n",
    "plt.xlabel(\"x\")\n",
    "plt.ylabel(\"y\")\n",
    "plt.legend()\n",
    "plt.show()\n",
    "\n",
    "# The coefficients\n",
    "print('Coefficient:' + '\\033[1m' + '{:.2}''\\033[0m'.format(single_regression_model.coef_[0][0]))\n",
    "\n",
    "# The mean squared error\n",
    "print('Mean squared error: ' + '\\033[1m' + '{:.4}''\\033[0m'.format(model_mse))\n",
    "\n",
    "# The mean squared error\n",
    "print('Root Mean squared error: ' + '\\033[1m' + '{:.4}''\\033[0m'.format(math.sqrt(model_mse)))\n",
    "\n",
    "# Explained variance score: 1 is perfect prediction\n",
    "print('R2 score: '+ '\\033[1m' + '{:.2}''\\033[0m'.format(r2_score(y_test,y_predict)))"
   ]
  },
  {
   "cell_type": "markdown",
   "metadata": {
    "heading_collapsed": true,
    "hidden": true
   },
   "source": [
    "### Test 20 conclusion"
   ]
  },
  {
   "cell_type": "markdown",
   "metadata": {
    "heading_collapsed": true,
    "hidden": true
   },
   "source": [
    "## Test 21: x = Family_Expenditure_12M_PartsNServices y= Expenditure_12M_PartsNServices"
   ]
  },
  {
   "cell_type": "markdown",
   "metadata": {
    "heading_collapsed": true,
    "hidden": true
   },
   "source": [
    "### Test 21"
   ]
  },
  {
   "cell_type": "code",
   "execution_count": null,
   "metadata": {
    "ExecuteTime": {
     "end_time": "2020-05-01T14:58:06.823432Z",
     "start_time": "2020-05-01T14:58:06.803524Z"
    },
    "hidden": true
   },
   "outputs": [],
   "source": [
    "#Create subset data1 for testing ideal element\n",
    "test = data_dropna.loc[:, ['Family_Expenditure_12M_PartsNServices', 'Expenditure_12M_PartsNServices']]\n",
    "\n",
    "#remove extreme outliers:\n",
    "#If you have multiple columns in your dataframe and would like to remove all rows that have outliers in at least one column, \n",
    "#the following expression would do that in one shot: select absolute Z score for the row <1.65 (). .all or .any\n",
    "test_reduced_by_z = test[(np.abs(stats.zscore(test)) < 3).all(axis=1)]\n",
    "\n",
    "#define the x & y data\n",
    "x = test_reduced_by_z['Family_Expenditure_12M_PartsNServices']\n",
    "y = test_reduced_by_z['Expenditure_12M_PartsNServices']\n",
    "\n",
    "test_reduced_by_z.describe()"
   ]
  },
  {
   "cell_type": "code",
   "execution_count": null,
   "metadata": {
    "ExecuteTime": {
     "end_time": "2020-05-01T14:58:08.183643Z",
     "start_time": "2020-05-01T14:58:07.984444Z"
    },
    "hidden": true
   },
   "outputs": [],
   "source": [
    "#create the new scatter plot\n",
    "plt.plot(x,y,'o',color = 'pink', label = '')\n",
    "# add the column names as labels\n",
    "plt.title('X VS Y')\n",
    "plt.xlabel('X')\n",
    "plt.ylabel('Y')\n",
    "plt.legend()\n",
    "plt.show()"
   ]
  },
  {
   "cell_type": "code",
   "execution_count": null,
   "metadata": {
    "ExecuteTime": {
     "end_time": "2020-05-01T14:58:09.419514Z",
     "start_time": "2020-05-01T14:58:09.410538Z"
    },
    "hidden": true,
    "scrolled": false
   },
   "outputs": [],
   "source": [
    "test_reduced_by_z.corr()"
   ]
  },
  {
   "cell_type": "code",
   "execution_count": null,
   "metadata": {
    "ExecuteTime": {
     "end_time": "2020-05-01T14:58:10.206394Z",
     "start_time": "2020-05-01T14:58:10.182529Z"
    },
    "hidden": true,
    "scrolled": true
   },
   "outputs": [],
   "source": [
    "# define our input variable & output variable\n",
    "x = test_reduced_by_z[['PartsDCAL']]\n",
    "y = test_reduced_by_z[['Expenditure_12M_PartsNServices']]\n",
    "\n",
    "# Split X and y into X_\n",
    "x_train, x_test, y_train, y_test = train_test_split(x, y, test_size=0.20, random_state=1)\n",
    "# create a Linear Regression model object.\n",
    "single_regression_model = LinearRegression()\n",
    "# pass through the X_train & y_train data set.\n",
    "single_regression_model.fit(x_train, y_train)\n",
    "# create OLS model for training data\n",
    "model = sm.OLS(y_train, x_train)\n",
    "# pass through the X_train & y_train data set.\n",
    "est = model.fit()\n",
    "print(est.summary())"
   ]
  },
  {
   "cell_type": "code",
   "execution_count": null,
   "metadata": {
    "ExecuteTime": {
     "end_time": "2020-05-01T14:58:11.890684Z",
     "start_time": "2020-05-01T14:58:11.882705Z"
    },
    "hidden": true
   },
   "outputs": [],
   "source": [
    "# make some confidence intervals, 95% by default.\n",
    "est.conf_int()"
   ]
  },
  {
   "cell_type": "code",
   "execution_count": null,
   "metadata": {
    "ExecuteTime": {
     "end_time": "2020-05-01T14:58:12.784166Z",
     "start_time": "2020-05-01T14:58:12.777213Z"
    },
    "hidden": true
   },
   "outputs": [],
   "source": [
    "# estimate the p-values\n",
    "est.pvalues"
   ]
  },
  {
   "cell_type": "code",
   "execution_count": null,
   "metadata": {
    "ExecuteTime": {
     "end_time": "2020-05-01T14:58:13.441404Z",
     "start_time": "2020-05-01T14:58:13.435421Z"
    },
    "hidden": true,
    "scrolled": true
   },
   "outputs": [],
   "source": [
    "# calculate and display intercept, coefficient\n",
    "intercept = single_regression_model.intercept_[0]\n",
    "coefficient = single_regression_model.coef_[0][0]\n",
    "# print out\n",
    "print(\"The Coefficient for training model is {:2}\".format(coefficient))\n",
    "print(\"The intercept for training model is {:4}\".format(intercept))"
   ]
  },
  {
   "cell_type": "code",
   "execution_count": null,
   "metadata": {
    "ExecuteTime": {
     "end_time": "2020-05-01T14:58:14.660501Z",
     "start_time": "2020-05-01T14:58:14.651528Z"
    },
    "hidden": true
   },
   "outputs": [],
   "source": [
    "# create prediction value and calculate errors\n",
    "y_predict = single_regression_model.predict(x_test)\n",
    "# calculate the mean squared error.\n",
    "model_mse = mean_squared_error(y_test, y_predict)\n",
    "# calculate the mean absolute error.\n",
    "model_mae = mean_absolute_error(y_test, y_predict)\n",
    "# calulcate the root mean squared error\n",
    "model_rmse =  math.sqrt(model_mse)\n",
    "# display the output\n",
    "print(\"MSE {:3}\".format(model_mse))\n",
    "print(\"MAE {:3}\".format(model_mae))\n",
    "print(\"RMSE {:3}\".format(model_rmse))"
   ]
  },
  {
   "cell_type": "code",
   "execution_count": null,
   "metadata": {
    "ExecuteTime": {
     "end_time": "2020-05-01T14:58:15.407547Z",
     "start_time": "2020-05-01T14:58:15.401565Z"
    },
    "hidden": true
   },
   "outputs": [],
   "source": [
    "model_r2 = r2_score(y_test, y_predict)\n",
    "print(\"R2 of the prediction is: {:.2}\".format(model_r2))"
   ]
  },
  {
   "cell_type": "code",
   "execution_count": null,
   "metadata": {
    "ExecuteTime": {
     "end_time": "2020-05-01T14:58:16.106981Z",
     "start_time": "2020-05-01T14:58:15.950373Z"
    },
    "hidden": true
   },
   "outputs": [],
   "source": [
    "# Grab the residuals & then call the hist() method\n",
    "(y_test - y_predict).hist(grid = False, color = 'Gold')\n",
    "plt.title(\"Model Residuals\")\n",
    "plt.show()"
   ]
  },
  {
   "cell_type": "code",
   "execution_count": null,
   "metadata": {
    "ExecuteTime": {
     "end_time": "2020-05-01T14:58:19.951524Z",
     "start_time": "2020-05-01T14:58:19.781935Z"
    },
    "hidden": true,
    "scrolled": true
   },
   "outputs": [],
   "source": [
    "# Plot outputs\n",
    "plt.scatter(x_test, y_test,  color='pink', label = '')\n",
    "plt.plot(x_test, y_predict, color='royalblue', linewidth = 3, linestyle= '-',label ='Regression Line')\n",
    "\n",
    "plt.title(\"Family_Expenditure_12M_PartsNServices VS Expenditure_12M_PartsNServices\")\n",
    "plt.xlabel(\"x\")\n",
    "plt.ylabel(\"y\")\n",
    "plt.legend()\n",
    "plt.show()\n",
    "\n",
    "# The coefficients\n",
    "print('Coefficient:' + '\\033[1m' + '{:.2}''\\033[0m'.format(single_regression_model.coef_[0][0]))\n",
    "\n",
    "# The mean squared error\n",
    "print('Mean squared error: ' + '\\033[1m' + '{:.4}''\\033[0m'.format(model_mse))\n",
    "\n",
    "# The mean squared error\n",
    "print('Root Mean squared error: ' + '\\033[1m' + '{:.4}''\\033[0m'.format(math.sqrt(model_mse)))\n",
    "\n",
    "# Explained variance score: 1 is perfect prediction\n",
    "print('R2 score: '+ '\\033[1m' + '{:.2}''\\033[0m'.format(r2_score(y_test,y_predict)))"
   ]
  },
  {
   "cell_type": "markdown",
   "metadata": {
    "heading_collapsed": true,
    "hidden": true
   },
   "source": [
    "### Test 21 Conclusion"
   ]
  },
  {
   "cell_type": "markdown",
   "metadata": {
    "ExecuteTime": {
     "end_time": "2020-04-30T20:29:15.147664Z",
     "start_time": "2020-04-30T20:29:15.143670Z"
    },
    "heading_collapsed": true
   },
   "source": [
    "# Next Steps"
   ]
  },
  {
   "cell_type": "markdown",
   "metadata": {
    "ExecuteTime": {
     "end_time": "2020-05-01T13:45:51.480892Z",
     "start_time": "2020-05-01T13:45:51.475909Z"
    },
    "heading_collapsed": true,
    "hidden": true
   },
   "source": [
    "## regularization"
   ]
  },
  {
   "cell_type": "markdown",
   "metadata": {
    "heading_collapsed": true,
    "hidden": true
   },
   "source": [
    "## Split dataset by POPS"
   ]
  }
 ],
 "metadata": {
  "kernelspec": {
   "display_name": "Python 3",
   "language": "python",
   "name": "python3"
  },
  "language_info": {
   "codemirror_mode": {
    "name": "ipython",
    "version": 3
   },
   "file_extension": ".py",
   "mimetype": "text/x-python",
   "name": "python",
   "nbconvert_exporter": "python",
   "pygments_lexer": "ipython3",
   "version": "3.7.4"
  },
  "varInspector": {
   "cols": {
    "lenName": 16,
    "lenType": 16,
    "lenVar": "100"
   },
   "kernels_config": {
    "python": {
     "delete_cmd_postfix": "",
     "delete_cmd_prefix": "del ",
     "library": "var_list.py",
     "varRefreshCmd": "print(var_dic_list())"
    },
    "r": {
     "delete_cmd_postfix": ") ",
     "delete_cmd_prefix": "rm(",
     "library": "var_list.r",
     "varRefreshCmd": "cat(var_dic_list()) "
    }
   },
   "position": {
    "height": "672px",
    "left": "341px",
    "right": "20px",
    "top": "175px",
    "width": "800px"
   },
   "types_to_exclude": [
    "module",
    "function",
    "builtin_function_or_method",
    "instance",
    "_Feature"
   ],
   "window_display": false
  },
  "widgets": {
   "application/vnd.jupyter.widget-state+json": {
    "state": {},
    "version_major": 2,
    "version_minor": 0
   }
  }
 },
 "nbformat": 4,
 "nbformat_minor": 2
}
