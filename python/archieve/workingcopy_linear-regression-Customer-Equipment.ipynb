{
 "cells": [
  {
   "cell_type": "markdown",
   "metadata": {
    "heading_collapsed": true
   },
   "source": [
    "# 1 Load libraries and data"
   ]
  },
  {
   "cell_type": "code",
   "execution_count": null,
   "metadata": {
    "ExecuteTime": {
     "end_time": "2020-05-08T12:45:43.418161Z",
     "start_time": "2020-05-08T12:45:33.832392Z"
    },
    "hidden": true
   },
   "outputs": [],
   "source": [
    "#Libraries\n",
    "import numpy as np\n",
    "import pandas as pd\n",
    "import pandas_profiling as pp\n",
    "import seaborn as sns\n",
    "import matplotlib.pyplot as plt\n",
    "import statsmodels.api as sm\n",
    "import math \n",
    "import pylab\n",
    "from scipy import stats\n",
    "from scipy.stats import kurtosis, skew\n",
    "from statsmodels.stats import diagnostic as diag\n",
    "from statsmodels.stats.outliers_influence import variance_inflation_factor\n",
    "from sklearn.model_selection import train_test_split\n",
    "from sklearn.linear_model import LinearRegression\n",
    "from sklearn.metrics import mean_squared_error, r2_score, mean_absolute_error\n",
    "\n",
    "#Settings\n",
    "%matplotlib inline\n",
    "pd.options.display.max_rows = 60\n",
    "pd.options.display.max_columns = 30\n",
    "pd.set_option('display.precision', 4)"
   ]
  },
  {
   "cell_type": "code",
   "execution_count": null,
   "metadata": {
    "ExecuteTime": {
     "end_time": "2020-05-08T12:45:48.076748Z",
     "start_time": "2020-05-08T12:45:43.431751Z"
    },
    "hidden": true
   },
   "outputs": [],
   "source": [
    "#load data\n",
    "data = pd.read_excel('..\\\\data\\\\LeadData_Customer_Modified.xlsx', index_col='OriginalCustomerNumber')\n",
    "\n",
    "#Verify data types\n",
    "#data.dtypes\n",
    "\n",
    "#Convert data to float for calculations\n",
    "data = data.astype(float)\n",
    "\n",
    "#Verify data size\n",
    "data.shape"
   ]
  },
  {
   "cell_type": "markdown",
   "metadata": {
    "heading_collapsed": true
   },
   "source": [
    "# 2 Correlation Matrix"
   ]
  },
  {
   "cell_type": "code",
   "execution_count": null,
   "metadata": {
    "ExecuteTime": {
     "end_time": "2020-05-07T20:20:49.884425Z",
     "start_time": "2020-05-07T20:20:31.529619Z"
    },
    "hidden": true
   },
   "outputs": [],
   "source": [
    "#Print data profile\n",
    "data_profile = pp.ProfileReport(data)\n",
    "display(data_profile)"
   ]
  },
  {
   "cell_type": "code",
   "execution_count": null,
   "metadata": {
    "ExecuteTime": {
     "end_time": "2020-05-08T12:45:49.544493Z",
     "start_time": "2020-05-08T12:45:48.917476Z"
    },
    "hidden": true,
    "scrolled": true
   },
   "outputs": [],
   "source": [
    "# #Compute the correlation matrix\n",
    "corr_matrix = round(data.corr(),2)\n",
    "# display(corr_matrix)\n",
    "\n",
    "def get_sorted_corr(df):\n",
    "    crr = df.corr().abs().unstack()\n",
    "# #     labels_to_drop = get_redundant_pairs(df)\n",
    "# #     crr = crr.drop(labels=labels_to_drop).sort_values(ascending=False)\n",
    "    return crr\n",
    "\n",
    "# def get_redundant_pairs(df):\n",
    "#     pairs_to_drop = set()\n",
    "#     cols = df.columns\n",
    "# #     for i in range(0, df.shape[1]):\n",
    "# #         for j in range(0, i+1):\n",
    "# #             pairs_to_drop.add((cols[i], cols[j]))\n",
    "#     return pairs_to_drop\n",
    "\n",
    "# #Unstack and print to excel\n",
    "get_sorted_corr(data)\n",
    "sorted_corr = get_sorted_corr(data)\n",
    "sorted_corr.to_csv('..\\\\data\\\\Output\\\\Sorted_Correlation_Equipment_Mod.csv')"
   ]
  },
  {
   "cell_type": "code",
   "execution_count": null,
   "metadata": {
    "ExecuteTime": {
     "end_time": "2020-05-06T19:10:54.731670Z",
     "start_time": "2020-05-06T19:10:54.530238Z"
    },
    "hidden": true
   },
   "outputs": [],
   "source": [
    "# # # Generate a mask for the upper triangle\n",
    "# mask = np.triu(np.ones_like(corr_matrix, dtype=np.bool))\n",
    "\n",
    "# # # Set up the matplotlib figure\n",
    "# fig, ax = plt.subplots(figsize=(4,4))\n",
    "\n",
    "# # # Generate a custom diverging colormap\n",
    "# cmap = sns.diverging_palette(240, 10, n=9, as_cmap=True)\n",
    "\n",
    "# heatmap = sns.heatmap(corr_matrix, mask=mask, cmap=cmap,\n",
    "#                       square=True, linewidths=3,\n",
    "#                       cbar_kws = {'shrink': 1},\n",
    "#                       vmin=-1, vmax=1,\n",
    "#                       annot=True, annot_kws = {'size': 1})\n",
    "\n",
    "# # add the column names as labels\n",
    "# ax.set_yticklabels(corr_matrix.columns)\n",
    "# ax.set_xticklabels(corr_matrix.columns)\n",
    "\n",
    "# plt.show()\n",
    "# # plt.savefig('..\\\\data\\\\Output\\\\ScatterPlot')"
   ]
  },
  {
   "cell_type": "markdown",
   "metadata": {
    "heading_collapsed": true
   },
   "source": [
    "# 3 Selecting data"
   ]
  },
  {
   "cell_type": "code",
   "execution_count": null,
   "metadata": {
    "ExecuteTime": {
     "end_time": "2020-05-08T13:06:30.774499Z",
     "start_time": "2020-05-08T13:06:30.758563Z"
    },
    "hidden": true
   },
   "outputs": [],
   "source": [
    "#Filtering data columns to use\n",
    "data_selected = data.drop(columns=[#'LoneStar'                                 \n",
    "                                     'Family_Accounts'\n",
    "                                     ,'LN_Family_Accounts'\n",
    "                                    ,'AverageDaysToPay'\n",
    "                                    ,'LN_AverageDaysToPay'\n",
    "#                                     ,'Expenditure_12M_Equipment'\n",
    "#                                     ,'LN_Expenditure_12M_Equipment'\n",
    "                                     ,'Expenditure_12M_PartsNServices'\n",
    "                                   ,'LN_Expenditure_12M_PartsNServices'\n",
    "                                    ,'Expenditure_12M_Rentals'\n",
    "                                    ,'LN_Expenditure_12M_Rentals'\n",
    "                                    ,'Family_Expenditure_12M_Equipment'\n",
    "                                    ,'LN_Family_Expenditure_12M_Equipment'\n",
    "                                    ,'Family_Expenditure_12M_PartsNServices'\n",
    "                                    ,'LN_Family_Expenditure_12M_PartsNServices'\n",
    "                                    ,'Family_Expenditure_12M_Rentals'\n",
    "                                    ,'LN_Family_Expenditure_12M_Rentals'\n",
    "                                    ,'Family_CatFleetSize'\n",
    "                                    ,'LN_Family_CatFleetSize'\n",
    "                                    ,'Family_FleetSize'\n",
    "                                    ,'LN_Family_FleetSize'\n",
    "#                                       ,'Count_CatFleetSize'\n",
    "#                                       ,'LN_Count_CatFleetSize'\n",
    "                                     ,'Count_CatFleetSize_BINS_0'\n",
    "                                     ,'Count_CatFleetSize_BINS_1'\n",
    "                                    ,'Count_CatFleetSize_BINS_2_5'\n",
    "                                    ,'Count_CatFleetSize_BINS_6_10'\n",
    "                                    ,'Count_CatFleetSize_BINS_11_15'\n",
    "                                    ,'Count_CatFleetSize_BINS_16_20'\n",
    "                                    ,'Count_CatFleetSize_BINS_21-25'\n",
    "                                    ,'Count_CatFleetSize_BINS_26_PLUS'\n",
    "                                    ,'Count_FleetSize'\n",
    "                                    ,'LN_Count_FleetSize'\n",
    "                                    ,'Percentage_PLSubscriptionActive'\n",
    "                                    ,'LN_Percentage_PLSubscriptionActive'\n",
    "#                                     ,'Percentage_Cat'\n",
    "#                                     ,'LN_Percentage_Cat'\n",
    "#                                     ,'PercentageFleetUtilized'\n",
    "#                                     ,'LN_PercentageFleetUtilized'\n",
    "#                                     ,'Avg_AnnualUsage'\n",
    "#                                     ,'LN_Avg_AnnualUsage'\n",
    "                                     ,'OLGAAmount'\n",
    "                                    ,'LN_OLGAAmount'\n",
    "                                     ,'PartsDCAL'\n",
    "#                                      ,'LN_PartsDCAL'\n",
    "                                     ,'PartsDCAL_BINS_0'\n",
    "                                   ,'PartsDCAL_BINS_0_10'\n",
    "                                   ,'PartsDCAL_BINS_10_35'\n",
    "                                   ,'PartsDCAL_BINS_35_70'\n",
    "                                   ,'PartsDCAL_BINS_70_90'\n",
    "                                   ,'PartsDCAL_BINS_90_100'\n",
    "                                   ,'PartsDCAL_BINS_100'\n",
    "#                                      ,'ServiceDCAL'\n",
    "#                                      ,'LN_ServiceDCAL'\n",
    "                                   ,'ServiceDCAL_BINS_0'\n",
    "                                   ,'ServiceDCAL_BINS_0_10'\n",
    "                                   ,'ServiceDCAL_BINS_10_35'\n",
    "                                   ,'ServiceDCAL_BINS_35_70'\n",
    "                                   ,'ServiceDCAL_BINS_70_90'\n",
    "                                   ,'ServiceDCAL_BINS_90_100'\n",
    "                                    ,'ServiceDCAL_BINS_100'\n",
    "                                    ,'Average_Fleet_Age_Months'\n",
    "                                    ,'LN_Average_Fleet_Age_Months'\n",
    "                                    ,'Average_Fleet_Hours'\n",
    "                                    ,'LN_Average_Fleet_Hours'\n",
    "                                    ,'PARTS_CU_0_12M'\n",
    "                                    ,'LN_PARTS_CU_0_12M'\n",
    "                                    ,'PARTS_Total_Per_CatFleetSize'\n",
    "                                    ,'LN_PARTS_Total_Per_CatFleetSize'\n",
    "                                    ,'PARTS_Total_Per_500HR_Utilized'\n",
    "                                    ,'LN_PARTS_Total_Per_500HR_Utilized'\n",
    "                                    ,'PARTS_COUNT_CU_0_12M'\n",
    "                                    ,'PARTS_Count_Per_CatFleetSize'\n",
    "                                    ,'LN_PARTS_Count_Per_CatFleetSize'\n",
    "                                    ,'PARTS_Count_Per_500HR_Utilized'\n",
    "                                    ,'LN_PARTS_Count_Per_500HR_Utilized'\n",
    "                                    ,'PartsReturnPercentage_CU'\n",
    "                                    ,'PartsReturnPercentage_BINS_0'\n",
    "                                    ,'PartsReturnPercentage_BINS_0_10'\n",
    "                                    ,'PartsReturnPercentage_BINS_10_35'\n",
    "                                    ,'PartsReturnPercentage_BINS_35_70'\n",
    "                                    ,'PartsReturnPercentage_BINS_70_90'\n",
    "                                    ,'PartsReturnPercentage_BINS_90_100'\n",
    "                                    ,'PartsReturnPercentage_BINS_100'\n",
    "                                    ,'SERVICES_CU_0_12M'\n",
    "                                    ,'LN_SERVICES_CU_0_12M'\n",
    "                                    ,'SERVICES_Total_Per_CatFleetSize'\n",
    "                                    ,'LN_SERVICES_Total_Per_CatFleetSize'\n",
    "                                    ,'SERVICES_Total_Per_500HR_Utilized'\n",
    "                                    ,'LN_SERVICES_Total_Per_500HR_Utilized'\n",
    "                                    ,'SERVICES_COUNT_CU_0_12M'\n",
    "                                    ,'LN_SERVICES_COUNT_CU_0_12M'\n",
    "                                    ,'SERVICES_Count_Per_CatFleetSize'\n",
    "                                    ,'LN_SERVICES_Count_Per_CatFleetSize'\n",
    "                                    ,'SERVICES_Count_Per_500HR_Utilized'\n",
    "                                    ,'LN_SERVICES_Count_Per_500HR_Utilized'\n",
    "                                    ,'ServicesBackOutPercentage_CU'\n",
    "                                    ,'ServiceBackOutPercentage_BINS_0'\n",
    "                                    ,'ServiceBackOutPercentage_BINS_0_10'\n",
    "                                    ,'ServiceBackOutPercentage_BINS_10_35'\n",
    "                                    ,'ServiceBackOutPercentage_BINS_35_70'\n",
    "                                    ,'ServiceBackOutPercentage_BINS_70_90'\n",
    "                                    ,'ServiceBackOutPercentage_BINS_90_100'\n",
    "                                    ,'ServiceBackOutPercentage_BINS_100'\n",
    "                                    ,'SOS_COUNT_CU_0_12M'\n",
    "                                    ,'LN_SOS_COUNT_CU_0_12M'\n",
    "                                    ,'SOS_Count_Per_CatFleetSize'\n",
    "                                    ,'LN_SOS_Count_Per_CatFleetSize'\n",
    "                                    ,'SOS_Count_Per_500HR_Utilized'\n",
    "                                    ,'LN_SOS_Count_Per_500HR_Utilized'\n",
    "                                  ])\n",
    "data_selected.columns"
   ]
  },
  {
   "cell_type": "markdown",
   "metadata": {},
   "source": [
    "# 4 Regression"
   ]
  },
  {
   "cell_type": "markdown",
   "metadata": {
    "ExecuteTime": {
     "end_time": "2020-05-07T15:09:41.623184Z",
     "start_time": "2020-05-07T15:09:41.619231Z"
    },
    "heading_collapsed": true
   },
   "source": [
    "## 4.1 Assumptions"
   ]
  },
  {
   "cell_type": "markdown",
   "metadata": {
    "hidden": true
   },
   "source": [
    "Fact: Expenditure_12M_PartsNServices = OLGAAmount * OLGAParts% * PartsDCAL + OLGAAmount * OLGAService% * ServiceDCAL"
   ]
  },
  {
   "cell_type": "markdown",
   "metadata": {
    "hidden": true
   },
   "source": [
    "Assumptions: Count_CatFleetSize > 0, Expenditure_12M_PartsNServices > 0, PartsDcal>10"
   ]
  },
  {
   "cell_type": "code",
   "execution_count": null,
   "metadata": {
    "ExecuteTime": {
     "end_time": "2020-05-08T13:06:34.394612Z",
     "start_time": "2020-05-08T13:06:34.389584Z"
    },
    "hidden": true,
    "scrolled": true
   },
   "outputs": [],
   "source": [
    "#Data size\n",
    "data_selected.shape"
   ]
  },
  {
   "cell_type": "code",
   "execution_count": null,
   "metadata": {
    "ExecuteTime": {
     "end_time": "2020-05-08T13:06:33.710412Z",
     "start_time": "2020-05-08T13:06:33.704425Z"
    },
    "hidden": true
   },
   "outputs": [],
   "source": [
    "# Print out columns for Copy and paste\n",
    "data_selected.columns"
   ]
  },
  {
   "cell_type": "code",
   "execution_count": null,
   "metadata": {
    "ExecuteTime": {
     "end_time": "2020-05-08T13:06:35.245413Z",
     "start_time": "2020-05-08T13:06:35.231488Z"
    },
    "hidden": true
   },
   "outputs": [],
   "source": [
    "#Filter data as assumption (BIAS TO BE DESCRIBED)\n",
    "data_filtered = data_selected.drop(data_selected.index[data_selected.Count_CatFleetSize < 1]) # drop customers with 0 machines\n",
    "data_filtered = data_filtered.drop(data_filtered.index[data_filtered.Expenditure_12M_PartsNServices <= 0]) # drop customers with 0 or less $\n",
    "data_filtered = data_filtered.drop(data_filtered.index[data_filtered.PartsDCAL < 10 ])   #Drop customers with POPS less than 10\n",
    "#Check size again\n",
    "data_filtered.shape"
   ]
  },
  {
   "cell_type": "markdown",
   "metadata": {
    "heading_collapsed": true
   },
   "source": [
    "## 4.2 Variable Testing"
   ]
  },
  {
   "cell_type": "markdown",
   "metadata": {
    "heading_collapsed": true,
    "hidden": true
   },
   "source": [
    "### Histogram"
   ]
  },
  {
   "cell_type": "code",
   "execution_count": null,
   "metadata": {
    "ExecuteTime": {
     "end_time": "2020-05-08T13:06:37.201572Z",
     "start_time": "2020-05-08T13:06:36.934331Z"
    },
    "hidden": true,
    "scrolled": false
   },
   "outputs": [],
   "source": [
    "test = data_filtered\n",
    "test = test.dropna()\n",
    "X = test[['OLGAAmount']]\n",
    "Y = test[['Expenditure_12M_PartsNServices']]\n",
    "Y.hist(grid = False, color = 'green')\n",
    "plt.show()\n",
    "X.hist(grid = False, color = 'purple')\n",
    "plt.show()"
   ]
  },
  {
   "cell_type": "code",
   "execution_count": null,
   "metadata": {
    "ExecuteTime": {
     "end_time": "2020-05-08T13:06:38.615918Z",
     "start_time": "2020-05-08T13:06:38.325663Z"
    },
    "hidden": true,
    "scrolled": false
   },
   "outputs": [],
   "source": [
    "test = data_filtered\n",
    "test = test.drop(test.index[test.OLGAAmount >= 1000000]) #Drop customers with over 1M OLGA\n",
    "test = test.drop(test.index[test.Expenditure_12M_PartsNServices >= 500000]) #Drop customers with over 500K Spending\n",
    "X = test[['OLGAAmount']]\n",
    "Y = test[['Expenditure_12M_PartsNServices']]\n",
    "Y.hist(grid = False, color = 'green')\n",
    "plt.show()\n",
    "X.hist(grid = False, color = 'purple')\n",
    "plt.show()"
   ]
  },
  {
   "cell_type": "code",
   "execution_count": null,
   "metadata": {
    "ExecuteTime": {
     "end_time": "2020-05-08T13:06:41.543633Z",
     "start_time": "2020-05-08T13:06:40.173328Z"
    },
    "hidden": true
   },
   "outputs": [],
   "source": [
    "tpl = test[['OLGAAmount','Expenditure_12M_PartsNServices']]\n",
    "#Scatter plot\n",
    "sns.pairplot(tpl, kind='reg', diag_kind='hist',\n",
    "             height=3, aspect=1,\n",
    "             plot_kws={'scatter_kws': {'alpha': 0.7}})\n",
    "#plt.savefig('..\\\\data\\\\Output\\\\1')"
   ]
  },
  {
   "cell_type": "code",
   "execution_count": null,
   "metadata": {
    "ExecuteTime": {
     "end_time": "2020-05-08T13:06:44.148859Z",
     "start_time": "2020-05-08T13:06:42.765429Z"
    },
    "hidden": true
   },
   "outputs": [],
   "source": [
    "tpl = test[['LN_OLGAAmount','LN_Expenditure_12M_PartsNServices']]\n",
    "#Scatter plot\n",
    "sns.pairplot(tpl, kind='reg', diag_kind='hist',\n",
    "             height=3, aspect=1,\n",
    "             plot_kws={'scatter_kws': {'alpha': 0.7}})"
   ]
  },
  {
   "cell_type": "markdown",
   "metadata": {
    "hidden": true
   },
   "source": [
    "### Round 1 OLGA < 1M, Expenditure_PNS < 40K"
   ]
  },
  {
   "cell_type": "code",
   "execution_count": null,
   "metadata": {
    "ExecuteTime": {
     "end_time": "2020-05-08T13:25:40.144192Z",
     "start_time": "2020-05-08T13:25:40.102738Z"
    },
    "hidden": true
   },
   "outputs": [],
   "source": [
    "test = data_filtered\n",
    "test = test.drop(test.index[test.OLGAAmount >= 1000000]) #Drop customers with over 1M OLGA\n",
    "test = test.drop(test.index[test.Expenditure_12M_PartsNServices >= 500000]) #Drop customers with over 500K Spending\n",
    "test = test.dropna()\n",
    "X = test[['LN_OLGAAmount']]\n",
    "Y = test[['LN_Expenditure_12M_PartsNServices']]\n",
    "# create a OLS model.\n",
    "model = sm.OLS(Y, X)\n",
    "\n",
    "#Print\n",
    "results = model.fit()\n",
    "print(results.summary())"
   ]
  },
  {
   "cell_type": "code",
   "execution_count": null,
   "metadata": {
    "ExecuteTime": {
     "end_time": "2020-05-08T13:25:41.268827Z",
     "start_time": "2020-05-08T13:25:41.247880Z"
    },
    "hidden": true
   },
   "outputs": [],
   "source": [
    "# Split X and y into X_\n",
    "x_train, x_test, y_train, y_test = train_test_split(X, Y, test_size=0.20, random_state=1)\n",
    "# create a Linear Regression model object.\n",
    "single_regression_model = LinearRegression()\n",
    "# pass through the X_train & y_train data set.\n",
    "single_regression_model.fit(x_train, y_train)\n",
    "\n",
    "# create prediction value\n",
    "y_predict = single_regression_model.predict(x_test)\n",
    "\n",
    "# calculate the mean squared error.\n",
    "model_mse = mean_squared_error(y_test, y_predict)\n",
    "# calculate the mean absolute error.\n",
    "model_mae = mean_absolute_error(y_test, y_predict)\n",
    "# calulcate the root mean squared error\n",
    "model_rmse =  math.sqrt(model_mse)\n",
    "\n",
    "# display the output\n",
    "print(\"MSE {:3}\".format(model_mse))\n",
    "print(\"MAE {:3}\".format(model_mae))\n",
    "print(\"RMSE {:3}\".format(model_rmse))"
   ]
  },
  {
   "cell_type": "code",
   "execution_count": null,
   "metadata": {
    "ExecuteTime": {
     "end_time": "2020-05-08T13:25:42.705798Z",
     "start_time": "2020-05-08T13:25:42.701772Z"
    },
    "hidden": true
   },
   "outputs": [],
   "source": [
    "model_r2 = r2_score(y_test, y_predict)\n",
    "print(\"R2: {:.2}\".format(model_r2))"
   ]
  },
  {
   "cell_type": "code",
   "execution_count": null,
   "metadata": {
    "ExecuteTime": {
     "end_time": "2020-05-08T13:26:04.705887Z",
     "start_time": "2020-05-08T13:26:04.552212Z"
    },
    "hidden": true
   },
   "outputs": [],
   "source": [
    "# Plot outputs\n",
    "plt.scatter(x_test, y_test,  color='red', label = 'Y')\n",
    "plt.plot(x_test, y_predict, color='royalblue', linewidth = 3, linestyle= '-',label ='Regression Line')\n",
    "\n",
    "plt.title(\"X VS Y\")\n",
    "plt.xlabel(\"x\")\n",
    "plt.ylabel(\"y\")\n",
    "plt.legend()\n",
    "plt.show()"
   ]
  },
  {
   "cell_type": "code",
   "execution_count": null,
   "metadata": {
    "ExecuteTime": {
     "end_time": "2020-05-08T13:26:09.916561Z",
     "start_time": "2020-05-08T13:26:09.673184Z"
    },
    "hidden": true
   },
   "outputs": [],
   "source": [
    "# Grab the residuals & then call the hist() method\n",
    "resd = y_test - y_predict\n",
    "resd.hist(grid = False, color = 'royalblue')\n",
    "plt.title(\"Model Residuals\")\n",
    "plt.show()"
   ]
  },
  {
   "cell_type": "markdown",
   "metadata": {
    "hidden": true
   },
   "source": [
    "Quite a lot of underpredicting. For next test Drop customers with 100 POPS"
   ]
  },
  {
   "cell_type": "markdown",
   "metadata": {
    "hidden": true
   },
   "source": [
    "### Round 2 Maximum POPS 99.99"
   ]
  },
  {
   "cell_type": "code",
   "execution_count": null,
   "metadata": {
    "ExecuteTime": {
     "end_time": "2020-05-08T13:26:36.804599Z",
     "start_time": "2020-05-08T13:26:36.776678Z"
    },
    "hidden": true,
    "scrolled": false
   },
   "outputs": [],
   "source": [
    "test = data_filtered\n",
    "test = test.drop(test.index[test.OLGAAmount >= 1000000]) #Drop customers with over 1M OLGA\n",
    "test = test.drop(test.index[test.Expenditure_12M_PartsNServices >= 500000]) #Drop customers with over 500K Spending\n",
    "test = test.drop(test.index[test.PartsDCAL == 100 ])\n",
    "test = test.dropna()\n",
    "X = test[['LN_OLGAAmount']]\n",
    "Y = test[['LN_Expenditure_12M_PartsNServices']]\n",
    "# create a OLS model.\n",
    "model = sm.OLS(Y, X)\n",
    "\n",
    "#Print\n",
    "results = model.fit()\n",
    "print(results.summary())"
   ]
  },
  {
   "cell_type": "code",
   "execution_count": null,
   "metadata": {
    "ExecuteTime": {
     "end_time": "2020-05-08T13:10:45.839588Z",
     "start_time": "2020-05-08T13:10:45.817651Z"
    },
    "hidden": true
   },
   "outputs": [],
   "source": [
    "# Split X and y into X_\n",
    "x_train, x_test, y_train, y_test = train_test_split(X, Y, test_size=0.20, random_state=1)\n",
    "# create a Linear Regression model object.\n",
    "single_regression_model = LinearRegression()\n",
    "# pass through the X_train & y_train data set.\n",
    "single_regression_model.fit(x_train, y_train)\n",
    "\n",
    "# create prediction value\n",
    "y_predict = single_regression_model.predict(x_test)\n",
    "\n",
    "# calculate the mean squared error.\n",
    "model_mse = mean_squared_error(y_test, y_predict)\n",
    "# calculate the mean absolute error.\n",
    "model_mae = mean_absolute_error(y_test, y_predict)\n",
    "# calulcate the root mean squared error\n",
    "model_rmse =  math.sqrt(model_mse)\n",
    "\n",
    "# display the output\n",
    "print(\"MSE {:3}\".format(model_mse))\n",
    "print(\"MAE {:3}\".format(model_mae))\n",
    "print(\"RMSE {:3}\".format(model_rmse))"
   ]
  },
  {
   "cell_type": "code",
   "execution_count": null,
   "metadata": {
    "ExecuteTime": {
     "end_time": "2020-05-08T13:10:47.141406Z",
     "start_time": "2020-05-08T13:10:47.133419Z"
    },
    "hidden": true
   },
   "outputs": [],
   "source": [
    "model_r2 = r2_score(y_test, y_predict)\n",
    "print(\"R2: {:.2}\".format(model_r2))\n",
    "#note: R2 increased from 0.42 to 0.51"
   ]
  },
  {
   "cell_type": "code",
   "execution_count": null,
   "metadata": {
    "ExecuteTime": {
     "end_time": "2020-05-08T13:10:48.062608Z",
     "start_time": "2020-05-08T13:10:47.914971Z"
    },
    "hidden": true
   },
   "outputs": [],
   "source": [
    "# Plot outputs\n",
    "plt.scatter(x_test, y_test,  color='red', label = 'Y')\n",
    "plt.plot(x_test, y_predict, color='royalblue', linewidth = 3, linestyle= '-',label ='Regression Line')\n",
    "\n",
    "plt.title(\"X VS Y\")\n",
    "plt.xlabel(\"x\")\n",
    "plt.ylabel(\"y\")\n",
    "plt.legend()\n",
    "plt.show()"
   ]
  },
  {
   "cell_type": "code",
   "execution_count": null,
   "metadata": {
    "ExecuteTime": {
     "end_time": "2020-05-08T13:10:49.415622Z",
     "start_time": "2020-05-08T13:10:49.274957Z"
    },
    "hidden": true,
    "scrolled": true
   },
   "outputs": [],
   "source": [
    "# Grab the residuals & then call the hist() method\n",
    "resd = y_test - y_predict\n",
    "resd.hist(grid = False, color = 'royalblue')\n",
    "plt.title(\"Model Residuals\")\n",
    "plt.show()"
   ]
  },
  {
   "cell_type": "markdown",
   "metadata": {
    "hidden": true
   },
   "source": [
    "Still a lot of underpredicting. Lower POPS to 10 - 90"
   ]
  },
  {
   "cell_type": "markdown",
   "metadata": {
    "hidden": true
   },
   "source": [
    "### Round 3 Maximum POPS 90"
   ]
  },
  {
   "cell_type": "code",
   "execution_count": null,
   "metadata": {
    "ExecuteTime": {
     "end_time": "2020-05-08T13:11:50.735492Z",
     "start_time": "2020-05-08T13:11:50.701588Z"
    },
    "hidden": true,
    "scrolled": false
   },
   "outputs": [],
   "source": [
    "test = data_filtered\n",
    "test = test.drop(test.index[test.OLGAAmount >= 1000000]) #Drop customers with over 1M OLGA\n",
    "test = test.drop(test.index[test.Expenditure_12M_PartsNServices >= 500000]) #Drop customers with over 500K Spending\n",
    "test = test.drop(test.index[test.PartsDCAL > 90 ])\n",
    "test = test.dropna()\n",
    "X = test[['LN_OLGAAmount']]\n",
    "Y = test[['LN_Expenditure_12M_PartsNServices']]\n",
    "# create a OLS model.\n",
    "model = sm.OLS(Y, X)\n",
    "\n",
    "#Print\n",
    "results = model.fit()\n",
    "print(results.summary())"
   ]
  },
  {
   "cell_type": "code",
   "execution_count": null,
   "metadata": {
    "ExecuteTime": {
     "end_time": "2020-05-08T13:11:52.823186Z",
     "start_time": "2020-05-08T13:11:52.805234Z"
    },
    "hidden": true
   },
   "outputs": [],
   "source": [
    "# Split X and y into X_\n",
    "x_train, x_test, y_train, y_test = train_test_split(X, Y, test_size=0.20, random_state=1)\n",
    "# create a Linear Regression model object.\n",
    "single_regression_model = LinearRegression()\n",
    "# pass through the X_train & y_train data set.\n",
    "single_regression_model.fit(x_train, y_train)\n",
    "\n",
    "# create prediction value\n",
    "y_predict = single_regression_model.predict(x_test)\n",
    "\n",
    "# calculate the mean squared error.\n",
    "model_mse = mean_squared_error(y_test, y_predict)\n",
    "# calculate the mean absolute error.\n",
    "model_mae = mean_absolute_error(y_test, y_predict)\n",
    "# calulcate the root mean squared error\n",
    "model_rmse =  math.sqrt(model_mse)\n",
    "\n",
    "# display the output\n",
    "print(\"MSE {:3}\".format(model_mse))\n",
    "print(\"MAE {:3}\".format(model_mae))\n",
    "print(\"RMSE {:3}\".format(model_rmse))"
   ]
  },
  {
   "cell_type": "code",
   "execution_count": null,
   "metadata": {
    "ExecuteTime": {
     "end_time": "2020-05-08T13:11:54.191687Z",
     "start_time": "2020-05-08T13:11:54.185697Z"
    },
    "hidden": true
   },
   "outputs": [],
   "source": [
    "model_r2 = r2_score(y_test, y_predict)\n",
    "print(\"R2: {:.2}\".format(model_r2))"
   ]
  },
  {
   "cell_type": "code",
   "execution_count": null,
   "metadata": {
    "ExecuteTime": {
     "end_time": "2020-05-08T13:12:01.084643Z",
     "start_time": "2020-05-08T13:12:00.930056Z"
    },
    "hidden": true
   },
   "outputs": [],
   "source": [
    "# Plot outputs\n",
    "plt.scatter(x_test, y_test,  color='red', label = 'Y')\n",
    "plt.plot(x_test, y_predict, color='royalblue', linewidth = 3, linestyle= '-',label ='Regression Line')\n",
    "\n",
    "plt.title(\"X VS Y\")\n",
    "plt.xlabel(\"x\")\n",
    "plt.ylabel(\"y\")\n",
    "plt.legend()\n",
    "plt.show()"
   ]
  },
  {
   "cell_type": "code",
   "execution_count": null,
   "metadata": {
    "ExecuteTime": {
     "end_time": "2020-05-08T13:12:02.361164Z",
     "start_time": "2020-05-08T13:12:02.234418Z"
    },
    "hidden": true,
    "scrolled": true
   },
   "outputs": [],
   "source": [
    "# Grab the residuals & then call the hist() method\n",
    "resd = y_test - y_predict\n",
    "resd.hist(grid = False, color = 'royalblue')\n",
    "plt.title(\"Model Residuals\")\n",
    "plt.show()"
   ]
  },
  {
   "cell_type": "markdown",
   "metadata": {
    "hidden": true
   },
   "source": [
    "R2 increased but residuals count dropped why"
   ]
  },
  {
   "cell_type": "markdown",
   "metadata": {
    "hidden": true
   },
   "source": [
    "### Round 4: Minimum POPS 35"
   ]
  },
  {
   "cell_type": "code",
   "execution_count": null,
   "metadata": {
    "ExecuteTime": {
     "end_time": "2020-05-08T13:15:23.498759Z",
     "start_time": "2020-05-08T13:15:23.465808Z"
    },
    "hidden": true
   },
   "outputs": [],
   "source": [
    "test = data_filtered\n",
    "test = test.drop(test.index[test.OLGAAmount >= 1000000]) #Drop customers with over 1M OLGA\n",
    "test = test.drop(test.index[test.Expenditure_12M_PartsNServices >= 500000]) #Drop customers with over 500K Spending\n",
    "test = test.drop(test.index[test.PartsDCAL > 90 ])\n",
    "test = test.drop(test.index[test.PartsDCAL < 35 ])\n",
    "test = test.dropna()\n",
    "X = test[['LN_OLGAAmount']]\n",
    "Y = test[['LN_Expenditure_12M_PartsNServices']]\n",
    "# create a OLS model.\n",
    "model = sm.OLS(Y, X)\n",
    "\n",
    "#Print\n",
    "results = model.fit()\n",
    "print(results.summary())"
   ]
  },
  {
   "cell_type": "code",
   "execution_count": null,
   "metadata": {
    "ExecuteTime": {
     "end_time": "2020-05-08T13:15:25.934658Z",
     "start_time": "2020-05-08T13:15:25.927691Z"
    },
    "hidden": true
   },
   "outputs": [],
   "source": [
    "# estimate the p-values\n",
    "results.pvalues"
   ]
  },
  {
   "cell_type": "code",
   "execution_count": null,
   "metadata": {
    "ExecuteTime": {
     "end_time": "2020-05-08T13:15:26.512396Z",
     "start_time": "2020-05-08T13:15:26.492454Z"
    },
    "hidden": true
   },
   "outputs": [],
   "source": [
    "# Split X and y into X_\n",
    "x_train, x_test, y_train, y_test = train_test_split(X, Y, test_size=0.20, random_state=1)\n",
    "# create a Linear Regression model object.\n",
    "single_regression_model = LinearRegression()\n",
    "# pass through the X_train & y_train data set.\n",
    "single_regression_model.fit(x_train, y_train)\n",
    "\n",
    "# create prediction value\n",
    "y_predict = single_regression_model.predict(x_test)\n",
    "\n",
    "# calculate the mean squared error.\n",
    "model_mse = mean_squared_error(y_test, y_predict)\n",
    "# calculate the mean absolute error.\n",
    "model_mae = mean_absolute_error(y_test, y_predict)\n",
    "# calulcate the root mean squared error\n",
    "model_rmse =  math.sqrt(model_mse)\n",
    "\n",
    "# display the output\n",
    "print(\"MSE {:3}\".format(model_mse))\n",
    "print(\"MAE {:3}\".format(model_mae))\n",
    "print(\"RMSE {:3}\".format(model_rmse))"
   ]
  },
  {
   "cell_type": "code",
   "execution_count": null,
   "metadata": {
    "ExecuteTime": {
     "end_time": "2020-05-08T13:15:27.912715Z",
     "start_time": "2020-05-08T13:15:27.907728Z"
    },
    "hidden": true
   },
   "outputs": [],
   "source": [
    "model_r2 = r2_score(y_test, y_predict)\n",
    "print(\"R2: {:.2}\".format(model_r2))"
   ]
  },
  {
   "cell_type": "code",
   "execution_count": null,
   "metadata": {
    "ExecuteTime": {
     "end_time": "2020-05-08T13:15:28.634789Z",
     "start_time": "2020-05-08T13:15:28.477246Z"
    },
    "hidden": true
   },
   "outputs": [],
   "source": [
    "# Grab the residuals & then call the hist() method\n",
    "(y_test - y_predict).hist(grid = False, color = 'royalblue')\n",
    "plt.title(\"Model Residuals\")\n",
    "plt.show()"
   ]
  },
  {
   "cell_type": "code",
   "execution_count": null,
   "metadata": {
    "ExecuteTime": {
     "end_time": "2020-05-08T13:15:29.814938Z",
     "start_time": "2020-05-08T13:15:29.652373Z"
    },
    "hidden": true,
    "scrolled": true
   },
   "outputs": [],
   "source": [
    "# Plot outputs\n",
    "plt.scatter(x_test, y_test,  color='red', label = 'Y')\n",
    "plt.plot(x_test, y_predict, color='royalblue', linewidth = 3, linestyle= '-',label ='Regression Line')\n",
    "\n",
    "plt.title(\"X VS Y\")\n",
    "plt.xlabel(\"x\")\n",
    "plt.ylabel(\"y\")\n",
    "plt.legend()\n",
    "plt.show()"
   ]
  },
  {
   "cell_type": "markdown",
   "metadata": {
    "hidden": true
   },
   "source": [
    "### Roudn 5. Would I be able to further improve R2 from above by adding minimum 10 % POLS? "
   ]
  },
  {
   "cell_type": "code",
   "execution_count": null,
   "metadata": {
    "ExecuteTime": {
     "end_time": "2020-05-08T13:33:07.048304Z",
     "start_time": "2020-05-08T13:33:07.021408Z"
    },
    "hidden": true
   },
   "outputs": [],
   "source": [
    "test = data_filtered\n",
    "test = test.drop(test.index[test.OLGAAmount >= 1000000]) #Drop customers with over 1M OLGA\n",
    "test = test.drop(test.index[test.Expenditure_12M_PartsNServices >= 500000]) #Drop customers with over 500K Spending\n",
    "test = test.drop(test.index[test.PartsDCAL > 90 ])\n",
    "test = test.drop(test.index[test.PartsDCAL < 35 ])\n",
    "test = test.drop(test.index[test.ServiceDCAL < 10 ])\n",
    "\n",
    "test = test.dropna()\n",
    "X = test[['LN_OLGAAmount']]\n",
    "Y = test[['LN_Expenditure_12M_PartsNServices']]\n",
    "# create a OLS model.\n",
    "model = sm.OLS(Y, X)\n",
    "\n",
    "#Print\n",
    "results = model.fit()\n",
    "print(results.summary())"
   ]
  },
  {
   "cell_type": "code",
   "execution_count": null,
   "metadata": {
    "ExecuteTime": {
     "end_time": "2020-05-08T13:31:12.123777Z",
     "start_time": "2020-05-08T13:31:12.117793Z"
    },
    "hidden": true
   },
   "outputs": [],
   "source": [
    "# estimate the p-values\n",
    "results.pvalues"
   ]
  },
  {
   "cell_type": "code",
   "execution_count": null,
   "metadata": {
    "ExecuteTime": {
     "end_time": "2020-05-08T13:31:13.919523Z",
     "start_time": "2020-05-08T13:31:13.901572Z"
    },
    "hidden": true
   },
   "outputs": [],
   "source": [
    "# Split X and y into X_\n",
    "x_train, x_test, y_train, y_test = train_test_split(X, Y, test_size=0.20, random_state=1)\n",
    "# create a Linear Regression model object.\n",
    "single_regression_model = LinearRegression()\n",
    "# pass through the X_train & y_train data set.\n",
    "single_regression_model.fit(x_train, y_train)\n",
    "\n",
    "# create prediction value\n",
    "y_predict = single_regression_model.predict(x_test)\n",
    "\n",
    "# calculate the mean squared error.\n",
    "model_mse = mean_squared_error(y_test, y_predict)\n",
    "# calculate the mean absolute error.\n",
    "model_mae = mean_absolute_error(y_test, y_predict)\n",
    "# calulcate the root mean squared error\n",
    "model_rmse =  math.sqrt(model_mse)\n",
    "\n",
    "# display the output\n",
    "print(\"MSE {:3}\".format(model_mse))\n",
    "print(\"MAE {:3}\".format(model_mae))\n",
    "print(\"RMSE {:3}\".format(model_rmse))"
   ]
  },
  {
   "cell_type": "code",
   "execution_count": null,
   "metadata": {
    "ExecuteTime": {
     "end_time": "2020-05-08T13:31:14.642469Z",
     "start_time": "2020-05-08T13:31:14.633496Z"
    },
    "hidden": true
   },
   "outputs": [],
   "source": [
    "model_r2 = r2_score(y_test, y_predict)\n",
    "print(\"R2: {:.2}\".format(model_r2))"
   ]
  },
  {
   "cell_type": "code",
   "execution_count": null,
   "metadata": {
    "ExecuteTime": {
     "end_time": "2020-05-08T13:31:16.202408Z",
     "start_time": "2020-05-08T13:31:15.960552Z"
    },
    "hidden": true
   },
   "outputs": [],
   "source": [
    "# Grab the residuals & then call the hist() method\n",
    "(y_test - y_predict).hist(grid = False, color = 'royalblue')\n",
    "plt.title(\"Model Residuals\")\n",
    "plt.show()"
   ]
  },
  {
   "cell_type": "code",
   "execution_count": null,
   "metadata": {
    "ExecuteTime": {
     "end_time": "2020-05-08T13:31:17.491991Z",
     "start_time": "2020-05-08T13:31:17.069135Z"
    },
    "hidden": true
   },
   "outputs": [],
   "source": [
    "# Plot outputs\n",
    "plt.scatter(x_test, y_test,  color='red', label = 'Y')\n",
    "plt.plot(x_test, y_predict, color='royalblue', linewidth = 3, linestyle= '-',label ='Regression Line')\n",
    "\n",
    "plt.title(\"X VS Y\")\n",
    "plt.xlabel(\"x\")\n",
    "plt.ylabel(\"y\")\n",
    "plt.legend()\n",
    "plt.show()"
   ]
  },
  {
   "cell_type": "markdown",
   "metadata": {
    "hidden": true
   },
   "source": [
    "### Verify Model Assumptions"
   ]
  },
  {
   "cell_type": "code",
   "execution_count": null,
   "metadata": {
    "ExecuteTime": {
     "end_time": "2020-05-08T13:31:38.069088Z",
     "start_time": "2020-05-08T13:31:37.810055Z"
    },
    "hidden": true,
    "scrolled": false
   },
   "outputs": [],
   "source": [
    "# calculate the lag, optional\n",
    "lag = min(10, (len(X)//5))\n",
    "print('The number of lags will be {}'.format(lag))\n",
    "print('-'*100)\n",
    "\n",
    "# run the Ljung-Box test for no autocorrelation of residuals\n",
    "# test_results = diag.acorr_breusch_godfrey(est, nlags = lag, store = True)\n",
    "test_results = diag.acorr_ljungbox(results.resid, lags = lag)\n",
    "\n",
    "# grab the p-values and the test statistics\n",
    "ibvalue, p_val = test_results\n",
    "\n",
    "# print the results of the test\n",
    "if min(p_val) > 0.05:\n",
    "    print(\"The lowest p-value found was {:.4}\".format(min(p_val)))\n",
    "    print(\"We fail to reject the null hypthoesis, so there is no autocorrelation.\")\n",
    "    print('-'*100)\n",
    "else:\n",
    "    print(\"The lowest p-value found was {:.4}\".format(min(p_val)))\n",
    "    print(\"We reject the null hypthoesis, so there is autocorrelation.\")\n",
    "    print('-'*100)\n",
    "\n",
    "# plot autocorrelation\n",
    "sm.graphics.tsa.plot_acf(results.resid)\n",
    "plt.show()"
   ]
  },
  {
   "cell_type": "code",
   "execution_count": null,
   "metadata": {
    "ExecuteTime": {
     "end_time": "2020-05-08T13:31:39.934854Z",
     "start_time": "2020-05-08T13:31:39.778275Z"
    },
    "hidden": true,
    "scrolled": false
   },
   "outputs": [],
   "source": [
    "# check for the normality of the residuals\n",
    "sm.qqplot(results.resid, line='s')\n",
    "pylab.show()\n",
    "\n",
    "# also check that the mean of the residuals is approx. 0.\n",
    "mean_residuals = sum(results.resid)/ len(results.resid)\n",
    "print(\"The mean of the residuals is {:.4}\".format(mean_residuals))"
   ]
  },
  {
   "cell_type": "code",
   "execution_count": null,
   "metadata": {
    "ExecuteTime": {
     "end_time": "2020-05-08T13:31:40.931579Z",
     "start_time": "2020-05-08T13:31:40.924590Z"
    },
    "hidden": true
   },
   "outputs": [],
   "source": [
    "# Run the Breusch-Pagan test\n",
    "_, pval, __, f_pval = diag.het_breuschpagan(results.resid, results.model.exog)\n",
    "print(pval, f_pval)\n",
    "print('-'*100)\n",
    "\n",
    "# print the results of the test\n",
    "if pval > 0.05:\n",
    "    print(\"For the Breusch-Pagan's Test\")\n",
    "    print(\"The p-value was {:.4}\".format(pval))\n",
    "    print(\"We fail to reject the null hypthoesis, so there is no heterosecdasticity.\")\n",
    "\n",
    "else:\n",
    "    print(\"For the Breusch-Pagan's Test\")\n",
    "    print(\"The p-value was {:.4}\".format(pval))\n",
    "    print(\"We reject the null hypthoesis, so there is heterosecdasticity.\")\n"
   ]
  },
  {
   "cell_type": "markdown",
   "metadata": {
    "heading_collapsed": true
   },
   "source": [
    "## 4.3 Regression Model Y = LN_Expenditure_12M_PartsNServices"
   ]
  },
  {
   "cell_type": "markdown",
   "metadata": {
    "heading_collapsed": true,
    "hidden": true
   },
   "source": [
    "### 4.5.1 OLS"
   ]
  },
  {
   "cell_type": "code",
   "execution_count": null,
   "metadata": {
    "ExecuteTime": {
     "end_time": "2020-05-08T13:35:56.458999Z",
     "start_time": "2020-05-08T13:35:56.434105Z"
    },
    "hidden": true,
    "scrolled": false
   },
   "outputs": [],
   "source": [
    "# define our input variable (X) & output variable\n",
    "test = test.drop(['PartsDCAL','ServiceDCAL','OLGAAmount','Expenditure_12M_PartsNServices'\n",
    "                 ,'Count_CatFleetSize','LN_Count_CatFleetSize'\n",
    "                 ,'PartsDCAL_BINS_100','PartsDCAL_BINS_0_10'\n",
    "                 ,'ServiceDCAL_BINS_100','ServiceDCAL_BINS_0_10'],axis = 1)\n",
    "\n",
    "X = test.drop('LN_Expenditure_12M_PartsNServices', axis = 1)\n",
    "Y = test[['LN_Expenditure_12M_PartsNServices']]\n",
    "\n",
    "#OLS Model\n",
    "model = sm.OLS(Y, X)\n",
    "\n",
    "results = model.fit()\n",
    "print(results.summary())"
   ]
  },
  {
   "cell_type": "code",
   "execution_count": null,
   "metadata": {
    "ExecuteTime": {
     "end_time": "2020-05-07T19:41:14.433145Z",
     "start_time": "2020-05-07T19:41:14.428159Z"
    },
    "hidden": true,
    "scrolled": true
   },
   "outputs": [],
   "source": [
    "# sns.pairplot(data_dropna, kind='reg', diag_kind='hist',\n",
    "#              height=3, aspect=1,\n",
    "#              plot_kws={'scatter_kws': {'alpha': 0.7}})\n",
    "# #plt.savefig('..\\\\data\\\\Output\\\\1')"
   ]
  },
  {
   "cell_type": "markdown",
   "metadata": {
    "hidden": true
   },
   "source": [
    "### 4.5.2 Train/Test Model"
   ]
  },
  {
   "cell_type": "code",
   "execution_count": null,
   "metadata": {
    "ExecuteTime": {
     "end_time": "2020-05-08T13:36:11.564644Z",
     "start_time": "2020-05-08T13:36:11.543701Z"
    },
    "hidden": true
   },
   "outputs": [],
   "source": [
    "# Split X and y into X_\n",
    "X_train, X_test, y_train, y_test = train_test_split(X, Y, test_size=0.20, random_state=1)\n",
    "\n",
    "# create a Linear Regression model object\n",
    "regression_model = LinearRegression()\n",
    "\n",
    "# pass through the X_train & y_train data set\n",
    "regression_model.fit(X_train, y_train)\n",
    "\n",
    "# prediction model\n",
    "y_predict = regression_model.predict(X_test)\n",
    "\n",
    "# calculate the mean squared error\n",
    "model_mse = mean_squared_error(y_test, y_predict)\n",
    "\n",
    "# calculate the mean absolute error\n",
    "model_mae = mean_absolute_error(y_test, y_predict)\n",
    "\n",
    "# calulcate the root mean squared error\n",
    "model_rmse =  math.sqrt(model_mse)\n",
    "\n",
    "# display the output\n",
    "print(\"MSE {:.3}\".format(model_mse))\n",
    "print(\"MAE {:.3}\".format(model_mae))\n",
    "print(\"RMSE {:.3}\".format(model_rmse))"
   ]
  },
  {
   "cell_type": "code",
   "execution_count": null,
   "metadata": {
    "ExecuteTime": {
     "end_time": "2020-05-08T13:36:13.274291Z",
     "start_time": "2020-05-08T13:36:13.266303Z"
    },
    "hidden": true
   },
   "outputs": [],
   "source": [
    "model_r2 = r2_score(y_test, y_predict)\n",
    "print(\"R2: {:.2}\".format(model_r2))"
   ]
  },
  {
   "cell_type": "markdown",
   "metadata": {
    "ExecuteTime": {
     "end_time": "2020-05-04T19:53:40.000282Z",
     "start_time": "2020-05-04T19:53:39.995262Z"
    },
    "hidden": true
   },
   "source": [
    "### 4.5.3 Test for Multicollinearity /  VIF Test"
   ]
  },
  {
   "cell_type": "code",
   "execution_count": null,
   "metadata": {
    "ExecuteTime": {
     "end_time": "2020-05-08T13:36:16.498583Z",
     "start_time": "2020-05-08T13:36:16.412805Z"
    },
    "hidden": true,
    "scrolled": false
   },
   "outputs": [],
   "source": [
    "# define two data frames one before the drop and one after the drop\n",
    "df_before = test\n",
    "df_after = test.drop([], axis = 1)\n",
    "\n",
    "# the VFI does expect a constant term in the data, so we need to add one using the add_constant method\n",
    "X1 = sm.tools.add_constant(df_before)\n",
    "X2 = sm.tools.add_constant(df_after)\n",
    "\n",
    "# create the series for both\n",
    "series_before = pd.Series([variance_inflation_factor(X1.values, i) for i in range(X1.shape[1])], index=X1.columns)\n",
    "series_after = pd.Series([variance_inflation_factor(X2.values, i) for i in range(X2.shape[1])], index=X2.columns)\n",
    "\n",
    "# display the series\n",
    "print('DATA BEFORE')\n",
    "print('-'*100)\n",
    "display(series_before)\n",
    "\n",
    "print('DATA AFTER')\n",
    "print('-'*100)\n",
    "display(series_after)"
   ]
  },
  {
   "cell_type": "markdown",
   "metadata": {
    "hidden": true
   },
   "source": [
    "### 4.5.4 Testing for Autocorrelation"
   ]
  },
  {
   "cell_type": "code",
   "execution_count": null,
   "metadata": {
    "ExecuteTime": {
     "end_time": "2020-05-08T13:36:20.513234Z",
     "start_time": "2020-05-08T13:36:20.291829Z"
    },
    "hidden": true,
    "scrolled": false
   },
   "outputs": [],
   "source": [
    "# define our input variable (X) & output variable\n",
    "X = test.drop('LN_Expenditure_12M_PartsNServices', axis = 1)\n",
    "Y = test[['LN_Expenditure_12M_PartsNServices']]\n",
    "\n",
    "# test for Autocorrelation\n",
    "from statsmodels.stats.stattools import durbin_watson\n",
    "\n",
    "# define our intput\n",
    "X2 = sm.add_constant(X)\n",
    "\n",
    "# create a OLS model\n",
    "model = sm.OLS(Y, X2)\n",
    "\n",
    "# fit the data\n",
    "est = model.fit()\n",
    "\n",
    "# calculate the lag, optional\n",
    "lag = min(10, (len(X)//5))\n",
    "print('The number of lags will be {}'.format(lag))\n",
    "print('-'*100)\n",
    "\n",
    "# run the Ljung-Box test for no autocorrelation of residuals\n",
    "# test_results = diag.acorr_breusch_godfrey(est, nlags = lag, store = True)\n",
    "test_results = diag.acorr_ljungbox(est.resid, lags = lag)\n",
    "\n",
    "# grab the p-values and the test statistics\n",
    "ibvalue, p_val = test_results\n",
    "\n",
    "# print the results of the test\n",
    "if min(p_val) > 0.05:\n",
    "    print(\"The lowest p-value found was {:.4}\".format(min(p_val)))\n",
    "    print(\"We fail to reject the null hypthoesis, so there is no autocorrelation.\")\n",
    "    print('-'*100)\n",
    "else:\n",
    "    print(\"The lowest p-value found was {:.4}\".format(min(p_val)))\n",
    "    print(\"We reject the null hypthoesis, so there is autocorrelation.\")\n",
    "    print('-'*100)\n",
    "\n",
    "# plot autocorrelation\n",
    "sm.graphics.tsa.plot_acf(est.resid)\n",
    "plt.show()"
   ]
  },
  {
   "cell_type": "markdown",
   "metadata": {
    "hidden": true
   },
   "source": [
    "### 4.5.5 Testing the Mean of the Residuals Equals 0"
   ]
  },
  {
   "cell_type": "code",
   "execution_count": null,
   "metadata": {
    "ExecuteTime": {
     "end_time": "2020-05-08T13:36:24.327358Z",
     "start_time": "2020-05-08T13:36:24.179757Z"
    },
    "hidden": true,
    "scrolled": true
   },
   "outputs": [],
   "source": [
    "# check for the normality of the residuals\n",
    "sm.qqplot(results.resid, line='s')\n",
    "pylab.show()\n",
    "\n",
    "# also check that the mean of the residuals is approx. 0.\n",
    "mean_residuals = sum(results.resid)/ len(results.resid)\n",
    "print(\"The mean of the residuals is {:.4}\".format(mean_residuals))"
   ]
  },
  {
   "cell_type": "markdown",
   "metadata": {
    "hidden": true
   },
   "source": [
    "### 4.5.6 Testing for Heteroskedasticity"
   ]
  },
  {
   "cell_type": "code",
   "execution_count": null,
   "metadata": {
    "ExecuteTime": {
     "end_time": "2020-05-08T13:36:27.426193Z",
     "start_time": "2020-05-08T13:36:27.412269Z"
    },
    "hidden": true
   },
   "outputs": [],
   "source": [
    "# Run the Breusch-Pagan test\n",
    "_, pval, __, f_pval = diag.het_breuschpagan(results.resid, results.model.exog)\n",
    "print(pval, f_pval)\n",
    "print('-'*100)\n",
    "\n",
    "# print the results of the test\n",
    "if pval > 0.05:\n",
    "    print(\"For the Breusch-Pagan's Test\")\n",
    "    print(\"The p-value was {:.4}\".format(pval))\n",
    "    print(\"We fail to reject the null hypthoesis, so there is no heterosecdasticity.\")\n",
    "\n",
    "else:\n",
    "    print(\"For the Breusch-Pagan's Test\")\n",
    "    print(\"The p-value was {:.4}\".format(pval))\n",
    "    print(\"We reject the null hypthoesis, so there is heterosecdasticity.\")\n",
    "\n"
   ]
  }
 ],
 "metadata": {
  "kernelspec": {
   "display_name": "Python 3",
   "language": "python",
   "name": "python3"
  },
  "language_info": {
   "codemirror_mode": {
    "name": "ipython",
    "version": 3
   },
   "file_extension": ".py",
   "mimetype": "text/x-python",
   "name": "python",
   "nbconvert_exporter": "python",
   "pygments_lexer": "ipython3",
   "version": "3.7.4"
  },
  "varInspector": {
   "cols": {
    "lenName": 16,
    "lenType": 16,
    "lenVar": "100"
   },
   "kernels_config": {
    "python": {
     "delete_cmd_postfix": "",
     "delete_cmd_prefix": "del ",
     "library": "var_list.py",
     "varRefreshCmd": "print(var_dic_list())"
    },
    "r": {
     "delete_cmd_postfix": ") ",
     "delete_cmd_prefix": "rm(",
     "library": "var_list.r",
     "varRefreshCmd": "cat(var_dic_list()) "
    }
   },
   "types_to_exclude": [
    "module",
    "function",
    "builtin_function_or_method",
    "instance",
    "_Feature"
   ],
   "window_display": false
  }
 },
 "nbformat": 4,
 "nbformat_minor": 2
}
