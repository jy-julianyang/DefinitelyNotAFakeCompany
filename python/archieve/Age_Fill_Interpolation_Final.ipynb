{
 "cells": [
  {
   "cell_type": "markdown",
   "metadata": {
    "ExecuteTime": {
     "end_time": "2020-05-21T13:39:00.253441Z",
     "start_time": "2020-05-21T13:39:00.249440Z"
    }
   },
   "source": [
    "#  Explore"
   ]
  },
  {
   "cell_type": "code",
   "execution_count": 1,
   "metadata": {
    "ExecuteTime": {
     "end_time": "2020-05-25T10:59:32.690263Z",
     "start_time": "2020-05-25T10:59:26.235108Z"
    }
   },
   "outputs": [],
   "source": [
    "#Libraries\n",
    "import pandas as pd\n",
    "import seaborn as sns\n",
    "from scipy import stats"
   ]
  },
  {
   "cell_type": "code",
   "execution_count": 2,
   "metadata": {
    "ExecuteTime": {
     "end_time": "2020-05-25T10:59:44.269302Z",
     "start_time": "2020-05-25T10:59:33.732550Z"
    }
   },
   "outputs": [],
   "source": [
    "#Load Data\n",
    "df = pd.read_excel('..\\\\data\\\\Equipment_Age_SQL_Export.xlsx', index_col='EquipmentCode')"
   ]
  },
  {
   "cell_type": "code",
   "execution_count": 3,
   "metadata": {
    "ExecuteTime": {
     "end_time": "2020-05-25T10:59:45.974924Z",
     "start_time": "2020-05-25T10:59:45.949994Z"
    },
    "scrolled": true
   },
   "outputs": [
    {
     "data": {
      "text/plain": [
       "['YEG',\n",
       " '24W',\n",
       " 'YEP',\n",
       " 'YYY',\n",
       " 'YYZ',\n",
       " 'Z1A',\n",
       " 'Z1K',\n",
       " 'Z2X',\n",
       " 'Z4W',\n",
       " 'Z9K',\n",
       " 'ZCA',\n",
       " '24Y',\n",
       " 'ZCD',\n",
       " 'ZEB',\n",
       " 'ZEN',\n",
       " 'ZJB',\n",
       " 'ZJT',\n",
       " 'ZML',\n",
       " 'ZSA',\n",
       " 100,\n",
       " 109,\n",
       " '10K',\n",
       " 110,\n",
       " 118,\n",
       " '11K',\n",
       " 121,\n",
       " 123,\n",
       " 125,\n",
       " 128,\n",
       " 132,\n",
       " 138,\n",
       " 140,\n",
       " '15Z',\n",
       " '17A',\n",
       " '1DD',\n",
       " '1DR',\n",
       " '1FD',\n",
       " '1FF',\n",
       " '1FY',\n",
       " '1HS',\n",
       " '1HT',\n",
       " '1J9',\n",
       " '1M2',\n",
       " '1NK',\n",
       " 200,\n",
       " 201,\n",
       " 216,\n",
       " 220,\n",
       " 236,\n",
       " 252,\n",
       " '27D',\n",
       " '2CP',\n",
       " '2JR',\n",
       " '2P6',\n",
       " '2PM',\n",
       " '2WK',\n",
       " '2ZJ',\n",
       " 304,\n",
       " 305,\n",
       " 308,\n",
       " '30K',\n",
       " 320,\n",
       " 323,\n",
       " 334,\n",
       " 336,\n",
       " '33Z',\n",
       " 340,\n",
       " '35V',\n",
       " '3AW',\n",
       " '3CL',\n",
       " '3FC',\n",
       " '3JW',\n",
       " '3TK',\n",
       " '3TM',\n",
       " '3V3',\n",
       " 400,\n",
       " 404,\n",
       " 406,\n",
       " 414,\n",
       " '41K',\n",
       " 430,\n",
       " '44A',\n",
       " 497,\n",
       " '4AZ',\n",
       " '4KD',\n",
       " '4NN',\n",
       " '4TM',\n",
       " '4TS',\n",
       " '4X5',\n",
       " '4ZN',\n",
       " '5 C',\n",
       " 510,\n",
       " '51X',\n",
       " 535,\n",
       " '53Y',\n",
       " 546,\n",
       " '54K',\n",
       " '58H',\n",
       " '5CW',\n",
       " '5LN',\n",
       " '5PC',\n",
       " '5T7',\n",
       " '5YM',\n",
       " 602,\n",
       " '61A',\n",
       " '62C',\n",
       " '62K',\n",
       " '63X',\n",
       " '65A',\n",
       " 665,\n",
       " '66A',\n",
       " '67M',\n",
       " '6J0',\n",
       " '6NZ',\n",
       " '6QW',\n",
       " '6XR',\n",
       " '6ZF',\n",
       " 730,\n",
       " '74V',\n",
       " '76J',\n",
       " '7K0',\n",
       " '7V0',\n",
       " '7XM',\n",
       " 807,\n",
       " '80G',\n",
       " 810,\n",
       " '81U',\n",
       " '81V',\n",
       " '81X',\n",
       " '83A',\n",
       " '84E',\n",
       " '85J',\n",
       " 874,\n",
       " '88E',\n",
       " '8AL',\n",
       " '8CS',\n",
       " '8JN',\n",
       " '8PK',\n",
       " '8RJ',\n",
       " '8TF',\n",
       " '8TT',\n",
       " 908,\n",
       " '24Z',\n",
       " '91L',\n",
       " '91P',\n",
       " 930,\n",
       " '93U',\n",
       " '94U',\n",
       " '95D',\n",
       " '96J',\n",
       " '96U',\n",
       " 988,\n",
       " 999,\n",
       " '99C',\n",
       " '99Y',\n",
       " '9DM',\n",
       " '9PC',\n",
       " '9PN',\n",
       " '9TC',\n",
       " 25,\n",
       " '9U0',\n",
       " '9YB',\n",
       " '9YJ',\n",
       " 'A02',\n",
       " 'A3P',\n",
       " '25K',\n",
       " 'A40',\n",
       " 'A90',\n",
       " 'A9Z',\n",
       " '8PB',\n",
       " '8PL',\n",
       " '8PN',\n",
       " '8PS',\n",
       " '8RC',\n",
       " '8RZ',\n",
       " '8SG',\n",
       " '8TK',\n",
       " '8XC',\n",
       " '8XG',\n",
       " '8XZ',\n",
       " '8YG',\n",
       " '7FN',\n",
       " '7HK',\n",
       " '7HN',\n",
       " '7JK',\n",
       " '7KG',\n",
       " '7KR',\n",
       " '7KS',\n",
       " '7LM',\n",
       " '7LN',\n",
       " '7MJ',\n",
       " '7ML',\n",
       " '7ND',\n",
       " '7NF',\n",
       " '7PD',\n",
       " '7PS',\n",
       " '6PR',\n",
       " '6PS',\n",
       " '6SL',\n",
       " '6TR',\n",
       " '6XF',\n",
       " '6XN',\n",
       " '6YG',\n",
       " '6YL',\n",
       " '6YM',\n",
       " '6YW',\n",
       " '6YZ',\n",
       " '6ZJ',\n",
       " '70J',\n",
       " '71J',\n",
       " 71,\n",
       " '71M',\n",
       " 72,\n",
       " '72G',\n",
       " '72M',\n",
       " '72V',\n",
       " '72W',\n",
       " '73J',\n",
       " '76A',\n",
       " '76U',\n",
       " '76W',\n",
       " '76Y',\n",
       " '77V',\n",
       " '78G',\n",
       " '78U',\n",
       " '78V',\n",
       " '30Y',\n",
       " '78Y',\n",
       " '79J',\n",
       " '79U',\n",
       " '79Z',\n",
       " '7AD',\n",
       " '7BC',\n",
       " '7BS',\n",
       " '7CS',\n",
       " '7DF',\n",
       " '7DM',\n",
       " '7ER',\n",
       " '65M',\n",
       " '65V',\n",
       " 666,\n",
       " '31K',\n",
       " '66G',\n",
       " '69J',\n",
       " '69M',\n",
       " '6AB',\n",
       " '6AS',\n",
       " '6CR',\n",
       " '6CS',\n",
       " '6DM',\n",
       " '6DR',\n",
       " '6DS',\n",
       " '6ER',\n",
       " '6ES',\n",
       " '6FC',\n",
       " '6GK',\n",
       " '6GN',\n",
       " '6GR',\n",
       " '6HK',\n",
       " '6KL',\n",
       " '6KS',\n",
       " '6L5',\n",
       " '6LS',\n",
       " '6LZ',\n",
       " '6MB',\n",
       " '6MF',\n",
       " '6MG',\n",
       " '6NG',\n",
       " '6PJ',\n",
       " '5ES',\n",
       " '5FN',\n",
       " '5FZ',\n",
       " '5HF',\n",
       " '5HK',\n",
       " '5HN',\n",
       " '5HS',\n",
       " '5JN',\n",
       " '5KF',\n",
       " '5KG',\n",
       " '5KK',\n",
       " '5KS',\n",
       " '5MD',\n",
       " '5MG',\n",
       " '5MK',\n",
       " '5NN',\n",
       " '5SD',\n",
       " '5SK',\n",
       " '5SZ',\n",
       " '5TJ',\n",
       " '5TN',\n",
       " '5TR',\n",
       " '5WC',\n",
       " '5WM',\n",
       " '5WS',\n",
       " '5XJ',\n",
       " '5YJ',\n",
       " '5YR',\n",
       " '60A',\n",
       " '60H',\n",
       " '61H',\n",
       " '61M',\n",
       " '62D',\n",
       " '63A',\n",
       " '63R',\n",
       " '63W',\n",
       " '1SG',\n",
       " '1SJ',\n",
       " '1SL',\n",
       " '3AL',\n",
       " '1TZ',\n",
       " '1WN',\n",
       " '1WR',\n",
       " '1YJ',\n",
       " '1YR',\n",
       " '1YS',\n",
       " '20X',\n",
       " '20Z',\n",
       " 214,\n",
       " '21Z',\n",
       " 224,\n",
       " 225,\n",
       " '22K',\n",
       " '22R',\n",
       " '22Z',\n",
       " '3BJ',\n",
       " '3BR',\n",
       " 0,\n",
       " 1,\n",
       " '01X',\n",
       " '02B',\n",
       " '02W',\n",
       " '3BS',\n",
       " '03J',\n",
       " '03X',\n",
       " '23Y',\n",
       " 240,\n",
       " 241,\n",
       " '24R',\n",
       " '25Y',\n",
       " 26,\n",
       " '26K',\n",
       " '26W',\n",
       " '27W',\n",
       " '27Y',\n",
       " '28Y',\n",
       " '29Y',\n",
       " '2DS',\n",
       " '2EL',\n",
       " '2EN',\n",
       " '2JD',\n",
       " '2JM',\n",
       " '2KC',\n",
       " '2KR',\n",
       " '2KS',\n",
       " '2L5',\n",
       " '2LS',\n",
       " '2NL',\n",
       " '2NW',\n",
       " '2PD',\n",
       " '2PG',\n",
       " '3CR',\n",
       " '3CS',\n",
       " '3DF',\n",
       " '3DN',\n",
       " '3DR',\n",
       " '3FD',\n",
       " '3FJ',\n",
       " '3FS',\n",
       " 'DCO',\n",
       " 'DNF',\n",
       " 'DW5',\n",
       " 'EDB',\n",
       " 'EEE',\n",
       " 'ER4',\n",
       " 'ERT',\n",
       " 'EWC',\n",
       " 'FW0',\n",
       " 'JZ6',\n",
       " 'KAP',\n",
       " 'KJ5',\n",
       " 'KMW',\n",
       " 'LEE',\n",
       " 'MJH',\n",
       " 'N8F',\n",
       " 'NL2',\n",
       " 'RA4',\n",
       " 'TMG',\n",
       " 'TYK',\n",
       " 'UNK',\n",
       " 'VBX',\n",
       " 'VEE',\n",
       " '3GC',\n",
       " '3GF',\n",
       " '3HD',\n",
       " '3HG',\n",
       " '3HK',\n",
       " '3HL',\n",
       " 'TMX',\n",
       " 'TNJ',\n",
       " '3JN',\n",
       " 'TNK',\n",
       " 'TRF',\n",
       " 'TTN',\n",
       " 'TWG',\n",
       " 'TWR',\n",
       " 'TWX',\n",
       " 'TXA',\n",
       " 'W1B',\n",
       " 'W3K',\n",
       " 'W6A',\n",
       " 'W7K',\n",
       " 'WBK',\n",
       " 'WBT',\n",
       " 'WCB',\n",
       " 'WFH',\n",
       " 'WGB',\n",
       " 'WGL',\n",
       " 'WMR',\n",
       " 'WRG',\n",
       " 'WRN',\n",
       " 'WTL',\n",
       " 'WWW',\n",
       " 'WYB',\n",
       " 'XAA',\n",
       " 'XBR',\n",
       " 'XCF',\n",
       " 'XCK',\n",
       " 'XT6',\n",
       " 'XXT',\n",
       " 'YBM',\n",
       " 'YDL',\n",
       " 'Z02',\n",
       " 'Z4D',\n",
       " 345,\n",
       " '35F',\n",
       " 582,\n",
       " 905,\n",
       " '90B',\n",
       " 'BLN',\n",
       " 'BTS',\n",
       " 'XYE',\n",
       " 'CAT',\n",
       " 'CEE',\n",
       " 'CRC',\n",
       " 'PWR',\n",
       " 'PYT',\n",
       " 'R4A',\n",
       " 'R8D',\n",
       " '4LK',\n",
       " '4LR',\n",
       " '4LS',\n",
       " '4MG',\n",
       " '4MK',\n",
       " '4MR',\n",
       " '4MS',\n",
       " '4N2',\n",
       " '4NB',\n",
       " '4NC',\n",
       " '4NF',\n",
       " '4NS',\n",
       " '4NZ',\n",
       " '4OU',\n",
       " '04P',\n",
       " '4PN',\n",
       " '4PS',\n",
       " '4PW',\n",
       " '4RC',\n",
       " '4RS',\n",
       " '4RW',\n",
       " '4SB',\n",
       " '4SD',\n",
       " '4SK',\n",
       " '4SS',\n",
       " '4TF',\n",
       " '4TO',\n",
       " '04T',\n",
       " '4TR',\n",
       " '4WR',\n",
       " '4WW',\n",
       " '4XJ',\n",
       " '4XN',\n",
       " '4Y5',\n",
       " '4YC',\n",
       " 'MJD',\n",
       " '94N',\n",
       " 'FRK',\n",
       " 'MPZ',\n",
       " 'SPN',\n",
       " 'RHP',\n",
       " 'K5K',\n",
       " 'TBN',\n",
       " 'MBT',\n",
       " '1EN',\n",
       " 'TBK',\n",
       " 'RLL',\n",
       " 'HLS',\n",
       " 'W8R',\n",
       " '5TC',\n",
       " '4YZ',\n",
       " '8AJ',\n",
       " 'JMS',\n",
       " '7YB',\n",
       " 'JSB',\n",
       " 'NAD',\n",
       " 'BMM',\n",
       " 'BAA',\n",
       " 'B7H',\n",
       " 'SWL',\n",
       " '4JF',\n",
       " 'RKY',\n",
       " 'GBJ',\n",
       " 'KGG',\n",
       " 'CNG',\n",
       " 'RTB',\n",
       " 'PAT',\n",
       " 'DWS',\n",
       " 'M1G',\n",
       " 'JAD',\n",
       " 'CJC',\n",
       " '1GF',\n",
       " 'FFF',\n",
       " '3SW',\n",
       " 'MCS',\n",
       " 'MJC',\n",
       " 'MDY',\n",
       " 'MDH',\n",
       " 'DZW',\n",
       " '9TF',\n",
       " 'KZL',\n",
       " 'DJM',\n",
       " 'DSG',\n",
       " 'JWJ',\n",
       " 'ASR',\n",
       " 'JMH',\n",
       " 'SCH',\n",
       " 'A7D',\n",
       " 'FAC',\n",
       " 'KFF',\n",
       " 'MAS',\n",
       " 'DMY',\n",
       " '1DN',\n",
       " 'HYD',\n",
       " 'SAH',\n",
       " 'CFP',\n",
       " 'AXX',\n",
       " '7ES',\n",
       " 'DKY',\n",
       " 'EBL',\n",
       " 'BCM',\n",
       " 'EEH',\n",
       " '9KK',\n",
       " 'DHC',\n",
       " '9FK',\n",
       " '9LR',\n",
       " 'SLK',\n",
       " '5GS',\n",
       " 'LJM',\n",
       " '8CJ',\n",
       " 'GBB',\n",
       " '3YG',\n",
       " '3PN',\n",
       " 'BNK',\n",
       " '3YD',\n",
       " '5BL',\n",
       " '31R',\n",
       " '5EM',\n",
       " 'JRF',\n",
       " 'KWW',\n",
       " '8CR',\n",
       " '50W',\n",
       " 'TBS',\n",
       " 'ME4',\n",
       " 'BZL',\n",
       " '5FK',\n",
       " 'ANZ',\n",
       " 'PAB',\n",
       " 'TAR',\n",
       " 'JBB',\n",
       " 'T4R',\n",
       " '75A',\n",
       " 'CNX',\n",
       " '6ZL',\n",
       " 'B1L',\n",
       " '4YS',\n",
       " 'B9D',\n",
       " '6FN',\n",
       " '2HR',\n",
       " '4YG',\n",
       " 'EED',\n",
       " '5FW',\n",
       " 'LLL',\n",
       " 'JNJ',\n",
       " '32K',\n",
       " 'DJD',\n",
       " 'CNH',\n",
       " 'AGG',\n",
       " 'AGN',\n",
       " 'BNH',\n",
       " 'MWP',\n",
       " 'DTT',\n",
       " 'XER',\n",
       " '0FA',\n",
       " 'MMM',\n",
       " 'APM',\n",
       " 'SRS',\n",
       " '2ZR',\n",
       " 'FDP',\n",
       " 'JGS',\n",
       " 'AWH',\n",
       " 'BXT',\n",
       " 'KPZ',\n",
       " 'B1N',\n",
       " 'PNJ',\n",
       " 'JHJ',\n",
       " 'BYJ',\n",
       " 'THH',\n",
       " '3WN',\n",
       " 'PJW',\n",
       " 'CKE',\n",
       " 'FPK',\n",
       " 'AGS',\n",
       " 'CJN',\n",
       " 'MER',\n",
       " 'ANB',\n",
       " '6ZS',\n",
       " 'A6D',\n",
       " '9DK',\n",
       " 'TBM',\n",
       " 'KDD',\n",
       " 'CBA',\n",
       " '2ZK',\n",
       " '86J',\n",
       " '9SW',\n",
       " 'BMW',\n",
       " '87A',\n",
       " '1KM',\n",
       " 'AKD',\n",
       " '1KF',\n",
       " 'PCA',\n",
       " '9ZJ',\n",
       " '5AS',\n",
       " 'RRR',\n",
       " 'PRA',\n",
       " 'JAY',\n",
       " 'B4L',\n",
       " 'GJB',\n",
       " '7TL',\n",
       " 'MXB',\n",
       " '2RZ',\n",
       " 'JBC',\n",
       " '96L',\n",
       " 'BXY',\n",
       " 'MJS',\n",
       " 'BZY',\n",
       " 'AEP',\n",
       " 'HWD',\n",
       " 'F7B',\n",
       " 'MBX',\n",
       " 'SLD',\n",
       " '4KN',\n",
       " '45Z',\n",
       " '5BF',\n",
       " '9RL',\n",
       " 'KL2',\n",
       " 'TDY',\n",
       " '6ND',\n",
       " '94Z',\n",
       " '5WD',\n",
       " 'CYA',\n",
       " '92V',\n",
       " 'KJP',\n",
       " 'TBW',\n",
       " 'C56',\n",
       " 'KDE',\n",
       " '8JR',\n",
       " 'GTZ',\n",
       " 'JWY',\n",
       " 'HWE',\n",
       " 'B9J',\n",
       " '7CD',\n",
       " 545,\n",
       " 'JCS',\n",
       " 'HCK',\n",
       " 'SEN',\n",
       " 'FJX',\n",
       " 'SNZ',\n",
       " '7WJ',\n",
       " '6WL',\n",
       " 'B9M',\n",
       " 'KZN',\n",
       " '9HF',\n",
       " '8NK',\n",
       " 'MCF',\n",
       " 'SCD',\n",
       " 'CFT',\n",
       " '3PW',\n",
       " '7SK',\n",
       " '94X',\n",
       " '5TG',\n",
       " 'B1P',\n",
       " '9GJ',\n",
       " 'MRT',\n",
       " 'GTN',\n",
       " '89P',\n",
       " 'A9H',\n",
       " 'J1S',\n",
       " 'TFZ',\n",
       " '4HG',\n",
       " '69X',\n",
       " 'BML',\n",
       " 'HWJ',\n",
       " 'DDT',\n",
       " 'DMA',\n",
       " 'DJY',\n",
       " 'A6J',\n",
       " 'GCP',\n",
       " 'LAR',\n",
       " 'SWC',\n",
       " '04X',\n",
       " 'TSL',\n",
       " 'AWF',\n",
       " '6KR',\n",
       " 'MTL',\n",
       " 'SCL',\n",
       " '1AL',\n",
       " 'AXY',\n",
       " 'D3D',\n",
       " 'RTD',\n",
       " 'CMB',\n",
       " 'TWZ',\n",
       " 'EMB',\n",
       " 'CR5',\n",
       " 'REP',\n",
       " 'R9J',\n",
       " 'H26',\n",
       " 'MLN',\n",
       " 'PDF',\n",
       " 'M2H',\n",
       " 'AKP',\n",
       " '94A',\n",
       " '2XL',\n",
       " 'A6G',\n",
       " 'TBL',\n",
       " 'ERP',\n",
       " '2FL',\n",
       " '87V',\n",
       " 'FLL',\n",
       " 'L8H',\n",
       " 'PDT',\n",
       " 'CCP',\n",
       " 'ACM',\n",
       " 'JWS',\n",
       " 'J5R',\n",
       " 'MWD',\n",
       " 'SSZ',\n",
       " 'DDA',\n",
       " 'PBA',\n",
       " 'RJS',\n",
       " 'FBH',\n",
       " 'DAN',\n",
       " '6WS',\n",
       " '12K',\n",
       " '01K',\n",
       " 'JLM',\n",
       " 'HEN',\n",
       " 'H5M',\n",
       " 'SDH',\n",
       " 'BXM',\n",
       " '6TN',\n",
       " 'KMM',\n",
       " 'LJ7',\n",
       " 'AGP',\n",
       " 'ANY',\n",
       " '9HS',\n",
       " '25U',\n",
       " '8FK',\n",
       " '82V',\n",
       " '3ZN',\n",
       " 'LAE',\n",
       " '53A',\n",
       " 'C7K',\n",
       " 'FLZ',\n",
       " '8MF',\n",
       " '3PR',\n",
       " 'EZW',\n",
       " 'RCY',\n",
       " 'FXT',\n",
       " 'B1M',\n",
       " 'ADE',\n",
       " 'PLW',\n",
       " 'LMD',\n",
       " 'AAX',\n",
       " 'PHC',\n",
       " '7MN',\n",
       " 'AKM',\n",
       " 'H24',\n",
       " 'SLB',\n",
       " 'EJA',\n",
       " '59A',\n",
       " 950,\n",
       " '9ZC',\n",
       " 'DBT',\n",
       " 'FYC',\n",
       " 'GBT',\n",
       " 'JRD',\n",
       " 'FDW',\n",
       " 'DXR',\n",
       " 'FKY',\n",
       " 'NJB',\n",
       " 'LJB',\n",
       " 'AC4',\n",
       " '4JN',\n",
       " 'LNH',\n",
       " 'RST',\n",
       " 'KYY',\n",
       " 'LJ8',\n",
       " 'EAW',\n",
       " 'RZA',\n",
       " 'ALY',\n",
       " 'DJL',\n",
       " 'HEK',\n",
       " 'BNE',\n",
       " 'KCX',\n",
       " 'CD2',\n",
       " 'Z88',\n",
       " 'DGT',\n",
       " 'CLZ',\n",
       " '4DJ',\n",
       " 'KRS',\n",
       " 'KJL',\n",
       " 'BL9',\n",
       " 'H88',\n",
       " 'HHM',\n",
       " 'ABK',\n",
       " '99J',\n",
       " 'DHE',\n",
       " 'HWG',\n",
       " 'H66',\n",
       " 'ASE',\n",
       " 'CRD',\n",
       " 'CSX',\n",
       " 'BFE',\n",
       " 'AAE',\n",
       " 'PHX',\n",
       " 'A3R',\n",
       " 'DLS',\n",
       " 'FGH',\n",
       " '25X',\n",
       " 'WZS',\n",
       " 'KKW',\n",
       " '8GR',\n",
       " '46A',\n",
       " 'SJM',\n",
       " 'SLF',\n",
       " '2SJ',\n",
       " '4HJ',\n",
       " '9DB',\n",
       " '57H',\n",
       " 'GHS',\n",
       " '9GW',\n",
       " 'TRS',\n",
       " '9DL',\n",
       " 'BXD',\n",
       " 'BBB',\n",
       " '1JD',\n",
       " '06X',\n",
       " 'BKJ',\n",
       " 'BPW',\n",
       " 'BKX',\n",
       " '33A',\n",
       " '35S',\n",
       " 'DHA',\n",
       " '82J',\n",
       " 'DBL',\n",
       " 'RDR',\n",
       " 'DR6',\n",
       " 347,\n",
       " '84X',\n",
       " '87X',\n",
       " 'P6K',\n",
       " 'HTZ',\n",
       " 'DNM',\n",
       " 'R9P',\n",
       " 'JSP',\n",
       " '14X',\n",
       " '9ZL',\n",
       " 'DER',\n",
       " '6GD',\n",
       " 'JXM',\n",
       " 'MH6',\n",
       " 'BZ2',\n",
       " 'TLX',\n",
       " 'TLJ',\n",
       " '7ZF',\n",
       " 'KY2',\n",
       " 'BGZ',\n",
       " 'J6B',\n",
       " 'FTL',\n",
       " 'HPD',\n",
       " 'A78',\n",
       " 'RAZ',\n",
       " 'DZT',\n",
       " '10W',\n",
       " 'PBK',\n",
       " 'DMP',\n",
       " 'KWB',\n",
       " 'AW4',\n",
       " 'KF2',\n",
       " 'EDW',\n",
       " 'B9E',\n",
       " 'RJG',\n",
       " '42H',\n",
       " '4ZD',\n",
       " '48A',\n",
       " 'M2K',\n",
       " 'SCP',\n",
       " 'DKS',\n",
       " '2CJ',\n",
       " 'TAN',\n",
       " 'K6K',\n",
       " 'RHN',\n",
       " 'RGS',\n",
       " 'FTK',\n",
       " 'D9T',\n",
       " 'A8P',\n",
       " 'MW4',\n",
       " 'DML',\n",
       " 'REX',\n",
       " 'RKG',\n",
       " 'HWC',\n",
       " 'DFR',\n",
       " 'BDX',\n",
       " 'M9D',\n",
       " '3XR',\n",
       " 'A5P',\n",
       " 'JML',\n",
       " 'FFT',\n",
       " 'HDK',\n",
       " 'NDJ',\n",
       " 'KM2',\n",
       " 'FMC',\n",
       " 'FER',\n",
       " 'KCN',\n",
       " 'K4T',\n",
       " '1RJ',\n",
       " 'MCC',\n",
       " 'JRP',\n",
       " 'J3R',\n",
       " 'EL7',\n",
       " 'C6D',\n",
       " '5CF',\n",
       " 'AWP',\n",
       " 'FDG',\n",
       " 'C6S',\n",
       " 'EAA',\n",
       " 'DJA',\n",
       " 'EDA',\n",
       " '1TL',\n",
       " 'XGK',\n",
       " '8ZS',\n",
       " 'MST',\n",
       " 'ANR',\n",
       " '2FZ',\n",
       " '4FR',\n",
       " '2ZD',\n",
       " '6XJ',\n",
       " 'TAL',\n",
       " 'HXC',\n",
       " 'AWR',\n",
       " 'BDA',\n",
       " 'BMA',\n",
       " '9TZ',\n",
       " 'JRJ',\n",
       " 'KDH',\n",
       " 'XFA',\n",
       " '3KZ',\n",
       " 77,\n",
       " 'TFS',\n",
       " 'L8C',\n",
       " 'C8S',\n",
       " 'F7C',\n",
       " 'R9M',\n",
       " '77X',\n",
       " '77Y',\n",
       " '77Z',\n",
       " '78A',\n",
       " '1HL',\n",
       " 'TFX',\n",
       " 'JWF',\n",
       " 'RLN',\n",
       " '78P',\n",
       " '7DK',\n",
       " '51U',\n",
       " 'BAS',\n",
       " '92Z',\n",
       " '6BZ',\n",
       " '2SL',\n",
       " 'BFA',\n",
       " 'DAE',\n",
       " 'AST',\n",
       " ...]"
      ]
     },
     "execution_count": 3,
     "metadata": {},
     "output_type": "execute_result"
    }
   ],
   "source": [
    "#How many prefixes did i load?\n",
    "Prefix = list(dict.fromkeys(list(df['SN1'])))\n",
    "Prefix"
   ]
  },
  {
   "cell_type": "code",
   "execution_count": 4,
   "metadata": {
    "ExecuteTime": {
     "end_time": "2020-05-25T10:59:48.022224Z",
     "start_time": "2020-05-25T10:59:47.944000Z"
    }
   },
   "outputs": [
    {
     "data": {
      "text/html": [
       "<div>\n",
       "<style scoped>\n",
       "    .dataframe tbody tr th:only-of-type {\n",
       "        vertical-align: middle;\n",
       "    }\n",
       "\n",
       "    .dataframe tbody tr th {\n",
       "        vertical-align: top;\n",
       "    }\n",
       "\n",
       "    .dataframe thead th {\n",
       "        text-align: right;\n",
       "    }\n",
       "</style>\n",
       "<table border=\"1\" class=\"dataframe\">\n",
       "  <thead>\n",
       "    <tr style=\"text-align: right;\">\n",
       "      <th></th>\n",
       "      <th>SN2</th>\n",
       "      <th>WODollarTotal</th>\n",
       "      <th>Age_In_Months_From_DBS</th>\n",
       "      <th>Age_In_Months_From_Delivery</th>\n",
       "      <th>Age_In_Months_From_DBS_Delivery</th>\n",
       "      <th>Age_In_Months_From_Delivery_DBS</th>\n",
       "    </tr>\n",
       "  </thead>\n",
       "  <tbody>\n",
       "    <tr>\n",
       "      <td>count</td>\n",
       "      <td>433.000000</td>\n",
       "      <td>433.000000</td>\n",
       "      <td>189.000000</td>\n",
       "      <td>111.000000</td>\n",
       "      <td>189.000000</td>\n",
       "      <td>189.000000</td>\n",
       "    </tr>\n",
       "    <tr>\n",
       "      <td>mean</td>\n",
       "      <td>1950.307159</td>\n",
       "      <td>48220.505289</td>\n",
       "      <td>76.317460</td>\n",
       "      <td>64.153153</td>\n",
       "      <td>76.317460</td>\n",
       "      <td>76.317460</td>\n",
       "    </tr>\n",
       "    <tr>\n",
       "      <td>std</td>\n",
       "      <td>945.576417</td>\n",
       "      <td>63285.725260</td>\n",
       "      <td>30.462826</td>\n",
       "      <td>30.555225</td>\n",
       "      <td>30.462826</td>\n",
       "      <td>30.462826</td>\n",
       "    </tr>\n",
       "    <tr>\n",
       "      <td>min</td>\n",
       "      <td>138.000000</td>\n",
       "      <td>0.000000</td>\n",
       "      <td>24.000000</td>\n",
       "      <td>22.000000</td>\n",
       "      <td>24.000000</td>\n",
       "      <td>24.000000</td>\n",
       "    </tr>\n",
       "    <tr>\n",
       "      <td>25%</td>\n",
       "      <td>1037.000000</td>\n",
       "      <td>0.000000</td>\n",
       "      <td>48.000000</td>\n",
       "      <td>34.000000</td>\n",
       "      <td>48.000000</td>\n",
       "      <td>48.000000</td>\n",
       "    </tr>\n",
       "    <tr>\n",
       "      <td>50%</td>\n",
       "      <td>2446.000000</td>\n",
       "      <td>26690.670000</td>\n",
       "      <td>96.000000</td>\n",
       "      <td>54.000000</td>\n",
       "      <td>96.000000</td>\n",
       "      <td>96.000000</td>\n",
       "    </tr>\n",
       "    <tr>\n",
       "      <td>75%</td>\n",
       "      <td>2734.000000</td>\n",
       "      <td>71515.900000</td>\n",
       "      <td>96.000000</td>\n",
       "      <td>94.000000</td>\n",
       "      <td>96.000000</td>\n",
       "      <td>96.000000</td>\n",
       "    </tr>\n",
       "    <tr>\n",
       "      <td>max</td>\n",
       "      <td>7292.000000</td>\n",
       "      <td>498379.940000</td>\n",
       "      <td>120.000000</td>\n",
       "      <td>107.000000</td>\n",
       "      <td>120.000000</td>\n",
       "      <td>120.000000</td>\n",
       "    </tr>\n",
       "  </tbody>\n",
       "</table>\n",
       "</div>"
      ],
      "text/plain": [
       "               SN2  WODollarTotal  Age_In_Months_From_DBS  \\\n",
       "count   433.000000     433.000000              189.000000   \n",
       "mean   1950.307159   48220.505289               76.317460   \n",
       "std     945.576417   63285.725260               30.462826   \n",
       "min     138.000000       0.000000               24.000000   \n",
       "25%    1037.000000       0.000000               48.000000   \n",
       "50%    2446.000000   26690.670000               96.000000   \n",
       "75%    2734.000000   71515.900000               96.000000   \n",
       "max    7292.000000  498379.940000              120.000000   \n",
       "\n",
       "       Age_In_Months_From_Delivery  Age_In_Months_From_DBS_Delivery  \\\n",
       "count                   111.000000                       189.000000   \n",
       "mean                     64.153153                        76.317460   \n",
       "std                      30.555225                        30.462826   \n",
       "min                      22.000000                        24.000000   \n",
       "25%                      34.000000                        48.000000   \n",
       "50%                      54.000000                        96.000000   \n",
       "75%                      94.000000                        96.000000   \n",
       "max                     107.000000                       120.000000   \n",
       "\n",
       "       Age_In_Months_From_Delivery_DBS  \n",
       "count                       189.000000  \n",
       "mean                         76.317460  \n",
       "std                          30.462826  \n",
       "min                          24.000000  \n",
       "25%                          48.000000  \n",
       "50%                          96.000000  \n",
       "75%                          96.000000  \n",
       "max                         120.000000  "
      ]
     },
     "execution_count": 4,
     "metadata": {},
     "output_type": "execute_result"
    }
   ],
   "source": [
    "# Testing with BZY\n",
    "BZY = df.drop(df.index[df.SN1 != 'BZY'])\n",
    "BZY.describe()"
   ]
  },
  {
   "cell_type": "code",
   "execution_count": 5,
   "metadata": {
    "ExecuteTime": {
     "end_time": "2020-05-25T10:59:49.862545Z",
     "start_time": "2020-05-25T10:59:49.857517Z"
    }
   },
   "outputs": [
    {
     "data": {
      "text/plain": [
       "Index(['SerialNumber', 'SN1', 'SN2', 'ModelName', 'WODollarTotal',\n",
       "       'Age_In_Months_From_DBS', 'Age_In_Months_From_Delivery',\n",
       "       'Age_In_Months_From_DBS_Delivery', 'Age_In_Months_From_Delivery_DBS'],\n",
       "      dtype='object')"
      ]
     },
     "execution_count": 5,
     "metadata": {},
     "output_type": "execute_result"
    }
   ],
   "source": [
    "#Print out columns for copy and paste\n",
    "BZY.columns"
   ]
  },
  {
   "cell_type": "code",
   "execution_count": 6,
   "metadata": {
    "ExecuteTime": {
     "end_time": "2020-05-25T10:59:50.638831Z",
     "start_time": "2020-05-25T10:59:50.634803Z"
    }
   },
   "outputs": [],
   "source": [
    "#First play with Age_From_DBS. I need SN2 for matching and drop everything else.\n",
    "Explore = BZY.drop(['SerialNumber', 'SN1'\n",
    "#                     , 'SN2'\n",
    "                    ,'WODollarTotal'\n",
    "                    , 'ModelName'\n",
    "#                     , 'Age_In_Months_From_DBS'\n",
    "                    ,'Age_In_Months_From_Delivery'\n",
    "                    , 'Age_In_Months_From_DBS_Delivery'\n",
    "                    ,'Age_In_Months_From_Delivery_DBS'],axis=1)"
   ]
  },
  {
   "cell_type": "code",
   "execution_count": 7,
   "metadata": {
    "ExecuteTime": {
     "end_time": "2020-05-25T10:59:52.170418Z",
     "start_time": "2020-05-25T10:59:52.165431Z"
    }
   },
   "outputs": [
    {
     "data": {
      "text/plain": [
       "Index(['SN2', 'Age_In_Months_From_DBS'], dtype='object')"
      ]
     },
     "execution_count": 7,
     "metadata": {},
     "output_type": "execute_result"
    }
   ],
   "source": [
    "#Check columns again\n",
    "Explore.columns"
   ]
  },
  {
   "cell_type": "code",
   "execution_count": 8,
   "metadata": {
    "ExecuteTime": {
     "end_time": "2020-05-25T10:59:54.168576Z",
     "start_time": "2020-05-25T10:59:52.827584Z"
    },
    "scrolled": false
   },
   "outputs": [
    {
     "name": "stderr",
     "output_type": "stream",
     "text": [
      "C:\\Users\\julianyang\\AppData\\Local\\Continuum\\anaconda3\\lib\\site-packages\\numpy\\lib\\histograms.py:824: RuntimeWarning: invalid value encountered in greater_equal\n",
      "  keep = (tmp_a >= first_edge)\n",
      "C:\\Users\\julianyang\\AppData\\Local\\Continuum\\anaconda3\\lib\\site-packages\\numpy\\lib\\histograms.py:825: RuntimeWarning: invalid value encountered in less_equal\n",
      "  keep &= (tmp_a <= last_edge)\n"
     ]
    },
    {
     "data": {
      "text/plain": [
       "<seaborn.axisgrid.PairGrid at 0x1e2f7bc7f88>"
      ]
     },
     "execution_count": 8,
     "metadata": {},
     "output_type": "execute_result"
    },
    {
     "data": {
      "image/png": "[encoded data removed]",
      "text/plain": [
       "<Figure size 576x576 with 6 Axes>"
      ]
     },
     "metadata": {
      "needs_background": "light"
     },
     "output_type": "display_data"
    }
   ],
   "source": [
    "#Check scatter plot and distribution\n",
    "sns.pairplot(Explore, kind='reg', diag_kind='hist',\n",
    "height=4, aspect=1,\n",
    "plot_kws={'scatter_kws': {'alpha': 0.7}})"
   ]
  },
  {
   "cell_type": "markdown",
   "metadata": {
    "ExecuteTime": {
     "end_time": "2020-05-25T10:07:52.207029Z",
     "start_time": "2020-05-25T10:07:52.204036Z"
    },
    "heading_collapsed": true,
    "scrolled": true
   },
   "source": [
    "## From the scatter, i can tell this is not exactly a linear relationship. Do a few more.\n"
   ]
  },
  {
   "cell_type": "code",
   "execution_count": null,
   "metadata": {
    "ExecuteTime": {
     "end_time": "2020-05-25T10:07:54.608127Z",
     "start_time": "2020-05-25T10:07:53.898513Z"
    },
    "hidden": true
   },
   "outputs": [],
   "source": [
    "RKB = df.drop(df.index[df.SN1 != 'RKB'])\n",
    "\n",
    "Explore = RKB.drop(['SerialNumber', 'SN1'\n",
    "#                     , 'SN2'\n",
    "                    ,'WODollarTotal'\n",
    "                    , 'ModelName'\n",
    "#                     , 'Age_In_Months_From_DBS'\n",
    "                    ,'Age_In_Months_From_Delivery'\n",
    "                    , 'Age_In_Months_From_DBS_Delivery'\n",
    "                    ,'Age_In_Months_From_Delivery_DBS'],axis=1)\n",
    "sns.pairplot(Explore, kind='reg', diag_kind='hist', height=4, aspect=1, plot_kws={'scatter_kws': {'alpha': 0.7}}) "
   ]
  },
  {
   "cell_type": "code",
   "execution_count": null,
   "metadata": {
    "ExecuteTime": {
     "end_time": "2020-05-25T10:07:56.925441Z",
     "start_time": "2020-05-25T10:07:56.122087Z"
    },
    "hidden": true
   },
   "outputs": [],
   "source": [
    "SPN = df.drop(df.index[df.SN1 != 'SPN'])\n",
    "\n",
    "Explore = SPN.drop(['SerialNumber', 'SN1'\n",
    "#                     , 'SN2'\n",
    "                    ,'WODollarTotal'\n",
    "                    , 'ModelName'\n",
    "#                     , 'Age_In_Months_From_DBS'\n",
    "                    ,'Age_In_Months_From_Delivery'\n",
    "                    , 'Age_In_Months_From_DBS_Delivery'\n",
    "                    ,'Age_In_Months_From_Delivery_DBS'],axis=1)\n",
    "sns.pairplot(Explore, kind='reg', diag_kind='hist', height=4, aspect=1, plot_kws={'scatter_kws': {'alpha': 0.7}}) "
   ]
  },
  {
   "cell_type": "code",
   "execution_count": null,
   "metadata": {
    "ExecuteTime": {
     "end_time": "2020-05-25T10:07:58.409974Z",
     "start_time": "2020-05-25T10:07:57.675434Z"
    },
    "hidden": true
   },
   "outputs": [],
   "source": [
    "EMB = df.drop(df.index[df.SN1 != 'EMB'])\n",
    "\n",
    "Explore = EMB.drop(['SerialNumber', 'SN1'\n",
    "#                     , 'SN2'\n",
    "                    ,'WODollarTotal'\n",
    "                    , 'ModelName'\n",
    "#                     , 'Age_In_Months_From_DBS'\n",
    "                    ,'Age_In_Months_From_Delivery'\n",
    "                    , 'Age_In_Months_From_DBS_Delivery'\n",
    "                    ,'Age_In_Months_From_Delivery_DBS'],axis=1)\n",
    "sns.pairplot(Explore, kind='reg', diag_kind='hist', height=4, aspect=1, plot_kws={'scatter_kws': {'alpha': 0.7}}) "
   ]
  },
  {
   "cell_type": "code",
   "execution_count": null,
   "metadata": {
    "ExecuteTime": {
     "end_time": "2020-05-25T10:08:00.031194Z",
     "start_time": "2020-05-25T10:07:59.247263Z"
    },
    "hidden": true
   },
   "outputs": [],
   "source": [
    "B1M = df.drop(df.index[df.SN1 != 'B1M'])\n",
    "Explore = B1M.drop(['SerialNumber', 'SN1'\n",
    "#                     , 'SN2'\n",
    "                    ,'WODollarTotal'\n",
    "                    , 'ModelName'\n",
    "#                     , 'Age_In_Months_From_DBS'\n",
    "                    ,'Age_In_Months_From_Delivery'\n",
    "                    , 'Age_In_Months_From_DBS_Delivery'\n",
    "                    ,'Age_In_Months_From_Delivery_DBS'],axis=1)\n",
    "sns.pairplot(Explore, kind='reg', diag_kind='hist', height=4, aspect=1, plot_kws={'scatter_kws': {'alpha': 0.7}}) "
   ]
  },
  {
   "cell_type": "code",
   "execution_count": null,
   "metadata": {
    "ExecuteTime": {
     "end_time": "2020-05-25T10:08:02.115641Z",
     "start_time": "2020-05-25T10:08:01.218523Z"
    },
    "hidden": true
   },
   "outputs": [],
   "source": [
    "TZA = df.drop(df.index[df.SN1 != 'TZA'])\n",
    "Explore = TZA.drop(['SerialNumber', 'SN1'\n",
    "#                     , 'SN2'\n",
    "                    ,'WODollarTotal'\n",
    "                    , 'ModelName'\n",
    "#                     , 'Age_In_Months_From_DBS'\n",
    "                    ,'Age_In_Months_From_Delivery'\n",
    "                    , 'Age_In_Months_From_DBS_Delivery'\n",
    "                    ,'Age_In_Months_From_Delivery_DBS'],axis=1)\n",
    "sns.pairplot(Explore, kind='reg', diag_kind='hist', height=4, aspect=1, plot_kws={'scatter_kws': {'alpha': 0.7}}) "
   ]
  },
  {
   "cell_type": "markdown",
   "metadata": {},
   "source": [
    "# Model"
   ]
  },
  {
   "cell_type": "code",
   "execution_count": 9,
   "metadata": {
    "ExecuteTime": {
     "end_time": "2020-05-25T11:00:13.047222Z",
     "start_time": "2020-05-25T11:00:13.042234Z"
    }
   },
   "outputs": [],
   "source": [
    "#Since we are filling missing data in a sequencial curce, I decided to use interpolation function to estimate cat production rate.\n",
    "Data_found = Explore.dropna()"
   ]
  },
  {
   "cell_type": "code",
   "execution_count": 10,
   "metadata": {
    "ExecuteTime": {
     "end_time": "2020-05-25T11:00:14.169509Z",
     "start_time": "2020-05-25T11:00:14.163488Z"
    }
   },
   "outputs": [],
   "source": [
    "#Convert both SN2 and age to interger. I don't kno\n",
    "X = Data_found[['SN2']].squeeze()\n",
    "Y = Data_found[['Age_In_Months_From_DBS']].squeeze()\n",
    "X = X.astype(int)\n",
    "Y = Y.astype(int)"
   ]
  },
  {
   "cell_type": "code",
   "execution_count": 11,
   "metadata": {
    "ExecuteTime": {
     "end_time": "2020-05-25T11:00:15.364532Z",
     "start_time": "2020-05-25T11:00:15.354559Z"
    }
   },
   "outputs": [],
   "source": [
    "from scipy import interpolate\n",
    "from scipy.interpolate import *\n",
    "\n",
    "# Scipy learn interp1d\n",
    "model = interp1d(X, Y,kind='linear',fill_value=\"extrapolate\")\n",
    "\n",
    "#Scipy developer note: #Note.  At the end i will test different interpolation \"kind\" by comparing linear regression errors.\n",
    "#Note2: kind: str or int, optional\n",
    "# Specifies the kind of interpolation as a string (‘linear’, ‘nearest’, ‘zero’, ‘slinear’, ‘quadratic’, ‘cubic’, ‘previous’, ‘next’, where ‘zero’, ‘slinear’, ‘quadratic’ and ‘cubic’ refer to a spline interpolation of zeroth, first, second or third order; ‘previous’ and ‘next’ simply return the previous or next value of the point) or as an integer specifying the order of the spline interpolator to use. Default is ‘linear’."
   ]
  },
  {
   "cell_type": "code",
   "execution_count": 12,
   "metadata": {
    "ExecuteTime": {
     "end_time": "2020-05-25T11:00:16.798698Z",
     "start_time": "2020-05-25T11:00:16.652080Z"
    },
    "scrolled": false
   },
   "outputs": [],
   "source": [
    "# Predict all machines in explore which i did not drop na\n",
    "Predict = Explore\n",
    "for idx in Predict.index.values:\n",
    "    Predict.loc[idx, 'Predicted_Age_By_DBS_Year'] = model(Predict.loc[idx, 'SN2'])"
   ]
  },
  {
   "cell_type": "code",
   "execution_count": 13,
   "metadata": {
    "ExecuteTime": {
     "end_time": "2020-05-25T11:00:17.884110Z",
     "start_time": "2020-05-25T11:00:17.876169Z"
    }
   },
   "outputs": [
    {
     "name": "stdout",
     "output_type": "stream",
     "text": [
      "                  SN2  Age_In_Months_From_DBS  Predicted_Age_By_DBS_Year\n",
      "EquipmentCode                                                           \n",
      "443287          586.0                   108.0                      108.0\n",
      "491919          787.0                   108.0                      108.0\n",
      "547589         1037.0                    96.0                       96.0\n",
      "722765         2595.0                    60.0                       60.0\n",
      "800834          643.0                   108.0                      108.0\n",
      "...               ...                     ...                        ...\n",
      "179482         2831.0                    24.0                       24.0\n",
      "179483         2832.0                    24.0                       24.0\n",
      "179484         2843.0                    24.0                       24.0\n",
      "179485         2844.0                    24.0                       24.0\n",
      "435684         2291.0                    84.0                       84.0\n",
      "\n",
      "[189 rows x 3 columns]\n"
     ]
    }
   ],
   "source": [
    "# Check Output\n",
    "Check_Output = Predict.dropna()\n",
    "print(Check_Output)"
   ]
  },
  {
   "cell_type": "code",
   "execution_count": 14,
   "metadata": {
    "ExecuteTime": {
     "end_time": "2020-05-25T11:00:24.363993Z",
     "start_time": "2020-05-25T11:00:23.290808Z"
    }
   },
   "outputs": [
    {
     "data": {
      "text/plain": [
       "<seaborn.axisgrid.PairGrid at 0x1e2f5503608>"
      ]
     },
     "execution_count": 14,
     "metadata": {},
     "output_type": "execute_result"
    },
    {
     "data": {
      "image/png": "[encoded data removed]",
      "text/plain": [
       "<Figure size 576x576 with 6 Axes>"
      ]
     },
     "metadata": {
      "needs_background": "light"
     },
     "output_type": "display_data"
    }
   ],
   "source": [
    "Check_Output = Check_Output.drop(['SN2'],axis=1)\n",
    "\n",
    "sns.pairplot(Check_Output, kind='reg', diag_kind='hist', height=4, aspect=1, plot_kws={'scatter_kws': {'alpha': 0.7}}) "
   ]
  },
  {
   "cell_type": "markdown",
   "metadata": {
    "heading_collapsed": true
   },
   "source": [
    "## Smoothing kind and error tests"
   ]
  },
  {
   "cell_type": "markdown",
   "metadata": {
    "hidden": true
   },
   "source": [
    "### Test Conclusion: Use nearest because of extrapolation values. For instance: RKB03000 and RKB10100 are similiar age. However linear | delivery is more valuable in certain situations"
   ]
  },
  {
   "cell_type": "markdown",
   "metadata": {
    "heading_collapsed": true,
    "hidden": true
   },
   "source": [
    "### linear"
   ]
  },
  {
   "cell_type": "code",
   "execution_count": null,
   "metadata": {
    "ExecuteTime": {
     "end_time": "2020-05-24T13:44:39.166976Z",
     "start_time": "2020-05-24T13:44:38.621385Z"
    },
    "hidden": true,
    "scrolled": true
   },
   "outputs": [],
   "source": [
    "Results = pd.DataFrame()\n",
    "\n",
    "for x in Prefix:\n",
    "    Looping_Prefix = df.drop(df.index[df.SN1 != x])\n",
    "    Looping_Prefix = Looping_Prefix.drop(['SerialNumber', 'SN1'                    , 'ModelName'                    ,'Age_From_Delivery'                    , 'Combined_Age_Pro_Built_Year','Combined_Age_Pro_Delivery'],axis=1)\n",
    "\n",
    "# #     print('Training data selection complete, starting prefix:',x)\n",
    "        \n",
    "    Train = Looping_Prefix.dropna()\n",
    "    X = Train[['SN2']].squeeze()\n",
    "    Y = Train[['Age_From_DBS']].squeeze()\n",
    "    X = X.astype(int)\n",
    "    Y = Y.astype(int)\n",
    "    model = interp1d(X, Y,kind='linear',fill_value=\"extrapolate\")\\\n",
    "    \n",
    "#Scipy developer note: Note.  At the end i will test different interpolation \"kind\" by comparing linear regression errors.\n",
    "#Note2: kind: str or int, optional\n",
    "# Specifies the kind of interpolation as a string (‘linear’, ‘nearest’, ‘zero’, ‘slinear’, ‘quadratic’, ‘cubic’, ‘previous’, ‘next’, where ‘zero’, ‘slinear’, ‘quadratic’ and ‘cubic’ refer to a spline interpolation of zeroth, first, second or third order; ‘previous’ and ‘next’ simply return the previous or next value of the point) or as an integer specifying the order of the spline interpolator to use. Default is ‘linear’.\n",
    "    \n",
    "    print('Training complete')\n",
    "    \n",
    "    Predict = Looping_Prefix\n",
    "    for idx in Predict.index.values:\n",
    "        Predict.loc[idx, 'Predicted_Age_By_DBS_Year'] = model(Predict.loc[idx, 'SN2'])\n",
    "        \n",
    "#         print('Prediction complete')\n",
    "        \n",
    "    Results = Results.append([Predict])\n",
    "    \n",
    "    print('Appending final results complete')\n",
    "Results.describe()"
   ]
  },
  {
   "cell_type": "markdown",
   "metadata": {
    "heading_collapsed": true,
    "hidden": true
   },
   "source": [
    "### nearest"
   ]
  },
  {
   "cell_type": "code",
   "execution_count": null,
   "metadata": {
    "ExecuteTime": {
     "end_time": "2020-05-24T13:49:30.879147Z",
     "start_time": "2020-05-24T13:49:30.390413Z"
    },
    "hidden": true,
    "scrolled": true
   },
   "outputs": [],
   "source": [
    "Results = pd.DataFrame()\n",
    "for x in Prefix:\n",
    "    Looping_Prefix = df.drop(df.index[df.SN1 != x])\n",
    "    Looping_Prefix = Looping_Prefix.drop(['SerialNumber', 'SN1'                    , 'ModelName'                    ,'Age_From_Delivery'                    , 'Combined_Age_Pro_Built_Year','Combined_Age_Pro_Delivery'],axis=1)\n",
    "\n",
    "        \n",
    "    Train = Looping_Prefix.dropna()\n",
    "    X = Train[['SN2']].squeeze()\n",
    "    Y = Train[['Age_From_DBS']].squeeze()\n",
    "    X = X.astype(int)\n",
    "    Y = Y.astype(int)\n",
    "    model = interp1d(X, Y,kind='nearest',fill_value=\"extrapolate\")\\\n",
    "    \n",
    "#Scipy developer note: Note.  At the end i will test different interpolation \"kind\" by comparing linear regression errors.\n",
    "#Note2: kind: str or int, optional\n",
    "# Specifies the kind of interpolation as a string (‘linear’, ‘nearest’, ‘zero’, ‘slinear’, ‘quadratic’, ‘cubic’, ‘previous’, ‘next’, where ‘zero’, ‘slinear’, ‘quadratic’ and ‘cubic’ refer to a spline interpolation of zeroth, first, second or third order; ‘previous’ and ‘next’ simply return the previous or next value of the point) or as an integer specifying the order of the spline interpolator to use. Default is ‘linear’.\n",
    "    \n",
    "    \n",
    "    Predict = Looping_Prefix\n",
    "    for idx in Predict.index.values:\n",
    "        Predict.loc[idx, 'Predicted_Age_By_DBS_Year'] = model(Predict.loc[idx, 'SN2'])\n",
    "        \n",
    "        \n",
    "    Results = Results.append([Predict])\n",
    "    \n",
    "Results.describe()\n",
    "# Results.to_csv('..\\\\data\\\\Output\\\\Age_Predict.csv')"
   ]
  },
  {
   "cell_type": "markdown",
   "metadata": {},
   "source": [
    "# Loop"
   ]
  },
  {
   "cell_type": "code",
   "execution_count": 1,
   "metadata": {
    "ExecuteTime": {
     "end_time": "2020-05-25T10:44:22.247110Z",
     "start_time": "2020-05-25T10:44:21.468689Z"
    }
   },
   "outputs": [],
   "source": [
    "#Libraries\n",
    "import pandas as pd\n",
    "import seaborn as sns\n",
    "from scipy import stats\n",
    "import statsmodels.api as sm\n",
    "import math\n",
    "from sklearn.metrics import mean_squared_error, mean_absolute_error\n",
    "from scipy import interpolate\n",
    "from scipy.interpolate import *"
   ]
  },
  {
   "cell_type": "code",
   "execution_count": 3,
   "metadata": {
    "ExecuteTime": {
     "end_time": "2020-05-25T10:44:42.211810Z",
     "start_time": "2020-05-25T10:44:35.035450Z"
    }
   },
   "outputs": [],
   "source": [
    "#Read data\n",
    "df = pd.read_excel('..\\\\data\\\\Equipment_Age_SQL_Export.xlsx', index_col='EquipmentCode')\n",
    "Prefix = list(dict.fromkeys(list(df['SN1'])))"
   ]
  },
  {
   "cell_type": "code",
   "execution_count": 4,
   "metadata": {
    "ExecuteTime": {
     "end_time": "2020-05-25T10:44:43.199179Z",
     "start_time": "2020-05-25T10:44:43.195189Z"
    }
   },
   "outputs": [
    {
     "data": {
      "text/plain": [
       "(93283, 9)"
      ]
     },
     "execution_count": 4,
     "metadata": {},
     "output_type": "execute_result"
    }
   ],
   "source": [
    "df.shape"
   ]
  },
  {
   "cell_type": "code",
   "execution_count": 5,
   "metadata": {
    "ExecuteTime": {
     "end_time": "2020-05-25T10:51:35.114847Z",
     "start_time": "2020-05-25T10:44:44.556557Z"
    },
    "scrolled": false
   },
   "outputs": [
    {
     "name": "stderr",
     "output_type": "stream",
     "text": [
      "C:\\Users\\yyjj\\anaconda3\\lib\\site-packages\\scipy\\stats\\stats.py:2416: RuntimeWarning: Mean of empty slice.\n",
      "  mns = a.mean(axis=axis, keepdims=True)\n",
      "C:\\Users\\yyjj\\anaconda3\\lib\\site-packages\\numpy\\core\\_methods.py:154: RuntimeWarning: invalid value encountered in true_divide\n",
      "  ret, rcount, out=ret, casting='unsafe', subok=False)\n",
      "C:\\Users\\yyjj\\anaconda3\\lib\\site-packages\\numpy\\core\\_methods.py:217: RuntimeWarning: Degrees of freedom <= 0 for slice\n",
      "  keepdims=keepdims)\n",
      "C:\\Users\\yyjj\\anaconda3\\lib\\site-packages\\numpy\\core\\_methods.py:186: RuntimeWarning: invalid value encountered in true_divide\n",
      "  arrmean, rcount, out=arrmean, casting='unsafe', subok=False)\n",
      "C:\\Users\\yyjj\\anaconda3\\lib\\site-packages\\numpy\\core\\_methods.py:207: RuntimeWarning: invalid value encountered in true_divide\n",
      "  ret, rcount, out=ret, casting='unsafe', subok=False)\n",
      "C:\\Users\\yyjj\\anaconda3\\lib\\site-packages\\scipy\\stats\\stats.py:2419: RuntimeWarning: invalid value encountered in true_divide\n",
      "  return (a - mns) / sstd\n",
      "C:\\Users\\yyjj\\anaconda3\\lib\\site-packages\\ipykernel_launcher.py:53: RuntimeWarning: invalid value encountered in less\n",
      "C:\\Users\\yyjj\\anaconda3\\lib\\site-packages\\ipykernel_launcher.py:55: RuntimeWarning: invalid value encountered in less\n",
      "C:\\Users\\yyjj\\anaconda3\\lib\\site-packages\\ipykernel_launcher.py:56: RuntimeWarning: invalid value encountered in less\n",
      "C:\\Users\\yyjj\\anaconda3\\lib\\site-packages\\ipykernel_launcher.py:54: RuntimeWarning: invalid value encountered in less\n"
     ]
    },
    {
     "name": "stdout",
     "output_type": "stream",
     "text": [
      "All estimation completed. Ready to export\n"
     ]
    }
   ],
   "source": [
    "Output = pd.DataFrame()\n",
    "\n",
    "#Loop by prefix, drop all machines not being looped by prefix\n",
    "for x in Prefix:\n",
    "    Looped_Eq = df.drop(df.index[df.SN1 != x]) \n",
    "\n",
    "    Prediction = Looped_Eq\n",
    "    \n",
    "#Create 4 different data sets at different size after dropna    \n",
    "    Train_DBS = Looped_Eq.drop(['SerialNumber', 'SN1'\n",
    "#                     , 'SN2'\n",
    "                    ,'WODollarTotal'\n",
    "                    , 'ModelName'\n",
    "#                     , 'Age_In_Months_From_DBS'\n",
    "                    ,'Age_In_Months_From_Delivery'\n",
    "                    , 'Age_In_Months_From_DBS_Delivery'\n",
    "                    ,'Age_In_Months_From_Delivery_DBS'],axis=1)\n",
    "\n",
    "    Train_Delivery = Looped_Eq.drop(['SerialNumber', 'SN1'\n",
    "#                     , 'SN2'\n",
    "                    ,'WODollarTotal'\n",
    "                    , 'ModelName'\n",
    "                    , 'Age_In_Months_From_DBS'\n",
    "#                     ,'Age_In_Months_From_Delivery'\n",
    "                    , 'Age_In_Months_From_DBS_Delivery'\n",
    "                    ,'Age_In_Months_From_Delivery_DBS'],axis=1)\n",
    "\n",
    "    Train_DBS_Delivery = Looped_Eq.drop(['SerialNumber', 'SN1'\n",
    "#                     , 'SN2'\n",
    "                    ,'WODollarTotal'\n",
    "                    , 'ModelName'\n",
    "                    , 'Age_In_Months_From_DBS'\n",
    "                    ,'Age_In_Months_From_Delivery'\n",
    "                    # , 'Age_In_Months_From_DBS_Delivery'\n",
    "                    ,'Age_In_Months_From_Delivery_DBS'\n",
    "                           ],axis=1)\n",
    "\n",
    "    Train_Delivery_DBS = Looped_Eq.drop(['SerialNumber', 'SN1'\n",
    "#                     , 'SN2'\n",
    "                    ,'WODollarTotal'\n",
    "                    , 'ModelName'\n",
    "                    , 'Age_In_Months_From_DBS'\n",
    "                    ,'Age_In_Months_From_Delivery'\n",
    "                    , 'Age_In_Months_From_DBS_Delivery'\n",
    "#                     ,'Age_In_Months_From_Delivery_DBS'\n",
    "                           ],axis=1)\n",
    "    Train_DBS = Train_DBS.dropna()\n",
    "    Train_Delivery = Train_Delivery.dropna()\n",
    "    Train_DBS_Delivery = Train_DBS_Delivery.dropna()        \n",
    "    Train_Delivery_DBS = Train_Delivery_DBS.dropna()\n",
    "    \n",
    "#Reduce errors for training data\n",
    "    New_Train_DBS = Train_DBS[(np.abs(stats.zscore(Train_DBS)) < 3).all(axis=1)]\n",
    "    New_Train_Delivery = Train_Delivery[(np.abs(stats.zscore(Train_Delivery)) < 3).all(axis=1)]\n",
    "    New_Train_DBS_Delivery = Train_DBS_Delivery[(np.abs(stats.zscore(Train_DBS_Delivery)) < 3).all(axis=1)]    \n",
    "    New_Train_Delivery_DBS = Train_Delivery_DBS[(np.abs(stats.zscore(Train_Delivery_DBS)) < 3).all(axis=1)]\n",
    "\n",
    "#Train 4 different models\n",
    "    X1 = New_Train_DBS[['SN2']].squeeze()\n",
    "    X1 = X1.astype(int)    \n",
    "    Y1 = New_Train_DBS[['Age_In_Months_From_DBS']].squeeze()\n",
    "    Y1 = Y1.astype(int)\n",
    "    X2 = New_Train_Delivery[['SN2']].squeeze()\n",
    "    X2 = X2.astype(int)    \n",
    "    Y2 = New_Train_Delivery[['Age_In_Months_From_Delivery']].squeeze()\n",
    "    Y2 = Y2.astype(int)    \n",
    "    X3 = New_Train_DBS_Delivery[['SN2']].squeeze()\n",
    "    X3 = X3.astype(int)    \n",
    "    Y3 = New_Train_DBS_Delivery[['Age_In_Months_From_DBS_Delivery']].squeeze()\n",
    "    Y3 = Y3.astype(int)    \n",
    "    X4 = New_Train_Delivery_DBS[['SN2']].squeeze()\n",
    "    X4 = X4.astype(int)    \n",
    "    Y4 = New_Train_Delivery_DBS[['Age_In_Months_From_Delivery_DBS']].squeeze()\n",
    "    Y4 = Y4.astype(int)    \n",
    "    \n",
    "    if New_Train_DBS.size > 0: \n",
    "        model1 = interp1d(X1, Y1,kind='nearest',fill_value=\"extrapolate\")\n",
    "    if New_Train_Delivery.size > 0: \n",
    "        model2 = interp1d(X2, Y2,kind='nearest',fill_value=\"extrapolate\")\n",
    "    if New_Train_DBS_Delivery.size > 0: \n",
    "        model3 = interp1d(X3, Y3,kind='nearest',fill_value=\"extrapolate\")\n",
    "    if New_Train_Delivery_DBS.size > 0:  \n",
    "        model4 = interp1d(X4, Y4,kind='nearest',fill_value=\"extrapolate\")\n",
    "\n",
    "# Apply model\n",
    "    for idx in Prediction.index.values:\n",
    "        if New_Train_DBS.size > 0:\n",
    "            Prediction.loc[idx, 'Predicted_Age_In_Months_From_DBS'] = model1(Prediction.loc[idx, 'SN2'])\n",
    "        if New_Train_Delivery.size > 0:\n",
    "            Prediction.loc[idx, 'Predicted_Age_In_Months_From_Delivery'] = model2(Prediction.loc[idx, 'SN2'])\n",
    "        if New_Train_DBS_Delivery.size > 0:\n",
    "            Prediction.loc[idx, 'Predicted_Age_In_Months_From_DBS_Delivery'] = model3(Prediction.loc[idx, 'SN2'])\n",
    "        if New_Train_Delivery_DBS.size > 0:\n",
    "            Prediction.loc[idx, 'Predicted_Age_In_Months_From_Delivery_DBS'] = model4(Prediction.loc[idx, 'SN2'])            \n",
    "#Append output            \n",
    "    Output = Output.append([Prediction])\n",
    "    Output = Output.drop_duplicates()\n",
    "    \n",
    "print('All estimation completed. Ready to export')"
   ]
  },
  {
   "cell_type": "code",
   "execution_count": 6,
   "metadata": {
    "ExecuteTime": {
     "end_time": "2020-05-25T10:53:58.235025Z",
     "start_time": "2020-05-25T10:53:57.569794Z"
    }
   },
   "outputs": [
    {
     "name": "stdout",
     "output_type": "stream",
     "text": [
      "Export completed\n"
     ]
    }
   ],
   "source": [
    "Output.to_csv('..\\\\data\\\\Output\\\\Age_Estimates_All.csv')\n",
    "print('Export completed')"
   ]
  },
  {
   "cell_type": "markdown",
   "metadata": {},
   "source": [
    "# Test"
   ]
  },
  {
   "cell_type": "code",
   "execution_count": 7,
   "metadata": {
    "ExecuteTime": {
     "end_time": "2020-05-25T10:54:04.193640Z",
     "start_time": "2020-05-25T10:54:04.189652Z"
    }
   },
   "outputs": [
    {
     "data": {
      "text/plain": [
       "Index(['SerialNumber', 'SN1', 'SN2', 'ModelName', 'WODollarTotal',\n",
       "       'Age_In_Months_From_DBS', 'Age_In_Months_From_Delivery',\n",
       "       'Age_In_Months_From_DBS_Delivery', 'Age_In_Months_From_Delivery_DBS',\n",
       "       'Predicted_Age_In_Months_From_DBS',\n",
       "       'Predicted_Age_In_Months_From_Delivery',\n",
       "       'Predicted_Age_In_Months_From_DBS_Delivery',\n",
       "       'Predicted_Age_In_Months_From_Delivery_DBS'],\n",
       "      dtype='object')"
      ]
     },
     "execution_count": 7,
     "metadata": {},
     "output_type": "execute_result"
    }
   ],
   "source": [
    "Output.columns"
   ]
  },
  {
   "cell_type": "code",
   "execution_count": 8,
   "metadata": {
    "ExecuteTime": {
     "end_time": "2020-05-25T10:54:04.864844Z",
     "start_time": "2020-05-25T10:54:04.847891Z"
    }
   },
   "outputs": [],
   "source": [
    "Test1 = Output.drop(['SN1'\n",
    "                    ,'SN2'\n",
    "                    ,'WODollarTotal'\n",
    "                    ,'ModelName'\n",
    "                    # ,'Age_In_Months_From_DBS'\n",
    "                    ,'Age_In_Months_From_Delivery'\n",
    "                    ,'Age_In_Months_From_DBS_Delivery'\n",
    "                    ,'Age_In_Months_From_Delivery_DBS'\n",
    "                    # ,'Predicted_Age_In_Months_From_DBS'\n",
    "                    ,'Predicted_Age_In_Months_From_Delivery'\n",
    "                    ,'Predicted_Age_In_Months_From_DBS_Delivery'\n",
    "                    ,'Predicted_Age_In_Months_From_Delivery_DBS'],axis=1)\n",
    "Test2 = Output.drop(['SN1'\n",
    "                    ,'SN2'\n",
    "                    ,'WODollarTotal'\n",
    "                    ,'ModelName'\n",
    "                    ,'Age_In_Months_From_DBS'\n",
    "                    # ,'Age_In_Months_From_Delivery'\n",
    "                    ,'Age_In_Months_From_DBS_Delivery'\n",
    "                    ,'Age_In_Months_From_Delivery_DBS'\n",
    "                    ,'Predicted_Age_In_Months_From_DBS'\n",
    "                    # ,'Predicted_Age_In_Months_From_Delivery'\n",
    "                    ,'Predicted_Age_In_Months_From_DBS_Delivery'\n",
    "                    ,'Predicted_Age_In_Months_From_Delivery_DBS'],axis=1)\n",
    "Test3 = Output.drop(['SN1'\n",
    "                    ,'SN2'\n",
    "                    ,'WODollarTotal'\n",
    "                    ,'ModelName'\n",
    "                    ,'Age_In_Months_From_DBS'\n",
    "                    ,'Age_In_Months_From_Delivery'\n",
    "                    # ,'Age_In_Months_From_DBS_Delivery'\n",
    "                    ,'Age_In_Months_From_Delivery_DBS'\n",
    "                    ,'Predicted_Age_In_Months_From_DBS'\n",
    "                    ,'Predicted_Age_In_Months_From_Delivery'\n",
    "                    # ,'Predicted_Age_In_Months_From_DBS_Delivery'\n",
    "                    ,'Predicted_Age_In_Months_From_Delivery_DBS'],axis=1)\n",
    "               \n",
    "Test4 = Output.drop(['SN1'\n",
    "                    ,'SN2'\n",
    "                    ,'WODollarTotal'\n",
    "                    ,'ModelName'\n",
    "                    ,'Age_In_Months_From_DBS'\n",
    "                    ,'Age_In_Months_From_Delivery'\n",
    "                    ,'Age_In_Months_From_DBS_Delivery'\n",
    "                    # ,'Age_In_Months_From_Delivery_DBS'\n",
    "                    ,'Predicted_Age_In_Months_From_DBS'\n",
    "                    ,'Predicted_Age_In_Months_From_Delivery'\n",
    "                    ,'Predicted_Age_In_Months_From_DBS_Delivery'\n",
    "                    # ,'Predicted_Age_In_Months_From_Delivery_DBS'\n",
    "                    ],axis=1)"
   ]
  },
  {
   "cell_type": "code",
   "execution_count": 9,
   "metadata": {
    "ExecuteTime": {
     "end_time": "2020-05-25T10:54:06.477549Z",
     "start_time": "2020-05-25T10:54:06.449624Z"
    }
   },
   "outputs": [
    {
     "name": "stdout",
     "output_type": "stream",
     "text": [
      "                                   OLS Regression Results                                  \n",
      "===========================================================================================\n",
      "Dep. Variable:     Age_In_Months_From_DBS   R-squared (uncentered):                   0.997\n",
      "Model:                                OLS   Adj. R-squared (uncentered):              0.997\n",
      "Method:                     Least Squares   F-statistic:                          1.800e+07\n",
      "Date:                    Mon, 25 May 2020   Prob (F-statistic):                        0.00\n",
      "Time:                            06:54:06   Log-Likelihood:                     -2.0534e+05\n",
      "No. Observations:                   50598   AIC:                                  4.107e+05\n",
      "Df Residuals:                       50597   BIC:                                  4.107e+05\n",
      "Df Model:                               1                                                  \n",
      "Covariance Type:                nonrobust                                                  \n",
      "====================================================================================================\n",
      "                                       coef    std err          t      P>|t|      [0.025      0.975]\n",
      "----------------------------------------------------------------------------------------------------\n",
      "Predicted_Age_In_Months_From_DBS     1.0009      0.000   4242.865      0.000       1.000       1.001\n",
      "==============================================================================\n",
      "Omnibus:                   121090.203   Durbin-Watson:                   0.958\n",
      "Prob(Omnibus):                  0.000   Jarque-Bera (JB):       1658383669.085\n",
      "Skew:                          24.647   Prob(JB):                         0.00\n",
      "Kurtosis:                     888.543   Cond. No.                         1.00\n",
      "==============================================================================\n",
      "\n",
      "Warnings:\n",
      "[1] Standard Errors assume that the covariance matrix of the errors is correctly specified.\n"
     ]
    }
   ],
   "source": [
    "Test1 = Test1.dropna()\n",
    "Y = Test1[['Age_In_Months_From_DBS']]\n",
    "X = Test1[['Predicted_Age_In_Months_From_DBS']]\n",
    "\n",
    "model = sm.OLS(Y, X)\n",
    "results = model.fit()\n",
    "\n",
    "print(results.summary())"
   ]
  },
  {
   "cell_type": "code",
   "execution_count": 10,
   "metadata": {
    "ExecuteTime": {
     "end_time": "2020-05-25T10:54:09.028742Z",
     "start_time": "2020-05-25T10:54:09.022758Z"
    }
   },
   "outputs": [
    {
     "name": "stdout",
     "output_type": "stream",
     "text": [
      "MSE 196.19494841693347\n",
      "MAE 0.7228744219139096\n",
      "RMSE 14.00696071305026\n"
     ]
    }
   ],
   "source": [
    "model_mse = mean_squared_error(Y, X)\n",
    "model_mae = mean_absolute_error(Y, X)\n",
    "model_rmse =  math.sqrt(model_mse)\n",
    "\n",
    "print(\"MSE {:3}\".format(model_mse))\n",
    "print(\"MAE {:3}\".format(model_mae))\n",
    "print(\"RMSE {:3}\".format(model_rmse))"
   ]
  },
  {
   "cell_type": "code",
   "execution_count": 11,
   "metadata": {
    "ExecuteTime": {
     "end_time": "2020-05-25T10:54:13.811008Z",
     "start_time": "2020-05-25T10:54:09.857030Z"
    }
   },
   "outputs": [
    {
     "data": {
      "text/plain": [
       "<seaborn.axisgrid.PairGrid at 0x12dc3867f48>"
      ]
     },
     "execution_count": 11,
     "metadata": {},
     "output_type": "execute_result"
    },
    {
     "data": {
      "image/png": "[encoded data removed]",
      "text/plain": [
       "<Figure size 432x432 with 6 Axes>"
      ]
     },
     "metadata": {
      "needs_background": "light"
     },
     "output_type": "display_data"
    }
   ],
   "source": [
    "sns.pairplot(Test1, kind='reg', diag_kind='hist',\n",
    "             height=3, aspect=1,\n",
    "             plot_kws={'scatter_kws': {'alpha': 0.7}})"
   ]
  },
  {
   "cell_type": "code",
   "execution_count": 12,
   "metadata": {
    "ExecuteTime": {
     "end_time": "2020-05-25T10:54:15.117522Z",
     "start_time": "2020-05-25T10:54:15.096577Z"
    }
   },
   "outputs": [
    {
     "name": "stdout",
     "output_type": "stream",
     "text": [
      "                                          OLS Regression Results                                          \n",
      "==========================================================================================================\n",
      "Dep. Variable:     Predicted_Age_In_Months_From_Delivery   R-squared (uncentered):                   0.997\n",
      "Model:                                               OLS   Adj. R-squared (uncentered):              0.997\n",
      "Method:                                    Least Squares   F-statistic:                          3.617e+06\n",
      "Date:                                   Mon, 25 May 2020   Prob (F-statistic):                        0.00\n",
      "Time:                                           06:54:15   Log-Likelihood:                         -36414.\n",
      "No. Observations:                                   9335   AIC:                                  7.283e+04\n",
      "Df Residuals:                                       9334   BIC:                                  7.284e+04\n",
      "Df Model:                                              1                                                  \n",
      "Covariance Type:                               nonrobust                                                  \n",
      "===============================================================================================\n",
      "                                  coef    std err          t      P>|t|      [0.025      0.975]\n",
      "-----------------------------------------------------------------------------------------------\n",
      "Age_In_Months_From_Delivery     0.9924      0.001   1901.744      0.000       0.991       0.993\n",
      "==============================================================================\n",
      "Omnibus:                    20526.090   Durbin-Watson:                   0.649\n",
      "Prob(Omnibus):                  0.000   Jarque-Bera (JB):         86301798.737\n",
      "Skew:                         -20.337   Prob(JB):                         0.00\n",
      "Kurtosis:                     472.281   Cond. No.                         1.00\n",
      "==============================================================================\n",
      "\n",
      "Warnings:\n",
      "[1] Standard Errors assume that the covariance matrix of the errors is correctly specified.\n"
     ]
    }
   ],
   "source": [
    "Test2 = Test2.dropna()\n",
    "X = Test2[['Age_In_Months_From_Delivery']]\n",
    "Y = Test2[['Predicted_Age_In_Months_From_Delivery']]\n",
    "\n",
    "model = sm.OLS(Y, X)\n",
    "results = model.fit()\n",
    "\n",
    "print(results.summary())"
   ]
  },
  {
   "cell_type": "code",
   "execution_count": 13,
   "metadata": {
    "ExecuteTime": {
     "end_time": "2020-05-25T10:54:16.264463Z",
     "start_time": "2020-05-25T10:54:16.257483Z"
    }
   },
   "outputs": [
    {
     "name": "stdout",
     "output_type": "stream",
     "text": [
      "MSE 146.3328334226031\n",
      "MAE 0.6940546331012319\n",
      "RMSE 12.096810878186163\n"
     ]
    }
   ],
   "source": [
    "model_mse = mean_squared_error(Y, X)\n",
    "model_mae = mean_absolute_error(Y, X)\n",
    "model_rmse =  math.sqrt(model_mse)\n",
    "\n",
    "print(\"MSE {:3}\".format(model_mse))\n",
    "print(\"MAE {:3}\".format(model_mae))\n",
    "print(\"RMSE {:3}\".format(model_rmse))"
   ]
  },
  {
   "cell_type": "code",
   "execution_count": 14,
   "metadata": {
    "ExecuteTime": {
     "end_time": "2020-05-25T10:54:18.484533Z",
     "start_time": "2020-05-25T10:54:17.320637Z"
    }
   },
   "outputs": [
    {
     "data": {
      "text/plain": [
       "<seaborn.axisgrid.PairGrid at 0x12dc18509c8>"
      ]
     },
     "execution_count": 14,
     "metadata": {},
     "output_type": "execute_result"
    },
    {
     "data": {
      "image/png": "[encoded data removed]",
      "text/plain": [
       "<Figure size 432x432 with 6 Axes>"
      ]
     },
     "metadata": {
      "needs_background": "light"
     },
     "output_type": "display_data"
    }
   ],
   "source": [
    "sns.pairplot(Test2, kind='reg', diag_kind='hist',\n",
    "             height=3, aspect=1,\n",
    "             plot_kws={'scatter_kws': {'alpha': 0.7}})"
   ]
  },
  {
   "cell_type": "code",
   "execution_count": 15,
   "metadata": {
    "ExecuteTime": {
     "end_time": "2020-05-25T10:54:19.622488Z",
     "start_time": "2020-05-25T10:54:19.596557Z"
    }
   },
   "outputs": [
    {
     "name": "stdout",
     "output_type": "stream",
     "text": [
      "                                            OLS Regression Results                                            \n",
      "==============================================================================================================\n",
      "Dep. Variable:     Predicted_Age_In_Months_From_DBS_Delivery   R-squared (uncentered):                   0.997\n",
      "Model:                                                   OLS   Adj. R-squared (uncentered):              0.997\n",
      "Method:                                        Least Squares   F-statistic:                          1.793e+07\n",
      "Date:                                       Mon, 25 May 2020   Prob (F-statistic):                        0.00\n",
      "Time:                                               06:54:19   Log-Likelihood:                     -2.0535e+05\n",
      "No. Observations:                                      50603   AIC:                                  4.107e+05\n",
      "Df Residuals:                                          50602   BIC:                                  4.107e+05\n",
      "Df Model:                                                  1                                                  \n",
      "Covariance Type:                                   nonrobust                                                  \n",
      "===================================================================================================\n",
      "                                      coef    std err          t      P>|t|      [0.025      0.975]\n",
      "---------------------------------------------------------------------------------------------------\n",
      "Age_In_Months_From_DBS_Delivery     0.9963      0.000   4234.804      0.000       0.996       0.997\n",
      "==============================================================================\n",
      "Omnibus:                   120522.120   Durbin-Watson:                   0.960\n",
      "Prob(Omnibus):                  0.000   Jarque-Bera (JB):       1615059781.412\n",
      "Skew:                         -24.354   Prob(JB):                         0.00\n",
      "Kurtosis:                     876.853   Cond. No.                         1.00\n",
      "==============================================================================\n",
      "\n",
      "Warnings:\n",
      "[1] Standard Errors assume that the covariance matrix of the errors is correctly specified.\n"
     ]
    }
   ],
   "source": [
    "Test3 = Test3.dropna()\n",
    "X = Test3[['Age_In_Months_From_DBS_Delivery']]\n",
    "Y = Test3[['Predicted_Age_In_Months_From_DBS_Delivery']]\n",
    "\n",
    "model = sm.OLS(Y, X)\n",
    "results = model.fit()\n",
    "\n",
    "print(results.summary())"
   ]
  },
  {
   "cell_type": "code",
   "execution_count": 16,
   "metadata": {
    "ExecuteTime": {
     "end_time": "2020-05-25T10:54:20.631304Z",
     "start_time": "2020-05-25T10:54:20.624323Z"
    }
   },
   "outputs": [
    {
     "name": "stdout",
     "output_type": "stream",
     "text": [
      "MSE 196.9704760587317\n",
      "MAE 0.7283955496709681\n",
      "RMSE 14.03461706134983\n"
     ]
    }
   ],
   "source": [
    "model_mse = mean_squared_error(Y, X)\n",
    "model_mae = mean_absolute_error(Y, X)\n",
    "model_rmse =  math.sqrt(model_mse)\n",
    "\n",
    "print(\"MSE {:3}\".format(model_mse))\n",
    "print(\"MAE {:3}\".format(model_mae))\n",
    "print(\"RMSE {:3}\".format(model_rmse))"
   ]
  },
  {
   "cell_type": "code",
   "execution_count": 17,
   "metadata": {
    "ExecuteTime": {
     "end_time": "2020-05-25T10:54:26.455765Z",
     "start_time": "2020-05-25T10:54:21.847073Z"
    }
   },
   "outputs": [
    {
     "data": {
      "text/plain": [
       "<seaborn.axisgrid.PairGrid at 0x12dc18ac808>"
      ]
     },
     "execution_count": 17,
     "metadata": {},
     "output_type": "execute_result"
    },
    {
     "data": {
      "image/png": "[encoded data removed]",
      "text/plain": [
       "<Figure size 432x432 with 6 Axes>"
      ]
     },
     "metadata": {
      "needs_background": "light"
     },
     "output_type": "display_data"
    }
   ],
   "source": [
    "sns.pairplot(Test3, kind='reg', diag_kind='hist',\n",
    "             height=3, aspect=1,\n",
    "             plot_kws={'scatter_kws': {'alpha': 0.7}})"
   ]
  },
  {
   "cell_type": "code",
   "execution_count": 18,
   "metadata": {
    "ExecuteTime": {
     "end_time": "2020-05-25T10:54:27.861508Z",
     "start_time": "2020-05-25T10:54:27.836574Z"
    }
   },
   "outputs": [
    {
     "name": "stdout",
     "output_type": "stream",
     "text": [
      "                                            OLS Regression Results                                            \n",
      "==============================================================================================================\n",
      "Dep. Variable:     Predicted_Age_In_Months_From_Delivery_DBS   R-squared (uncentered):                   0.997\n",
      "Model:                                                   OLS   Adj. R-squared (uncentered):              0.997\n",
      "Method:                                        Least Squares   F-statistic:                          1.793e+07\n",
      "Date:                                       Mon, 25 May 2020   Prob (F-statistic):                        0.00\n",
      "Time:                                               06:54:27   Log-Likelihood:                     -2.0535e+05\n",
      "No. Observations:                                      50603   AIC:                                  4.107e+05\n",
      "Df Residuals:                                          50602   BIC:                                  4.107e+05\n",
      "Df Model:                                                  1                                                  \n",
      "Covariance Type:                                   nonrobust                                                  \n",
      "===================================================================================================\n",
      "                                      coef    std err          t      P>|t|      [0.025      0.975]\n",
      "---------------------------------------------------------------------------------------------------\n",
      "Age_In_Months_From_Delivery_DBS     0.9963      0.000   4234.804      0.000       0.996       0.997\n",
      "==============================================================================\n",
      "Omnibus:                   120522.120   Durbin-Watson:                   0.960\n",
      "Prob(Omnibus):                  0.000   Jarque-Bera (JB):       1615059781.412\n",
      "Skew:                         -24.354   Prob(JB):                         0.00\n",
      "Kurtosis:                     876.853   Cond. No.                         1.00\n",
      "==============================================================================\n",
      "\n",
      "Warnings:\n",
      "[1] Standard Errors assume that the covariance matrix of the errors is correctly specified.\n"
     ]
    }
   ],
   "source": [
    "Test4 = Test4.dropna()\n",
    "X = Test4[['Age_In_Months_From_Delivery_DBS']]\n",
    "Y = Test4[['Predicted_Age_In_Months_From_Delivery_DBS']]\n",
    "model = sm.OLS(Y, X)\n",
    "\n",
    "results = model.fit()\n",
    "print(results.summary())"
   ]
  },
  {
   "cell_type": "code",
   "execution_count": 19,
   "metadata": {
    "ExecuteTime": {
     "end_time": "2020-05-25T10:54:28.967055Z",
     "start_time": "2020-05-25T10:54:28.961071Z"
    }
   },
   "outputs": [
    {
     "name": "stdout",
     "output_type": "stream",
     "text": [
      "MSE 196.9704760587317\n",
      "MAE 0.7283955496709681\n",
      "RMSE 14.03461706134983\n"
     ]
    }
   ],
   "source": [
    "model_mse = mean_squared_error(Y, X)\n",
    "model_mae = mean_absolute_error(Y, X)\n",
    "model_rmse =  math.sqrt(model_mse)\n",
    "\n",
    "print(\"MSE {:3}\".format(model_mse))\n",
    "print(\"MAE {:3}\".format(model_mae))\n",
    "print(\"RMSE {:3}\".format(model_rmse))"
   ]
  },
  {
   "cell_type": "code",
   "execution_count": 20,
   "metadata": {
    "ExecuteTime": {
     "end_time": "2020-05-25T10:54:34.655884Z",
     "start_time": "2020-05-25T10:54:30.065126Z"
    }
   },
   "outputs": [
    {
     "data": {
      "text/plain": [
       "<seaborn.axisgrid.PairGrid at 0x12dc21b9208>"
      ]
     },
     "execution_count": 20,
     "metadata": {},
     "output_type": "execute_result"
    },
    {
     "data": {
      "image/png": "[encoded data removed]",
      "text/plain": [
       "<Figure size 432x432 with 6 Axes>"
      ]
     },
     "metadata": {
      "needs_background": "light"
     },
     "output_type": "display_data"
    }
   ],
   "source": [
    "sns.pairplot(Test4, kind='reg', diag_kind='hist',\n",
    "             height=3, aspect=1,\n",
    "             plot_kws={'scatter_kws': {'alpha': 0.7}})"
   ]
  },
  {
   "cell_type": "markdown",
   "metadata": {},
   "source": [
    "# Export"
   ]
  },
  {
   "cell_type": "code",
   "execution_count": 22,
   "metadata": {
    "ExecuteTime": {
     "end_time": "2020-05-25T10:55:15.300812Z",
     "start_time": "2020-05-25T10:55:15.296823Z"
    }
   },
   "outputs": [
    {
     "data": {
      "text/plain": [
       "(93283, 13)"
      ]
     },
     "execution_count": 22,
     "metadata": {},
     "output_type": "execute_result"
    }
   ],
   "source": [
    "Bruce_Export = Output\n",
    "Bruce_Export.shape"
   ]
  },
  {
   "cell_type": "code",
   "execution_count": 23,
   "metadata": {
    "ExecuteTime": {
     "end_time": "2020-05-25T10:55:16.174483Z",
     "start_time": "2020-05-25T10:55:16.145561Z"
    }
   },
   "outputs": [
    {
     "data": {
      "text/plain": [
       "(31134, 13)"
      ]
     },
     "execution_count": 23,
     "metadata": {},
     "output_type": "execute_result"
    }
   ],
   "source": [
    "Bruce_Export = Bruce_Export.drop(Bruce_Export.index[Bruce_Export.Age_In_Months_From_DBS > 120])\n",
    "Bruce_Export = Bruce_Export.drop(Bruce_Export.index[Bruce_Export.Predicted_Age_In_Months_From_DBS > 120])\n",
    "Bruce_Export.shape"
   ]
  },
  {
   "cell_type": "code",
   "execution_count": 24,
   "metadata": {
    "ExecuteTime": {
     "end_time": "2020-05-25T10:55:16.832722Z",
     "start_time": "2020-05-25T10:55:16.825740Z"
    }
   },
   "outputs": [
    {
     "data": {
      "text/plain": [
       "(28122, 13)"
      ]
     },
     "execution_count": 24,
     "metadata": {},
     "output_type": "execute_result"
    }
   ],
   "source": [
    "Bruce_Export = Bruce_Export[Bruce_Export['Predicted_Age_In_Months_From_DBS'].notna()]\n",
    "Bruce_Export.shape"
   ]
  },
  {
   "cell_type": "code",
   "execution_count": 25,
   "metadata": {
    "ExecuteTime": {
     "end_time": "2020-05-25T10:55:18.355153Z",
     "start_time": "2020-05-25T10:55:18.351164Z"
    }
   },
   "outputs": [
    {
     "data": {
      "text/plain": [
       "Index(['SerialNumber', 'SN1', 'SN2', 'ModelName', 'WODollarTotal',\n",
       "       'Age_In_Months_From_DBS', 'Age_In_Months_From_Delivery',\n",
       "       'Age_In_Months_From_DBS_Delivery', 'Age_In_Months_From_Delivery_DBS',\n",
       "       'Predicted_Age_In_Months_From_DBS',\n",
       "       'Predicted_Age_In_Months_From_Delivery',\n",
       "       'Predicted_Age_In_Months_From_DBS_Delivery',\n",
       "       'Predicted_Age_In_Months_From_Delivery_DBS'],\n",
       "      dtype='object')"
      ]
     },
     "execution_count": 25,
     "metadata": {},
     "output_type": "execute_result"
    }
   ],
   "source": [
    "Bruce_Export.columns"
   ]
  },
  {
   "cell_type": "code",
   "execution_count": 26,
   "metadata": {
    "ExecuteTime": {
     "end_time": "2020-05-25T10:55:20.513387Z",
     "start_time": "2020-05-25T10:55:20.506406Z"
    }
   },
   "outputs": [
    {
     "data": {
      "text/plain": [
       "Index(['SerialNumber', 'ModelName', 'Age_In_Months_From_DBS',\n",
       "       'Predicted_Age_In_Months_From_DBS'],\n",
       "      dtype='object')"
      ]
     },
     "execution_count": 26,
     "metadata": {},
     "output_type": "execute_result"
    }
   ],
   "source": [
    "Bruce_Export = Bruce_Export.drop(['SN1'\n",
    "                    , 'SN2'\n",
    "                    ,'WODollarTotal'\n",
    "                    ,'Age_In_Months_From_Delivery'\n",
    "                    , 'Age_In_Months_From_DBS_Delivery'\n",
    "                    ,'Age_In_Months_From_Delivery_DBS'\n",
    "                    ,'Predicted_Age_In_Months_From_Delivery'\n",
    "                    ,'Predicted_Age_In_Months_From_DBS_Delivery'\n",
    "                    ,'Predicted_Age_In_Months_From_Delivery_DBS'\n",
    "                   ],axis=1)\n",
    "Bruce_Export.columns"
   ]
  },
  {
   "cell_type": "code",
   "execution_count": 27,
   "metadata": {
    "ExecuteTime": {
     "end_time": "2020-05-25T10:55:25.384879Z",
     "start_time": "2020-05-25T10:55:25.311077Z"
    }
   },
   "outputs": [],
   "source": [
    "Bruce_Export.to_csv('..\\\\data\\\\Output\\\\ECAN_Equipment_Under_10_Years.csv')"
   ]
  }
 ],
 "metadata": {
  "kernelspec": {
   "display_name": "Python 3",
   "language": "python",
   "name": "python3"
  },
  "language_info": {
   "codemirror_mode": {
    "name": "ipython",
    "version": 3
   },
   "file_extension": ".py",
   "mimetype": "text/x-python",
   "name": "python",
   "nbconvert_exporter": "python",
   "pygments_lexer": "ipython3",
   "version": "3.7.4"
  },
  "varInspector": {
   "cols": {
    "lenName": 16,
    "lenType": 16,
    "lenVar": "100"
   },
   "kernels_config": {
    "python": {
     "delete_cmd_postfix": "",
     "delete_cmd_prefix": "del ",
     "library": "var_list.py",
     "varRefreshCmd": "print(var_dic_list())"
    },
    "r": {
     "delete_cmd_postfix": ") ",
     "delete_cmd_prefix": "rm(",
     "library": "var_list.r",
     "varRefreshCmd": "cat(var_dic_list()) "
    }
   },
   "types_to_exclude": [
    "module",
    "function",
    "builtin_function_or_method",
    "instance",
    "_Feature"
   ],
   "window_display": false
  }
 },
 "nbformat": 4,
 "nbformat_minor": 2
}
