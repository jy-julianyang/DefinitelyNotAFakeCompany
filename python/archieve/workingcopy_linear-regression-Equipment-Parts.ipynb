{
 "cells": [
  {
   "cell_type": "markdown",
   "metadata": {},
   "source": [
    "# Lead generation Equipment value exploration"
   ]
  },
  {
   "cell_type": "markdown",
   "metadata": {},
   "source": [
    "### Load libraries and data"
   ]
  },
  {
   "cell_type": "code",
   "execution_count": null,
   "metadata": {
    "ExecuteTime": {
     "end_time": "2020-05-05T00:46:53.886582Z",
     "start_time": "2020-05-05T00:46:44.859789Z"
    }
   },
   "outputs": [],
   "source": [
    "#Libraries\n",
    "import numpy as np\n",
    "import pandas as pd\n",
    "import seaborn as sns\n",
    "import matplotlib.pyplot as plt\n",
    "import statsmodels.api as sm\n",
    "import math \n",
    "import pickle\n",
    "import pylab\n",
    "from scipy import stats\n",
    "from scipy.stats import kurtosis, skew\n",
    "from statsmodels.stats import diagnostic as diag\n",
    "from statsmodels.stats.outliers_influence import variance_inflation_factor\n",
    "from sklearn.model_selection import train_test_split\n",
    "from sklearn.linear_model import LinearRegression\n",
    "from sklearn.metrics import mean_squared_error, r2_score, mean_absolute_error\n",
    "\n",
    "#Settings\n",
    "%matplotlib inline\n",
    "pd.options.display.max_rows = 50\n",
    "pd.options.display.max_columns = 50\n",
    "pd.set_option('display.precision', 2)\n",
    "pd.options.display.float_format = '{:8,.2f}'.format"
   ]
  },
  {
   "cell_type": "code",
   "execution_count": null,
   "metadata": {
    "ExecuteTime": {
     "end_time": "2020-05-05T00:47:06.484681Z",
     "start_time": "2020-05-05T00:46:53.901545Z"
    }
   },
   "outputs": [],
   "source": [
    "#load data\n",
    "data = pd.read_excel('..\\\\data\\\\LeadData_Equipment_All.xlsx', index_col='SerialNumber')\n",
    "\n",
    "#Summary\n",
    "#data.head()\n",
    "data.shape"
   ]
  },
  {
   "cell_type": "markdown",
   "metadata": {},
   "source": [
    "### Validate data"
   ]
  },
  {
   "cell_type": "code",
   "execution_count": null,
   "metadata": {
    "ExecuteTime": {
     "end_time": "2020-05-05T00:47:06.588343Z",
     "start_time": "2020-05-05T00:47:06.545457Z"
    }
   },
   "outputs": [],
   "source": [
    "#check for missing values\n",
    "display(data.isna().any())\n",
    "\n",
    "# Print data columns for copy and paste\n",
    "#data.columns\n",
    "\n",
    "#Verify data types\n",
    "#data.dtypes\n",
    "\n",
    "#Convert data to float for calculations\n",
    "#data = data.astype(float)\n",
    "\n",
    "#Verify data size\n",
    "#data.shape\n",
    "\n",
    "#check for null for removal\n",
    "data_dropna = data.drop(['OwnerCustomerNumber','FuelConsumptionPercentageOverAverage',\n",
    "                   'IdlingPercent'], axis = 1)\n",
    "\n",
    "data_dropna = data_dropna.dropna()\n",
    "\n",
    "data_dropna.shape"
   ]
  },
  {
   "cell_type": "markdown",
   "metadata": {},
   "source": [
    "### Filtering Data"
   ]
  },
  {
   "cell_type": "code",
   "execution_count": null,
   "metadata": {
    "ExecuteTime": {
     "end_time": "2020-05-05T00:47:52.204622Z",
     "start_time": "2020-05-05T00:47:52.182655Z"
    }
   },
   "outputs": [],
   "source": [
    "#Filtering data\n",
    "\n",
    "#Reduce by to 3 standard deviation\n",
    "#data_filtered_by_z = data_dropna[(np.abs(stats.zscore(data_dropna)) < 3).all(axis=1)]\n",
    "#data_filtered_by_z.shape\n",
    "#data_dropna.index.difference(data_filtered_by_z.index)\n",
    "\n",
    "#Put Cap on low/high at 1% and 99% percentile\n",
    "#print(quant_df)\n",
    "# data_clipped_upper = data_dropna.apply(lambda x: x.clip_upper(np.percentile(x, 99)))\n",
    "# data_clipped = data_clipped_upper.apply(lambda x: x.clip_lower(np.percentile(x, 1)))\n",
    "\n",
    "#Hard cap to drop columns\n",
    "data_filtered = data_dropna.drop(data_dropna.index[data_dropna.LTDSMU >= 99998])\n",
    "data_filtered.shape"
   ]
  },
  {
   "cell_type": "code",
   "execution_count": null,
   "metadata": {
    "ExecuteTime": {
     "end_time": "2020-05-05T00:47:54.277008Z",
     "start_time": "2020-05-05T00:47:54.066785Z"
    }
   },
   "outputs": [],
   "source": [
    "# get the summary\n",
    "desc_df = data_filtered.describe()\n",
    "\n",
    "# add the standard deviation metric\n",
    "desc_df.loc['+3_std'] = desc_df.loc['mean'] + (desc_df.loc['std'] * 3)\n",
    "desc_df.loc['-3_std'] = desc_df.loc['mean'] - (desc_df.loc['std'] * 3)\n",
    "desc_df"
   ]
  },
  {
   "cell_type": "code",
   "execution_count": null,
   "metadata": {
    "ExecuteTime": {
     "end_time": "2020-05-04T19:43:26.211069Z",
     "start_time": "2020-05-04T19:43:25.634629Z"
    }
   },
   "outputs": [],
   "source": [
    "#Compute the correlation matrix\n",
    "corr_matrix = round(data_filtered.corr(),2)\n",
    "display(corr_matrix)\n",
    "\n",
    "def get_sorted_corr(df):\n",
    "    crr = df.corr().abs().unstack()\n",
    "#     labels_to_drop = get_redundant_pairs(df)\n",
    "#     crr = crr.drop(labels=labels_to_drop).sort_values(ascending=False)\n",
    "    return crr\n",
    "\n",
    "# def get_redundant_pairs(df):\n",
    "#     pairs_to_drop = set()\n",
    "#     cols = df.columns\n",
    "#     for i in range(0, df.shape[1]):\n",
    "#         for j in range(0, i+1):\n",
    "#             pairs_to_drop.add((cols[i], cols[j]))\n",
    "#     return pairs_to_drop\n",
    "\n",
    "#Unstack and print to excel\n",
    "get_sorted_corr(data_filtered)\n",
    "sorted_corr = get_sorted_corr(data_filtered)\n",
    "sorted_corr.to_csv('..\\\\data\\\\Output\\\\Sorted_Correlation_Equipment.csv')"
   ]
  },
  {
   "cell_type": "code",
   "execution_count": null,
   "metadata": {
    "ExecuteTime": {
     "end_time": "2020-05-04T18:50:16.247594Z",
     "start_time": "2020-05-04T18:50:02.734273Z"
    },
    "scrolled": false
   },
   "outputs": [],
   "source": [
    "#Create chart for correlation\n",
    "\n",
    "# Generate a mask for the upper triangle\n",
    "mask = np.triu(np.ones_like(corr_matrix, dtype=np.bool))\n",
    "\n",
    "# Set up the matplotlib figure\n",
    "fig, ax = plt.subplots(figsize=(120, 120))\n",
    "\n",
    "# Generate a custom diverging colormap\n",
    "cmap = sns.diverging_palette(240, 10, n=9, as_cmap=True)\n",
    "\n",
    "heatmap = sns.heatmap(corr_matrix, mask=mask, cmap=cmap,\n",
    "                      square=True, linewidths=3,\n",
    "                      cbar_kws = {'shrink': 0.6},\n",
    "                      vmin=-1, vmax=1,\n",
    "                      annot=True, annot_kws = {'size': 2})\n",
    "\n",
    "# add the column names as labels\n",
    "ax.set_yticklabels(corr_matrix.columns)\n",
    "ax.set_xticklabels(corr_matrix.columns)\n",
    "\n",
    "# plt.show()\n",
    "plt.savefig('..\\\\data\\\\Output\\\\Correlation_Matrix_Equipment')"
   ]
  },
  {
   "cell_type": "markdown",
   "metadata": {},
   "source": [
    "## Assumption: Y = PARTS_EQ_0_12M"
   ]
  },
  {
   "cell_type": "markdown",
   "metadata": {},
   "source": [
    "### Start"
   ]
  },
  {
   "cell_type": "code",
   "execution_count": null,
   "metadata": {
    "ExecuteTime": {
     "end_time": "2020-05-05T00:49:46.152823Z",
     "start_time": "2020-05-05T00:49:46.144880Z"
    }
   },
   "outputs": [],
   "source": [
    "#Print columns\n",
    "data_filtered.columns"
   ]
  },
  {
   "cell_type": "code",
   "execution_count": null,
   "metadata": {
    "ExecuteTime": {
     "end_time": "2020-05-05T00:58:56.412810Z",
     "start_time": "2020-05-05T00:58:56.401802Z"
    }
   },
   "outputs": [],
   "source": [
    "#Drop columns with very low correlations to Y\n",
    "data_filtered_by_coe = data_filtered.drop([\n",
    "'ServiceDCAL'              #0.0499822973976113\n",
    ",'Warranty_Days_Remaining'              #0.042695939798081\n",
    ",'UtilizationOverFleetAverage'              #0.0420180012748909\n",
    ",'SERVICES_Count_Per_CatFleetSize'              #0.0332625199089713\n",
    ",'Age_Months'              #0.0276883817480741\n",
    ",'PARTS_Count_Per_500HR_Utilized'              #0.0275643425736726\n",
    ",'PMContract_Only'              #0.0242680199242601\n",
    ",'MARC'              #0.0231321538648038\n",
    ",'Average_Fleet_Age_Months'              #0.0228474665102275\n",
    ",'PartsReturnPercentage_CU'              #0.0156453002524307\n",
    ",'CSA_Days_Remaining'              #0.0127407929009288\n",
    ",'SERVICES_Count_Per_500HR_Utilized'              #0.0107504356479196\n",
    ",'Percentage_Cat'              #0.00305093718675929\n",
    ",'Lease_Days_Remaining'              #0.00276979550655567\n",
    ",'ServicesBackOutPercentage_CU'              #0.00207836673250886\n",
    ",'SOS_Count_Per_500HR_Utilized'              #0.00176269379001512\n",
    ",'AverageDaysToPay'              #0.000305755645728231\n",
    "     ],axis = 1)\n",
    "data_filtered_by_coe.columns"
   ]
  },
  {
   "cell_type": "markdown",
   "metadata": {
    "ExecuteTime": {
     "end_time": "2020-05-04T19:53:40.000282Z",
     "start_time": "2020-05-04T19:53:39.995262Z"
    }
   },
   "source": [
    "### Test for Multicollinearity"
   ]
  },
  {
   "cell_type": "markdown",
   "metadata": {},
   "source": [
    "#### VIF Test"
   ]
  },
  {
   "cell_type": "code",
   "execution_count": null,
   "metadata": {
    "ExecuteTime": {
     "end_time": "2020-05-05T00:52:42.534708Z",
     "start_time": "2020-05-05T00:52:40.572946Z"
    },
    "scrolled": true
   },
   "outputs": [],
   "source": [
    "# define our input variable (X) & output variable\n",
    "X = data_filtered_by_coe.drop('PARTS_EQ_0_12M', axis = 1)\n",
    "Y = data_filtered_by_coe[['PARTS_EQ_0_12M']]\n",
    "\n",
    "# define two data frames one before the drop and one after the drop\n",
    "df_before = data_filtered_by_coe\n",
    "df_after = data_filtered_by_coe.drop(['Percentage_PLDeviceSerialNumber'\n",
    "                                      ,'Expenditure_12M_PartsNServices'\n",
    "                                     ], axis = 1)\n",
    "\n",
    "# the VFI does expect a constant term in the data, so we need to add one using the add_constant method\n",
    "X1 = sm.tools.add_constant(df_before)\n",
    "X2 = sm.tools.add_constant(df_after)\n",
    "\n",
    "# create the series for both\n",
    "series_before = pd.Series([variance_inflation_factor(X1.values, i) for i in range(X1.shape[1])], index=X1.columns)\n",
    "series_after = pd.Series([variance_inflation_factor(X2.values, i) for i in range(X2.shape[1])], index=X2.columns)\n",
    "\n",
    "# display the series\n",
    "print('DATA BEFORE')\n",
    "print('-'*100)\n",
    "display(series_before)\n",
    "\n",
    "print('DATA AFTER')\n",
    "print('-'*100)\n",
    "display(series_after)"
   ]
  },
  {
   "cell_type": "code",
   "execution_count": null,
   "metadata": {
    "ExecuteTime": {
     "end_time": "2020-05-05T00:53:12.739929Z",
     "start_time": "2020-05-05T00:53:12.725965Z"
    }
   },
   "outputs": [],
   "source": [
    "y_kurtosis = kurtosis(data_filtered_by_coe['PARTS_EQ_0_12M'], fisher = True)\n",
    "display(\"PARTS_EQ_0_12M kurtosis: {:2}\".format(y_kurtosis))\n",
    "display(stats.kurtosistest(data_filtered_by_coe['PARTS_EQ_0_12M']))\n",
    "\n",
    "y_skew = skew(data_filtered_by_coe['PARTS_EQ_0_12M'])\n",
    "display(\"PARTS_EQ_0_12M skew: {:2}\".format(y_skew))\n",
    "display(stats.skewtest(data_filtered_by_coe['PARTS_EQ_0_12M']))"
   ]
  },
  {
   "cell_type": "markdown",
   "metadata": {},
   "source": [
    "#### Variable test 1 WODollar_Exclude12M"
   ]
  },
  {
   "cell_type": "code",
   "execution_count": null,
   "metadata": {
    "ExecuteTime": {
     "end_time": "2020-05-05T00:54:23.802877Z",
     "start_time": "2020-05-05T00:54:20.430294Z"
    }
   },
   "outputs": [],
   "source": [
    "#Create subset test for testing ideal element\n",
    "test = data_filtered_by_coe.loc[:, ['WODollar_Exclude12M','PARTS_EQ_0_12M']]\n",
    "\n",
    "#test.describe()\n",
    "#scatter plot\n",
    "sns.pairplot(test, kind='reg', diag_kind='hist',\n",
    "             height=6, aspect=1,\n",
    "             plot_kws={'scatter_kws': {'alpha': 0.7}})\n",
    "plt.savefig('..\\\\data\\\\Output\\\\Scatter_Plot_PARTS_EQ_0_12M_EQ_VS_WODollar_Exclude12M')"
   ]
  },
  {
   "cell_type": "code",
   "execution_count": null,
   "metadata": {
    "ExecuteTime": {
     "end_time": "2020-05-04T20:33:21.119052Z",
     "start_time": "2020-05-04T20:33:21.105088Z"
    }
   },
   "outputs": [],
   "source": [
    "y_kurtosis = kurtosis(test['WODollar_Exclude12M'], fisher = True)\n",
    "display(\"WODollar_Exclude12M kurtosis: {:2}\".format(y_kurtosis))\n",
    "display(stats.kurtosistest(test['WODollar_Exclude12M']))\n",
    "\n",
    "y_skew = skew(test['WODollar_Exclude12M'])\n",
    "display(\"WODollar_Exclude12M skew: {:2}\".format(y_skew))\n",
    "display(stats.skewtest(test['WODollar_Exclude12M']))"
   ]
  },
  {
   "cell_type": "code",
   "execution_count": null,
   "metadata": {
    "ExecuteTime": {
     "end_time": "2020-05-05T00:54:31.495510Z",
     "start_time": "2020-05-05T00:54:31.481545Z"
    }
   },
   "outputs": [],
   "source": [
    "test.corr()"
   ]
  },
  {
   "cell_type": "markdown",
   "metadata": {},
   "source": [
    "#### Variable test 2 SERVICES_COUNT_EQ_0_12M"
   ]
  },
  {
   "cell_type": "code",
   "execution_count": null,
   "metadata": {
    "ExecuteTime": {
     "end_time": "2020-05-05T00:54:57.308336Z",
     "start_time": "2020-05-05T00:54:54.049058Z"
    }
   },
   "outputs": [],
   "source": [
    "#Create subset test for testing ideal element\n",
    "test = data_filtered_by_coe.loc[:, ['SERVICES_COUNT_EQ_0_12M','PARTS_EQ_0_12M']]\n",
    "\n",
    "#scatter plot\n",
    "sns.pairplot(test, kind='reg', diag_kind='hist',\n",
    "             height=6, aspect=1,\n",
    "             plot_kws={'scatter_kws': {'alpha': 0.7}})\n",
    "plt.savefig('..\\\\data\\\\Output\\\\Scatter_Plot_PARTS_EQ_0_12M_EQ_VS_SERVICES_COUNT_EQ_0_12M')"
   ]
  },
  {
   "cell_type": "code",
   "execution_count": null,
   "metadata": {
    "ExecuteTime": {
     "end_time": "2020-05-04T20:36:34.047272Z",
     "start_time": "2020-05-04T20:36:34.027288Z"
    }
   },
   "outputs": [],
   "source": [
    "y_kurtosis = kurtosis(test['SERVICES_COUNT_EQ_0_12M'], fisher = True)\n",
    "display(\"SERVICES_COUNT_EQ_0_12M kurtosis: {:2}\".format(y_kurtosis))\n",
    "display(stats.kurtosistest(test['SERVICES_COUNT_EQ_0_12M']))\n",
    "\n",
    "y_skew = skew(test['SERVICES_COUNT_EQ_0_12M'])\n",
    "display(\"SERVICES_COUNT_EQ_0_12M skew: {:2}\".format(y_skew))\n",
    "display(stats.skewtest(test['SERVICES_COUNT_EQ_0_12M']))"
   ]
  },
  {
   "cell_type": "code",
   "execution_count": null,
   "metadata": {
    "ExecuteTime": {
     "end_time": "2020-05-05T00:55:00.703007Z",
     "start_time": "2020-05-05T00:55:00.690078Z"
    }
   },
   "outputs": [],
   "source": [
    "test.corr()"
   ]
  },
  {
   "cell_type": "markdown",
   "metadata": {},
   "source": [
    "#### Variable test 3 SERVICES_Total_Per_CatFleetSize"
   ]
  },
  {
   "cell_type": "code",
   "execution_count": null,
   "metadata": {
    "ExecuteTime": {
     "end_time": "2020-05-05T00:55:50.826040Z",
     "start_time": "2020-05-05T00:55:47.373265Z"
    }
   },
   "outputs": [],
   "source": [
    "#Create subset test for testing ideal element\n",
    "test = data_filtered_by_coe.loc[:, ['SERVICES_Total_Per_CatFleetSize','PARTS_EQ_0_12M']]\n",
    "#define the x & y data\n",
    "\n",
    "#test.describe()\n",
    "#scatter plot\n",
    "sns.pairplot(test, kind='reg', diag_kind='hist',\n",
    "             height=6, aspect=1,\n",
    "             plot_kws={'scatter_kws': {'alpha': 0.7}})\n",
    "plt.savefig('..\\\\data\\\\Output\\\\SERVICES_Total_Per_CatFleetSize')"
   ]
  },
  {
   "cell_type": "code",
   "execution_count": null,
   "metadata": {
    "ExecuteTime": {
     "end_time": "2020-05-04T20:40:19.291977Z",
     "start_time": "2020-05-04T20:40:19.275064Z"
    }
   },
   "outputs": [],
   "source": [
    "y_kurtosis = kurtosis(test['SERVICES_Total_Per_CatFleetSize'], fisher = True)\n",
    "display(\"SERVICES_Total_Per_CatFleetSize kurtosis: {:2}\".format(y_kurtosis))\n",
    "display(stats.kurtosistest(test['SERVICES_Total_Per_CatFleetSize']))\n",
    "\n",
    "y_skew = skew(test['SERVICES_Total_Per_CatFleetSize'])\n",
    "display(\"SERVICES_Total_Per_CatFleetSize skew: {:2}\".format(y_skew))\n",
    "display(stats.skewtest(test['SERVICES_Total_Per_CatFleetSize']))"
   ]
  },
  {
   "cell_type": "code",
   "execution_count": null,
   "metadata": {
    "ExecuteTime": {
     "end_time": "2020-05-05T00:55:52.618833Z",
     "start_time": "2020-05-05T00:55:52.607863Z"
    }
   },
   "outputs": [],
   "source": [
    "test.corr()"
   ]
  },
  {
   "cell_type": "markdown",
   "metadata": {},
   "source": [
    "#### Variable test 4 SOS_COUNT_EQ_0_12M"
   ]
  },
  {
   "cell_type": "code",
   "execution_count": null,
   "metadata": {
    "ExecuteTime": {
     "end_time": "2020-05-05T00:56:31.260252Z",
     "start_time": "2020-05-05T00:56:27.900776Z"
    }
   },
   "outputs": [],
   "source": [
    "#Create subset test for testing ideal element\n",
    "test = data_filtered_by_coe.loc[:, ['SOS_COUNT_EQ_0_12M','PARTS_EQ_0_12M']]\n",
    "\n",
    "#scatter plot\n",
    "sns.pairplot(test, kind='reg', diag_kind='hist',\n",
    "             height=6, aspect=1,\n",
    "             plot_kws={'scatter_kws': {'alpha': 0.7}})\n",
    "plt.savefig('..\\\\data\\\\Output\\\\SOS_COUNT_EQ_0_12M')"
   ]
  },
  {
   "cell_type": "code",
   "execution_count": null,
   "metadata": {
    "ExecuteTime": {
     "end_time": "2020-05-04T20:36:34.047272Z",
     "start_time": "2020-05-04T20:36:34.027288Z"
    }
   },
   "outputs": [],
   "source": [
    "y_kurtosis = kurtosis(test['SOS_COUNT_EQ_0_12M'], fisher = True)\n",
    "display(\"SOS_COUNT_EQ_0_12M kurtosis: {:2}\".format(y_kurtosis))\n",
    "display(stats.kurtosistest(test['SOS_COUNT_EQ_0_12M']))\n",
    "\n",
    "y_skew = skew(test['SOS_COUNT_EQ_0_12M'])\n",
    "display(\"SOS_COUNT_EQ_0_12M skew: {:2}\".format(y_skew))\n",
    "display(stats.skewtest(test['SOS_COUNT_EQ_0_12M']))"
   ]
  },
  {
   "cell_type": "code",
   "execution_count": null,
   "metadata": {
    "ExecuteTime": {
     "end_time": "2020-05-05T00:56:31.595306Z",
     "start_time": "2020-05-05T00:56:31.585369Z"
    }
   },
   "outputs": [],
   "source": [
    "test.corr()"
   ]
  },
  {
   "cell_type": "markdown",
   "metadata": {},
   "source": [
    "#### Variable test 5 SOS_Count_Per_CatFleetSize"
   ]
  },
  {
   "cell_type": "code",
   "execution_count": null,
   "metadata": {
    "ExecuteTime": {
     "end_time": "2020-05-05T00:56:43.989610Z",
     "start_time": "2020-05-05T00:56:40.045081Z"
    }
   },
   "outputs": [],
   "source": [
    "#Create subset test for testing ideal element\n",
    "test = data_filtered_by_coe.loc[:, ['SOS_Count_Per_CatFleetSize','PARTS_EQ_0_12M']]\n",
    "\n",
    "#test.describe()\n",
    "#scatter plot\n",
    "sns.pairplot(test, kind='reg', diag_kind='hist',\n",
    "             height=6, aspect=1,\n",
    "             plot_kws={'scatter_kws': {'alpha': 0.7}})\n",
    "plt.savefig('..\\\\data\\\\Output\\\\SOS_Count_Per_CatFleetSize')"
   ]
  },
  {
   "cell_type": "code",
   "execution_count": null,
   "metadata": {
    "ExecuteTime": {
     "end_time": "2020-05-04T20:36:34.047272Z",
     "start_time": "2020-05-04T20:36:34.027288Z"
    }
   },
   "outputs": [],
   "source": [
    "y_kurtosis = kurtosis(test1['Age_Months'], fisher = True)\n",
    "display(\"Age_Months kurtosis: {:2}\".format(y_kurtosis))\n",
    "display(stats.kurtosistest(test1['Age_Months']))\n",
    "\n",
    "y_skew = skew(test1['Age_Months'])\n",
    "display(\"Age_Months skew: {:2}\".format(y_skew))\n",
    "display(stats.skewtest(test1['Age_Months']))"
   ]
  },
  {
   "cell_type": "code",
   "execution_count": null,
   "metadata": {
    "ExecuteTime": {
     "end_time": "2020-05-05T00:56:44.362613Z",
     "start_time": "2020-05-05T00:56:44.349647Z"
    }
   },
   "outputs": [],
   "source": [
    "test.corr()"
   ]
  },
  {
   "cell_type": "markdown",
   "metadata": {},
   "source": [
    "#### Variable test 6 SERVICES_Count_Per_CatFleetSize"
   ]
  },
  {
   "cell_type": "code",
   "execution_count": null,
   "metadata": {
    "ExecuteTime": {
     "end_time": "2020-05-05T00:57:59.849754Z",
     "start_time": "2020-05-05T00:57:59.069794Z"
    }
   },
   "outputs": [],
   "source": [
    "#Create subset test for testing ideal element\n",
    "test = data_filtered_by_coe.loc[:, ['SERVICES_Count_Per_CatFleetSize','PARTS_EQ_0_12M']]\n",
    "#define the x & y data\n",
    "\n",
    "#test.describe()\n",
    "#scatter plot\n",
    "sns.pairplot(test, kind='reg', diag_kind='hist',\n",
    "             height=6, aspect=1,\n",
    "             plot_kws={'scatter_kws': {'alpha': 0.7}})\n",
    "plt.savefig('..\\\\data\\\\Output\\\\SERVICES_Count_Per_CatFleetSize')"
   ]
  },
  {
   "cell_type": "code",
   "execution_count": null,
   "metadata": {
    "ExecuteTime": {
     "end_time": "2020-05-04T20:40:19.291977Z",
     "start_time": "2020-05-04T20:40:19.275064Z"
    }
   },
   "outputs": [],
   "source": [
    "y_kurtosis = kurtosis(test['SERVICES_Count_Per_CatFleetSize'], fisher = True)\n",
    "display(\"SERVICES_Count_Per_CatFleetSize kurtosis: {:2}\".format(y_kurtosis))\n",
    "display(stats.kurtosistest(test['SERVICES_Count_Per_CatFleetSize']))\n",
    "\n",
    "y_skew = skew(test['SERVICES_Count_Per_CatFleetSize'])\n",
    "display(\"SERVICES_Count_Per_CatFleetSize skew: {:2}\".format(y_skew))\n",
    "display(stats.skewtest(test['SERVICES_Count_Per_CatFleetSize']))"
   ]
  },
  {
   "cell_type": "code",
   "execution_count": null,
   "metadata": {
    "ExecuteTime": {
     "end_time": "2020-05-05T00:58:12.926911Z",
     "start_time": "2020-05-05T00:58:12.916929Z"
    },
    "scrolled": false
   },
   "outputs": [],
   "source": [
    "test.corr()"
   ]
  },
  {
   "cell_type": "markdown",
   "metadata": {},
   "source": [
    "#### Variable test 7 ServiceDCAL"
   ]
  },
  {
   "cell_type": "code",
   "execution_count": null,
   "metadata": {
    "ExecuteTime": {
     "end_time": "2020-05-05T00:58:23.319538Z",
     "start_time": "2020-05-05T00:58:22.444543Z"
    }
   },
   "outputs": [],
   "source": [
    "#Create subset test for testing ideal element\n",
    "test = data_filtered_by_coe.loc[:, ['ServiceDCAL','PARTS_EQ_0_12M']]\n",
    "#define the x & y data\n",
    "\n",
    "#test.describe()\n",
    "#scatter plot\n",
    "sns.pairplot(test, kind='reg', diag_kind='hist',\n",
    "             height=6, aspect=1,\n",
    "             plot_kws={'scatter_kws': {'alpha': 0.7}})\n",
    "plt.savefig('..\\\\data\\\\Output\\\\ServiceDCAL')"
   ]
  },
  {
   "cell_type": "code",
   "execution_count": null,
   "metadata": {
    "ExecuteTime": {
     "end_time": "2020-05-04T20:48:50.880949Z",
     "start_time": "2020-05-04T20:48:50.862966Z"
    }
   },
   "outputs": [],
   "source": [
    "y_kurtosis = kurtosis(test['ServiceDCAL'], fisher = True)\n",
    "display(\"ServiceDCAL kurtosis: {:2}\".format(y_kurtosis))\n",
    "display(stats.kurtosistest(test['ServiceDCAL']))\n",
    "\n",
    "y_skew = skew(test['ServiceDCAL'])\n",
    "display(\"ServiceDCAL skew: {:2}\".format(y_skew))\n",
    "display(stats.skewtest(test['ServiceDCAL']))"
   ]
  },
  {
   "cell_type": "code",
   "execution_count": null,
   "metadata": {
    "ExecuteTime": {
     "end_time": "2020-05-04T20:48:52.070708Z",
     "start_time": "2020-05-04T20:48:52.062730Z"
    },
    "scrolled": true
   },
   "outputs": [],
   "source": [
    "test.corr()"
   ]
  },
  {
   "cell_type": "markdown",
   "metadata": {},
   "source": [
    "#### Variable test 8 MARC"
   ]
  },
  {
   "cell_type": "code",
   "execution_count": null,
   "metadata": {
    "ExecuteTime": {
     "end_time": "2020-05-05T00:59:19.910952Z",
     "start_time": "2020-05-05T00:59:19.136026Z"
    }
   },
   "outputs": [],
   "source": [
    "#Create subset test for testing ideal element\n",
    "test = data_filtered_by_coe.loc[:, ['MARC','PARTS_EQ_0_12M']]\n",
    "#define the x & y data\n",
    "\n",
    "#test.describe()\n",
    "#scatter plot\n",
    "sns.pairplot(test, kind='reg', diag_kind='hist',\n",
    "             height=6, aspect=1,\n",
    "             plot_kws={'scatter_kws': {'alpha': 0.7}})\n",
    "plt.savefig('..\\\\data\\\\Output\\\\MARC')"
   ]
  },
  {
   "cell_type": "code",
   "execution_count": null,
   "metadata": {
    "ExecuteTime": {
     "end_time": "2020-05-04T20:48:50.880949Z",
     "start_time": "2020-05-04T20:48:50.862966Z"
    }
   },
   "outputs": [],
   "source": [
    "y_kurtosis = kurtosis(test['MARC'], fisher = True)\n",
    "display(\"MARC kurtosis: {:2}\".format(y_kurtosis))\n",
    "display(stats.kurtosistest(test['MARC']))\n",
    "\n",
    "y_skew = skew(test['MARC'])\n",
    "display(\"MARC skew: {:2}\".format(y_skew))\n",
    "display(stats.skewtest(test['MARC']))"
   ]
  },
  {
   "cell_type": "code",
   "execution_count": null,
   "metadata": {
    "ExecuteTime": {
     "end_time": "2020-05-05T00:59:23.797850Z",
     "start_time": "2020-05-05T00:59:23.787882Z"
    },
    "scrolled": true
   },
   "outputs": [],
   "source": [
    "test.corr()"
   ]
  },
  {
   "cell_type": "markdown",
   "metadata": {},
   "source": [
    "#### Variable test 9 Avg_AnnualUsage"
   ]
  },
  {
   "cell_type": "code",
   "execution_count": null,
   "metadata": {
    "ExecuteTime": {
     "end_time": "2020-05-05T00:59:33.143532Z",
     "start_time": "2020-05-05T00:59:29.768063Z"
    }
   },
   "outputs": [],
   "source": [
    "#Create subset test for testing ideal element\n",
    "test = data_filtered_by_coe.loc[:, ['Avg_AnnualUsage','PARTS_EQ_0_12M']]\n",
    "#define the x & y data\n",
    "\n",
    "#test.describe()\n",
    "#scatter plot\n",
    "sns.pairplot(test, kind='reg', diag_kind='hist',\n",
    "             height=6, aspect=1,\n",
    "             plot_kws={'scatter_kws': {'alpha': 0.7}})\n",
    "plt.savefig('..\\\\data\\\\Output\\\\Avg_AnnualUsage')"
   ]
  },
  {
   "cell_type": "code",
   "execution_count": null,
   "metadata": {
    "ExecuteTime": {
     "end_time": "2020-05-04T20:48:50.880949Z",
     "start_time": "2020-05-04T20:48:50.862966Z"
    }
   },
   "outputs": [],
   "source": [
    "y_kurtosis = kurtosis(test['Avg_AnnualUsage'], fisher = True)\n",
    "display(\"Avg_AnnualUsage kurtosis: {:2}\".format(y_kurtosis))\n",
    "display(stats.kurtosistest(test['Avg_AnnualUsage']))\n",
    "\n",
    "y_skew = skew(test['Avg_AnnualUsage'])\n",
    "display(\"Avg_AnnualUsage skew: {:2}\".format(y_skew))\n",
    "display(stats.skewtest(test['Avg_AnnualUsage']))"
   ]
  },
  {
   "cell_type": "code",
   "execution_count": null,
   "metadata": {
    "ExecuteTime": {
     "end_time": "2020-05-05T00:59:35.130125Z",
     "start_time": "2020-05-05T00:59:35.123127Z"
    },
    "scrolled": true
   },
   "outputs": [],
   "source": [
    "test.corr()"
   ]
  },
  {
   "cell_type": "markdown",
   "metadata": {},
   "source": [
    "#### Variable test 10 CalculatedAnnualUsage"
   ]
  },
  {
   "cell_type": "code",
   "execution_count": null,
   "metadata": {
    "ExecuteTime": {
     "end_time": "2020-05-05T00:59:45.006661Z",
     "start_time": "2020-05-05T00:59:41.421677Z"
    }
   },
   "outputs": [],
   "source": [
    "#Create subset test for testing ideal element\n",
    "test = data_filtered_by_coe.loc[:, ['CalculatedAnnualUsage','PARTS_EQ_0_12M']]\n",
    "#define the x & y data\n",
    "\n",
    "#test.describe()\n",
    "#scatter plot\n",
    "sns.pairplot(test, kind='reg', diag_kind='hist',\n",
    "             height=6, aspect=1,\n",
    "             plot_kws={'scatter_kws': {'alpha': 0.7}})\n",
    "plt.savefig('..\\\\data\\\\Output\\\\CalculatedAnnualUsage')"
   ]
  },
  {
   "cell_type": "code",
   "execution_count": null,
   "metadata": {
    "ExecuteTime": {
     "end_time": "2020-05-04T20:48:50.880949Z",
     "start_time": "2020-05-04T20:48:50.862966Z"
    }
   },
   "outputs": [],
   "source": [
    "y_kurtosis = kurtosis(test['CalculatedAnnualUsage'], fisher = True)\n",
    "display(\"CalculatedAnnualUsage kurtosis: {:2}\".format(y_kurtosis))\n",
    "display(stats.kurtosistest(test['CalculatedAnnualUsage']))\n",
    "\n",
    "y_skew = skew(test['CalculatedAnnualUsage'])\n",
    "display(\"CalculatedAnnualUsage skew: {:2}\".format(y_skew))\n",
    "display(stats.skewtest(test['CalculatedAnnualUsage']))"
   ]
  },
  {
   "cell_type": "code",
   "execution_count": null,
   "metadata": {
    "ExecuteTime": {
     "end_time": "2020-05-05T00:59:45.360689Z",
     "start_time": "2020-05-05T00:59:45.352704Z"
    },
    "scrolled": true
   },
   "outputs": [],
   "source": [
    "test.corr()"
   ]
  },
  {
   "cell_type": "markdown",
   "metadata": {},
   "source": [
    "#### Variable test 11 PLSubscriptionActive"
   ]
  },
  {
   "cell_type": "code",
   "execution_count": null,
   "metadata": {
    "ExecuteTime": {
     "end_time": "2020-05-05T00:59:58.341867Z",
     "start_time": "2020-05-05T00:59:54.970889Z"
    }
   },
   "outputs": [],
   "source": [
    "#Create subset test for testing ideal element\n",
    "test = data_filtered_by_coe.loc[:, ['PLSubscriptionActive','PARTS_EQ_0_12M']]\n",
    "#define the x & y data\n",
    "\n",
    "#test.describe()\n",
    "#scatter plot\n",
    "sns.pairplot(test, kind='reg', diag_kind='hist',\n",
    "             height=6, aspect=1,\n",
    "             plot_kws={'scatter_kws': {'alpha': 0.7}})\n",
    "plt.savefig('..\\\\data\\\\Output\\\\PLSubscriptionActive')"
   ]
  },
  {
   "cell_type": "code",
   "execution_count": null,
   "metadata": {
    "ExecuteTime": {
     "end_time": "2020-05-04T20:48:50.880949Z",
     "start_time": "2020-05-04T20:48:50.862966Z"
    }
   },
   "outputs": [],
   "source": [
    "y_kurtosis = kurtosis(test['PLSubscriptionActive'], fisher = True)\n",
    "display(\"PLSubscriptionActive kurtosis: {:2}\".format(y_kurtosis))\n",
    "display(stats.kurtosistest(test['PLSubscriptionActive']))\n",
    "\n",
    "y_skew = skew(test['PLSubscriptionActive'])\n",
    "display(\"PLSubscriptionActive skew: {:2}\".format(y_skew))\n",
    "display(stats.skewtest(test['PLSubscriptionActive']))"
   ]
  },
  {
   "cell_type": "code",
   "execution_count": null,
   "metadata": {
    "ExecuteTime": {
     "end_time": "2020-05-05T00:59:58.680959Z",
     "start_time": "2020-05-05T00:59:58.669991Z"
    },
    "scrolled": true
   },
   "outputs": [],
   "source": [
    "test.corr()"
   ]
  },
  {
   "cell_type": "markdown",
   "metadata": {},
   "source": [
    "#### Variable test 12 PercentageFleetUtilized"
   ]
  },
  {
   "cell_type": "code",
   "execution_count": null,
   "metadata": {
    "ExecuteTime": {
     "end_time": "2020-05-05T01:00:08.886613Z",
     "start_time": "2020-05-05T01:00:05.481219Z"
    }
   },
   "outputs": [],
   "source": [
    "#Create subset test for testing ideal element\n",
    "test = data_filtered_by_coe.loc[:, ['PercentageFleetUtilized','PARTS_EQ_0_12M']]\n",
    "#define the x & y data\n",
    "\n",
    "#test.describe()\n",
    "#scatter plot\n",
    "sns.pairplot(test, kind='reg', diag_kind='hist',\n",
    "             height=6, aspect=1,\n",
    "             plot_kws={'scatter_kws': {'alpha': 0.7}})\n",
    "plt.savefig('..\\\\data\\\\Output\\\\PercentageFleetUtilized')"
   ]
  },
  {
   "cell_type": "code",
   "execution_count": null,
   "metadata": {
    "ExecuteTime": {
     "end_time": "2020-05-04T20:48:50.880949Z",
     "start_time": "2020-05-04T20:48:50.862966Z"
    }
   },
   "outputs": [],
   "source": [
    "y_kurtosis = kurtosis(test['PercentageFleetUtilized'], fisher = True)\n",
    "display(\"PercentageFleetUtilized kurtosis: {:2}\".format(y_kurtosis))\n",
    "display(stats.kurtosistest(test['PercentageFleetUtilized']))\n",
    "\n",
    "y_skew = skew(test['PercentageFleetUtilized'])\n",
    "display(\"PercentageFleetUtilized skew: {:2}\".format(y_skew))\n",
    "display(stats.skewtest(test['PercentageFleetUtilized']))"
   ]
  },
  {
   "cell_type": "code",
   "execution_count": null,
   "metadata": {
    "ExecuteTime": {
     "end_time": "2020-05-05T01:00:12.045627Z",
     "start_time": "2020-05-05T01:00:12.037658Z"
    },
    "scrolled": true
   },
   "outputs": [],
   "source": [
    "test.corr()"
   ]
  },
  {
   "cell_type": "markdown",
   "metadata": {},
   "source": [
    "#### Variable test 13 CSA_Days_Remaining"
   ]
  },
  {
   "cell_type": "code",
   "execution_count": null,
   "metadata": {
    "ExecuteTime": {
     "end_time": "2020-05-05T01:00:22.362508Z",
     "start_time": "2020-05-05T01:00:21.364188Z"
    }
   },
   "outputs": [],
   "source": [
    "#Create subset test for testing ideal element\n",
    "test = data_filtered_by_coe.loc[:, ['CSA_Days_Remaining','PARTS_EQ_0_12M']]\n",
    "#define the x & y data\n",
    "\n",
    "#test.describe()\n",
    "#scatter plot\n",
    "sns.pairplot(test, kind='reg', diag_kind='hist',\n",
    "             height=6, aspect=1,\n",
    "             plot_kws={'scatter_kws': {'alpha': 0.7}})\n",
    "plt.savefig('..\\\\data\\\\Output\\\\CSA_Days_Remaining')"
   ]
  },
  {
   "cell_type": "code",
   "execution_count": null,
   "metadata": {
    "ExecuteTime": {
     "end_time": "2020-05-04T20:48:50.880949Z",
     "start_time": "2020-05-04T20:48:50.862966Z"
    }
   },
   "outputs": [],
   "source": [
    "y_kurtosis = kurtosis(test['CSA_Days_Remaining'], fisher = True)\n",
    "display(\"CSA_Days_Remaining kurtosis: {:2}\".format(y_kurtosis))\n",
    "display(stats.kurtosistest(test['CSA_Days_Remaining']))\n",
    "\n",
    "y_skew = skew(test['CSA_Days_Remaining'])\n",
    "display(\"CSA_Days_Remaining skew: {:2}\".format(y_skew))\n",
    "display(stats.skewtest(test['CSA_Days_Remaining']))"
   ]
  },
  {
   "cell_type": "code",
   "execution_count": null,
   "metadata": {
    "ExecuteTime": {
     "end_time": "2020-05-05T01:00:24.939953Z",
     "start_time": "2020-05-05T01:00:24.930977Z"
    },
    "scrolled": true
   },
   "outputs": [],
   "source": [
    "test.corr()"
   ]
  },
  {
   "cell_type": "markdown",
   "metadata": {},
   "source": [
    "#### Variable test 14 Percentage_PLSubscriptionActive"
   ]
  },
  {
   "cell_type": "code",
   "execution_count": null,
   "metadata": {
    "ExecuteTime": {
     "end_time": "2020-05-05T01:00:37.082814Z",
     "start_time": "2020-05-05T01:00:33.567001Z"
    }
   },
   "outputs": [],
   "source": [
    "#Create subset test for testing ideal element\n",
    "test = data_filtered_by_coe.loc[:, ['Percentage_PLSubscriptionActive','PARTS_EQ_0_12M']]\n",
    "#define the x & y data\n",
    "\n",
    "#test.describe()\n",
    "#scatter plot\n",
    "sns.pairplot(test, kind='reg', diag_kind='hist',\n",
    "             height=6, aspect=1,\n",
    "             plot_kws={'scatter_kws': {'alpha': 0.7}})\n",
    "plt.savefig('..\\\\data\\\\Output\\\\Percentage_PLSubscriptionActive')"
   ]
  },
  {
   "cell_type": "code",
   "execution_count": null,
   "metadata": {
    "ExecuteTime": {
     "end_time": "2020-05-04T20:48:50.880949Z",
     "start_time": "2020-05-04T20:48:50.862966Z"
    }
   },
   "outputs": [],
   "source": [
    "y_kurtosis = kurtosis(test['Percentage_PLSubscriptionActive'], fisher = True)\n",
    "display(\"Percentage_PLSubscriptionActive kurtosis: {:2}\".format(y_kurtosis))\n",
    "display(stats.kurtosistest(test['Percentage_PLSubscriptionActive']))\n",
    "\n",
    "y_skew = skew(test['Percentage_PLSubscriptionActive'])\n",
    "display(\"Percentage_PLSubscriptionActive skew: {:2}\".format(y_skew))\n",
    "display(stats.skewtest(test['Percentage_PLSubscriptionActive']))"
   ]
  },
  {
   "cell_type": "code",
   "execution_count": null,
   "metadata": {
    "ExecuteTime": {
     "end_time": "2020-05-05T01:00:37.444816Z",
     "start_time": "2020-05-05T01:00:37.432846Z"
    },
    "scrolled": true
   },
   "outputs": [],
   "source": [
    "test.corr()"
   ]
  },
  {
   "cell_type": "markdown",
   "metadata": {},
   "source": [
    "#### Variable test 15 Percentage_PLDeviceSerialNumber"
   ]
  },
  {
   "cell_type": "code",
   "execution_count": null,
   "metadata": {
    "ExecuteTime": {
     "end_time": "2020-05-05T01:00:49.767015Z",
     "start_time": "2020-05-05T01:00:46.282280Z"
    }
   },
   "outputs": [],
   "source": [
    "#Create subset test for testing ideal element\n",
    "test = data_filtered_by_coe.loc[:, ['Percentage_PLDeviceSerialNumber','PARTS_EQ_0_12M']]\n",
    "#define the x & y data\n",
    "\n",
    "#test.describe()\n",
    "#scatter plot\n",
    "sns.pairplot(test, kind='reg', diag_kind='hist',\n",
    "             height=6, aspect=1,\n",
    "             plot_kws={'scatter_kws': {'alpha': 0.7}})\n",
    "plt.savefig('..\\\\data\\\\Output\\\\Percentage_PLDeviceSerialNumber')"
   ]
  },
  {
   "cell_type": "code",
   "execution_count": null,
   "metadata": {
    "ExecuteTime": {
     "end_time": "2020-05-04T20:48:50.880949Z",
     "start_time": "2020-05-04T20:48:50.862966Z"
    }
   },
   "outputs": [],
   "source": [
    "y_kurtosis = kurtosis(test['Percentage_PLDeviceSerialNumber'], fisher = True)\n",
    "display(\"Percentage_PLDeviceSerialNumber kurtosis: {:2}\".format(y_kurtosis))\n",
    "display(stats.kurtosistest(test['Percentage_PLDeviceSerialNumber']))\n",
    "\n",
    "y_skew = skew(test['Percentage_PLDeviceSerialNumber'])\n",
    "display(\"Percentage_PLDeviceSerialNumber skew: {:2}\".format(y_skew))\n",
    "display(stats.skewtest(test['Percentage_PLDeviceSerialNumber']))"
   ]
  },
  {
   "cell_type": "code",
   "execution_count": null,
   "metadata": {
    "ExecuteTime": {
     "end_time": "2020-05-05T01:00:56.818771Z",
     "start_time": "2020-05-05T01:00:56.807763Z"
    },
    "scrolled": true
   },
   "outputs": [],
   "source": [
    "test.corr()"
   ]
  },
  {
   "cell_type": "markdown",
   "metadata": {},
   "source": [
    "#### Variable test 16 OLGAAmount"
   ]
  },
  {
   "cell_type": "code",
   "execution_count": null,
   "metadata": {
    "ExecuteTime": {
     "end_time": "2020-05-05T01:01:05.370764Z",
     "start_time": "2020-05-05T01:01:01.616259Z"
    }
   },
   "outputs": [],
   "source": [
    "#Create subset test for testing ideal element\n",
    "test = data_filtered_by_coe.loc[:, ['OLGAAmount','PARTS_EQ_0_12M']]\n",
    "#define the x & y data\n",
    "\n",
    "#test.describe()\n",
    "#scatter plot\n",
    "sns.pairplot(test, kind='reg', diag_kind='hist',\n",
    "             height=6, aspect=1,\n",
    "             plot_kws={'scatter_kws': {'alpha': 0.7}})\n",
    "plt.savefig('..\\\\data\\\\Output\\\\OLGAAmount')"
   ]
  },
  {
   "cell_type": "code",
   "execution_count": null,
   "metadata": {
    "ExecuteTime": {
     "end_time": "2020-05-04T20:48:50.880949Z",
     "start_time": "2020-05-04T20:48:50.862966Z"
    }
   },
   "outputs": [],
   "source": [
    "y_kurtosis = kurtosis(test['OLGAAmount'], fisher = True)\n",
    "display(\"OLGAAmount kurtosis: {:2}\".format(y_kurtosis))\n",
    "display(stats.kurtosistest(test['OLGAAmount']))\n",
    "\n",
    "y_skew = skew(test['OLGAAmount'])\n",
    "display(\"OLGAAmount skew: {:2}\".format(y_skew))\n",
    "display(stats.skewtest(test['OLGAAmount']))"
   ]
  },
  {
   "cell_type": "code",
   "execution_count": null,
   "metadata": {
    "ExecuteTime": {
     "end_time": "2020-05-05T01:01:05.737779Z",
     "start_time": "2020-05-05T01:01:05.726809Z"
    },
    "scrolled": true
   },
   "outputs": [],
   "source": [
    "test.corr()"
   ]
  },
  {
   "cell_type": "markdown",
   "metadata": {},
   "source": [
    "#### Variable test 17 POPS_EQ"
   ]
  },
  {
   "cell_type": "code",
   "execution_count": null,
   "metadata": {
    "ExecuteTime": {
     "end_time": "2020-05-05T01:01:13.735475Z",
     "start_time": "2020-05-05T01:01:09.922530Z"
    }
   },
   "outputs": [],
   "source": [
    "#Create subset test for testing ideal element\n",
    "test = data_filtered_by_coe.loc[:, ['POPS_EQ','PARTS_EQ_0_12M']]\n",
    "#define the x & y data\n",
    "\n",
    "#test.describe()\n",
    "#scatter plot\n",
    "sns.pairplot(test, kind='reg', diag_kind='hist',\n",
    "             height=6, aspect=1,\n",
    "             plot_kws={'scatter_kws': {'alpha': 0.7}})\n",
    "plt.savefig('..\\\\data\\\\Output\\\\POPS_EQ')"
   ]
  },
  {
   "cell_type": "code",
   "execution_count": null,
   "metadata": {
    "ExecuteTime": {
     "end_time": "2020-05-04T20:54:39.307988Z",
     "start_time": "2020-05-04T20:54:39.290994Z"
    }
   },
   "outputs": [],
   "source": [
    "y_kurtosis = kurtosis(test['POPS_EQ'], fisher = True)\n",
    "display(\"POPS_EQ kurtosis: {:2}\".format(y_kurtosis))\n",
    "display(stats.kurtosistest(test['POPS_EQ']))\n",
    "\n",
    "y_skew = skew(test['POPS_EQ'])\n",
    "display(\"POPS_EQ skew: {:2}\".format(y_skew))\n",
    "display(stats.skewtest(test['POPS_EQ']))"
   ]
  },
  {
   "cell_type": "code",
   "execution_count": null,
   "metadata": {
    "ExecuteTime": {
     "end_time": "2020-05-05T01:01:14.106451Z",
     "start_time": "2020-05-05T01:01:14.095480Z"
    },
    "scrolled": true
   },
   "outputs": [],
   "source": [
    "test.corr()"
   ]
  },
  {
   "cell_type": "markdown",
   "metadata": {},
   "source": [
    "#### Variable test 18 PMContract_Only"
   ]
  },
  {
   "cell_type": "code",
   "execution_count": null,
   "metadata": {
    "ExecuteTime": {
     "end_time": "2020-05-05T01:01:19.506791Z",
     "start_time": "2020-05-05T01:01:18.675053Z"
    }
   },
   "outputs": [],
   "source": [
    "#Create subset test for testing ideal element\n",
    "test = data_filtered_by_coe.loc[:, ['PMContract_Only','PARTS_EQ_0_12M']]\n",
    "#define the x & y data\n",
    "\n",
    "#test.describe()\n",
    "#scatter plot\n",
    "sns.pairplot(test, kind='reg', diag_kind='hist',\n",
    "             height=6, aspect=1,\n",
    "             plot_kws={'scatter_kws': {'alpha': 0.7}})\n",
    "plt.savefig('..\\\\data\\\\Output\\\\PMContract_Only')"
   ]
  },
  {
   "cell_type": "code",
   "execution_count": null,
   "metadata": {
    "ExecuteTime": {
     "end_time": "2020-05-04T20:54:39.307988Z",
     "start_time": "2020-05-04T20:54:39.290994Z"
    }
   },
   "outputs": [],
   "source": [
    "y_kurtosis = kurtosis(test['PMContract_Only'], fisher = True)\n",
    "display(\"PMContract_Only kurtosis: {:2}\".format(y_kurtosis))\n",
    "display(stats.kurtosistest(test['PMContract_Only']))\n",
    "\n",
    "y_skew = skew(test['PMContract_Only'])\n",
    "display(\"PMContract_Only skew: {:2}\".format(y_skew))\n",
    "display(stats.skewtest(test['PMContract_Only']))"
   ]
  },
  {
   "cell_type": "code",
   "execution_count": null,
   "metadata": {
    "ExecuteTime": {
     "end_time": "2020-05-04T20:54:40.341169Z",
     "start_time": "2020-05-04T20:54:40.333188Z"
    },
    "scrolled": true
   },
   "outputs": [],
   "source": [
    "test.corr()"
   ]
  },
  {
   "cell_type": "markdown",
   "metadata": {},
   "source": [
    "#### Variable test 19 PartsDCAL"
   ]
  },
  {
   "cell_type": "code",
   "execution_count": null,
   "metadata": {
    "ExecuteTime": {
     "end_time": "2020-05-05T01:01:30.916117Z",
     "start_time": "2020-05-05T01:01:27.208326Z"
    },
    "scrolled": false
   },
   "outputs": [],
   "source": [
    "#Create subset test for testing ideal element\n",
    "test = data_filtered_by_coe.loc[:, ['PartsDCAL','PARTS_EQ_0_12M']]\n",
    "#define the x & y data\n",
    "\n",
    "#test.describe()\n",
    "#scatter plot\n",
    "sns.pairplot(test, kind='reg', diag_kind='hist',\n",
    "             height=6, aspect=1,\n",
    "             plot_kws={'scatter_kws': {'alpha': 0.7}})\n",
    "plt.savefig('..\\\\data\\\\Output\\\\PartsDCAL')"
   ]
  },
  {
   "cell_type": "code",
   "execution_count": null,
   "metadata": {
    "ExecuteTime": {
     "end_time": "2020-05-04T20:54:39.307988Z",
     "start_time": "2020-05-04T20:54:39.290994Z"
    }
   },
   "outputs": [],
   "source": [
    "y_kurtosis = kurtosis(test['PartsDCAL'], fisher = True)\n",
    "display(\"PartsDCAL kurtosis: {:2}\".format(y_kurtosis))\n",
    "display(stats.kurtosistest(test['PartsDCAL']))\n",
    "\n",
    "y_skew = skew(test['PartsDCAL'])\n",
    "display(\"PartsDCAL skew: {:2}\".format(y_skew))\n",
    "display(stats.skewtest(test['PartsDCAL']))"
   ]
  },
  {
   "cell_type": "code",
   "execution_count": null,
   "metadata": {
    "ExecuteTime": {
     "end_time": "2020-05-05T01:01:55.471059Z",
     "start_time": "2020-05-05T01:01:55.463080Z"
    },
    "scrolled": true
   },
   "outputs": [],
   "source": [
    "test.corr()"
   ]
  },
  {
   "cell_type": "markdown",
   "metadata": {},
   "source": [
    "#### Variable test 20 Expenditure_12M_Equipment"
   ]
  },
  {
   "cell_type": "code",
   "execution_count": null,
   "metadata": {
    "ExecuteTime": {
     "end_time": "2020-05-05T01:02:04.465247Z",
     "start_time": "2020-05-05T01:02:00.942978Z"
    }
   },
   "outputs": [],
   "source": [
    "#Create subset test for testing ideal element\n",
    "test = data_filtered_by_coe.loc[:, ['Expenditure_12M_Equipment','PARTS_EQ_0_12M']]\n",
    "#define the x & y data\n",
    "\n",
    "#test.describe()\n",
    "#scatter plot\n",
    "sns.pairplot(test, kind='reg', diag_kind='hist',\n",
    "             height=6, aspect=1,\n",
    "             plot_kws={'scatter_kws': {'alpha': 0.7}})\n",
    "plt.savefig('..\\\\data\\\\Output\\\\Expenditure_12M_Equipment')"
   ]
  },
  {
   "cell_type": "code",
   "execution_count": null,
   "metadata": {
    "ExecuteTime": {
     "end_time": "2020-05-04T20:54:39.307988Z",
     "start_time": "2020-05-04T20:54:39.290994Z"
    }
   },
   "outputs": [],
   "source": [
    "y_kurtosis = kurtosis(test['Expenditure_12M_Equipment'], fisher = True)\n",
    "display(\"Expenditure_12M_Equipment kurtosis: {:2}\".format(y_kurtosis))\n",
    "display(stats.kurtosistest(test['Expenditure_12M_Equipment']))\n",
    "\n",
    "y_skew = skew(test['Expenditure_12M_Equipment'])\n",
    "display(\"Expenditure_12M_Equipment skew: {:2}\".format(y_skew))\n",
    "display(stats.skewtest(test['Expenditure_12M_Equipment']))"
   ]
  },
  {
   "cell_type": "code",
   "execution_count": null,
   "metadata": {
    "ExecuteTime": {
     "end_time": "2020-05-05T01:02:04.872159Z",
     "start_time": "2020-05-05T01:02:04.862188Z"
    },
    "scrolled": true
   },
   "outputs": [],
   "source": [
    "test.corr()"
   ]
  },
  {
   "cell_type": "markdown",
   "metadata": {},
   "source": [
    "#### Variable test 21 LTDSMU"
   ]
  },
  {
   "cell_type": "code",
   "execution_count": null,
   "metadata": {
    "ExecuteTime": {
     "end_time": "2020-05-05T01:02:14.850737Z",
     "start_time": "2020-05-05T01:02:11.252978Z"
    },
    "scrolled": false
   },
   "outputs": [],
   "source": [
    "#Create subset test for testing ideal element\n",
    "test = data_filtered_by_coe.loc[:, ['LTDSMU','PARTS_EQ_0_12M']]\n",
    "#define the x & y data\n",
    "\n",
    "#test.describe()\n",
    "#scatter plot\n",
    "sns.pairplot(test, kind='reg', diag_kind='hist',\n",
    "             height=6, aspect=1,\n",
    "             plot_kws={'scatter_kws': {'alpha': 0.7}})\n",
    "plt.savefig('..\\\\data\\\\Output\\\\LTDSMU')"
   ]
  },
  {
   "cell_type": "code",
   "execution_count": null,
   "metadata": {
    "ExecuteTime": {
     "end_time": "2020-05-04T20:54:39.307988Z",
     "start_time": "2020-05-04T20:54:39.290994Z"
    }
   },
   "outputs": [],
   "source": [
    "y_kurtosis = kurtosis(test['LTDSMU'], fisher = True)\n",
    "display(\"LTDSMU kurtosis: {:2}\".format(y_kurtosis))\n",
    "display(stats.kurtosistest(test['LTDSMU']))\n",
    "\n",
    "y_skew = skew(test['LTDSMU'])\n",
    "display(\"LTDSMU skew: {:2}\".format(y_skew))\n",
    "display(stats.skewtest(test['LTDSMU']))"
   ]
  },
  {
   "cell_type": "code",
   "execution_count": null,
   "metadata": {
    "ExecuteTime": {
     "end_time": "2020-05-05T01:02:15.166891Z",
     "start_time": "2020-05-05T01:02:15.157955Z"
    },
    "scrolled": true
   },
   "outputs": [],
   "source": [
    "test.corr()"
   ]
  },
  {
   "cell_type": "markdown",
   "metadata": {},
   "source": [
    "#### Variable test 22 Age_Months"
   ]
  },
  {
   "cell_type": "code",
   "execution_count": null,
   "metadata": {
    "ExecuteTime": {
     "end_time": "2020-05-05T01:02:23.408914Z",
     "start_time": "2020-05-05T01:02:22.307819Z"
    },
    "scrolled": true
   },
   "outputs": [],
   "source": [
    "#Create subset test for testing ideal element\n",
    "test = data_filtered_by_coe.loc[:, ['Age_Months','PARTS_EQ_0_12M']]\n",
    "#define the x & y data\n",
    "\n",
    "#test.describe()\n",
    "#scatter plot\n",
    "sns.pairplot(test, kind='reg', diag_kind='hist',\n",
    "             height=6, aspect=1,\n",
    "             plot_kws={'scatter_kws': {'alpha': 0.7}})\n",
    "plt.savefig('..\\\\data\\\\Output\\\\Age_Months')"
   ]
  },
  {
   "cell_type": "code",
   "execution_count": null,
   "metadata": {
    "ExecuteTime": {
     "end_time": "2020-05-04T20:54:39.307988Z",
     "start_time": "2020-05-04T20:54:39.290994Z"
    }
   },
   "outputs": [],
   "source": [
    "y_kurtosis = kurtosis(test['Age_Months'], fisher = True)\n",
    "display(\"Age_Months kurtosis: {:2}\".format(y_kurtosis))\n",
    "display(stats.kurtosistest(test['Age_Months']))\n",
    "\n",
    "y_skew = skew(test['Age_Months'])\n",
    "display(\"Age_Months skew: {:2}\".format(y_skew))\n",
    "display(stats.skewtest(test['Age_Months']))"
   ]
  },
  {
   "cell_type": "code",
   "execution_count": null,
   "metadata": {
    "ExecuteTime": {
     "end_time": "2020-05-05T01:02:26.570959Z",
     "start_time": "2020-05-05T01:02:26.561984Z"
    },
    "scrolled": true
   },
   "outputs": [],
   "source": [
    "test.corr()"
   ]
  },
  {
   "cell_type": "markdown",
   "metadata": {},
   "source": [
    "#### Variable test 23 Expenditure_12M_PartsNServices"
   ]
  },
  {
   "cell_type": "code",
   "execution_count": null,
   "metadata": {
    "ExecuteTime": {
     "end_time": "2020-05-05T01:02:37.126615Z",
     "start_time": "2020-05-05T01:02:33.441512Z"
    }
   },
   "outputs": [],
   "source": [
    "#Create subset test for testing ideal element\n",
    "test = data_filtered_by_coe.loc[:, ['Expenditure_12M_PartsNServices','PARTS_EQ_0_12M']]\n",
    "#define the x & y data\n",
    "\n",
    "#test.describe()\n",
    "#scatter plot\n",
    "sns.pairplot(test, kind='reg', diag_kind='hist',\n",
    "             height=6, aspect=1,\n",
    "             plot_kws={'scatter_kws': {'alpha': 0.7}})\n",
    "plt.savefig('..\\\\data\\\\Output\\\\Expenditure_12M_PartsNServices')"
   ]
  },
  {
   "cell_type": "code",
   "execution_count": null,
   "metadata": {
    "ExecuteTime": {
     "end_time": "2020-05-04T20:54:39.307988Z",
     "start_time": "2020-05-04T20:54:39.290994Z"
    }
   },
   "outputs": [],
   "source": [
    "y_kurtosis = kurtosis(test['Expenditure_12M_PartsNServices'], fisher = True)\n",
    "display(\"Expenditure_12M_PartsNServices kurtosis: {:2}\".format(y_kurtosis))\n",
    "display(stats.kurtosistest(test['Expenditure_12M_PartsNServices']))\n",
    "\n",
    "y_skew = skew(test['Expenditure_12M_PartsNServices'])\n",
    "display(\"Expenditure_12M_PartsNServices skew: {:2}\".format(y_skew))\n",
    "display(stats.skewtest(test['Expenditure_12M_PartsNServices']))"
   ]
  },
  {
   "cell_type": "code",
   "execution_count": null,
   "metadata": {
    "ExecuteTime": {
     "end_time": "2020-05-05T01:02:37.470704Z",
     "start_time": "2020-05-05T01:02:37.460721Z"
    },
    "scrolled": true
   },
   "outputs": [],
   "source": [
    "test.corr()"
   ]
  },
  {
   "cell_type": "markdown",
   "metadata": {},
   "source": [
    "### OLS"
   ]
  },
  {
   "cell_type": "code",
   "execution_count": null,
   "metadata": {
    "ExecuteTime": {
     "end_time": "2020-05-05T01:02:52.897519Z",
     "start_time": "2020-05-05T01:02:52.820720Z"
    },
    "scrolled": false
   },
   "outputs": [],
   "source": [
    "# define our input variable (X) & output variable\n",
    "X = data_filtered_by_coe.drop('PARTS_EQ_0_12M', axis = 1)\n",
    "Y = data_filtered_by_coe[['PARTS_EQ_0_12M']]\n",
    "\n",
    "#OLS Model\n",
    "model = sm.OLS(Y, X)\n",
    "results = model.fit()\n",
    "print(results.summary())"
   ]
  },
  {
   "cell_type": "code",
   "execution_count": null,
   "metadata": {
    "ExecuteTime": {
     "end_time": "2020-05-05T01:03:01.726609Z",
     "start_time": "2020-05-05T01:03:01.687767Z"
    }
   },
   "outputs": [],
   "source": [
    "# define our input variable (X) & output variable\n",
    "X = data_filtered_by_coe.drop('PARTS_EQ_0_12M', axis = 1)\n",
    "Y = data_filtered_by_coe[['PARTS_EQ_0_12M']]\n",
    "\n",
    "# create a Linear Regression model object\n",
    "regression_model = LinearRegression()\n",
    "regression_model.fit(X, Y)"
   ]
  },
  {
   "cell_type": "code",
   "execution_count": null,
   "metadata": {
    "ExecuteTime": {
     "end_time": "2020-05-05T01:03:05.847755Z",
     "start_time": "2020-05-05T01:03:05.838784Z"
    }
   },
   "outputs": [],
   "source": [
    "# let's grab the coefficient of our model and the intercept\n",
    "intercept = regression_model.intercept_[0]\n",
    "coefficent = regression_model.coef_[0][0]\n",
    "\n",
    "print(\"The intercept for our model is {:.4}\".format(intercept))\n",
    "print('-'*100)\n",
    "\n",
    "# loop through the dictionary and print the data\n",
    "for coef in zip(X.columns, regression_model.coef_[0]):\n",
    "    print(\"The Coefficient for {} is {:.2}\".format(coef[0],coef[1]))"
   ]
  },
  {
   "cell_type": "code",
   "execution_count": null,
   "metadata": {
    "ExecuteTime": {
     "end_time": "2020-05-05T01:03:09.532269Z",
     "start_time": "2020-05-05T01:03:09.525289Z"
    },
    "scrolled": false
   },
   "outputs": [],
   "source": [
    "results.pvalues"
   ]
  },
  {
   "cell_type": "code",
   "execution_count": null,
   "metadata": {
    "ExecuteTime": {
     "end_time": "2020-05-05T01:03:14.905191Z",
     "start_time": "2020-05-05T01:03:14.895217Z"
    }
   },
   "outputs": [],
   "source": [
    "results.conf_int()"
   ]
  },
  {
   "cell_type": "markdown",
   "metadata": {},
   "source": [
    "### Train model"
   ]
  },
  {
   "cell_type": "code",
   "execution_count": null,
   "metadata": {
    "ExecuteTime": {
     "end_time": "2020-05-05T01:03:20.909194Z",
     "start_time": "2020-05-05T01:03:20.866398Z"
    }
   },
   "outputs": [],
   "source": [
    "# define our input variable (X) & output variable\n",
    "X = data_filtered_by_coe.drop('PARTS_EQ_0_12M', axis = 1)\n",
    "Y = data_filtered_by_coe[['PARTS_EQ_0_12M']]\n",
    "\n",
    "# Split X and y into X_\n",
    "X_train, X_test, y_train, y_test = train_test_split(X, Y, test_size=0.20, random_state=1)\n",
    "\n",
    "# create a Linear Regression model object\n",
    "regression_model = LinearRegression()\n",
    "\n",
    "# pass through the X_train & y_train data set\n",
    "regression_model.fit(X_train, y_train)\n",
    "\n",
    "# prediction model\n",
    "y_predict = regression_model.predict(X_test)"
   ]
  },
  {
   "cell_type": "code",
   "execution_count": null,
   "metadata": {
    "ExecuteTime": {
     "end_time": "2020-05-05T01:03:33.646902Z",
     "start_time": "2020-05-05T01:03:33.636909Z"
    },
    "scrolled": true
   },
   "outputs": [],
   "source": [
    "# calculate the mean squared error\n",
    "model_mse = mean_squared_error(y_test, y_predict)\n",
    "\n",
    "# calculate the mean absolute error\n",
    "model_mae = mean_absolute_error(y_test, y_predict)\n",
    "\n",
    "# calulcate the root mean squared error\n",
    "model_rmse =  math.sqrt(model_mse)\n",
    "\n",
    "# display the output\n",
    "print(\"MSE {:.3}\".format(model_mse))\n",
    "print(\"MAE {:.3}\".format(model_mae))\n",
    "print(\"RMSE {:.3}\".format(model_rmse))"
   ]
  },
  {
   "cell_type": "code",
   "execution_count": null,
   "metadata": {
    "ExecuteTime": {
     "end_time": "2020-05-05T01:03:34.718671Z",
     "start_time": "2020-05-05T01:03:34.711690Z"
    }
   },
   "outputs": [],
   "source": [
    "model_r2 = r2_score(y_test, y_predict)\n",
    "print(\"R2: {:.2}\".format(model_r2))"
   ]
  },
  {
   "cell_type": "markdown",
   "metadata": {},
   "source": [
    "### Testing for Autocorrelation"
   ]
  },
  {
   "cell_type": "code",
   "execution_count": null,
   "metadata": {
    "ExecuteTime": {
     "end_time": "2020-05-05T01:03:46.000251Z",
     "start_time": "2020-05-05T01:03:45.610291Z"
    },
    "scrolled": true
   },
   "outputs": [],
   "source": [
    "# define our input variable (X) & output variable\n",
    "X = data_filtered_by_coe.drop('PARTS_EQ_0_12M', axis = 1)\n",
    "Y = data_filtered_by_coe[['PARTS_EQ_0_12M']]\n",
    "\n",
    "# test for Autocorrelation\n",
    "from statsmodels.stats.stattools import durbin_watson\n",
    "\n",
    "# define our intput\n",
    "X2 = sm.add_constant(X)\n",
    "\n",
    "# create a OLS model\n",
    "model = sm.OLS(Y, X2)\n",
    "\n",
    "# fit the data\n",
    "est = model.fit()\n",
    "\n",
    "# calculate the lag, optional\n",
    "lag = min(10, (len(X)//5))\n",
    "print('The number of lags will be {}'.format(lag))\n",
    "print('-'*100)\n",
    "\n",
    "# run the Ljung-Box test for no autocorrelation of residuals\n",
    "# test_results = diag.acorr_breusch_godfrey(est, nlags = lag, store = True)\n",
    "test_results = diag.acorr_ljungbox(est.resid, lags = lag)\n",
    "\n",
    "# grab the p-values and the test statistics\n",
    "ibvalue, p_val = test_results\n",
    "\n",
    "# print the results of the test\n",
    "if min(p_val) > 0.05:\n",
    "    print(\"The lowest p-value found was {:.4}\".format(min(p_val)))\n",
    "    print(\"We fail to reject the null hypthoesis, so there is no autocorrelation.\")\n",
    "    print('-'*100)\n",
    "else:\n",
    "    print(\"The lowest p-value found was {:.4}\".format(min(p_val)))\n",
    "    print(\"We reject the null hypthoesis, so there is autocorrelation.\")\n",
    "    print('-'*100)\n",
    "\n",
    "# plot autocorrelation\n",
    "sm.graphics.tsa.plot_acf(est.resid)\n",
    "plt.show()"
   ]
  },
  {
   "cell_type": "markdown",
   "metadata": {},
   "source": [
    "### Testing the Mean of the Residuals Equals 0"
   ]
  },
  {
   "cell_type": "code",
   "execution_count": null,
   "metadata": {
    "ExecuteTime": {
     "end_time": "2020-05-05T01:03:54.600219Z",
     "start_time": "2020-05-05T01:03:54.333094Z"
    }
   },
   "outputs": [],
   "source": [
    "# check for the normality of the residuals\n",
    "sm.qqplot(results.resid, line='s')\n",
    "pylab.show()\n",
    "\n",
    "# also check that the mean of the residuals is approx. 0.\n",
    "mean_residuals = sum(results.resid)/ len(results.resid)\n",
    "print(\"The mean of the residuals is {:.4}\".format(mean_residuals))"
   ]
  },
  {
   "cell_type": "markdown",
   "metadata": {},
   "source": [
    "### Testing for Heteroskedasticity"
   ]
  },
  {
   "cell_type": "code",
   "execution_count": null,
   "metadata": {
    "ExecuteTime": {
     "end_time": "2020-05-05T01:04:01.154083Z",
     "start_time": "2020-05-05T01:04:01.146104Z"
    }
   },
   "outputs": [],
   "source": [
    "x = data_filtered_by_coe.drop('PARTS_EQ_0_12M', axis = 1)\n",
    "y = data_filtered_by_coe[['PARTS_EQ_0_12M']]"
   ]
  },
  {
   "cell_type": "code",
   "execution_count": null,
   "metadata": {
    "ExecuteTime": {
     "end_time": "2020-05-05T01:04:02.325417Z",
     "start_time": "2020-05-05T01:04:02.272592Z"
    }
   },
   "outputs": [],
   "source": [
    "# Run the Breusch-Pagan test\n",
    "_, pval, __, f_pval = diag.het_breuschpagan(results.resid, results.model.exog)\n",
    "print(pval, f_pval)\n",
    "print('-'*100)\n",
    "\n",
    "# print the results of the test\n",
    "if pval > 0.05:\n",
    "    print(\"For the Breusch-Pagan's Test\")\n",
    "    print(\"The p-value was {:.4}\".format(pval))\n",
    "    print(\"We fail to reject the null hypthoesis, so there is no heterosecdasticity.\")\n",
    "\n",
    "else:\n",
    "    print(\"For the Breusch-Pagan's Test\")\n",
    "    print(\"The p-value was {:.4}\".format(pval))\n",
    "    print(\"We reject the null hypthoesis, so there is heterosecdasticity.\")\n",
    "\n"
   ]
  },
  {
   "cell_type": "markdown",
   "metadata": {},
   "source": [
    "### Re-Test After Adjustment"
   ]
  },
  {
   "cell_type": "code",
   "execution_count": null,
   "metadata": {
    "ExecuteTime": {
     "end_time": "2020-05-04T19:52:10.022746Z",
     "start_time": "2020-05-04T19:52:09.902065Z"
    }
   },
   "outputs": [],
   "source": [
    "# define our input variable (X) & output variable\n",
    "X = data_filtered.drop('PARTS_EQ_0_12M', axis = 1)\n",
    "Y = data_filtered[['PARTS_EQ_0_12M']]\n",
    "\n",
    "#Summary\n",
    "model = sm.OLS(Y, X)\n",
    "results = model.fit()\n",
    "print(results.summary())"
   ]
  },
  {
   "cell_type": "code",
   "execution_count": null,
   "metadata": {
    "ExecuteTime": {
     "end_time": "2020-05-04T19:50:33.477021Z",
     "start_time": "2020-05-04T19:50:33.354317Z"
    }
   },
   "outputs": [],
   "source": []
  }
 ],
 "metadata": {
  "kernelspec": {
   "display_name": "Python 3",
   "language": "python",
   "name": "python3"
  },
  "language_info": {
   "codemirror_mode": {
    "name": "ipython",
    "version": 3
   },
   "file_extension": ".py",
   "mimetype": "text/x-python",
   "name": "python",
   "nbconvert_exporter": "python",
   "pygments_lexer": "ipython3",
   "version": "3.7.4"
  },
  "varInspector": {
   "cols": {
    "lenName": 16,
    "lenType": 16,
    "lenVar": "100"
   },
   "kernels_config": {
    "python": {
     "delete_cmd_postfix": "",
     "delete_cmd_prefix": "del ",
     "library": "var_list.py",
     "varRefreshCmd": "print(var_dic_list())"
    },
    "r": {
     "delete_cmd_postfix": ") ",
     "delete_cmd_prefix": "rm(",
     "library": "var_list.r",
     "varRefreshCmd": "cat(var_dic_list()) "
    }
   },
   "types_to_exclude": [
    "module",
    "function",
    "builtin_function_or_method",
    "instance",
    "_Feature"
   ],
   "window_display": false
  }
 },
 "nbformat": 4,
 "nbformat_minor": 2
}
