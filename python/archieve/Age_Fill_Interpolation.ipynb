{
 "cells": [
  {
   "cell_type": "markdown",
   "metadata": {},
   "source": [
    "# LIBRARIES AND DATA"
   ]
  },
  {
   "cell_type": "code",
   "execution_count": 2,
   "metadata": {
    "ExecuteTime": {
     "end_time": "2020-05-22T16:47:45.351954Z",
     "start_time": "2020-05-22T16:47:37.948560Z"
    }
   },
   "outputs": [],
   "source": [
    "#Libraries: i'm not even sure which one i'm using\n",
    "import numpy as np\n",
    "import pandas as pd\n",
    "import seaborn as sns\n",
    "import matplotlib.pyplot as plt\n",
    "import statsmodels.api as sm\n",
    "import math \n",
    "import pylab\n",
    "from scipy import stats\n",
    "from scipy import interpolate\n",
    "from scipy.interpolate import Rbf\n",
    "# from scipy.stats import kurtosis, skew\n",
    "from statsmodels.stats import diagnostic as diag\n",
    "from statsmodels.stats.outliers_influence import variance_inflation_factor\n",
    "from sklearn.model_selection import train_test_split\n",
    "from sklearn.linear_model import LinearRegression\n",
    "from sklearn.metrics import mean_squared_error, r2_score, mean_absolute_error\n",
    "from scipy.interpolate import *"
   ]
  },
  {
   "cell_type": "code",
   "execution_count": 21,
   "metadata": {
    "ExecuteTime": {
     "end_time": "2020-05-22T15:54:23.544380Z",
     "start_time": "2020-05-22T15:54:23.160385Z"
    },
    "scrolled": true
   },
   "outputs": [
    {
     "data": {
      "text/plain": [
       "(569, 13)"
      ]
     },
     "execution_count": 21,
     "metadata": {},
     "output_type": "execute_result"
    }
   ],
   "source": [
    "#load data\n",
    "# df = pd.read_excel('..\\\\data\\\\EquipmentAge.xlsx', index_col='EquipmentCode') ##### 93k records\n",
    "# df = pd.read_excel('..\\\\data\\\\EquipmentAge_Partial.xlsx', index_col='EquipmentCode') ######1528 records with all 336 (a lot prefixes)\n",
    "df = pd.read_excel('..\\\\data\\\\EquipmentAge_Partial_Partial.xlsx', index_col='EquipmentCode') #2 for testing\n",
    "#Verify data size\n",
    "df.shape\n",
    "#Reason for splitting SN1 SN2:\n",
    "#Cat assigns catserialnumberprefix to build configurations. For consistency purposes, each prefix is assigned to one manufacturing plant.\n",
    "#We can predict age base on serial number since they are sequencial"
   ]
  },
  {
   "cell_type": "code",
   "execution_count": 19,
   "metadata": {
    "ExecuteTime": {
     "end_time": "2020-05-22T15:54:13.282061Z",
     "start_time": "2020-05-22T15:54:13.275081Z"
    }
   },
   "outputs": [
    {
     "data": {
      "text/plain": [
       "SerialNumber                    object\n",
       "SN1                             object\n",
       "SN2                              int64\n",
       "ModelName                       object\n",
       "CustomerAccountName             object\n",
       "CustomerAccountCode              int64\n",
       "CustomerAccount_Active           int64\n",
       "CustomerAccount_Territory        int64\n",
       "CustomerAccount_Internal         int64\n",
       "Age_From_DBS                   float64\n",
       "Age_From_Delivery              float64\n",
       "Combined_Age_Pro_Built_Year    float64\n",
       "Combined_Age_Pro_Delivery      float64\n",
       "dtype: object"
      ]
     },
     "execution_count": 19,
     "metadata": {},
     "output_type": "execute_result"
    }
   ],
   "source": [
    "#Verify data types\n",
    "df.dtypes\n",
    "\n",
    "#YOYO MENTIONED TO CONVERT AGE TO INT IN MODELS AND TESTS. \n",
    "#I CANNOT DO IT NOW BECAUSE OF NULL BUT I WILL CONVERT DURING MODELLING BECAUSE I WILL DROP NULL. \n",
    "#HOPEFULLY BY THEN PANDAS KNOW ITS INT64"
   ]
  },
  {
   "cell_type": "code",
   "execution_count": 14,
   "metadata": {
    "ExecuteTime": {
     "end_time": "2020-05-22T15:47:11.609969Z",
     "start_time": "2020-05-22T15:47:11.602926Z"
    }
   },
   "outputs": [
    {
     "data": {
      "text/plain": [
       "Index(['SerialNumber', 'SN1', 'SN2', 'ModelName', 'CustomerAccountName',\n",
       "       'CustomerAccountCode', 'CustomerAccount_Active',\n",
       "       'CustomerAccount_Territory', 'CustomerAccount_Internal', 'Age_From_DBS',\n",
       "       'Age_From_Delivery', 'Combined_Age_Pro_Built_Year',\n",
       "       'Combined_Age_Pro_Delivery'],\n",
       "      dtype='object')"
      ]
     },
     "execution_count": 14,
     "metadata": {},
     "output_type": "execute_result"
    }
   ],
   "source": [
    "#Check for columns and print to copy later\n",
    "df.columns\n",
    "\n",
    "#MUTIPLE PREDICTIONS ARE NEEDED:\n",
    "#PREDICTED BUILT YEAR: ONLY USE Age_From_DBS\n",
    "#PREDICTED DELIVERY DATE: ONLY USE Age_From_Delivery\n",
    "#PREDICTED_Age_Pro_Built_Year:\n",
    "#PREDICTED_Age_Pro_Delivery:\n",
    "\n",
    "#NOTE: I'm also keeping the customer columns so Bruce can decide which ones he will do parts estimation for"
   ]
  },
  {
   "cell_type": "markdown",
   "metadata": {
    "ExecuteTime": {
     "end_time": "2020-05-21T13:39:00.253441Z",
     "start_time": "2020-05-21T13:39:00.249440Z"
    },
    "heading_collapsed": true
   },
   "source": [
    "# TEST FOR BZY"
   ]
  },
  {
   "cell_type": "code",
   "execution_count": 22,
   "metadata": {
    "ExecuteTime": {
     "end_time": "2020-05-22T15:54:26.411979Z",
     "start_time": "2020-05-22T15:54:26.212209Z"
    },
    "hidden": true
   },
   "outputs": [
    {
     "data": {
      "text/html": [
       "<div>\n",
       "<style scoped>\n",
       "    .dataframe tbody tr th:only-of-type {\n",
       "        vertical-align: middle;\n",
       "    }\n",
       "\n",
       "    .dataframe tbody tr th {\n",
       "        vertical-align: top;\n",
       "    }\n",
       "\n",
       "    .dataframe thead th {\n",
       "        text-align: right;\n",
       "    }\n",
       "</style>\n",
       "<table border=\"1\" class=\"dataframe\">\n",
       "  <thead>\n",
       "    <tr style=\"text-align: right;\">\n",
       "      <th></th>\n",
       "      <th>SN2</th>\n",
       "      <th>CustomerAccountCode</th>\n",
       "      <th>CustomerAccount_Active</th>\n",
       "      <th>CustomerAccount_Territory</th>\n",
       "      <th>CustomerAccount_Internal</th>\n",
       "      <th>Age_From_DBS</th>\n",
       "      <th>Age_From_Delivery</th>\n",
       "      <th>Combined_Age_Pro_Built_Year</th>\n",
       "      <th>Combined_Age_Pro_Delivery</th>\n",
       "    </tr>\n",
       "  </thead>\n",
       "  <tbody>\n",
       "    <tr>\n",
       "      <td>count</td>\n",
       "      <td>433.000000</td>\n",
       "      <td>433.00000</td>\n",
       "      <td>433.000000</td>\n",
       "      <td>433.000000</td>\n",
       "      <td>433.000000</td>\n",
       "      <td>189.000000</td>\n",
       "      <td>110.000000</td>\n",
       "      <td>189.000000</td>\n",
       "      <td>189.000000</td>\n",
       "    </tr>\n",
       "    <tr>\n",
       "      <td>mean</td>\n",
       "      <td>1950.307159</td>\n",
       "      <td>96474.39030</td>\n",
       "      <td>0.639723</td>\n",
       "      <td>0.930716</td>\n",
       "      <td>0.080831</td>\n",
       "      <td>76.698413</td>\n",
       "      <td>64.427273</td>\n",
       "      <td>76.698413</td>\n",
       "      <td>76.698413</td>\n",
       "    </tr>\n",
       "    <tr>\n",
       "      <td>std</td>\n",
       "      <td>945.576417</td>\n",
       "      <td>99319.21039</td>\n",
       "      <td>0.480636</td>\n",
       "      <td>0.254230</td>\n",
       "      <td>0.272891</td>\n",
       "      <td>30.406100</td>\n",
       "      <td>30.557649</td>\n",
       "      <td>30.406100</td>\n",
       "      <td>30.406100</td>\n",
       "    </tr>\n",
       "    <tr>\n",
       "      <td>min</td>\n",
       "      <td>138.000000</td>\n",
       "      <td>1102.00000</td>\n",
       "      <td>0.000000</td>\n",
       "      <td>0.000000</td>\n",
       "      <td>0.000000</td>\n",
       "      <td>24.000000</td>\n",
       "      <td>22.000000</td>\n",
       "      <td>24.000000</td>\n",
       "      <td>24.000000</td>\n",
       "    </tr>\n",
       "    <tr>\n",
       "      <td>25%</td>\n",
       "      <td>1037.000000</td>\n",
       "      <td>25957.00000</td>\n",
       "      <td>0.000000</td>\n",
       "      <td>1.000000</td>\n",
       "      <td>0.000000</td>\n",
       "      <td>48.000000</td>\n",
       "      <td>34.000000</td>\n",
       "      <td>48.000000</td>\n",
       "      <td>48.000000</td>\n",
       "    </tr>\n",
       "    <tr>\n",
       "      <td>50%</td>\n",
       "      <td>2446.000000</td>\n",
       "      <td>56026.00000</td>\n",
       "      <td>1.000000</td>\n",
       "      <td>1.000000</td>\n",
       "      <td>0.000000</td>\n",
       "      <td>96.000000</td>\n",
       "      <td>54.000000</td>\n",
       "      <td>96.000000</td>\n",
       "      <td>96.000000</td>\n",
       "    </tr>\n",
       "    <tr>\n",
       "      <td>75%</td>\n",
       "      <td>2734.000000</td>\n",
       "      <td>119061.00000</td>\n",
       "      <td>1.000000</td>\n",
       "      <td>1.000000</td>\n",
       "      <td>0.000000</td>\n",
       "      <td>96.000000</td>\n",
       "      <td>94.000000</td>\n",
       "      <td>96.000000</td>\n",
       "      <td>96.000000</td>\n",
       "    </tr>\n",
       "    <tr>\n",
       "      <td>max</td>\n",
       "      <td>7292.000000</td>\n",
       "      <td>547122.00000</td>\n",
       "      <td>1.000000</td>\n",
       "      <td>1.000000</td>\n",
       "      <td>1.000000</td>\n",
       "      <td>120.000000</td>\n",
       "      <td>107.000000</td>\n",
       "      <td>120.000000</td>\n",
       "      <td>120.000000</td>\n",
       "    </tr>\n",
       "  </tbody>\n",
       "</table>\n",
       "</div>"
      ],
      "text/plain": [
       "               SN2  CustomerAccountCode  CustomerAccount_Active  \\\n",
       "count   433.000000            433.00000              433.000000   \n",
       "mean   1950.307159          96474.39030                0.639723   \n",
       "std     945.576417          99319.21039                0.480636   \n",
       "min     138.000000           1102.00000                0.000000   \n",
       "25%    1037.000000          25957.00000                0.000000   \n",
       "50%    2446.000000          56026.00000                1.000000   \n",
       "75%    2734.000000         119061.00000                1.000000   \n",
       "max    7292.000000         547122.00000                1.000000   \n",
       "\n",
       "       CustomerAccount_Territory  CustomerAccount_Internal  Age_From_DBS  \\\n",
       "count                 433.000000                433.000000    189.000000   \n",
       "mean                    0.930716                  0.080831     76.698413   \n",
       "std                     0.254230                  0.272891     30.406100   \n",
       "min                     0.000000                  0.000000     24.000000   \n",
       "25%                     1.000000                  0.000000     48.000000   \n",
       "50%                     1.000000                  0.000000     96.000000   \n",
       "75%                     1.000000                  0.000000     96.000000   \n",
       "max                     1.000000                  1.000000    120.000000   \n",
       "\n",
       "       Age_From_Delivery  Combined_Age_Pro_Built_Year  \\\n",
       "count         110.000000                   189.000000   \n",
       "mean           64.427273                    76.698413   \n",
       "std            30.557649                    30.406100   \n",
       "min            22.000000                    24.000000   \n",
       "25%            34.000000                    48.000000   \n",
       "50%            54.000000                    96.000000   \n",
       "75%            94.000000                    96.000000   \n",
       "max           107.000000                   120.000000   \n",
       "\n",
       "       Combined_Age_Pro_Delivery  \n",
       "count                 189.000000  \n",
       "mean                   76.698413  \n",
       "std                    30.406100  \n",
       "min                    24.000000  \n",
       "25%                    48.000000  \n",
       "50%                    96.000000  \n",
       "75%                    96.000000  \n",
       "max                   120.000000  "
      ]
     },
     "execution_count": 22,
     "metadata": {},
     "output_type": "execute_result"
    }
   ],
   "source": [
    "# Testing with BZY\n",
    "BZY = df.drop(df.index[df.SN1 != 'BZY'])\n",
    "BZY.describe()"
   ]
  },
  {
   "cell_type": "code",
   "execution_count": 23,
   "metadata": {
    "ExecuteTime": {
     "end_time": "2020-05-22T15:54:29.985318Z",
     "start_time": "2020-05-22T15:54:29.963372Z"
    },
    "hidden": true
   },
   "outputs": [],
   "source": [
    "#Explore data\n",
    "explore = BZY.drop(['SerialNumber'\n",
    "    , 'ModelName'\n",
    "    , 'CustomerAccountName'\n",
    "    ,'SN1'\n",
    "    ,'CustomerAccountCode'\n",
    "    ,'CustomerAccount_Active'\n",
    "    ,'CustomerAccount_Territory'\n",
    "    , 'CustomerAccount_Internal'\n",
    "#     ,'Age_From_Delivery'\n",
    "    ,'Age_From_DBS'\n",
    "    , 'Combined_Age_Pro_Built_Year'\n",
    "    ,'Combined_Age_Pro_Delivery'\n",
    "],axis=1)\n",
    "# Correlation seems to confirm the theory, missing values are pretty high %\n",
    "# import pandas_profiling as pp\n",
    "# eda = pp.ProfileReport(BZY)\n",
    "# display(eda)"
   ]
  },
  {
   "cell_type": "code",
   "execution_count": 26,
   "metadata": {
    "ExecuteTime": {
     "end_time": "2020-05-22T15:55:34.995735Z",
     "start_time": "2020-05-22T15:55:33.402721Z"
    },
    "hidden": true,
    "scrolled": false
   },
   "outputs": [
    {
     "data": {
      "text/plain": [
       "<seaborn.axisgrid.PairGrid at 0x233e4f0cc48>"
      ]
     },
     "execution_count": 26,
     "metadata": {},
     "output_type": "execute_result"
    },
    {
     "data": {
      "image/png": "[encoded data removed]",
      "text/plain": [
       "<Figure size 576x576 with 6 Axes>"
      ]
     },
     "metadata": {
      "needs_background": "light"
     },
     "output_type": "display_data"
    }
   ],
   "source": [
    "#From the scatter, i can tell this is not a linear relationship. After drawing a few more i decided to use interpolation \\\n",
    "#to compute predicted age.\n",
    "\n",
    "sns.pairplot(explore, kind='reg', diag_kind='hist',\n",
    "height=4, aspect=1,\n",
    "plot_kws={'scatter_kws': {'alpha': 0.7}})"
   ]
  },
  {
   "cell_type": "code",
   "execution_count": 27,
   "metadata": {
    "ExecuteTime": {
     "end_time": "2020-05-22T15:55:42.741076Z",
     "start_time": "2020-05-22T15:55:42.729108Z"
    },
    "hidden": true
   },
   "outputs": [],
   "source": [
    "#DROP NA and convert to int for interp1d training\n",
    "TRAIN = explore.dropna()\n",
    "\n",
    "# D Convert to integer\n",
    "X = TRAIN[['SN2']].squeeze()\n",
    "X = X.astype(int)\n",
    "Y = TRAIN[['Age_From_Delivery']].squeeze()\n",
    "Y = Y.astype(int)"
   ]
  },
  {
   "cell_type": "code",
   "execution_count": 28,
   "metadata": {
    "ExecuteTime": {
     "end_time": "2020-05-22T15:55:45.152860Z",
     "start_time": "2020-05-22T15:55:45.145869Z"
    },
    "hidden": true
   },
   "outputs": [],
   "source": [
    "# M\n",
    "model = interp1d(X, Y,kind='linear',fill_value=\"extrapolate\")\n",
    "#Note.  At the end i will test different interpolation \"kind\" by comparing linear regression errors.\n",
    "#Note2: kind: str or int, optional\n",
    "# Specifies the kind of interpolation as a string (‘linear’, ‘nearest’, ‘zero’, ‘slinear’, ‘quadratic’, ‘cubic’, ‘previous’, ‘next’, where ‘zero’, ‘slinear’, ‘quadratic’ and ‘cubic’ refer to a spline interpolation of zeroth, first, second or third order; ‘previous’ and ‘next’ simply return the previous or next value of the point) or as an integer specifying the order of the spline interpolator to use. Default is ‘linear’."
   ]
  },
  {
   "cell_type": "code",
   "execution_count": 30,
   "metadata": {
    "ExecuteTime": {
     "end_time": "2020-05-22T15:56:42.453691Z",
     "start_time": "2020-05-22T15:56:42.443714Z"
    },
    "hidden": true,
    "scrolled": true
   },
   "outputs": [
    {
     "name": "stdout",
     "output_type": "stream",
     "text": [
      "104.06622516556291\n",
      "106.8029197080292\n",
      "103.51851851851852\n",
      "101.31428571428572\n",
      "99.0\n",
      "94.66153846153846\n",
      "91.0\n",
      "89.71428571428571\n",
      "51.0\n",
      "22.0\n",
      "22.0\n",
      "22.0\n"
     ]
    }
   ],
   "source": [
    "# T\n",
    "t1 = model(456) #cat starts built at 100\n",
    "t2 = model(200) #probably same as 105\n",
    "t3 = model(500) #probably same as 105 or maybe +1\n",
    "t4 = model(731) #heavy rents own this one. I think it was like 2013\n",
    "t5 = model(1000) #I think this is the start of production peak from business exp\n",
    "t6 = model(1500) \n",
    "t7 = model(1848) #heavy rents own this one. I think it was 2015\n",
    "t8 = model(2000)\n",
    "t9 = model(2575) #heavy rents own this one. I think it was like 2016\n",
    "t10 = model(10000) #i don't think cat actually built this many..\n",
    "t11 = model(20000) #i don't think cat actually built this many.\n",
    "t12 = model(50000) #i don't think cat actually built this many.\n",
    "print(t1)\n",
    "print(t2)\n",
    "print(t3)\n",
    "print(t4)\n",
    "print(t5)\n",
    "print(t6)\n",
    "print(t7)\n",
    "print(t8)\n",
    "print(t9)\n",
    "print(t10)\n",
    "print(t11)\n",
    "print(t12)"
   ]
  },
  {
   "cell_type": "code",
   "execution_count": 31,
   "metadata": {
    "ExecuteTime": {
     "end_time": "2020-05-22T15:57:05.270212Z",
     "start_time": "2020-05-22T15:57:05.236284Z"
    },
    "hidden": true
   },
   "outputs": [
    {
     "data": {
      "text/html": [
       "<div>\n",
       "<style scoped>\n",
       "    .dataframe tbody tr th:only-of-type {\n",
       "        vertical-align: middle;\n",
       "    }\n",
       "\n",
       "    .dataframe tbody tr th {\n",
       "        vertical-align: top;\n",
       "    }\n",
       "\n",
       "    .dataframe thead th {\n",
       "        text-align: right;\n",
       "    }\n",
       "</style>\n",
       "<table border=\"1\" class=\"dataframe\">\n",
       "  <thead>\n",
       "    <tr style=\"text-align: right;\">\n",
       "      <th></th>\n",
       "      <th>SN2</th>\n",
       "      <th>Age_From_Delivery</th>\n",
       "    </tr>\n",
       "  </thead>\n",
       "  <tbody>\n",
       "    <tr>\n",
       "      <td>count</td>\n",
       "      <td>110.000000</td>\n",
       "      <td>110.000000</td>\n",
       "    </tr>\n",
       "    <tr>\n",
       "      <td>mean</td>\n",
       "      <td>2116.754545</td>\n",
       "      <td>64.427273</td>\n",
       "    </tr>\n",
       "    <tr>\n",
       "      <td>std</td>\n",
       "      <td>767.736112</td>\n",
       "      <td>30.557649</td>\n",
       "    </tr>\n",
       "    <tr>\n",
       "      <td>min</td>\n",
       "      <td>151.000000</td>\n",
       "      <td>22.000000</td>\n",
       "    </tr>\n",
       "    <tr>\n",
       "      <td>25%</td>\n",
       "      <td>1544.500000</td>\n",
       "      <td>34.000000</td>\n",
       "    </tr>\n",
       "    <tr>\n",
       "      <td>50%</td>\n",
       "      <td>2560.500000</td>\n",
       "      <td>54.000000</td>\n",
       "    </tr>\n",
       "    <tr>\n",
       "      <td>75%</td>\n",
       "      <td>2742.250000</td>\n",
       "      <td>94.000000</td>\n",
       "    </tr>\n",
       "    <tr>\n",
       "      <td>max</td>\n",
       "      <td>2844.000000</td>\n",
       "      <td>107.000000</td>\n",
       "    </tr>\n",
       "  </tbody>\n",
       "</table>\n",
       "</div>"
      ],
      "text/plain": [
       "               SN2  Age_From_Delivery\n",
       "count   110.000000         110.000000\n",
       "mean   2116.754545          64.427273\n",
       "std     767.736112          30.557649\n",
       "min     151.000000          22.000000\n",
       "25%    1544.500000          34.000000\n",
       "50%    2560.500000          54.000000\n",
       "75%    2742.250000          94.000000\n",
       "max    2844.000000         107.000000"
      ]
     },
     "execution_count": 31,
     "metadata": {},
     "output_type": "execute_result"
    }
   ],
   "source": [
    "#There is one serial number 7292. Looks suspicious. I will drop SN2 and Age (x and Y \\\n",
    "# \\individually)by 3 standard deviation.\n",
    "#I convereted Train to int but exlore still has them in float so i can calculate Z score and reduce sample\n",
    "NEW_TRAIN = TRAIN[(np.abs(stats.zscore(TRAIN)) < 3).all(axis=1)]\n",
    "NEW_TRAIN.describe()"
   ]
  },
  {
   "cell_type": "code",
   "execution_count": 33,
   "metadata": {
    "ExecuteTime": {
     "end_time": "2020-05-22T15:57:44.952166Z",
     "start_time": "2020-05-22T15:57:44.946169Z"
    },
    "hidden": true
   },
   "outputs": [],
   "source": [
    "# #DROP NA and convert to int for interp1d training\n",
    "X = NEW_TRAIN[['SN2']].squeeze()\n",
    "X = X.astype(int)\n",
    "Y = NEW_TRAIN[['Age_From_Delivery']].squeeze()\n",
    "Y = Y.astype(int)"
   ]
  },
  {
   "cell_type": "code",
   "execution_count": 34,
   "metadata": {
    "ExecuteTime": {
     "end_time": "2020-05-22T15:57:46.699548Z",
     "start_time": "2020-05-22T15:57:46.695549Z"
    },
    "hidden": true
   },
   "outputs": [],
   "source": [
    "# M\n",
    "model = interp1d(X, Y,kind='linear',fill_value=\"extrapolate\")"
   ]
  },
  {
   "cell_type": "code",
   "execution_count": 35,
   "metadata": {
    "ExecuteTime": {
     "end_time": "2020-05-22T15:57:50.806979Z",
     "start_time": "2020-05-22T15:57:50.794975Z"
    },
    "hidden": true,
    "scrolled": true
   },
   "outputs": [
    {
     "name": "stdout",
     "output_type": "stream",
     "text": [
      "107.0\n",
      "106.8029197080292\n",
      "103.51851851851852\n",
      "101.31428571428572\n",
      "99.0\n",
      "94.66153846153846\n",
      "91.0\n",
      "89.71428571428571\n",
      "51.0\n",
      "22.0\n",
      "22.0\n",
      "22.0\n"
     ]
    }
   ],
   "source": [
    "# T\n",
    "t1 = model(105) #cat starts built at 100\n",
    "t2 = model(200) #probably same as 105\n",
    "t3 = model(500) #probably same as 105 or maybe +1\n",
    "t4 = model(731) #heavy rents own this one. I think it was like 2013\n",
    "t5 = model(1000) #I think this is the start of production peak from business exp\n",
    "t6 = model(1500) \n",
    "t7 = model(1848) #heavy rents own this one. I think it was 2015\n",
    "t8 = model(2000)\n",
    "t9 = model(2575) #heavy rents own this one. I think it was like 2016\n",
    "t10 = model(10000) #i don't think cat actually built this many..\n",
    "t11 = model(20000) #i don't think cat actually built this many.\n",
    "t12 = model(50000) #i don't think cat actually built this many.\n",
    "print(t1)\n",
    "print(t2)\n",
    "print(t3)\n",
    "print(t4)\n",
    "print(t5)\n",
    "print(t6)\n",
    "print(t7)\n",
    "print(t8)\n",
    "print(t9)\n",
    "print(t10)\n",
    "print(t11)\n",
    "print(t12)\n",
    "\n",
    "#I thought i convereted them into integer? whatever"
   ]
  },
  {
   "cell_type": "code",
   "execution_count": 36,
   "metadata": {
    "ExecuteTime": {
     "end_time": "2020-05-22T15:58:00.124501Z",
     "start_time": "2020-05-22T15:57:59.840275Z"
    },
    "hidden": true
   },
   "outputs": [],
   "source": [
    "# THANK YOU SO MUCH YOYO!\n",
    "for idx in BZY.index.values:\n",
    "    BZY.loc[idx, 'Predicted_Age_By_DBS_Year'] = model(BZY.loc[idx, 'SN2'])"
   ]
  },
  {
   "cell_type": "code",
   "execution_count": 37,
   "metadata": {
    "ExecuteTime": {
     "end_time": "2020-05-22T15:58:01.114253Z",
     "start_time": "2020-05-22T15:58:01.091353Z"
    },
    "hidden": true
   },
   "outputs": [],
   "source": [
    "#Visual test passed. Next step is to loop different prefixes\n",
    "BZY.to_csv('..\\\\data\\\\Output\\\\BZY_Interpolation_Age_Result_Pro_Delivery.csv')"
   ]
  },
  {
   "cell_type": "markdown",
   "metadata": {
    "heading_collapsed": true
   },
   "source": [
    "# SHRINK DOWN FOR 1 PREFIX LOOP"
   ]
  },
  {
   "cell_type": "code",
   "execution_count": 172,
   "metadata": {
    "ExecuteTime": {
     "end_time": "2020-05-22T15:03:44.867918Z",
     "start_time": "2020-05-22T15:03:44.823046Z"
    },
    "hidden": true
   },
   "outputs": [
    {
     "ename": "TypeError",
     "evalue": "unsupported operand type(s) for /: 'str' and 'int'",
     "output_type": "error",
     "traceback": [
      "\u001b[1;31m---------------------------------------------------------------------------\u001b[0m",
      "\u001b[1;31mTypeError\u001b[0m                                 Traceback (most recent call last)",
      "\u001b[1;32m<ipython-input-172-ed2a2e4d8e5b>\u001b[0m in \u001b[0;36m<module>\u001b[1;34m\u001b[0m\n\u001b[0;32m     10\u001b[0m \u001b[0mTRAIN2\u001b[0m \u001b[1;33m=\u001b[0m \u001b[0mEXPLORE2\u001b[0m\u001b[1;33m.\u001b[0m\u001b[0mdropna\u001b[0m\u001b[1;33m(\u001b[0m\u001b[1;33m)\u001b[0m\u001b[1;33m\u001b[0m\u001b[1;33m\u001b[0m\u001b[0m\n\u001b[0;32m     11\u001b[0m \u001b[0mTRAIN3\u001b[0m \u001b[1;33m=\u001b[0m \u001b[0mEXPLORE3\u001b[0m\u001b[1;33m.\u001b[0m\u001b[0mdropna\u001b[0m\u001b[1;33m(\u001b[0m\u001b[1;33m)\u001b[0m\u001b[1;33m\u001b[0m\u001b[1;33m\u001b[0m\u001b[0m\n\u001b[1;32m---> 12\u001b[1;33m \u001b[0mNEW_TRAIN1\u001b[0m \u001b[1;33m=\u001b[0m \u001b[0mTRAIN1\u001b[0m\u001b[1;33m[\u001b[0m\u001b[1;33m(\u001b[0m\u001b[0mnp\u001b[0m\u001b[1;33m.\u001b[0m\u001b[0mabs\u001b[0m\u001b[1;33m(\u001b[0m\u001b[0mstats\u001b[0m\u001b[1;33m.\u001b[0m\u001b[0mzscore\u001b[0m\u001b[1;33m(\u001b[0m\u001b[0mTRAIN1\u001b[0m\u001b[1;33m)\u001b[0m\u001b[1;33m)\u001b[0m \u001b[1;33m<\u001b[0m \u001b[1;36m3\u001b[0m\u001b[1;33m)\u001b[0m\u001b[1;33m.\u001b[0m\u001b[0mall\u001b[0m\u001b[1;33m(\u001b[0m\u001b[0maxis\u001b[0m\u001b[1;33m=\u001b[0m\u001b[1;36m1\u001b[0m\u001b[1;33m)\u001b[0m\u001b[1;33m]\u001b[0m\u001b[1;33m\u001b[0m\u001b[1;33m\u001b[0m\u001b[0m\n\u001b[0m\u001b[0;32m     13\u001b[0m \u001b[0mNEW_TRAIN2\u001b[0m \u001b[1;33m=\u001b[0m \u001b[0mTRAIN2\u001b[0m\u001b[1;33m[\u001b[0m\u001b[1;33m(\u001b[0m\u001b[0mnp\u001b[0m\u001b[1;33m.\u001b[0m\u001b[0mabs\u001b[0m\u001b[1;33m(\u001b[0m\u001b[0mstats\u001b[0m\u001b[1;33m.\u001b[0m\u001b[0mzscore\u001b[0m\u001b[1;33m(\u001b[0m\u001b[0mTRAIN2\u001b[0m\u001b[1;33m)\u001b[0m\u001b[1;33m)\u001b[0m \u001b[1;33m<\u001b[0m \u001b[1;36m3\u001b[0m\u001b[1;33m)\u001b[0m\u001b[1;33m.\u001b[0m\u001b[0mall\u001b[0m\u001b[1;33m(\u001b[0m\u001b[0maxis\u001b[0m\u001b[1;33m=\u001b[0m\u001b[1;36m1\u001b[0m\u001b[1;33m)\u001b[0m\u001b[1;33m]\u001b[0m\u001b[1;33m\u001b[0m\u001b[1;33m\u001b[0m\u001b[0m\n\u001b[0;32m     14\u001b[0m \u001b[0mNEW_TRAIN3\u001b[0m \u001b[1;33m=\u001b[0m \u001b[0mTRAIN3\u001b[0m\u001b[1;33m[\u001b[0m\u001b[1;33m(\u001b[0m\u001b[0mnp\u001b[0m\u001b[1;33m.\u001b[0m\u001b[0mabs\u001b[0m\u001b[1;33m(\u001b[0m\u001b[0mstats\u001b[0m\u001b[1;33m.\u001b[0m\u001b[0mzscore\u001b[0m\u001b[1;33m(\u001b[0m\u001b[0mTRAIN3\u001b[0m\u001b[1;33m)\u001b[0m\u001b[1;33m)\u001b[0m \u001b[1;33m<\u001b[0m \u001b[1;36m3\u001b[0m\u001b[1;33m)\u001b[0m\u001b[1;33m.\u001b[0m\u001b[0mall\u001b[0m\u001b[1;33m(\u001b[0m\u001b[0maxis\u001b[0m\u001b[1;33m=\u001b[0m\u001b[1;36m1\u001b[0m\u001b[1;33m)\u001b[0m\u001b[1;33m]\u001b[0m\u001b[1;33m\u001b[0m\u001b[1;33m\u001b[0m\u001b[0m\n",
      "\u001b[1;32m~\\AppData\\Local\\Continuum\\anaconda3\\lib\\site-packages\\scipy\\stats\\stats.py\u001b[0m in \u001b[0;36mzscore\u001b[1;34m(a, axis, ddof)\u001b[0m\n\u001b[0;32m   2307\u001b[0m     \"\"\"\n\u001b[0;32m   2308\u001b[0m     \u001b[0ma\u001b[0m \u001b[1;33m=\u001b[0m \u001b[0mnp\u001b[0m\u001b[1;33m.\u001b[0m\u001b[0masanyarray\u001b[0m\u001b[1;33m(\u001b[0m\u001b[0ma\u001b[0m\u001b[1;33m)\u001b[0m\u001b[1;33m\u001b[0m\u001b[1;33m\u001b[0m\u001b[0m\n\u001b[1;32m-> 2309\u001b[1;33m     \u001b[0mmns\u001b[0m \u001b[1;33m=\u001b[0m \u001b[0ma\u001b[0m\u001b[1;33m.\u001b[0m\u001b[0mmean\u001b[0m\u001b[1;33m(\u001b[0m\u001b[0maxis\u001b[0m\u001b[1;33m=\u001b[0m\u001b[0maxis\u001b[0m\u001b[1;33m)\u001b[0m\u001b[1;33m\u001b[0m\u001b[1;33m\u001b[0m\u001b[0m\n\u001b[0m\u001b[0;32m   2310\u001b[0m     \u001b[0msstd\u001b[0m \u001b[1;33m=\u001b[0m \u001b[0ma\u001b[0m\u001b[1;33m.\u001b[0m\u001b[0mstd\u001b[0m\u001b[1;33m(\u001b[0m\u001b[0maxis\u001b[0m\u001b[1;33m=\u001b[0m\u001b[0maxis\u001b[0m\u001b[1;33m,\u001b[0m \u001b[0mddof\u001b[0m\u001b[1;33m=\u001b[0m\u001b[0mddof\u001b[0m\u001b[1;33m)\u001b[0m\u001b[1;33m\u001b[0m\u001b[1;33m\u001b[0m\u001b[0m\n\u001b[0;32m   2311\u001b[0m     \u001b[1;32mif\u001b[0m \u001b[0maxis\u001b[0m \u001b[1;32mand\u001b[0m \u001b[0mmns\u001b[0m\u001b[1;33m.\u001b[0m\u001b[0mndim\u001b[0m \u001b[1;33m<\u001b[0m \u001b[0ma\u001b[0m\u001b[1;33m.\u001b[0m\u001b[0mndim\u001b[0m\u001b[1;33m:\u001b[0m\u001b[1;33m\u001b[0m\u001b[1;33m\u001b[0m\u001b[0m\n",
      "\u001b[1;32m~\\AppData\\Local\\Continuum\\anaconda3\\lib\\site-packages\\numpy\\core\\_methods.py\u001b[0m in \u001b[0;36m_mean\u001b[1;34m(a, axis, dtype, out, keepdims)\u001b[0m\n\u001b[0;32m     76\u001b[0m     \u001b[1;32mif\u001b[0m \u001b[0misinstance\u001b[0m\u001b[1;33m(\u001b[0m\u001b[0mret\u001b[0m\u001b[1;33m,\u001b[0m \u001b[0mmu\u001b[0m\u001b[1;33m.\u001b[0m\u001b[0mndarray\u001b[0m\u001b[1;33m)\u001b[0m\u001b[1;33m:\u001b[0m\u001b[1;33m\u001b[0m\u001b[1;33m\u001b[0m\u001b[0m\n\u001b[0;32m     77\u001b[0m         ret = um.true_divide(\n\u001b[1;32m---> 78\u001b[1;33m                 ret, rcount, out=ret, casting='unsafe', subok=False)\n\u001b[0m\u001b[0;32m     79\u001b[0m         \u001b[1;32mif\u001b[0m \u001b[0mis_float16_result\u001b[0m \u001b[1;32mand\u001b[0m \u001b[0mout\u001b[0m \u001b[1;32mis\u001b[0m \u001b[1;32mNone\u001b[0m\u001b[1;33m:\u001b[0m\u001b[1;33m\u001b[0m\u001b[1;33m\u001b[0m\u001b[0m\n\u001b[0;32m     80\u001b[0m             \u001b[0mret\u001b[0m \u001b[1;33m=\u001b[0m \u001b[0marr\u001b[0m\u001b[1;33m.\u001b[0m\u001b[0mdtype\u001b[0m\u001b[1;33m.\u001b[0m\u001b[0mtype\u001b[0m\u001b[1;33m(\u001b[0m\u001b[0mret\u001b[0m\u001b[1;33m)\u001b[0m\u001b[1;33m\u001b[0m\u001b[1;33m\u001b[0m\u001b[0m\n",
      "\u001b[1;31mTypeError\u001b[0m: unsupported operand type(s) for /: 'str' and 'int'"
     ]
    }
   ],
   "source": [
    "# TEST = df.drop(df.index[df.SN1 != 'BZY'])\n",
    "# OUTPUT = TEST\n",
    "# EXPLORE1 = TEST.drop(['SerialNumber', 'ModelName', 'CustomerAccountName','SN1','CustomerAccountCode', 'CustomerAccount_Active','CustomerAccount_Territory', 'CustomerAccount_Internal',\n",
    "#        'Age_From_Delivery', 'Combined_Age_Pro_Built_Year','Combined_Age_Pro_Delivery'],axis=1)\n",
    "# EXPLORE2 = TEST.drop(['SerialNumber', 'ModelName', 'CustomerAccountName','SN1','CustomerAccountCode', 'CustomerAccount_Active','CustomerAccount_Territory', 'CustomerAccount_Internal',\n",
    "#        'Age_From_DBS', 'Combined_Age_Pro_Built_Year','Combined_Age_Pro_Delivery'],axis=1)\n",
    "# EXPLORE3 = TEST.drop(['SerialNumber', 'ModelName', 'CustomerAccountName','SN1','CustomerAccountCode', 'CustomerAccount_Active','CustomerAccount_Territory', 'CustomerAccount_Internal',\n",
    "#        'Age_From_Delivery','Age_From_Delivery','Combined_Age_Pro_Built_Year'],axis=1)\n",
    "# TRAIN1 = EXPLORE1.dropna()\n",
    "# TRAIN2 = EXPLORE2.dropna()\n",
    "# TRAIN3 = EXPLORE3.dropna()\n",
    "# NEW_TRAIN1 = TRAIN1[(np.abs(stats.zscore(TRAIN1)) < 3).all(axis=1)]\n",
    "# NEW_TRAIN2 = TRAIN2[(np.abs(stats.zscore(TRAIN2)) < 3).all(axis=1)]\n",
    "# NEW_TRAIN3 = TRAIN3[(np.abs(stats.zscore(TRAIN3)) < 3).all(axis=1)]\n",
    "# X1 = NEW_TRAIN1[['SN2']].squeeze()\n",
    "# X1 = X1.astype(int)\n",
    "# X2 = NEW_TRAIN2[['SN2']].squeeze()\n",
    "# X2 = X2.astype(int)\n",
    "# X3 = NEW_TRAIN3[['SN2']].squeeze()\n",
    "# X3 = X3.astype(int)\n",
    "# Y1 = NEW_TRAIN1[['Age_From_DBS']].squeeze() / 12\n",
    "# Y1 = Y1.astype(int)\n",
    "# Y2 = NEW_TRAIN2[['Age_From_Delivery']].squeeze()\n",
    "# Y2 = Y2.astype(int)\n",
    "# Y3 = NEW_TRAIN3[['Combined_Age_Pro_Delivery']].squeeze()\n",
    "# Y3 = Y3.astype(int)\n",
    "# model1 = interp1d(X1, Y1,kind='linear',fill_value=\"extrapolate\") ###Note: In order to calculate more sensible DBS year, train with Year\n",
    "# model2 = interp1d(X2, Y2,kind='linear',fill_value=\"extrapolate\")\n",
    "# model3 = interp1d(X3, Y3,kind='linear',fill_value=\"extrapolate\")\n",
    "# for idx in OUTPUT.index.values:\n",
    "#     OUTPUT.loc[idx, 'Predicted_Age_By_DBS_Year'] = model1(OUTPUT.loc[idx, 'SN2'])\n",
    "#     OUTPUT.loc[idx, 'Predicted_Age_By_Delivery'] = model2(OUTPUT.loc[idx, 'SN2'])\n",
    "#     OUTPUT.loc[idx, 'Predicted_Age_Pro_Delivery'] = model3(OUTPUT.loc[idx, 'SN2'])\n",
    "# OUTPUT.to_csv('..\\\\data\\\\Output\\\\BZY.csv')"
   ]
  },
  {
   "cell_type": "markdown",
   "metadata": {},
   "source": [
    "# ADD LOOP FOR MULTIPLE PREFIX"
   ]
  },
  {
   "cell_type": "code",
   "execution_count": 3,
   "metadata": {
    "ExecuteTime": {
     "end_time": "2020-05-22T16:48:27.278881Z",
     "start_time": "2020-05-22T16:48:25.765889Z"
    },
    "scrolled": false
   },
   "outputs": [
    {
     "name": "stdout",
     "output_type": "stream",
     "text": [
      "Tasks list: ['RKB', 'BZY']\n",
      "                SN2  CustomerAccountCode  CustomerAccount_Active  \\\n",
      "count    569.000000           569.000000              569.000000   \n",
      "mean    3262.493849         98527.889279                0.664323   \n",
      "std     4761.808640        105297.454399                0.472642   \n",
      "min      138.000000          1102.000000                0.000000   \n",
      "25%     1069.000000         25957.000000                0.000000   \n",
      "50%     2248.000000         56019.000000                1.000000   \n",
      "75%     2759.000000        186426.000000                1.000000   \n",
      "max    21404.000000        547123.000000                1.000000   \n",
      "\n",
      "       CustomerAccount_Territory  CustomerAccount_Internal  Age_From_DBS  \\\n",
      "count                 569.000000                569.000000    245.000000   \n",
      "mean                    0.922671                  0.094903     69.795918   \n",
      "std                     0.267347                  0.293339     30.697479   \n",
      "min                     0.000000                  0.000000     24.000000   \n",
      "25%                     1.000000                  0.000000     36.000000   \n",
      "50%                     1.000000                  0.000000     72.000000   \n",
      "75%                     1.000000                  0.000000     96.000000   \n",
      "max                     1.000000                  1.000000    120.000000   \n",
      "\n",
      "       Age_From_Delivery  Combined_Age_Pro_Built_Year  \\\n",
      "count         147.000000                   245.000000   \n",
      "mean           59.673469                    69.795918   \n",
      "std            29.385758                    30.697479   \n",
      "min            10.000000                    24.000000   \n",
      "25%            33.000000                    36.000000   \n",
      "50%            56.000000                    72.000000   \n",
      "75%            91.500000                    96.000000   \n",
      "max           107.000000                   120.000000   \n",
      "\n",
      "       Combined_Age_Pro_Delivery  \n",
      "count                 245.000000  \n",
      "mean                   69.795918  \n",
      "std                    30.697479  \n",
      "min                    24.000000  \n",
      "25%                    36.000000  \n",
      "50%                    72.000000  \n",
      "75%                    96.000000  \n",
      "max                   120.000000  \n",
      "Starting prefix: RKB\n",
      "952\n",
      "Filter data by 3 standard deviation\n",
      "NT1 size: 112\n",
      "Index(['SN2', 'Age_From_DBS'], dtype='object')\n",
      "NT2 size: 74\n",
      "Index(['SN2', 'Age_From_Delivery'], dtype='object')\n",
      "NT3 size: 112\n",
      "Index(['SN2', 'Combined_Age_Pro_Delivery'], dtype='object')\n",
      "Data Loaded\n",
      "Start Training\n",
      "Training complete\n",
      "Start Estimation\n",
      "Data loaded to output, move on to next prefix\n",
      "                     SerialNumber  SN1    SN2 ModelName  \\\n",
      "EquipmentCode                                             \n",
      "103916                   RKB00301  RKB    301     336FL   \n",
      "103917                   RKB00305  RKB    305     336FL   \n",
      "103918                   RKB00314  RKB    314     336FL   \n",
      "103919                   RKB00316  RKB    316     336FL   \n",
      "103920                   RKB00326  RKB    326     336FL   \n",
      "...                           ...  ...    ...       ...   \n",
      "866677                   RKB21050  RKB  21050     336FL   \n",
      "866678                   RKB21236  RKB  21236     336FL   \n",
      "872486         BZY00168            BZY    168     336EL   \n",
      "872727                   RKB10293  RKB  10293     336FL   \n",
      "872733                   RKB10402  RKB  10402     336FL   \n",
      "\n",
      "                                             CustomerAccountName  \\\n",
      "EquipmentCode                                                      \n",
      "103916               TERANORTH CONSTRUCTION& ENGINEERING LIMITED   \n",
      "103917                           EXPO CONTRACTING (1995) LIMITED   \n",
      "103918         PROGRESS EARTHMOVING LIMITED(PARTS & SERVICE A...   \n",
      "103919                                RJ POIRIER HEAVY EQUIPMENT   \n",
      "103920                        NEIL MONTAGUE CONSTRUCTION LIMITED   \n",
      "...                                                          ...   \n",
      "866677                                      MARATHON UNDERGROUND   \n",
      "866678                                 RAMSEYER TRUCKING LIMITED   \n",
      "872486                       EXCAVATION SIMON PARE & FILS INC.     \n",
      "872727                         LOUIS W BRAY CONSTRUCTION LIMITED   \n",
      "872733                         LOUIS W BRAY CONSTRUCTION LIMITED   \n",
      "\n",
      "               CustomerAccountCode  CustomerAccount_Active  \\\n",
      "EquipmentCode                                                \n",
      "103916                      228779                       1   \n",
      "103917                      227699                       1   \n",
      "103918                       41169                       1   \n",
      "103919                       40610                       1   \n",
      "103920                      191541                       1   \n",
      "...                            ...                     ...   \n",
      "866677                      191183                       1   \n",
      "866678                      192369                       1   \n",
      "872486                       89016                       0   \n",
      "872727                       12597                       1   \n",
      "872733                       12597                       1   \n",
      "\n",
      "               CustomerAccount_Territory  CustomerAccount_Internal  \\\n",
      "EquipmentCode                                                        \n",
      "103916                                 1                         0   \n",
      "103917                                 1                         0   \n",
      "103918                                 1                         0   \n",
      "103919                                 0                         0   \n",
      "103920                                 1                         0   \n",
      "...                                  ...                       ...   \n",
      "866677                                 1                         0   \n",
      "866678                                 1                         0   \n",
      "872486                                 1                         0   \n",
      "872727                                 1                         0   \n",
      "872733                                 1                         0   \n",
      "\n",
      "               Age_From_DBS  Age_From_Delivery  Combined_Age_Pro_Built_Year  \\\n",
      "EquipmentCode                                                                 \n",
      "103916                  NaN                NaN                          NaN   \n",
      "103917                 72.0               69.0                         72.0   \n",
      "103918                 72.0               69.0                         72.0   \n",
      "103919                 72.0               68.0                         72.0   \n",
      "103920                  NaN                NaN                          NaN   \n",
      "...                     ...                ...                          ...   \n",
      "866677                 24.0               21.0                         24.0   \n",
      "866678                  NaN                NaN                          NaN   \n",
      "872486                  NaN                NaN                          NaN   \n",
      "872727                 36.0                NaN                         36.0   \n",
      "872733                 36.0                NaN                         36.0   \n",
      "\n",
      "               Combined_Age_Pro_Delivery Predicted_Age_By_DBS_Year  \\\n",
      "EquipmentCode                                                        \n",
      "103916                               NaN                      NULL   \n",
      "103917                              72.0                      NULL   \n",
      "103918                              72.0                      NULL   \n",
      "103919                              72.0                      NULL   \n",
      "103920                               NaN                      NULL   \n",
      "...                                  ...                       ...   \n",
      "866677                              24.0                      NULL   \n",
      "866678                               NaN                      NULL   \n",
      "872486                               NaN                      NULL   \n",
      "872727                              36.0                      NULL   \n",
      "872733                              36.0                      NULL   \n",
      "\n",
      "              Predicted_Age_By_Delivery Predicted_Age_Combined_Pro_Delivery  \n",
      "EquipmentCode                                                                \n",
      "103916                             NULL                                NULL  \n",
      "103917                             NULL                                NULL  \n",
      "103918                             NULL                                NULL  \n",
      "103919                             NULL                                NULL  \n",
      "103920                             NULL                                NULL  \n",
      "...                                 ...                                 ...  \n",
      "866677                             NULL                                NULL  \n",
      "866678                             NULL                                NULL  \n",
      "872486                             NULL                                NULL  \n",
      "872727                             NULL                                NULL  \n",
      "872733                             NULL                                NULL  \n",
      "\n",
      "[569 rows x 16 columns]\n",
      "Starting prefix: BZY\n",
      "3031\n",
      "Filter data by 3 standard deviation\n",
      "NT1 size: 378\n",
      "Index(['SN2', 'Age_From_DBS'], dtype='object')\n",
      "NT2 size: 220\n",
      "Index(['SN2', 'Age_From_Delivery'], dtype='object')\n",
      "NT3 size: 378\n",
      "Index(['SN2', 'Combined_Age_Pro_Delivery'], dtype='object')\n",
      "Data Loaded\n",
      "Start Training\n",
      "Training complete\n",
      "Start Estimation\n"
     ]
    },
    {
     "name": "stdout",
     "output_type": "stream",
     "text": [
      "Data loaded to output, move on to next prefix\n",
      "                     SerialNumber  SN1    SN2 ModelName  \\\n",
      "EquipmentCode                                             \n",
      "103916                   RKB00301  RKB    301     336FL   \n",
      "103917                   RKB00305  RKB    305     336FL   \n",
      "103918                   RKB00314  RKB    314     336FL   \n",
      "103919                   RKB00316  RKB    316     336FL   \n",
      "103920                   RKB00326  RKB    326     336FL   \n",
      "...                           ...  ...    ...       ...   \n",
      "866677                   RKB21050  RKB  21050     336FL   \n",
      "866678                   RKB21236  RKB  21236     336FL   \n",
      "872486         BZY00168            BZY    168     336EL   \n",
      "872727                   RKB10293  RKB  10293     336FL   \n",
      "872733                   RKB10402  RKB  10402     336FL   \n",
      "\n",
      "                                             CustomerAccountName  \\\n",
      "EquipmentCode                                                      \n",
      "103916               TERANORTH CONSTRUCTION& ENGINEERING LIMITED   \n",
      "103917                           EXPO CONTRACTING (1995) LIMITED   \n",
      "103918         PROGRESS EARTHMOVING LIMITED(PARTS & SERVICE A...   \n",
      "103919                                RJ POIRIER HEAVY EQUIPMENT   \n",
      "103920                        NEIL MONTAGUE CONSTRUCTION LIMITED   \n",
      "...                                                          ...   \n",
      "866677                                      MARATHON UNDERGROUND   \n",
      "866678                                 RAMSEYER TRUCKING LIMITED   \n",
      "872486                       EXCAVATION SIMON PARE & FILS INC.     \n",
      "872727                         LOUIS W BRAY CONSTRUCTION LIMITED   \n",
      "872733                         LOUIS W BRAY CONSTRUCTION LIMITED   \n",
      "\n",
      "               CustomerAccountCode  CustomerAccount_Active  \\\n",
      "EquipmentCode                                                \n",
      "103916                      228779                       1   \n",
      "103917                      227699                       1   \n",
      "103918                       41169                       1   \n",
      "103919                       40610                       1   \n",
      "103920                      191541                       1   \n",
      "...                            ...                     ...   \n",
      "866677                      191183                       1   \n",
      "866678                      192369                       1   \n",
      "872486                       89016                       0   \n",
      "872727                       12597                       1   \n",
      "872733                       12597                       1   \n",
      "\n",
      "               CustomerAccount_Territory  CustomerAccount_Internal  \\\n",
      "EquipmentCode                                                        \n",
      "103916                                 1                         0   \n",
      "103917                                 1                         0   \n",
      "103918                                 1                         0   \n",
      "103919                                 0                         0   \n",
      "103920                                 1                         0   \n",
      "...                                  ...                       ...   \n",
      "866677                                 1                         0   \n",
      "866678                                 1                         0   \n",
      "872486                                 1                         0   \n",
      "872727                                 1                         0   \n",
      "872733                                 1                         0   \n",
      "\n",
      "               Age_From_DBS  Age_From_Delivery  Combined_Age_Pro_Built_Year  \\\n",
      "EquipmentCode                                                                 \n",
      "103916                  NaN                NaN                          NaN   \n",
      "103917                 72.0               69.0                         72.0   \n",
      "103918                 72.0               69.0                         72.0   \n",
      "103919                 72.0               68.0                         72.0   \n",
      "103920                  NaN                NaN                          NaN   \n",
      "...                     ...                ...                          ...   \n",
      "866677                 24.0               21.0                         24.0   \n",
      "866678                  NaN                NaN                          NaN   \n",
      "872486                  NaN                NaN                          NaN   \n",
      "872727                 36.0                NaN                         36.0   \n",
      "872733                 36.0                NaN                         36.0   \n",
      "\n",
      "               Combined_Age_Pro_Delivery Predicted_Age_By_DBS_Year  \\\n",
      "EquipmentCode                                                        \n",
      "103916                               NaN                      NULL   \n",
      "103917                              72.0                      NULL   \n",
      "103918                              72.0                      NULL   \n",
      "103919                              72.0                      NULL   \n",
      "103920                               NaN                      NULL   \n",
      "...                                  ...                       ...   \n",
      "866677                              24.0                      NULL   \n",
      "866678                               NaN                      NULL   \n",
      "872486                               NaN                      NULL   \n",
      "872727                              36.0                      NULL   \n",
      "872733                              36.0                      NULL   \n",
      "\n",
      "              Predicted_Age_By_Delivery Predicted_Age_Combined_Pro_Delivery  \n",
      "EquipmentCode                                                                \n",
      "103916                             NULL                                NULL  \n",
      "103917                             NULL                                NULL  \n",
      "103918                             NULL                                NULL  \n",
      "103919                             NULL                                NULL  \n",
      "103920                             NULL                                NULL  \n",
      "...                                 ...                                 ...  \n",
      "866677                             NULL                                NULL  \n",
      "866678                             NULL                                NULL  \n",
      "872486                             NULL                                NULL  \n",
      "872727                             NULL                                NULL  \n",
      "872733                             NULL                                NULL  \n",
      "\n",
      "[569 rows x 16 columns]\n",
      "All estimation completed. Ready to export\n",
      "export completed\n"
     ]
    }
   ],
   "source": [
    "df = pd.read_excel('..\\\\data\\\\EquipmentAge_Partial_Partial.xlsx', index_col='EquipmentCode')\n",
    "#Create list for loop. I only need to build prefix number of models\n",
    "prefix = list(dict.fromkeys(list(df['SN1'])))\n",
    "print('Tasks list:',prefix)\n",
    "\n",
    "#Clone df for output df\n",
    "output = df\n",
    "output['Predicted_Age_By_DBS_Year'] = 'NULL'\n",
    "output['Predicted_Age_By_Delivery'] = 'NULL'\n",
    "output['Predicted_Age_Combined_Pro_Delivery'] = 'NULL'\n",
    "\n",
    "print(output.describe())\n",
    "\n",
    "for x in prefix:   #while loopingthrough prefix, delete all other prefix\n",
    "    print('Starting prefix:',x)\n",
    "    TEST = output.drop(output.index[output.SN1 != x])\n",
    "\n",
    "    OUTPUT = TEST.drop(['SerialNumber', 'ModelName', 'CustomerAccountName','SN1','CustomerAccountCode', 'CustomerAccount_Active','CustomerAccount_Territory', 'CustomerAccount_Internal',\n",
    "           'Combined_Age_Pro_Built_Year'],axis=1) \n",
    "    OUTPUT['Predicted_Age_By_DBS_Year'] = ''\n",
    "    OUTPUT['Predicted_Age_By_Delivery'] = ''\n",
    "    OUTPUT['Predicted_Age_Combined_Pro_Delivery'] = ''\n",
    "    EXPLORE1 = TEST.drop(['SerialNumber', 'ModelName', 'CustomerAccountName','SN1','CustomerAccountCode', 'CustomerAccount_Active','CustomerAccount_Territory', 'CustomerAccount_Internal',\n",
    "           'Age_From_Delivery', 'Combined_Age_Pro_Built_Year','Combined_Age_Pro_Delivery','Predicted_Age_By_DBS_Year','Predicted_Age_By_Delivery','Predicted_Age_Combined_Pro_Delivery'],axis=1) \n",
    "    EXPLORE2 = TEST.drop(['SerialNumber', 'ModelName', 'CustomerAccountName','SN1','CustomerAccountCode', 'CustomerAccount_Active','CustomerAccount_Territory', 'CustomerAccount_Internal',\n",
    "           'Age_From_DBS', 'Combined_Age_Pro_Built_Year','Combined_Age_Pro_Delivery','Predicted_Age_By_DBS_Year','Predicted_Age_By_Delivery','Predicted_Age_Combined_Pro_Delivery'],axis=1)\n",
    "    EXPLORE3 = TEST.drop(['SerialNumber', 'ModelName', 'CustomerAccountName','SN1','CustomerAccountCode', 'CustomerAccount_Active','CustomerAccount_Territory', 'CustomerAccount_Internal',\n",
    "           'Age_From_DBS','Age_From_Delivery','Age_From_Delivery','Combined_Age_Pro_Built_Year','Predicted_Age_By_DBS_Year','Predicted_Age_By_Delivery','Predicted_Age_Combined_Pro_Delivery'],axis=1)\n",
    "    \n",
    "    TRAIN1 = EXPLORE1.dropna()\n",
    "    TRAIN2 = EXPLORE2.dropna()\n",
    "    TRAIN3 = EXPLORE3.dropna()\n",
    "    \n",
    "    print(OUTPUT.size)\n",
    "    print('Filter data by 3 standard deviation')\n",
    "    \n",
    "    NEW_TRAIN1 = TRAIN1[(np.abs(stats.zscore(TRAIN1)) < 3).all(axis=1)]\n",
    "    nt1 = NEW_TRAIN1.size\n",
    "    print('NT1 size:',nt1)\n",
    "    print(NEW_TRAIN1.columns)\n",
    "    \n",
    "    NEW_TRAIN2 = TRAIN2[(np.abs(stats.zscore(TRAIN2)) < 3).all(axis=1)]\n",
    "    nt2 = NEW_TRAIN2.size\n",
    "    print('NT2 size:',nt2)\n",
    "    print(NEW_TRAIN2.columns)\n",
    "    \n",
    "    NEW_TRAIN3 = TRAIN3[(np.abs(stats.zscore(TRAIN3)) < 3).all(axis=1)]\n",
    "    nt3 = NEW_TRAIN3.size\n",
    "    print('NT3 size:',nt3)\n",
    "    print(NEW_TRAIN3.columns)\n",
    "    print('Data Loaded')    \n",
    "\n",
    "    X1 = TRAIN1[['SN2']].squeeze()\n",
    "    X1 = X1.astype(int)    \n",
    "    Y1 = TRAIN1[['Age_From_DBS']].squeeze() / 12\n",
    "    Y1 = Y1.astype(int)\n",
    "\n",
    "    X2 = NEW_TRAIN2[['SN2']].squeeze()\n",
    "    X2 = X2.astype(int)\n",
    "    Y2 = NEW_TRAIN2[['Age_From_Delivery']].squeeze()\n",
    "    Y2 = Y2.astype(int)\n",
    "\n",
    "    X3 = NEW_TRAIN3[['SN2']].squeeze()\n",
    "    X3 = X3.astype(int)\n",
    "    Y3 = NEW_TRAIN3[['Combined_Age_Pro_Delivery']].squeeze()\n",
    "    Y3 = Y3.astype(int)\n",
    "\n",
    "    print('Start Training')\n",
    "\n",
    "    if NEW_TRAIN1.size > 0:\n",
    "        model1 = interp1d(X1, Y1,kind='linear',fill_value=\"extrapolate\")\n",
    "    if NEW_TRAIN2.size > 0:\n",
    "        model2 = interp1d(X2, Y2,kind='linear',fill_value=\"extrapolate\")\n",
    "    if NEW_TRAIN3.size > 0:  \n",
    "        model3 = interp1d(X3, Y3,kind='linear',fill_value=\"extrapolate\")\n",
    "\n",
    "    print('Training complete')\n",
    "#     print('Results_df')\n",
    "#     print(OUTPUT.describe())\n",
    "    print('Start Estimation')\n",
    "    for idx in OUTPUT.index.values:\n",
    "        if NEW_TRAIN1.size > 0:\n",
    "            OUTPUT.loc[idx, 'Predicted_Age_By_DBS_Year'] = model1(OUTPUT.loc[idx, 'SN2'])\n",
    "        if NEW_TRAIN2.size > 0:\n",
    "            OUTPUT.loc[idx, 'Predicted_Age_By_Delivery'] = model2(OUTPUT.loc[idx, 'SN2'])\n",
    "        if NEW_TRAIN3.size > 0:\n",
    "            OUTPUT.loc[idx, 'Predicted_Age_Combined_Pro_Delivery'] = model3(OUTPUT.loc[idx, 'SN2'])\n",
    "#     print('Results_df_after')        \n",
    "#     print(OUTPUT.describe())\n",
    "#     print('Prefix estimation complete, starting to merge data')\n",
    "    \n",
    "\n",
    "#     pd.concat([OUTPUT,output],axis=1,sort=False)\n",
    "    \n",
    "    print('Data loaded to output, move on to next prefix')\n",
    "    print(output)\n",
    "print('All estimation completed. Ready to export')\n",
    "output.to_csv('..\\\\data\\\\Output\\\\Age_Predict.csv')\n",
    "print('export completed')\n",
    "# print(output.describe())"
   ]
  },
  {
   "cell_type": "markdown",
   "metadata": {
    "heading_collapsed": true
   },
   "source": [
    "# TEST RESULTS"
   ]
  },
  {
   "cell_type": "code",
   "execution_count": null,
   "metadata": {
    "ExecuteTime": {
     "end_time": "2020-05-20T22:17:11.685848Z",
     "start_time": "2020-05-20T22:17:11.531258Z"
    },
    "hidden": true
   },
   "outputs": [],
   "source": [
    "#load data\n",
    "data2 = pd.read_csv('..\\\\data\\\\Output\\\\Interpolation_Age_Results.csv', index_col='EquipmentCode')\n",
    "#Verify data types\n",
    "data2.columns"
   ]
  },
  {
   "cell_type": "code",
   "execution_count": null,
   "metadata": {
    "ExecuteTime": {
     "end_time": "2020-05-20T22:17:35.998311Z",
     "start_time": "2020-05-20T22:17:35.989301Z"
    },
    "hidden": true
   },
   "outputs": [],
   "source": [
    "test = data2.drop(['SerialNumber','SN1','SN2','ModelName'],axis=1)\n",
    "test.shape"
   ]
  },
  {
   "cell_type": "code",
   "execution_count": null,
   "metadata": {
    "ExecuteTime": {
     "end_time": "2020-05-20T22:20:34.219153Z",
     "start_time": "2020-05-20T22:20:34.161342Z"
    },
    "hidden": true,
    "scrolled": false
   },
   "outputs": [],
   "source": [
    "test1 = data2.drop(['Combined_Age_Pro_Built_Year','Predicted_Age_Pro_Built_Year'],axis=1)\n",
    "test1 = test1.dropna()\n",
    "X = test1[['Predicted_Age_Pro_Delivery']].squeeze()\n",
    "Y = test1[['Combined_Age_Pro_Delivery']].squeeze()\n",
    "# create a OLS model.\n",
    "model = sm.OLS(Y, X)\n",
    "\n",
    "#Print\n",
    "results = model.fit()\n",
    "print(results.summary())"
   ]
  },
  {
   "cell_type": "code",
   "execution_count": null,
   "metadata": {
    "ExecuteTime": {
     "end_time": "2020-05-20T22:20:28.313178Z",
     "start_time": "2020-05-20T22:20:28.269295Z"
    },
    "hidden": true,
    "scrolled": false
   },
   "outputs": [],
   "source": [
    "test2 = data2.drop(['Combined_Age_Pro_Delivery','Predicted_Age_Pro_Delivery'],axis=1)\n",
    "test2 = test2.dropna()\n",
    "X = test2[['Predicted_Age_Pro_Built_Year']].squeeze()\n",
    "Y = test2[['Combined_Age_Pro_Built_Year']].squeeze()\n",
    "# create a OLS model.\n",
    "model = sm.OLS(Y, X)\n",
    "\n",
    "#Print\n",
    "results = model.fit()\n",
    "print(results.summary())"
   ]
  },
  {
   "cell_type": "code",
   "execution_count": null,
   "metadata": {
    "ExecuteTime": {
     "end_time": "2020-05-20T22:20:28.148967Z",
     "start_time": "2020-05-20T22:20:05.896898Z"
    },
    "hidden": true
   },
   "outputs": [],
   "source": [
    "sns.pairplot(test, kind='reg', diag_kind='hist',\n",
    "             height=3, aspect=1,\n",
    "             plot_kws={'scatter_kws': {'alpha': 0.7}})"
   ]
  }
 ],
 "metadata": {
  "kernelspec": {
   "display_name": "Python 3",
   "language": "python",
   "name": "python3"
  },
  "language_info": {
   "codemirror_mode": {
    "name": "ipython",
    "version": 3
   },
   "file_extension": ".py",
   "mimetype": "text/x-python",
   "name": "python",
   "nbconvert_exporter": "python",
   "pygments_lexer": "ipython3",
   "version": "3.7.4"
  },
  "varInspector": {
   "cols": {
    "lenName": 16,
    "lenType": 16,
    "lenVar": "100"
   },
   "kernels_config": {
    "python": {
     "delete_cmd_postfix": "",
     "delete_cmd_prefix": "del ",
     "library": "var_list.py",
     "varRefreshCmd": "print(var_dic_list())"
    },
    "r": {
     "delete_cmd_postfix": ") ",
     "delete_cmd_prefix": "rm(",
     "library": "var_list.r",
     "varRefreshCmd": "cat(var_dic_list()) "
    }
   },
   "types_to_exclude": [
    "module",
    "function",
    "builtin_function_or_method",
    "instance",
    "_Feature"
   ],
   "window_display": false
  }
 },
 "nbformat": 4,
 "nbformat_minor": 2
}
