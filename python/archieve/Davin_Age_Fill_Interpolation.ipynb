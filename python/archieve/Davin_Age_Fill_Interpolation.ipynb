{
 "cells": [
  {
   "cell_type": "markdown",
   "metadata": {
    "heading_collapsed": true
   },
   "source": [
    "# LIBRARIES AND DATA"
   ]
  },
  {
   "cell_type": "code",
   "execution_count": 20,
   "metadata": {
    "ExecuteTime": {
     "end_time": "2020-05-22T18:03:31.600118Z",
     "start_time": "2020-05-22T18:03:31.585198Z"
    },
    "hidden": true
   },
   "outputs": [],
   "source": [
    "#Libraries: i'm not even sure which one i'm using lol\n",
    "import numpy as np\n",
    "import pandas as pd\n",
    "import seaborn as sns\n",
    "import matplotlib.pyplot as plt\n",
    "import statsmodels.api as sm\n",
    "import math \n",
    "import pylab\n",
    "from scipy import stats\n",
    "from scipy import interpolate\n",
    "from scipy.interpolate import Rbf\n",
    "# from scipy.stats import kurtosis, skew\n",
    "from statsmodels.stats import diagnostic as diag\n",
    "from statsmodels.stats.outliers_influence import variance_inflation_factor\n",
    "from sklearn.model_selection import train_test_split\n",
    "from sklearn.linear_model import LinearRegression\n",
    "from sklearn.metrics import mean_squared_error, r2_score, mean_absolute_error\n",
    "from scipy.interpolate import *"
   ]
  },
  {
   "cell_type": "markdown",
   "metadata": {
    "ExecuteTime": {
     "end_time": "2020-05-21T13:39:00.253441Z",
     "start_time": "2020-05-21T13:39:00.249440Z"
    },
    "heading_collapsed": true
   },
   "source": [
    "# TEST FOR BZY"
   ]
  },
  {
   "cell_type": "code",
   "execution_count": 42,
   "metadata": {
    "ExecuteTime": {
     "end_time": "2020-05-22T18:21:50.318544Z",
     "start_time": "2020-05-22T18:21:50.243738Z"
    },
    "hidden": true
   },
   "outputs": [
    {
     "data": {
      "text/html": [
       "<div>\n",
       "<style scoped>\n",
       "    .dataframe tbody tr th:only-of-type {\n",
       "        vertical-align: middle;\n",
       "    }\n",
       "\n",
       "    .dataframe tbody tr th {\n",
       "        vertical-align: top;\n",
       "    }\n",
       "\n",
       "    .dataframe thead th {\n",
       "        text-align: right;\n",
       "    }\n",
       "</style>\n",
       "<table border=\"1\" class=\"dataframe\">\n",
       "  <thead>\n",
       "    <tr style=\"text-align: right;\">\n",
       "      <th></th>\n",
       "      <th>SN2</th>\n",
       "      <th>Age_From_DBS</th>\n",
       "      <th>Age_From_Delivery</th>\n",
       "      <th>Combined_Age_Pro_Built_Year</th>\n",
       "      <th>Combined_Age_Pro_Delivery</th>\n",
       "    </tr>\n",
       "  </thead>\n",
       "  <tbody>\n",
       "    <tr>\n",
       "      <td>count</td>\n",
       "      <td>403.000000</td>\n",
       "      <td>162.000000</td>\n",
       "      <td>103.000000</td>\n",
       "      <td>162.000000</td>\n",
       "      <td>162.000000</td>\n",
       "    </tr>\n",
       "    <tr>\n",
       "      <td>mean</td>\n",
       "      <td>1998.322581</td>\n",
       "      <td>73.259259</td>\n",
       "      <td>63.330097</td>\n",
       "      <td>73.259259</td>\n",
       "      <td>73.259259</td>\n",
       "    </tr>\n",
       "    <tr>\n",
       "      <td>std</td>\n",
       "      <td>889.841131</td>\n",
       "      <td>30.924383</td>\n",
       "      <td>30.777949</td>\n",
       "      <td>30.924383</td>\n",
       "      <td>30.924383</td>\n",
       "    </tr>\n",
       "    <tr>\n",
       "      <td>min</td>\n",
       "      <td>164.000000</td>\n",
       "      <td>24.000000</td>\n",
       "      <td>22.000000</td>\n",
       "      <td>24.000000</td>\n",
       "      <td>24.000000</td>\n",
       "    </tr>\n",
       "    <tr>\n",
       "      <td>25%</td>\n",
       "      <td>1080.000000</td>\n",
       "      <td>48.000000</td>\n",
       "      <td>33.000000</td>\n",
       "      <td>48.000000</td>\n",
       "      <td>48.000000</td>\n",
       "    </tr>\n",
       "    <tr>\n",
       "      <td>50%</td>\n",
       "      <td>2563.000000</td>\n",
       "      <td>84.000000</td>\n",
       "      <td>52.000000</td>\n",
       "      <td>84.000000</td>\n",
       "      <td>84.000000</td>\n",
       "    </tr>\n",
       "    <tr>\n",
       "      <td>75%</td>\n",
       "      <td>2743.500000</td>\n",
       "      <td>96.000000</td>\n",
       "      <td>94.000000</td>\n",
       "      <td>96.000000</td>\n",
       "      <td>96.000000</td>\n",
       "    </tr>\n",
       "    <tr>\n",
       "      <td>max</td>\n",
       "      <td>2855.000000</td>\n",
       "      <td>108.000000</td>\n",
       "      <td>107.000000</td>\n",
       "      <td>108.000000</td>\n",
       "      <td>108.000000</td>\n",
       "    </tr>\n",
       "  </tbody>\n",
       "</table>\n",
       "</div>"
      ],
      "text/plain": [
       "               SN2  Age_From_DBS  Age_From_Delivery  \\\n",
       "count   403.000000    162.000000         103.000000   \n",
       "mean   1998.322581     73.259259          63.330097   \n",
       "std     889.841131     30.924383          30.777949   \n",
       "min     164.000000     24.000000          22.000000   \n",
       "25%    1080.000000     48.000000          33.000000   \n",
       "50%    2563.000000     84.000000          52.000000   \n",
       "75%    2743.500000     96.000000          94.000000   \n",
       "max    2855.000000    108.000000         107.000000   \n",
       "\n",
       "       Combined_Age_Pro_Built_Year  Combined_Age_Pro_Delivery  \n",
       "count                   162.000000                 162.000000  \n",
       "mean                     73.259259                  73.259259  \n",
       "std                      30.924383                  30.924383  \n",
       "min                      24.000000                  24.000000  \n",
       "25%                      48.000000                  48.000000  \n",
       "50%                      84.000000                  84.000000  \n",
       "75%                      96.000000                  96.000000  \n",
       "max                     108.000000                 108.000000  "
      ]
     },
     "execution_count": 42,
     "metadata": {},
     "output_type": "execute_result"
    }
   ],
   "source": [
    "# Testing with BZY\n",
    "BZY = df.drop(df.index[df.SN1 != 'BZY'])\n",
    "BZY.describe()"
   ]
  },
  {
   "cell_type": "code",
   "execution_count": 45,
   "metadata": {
    "ExecuteTime": {
     "end_time": "2020-05-22T18:22:07.604430Z",
     "start_time": "2020-05-22T18:22:07.598449Z"
    },
    "hidden": true
   },
   "outputs": [],
   "source": [
    "#Explore data\n",
    "explore = BZY.drop([\n",
    "'SerialNumber', 'ModelName', 'SN1',\n",
    "       'Age_From_Delivery', 'Combined_Age_Pro_Built_Year',\n",
    "       'Combined_Age_Pro_Delivery'\n",
    "],axis=1)\n",
    "# Correlation seems to confirm the theory, missing values are pretty high %\n",
    "# import pandas_profiling as pp\n",
    "# eda = pp.ProfileReport(BZY)\n",
    "# display(eda)"
   ]
  },
  {
   "cell_type": "code",
   "execution_count": 46,
   "metadata": {
    "ExecuteTime": {
     "end_time": "2020-05-22T18:22:10.000485Z",
     "start_time": "2020-05-22T18:22:08.953709Z"
    },
    "hidden": true,
    "scrolled": false
   },
   "outputs": [
    {
     "data": {
      "text/plain": [
       "<seaborn.axisgrid.PairGrid at 0x209043f0e88>"
      ]
     },
     "execution_count": 46,
     "metadata": {},
     "output_type": "execute_result"
    },
    {
     "data": {
      "image/png": "[encoded data removed]",
      "text/plain": [
       "<Figure size 576x576 with 6 Axes>"
      ]
     },
     "metadata": {
      "needs_background": "light"
     },
     "output_type": "display_data"
    }
   ],
   "source": [
    "#From the scatter, i can tell this is not a linear relationship. After drawing a few more i decided to use interpolation \\\n",
    "#to compute predicted age.\n",
    "\n",
    "sns.pairplot(explore, kind='reg', diag_kind='hist',\n",
    "height=4, aspect=1,\n",
    "plot_kws={'scatter_kws': {'alpha': 0.7}})"
   ]
  },
  {
   "cell_type": "code",
   "execution_count": 47,
   "metadata": {
    "ExecuteTime": {
     "end_time": "2020-05-22T18:22:18.910029Z",
     "start_time": "2020-05-22T18:22:18.895073Z"
    },
    "hidden": true
   },
   "outputs": [],
   "source": [
    "#DROP NA and convert to int for interp1d training\n",
    "TRAIN = explore.dropna()\n",
    "\n",
    "# D Convert to integer\n",
    "X = TRAIN[['SN2']].squeeze()\n",
    "X = X.astype(int)\n",
    "Y = TRAIN[['Age_From_DBS']].squeeze()\n",
    "Y = Y.astype(int)"
   ]
  },
  {
   "cell_type": "code",
   "execution_count": 48,
   "metadata": {
    "ExecuteTime": {
     "end_time": "2020-05-22T18:22:19.727529Z",
     "start_time": "2020-05-22T18:22:19.721543Z"
    },
    "hidden": true
   },
   "outputs": [],
   "source": [
    "# M\n",
    "model = interp1d(X, Y,kind='linear',fill_value=\"extrapolate\")\n",
    "#Note.  At the end i will test different interpolation \"kind\" by comparing linear regression errors.\n",
    "#Note2: kind: str or int, optional\n",
    "# Specifies the kind of interpolation as a string (‘linear’, ‘nearest’, ‘zero’, ‘slinear’, ‘quadratic’, ‘cubic’, ‘previous’, ‘next’, where ‘zero’, ‘slinear’, ‘quadratic’ and ‘cubic’ refer to a spline interpolation of zeroth, first, second or third order; ‘previous’ and ‘next’ simply return the previous or next value of the point) or as an integer specifying the order of the spline interpolator to use. Default is ‘linear’."
   ]
  },
  {
   "cell_type": "code",
   "execution_count": 49,
   "metadata": {
    "ExecuteTime": {
     "end_time": "2020-05-22T18:22:20.696152Z",
     "start_time": "2020-05-22T18:22:20.680235Z"
    },
    "hidden": true,
    "scrolled": true
   },
   "outputs": [
    {
     "name": "stdout",
     "output_type": "stream",
     "text": [
      "108.0\n",
      "108.0\n",
      "108.0\n",
      "108.0\n",
      "96.0\n",
      "96.0\n",
      "96.0\n",
      "96.0\n",
      "60.0\n",
      "24.0\n",
      "24.0\n",
      "24.0\n"
     ]
    }
   ],
   "source": [
    "# T\n",
    "t1 = model(105) #cat starts built at 100\n",
    "t2 = model(200) #probably same as 105\n",
    "t3 = model(500) #probably same as 105 or maybe +1\n",
    "t4 = model(731) #heavy rents own this one. I think it was like 2013\n",
    "t5 = model(1000) #I think this is the start of production peak from business exp\n",
    "t6 = model(1500) \n",
    "t7 = model(1848) #heavy rents own this one. I think it was 2015\n",
    "t8 = model(2000)\n",
    "t9 = model(2575) #heavy rents own this one. I think it was like 2016\n",
    "t10 = model(10000) #i don't think cat actually built this many..\n",
    "t11 = model(20000) #i don't think cat actually built this many.\n",
    "t12 = model(50000) #i don't think cat actually built this many.\n",
    "print(t1)\n",
    "print(t2)\n",
    "print(t3)\n",
    "print(t4)\n",
    "print(t5)\n",
    "print(t6)\n",
    "print(t7)\n",
    "print(t8)\n",
    "print(t9)\n",
    "print(t10)\n",
    "print(t11)\n",
    "print(t12)"
   ]
  },
  {
   "cell_type": "code",
   "execution_count": 50,
   "metadata": {
    "ExecuteTime": {
     "end_time": "2020-05-22T18:22:22.055875Z",
     "start_time": "2020-05-22T18:22:22.036927Z"
    },
    "hidden": true
   },
   "outputs": [
    {
     "data": {
      "text/html": [
       "<div>\n",
       "<style scoped>\n",
       "    .dataframe tbody tr th:only-of-type {\n",
       "        vertical-align: middle;\n",
       "    }\n",
       "\n",
       "    .dataframe tbody tr th {\n",
       "        vertical-align: top;\n",
       "    }\n",
       "\n",
       "    .dataframe thead th {\n",
       "        text-align: right;\n",
       "    }\n",
       "</style>\n",
       "<table border=\"1\" class=\"dataframe\">\n",
       "  <thead>\n",
       "    <tr style=\"text-align: right;\">\n",
       "      <th></th>\n",
       "      <th>SN2</th>\n",
       "      <th>Age_From_DBS</th>\n",
       "    </tr>\n",
       "  </thead>\n",
       "  <tbody>\n",
       "    <tr>\n",
       "      <td>count</td>\n",
       "      <td>162.000000</td>\n",
       "      <td>162.000000</td>\n",
       "    </tr>\n",
       "    <tr>\n",
       "      <td>mean</td>\n",
       "      <td>1909.691358</td>\n",
       "      <td>73.259259</td>\n",
       "    </tr>\n",
       "    <tr>\n",
       "      <td>std</td>\n",
       "      <td>916.629305</td>\n",
       "      <td>30.924383</td>\n",
       "    </tr>\n",
       "    <tr>\n",
       "      <td>min</td>\n",
       "      <td>164.000000</td>\n",
       "      <td>24.000000</td>\n",
       "    </tr>\n",
       "    <tr>\n",
       "      <td>25%</td>\n",
       "      <td>1199.750000</td>\n",
       "      <td>48.000000</td>\n",
       "    </tr>\n",
       "    <tr>\n",
       "      <td>50%</td>\n",
       "      <td>2278.500000</td>\n",
       "      <td>84.000000</td>\n",
       "    </tr>\n",
       "    <tr>\n",
       "      <td>75%</td>\n",
       "      <td>2711.750000</td>\n",
       "      <td>96.000000</td>\n",
       "    </tr>\n",
       "    <tr>\n",
       "      <td>max</td>\n",
       "      <td>2844.000000</td>\n",
       "      <td>108.000000</td>\n",
       "    </tr>\n",
       "  </tbody>\n",
       "</table>\n",
       "</div>"
      ],
      "text/plain": [
       "               SN2  Age_From_DBS\n",
       "count   162.000000    162.000000\n",
       "mean   1909.691358     73.259259\n",
       "std     916.629305     30.924383\n",
       "min     164.000000     24.000000\n",
       "25%    1199.750000     48.000000\n",
       "50%    2278.500000     84.000000\n",
       "75%    2711.750000     96.000000\n",
       "max    2844.000000    108.000000"
      ]
     },
     "execution_count": 50,
     "metadata": {},
     "output_type": "execute_result"
    }
   ],
   "source": [
    "#There is one serial number 7292. Looks suspicious. I will drop SN2 and Age (x and Y \\\n",
    "# \\individually)by 3 standard deviation.\n",
    "#I convereted Train to int but exlore still has them in float so i can calculate Z score and reduce sample\n",
    "NEW_TRAIN = TRAIN[(np.abs(stats.zscore(TRAIN)) < 3).all(axis=1)]\n",
    "NEW_TRAIN.describe()"
   ]
  },
  {
   "cell_type": "code",
   "execution_count": 51,
   "metadata": {
    "ExecuteTime": {
     "end_time": "2020-05-22T18:22:24.776951Z",
     "start_time": "2020-05-22T18:22:24.768977Z"
    },
    "hidden": true
   },
   "outputs": [],
   "source": [
    "# #DROP NA and convert to int for interp1d training\n",
    "X = NEW_TRAIN[['SN2']].squeeze()\n",
    "X = X.astype(int)\n",
    "Y = NEW_TRAIN[['Age_From_DBS']].squeeze()\n",
    "Y = Y.astype(int)"
   ]
  },
  {
   "cell_type": "code",
   "execution_count": 52,
   "metadata": {
    "ExecuteTime": {
     "end_time": "2020-05-22T18:22:25.795915Z",
     "start_time": "2020-05-22T18:22:25.790894Z"
    },
    "hidden": true
   },
   "outputs": [],
   "source": [
    "# M\n",
    "model = interp1d(X, Y,kind='linear',fill_value=\"extrapolate\")"
   ]
  },
  {
   "cell_type": "code",
   "execution_count": 53,
   "metadata": {
    "ExecuteTime": {
     "end_time": "2020-05-22T18:22:26.982387Z",
     "start_time": "2020-05-22T18:22:26.969460Z"
    },
    "hidden": true,
    "scrolled": true
   },
   "outputs": [
    {
     "name": "stdout",
     "output_type": "stream",
     "text": [
      "108.0\n",
      "108.0\n",
      "108.0\n",
      "108.0\n",
      "96.0\n",
      "96.0\n",
      "96.0\n",
      "96.0\n",
      "60.0\n",
      "24.0\n",
      "24.0\n",
      "24.0\n"
     ]
    }
   ],
   "source": [
    "# T\n",
    "t1 = model(105) #cat starts built at 100\n",
    "t2 = model(200) #probably same as 105\n",
    "t3 = model(500) #probably same as 105 or maybe +1\n",
    "t4 = model(731) #heavy rents own this one. I think it was like 2013\n",
    "t5 = model(1000) #I think this is the start of production peak from business exp\n",
    "t6 = model(1500) \n",
    "t7 = model(1848) #heavy rents own this one. I think it was 2015\n",
    "t8 = model(2000)\n",
    "t9 = model(2575) #heavy rents own this one. I think it was like 2016\n",
    "t10 = model(10000) #i don't think cat actually built this many..\n",
    "t11 = model(20000) #i don't think cat actually built this many.\n",
    "t12 = model(50000) #i don't think cat actually built this many.\n",
    "print(t1)\n",
    "print(t2)\n",
    "print(t3)\n",
    "print(t4)\n",
    "print(t5)\n",
    "print(t6)\n",
    "print(t7)\n",
    "print(t8)\n",
    "print(t9)\n",
    "print(t10)\n",
    "print(t11)\n",
    "print(t12)\n",
    "\n",
    "#I thought i convereted them into integer? whatever"
   ]
  },
  {
   "cell_type": "code",
   "execution_count": 54,
   "metadata": {
    "ExecuteTime": {
     "end_time": "2020-05-22T18:22:28.707207Z",
     "start_time": "2020-05-22T18:22:28.502427Z"
    },
    "hidden": true
   },
   "outputs": [],
   "source": [
    "# THANK YOU SO MUCH YOYO!\n",
    "for idx in BZY.index.values:\n",
    "    BZY.loc[idx, 'Predicted_Age_By_DBS_Year'] = model(BZY.loc[idx, 'SN2'])"
   ]
  },
  {
   "cell_type": "code",
   "execution_count": 55,
   "metadata": {
    "ExecuteTime": {
     "end_time": "2020-05-22T18:22:29.434407Z",
     "start_time": "2020-05-22T18:22:29.417450Z"
    },
    "hidden": true
   },
   "outputs": [],
   "source": [
    "#Visual test passed. Next step is to loop different prefixes\n",
    "BZY.to_csv('..\\\\data\\\\Output\\\\BZY_Interpolation_Age_Result_Pro_Delivery.csv')"
   ]
  },
  {
   "cell_type": "markdown",
   "metadata": {},
   "source": [
    "# LOOP FOR MULTIPLE PREFIX"
   ]
  },
  {
   "cell_type": "code",
   "execution_count": 92,
   "metadata": {
    "ExecuteTime": {
     "end_time": "2020-05-22T18:46:35.251922Z",
     "start_time": "2020-05-22T18:40:14.629844Z"
    }
   },
   "outputs": [
    {
     "name": "stdout",
     "output_type": "stream",
     "text": [
      "Tasks list: ['N1A', 'N4A', 'N8F', 'N9D', 'N9J', 'N9L', 'N9M', 'N9S', 'N9T', 'NAD', 'NAS', 'NAZ', 'NBE', 'NBT', 'NDC', 'NDJ', 'NJ9', 'NJB', 'NJN', 'NLC', 'NLK', 'NOV', 'NPF', 'NSL', 'P1C', 'P3W', 'P56', 'P6K', 'P8L', 'P8P', 'PAB', '0PA', 'PAC', 'PAK', 'PAL', 'PAN', 'PAP', 'PAT', 'PBA', 'PBG', 'PBM', 'PCA', 'PDF', 'PDT', 'PED', 'PER', 'PF4', 'PFB', 'PFS', 'PHC', 'PHD', 'PHX', 'PJF', 'PJW', 'PLR', 'PLW', 'PMT', 'PNJ', 'PNM', 'PNW', 'PRA', 'PTY', 'PWP', 'PWR', 'PYT', 'PZL', 'R4A', 'R8D', 'R9B', 'R9G', 'R9H', 'R9J', 'R9L', 'R9M', 'R9P', 'R9T', 'RAD', 'RAJ', 'RAX', 'RAZ', 'RBA', 'RBG', 'RBR', 'RCD', 'RCW', 'RCX', 'RDF', 'RDR', 'RED', 'REE', 'REH', 'REP', 'REX', 'RFM', 'RGS', 'RH4', 'RHN', 'RHX', 'RJG', 'RJN', '1YR', 'RJS', 'RKB', '1YS', 'RKG', 'RLB', 'RLL', 'RLN', 'RLW', 'RMX', '0RM', 'RRE', 'RRR', 'RSL', 'RST', 'RTA', 'RTB', 'RYF', 'RZA', 'SAH', 201, 202, 205, '20A', '20X', 'SBR', '20Z', 'SCD', 'SCG', 'SCH', 'SCL', 'SCP', 'SCR', 'SDH', 214, '7DM', 'TFB', 'SWL', 'HNG', '3T6', 'GSF', 'BXY', 'EAD', 'AWF', 'MK2', 'RKY', 'A6J', 'BZY', 'KM2', 'XGK', 'FLZ', 'CS3', 'BXT', 'KC9', 'B7H', 'ANB', '7MN', 'DAR', '7FN', 'JWF', 'J1S', 'J3R', 'BGB', 'C5R', 'DYJ', 'DAN', 'BL9', 'MHS', 'TFK', 'LKH', '96J', '8PB', '2BJ', 'N9R', 'JMS', 'C5P', 'BGZ', 'K6K', 'TAR', 'A1E', 'DZW', 'FDP', 'CA ', 'THG', 'DDT', 'ZDA', 'JMP', '31K', 'H66', 'YBN', 'ML5', 'DJE', '3PD', 'ZML', 'DMA', '46A', 'DBT', 'YDL', 'FAC', 'TDY', 'BZR', 'XDL', 'F7B', 'N9K', '6GN', 'DHA', 'MG5', 'B1L', 'MH7', 'KJA', 'DHJ', 'HRD', 'JYM', 'HPW', 'EEH', 'TFF', 'YEP', 'HB1', 'LAF', 'C1G', '2JR', 'JJW', 'T4R', 'FBH', 'LXD', '2XL', 'GG8', '21Z', 'TJF', 'CAT', 'MLH', '2LS', 101, 'N94', 124, 'CS6', 'TFS', 'BML', 'WBK', 'KGG', 'TF6', 'DJY', 'M5S', '7NF', 'XB4', '16Z', 'B9M', 'C5S', 'FJH', 'HWE', '96L', '3ZF', 'GDW', '8YL', '2DS', 'CR5', '2T3', 'FTL', 'EJA', 'JGS', '6BL', '5HF', 'HEX', 'YBM', 'SER', 'SEY', 'SGG', 'SGJ', 'SHA', 'SHS', 'SKL', 'SKR', 'SLA', 'SLB', 'SLC', 'SLD', 'SLE', 'SLF', 'SLG', 'SLH', 'SLJ', 'SLK', 220, 'SNY', 'SNZ', 224, '0SO', 'SPN', '0SR', 'SSN', 'SSZ', 'SWC', 'SWF', 225, 'SWX', 'SXR', 'SZZ', 'T1F', '0T3', 'T4P', '22R', 'T4S', '22X', '22Z', 'TAL', 'TAN', 'TAW', 'TBK', 'TBL', 'TBM', 'TBN', 'TBS', 'TBW', 'TBY', 'TDG', 'TFG', 'TFJ', 'TFN', 'TFW', 'TFX', 'TFZ', 'TGD', 'THJ', 'TJ5', 'TJA', 'TL5', 'TLJ', 'TLX', 'TMW', 'TMX', 'TMY', 'TNJ', 'TNK', 'TRF', 'TRS', 'TSL', 'TWG', 'TWM', 'TWP', 'TWR', 'TWX', 'TWZ', 'TYK', 'TZA', 'UNK', 'V03', 'W1B', 'W1F', 'W3H', 'W3K', 'W6A', 'W7K', 232, 23, 'W8P', 'WAG', 'WAK', 'WAP', 'WAW', '23H', '23Y', 'WBT', 'WCB', 'WCG', 'WEY', 'WFH', 'WGB', 'WGL', 'WGS', 'WLT', 240, 'WMR', 'WNB', 'WRG', 'WRN', 'WTE', 'WWW', 241, 'WZS', '0X0', 'X4T', 'XAA', 'XBR', 'XCF', 'XCK', 24, '24R', 'XDJ', 'XER', 'XFA', 'XL1', 'XL2', '0XL', 'XXT', '24W', 'YCA', 'YCE', 'YEG', 'YYY', 'YYZ', 'Z4W', 'Z9K', 'ZCA', 'ZCD', '24Y', 'ZEB', 'ZJB', 'ZJT', 'ZSA', 100, '10K', 110, 125, '15Z', '1DR', '1FF', '1FY', '1HS', '1HT', '1J9', '1M2', '1NK', 200, 252, '2CP', '2P6', '2PM', '2WK', '2ZJ', 304, 305, '30K', 323, 334, '3FC', '3TM', '3V3', 404, 414, '41K', '44A', 497, '4NN', '4TM', '4TS', '4X5', '4ZN', 510, '51X', 535, 546, '54K', '58H', '5CW', '5PC', '5T7', '61A', '62K', '63X', '65A', 665, '66A', 730, '76J', '7XM', '81U', '81V', '81X', '83A', '88E', '8PK', '24Z', 930, '94U', '95D', '99C', '99Y', '9DM', '9TC', 25, '9YB', '9YJ', 'A02', 'A90', 'AA6', 'ABS', 'AGB', '25K', 'AT1', 'AT2', 'B1N', 'B5W', 'BCY', 'BHS', 'BJD', 'BLN', 'C00', 'C08', 'C1A', '25X', 'MWD', 'HEN', 'MTS', 'AY4', 'LL0', 'CCR', 'CD2', 'CHD', 'CJM', 'CO2', 'CP1', 'CPP', 'CS4', 'CTD', 'CVM', 'D5G', 'D8T', 'DAC', 'DCO', 'DGT', 'DHC', 'DJD', '26K', 'DKY', 'DMB', 'DNF', 'DOT', 'DSU', '27G', 'DVJ', 'DW6', '27W', 'E28', '27Y', 'EKR', 'ESC', 'ETB', 'ETM', 'EZW', 'F22', 'FCH', 'FCS', 'FF2', 'FF3', 'FW0', 'GL5', 'HAF', 'HT4', 'JAD', 'JHE', 'JHY', 'JJG', 'JMC', 'JMH', 'JNJ', 'JPE', 'JRF', 'JWJ', 'KAF', 'KCN', 'KMT', 'KSB', 'KZN', 'L8H', 'LL9', 'LNK', 'MST', 'N6D', 'NL2', 'OBX', 'OCR', 'ODJ', 'OM5', 'OPA', 'OPD', 'OPH', 'OTW', 'OXC', 'P38', 'PE6', 'PFY', 'PH0', 'PKM', 'PMS', 'PSC', 'RJD', 'RRA', 'S#8', 'SNG', 'T04', 'T14', 'TDD', 'GCP', 'TSH', 'V14', 'MWP', 'W53', '28X', '28Y', '29Y', '2AL', '2CJ', '2CZ', '2DW', '2EL', '2EN', '2ES', '2FG', '2FL', '2FZ', '2HR', '2JK', '2JM', '2KC', '2KR', '2L5', '2MJ', '2NW', '2PD', '2PG', '02P', '2RM', '2RN', '2SJ', '2SL', '2SW', '2T4', '2T6', '2TG', '2TL', '2TW', 'BTD', 'CXK', 'FJX', 'FTK', 'FYC', 'H5M', 'JRD', 'M5G', 'MXB', 'OCF', 'OCJ', 'PJM', 'PPH', 'R29', 'SA0', 'T13', 'T24', '0XT', '0Z4', '10A', '11A', '12A', '13A', '14A', '15A', '15S', '17A', '19A', 10, '1H8', '1H9', '1R4', '1R9', '1U3', '1W5', '2H5', '2H6', '2H7', '2T9', '2U1', '2U5', '2U8', '2U9', '2W5', 340, '36A', '37A', '38W', '3T0', '3T1', '3T2', '40A', '41E', '42A', '43A', '45D', '45P', '46P', '47A', '49G', '4G5', '4T1', '4U2', '4U5', '52U', '58A', '59C', '59J', '5J1', '5J3', '5T4', '5T5', '5U1', '5U6', '5W1', '5W9', '60A', '61F', '62C', '67M', '69C', '6G1', '6G2', '6G3', '6R0', '70C', '71J', '72G', '75A', '76A', '76D', '78A', '78U', '79U', '7H8', '7M7', '7M8', '7U1', '7U2', '7U5', '7U8', '80H', '83J', '86E', '86J', '87A', '89G', '8SG', '8U1', '8U2', '8U3', '8U7', '8W1', '8W7', '92U', '92V', '96F', '2X4', 980, '9F9', '9G4', '9U1', '9U2', '9U6', '9U9', 'A6D', 'AT3', 'BCM', 'SFG', '2XB', 'SMX', 'SSB', 'THH', '2XF', 'TTN', 'W5M', '2XG', 'RAS', 'S78', '2XW', 'MBT', 'MBX', 'MCC', 'MCF', 'MCS', 'MDH', 'MDJ', 'MDY', 'MER', 'MGD', 'MH6', 'MJC', 'MJD', 'MJH', 'MJS', 'MKR', 'MLN', 'MLW', 'MMM', 'MPG', 'MRT', 'MSE', 'MTL', 'MWC', 'LBA', 'LBD', 'LBP', 'LDX', 'LDY', 'LEM', 'LGK', 'LJB', 'LLL', 'LMD', 'LMS', 'LNH', 'LTG', 'LTJ', 'LWT', 'LXB', 'LYA', 'LYB', 'LYC', 'LYE', 'M1G', 'M4M', 'M4S', 'M5T', 'M9D', 'M9J', 'MAL', 'MBD', 'KCW', 'KDE', 'KF2', 'KFF', 'KFX', 'KGA', '2YN', 'KGB', 'KJL', 'KJP', 'KK2', 'KK4', 'KL2', 'KMM', 'KMR', 'KMW', '2YR', 'KNE', 'KPZ', 'KR2', 'KRS', 'KTG', 'KW2', 'KWW', '2ZD', 'KY2', 'KYY', 'KZL', 'LA5', 'LAB', 'LAR', 'LAY', 'JCS', 'JHJ', 'JKM', 'JLK', 'JLM', 'JLX', 'JNM', 'JPA', 'JRP', 'JSC', 'JST', 'JTM', 'JTR', 'JWD', 'JWY', 'JXL', 'K1Y', 'K5K', 'K9X', 'EMB', 'ENE', 'ERL', 'ERX', 'EYE', 'F2W', 'F9M', 'FB2', 'FB4', 'FDG', 'FDH', 'FDT', 'FDW', 'FEH', 'FER', 'FF9', 'FFF', 'FGH', 'FKY', 'FMC', 'FPC', 'FPS', 'FRK', '2ZK', 'FTD', 'GAX', 'GB6', 'GBB', 'GBJ', 'GBT', 'GHS', 'GJB', 'GMK', 'GNZ', 'GPA', 'GRT', 'GTA', 'GTN', 'GXR', 'H2C', 'H4C', 'HAS', 'HDC', 'HDK', 'HEK', 'HJF', 'HJR', 'HKE', 'HLS', 'HPD', 'HWB', 'HWD', 'HWG', 'HXC', 'HYD', 'IHF', 'J5R', 'J6B', 'J8B', 'JAN', 'JBC', 'JCP', 'CKX', 'CLE', 'CMB', 'CML', 'CMM', 'CNC', 'CNG', 'CNH', 'CNN', 'CNT', 'CRB', 'CRD', 'CS5', 'CSX', 'CT3', 'CXM', 'CXR', 'CYA', 'CYM', 'D3T', 'D8A', 'D9G', 'D9T', 'DAK', 'DBB', 'DCH', 'DDA', 'DER', 'DFA', 'DFR', 'DFY', 'DFZ', 'DHE', 'DHG', 'DJA', 'DJG', 'DJL', 'DJM', 'DKD', 'DKS', 'DLS', 'DMY', 'DNM', 'DS3', 'DSA', 'DTD', 'DXR', 'DYC', 'EAA', 'EAG', 'EAS', 'EAT', 'EAX', 'EBF', 'EBL', 'EDA', 'EDW', 'EED', 'EJB', 'EL7', 'BMH', 'BMR', 'BNE', 'BNH', 'BNK', 'BRB', 'BRL', 'BW2', 'BWC', 'BWE', 'BWG', 'BWX', 'BXD', '2ZN', 'BYJ', 'BYN', 'BYR', 'BZZ', 'C2Z', 'C52', 'C6D', 'C8S', 'CAB', 'CAF', 'CB5', 'CBA', 'CBC', 'CCA', 'CDF', 'CED', 'CFC', '2ZR', 'CFN', 'CFT', 'CJC', 'CJN', 'CKE', '9WM', '9XK', '9XP', '9YC', '9YZ', '9ZL', '9ZW', 'A3R', 'A5D', 'A5P', 'A6P', 'A7D', 'A7G', 'A7J', 'A8P', 'A9J', 'A9P', 'A9Z', 'AAE', 'AAX', 'ABB', 'ABJ', 'AC4', 'ADE', 'AEC', 'AFW', 'AFX', 'AGC', 'AGF', 'AGG', 'AGJ', 'AGN', 'AGS', 'AKD', 'AKM', 'AL3', 'ALB', 'ALP', 'ALY', 'ANS', 'ANZ', 'APB', 'APM', 'APN', 'ARL', 'ASA', 'ASD', 'ASE', 'ASL', 'ASN', 'ASR', 'AST', 'ASW', 'ASX', 'ASY', 'AWH', 'AWP', 'AWR', 'AXL', 'AXM', 'AXR', 'AXX', 'AXY', 'AYH', 'AZX', 'AZZ', 'B1M', 'B1P', 'B3M', 'B4L', 'B9D', 'B9E', 'B9H', 'B9J', 'B9L', 'B9N', 'BBD', 'BBW', 'BBX', 'BCP', 'BCX', 'BDA', 'BDH', 'BDM', 'BDX', 'BDY', 'BFA', 'BFE', 'BFP', 'BIL', 'BKW', 'BKZ', '9DB', '9DL', '9DN', '9EJ', '9EW', '9FL', '9FZ', '09G', '9GJ', '9GR', '9JS', '9KJ', '9KK', '9LJ', '9LK', '9LO', '9LR', '9LS', '9MF', '9MW', '9NC', '9PC', '9PN', '9PP', '9RF', '9SD', '9SW', '9TF', '9TS', '9TZ', '09U', '8ZK', '90B', '90E', '90P', '90V', '90Z', '91P', '91Z', '92E', '92X', '92Z', '94A', '94N', '94X', '94Z', '95J', '95U', '95V', '95X', '96U', '97J', '99E', '99F', '99G', '99J', '9C0', '7SK', '7TL', '7WC', '7XL', '7YC', '7YF', '7YJ', '7ZF', '80U', '80V', '81J', '82J', '82V', '84H', '85J', '85X', '86G', '86Z', '87V', '87X', 880, '88J', '89P', '89Z', '8AJ', '8AL', '8AS', '8BG', '8BM', '8CJ', '8CR', '8CS', '8DN', '8FK', '8GR', '8GS', '8HR', '8JN', '8JR', '8KJ', '8MF', '8NK', '8PL', '8PN', '8PS', '8RC', '8RJ', '8RZ', '8TK', '8XC', '8XG', '8XZ', '8YG', '7HK', '7HN', '7JK', '7KG', '7KR', '7KS', '7LM', '7LN', '7MJ', '7ML', '7ND', '7PD', '7PS', '6PR', '6PS', '6QW', '6SL', '6TR', '6XF', '6XN', '6XR', '6YG', '6YL', '6YM', '6YW', '6YZ', '6ZF', '6ZJ', 71, '71M', 72, '72M', '72V', '72W', '73J', '76U', '76W', '76Y', '77V', '78G', '78V', '30Y', '78Y', '79Z', '7AD', '7BC', '7BS', '7DF', '7ER', '65M', '65V', 666, '69J', '69M', '6AB', '6AS', '6CR', '6CS', '6DM', '6DR', '6DS', '6ER', '6ES', '6FC', '6GK', '6GR', '6KS', '6L5', '6LS', '6LZ', '6MB', '6MF', '6MG', '6NG', '6PJ', '5ES', '5FN', '5FZ', '5HK', '5HN', '5HS', '5JN', '5KF', '5KG', '5KS', '5LN', '5MG', '5MK', '5NN', '5SD', '5SK', '5SZ', '5TJ', '5TN', '5TR', '5WC', '5WM', '5WS', '5XJ', '5YJ', '5YM', '5YR', '60H', '61H', '61M', '62D', '63A', '63R', '63W', '64J', '64R', '4MK', '4NB', '4NC', '4NF', '4NZ', '4PS', '4PW', '4RC', '4RN', '4RW', '4SK', '4SS', '4WW', '4YG', '4YR', '4YS', '4ZD', '4ZW', '50W', 514, '51U', 521, 525, '53Y', '54A', '57H', '57Y', '59A', '5AF', '5AK', '5AS', '5BF', '5BL', '5CC', '5CF', '41Y', 421, 425, '42J', '42X', 43, 446, '44Z', '45Z', 473, '47J', 484, 485, 487, '48A', '48J', '49Z', '4AZ', '4BS', '4CJ', '4CZ', '4DC', '4EL', '04F', '4FG', '4FR', '4HG', '4HJ', '4JF', '4JL', '4JN', '4KN', '31R', '3AW', '3BR', '3CL', '3CN', '3DN', '3ER', '3FZ', '3HD', '3JW', '3L5', '3LR', '3ML', '3NJ', '3NR', '3PN', '3RN', '3SK', '31X', '3SW', '3TJ', '3TK', '3WG', '3WN', '3XR', '3YD', '3YG', '3ZC', '31Y', 324, '32K', '3ZN', '3ZS', '40U', '2XS', '2YD', '2ZL', '31J', 32, '32Z', '33A', '33Z', 345, '35K', 364, 398, '3AL', '25Y', '29S', '2BK', '2JS', '2KD', '03Z', '04X', '04Z', '05W', '06X', '07U', 84, '08C', '08T', '09T', '0FZ', '0OT', '0PH', 103, '11K', '12K', '13X', '14X', '16H', '17Z', '18A', '19Z', '1AB', '1AL', '1CO', '1DD', '1DN', '1EN', '1EW', '1FB', '1GN', '1HB', '1HF', '1HK', '1JD', '1JM', '1KF', '1KL', '1KM', '32N', '1NF', '32X', '1PJ', '1RJ', '1SG', '1SJ', '1SL', '1WN', '1WR', '1YJ', '1YN', 0, 2, '00X', 1, '03T', '03U', '03W', 'SMR', 'SZS', 'TMB', 'WAX', 'ZJR', 118, 121, 134, 400, '6CF', '93U', 'C21', 'CPH', 'DX2', 'FKL', 'HLJ', 'OAG', 'OKM', 'OWA', 'P10', 'SR1', 'TFE', 'TK1', 'TMJ', 'WLS', 'R9S', 'S2C', 'S5M', 'MXS', 'OEM', 'L8E', 'LAE', 'LBL', 'LCS', 'LHC', 'LHK', 'LTE', 'LYD', 'M2K', 'M4C', 'M56', 'M5P', 'M94', 'MHT', 'MJ5', 'MP6', 'MPC', 'KCX', 'KDD', 'KGF', 'KPM', 'FPK', 'G7P', 'GTC', 'GXM', 'H24', 'H26', 'H2D', 'H88', 'HCB', 'HPB', 'HTZ', 'HWJ', 'ITL', 'JSB', 'JSP', 'CLA', 'CLZ', 'CMP', 'CMX', 'D6W', 'D8W', 'DBL', 'DMP', 'DPR', 'DPX', 'DTF', 'ELB', 'ERP', 'ESD', 'F4A', 'F6P', 'F7D', 'F9B', 'FBR', 'FCP', 'FCT', 'FDC', 'BNC', 'BPZ', 'BTT', 'BXM', 'C4F', 'C5K', 'C68', 'C8L', 'CAM', 'CAP', 'CC3', 'CCP', 'CDG', 'CEN', 'CFK', 'CFX', '9RL', '9TO', 'AAK', 'ABK', 'AEN', 'AEP', 'AGL', 'AKP', 'ANR', 'AP5', 'AXF', 'AXJ', 'AYA', 'AYP', 'B1R', 'B2D', 'B2E', 'B2L', 'B66', 'B6H', 'B9T', 'BAA', 'BDR', 'BEJ', 'BEM', 'BL2', 'BMK', 33, '33B', '9JK', '9NG', '33X', '8SS', '8TM', '8XF', '8ZS', '90L', '94L', '95C', '95N', '96C', '96V', '9BL', '7HR', '7LS', '7RZ', '7WJ', '7ZR', '82X', '83X', '84X', '85U', '86X', '8BS', '8FL', 346, '8LN', '8PJ', '7BJ', '7CG', '7CS', '7CZ', '7DK', '7ES', '6TL', '6WS', '6XJ', '6ZL', '6ZS', '70A', '70D', '70J', '72F', '74A', '79J', '62H', '63G', '63Z', '64A', '64Z', '68E', '68K', '6AD', '6FN', '6HM', '6JF', '6KL', '6KN', '6LK', '5CL', '5DC', '35A', '5FW', '5GS', '5PZ', '5SS', '5TG', '5WG', '5XK', '4MR', '4MS', '4PN', '4TF', '4TR', 35, '4YC', '4YZ', '35V', '53A', 545, '55U', '34A', '35F', '38V', '3CR', '3GC', '3KR', '3KZ', '37V', '3NW', '3PR', '3XG', '3XK', 419, '43J', '43N', '46B', '46H', '46X', '4GG', '4HS', '4L5', '4LN', '4LR', '4LS', '4LZ', '4MC', '38S', '05A', '05Z', '06Z', '0BC', '0CO', '0FW', '0HA', '0LO', '10W', '11G', '11Z', '13G', '14S', '18B', '1JB', '1L0', '1LW', '3AC', '1MG', '1TZ', '22K', '3BJ', '01X', '02B', '02W', '03J', '03X', '26W', '2KS', '2NL', '3CS', '3DF', '3DR', '3FD', '3FJ', '3FS', 'DW5', 'EDB', 'ER4', 'ERT', 'JZ6', 'KAP', 'KJ5', 'TMG', '3HK', '3JN', 'TXA', 'WYB', 'XT6', 'Z02', 'Z4D', 582, 905, 'BTS', 'XYE', '0RC', 'RTD', 'SEN', 'TBA', 'TBR', '0TL', '3LN', 'N9Y', '3MD', '3MK', 'PFD', 'PFK', 'LSJ', 'M2R', 'MAT', '3MR', 'MGF', 'MKL', 'MLT', '0MT', '3NN', 'KCD', 'KLL', '3PW', 'KTN', 'KWB', 'L4H', 'L8C', 'LCP', '3RF', 'HWC', 'J5M', 'JEL', 'JFC', '0JH', 'JJM', 'JK2', 'JRJ', 'JXE', 'K1R', '3RZ', '3SD', 'DGE', 'DH3', 'DHL', 'DHW', 'DTT', 'DXB', 'DXE', 'ER6', 'ERM', 'ETE', 'FM4', '3T3', 'GEB', 'GLD', 'GMS', 'BZ2', 'C3A', 'C3C', 'C7K', 'CEP', 'CFF', 'CFP', 'CNY', 'CRT', 'CXS', 'D3S', '0DA', 'DBK', 'DBW', '9XG', '9YN', '9ZJ', 'ADZ', 'AKX', 'AMC', 'ANT', 'APX', 'ATS', 'B1B', 'B9G', 'B9K', 'BKK', 'BKL', 'BMM', 'BTW', '9DK', '3XJ', '9HF', '9NB', '3XL', '90A', '90H', '91V', '93N', '94J', '9AR', '7PZ', '7TG', '7ZM', '3YR', '85F', '8BF', '8BL', '3YS', '8KY', '8NB', '3YW', '8XK', '8XP', '8YC', '6NZ', '6RC', '75E', '5YN', '63J', '67V', '68M', '69U', '6EB', '6FB', '6GB', '6GD', '6GJ', '6GS', '6HK', '6ND', '3ZJ', '5EK', '5MW', '5NR', '5SL', '5TW', '4SR', '4XJ', '50K', '45V', '45W', '4BK', '4CR', '4LK', '34D', '3TW', '3TZ', '3ZR', '43E', '2XD', '2YC', '32F', '2JJ', '2RS', '04R', '05J', '05U', '06N', '06R', '0OK', '14R', '1CL', '1FM', '1KB', '1KD', '1RW', '1SF', '1TL', 212, '?FL', '3ZM', '40Y', '41J', 420, 423, '42H', '42N', 444, '45C', 46, '46D', '47M', '48X', '49U', '4AB', '4AL', '4DJ', '4DN', '4EF', '4FC', '4GR', '4HD', '4HK', '4IN', '4KD', '4KK', '4KS', '4MG', '4NS', '4RS', '4SB', '4SD', '4WR', '4XN', '4Y5', '4ZF', 541, 'D3X', '2B2', 'S56', 'PGY', 'L9S', 'JWS', 'FL2', 'N9F', 'DC9', 'N9B', 'P6C', 'A78', 'AW4', 'HBS', 'LHW', 'MK6', 'AP6', '3T8', 'T8E', 'J2S', 'SL8', '3T5', 'FFT', 'FB9', 'FTR', 'RDC', 'NNW', 'YEJ', 'LJM', 'KNW', 'LJ2', 107, 'JAY', 'CRW', 'DJX', '3CG', 'RHP', 'MXF', '9CZ', 'B8Z', 511, 13, 'DHP', 'LJT', 109, 'LWN', 564, 'MW5', 'E8X', 'LJ8', 'J5J', 'LSE', 'JML', 'Z2X', '51V', 'N9A', 'ESE', 'HHM', 'DTB', 'FMR', 'H4T', 'B34', 'ME4', 'MW4', 'K3J', 'MW8', 'CJ2', 'BTX', 'NBD', 'LJ7', 'JAH', 'DSG', 'CAR', 'PBK', 'B9R', 'SJM', 'CAE', 'JBB', '1GF', 'A9H', 'JXM', 'MAS', '55K', 'DWS', '56A', '57M', '57U', 'GKS', '0FA', '1FW', '58U', '59H', 59, 'ANY', 'ACM', 'TBG', 'CNX', '5CH', '5CJ', '5DW', '6BZ', 'MPZ', 'KRR', 'KEK', 'BEC', '9PK', '6YS', 'ER7', '5WD', 'BBB', 'LJL', '1AM', 'BBN', 'LJK', 'MSY', '7SL', '9CM', '8TN', '8MD', '9HS', '9PS', 'SRS', 'B9F', 'AGP', 'B9W', 'JNW', 'CPE', '5GN', '75W', '78W', '3YJ', 'H22', 'LJ4', 5, '79Y', 'MD2', 'K4Y', 6, 'GTL', 7, '7BW', 'JRS', 8, 'ML7', '7FL', 'RCM', 'BYF', 'Z1K', 'Z66', 'Z88', 'DML', 502, 'KEX', '00U', 'LJ3', 'TGP', 'SSP', '01S', '01W', 'GWR', 'KAY', '9BM', '7XN', 'W8R', '5TC', '7YB', '9FK', '74V', 'BZL', '5FK', 'BMW', '2RZ', 'C56', 'GTZ', '7CD', 'HCK', 'TPE', 'LTP', 102, 'CLK', 'LST', 'M2H', 'FD2', 'C6S', 'EAW', '5JC', '33K', 'LKJ', '5KC', '9ZM', '9TN', 'WES', '55J', '5HJ', 'P2T', 'MMS', 'JCC', '5KN', '5LE', '64W', 'PBH', '6MJ', '6TN', '5CD', '2TN', '6ZD', 'BAJ', '6LF', '08U', 551, 'FB5', 'MB5', '3XM', '9HR', 'BG8', '5PK', '65R', '05S', '8RS', 'AKT', '8TF', 'PHH', 'HLM', 'LWS', 'LJR', '6HS', 'L8S', 'A3P', '5TF', 'BGN', '13K', '05T', 'GSL', 'BCA', '4MN', '5TO', 'HGF', 'SHY', '9PZ', '5XC', 'CYD', 'F7C', '5YF', 'RDP', 'JLF', 'AMF', 'NTL', 'AEX', 'CJ0', '0EE', '3AR', '4XM', '0PR', 'MDB', '5ZG', '5ZS', '02D', 'SEW', '61C', '61G', '69X', '9F2', '62A', '02S', '02U', 'J9T', 'M36', 'HKK', 'EJX', '1XM', '9WG', '63K', 'ETL', 'BAS', '6WL', '6KR', 'D3D', 'A6G', 'FLL', '3BS', '01K', '25U', 'RCY', 'FXT', 950, '9ZC', 'KB4', 'HFY', '1EJ', '64X', 'DHT', 'AWY', 'AYS', 'R9W', 'J3A', 'HCL', '2LN', 'FDB', '14Z', '8ZR', 'S66', '84A', 'LZF', '4CS', 'N9P', 347, 'RBT', '6KZ', 'FMT', '37H', '8GB', 'DZT', 'KNP', 'DHM', 'JKR', '66D', '66G', '66V', 'CLT', 'KBE', 'KTW', 'SE4', '68J', '6AJ', '6AP', '6BD', '6BS', '6CK', '36H', '2JD', '6JD', 'DR6', 'HP2', 'HMT', '9XL', 'BKJ', 'RCS', 'HLG', '2EG', '84W', '7EK', '6ED', 442, 'AYE', '3YK', 'HRB', '6FK', '44X', '2LC', 'KKA', 'F6N', 'FDS', '85H', 'DKH', '6JC', '6SK', '6JR', '9GC', '78E', '6LO', 'LJ6', '79V', 'TLK', '6NB', 'AKA', '8WJ', '6GZ', '35S', '5DB', '8YJ', 'MHG', '9MK', 'N9G', '7FS', '9GW', 'BPW', 'BKX', 'K4T', 574, '2RR', '1CW', 'CYC', '02Z', '8GY', 120, '9RS', '4JM', 'BZK', 'TJE', '7CJ', '6HD', '6AL', '95Z', '74W', 'CPT', '41H', '6SW', '7WF', 'D3C', '1YZ', '6TC', '6TO', 'AYL', 'A7A', '27X', '5ZL', '0HF', 'BCZ', '6TS', '83U', '3TF', 'AXW', '6UN', '6XC', '6YF', '6YK', 'C3N', '1CR', '2WM', '6ZN', '70P', '7NN', '70V', 106, '72X', '73U', 'HTG', 'BMA', 'KDH', '77Y', '1HL', '78P', 'DAE', '1HD', '79P', 'ANC', 'JZZ', '7AR', '1SD', 'GAT', 'L9H', '8KN', '7FR', 'AKH', '5JR', '7XJ', 'BL7', 'KT4', '1JK', '77M', '7CN', 'BDK', 'RLS', 3, 'MWG', '5BZ', 'BWL', 'W7N', '7BD', '7BF', 'VCE', '7DC', '7JR', 'FHA', '7DS', 'ASB', 'BCR', 'S3M', '8WD', '2NK', '8GN', 'GJD', 'BPH', 'J5B', '8FC', 'JKN', 'BAB', '75J', 'HYT', '6KK', '7FB', 'CLB', 'JSL', 'F8B', 'CRS', 'KCE', '6NS', '87J', 'DCR', '8BP', 'ADC', '50S', 'KBN', '9PR', '6MN', '7GJ', '7KN', '55A', '4AR', '2BW', 'LAJ', 'FB8', 'GLK', 'TBX', '8LJ', 'ATY', '4GZ', 441, '1PM', 'GRL', 221, 'H8M', '7MR', 'WGX', '9HJ', '8ZM', '7NC', '7PC', 'NDY', '7RL', 986, '7YS', 817, '81Z', '5XG', 'ALF', 31, '82A', '82H', '06U', 82, '9BG', 'MLJ', '85G', '4XR', '07R', '07T', 'R9N', '8AC', 'ANA', 'MET', '8AR', '8BC', '3OK', 'D60', 'P9Z', 'N95', '8JB', '08Y', '8NC', '08Z', '8NN', 9, '09C', '0AF', '0AN', '8TJ', '00D', '8XJ', '0HG', '0KG', '0LL', '0LN', '0MC', '0SG', '0SM', '0XX', '92J', '10N', '94I', '96A', '97C', '98Z', '9AG', '9AL', '09A', '12Y', '12Z', '9EK', '9FM', '14Y', 159, '15R', '9GK', 17, 'KEA', 'LNC', 'OPW', 'MRR', 'TDH', '9GL', '9MG', '18Z', '9PM', '9TB', '1CK', '09Y', '09Z', '0A0', '1DL', 'AAF', 'AEM', 'AGR', '0AK', 'AKR', 'AKS', 'ALH', 'AMZ', 'ANG', 'APA', 'AWG', 'D7G', '7C9', '4G3', 'MGM', 'SWB', 'AP0', '6EM', 'TRK', 'TWE', 'TFM', 'TR9', 'TZJ', 'T3T', 'TEM', 'TKJ', 'TTW', 'TMM', 'TTB', 'THW', 'AXC', '3H2', 'AXG', 'PG5', '08V', 'RRJ', 'AYB', 'FB6', 'AYK', 'DGK', 'DEG', 'DCD', '1FD', '1FL', 'B1W', 'B9C', 'BAX', 'BDL', 'BDT', 'BE7', 'BEB', 'BGF', 'BGT', 'BLM', 'BNX', 'BRZ', 'BTY', 'BWM', '0BW', '1JP', 'KMD', 'JRE', 'BXS', 'GWT', '1KW', 'WCH', 'JEY', 'RME', 'C5F', 'B72', 'HMH', 'ZLK', 'C64', 'M9C', 'C7S', 'C8F', 'KJH', 'WTT', 'F5K', 'USS', 'XCR', '91L', 'EB5', 'RKH', '0YY', 'CON', 'KEW', 'YZZ', 'HR9', 'HNK', 'GB1', 'EAL', '0AG', 'V54', 'LT6', 'GG9', 'CCK', 'KGP', 'EBJ', '2M5', 'N9E', 'JNK', 453, 870, 'CS9', 644, 'CEX', 'CEZ', 'JEM', 'CJ6', 'CJS', 'PRG', 'F5G', 179, 48, 'ZGZ', 544, '4RG', 'LCH', 'RBP', '4P4', 'C14', 'J8H', '6NC', 'JYD', 490, 'EB4', 'EB6', 'JX9', '4I5', 'RB9', 'XT2', 'GAC', 'EB7', 'D9L', 'GMJ', 'BS0', 'TMK', 'L17', '1XR', 'KEE', 'DW7', 'TO5', 'KSA', 465, 'AP1', 'OME', 'JTF', 'TKL', 'CKT', 'CT0', 'PC2', 'SU2', 643, 'T6X', 'BWN', 'BHN', 123, 'EE2', 'CR3', 'CRX', '0CS', '1JS', 'XWL', 'YHT', 'Z6A', 'EN6', 153, 'MHK', 'FL5', 'DWE', 30, 'CYX', 'CZA', 'D4E', 'D4R', 'D9X', 'DBX', '0DH', 243, 'AN3', 'DSC', 'DTA', 'DX6', 'E7E', 'EDF', 'EL5', 'EXR', 'FAT', '5L5', 'FCY', 'LZQ', 'G7A', '0FE', 'CLS', 'W1C', '8HD', '4TK', 700, 'FMH', 'GCB', 'BWP', '13B', 'DWF', 'FWL', 'CEG', 'G4D', '9HZ', '6TB', 'G7L', 'ASG', '14U', '2ZF', 'CMD', '9HM', 'GAB', 'GAE', 'JA9', 'GDP', 'EEA', '7NW', 'GKP', 'GKX', '74Z', 'GMY', '9PJ', 'BTP', 'BED', 'PTF', 'GSX', 'W2T', 'FBA', '5MD', 'GZN', 'H2A', 'H2B', 'REL', 'HCD', 'J4W', 'NDL', 'WJH', 'FL1', 'TEL', 'HP5', '2RG', '0CB', '3T9', 'FDL', 'ML8', 'HEP', 91, 661, 'K5E', 'KCS', 'KZB', '1GJ', '2AR', '2NJ', '4CD', '6WJ', '6YD', '7SM', '8KZ', 999, 'A7P', 'ALR', 'ASF', 'AWW', 'BPC', '0HP', 'BZG', 'GW7', 'JBP', 'ISL', 'J2D', 'KC6', 'LYR', 'MZY', 'JHB', 'SWH', 'TEP', 'TH2', 'JLB', 'W8S', 'Z77', 'ZB2', 'JLS', 'AJM', '0C7', '6G6', 'DY9', 'LAA', 740, 791, 781, 787, 'C20', 180, 'H80', 'P54', 137, 'DSS', '0AE', 'TGG', 'LBX', 'VBL', 'EHC', 'SSH', 'CW9', '0JR', 'JS9', '1MK', 'JSR', 'K3D', '1NB', '1OT', 'KAL', 'KCA', 'KCR', 'KFH', 'KJM', 'KKJ', 'KSD', 'KWJ', 'L4E', 'L5N', 'L7B', 'LCB', 'LCR', 'LHX', 'LKY', '8NM', 'WMP', 'BYE', 320, 'HP6', 850, 'M92', 'MAC', 'MCW', 'MDA', 'MJE', 'MME', 'MSP', 'MT1', 'MT2', '1XJ', '1XL', '1YK']\n"
     ]
    },
    {
     "name": "stderr",
     "output_type": "stream",
     "text": [
      "C:\\Users\\julianyang\\AppData\\Local\\Continuum\\anaconda3\\lib\\site-packages\\ipykernel_launcher.py:32: RuntimeWarning: invalid value encountered in less\n",
      "C:\\Users\\julianyang\\AppData\\Local\\Continuum\\anaconda3\\lib\\site-packages\\ipykernel_launcher.py:33: RuntimeWarning: invalid value encountered in less\n",
      "C:\\Users\\julianyang\\AppData\\Local\\Continuum\\anaconda3\\lib\\site-packages\\ipykernel_launcher.py:34: RuntimeWarning: invalid value encountered in less\n"
     ]
    },
    {
     "name": "stdout",
     "output_type": "stream",
     "text": [
      "All estimation completed. Ready to export\n",
      "export completed\n"
     ]
    }
   ],
   "source": [
    "df = pd.read_excel('..\\\\data\\\\EquipmentAge.xlsx', index_col='EquipmentCode')\n",
    "#Create list for loop. I only need to build prefix number of models\n",
    "prefix = list(dict.fromkeys(list(df['SN1'])))\n",
    "print('Tasks list:',prefix)\n",
    "\n",
    "#Clone df for output df\n",
    "output = df\n",
    "output.shape\n",
    "\n",
    "#DS:Create a blank df for the base of merging the OUTPUTs\n",
    "#output_prediction = pd.DataFrame(index=output.index ,columns=['Predicted_Age_By_DBS_Year','Predicted_Age_By_Delivery','Predicted_Age_Combined_Pro_Delivery'])\n",
    "output_prediction = pd.DataFrame()\n",
    "\n",
    "for x in prefix:   #while loopingthrough prefix, delete all other prefix\n",
    "#     print('Starting prefix:',x)\n",
    "    TEST = output.drop(output.index[output.SN1 != x])\n",
    "\n",
    "    OUTPUT = TEST\n",
    "    EXPLORE1 = TEST.drop(['SerialNumber', 'ModelName', 'SN1',\n",
    "           'Age_From_Delivery', 'Combined_Age_Pro_Built_Year','Combined_Age_Pro_Delivery'],axis=1) \n",
    "\n",
    "    TRAIN1 = EXPLORE1.dropna()\n",
    "\n",
    "#     print('Filter data by 3 standard deviation')\n",
    "    \n",
    "    NEW_TRAIN1 = TRAIN1[(np.abs(stats.zscore(TRAIN1)) < 3).all(axis=1)]\n",
    "\n",
    "\n",
    "#     print('NT1 size:',NEW_TRAIN1.shape)\n",
    "#     print('NT2 size:',NEW_TRAIN2.shape)\n",
    "#     print('NT3 size:',NEW_TRAIN3.shape)\n",
    "#     print(NEW_TRAIN3.columns)\n",
    "#     print('Data Loaded')    \n",
    "    \n",
    "    X1 = TRAIN1[['SN2']].squeeze()\n",
    "    X1 = X1.astype(int)    \n",
    "    Y1 = TRAIN1[['Age_From_DBS']].squeeze() / 12\n",
    "    Y1 = Y1.astype(int)\n",
    "    \n",
    "\n",
    "#     print('Start Training')\n",
    "    \n",
    "    if NEW_TRAIN1.size > 0:\n",
    "        model1 = interp1d(X1, Y1,kind='linear',fill_value=\"extrapolate\")\n",
    "        ###Note: In order to calculate more sensible DBS year, train with Year\n",
    "        \n",
    "#     print('Training coplete')\n",
    "    \n",
    "    for idx in OUTPUT.index.values:\n",
    "        if NEW_TRAIN1.size > 0:\n",
    "            OUTPUT.loc[idx, 'Predicted_Age_By_DBS_Year'] = model1(OUTPUT.loc[idx, 'SN2'])\n",
    "\n",
    "#     print('prefix estimation complete')\n",
    "        \n",
    "#     print(OUTPUT.describe)    \n",
    "#     print('Starting to merge data')\n",
    "        \n",
    "    #DS: I decided to use append instead. Commented out reset_index because I don't know if you need the EquipmentCode\n",
    "    output_prediction = output_prediction.append([OUTPUT])\n",
    "    output_prediction = output_prediction.drop_duplicates()#.reset_index(drop=True)\n",
    "    \n",
    "#     print('Prefix estimation complete, data loaded to output, move on to next prefix')\n",
    "    \n",
    "print('All estimation completed. Ready to export')\n",
    "output_prediction.to_csv('..\\\\data\\\\Output\\\\Age_Predict.csv')\n",
    "print('export completed')"
   ]
  },
  {
   "cell_type": "markdown",
   "metadata": {},
   "source": [
    "# TEST RESULTS"
   ]
  },
  {
   "cell_type": "code",
   "execution_count": 93,
   "metadata": {
    "ExecuteTime": {
     "end_time": "2020-05-22T18:51:23.164629Z",
     "start_time": "2020-05-22T18:51:23.150665Z"
    }
   },
   "outputs": [
    {
     "data": {
      "text/plain": [
       "Index(['Age_From_DBS', 'Age_From_Delivery', 'Combined_Age_Pro_Built_Year',\n",
       "       'Combined_Age_Pro_Delivery', 'Predicted_Age_By_DBS_Year',\n",
       "       'Predicted_Age_Combined_Pro_Built_Year',\n",
       "       'Predicted_Age_Combined_Pro_Delivery'],\n",
       "      dtype='object')"
      ]
     },
     "execution_count": 93,
     "metadata": {},
     "output_type": "execute_result"
    }
   ],
   "source": [
    "tt = output_prediction.drop(['SerialNumber','ModelName','SN1','SN2'],axis=1)\n",
    "tt.columns"
   ]
  },
  {
   "cell_type": "code",
   "execution_count": 96,
   "metadata": {
    "ExecuteTime": {
     "end_time": "2020-05-22T18:52:45.519199Z",
     "start_time": "2020-05-22T18:52:45.492304Z"
    },
    "scrolled": false
   },
   "outputs": [
    {
     "name": "stdout",
     "output_type": "stream",
     "text": [
      "                                 OLS Regression Results                                \n",
      "=======================================================================================\n",
      "Dep. Variable:           Age_From_DBS   R-squared (uncentered):                   1.000\n",
      "Model:                            OLS   Adj. R-squared (uncentered):              1.000\n",
      "Method:                 Least Squares   F-statistic:                          4.546e+11\n",
      "Date:                Fri, 22 May 2020   Prob (F-statistic):                        0.00\n",
      "Time:                        14:52:45   Log-Likelihood:                          46198.\n",
      "No. Observations:               34850   AIC:                                 -9.239e+04\n",
      "Df Residuals:                   34849   BIC:                                 -9.239e+04\n",
      "Df Model:                           1                                                  \n",
      "Covariance Type:            nonrobust                                                  \n",
      "=============================================================================================\n",
      "                                coef    std err          t      P>|t|      [0.025      0.975]\n",
      "---------------------------------------------------------------------------------------------\n",
      "Predicted_Age_By_DBS_Year    12.0000   1.78e-05   6.74e+05      0.000      12.000      12.000\n",
      "==============================================================================\n",
      "Omnibus:                   167161.409   Durbin-Watson:                   2.000\n",
      "Prob(Omnibus):                  0.000   Jarque-Bera (JB):    1762926886562.973\n",
      "Skew:                         186.659   Prob(JB):                         0.00\n",
      "Kurtosis:                   34844.469   Cond. No.                         1.00\n",
      "==============================================================================\n",
      "\n",
      "Warnings:\n",
      "[1] Standard Errors assume that the covariance matrix of the errors is correctly specified.\n"
     ]
    }
   ],
   "source": [
    "test1 = tt.drop(['Age_From_Delivery','Combined_Age_Pro_Built_Year','Combined_Age_Pro_Delivery','Predicted_Age_Combined_Pro_Delivery','Predicted_Age_Combined_Pro_Built_Year'],axis=1)\n",
    "test1 = test1.dropna()\n",
    "X1 = test1[['Predicted_Age_By_DBS_Year']].squeeze()\n",
    "Y1 = test1[['Age_From_DBS']].squeeze()\n",
    "# create a OLS model.\n",
    "model = sm.OLS(Y1, X1)\n",
    "\n",
    "#Print\n",
    "results = model.fit()\n",
    "print(results.summary())"
   ]
  },
  {
   "cell_type": "code",
   "execution_count": 97,
   "metadata": {
    "ExecuteTime": {
     "end_time": "2020-05-22T18:52:54.215481Z",
     "start_time": "2020-05-22T18:52:48.311870Z"
    },
    "scrolled": false
   },
   "outputs": [
    {
     "data": {
      "text/plain": [
       "<seaborn.axisgrid.PairGrid at 0x20904c45dc8>"
      ]
     },
     "execution_count": 97,
     "metadata": {},
     "output_type": "execute_result"
    },
    {
     "data": {
      "image/png": "[encoded data removed]",
      "text/plain": [
       "<Figure size 576x576 with 6 Axes>"
      ]
     },
     "metadata": {
      "needs_background": "light"
     },
     "output_type": "display_data"
    }
   ],
   "source": [
    "sns.pairplot(test1, kind='reg', diag_kind='hist',\n",
    "             height=4, aspect=1,\n",
    "             plot_kws={'scatter_kws': {'alpha': 0.7}})"
   ]
  },
  {
   "cell_type": "code",
   "execution_count": 102,
   "metadata": {
    "ExecuteTime": {
     "end_time": "2020-05-22T18:56:51.895674Z",
     "start_time": "2020-05-22T18:56:51.872776Z"
    },
    "scrolled": false
   },
   "outputs": [
    {
     "name": "stdout",
     "output_type": "stream",
     "text": [
      "                                 OLS Regression Results                                \n",
      "=======================================================================================\n",
      "Dep. Variable:           Age_From_DBS   R-squared (uncentered):                   0.999\n",
      "Model:                            OLS   Adj. R-squared (uncentered):              0.999\n",
      "Method:                 Least Squares   F-statistic:                          4.408e+07\n",
      "Date:                Fri, 22 May 2020   Prob (F-statistic):                        0.00\n",
      "Time:                        14:56:51   Log-Likelihood:                     -1.1482e+05\n",
      "No. Observations:               34850   AIC:                                  2.296e+05\n",
      "Df Residuals:                   34849   BIC:                                  2.296e+05\n",
      "Df Model:                           1                                                  \n",
      "Covariance Type:            nonrobust                                                  \n",
      "=========================================================================================================\n",
      "                                            coef    std err          t      P>|t|      [0.025      0.975]\n",
      "---------------------------------------------------------------------------------------------------------\n",
      "Predicted_Age_Combined_Pro_Built_Year     0.9995      0.000   6639.564      0.000       0.999       1.000\n",
      "==============================================================================\n",
      "Omnibus:                    66139.499   Durbin-Watson:                   1.988\n",
      "Prob(Omnibus):                  0.000   Jarque-Bera (JB):      38289723554.813\n",
      "Skew:                         -12.655   Prob(JB):                         0.00\n",
      "Kurtosis:                    5137.996   Cond. No.                         1.00\n",
      "==============================================================================\n",
      "\n",
      "Warnings:\n",
      "[1] Standard Errors assume that the covariance matrix of the errors is correctly specified.\n"
     ]
    }
   ],
   "source": [
    "test2 = tt.drop(['Age_From_Delivery','Combined_Age_Pro_Built_Year','Combined_Age_Pro_Delivery','Predicted_Age_By_DBS_Year','Predicted_Age_Combined_Pro_Delivery'],axis=1)\n",
    "test2 = test2.dropna()\n",
    "X2 = test2[['Predicted_Age_Combined_Pro_Built_Year']].squeeze()\n",
    "Y2 = test2[['Age_From_DBS']].squeeze()\n",
    "# create a OLS model.\n",
    "model2 = sm.OLS(Y2, X2)\n",
    "\n",
    "#Print\n",
    "results2 = model.fit()\n",
    "print(results2.summary())"
   ]
  },
  {
   "cell_type": "code",
   "execution_count": 103,
   "metadata": {
    "ExecuteTime": {
     "end_time": "2020-05-22T18:57:02.414304Z",
     "start_time": "2020-05-22T18:56:56.274591Z"
    },
    "scrolled": false
   },
   "outputs": [
    {
     "data": {
      "text/plain": [
       "<seaborn.axisgrid.PairGrid at 0x20907488708>"
      ]
     },
     "execution_count": 103,
     "metadata": {},
     "output_type": "execute_result"
    },
    {
     "data": {
      "image/png": "[encoded data removed]",
      "text/plain": [
       "<Figure size 576x576 with 6 Axes>"
      ]
     },
     "metadata": {
      "needs_background": "light"
     },
     "output_type": "display_data"
    }
   ],
   "source": [
    "sns.pairplot(test2, kind='reg', diag_kind='hist',\n",
    "             height=4, aspect=1,\n",
    "             plot_kws={'scatter_kws': {'alpha': 0.7}})"
   ]
  }
 ],
 "metadata": {
  "kernelspec": {
   "display_name": "Python 3",
   "language": "python",
   "name": "python3"
  },
  "language_info": {
   "codemirror_mode": {
    "name": "ipython",
    "version": 3
   },
   "file_extension": ".py",
   "mimetype": "text/x-python",
   "name": "python",
   "nbconvert_exporter": "python",
   "pygments_lexer": "ipython3",
   "version": "3.7.4"
  },
  "varInspector": {
   "cols": {
    "lenName": 16,
    "lenType": 16,
    "lenVar": "100"
   },
   "kernels_config": {
    "python": {
     "delete_cmd_postfix": "",
     "delete_cmd_prefix": "del ",
     "library": "var_list.py",
     "varRefreshCmd": "print(var_dic_list())"
    },
    "r": {
     "delete_cmd_postfix": ") ",
     "delete_cmd_prefix": "rm(",
     "library": "var_list.r",
     "varRefreshCmd": "cat(var_dic_list()) "
    }
   },
   "types_to_exclude": [
    "module",
    "function",
    "builtin_function_or_method",
    "instance",
    "_Feature"
   ],
   "window_display": false
  }
 },
 "nbformat": 4,
 "nbformat_minor": 2
}
