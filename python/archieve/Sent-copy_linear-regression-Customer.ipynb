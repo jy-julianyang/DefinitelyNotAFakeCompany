{
 "cells": [
  {
   "cell_type": "markdown",
   "metadata": {
    "heading_collapsed": true
   },
   "source": [
    "# Lead generation customer value exploration"
   ]
  },
  {
   "cell_type": "markdown",
   "metadata": {
    "heading_collapsed": true,
    "hidden": true
   },
   "source": [
    "## Load libraries (o_o)=<"
   ]
  },
  {
   "cell_type": "code",
   "execution_count": null,
   "metadata": {
    "ExecuteTime": {
     "end_time": "2020-04-29T16:54:18.430003Z",
     "start_time": "2020-04-29T16:54:17.634121Z"
    },
    "hidden": true
   },
   "outputs": [],
   "source": [
    "import numpy as np\n",
    "import pandas as pd\n",
    "import seaborn as sns\n",
    "import matplotlib.pyplot as plt\n",
    "import statsmodels.api as sm\n",
    "import math \n",
    "import pickle\n",
    "import pylab\n",
    "\n",
    "from scipy import stats\n",
    "from scipy.stats import kurtosis, skew\n",
    "from statsmodels.stats import diagnostic as diag\n",
    "from statsmodels.stats.outliers_influence import variance_inflation_factor\n",
    "from sklearn.model_selection import train_test_split\n",
    "from sklearn.linear_model import LinearRegression\n",
    "from sklearn.metrics import mean_squared_error, r2_score, mean_absolute_error\n",
    "\n",
    "%matplotlib inline\n",
    "plt.style.use('seaborn-ticks')\n",
    "pd.options.display.max_rows = 10\n",
    "pd.set_option('display.precision', 2)\n",
    "pd.options.display.float_format = '{:6,.2f}'.format"
   ]
  },
  {
   "cell_type": "markdown",
   "metadata": {
    "heading_collapsed": true,
    "hidden": true
   },
   "source": [
    "## Load and verify data set (o_o)=====<"
   ]
  },
  {
   "cell_type": "code",
   "execution_count": null,
   "metadata": {
    "ExecuteTime": {
     "end_time": "2020-04-29T16:55:09.556256Z",
     "start_time": "2020-04-29T16:55:05.567757Z"
    },
    "hidden": true,
    "scrolled": true
   },
   "outputs": [],
   "source": [
    "#load data\n",
    "data = pd.read_excel('..\\\\data\\\\LeadData_Customer_All.xlsx', index_col='OriginalCustomerNumber')\n",
    "\n",
    "#Show summary\n",
    "#data.head()\n",
    "\n",
    "#Verify data types\n",
    "data = data.astype(float)\n",
    "#data.dtypes\n",
    "\n",
    "#Verify data size\n",
    "data.shape\n",
    "\n",
    "# Print data columns for copy and paste\n",
    "#data.columns"
   ]
  },
  {
   "cell_type": "markdown",
   "metadata": {
    "heading_collapsed": true
   },
   "source": [
    "# Explore the data in multiple linear regression (o_o)!~/\\"
   ]
  },
  {
   "cell_type": "markdown",
   "metadata": {
    "ExecuteTime": {
     "end_time": "2020-04-29T13:19:53.376286Z",
     "start_time": "2020-04-29T13:19:53.374291Z"
    },
    "heading_collapsed": true,
    "hidden": true
   },
   "source": [
    "## Verify Dataset"
   ]
  },
  {
   "cell_type": "code",
   "execution_count": null,
   "metadata": {
    "ExecuteTime": {
     "end_time": "2020-04-29T16:57:37.646197Z",
     "start_time": "2020-04-29T16:57:37.642698Z"
    },
    "hidden": true
   },
   "outputs": [],
   "source": [
    "#Verify data size\n",
    "data.shape"
   ]
  },
  {
   "cell_type": "code",
   "execution_count": null,
   "metadata": {
    "ExecuteTime": {
     "end_time": "2020-04-29T16:57:59.707196Z",
     "start_time": "2020-04-29T16:57:59.698220Z"
    },
    "hidden": true,
    "scrolled": true
   },
   "outputs": [],
   "source": [
    "# check for missing values\n",
    "display(data.isna().any())\n",
    "\n",
    "# verify/drop any missing values\n",
    "#customer_filtered.isna().any()\n",
    "#data_dropna = data.dropna() \n",
    "#instead of dropna. i decided to drop columns instead.\n",
    "data_dropna = data.drop(['Average_Fleet_Age_Months','Average_Fleet_Hours'], axis = 1)\n",
    "# verify data size\n",
    "data_dropna.shape"
   ]
  },
  {
   "cell_type": "markdown",
   "metadata": {
    "heading_collapsed": true,
    "hidden": true
   },
   "source": [
    "## Building correlation matrix"
   ]
  },
  {
   "cell_type": "code",
   "execution_count": null,
   "metadata": {
    "ExecuteTime": {
     "end_time": "2020-04-29T17:20:08.434552Z",
     "start_time": "2020-04-29T17:20:08.418594Z"
    },
    "hidden": true
   },
   "outputs": [],
   "source": [
    "#remove extreme outliers:\n",
    "#If you have multiple columns in your dataframe and would like to remove all \n",
    "#rows that have outliers in at least one column, the following expression \n",
    "#would do that in one shot: select absolute Z score for the row <3 (). .all or .any\n",
    "\n",
    "data_filtered_by_z = data_dropna[(np.abs(stats.zscore(data_dropna)) < 3).all(axis=1)]"
   ]
  },
  {
   "cell_type": "code",
   "execution_count": null,
   "metadata": {
    "ExecuteTime": {
     "end_time": "2020-04-29T17:20:09.631894Z",
     "start_time": "2020-04-29T17:20:09.372083Z"
    },
    "hidden": true
   },
   "outputs": [],
   "source": [
    "# Compute the correlation matrix\n",
    "corr_matrix = round(data_dropna.corr(),2)\n",
    "\n",
    "# get sorted correlation\n",
    "def get_redundant_pairs(df):\n",
    "    pairs_to_drop = set()\n",
    "    cols = df.columns\n",
    "    for i in range(0, df.shape[1]):\n",
    "        for j in range(0, i+1):\n",
    "            pairs_to_drop.add((cols[i], cols[j]))\n",
    "    return pairs_to_drop\n",
    "\n",
    "def get_sorted_corr(df):\n",
    "    crr = df.corr().abs().unstack()\n",
    "    labels_to_drop = get_redundant_pairs(df)\n",
    "    crr = crr.drop(labels=labels_to_drop).sort_values(ascending=False)\n",
    "    return crr\n",
    "\n",
    "get_sorted_corr(data_dropna)\n",
    "\n",
    "sorted_corr = get_sorted_corr(data_dropna)\n",
    "sorted_corr.to_csv('..\\\\data\\\\Output\\\\Sorted_Correlation_Customer.csv')"
   ]
  },
  {
   "cell_type": "code",
   "execution_count": null,
   "metadata": {
    "ExecuteTime": {
     "end_time": "2020-04-29T17:20:26.677455Z",
     "start_time": "2020-04-29T17:20:12.902243Z"
    },
    "hidden": true
   },
   "outputs": [],
   "source": [
    "#Generate a chart for correlations\n",
    "\n",
    "# Generate a mask for the upper triangle\n",
    "mask = np.triu(np.ones_like(corr_matrix, dtype=np.bool))\n",
    "\n",
    "# Set up the matplotlib figure\n",
    "fig, ax = plt.subplots(figsize=(120, 120))\n",
    "\n",
    "# Generate a custom diverging colormap\n",
    "cmap = sns.diverging_palette(240, 10, n=9, as_cmap=True)\n",
    "\n",
    "heatmap = sns.heatmap(corr_matrix, mask=mask, cmap=cmap,\n",
    "                      square=True, linewidths=3,\n",
    "                      cbar_kws = {'shrink': 0.6},\n",
    "                      vmin=-1, vmax=1,\n",
    "                      annot=True, annot_kws = {'size': 2})\n",
    "\n",
    "# add the column names as labels\n",
    "ax.set_yticklabels(corr_matrix.columns)\n",
    "ax.set_xticklabels(corr_matrix.columns)\n",
    "\n",
    "# plt.show()\n",
    "plt.savefig('..\\\\data\\\\Output\\\\Correlation_Matrix_Customer_customer_filtered')"
   ]
  },
  {
   "cell_type": "markdown",
   "metadata": {
    "ExecuteTime": {
     "end_time": "2020-04-28T12:55:05.474059Z",
     "start_time": "2020-04-28T12:55:05.469087Z"
    },
    "hidden": true
   },
   "source": [
    "## Testing the dataset\n",
    "### Assumption: y = 'Expenditure_12M_PartsNServices'"
   ]
  },
  {
   "cell_type": "markdown",
   "metadata": {
    "hidden": true
   },
   "source": [
    "### Drop variables with very low correlation to Y"
   ]
  },
  {
   "cell_type": "code",
   "execution_count": null,
   "metadata": {
    "ExecuteTime": {
     "end_time": "2020-04-29T17:21:00.715842Z",
     "start_time": "2020-04-29T17:21:00.709920Z"
    },
    "hidden": true
   },
   "outputs": [],
   "source": [
    "#Drop columns with very low correlations\n",
    "customer_filtered = data_dropna.drop([\n",
    "    'Average_Count_WorkOrder_Per_Unit_0_12M'\n",
    "    ,'Average_Count_SOS_Per_Unit_0_12M'\n",
    "    ,'Average_Fleet_Annual_Utilization'\n",
    "    ,'HasConnectedDevices'\n",
    "    ,'PartsDCAL'\n",
    "    ,'ServiceDCAL'\n",
    "    ,'PercentageFleet_Utilized_0_12M'\n",
    "    ,'PercentageFleet_Utilized_0_3M'\n",
    "    ,'Sum_HistoricAnnualUsage'\n",
    "    ,'Family_Expenditure_12M_Rentals'\n",
    "    ,'Mean_SMU_Between_SOS'\n",
    "    ,'Family_Expenditure_12M_PartsNServices'\n",
    "    ,'Family_Expenditure_12M_Equipment'\n",
    "    ,'Count_Family_CatFleetSize'\n",
    "    ,'Count_Family_FleetSize'\n",
    "    ,'Average_Fleet_Current_Utilization'\n",
    "    ,'Mean_SMU_Between_Repairs'\n",
    "    ,'PercentageFleet_Inactive_0_12M'\n",
    "    ,'PercentageFleet_Inactive_0_3M'\n",
    "     ],axis = 1)\n",
    "\n",
    "customer_filtered.shape"
   ]
  },
  {
   "cell_type": "markdown",
   "metadata": {
    "ExecuteTime": {
     "end_time": "2020-04-28T14:33:11.116893Z",
     "start_time": "2020-04-28T14:33:11.113907Z"
    },
    "hidden": true
   },
   "source": [
    "### Testing for Multicollinearity"
   ]
  },
  {
   "cell_type": "code",
   "execution_count": null,
   "metadata": {
    "ExecuteTime": {
     "end_time": "2020-04-29T17:21:04.268936Z",
     "start_time": "2020-04-29T17:21:03.506457Z"
    },
    "hidden": true,
    "scrolled": false
   },
   "outputs": [],
   "source": [
    "# define two data frames one before the drop and one after the drop\n",
    "customer_filtered_before = customer_filtered\n",
    "customer_filtered_after = customer_filtered.drop([\n",
    "    'Utilization_Fleet_3_15M_Total'\n",
    "    ,'Count_Utilized_ConditionSummary'\n",
    "    ,'Count_Utilized_Fleet_0_3M'\n",
    "    ,'Count_Utilized_Fleet_3_6M'\n",
    "    ,'Count_Utilized_Fleet_6_9M'\n",
    "    ,'Count_Utilized_Fleet_9_12M'\n",
    "    ,'Count_Utilized_Fleet_12_15M'\n",
    "    ,'WO_COUNT_CU_0_3M'\n",
    "    ,'WO_COUNT_CU_3_6M'\n",
    "    ,'WO_COUNT_CU_6_9M'\n",
    "    ,'WO_COUNT_CU_9_12M'\n",
    "    ,'LikelyLostOLGAAmount'\n",
    "    ,'Utilization_Fleet_0_3M_Total'\n",
    "    ,'Utilization_Fleet_3_6M_Total'\n",
    "    ,'Utilization_Fleet_6_9M_Total'\n",
    "    ,'Utilization_Fleet_9_12M_Total'\n",
    "    ,'Utilization_Fleet_12_15M_Total'\n",
    "    ,'Count_Utilized_Fleet_0_12M'\n",
    "    ,'PARTS_CU_0_3M'\n",
    "    ,'PARTS_CU_3_6M'\n",
    "    ,'PARTS_CU_6_9M'\n",
    "    ,'PARTS_CU_9_12M'\n",
    "    ,'PARTS_CU_0_12M'\n",
    "    ,'SERVICES_CU_0_3M'\n",
    "    ,'SERVICES_CU_3_6M'\n",
    "    ,'SERVICES_CU_6_9M'\n",
    "    ,'SERVICES_CU_9_12M'\n",
    "    ,'SERVICES_CU_0_12M'\n",
    "    ,'SOS_COUNT_CU_0_3M'\n",
    "    ,'SOS_COUNT_CU_3_6M'\n",
    "    ,'SOS_COUNT_CU_6_9M'\n",
    "    ,'SOS_COUNT_CU_9_12M'\n",
    "    ,'Count_FleetSize'\n",
    "    ,'Count_PLActive'\n",
    "    ,'Sum_AnnualUsage'\n",
    "    ],axis = 1)\n",
    "\n",
    "#Step by step:\n",
    "#look for pairs in correlation matrix, find extreme high correlations and drop 1 of the two\n",
    "#review before/after series and correlation matrix back and forth Multiculinearity \n",
    "#shows high and somewhat similiar variance inflation factor\n",
    "#inf means extremely large and should be concerned\n",
    "#for pairs, drop the variable that is less complete/reliable, or if they could be calculated\n",
    "#from one another, or  has lower correlation to Y\n",
    "\n",
    "#set maximum display row to 100\n",
    "pd.options.display.max_rows = 100\n",
    "\n",
    "# the VFI does expect a constant term in the data, so we need to add one using the add_constant method\n",
    "X1 = sm.tools.add_constant(customer_filtered_before)\n",
    "X2 = sm.tools.add_constant(customer_filtered_after)\n",
    "\n",
    "# create the series for both\n",
    "series_before = pd.Series([variance_inflation_factor(X1.values, i) for i in range(X1.shape[1])], index=X1.columns)\n",
    "series_after = pd.Series([variance_inflation_factor(X2.values, i) for i in range(X2.shape[1])], index=X2.columns)\n",
    "\n",
    "# display the series\n",
    "\n",
    "#print('DATA BEFORE')\n",
    "#print('-'*100)\n",
    "#display(series_before)\n",
    "#series_before.to_csv('..\\\\data\\\\Output\\\\series_before.csv')\n",
    "\n",
    "# print('DATA AFTER')\n",
    "# print('-'*100)\n",
    "display(series_after)\n",
    "series_after.to_csv('..\\\\data\\\\Output\\\\series_after.csv')"
   ]
  },
  {
   "cell_type": "code",
   "execution_count": null,
   "metadata": {
    "ExecuteTime": {
     "end_time": "2020-04-29T17:21:25.773069Z",
     "start_time": "2020-04-29T17:21:06.101565Z"
    },
    "hidden": true,
    "scrolled": true
   },
   "outputs": [],
   "source": [
    "# define the plot\n",
    "pd.plotting.scatter_matrix(X2, alpha = 1, figsize = (60, 60))\n",
    "\n",
    "#save the plot\n",
    "plt.savefig('..\\\\data\\\\Output\\\\Scatter_Plot_Customer_Partial_Reduced_Variables')"
   ]
  },
  {
   "cell_type": "code",
   "execution_count": null,
   "metadata": {
    "ExecuteTime": {
     "end_time": "2020-04-29T17:21:25.971045Z",
     "start_time": "2020-04-29T17:21:25.939624Z"
    },
    "hidden": true,
    "scrolled": true
   },
   "outputs": [],
   "source": [
    "# get the summary\n",
    "desc_df = X2.describe()\n",
    "\n",
    "# add the standard deviation metric\n",
    "desc_df.loc['+3_std'] = desc_df.loc['mean'] + (desc_df.loc['std'] * 3)\n",
    "desc_df.loc['-3_std'] = desc_df.loc['mean'] - (desc_df.loc['std'] * 3)\n",
    "\n",
    "# display it\n",
    "desc_df"
   ]
  },
  {
   "cell_type": "markdown",
   "metadata": {
    "hidden": true
   },
   "source": [
    "### Create regression model"
   ]
  },
  {
   "cell_type": "code",
   "execution_count": null,
   "metadata": {
    "ExecuteTime": {
     "end_time": "2020-04-29T17:21:32.667295Z",
     "start_time": "2020-04-29T17:21:32.653333Z"
    },
    "hidden": true
   },
   "outputs": [],
   "source": [
    "# define our input variable (X) & output variable\n",
    "X = customer_filtered_after.drop('Expenditure_12M_PartsNServices', axis = 1)\n",
    "Y = customer_filtered_after[['Expenditure_12M_PartsNServices']]\n",
    "\n",
    "# Split X and y into X_\n",
    "X_train, X_test, y_train, y_test = train_test_split(X, Y, test_size=0.20, random_state=1)\n",
    "# create a Linear Regression model object\n",
    "regression_model = LinearRegression()\n",
    "# pass through the X_train & y_train data set\n",
    "regression_model.fit(X_train, y_train)\n",
    "\n",
    "# let's grab the coefficient of our model and the intercept\n",
    "intercept2 = regression_model.intercept_[0]\n",
    "coefficent2 = regression_model.coef_[0][0]\n",
    "\n",
    "print(\"The intercept for our model is {:.4}\".format(intercept2))\n",
    "print('-'*100)\n",
    "\n",
    "# loop through the dictionary and print the data\n",
    "for coef in zip(X.columns, regression_model.coef_[0]):\n",
    "    print(\"The Coefficient for {} is {:.2}\".format(coef[0],coef[1]))"
   ]
  },
  {
   "cell_type": "code",
   "execution_count": null,
   "metadata": {
    "ExecuteTime": {
     "end_time": "2020-04-29T17:21:34.499104Z",
     "start_time": "2020-04-29T17:21:34.482640Z"
    },
    "hidden": true
   },
   "outputs": [],
   "source": [
    "# Get multiple predictions\n",
    "y_predict = regression_model.predict(X_test)\n",
    "\n",
    "# define our intput\n",
    "X2 = sm.add_constant(X)\n",
    "\n",
    "# create a OLS model\n",
    "model = sm.OLS(Y, X2)\n",
    "\n",
    "# fit the data\n",
    "est = model.fit()\n",
    "print(est.summary())"
   ]
  },
  {
   "cell_type": "markdown",
   "metadata": {
    "hidden": true
   },
   "source": [
    "### Confidence Intervals"
   ]
  },
  {
   "cell_type": "code",
   "execution_count": null,
   "metadata": {
    "ExecuteTime": {
     "end_time": "2020-04-29T17:21:39.150993Z",
     "start_time": "2020-04-29T17:21:39.145990Z"
    },
    "hidden": true
   },
   "outputs": [],
   "source": [
    "# make some confidence intervals, 95% by default\n",
    "est.conf_int()"
   ]
  },
  {
   "cell_type": "markdown",
   "metadata": {
    "hidden": true
   },
   "source": [
    "### Testing for Heteroscedasticity"
   ]
  },
  {
   "cell_type": "code",
   "execution_count": null,
   "metadata": {
    "ExecuteTime": {
     "end_time": "2020-04-29T17:23:44.396516Z",
     "start_time": "2020-04-29T17:23:44.387540Z"
    },
    "hidden": true
   },
   "outputs": [],
   "source": [
    "#Run the White's test\n",
    "# _, pval, __, f_pval = \n",
    "diag.het_white(est.resid, est.model.exog, retres = False)\n",
    "# print(pval, f_pval)\n",
    "# print('-'*100)\n",
    "\n",
    "# # print the results of the test\n",
    "# if pval > 0.05:\n",
    "#     print(\"For the White's Test\")\n",
    "#     print(\"The p-value was {:.4}\".format(pval))\n",
    "#     print(\"We fail to reject the null hypthoesis, so there is no heterosecdasticity. \\n\")\n",
    "    \n",
    "# else:\n",
    "#     print(\"For the White's Test\")\n",
    "#     print(\"The p-value was {:.4}\".format(pval))\n",
    "#     print(\"We reject the null hypthoesis, so there is heterosecdasticity. \\n\")\n",
    "\n",
    "# # Run the Breusch-Pagan test\n",
    "# _, pval, __, f_pval = diag.het_breuschpagan(est.resid, est.model.exog)\n",
    "# print(pval, f_pval)\n",
    "# print('-'*100)\n",
    "\n",
    "# # print the results of the test\n",
    "# if pval > 0.05:\n",
    "#     print(\"For the Breusch-Pagan's Test\")\n",
    "#     print(\"The p-value was {:.4}\".format(pval))\n",
    "#     print(\"We fail to reject the null hypthoesis, so there is no heterosecdasticity.\")\n",
    "\n",
    "# else:\n",
    "#     print(\"For the Breusch-Pagan's Test\")\n",
    "#     print(\"The p-value was {:.4}\".format(pval))\n",
    "#     print(\"We reject the null hypthoesis, so there is heterosecdasticity.\")"
   ]
  },
  {
   "cell_type": "markdown",
   "metadata": {
    "hidden": true
   },
   "source": [
    "### Testing for Autocorrelation"
   ]
  },
  {
   "cell_type": "code",
   "execution_count": null,
   "metadata": {
    "ExecuteTime": {
     "end_time": "2020-04-29T17:23:59.616408Z",
     "start_time": "2020-04-29T17:23:59.495731Z"
    },
    "hidden": true
   },
   "outputs": [],
   "source": [
    "# test for Autocorrelation\n",
    "from statsmodels.stats.stattools import durbin_watson\n",
    "\n",
    "# calculate the lag, optional\n",
    "lag = min(10, (len(X)//5))\n",
    "print('The number of lags will be {}'.format(lag))\n",
    "print('-'*100)\n",
    "\n",
    "# run the Ljung-Box test for no autocorrelation of residuals\n",
    "# test_results = diag.acorr_breusch_godfrey(est, nlags = lag, store = True)\n",
    "test_results = diag.acorr_ljungbox(est.resid, lags = lag)\n",
    "\n",
    "# grab the p-values and the test statistics\n",
    "ibvalue, p_val = test_results\n",
    "\n",
    "# print the results of the test\n",
    "if min(p_val) > 0.05:\n",
    "    print(\"The lowest p-value found was {:.4}\".format(min(p_val)))\n",
    "    print(\"We fail to reject the null hypthoesis, so there is no autocorrelation.\")\n",
    "    print('-'*100)\n",
    "else:\n",
    "    print(\"The lowest p-value found was {:.4}\".format(min(p_val)))\n",
    "    print(\"We reject the null hypthoesis, so there is autocorrelation.\")\n",
    "    print('-'*100)\n",
    "\n",
    "# plot autocorrelation\n",
    "sm.graphics.tsa.plot_acf(est.resid)\n",
    "plt.show()"
   ]
  },
  {
   "cell_type": "markdown",
   "metadata": {
    "hidden": true
   },
   "source": [
    "### Testing the Mean of the Residuals Equals 0"
   ]
  },
  {
   "cell_type": "code",
   "execution_count": null,
   "metadata": {
    "ExecuteTime": {
     "end_time": "2020-04-29T17:24:08.136268Z",
     "start_time": "2020-04-29T17:24:08.032545Z"
    },
    "hidden": true
   },
   "outputs": [],
   "source": [
    "# check for the normality of the residuals\n",
    "sm.qqplot(est.resid, line='s')\n",
    "pylab.show()\n",
    "\n",
    "# also check that the mean of the residuals is approx. 0.\n",
    "mean_residuals = sum(est.resid)/ len(est.resid)\n",
    "print(\"The mean of the residuals is {:.4}\".format(mean_residuals))"
   ]
  },
  {
   "cell_type": "markdown",
   "metadata": {
    "hidden": true
   },
   "source": [
    "### Measures of Error"
   ]
  },
  {
   "cell_type": "code",
   "execution_count": null,
   "metadata": {
    "ExecuteTime": {
     "end_time": "2020-04-29T17:24:09.440783Z",
     "start_time": "2020-04-29T17:24:09.435796Z"
    },
    "hidden": true
   },
   "outputs": [],
   "source": [
    "# calculate the mean squared error\n",
    "model_mse = mean_squared_error(y_test, y_predict)\n",
    "\n",
    "# calculate the mean absolute error\n",
    "model_mae = mean_absolute_error(y_test, y_predict)\n",
    "\n",
    "# calulcate the root mean squared error\n",
    "model_rmse =  math.sqrt(model_mse)\n",
    "\n",
    "# display the output\n",
    "print(\"MSE {:.3}\".format(model_mse))\n",
    "print(\"MAE {:.3}\".format(model_mae))\n",
    "print(\"RMSE {:.3}\".format(model_rmse))"
   ]
  },
  {
   "cell_type": "code",
   "execution_count": null,
   "metadata": {
    "ExecuteTime": {
     "end_time": "2020-04-29T17:24:10.502954Z",
     "start_time": "2020-04-29T17:24:10.498964Z"
    },
    "hidden": true
   },
   "outputs": [],
   "source": [
    "model_r2 = r2_score(y_test, y_predict)\n",
    "print(\"R2: {:.2}\".format(model_r2))"
   ]
  },
  {
   "cell_type": "markdown",
   "metadata": {
    "hidden": true
   },
   "source": [
    "### Hypothesis Testing"
   ]
  },
  {
   "cell_type": "code",
   "execution_count": null,
   "metadata": {
    "ExecuteTime": {
     "end_time": "2020-04-29T17:24:11.505790Z",
     "start_time": "2020-04-29T17:24:11.501801Z"
    },
    "hidden": true,
    "scrolled": true
   },
   "outputs": [],
   "source": [
    "# estimate the p-values\n",
    "est.pvalues"
   ]
  },
  {
   "cell_type": "code",
   "execution_count": null,
   "metadata": {
    "ExecuteTime": {
     "end_time": "2020-04-29T17:24:12.861179Z",
     "start_time": "2020-04-29T17:24:12.852203Z"
    },
    "hidden": true
   },
   "outputs": [],
   "source": [
    "# print out a summary\n",
    "print(est.summary())"
   ]
  },
  {
   "cell_type": "markdown",
   "metadata": {
    "hidden": true
   },
   "source": [
    "### Adjust the model"
   ]
  },
  {
   "cell_type": "code",
   "execution_count": null,
   "metadata": {
    "ExecuteTime": {
     "end_time": "2020-04-29T17:24:36.945462Z",
     "start_time": "2020-04-29T17:24:36.922523Z"
    },
    "hidden": true
   },
   "outputs": [],
   "source": [
    "# define our input variable (X) & output variable\n",
    "customer_filtered_again = customer_filtered_after.drop([\n",
    "    'Utilization_Fleet_0_12M_Total'\n",
    "     ],axis = 1)\n",
    "\n",
    "X = customer_filtered_again.drop('Expenditure_12M_PartsNServices', axis = 1)\n",
    "Y = customer_filtered_again[['Expenditure_12M_PartsNServices']]\n",
    "\n",
    "# Split X and y into X_\n",
    "X_train, X_test, y_train, y_test = train_test_split(X, Y, test_size=0.20, random_state=1)\n",
    "# create a Linear Regression model object\n",
    "regression_model = LinearRegression()\n",
    "# pass through the X_train & y_train data set\n",
    "regression_model.fit(X_train, y_train)\n",
    "# define our intput\n",
    "X2 = sm.add_constant(X)\n",
    "# create a OLS model\n",
    "model = sm.OLS(Y, X2)\n",
    "# fit the data\n",
    "est = model.fit()\n",
    "print(est.summary())"
   ]
  },
  {
   "cell_type": "markdown",
   "metadata": {
    "heading_collapsed": true
   },
   "source": [
    "# Explore the variables in linear regression (o_o)!===<"
   ]
  },
  {
   "cell_type": "markdown",
   "metadata": {
    "hidden": true
   },
   "source": [
    "## Test 1: x = Utilization_Fleet_0_12M_Total y= Expenditure_12M_PartsNServices"
   ]
  },
  {
   "cell_type": "markdown",
   "metadata": {
    "hidden": true
   },
   "source": [
    "### Assess the variables"
   ]
  },
  {
   "cell_type": "code",
   "execution_count": null,
   "metadata": {
    "ExecuteTime": {
     "end_time": "2020-04-29T17:24:54.285202Z",
     "start_time": "2020-04-29T17:24:54.274231Z"
    },
    "hidden": true
   },
   "outputs": [],
   "source": [
    "#Create subset data1 for testing ideal element\n",
    "# data1 = data.drop(columns=['FamilyFleetSize','AverageDaysToPay','PartsDCAL','ServiceDCAL','PercentageCat'])\n",
    "data1 = data.loc[:, ['Utilization_Fleet_0_12M_Total', 'Expenditure_12M_PartsNServices']]\n",
    "#define the x & y data\n",
    "x1 = data1['Utilization_Fleet_0_12M_Total']\n",
    "y1 = data1['Expenditure_12M_PartsNServices']\n",
    "data1.describe()"
   ]
  },
  {
   "cell_type": "code",
   "execution_count": null,
   "metadata": {
    "ExecuteTime": {
     "end_time": "2020-04-29T17:24:55.154889Z",
     "start_time": "2020-04-29T17:24:55.037204Z"
    },
    "hidden": true,
    "scrolled": true
   },
   "outputs": [],
   "source": [
    "#create the scatter plot from data1\n",
    "plt.plot(x1,y1,'o',color = 'purple', label = '')\n",
    "# add the column names as labels\n",
    "plt.title('X1 VS Y1')\n",
    "plt.xlabel('X')\n",
    "plt.ylabel('Y')\n",
    "plt.legend()\n",
    "plt.show()\n",
    "#Scatter plot shows a few extreme samples. Total rows 456"
   ]
  },
  {
   "cell_type": "markdown",
   "metadata": {
    "hidden": true
   },
   "source": [
    "### Remove outliers"
   ]
  },
  {
   "cell_type": "code",
   "execution_count": null,
   "metadata": {
    "ExecuteTime": {
     "end_time": "2020-04-29T17:24:58.629132Z",
     "start_time": "2020-04-29T17:24:58.617164Z"
    },
    "hidden": true,
    "scrolled": true
   },
   "outputs": [],
   "source": [
    "#remove extreme outliers:\n",
    "#If you have multiple columns in your dataframe and would like to remove all rows that have outliers in at least one column, \n",
    "#the following expression would do that in one shot: select absolute Z score for the row <1.65 (). .all or .any\n",
    "data2 = data1[(np.abs(stats.zscore(data1)) < 3).all(axis=1)]\n",
    "x2 = data2['Utilization_Fleet_0_12M_Total']\n",
    "y2 = data2['Expenditure_12M_PartsNServices']\n",
    "data2.describe()"
   ]
  },
  {
   "cell_type": "code",
   "execution_count": null,
   "metadata": {
    "ExecuteTime": {
     "end_time": "2020-04-29T17:24:59.485843Z",
     "start_time": "2020-04-29T17:24:59.376136Z"
    },
    "hidden": true
   },
   "outputs": [],
   "source": [
    "#create the new scatter plot\n",
    "plt.plot(x2,y2,'o',color = 'pink', label = '')\n",
    "# add the column names as labels\n",
    "plt.title('X2 VS Y2')\n",
    "plt.xlabel('Utilization_Fleet_0_12M_Total')\n",
    "plt.ylabel('Expenditure_12M_PartsNServices')\n",
    "plt.legend()\n",
    "plt.show()"
   ]
  },
  {
   "cell_type": "code",
   "execution_count": null,
   "metadata": {
    "ExecuteTime": {
     "end_time": "2020-04-29T17:25:01.073601Z",
     "start_time": "2020-04-29T17:25:01.067617Z"
    },
    "hidden": true,
    "scrolled": false
   },
   "outputs": [],
   "source": [
    "data2.corr()"
   ]
  },
  {
   "cell_type": "code",
   "execution_count": null,
   "metadata": {
    "ExecuteTime": {
     "end_time": "2020-04-29T17:25:03.000462Z",
     "start_time": "2020-04-29T17:25:02.840889Z"
    },
    "hidden": true
   },
   "outputs": [],
   "source": [
    "data2.hist(grid = True, color = 'CadetBlue')"
   ]
  },
  {
   "cell_type": "code",
   "execution_count": null,
   "metadata": {
    "ExecuteTime": {
     "end_time": "2020-04-29T17:25:05.126309Z",
     "start_time": "2020-04-29T17:25:05.111349Z"
    },
    "hidden": true
   },
   "outputs": [],
   "source": [
    "x_kurtosis = kurtosis(data2['Utilization_Fleet_0_12M_Total'], fisher = True)\n",
    "y_kurtosis = kurtosis(data2['Expenditure_12M_PartsNServices'], fisher = True)\n",
    "\n",
    "x_skew = skew(data2['Utilization_Fleet_0_12M_Total'])\n",
    "y_skew = skew(data2['Expenditure_12M_PartsNServices'])\n",
    "\n",
    "display(\"Utilization_Fleet_0_12M_Total_kurtosis: {:2}\".format(x_kurtosis))\n",
    "display(stats.kurtosistest(data1['Utilization_Fleet_0_12M_Total']))\n",
    "print('\\n')\n",
    "display(\"Expenditure_12M_PartsNServices_kurtosis: {:2}\".format(y_kurtosis))\n",
    "display(stats.kurtosistest(data1['Expenditure_12M_PartsNServices']))\n",
    "print('\\n')\n",
    "display(\"Utilization_Fleet_0_12M_Total_skew: {:2}\".format(x_skew))\n",
    "display(stats.skewtest(data1['Utilization_Fleet_0_12M_Total']))\n",
    "print('\\n')\n",
    "display(\"Expenditure_12M_PartsNServices_Skew: {:2}\".format(y_skew))\n",
    "display(stats.skewtest(data1['Expenditure_12M_PartsNServices']))"
   ]
  },
  {
   "cell_type": "raw",
   "metadata": {
    "ExecuteTime": {
     "end_time": "2020-04-28T13:31:18.869062Z",
     "start_time": "2020-04-28T13:31:18.864078Z"
    },
    "hidden": true
   },
   "source": [
    "#**Kurtosis**\n",
    "# - Any distribution with **kurtosis ≈3 (excess ≈0)** is called mesokurtic. This is a normal distribution\n",
    "# - Any distribution with **kurtosis <3 (excess kurtosis <0)** is called platykurtic. Tails are shorter and thinner, and often its central peak is lower and broader.\n",
    "# - Any distribution with **kurtosis >3 (excess kurtosis >0)** is called leptokurtic. Tails are longer and fatter, and often its central peak is higher and sharper.\n",
    "\n",
    "# **Skewness**\n",
    "# - If skewness is **less than −1 or greater than +1**, the distribution is highly skewed.\n",
    "# - If skewness is **between −1 and −½ or between +½ and +1**, the distribution is moderately skewed.\n",
    "# - If skewness is **between −½ and +½**, the distribution is approximately symmetric."
   ]
  },
  {
   "cell_type": "markdown",
   "metadata": {
    "hidden": true
   },
   "source": [
    "### Build a prediction model and verify R2 results"
   ]
  },
  {
   "cell_type": "code",
   "execution_count": null,
   "metadata": {
    "ExecuteTime": {
     "end_time": "2020-04-29T17:25:09.176529Z",
     "start_time": "2020-04-29T17:25:09.166556Z"
    },
    "hidden": true
   },
   "outputs": [],
   "source": [
    "# define our input variable & output variable\n",
    "x3 = data2[['Utilization_Fleet_0_12M_Total']]\n",
    "y3 = data2[['Expenditure_12M_PartsNServices']]\n",
    "\n",
    "# Split X and y into X_\n",
    "x_train, x_test, y_train, y_test = train_test_split(x3, y3, test_size=0.20, random_state=1)\n",
    "# create a Linear Regression model object.\n",
    "single_regression_model = LinearRegression()\n",
    "# pass through the X_train & y_train data set.\n",
    "single_regression_model.fit(x_train, y_train)"
   ]
  },
  {
   "cell_type": "code",
   "execution_count": null,
   "metadata": {
    "ExecuteTime": {
     "end_time": "2020-04-29T17:25:10.388291Z",
     "start_time": "2020-04-29T17:25:10.384302Z"
    },
    "hidden": true
   },
   "outputs": [],
   "source": [
    "# calculate and display intercept, coefficient\n",
    "intercept = single_regression_model.intercept_[0]\n",
    "coefficient = single_regression_model.coef_[0][0]\n",
    "\n",
    "print(\"The Coefficient for training model is {:2}\".format(coefficient))\n",
    "print(\"The intercept for training model is {:4}\".format(intercept))"
   ]
  },
  {
   "cell_type": "code",
   "execution_count": null,
   "metadata": {
    "ExecuteTime": {
     "end_time": "2020-04-29T17:25:11.728217Z",
     "start_time": "2020-04-29T17:25:11.718243Z"
    },
    "hidden": true
   },
   "outputs": [],
   "source": [
    "#Evaluate Traning model\n",
    "# add constant\n",
    "x4 = sm.add_constant(x3)\n",
    "# create a OLS model.\n",
    "model = sm.OLS(y3, x4)\n",
    "# fit the data\n",
    "est = model.fit()\n",
    "# make some confidence intervals, 95% by default.\n",
    "est.conf_int()"
   ]
  },
  {
   "cell_type": "code",
   "execution_count": null,
   "metadata": {
    "ExecuteTime": {
     "end_time": "2020-04-29T17:25:13.253142Z",
     "start_time": "2020-04-29T17:25:13.248155Z"
    },
    "hidden": true
   },
   "outputs": [],
   "source": [
    "# estimate the p-values\n",
    "est.pvalues"
   ]
  },
  {
   "cell_type": "code",
   "execution_count": null,
   "metadata": {
    "ExecuteTime": {
     "end_time": "2020-04-29T17:25:14.731202Z",
     "start_time": "2020-04-29T17:25:14.727214Z"
    },
    "hidden": true
   },
   "outputs": [],
   "source": [
    "# create prediction value\n",
    "y_predict = single_regression_model.predict(x_test)"
   ]
  },
  {
   "cell_type": "code",
   "execution_count": null,
   "metadata": {
    "ExecuteTime": {
     "end_time": "2020-04-29T17:25:15.566476Z",
     "start_time": "2020-04-29T17:25:15.561490Z"
    },
    "hidden": true
   },
   "outputs": [],
   "source": [
    "# calculate the mean squared error.\n",
    "model_mse = mean_squared_error(y_test, y_predict)\n",
    "# calculate the mean absolute error.\n",
    "model_mae = mean_absolute_error(y_test, y_predict)\n",
    "# calulcate the root mean squared error\n",
    "model_rmse =  math.sqrt(model_mse)\n",
    "\n",
    "# display the output\n",
    "print(\"MSE {:3}\".format(model_mse))\n",
    "print(\"MAE {:3}\".format(model_mae))\n",
    "print(\"RMSE {:3}\".format(model_rmse))"
   ]
  },
  {
   "cell_type": "code",
   "execution_count": null,
   "metadata": {
    "ExecuteTime": {
     "end_time": "2020-04-29T17:25:18.707093Z",
     "start_time": "2020-04-29T17:25:18.703104Z"
    },
    "hidden": true
   },
   "outputs": [],
   "source": [
    "model_r2 = r2_score(y_test, y_predict)\n",
    "print(\"R2: {:.2}\".format(model_r2))"
   ]
  },
  {
   "cell_type": "code",
   "execution_count": null,
   "metadata": {
    "ExecuteTime": {
     "end_time": "2020-04-29T17:25:19.971725Z",
     "start_time": "2020-04-29T17:25:19.963746Z"
    },
    "hidden": true
   },
   "outputs": [],
   "source": [
    "# print out a summary\n",
    "print(est.summary())"
   ]
  },
  {
   "cell_type": "code",
   "execution_count": null,
   "metadata": {
    "ExecuteTime": {
     "end_time": "2020-04-29T17:25:22.691479Z",
     "start_time": "2020-04-29T17:25:22.587828Z"
    },
    "hidden": true
   },
   "outputs": [],
   "source": [
    "# Grab the residuals & then call the hist() method\n",
    "(y_test - y_predict).hist(grid = False, color = 'royalblue')\n",
    "plt.title(\"Model Residuals\")\n",
    "plt.show()"
   ]
  },
  {
   "cell_type": "code",
   "execution_count": null,
   "metadata": {
    "ExecuteTime": {
     "end_time": "2020-04-29T17:25:24.171041Z",
     "start_time": "2020-04-29T17:25:23.858875Z"
    },
    "hidden": true
   },
   "outputs": [],
   "source": [
    "# Plot outputs\n",
    "plt.scatter(x_test, y_test,  color='gainsboro', label = '')\n",
    "plt.plot(x_test, y_predict, color='royalblue', linewidth = 3, linestyle= '-',label ='Regression Line')\n",
    "\n",
    "plt.title(\"Usage VS PartsNServices\")\n",
    "plt.xlabel(\"x\")\n",
    "plt.ylabel(\"y\")\n",
    "plt.legend()\n",
    "plt.show()\n",
    "\n",
    "# The coefficients\n",
    "print('Coefficient:' + '\\033[1m' + '{:.2}''\\033[0m'.format(single_regression_model.coef_[0][0]))\n",
    "\n",
    "# The mean squared error\n",
    "print('Mean squared error: ' + '\\033[1m' + '{:.4}''\\033[0m'.format(model_mse))\n",
    "\n",
    "# The mean squared error\n",
    "print('Root Mean squared error: ' + '\\033[1m' + '{:.4}''\\033[0m'.format(math.sqrt(model_mse)))\n",
    "\n",
    "# Explained variance score: 1 is perfect prediction\n",
    "print('R2 score: '+ '\\033[1m' + '{:.2}''\\033[0m'.format(r2_score(y_test,y_predict)))"
   ]
  },
  {
   "cell_type": "code",
   "execution_count": null,
   "metadata": {
    "ExecuteTime": {
     "end_time": "2020-04-29T17:26:11.633448Z",
     "start_time": "2020-04-29T17:26:11.628462Z"
    },
    "hidden": true
   },
   "outputs": [],
   "source": [
    "# estimate the p-values\n",
    "est.pvalues"
   ]
  }
 ],
 "metadata": {
  "kernelspec": {
   "display_name": "Python 3",
   "language": "python",
   "name": "python3"
  },
  "language_info": {
   "codemirror_mode": {
    "name": "ipython",
    "version": 3
   },
   "file_extension": ".py",
   "mimetype": "text/x-python",
   "name": "python",
   "nbconvert_exporter": "python",
   "pygments_lexer": "ipython3",
   "version": "3.7.4"
  },
  "varInspector": {
   "cols": {
    "lenName": 16,
    "lenType": 16,
    "lenVar": "100"
   },
   "kernels_config": {
    "python": {
     "delete_cmd_postfix": "",
     "delete_cmd_prefix": "del ",
     "library": "var_list.py",
     "varRefreshCmd": "print(var_dic_list())"
    },
    "r": {
     "delete_cmd_postfix": ") ",
     "delete_cmd_prefix": "rm(",
     "library": "var_list.r",
     "varRefreshCmd": "cat(var_dic_list()) "
    }
   },
   "position": {
    "height": "672px",
    "left": "50px",
    "right": "20px",
    "top": "126px",
    "width": "800px"
   },
   "types_to_exclude": [
    "module",
    "function",
    "builtin_function_or_method",
    "instance",
    "_Feature"
   ],
   "window_display": false
  },
  "widgets": {
   "application/vnd.jupyter.widget-state+json": {
    "state": {},
    "version_major": 2,
    "version_minor": 0
   }
  }
 },
 "nbformat": 4,
 "nbformat_minor": 2
}
