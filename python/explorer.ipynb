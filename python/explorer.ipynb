{
 "cells": [
  {
   "cell_type": "markdown",
   "metadata": {},
   "source": [
    "# libraries and data"
   ]
  },
  {
   "cell_type": "code",
   "execution_count": 67,
   "metadata": {
    "ExecuteTime": {
     "end_time": "2020-07-20T09:18:14.312405Z",
     "start_time": "2020-07-20T09:18:14.304419Z"
    }
   },
   "outputs": [],
   "source": [
    "#Libraries\n",
    "import pandas as pd\n",
    "import math\n",
    "from scipy import stats\n",
    "from scipy.stats import norm\n",
    "from matplotlib import pyplot as plt\n",
    "import seaborn as sns\n",
    "\n",
    "%matplotlib inline\n",
    "# sns.set(rc={'figure.figsize':(24,12)})"
   ]
  },
  {
   "cell_type": "code",
   "execution_count": 92,
   "metadata": {
    "ExecuteTime": {
     "end_time": "2020-07-20T09:28:22.368229Z",
     "start_time": "2020-07-20T09:28:22.288435Z"
    }
   },
   "outputs": [
    {
     "name": "stdout",
     "output_type": "stream",
     "text": [
      "(10974, 44)\n"
     ]
    }
   ],
   "source": [
    "#Data\n",
    "df = pd.read_csv(\"C:/Work/Work/data/CVA_explore.csv\", index_col='EquipmentId')\n",
    "# data=pd.read_excel(\"../data/CVA_explore.xlsx\", index_col='EquipmentId')\n",
    "#Check size\n",
    "print(df.shape)"
   ]
  },
  {
   "cell_type": "markdown",
   "metadata": {},
   "source": [
    "# validate data"
   ]
  },
  {
   "cell_type": "code",
   "execution_count": 93,
   "metadata": {
    "ExecuteTime": {
     "end_time": "2020-07-20T09:28:23.741479Z",
     "start_time": "2020-07-20T09:28:23.727499Z"
    }
   },
   "outputs": [
    {
     "data": {
      "text/plain": [
       "C1_PartsDCAL                                          124\n",
       "C2_ServiceDCAL                                        124\n",
       "C3_PSPotential123                                      60\n",
       "C4_PSPotentialABC                                     206\n",
       "C7_Average_Days_To_Pay                                 85\n",
       "C16_Average_Contract_Value                           2233\n",
       "M18_Age_In_Years                                      103\n",
       "M19_LTDSMU                                            177\n",
       "M20_AnnualUsage                                      3616\n",
       "M26_Original_Contract_Length_In_Months               6945\n",
       "M27_Original_Contract_Duration_In_Hours              6945\n",
       "M28_Original_Contract_Type                           6945\n",
       "M29_Contract_Value                                   8134\n",
       "M31_Average_Contract_Value_BaseModel_PM              2043\n",
       "M32_Average_Contract_Value_BaseModel_MC              9857\n",
       "M38_Average_Contract_Value_By_Months_PM              5489\n",
       "M39_Average_Contract_Value_By_Months_MC             10532\n",
       "M40_Average_Contract_Value_By_Hours_PM               8399\n",
       "M41_Average_Contract_Value_By_Hours_MC              10855\n",
       "M42_Estimated_Contract_Value_Customer_Preference      926\n",
       "dtype: int64"
      ]
     },
     "execution_count": 93,
     "metadata": {},
     "output_type": "execute_result"
    }
   ],
   "source": [
    "#Check null is any columns should be dropped\n",
    "null_columns = df.isnull().sum()\n",
    "null_columns[null_columns>0]"
   ]
  },
  {
   "cell_type": "code",
   "execution_count": 94,
   "metadata": {
    "ExecuteTime": {
     "end_time": "2020-07-20T09:28:24.339043Z",
     "start_time": "2020-07-20T09:28:24.322124Z"
    }
   },
   "outputs": [
    {
     "data": {
      "text/plain": [
       "C1_PartsDCAL                                       124\n",
       "C2_ServiceDCAL                                     124\n",
       "C3_PSPotential123                                   60\n",
       "C4_PSPotentialABC                                  206\n",
       "C8_Percentage_Parts_Purchased_Direct                 0\n",
       "C9_Percentage_Labour_Purchased_PSTotal               0\n",
       "C10_Percentage_Parts_Purchased_ServiceTotal          0\n",
       "C15_Percentage_Equipment_Currently_On_Contract       0\n",
       "M17_Contract_Active                                  0\n",
       "M18_Age_In_Years                                   103\n",
       "M19_LTDSMU                                         177\n",
       "M20_AnnualUsage                                   3616\n",
       "M21_Potentially_Disposed                             0\n",
       "M22_PLActive                                         0\n",
       "M23_OLGAAmount                                       0\n",
       "M25_Months_Until_Warranty_Ends                       0\n",
       "M30_Number_Of_Contracts_Under_Base_Model             0\n",
       "M32_Percentage_Parts_Purchased_Direct                0\n",
       "M33_Percentage_Labour_Purchased_PSTotal              0\n",
       "M34_Percentage_Parts_Purchased_ServiceTotal          0\n",
       "M35_Percentage_Parts_Returned                        0\n",
       "M36_Percentage_WO_Backed_Out                         0\n",
       "M37_SOS_Count                                        0\n",
       "Is_Customers_Top_Model                               0\n",
       "dtype: int64"
      ]
     },
     "execution_count": 94,
     "metadata": {},
     "output_type": "execute_result"
    }
   ],
   "source": [
    "#Drop most null columns or completely irrelevant or obviously multicolineary\n",
    "data = df.drop(['C7_Average_Days_To_Pay'\n",
    "               ,'C13_Cusomter_Preferred_Contract_Type'\n",
    "               ,'C11_Customer_Prefered_Contract_Duration_Hours'\n",
    "               ,'C12_Customer_Prefered_Contract_Duration_Months'\n",
    "                ,'C14_Have_Signed_Contract_Before'\n",
    "                ,'C16_Average_Contract_Value'\n",
    "                ,'M24_Months_Until_Contract_Ends'\n",
    "                ,'M26_Original_Contract_Length_In_Months'\n",
    "                ,'M27_Original_Contract_Duration_In_Hours'\n",
    "                ,'M28_Original_Contract_Type'\n",
    "                ,'M29_Contract_Value'\n",
    "                ,'M31_Average_Contract_Value_BaseModel_PM'\n",
    "                ,'M32_Average_Contract_Value_BaseModel_MC'\n",
    "                ,'M38_Average_Contract_Value_By_Months_PM'\n",
    "                ,'M39_Average_Contract_Value_By_Months_MC'\n",
    "                ,'M40_Average_Contract_Value_By_Hours_PM'\n",
    "                ,'M41_Average_Contract_Value_By_Hours_MC'\n",
    "                ,'M42_Estimated_Contract_Value_Customer_Preference'\n",
    "               ,'New_CVA_Lead'\n",
    "               ,'Renewal_CVA_Lead']\n",
    "               ,axis=1)\n",
    "data.isnull().sum()"
   ]
  },
  {
   "cell_type": "markdown",
   "metadata": {},
   "source": [
    "# dataframe and objective"
   ]
  },
  {
   "cell_type": "code",
   "execution_count": 71,
   "metadata": {
    "ExecuteTime": {
     "end_time": "2020-07-20T09:18:22.241368Z",
     "start_time": "2020-07-20T09:18:22.156595Z"
    }
   },
   "outputs": [
    {
     "data": {
      "text/html": [
       "<div>\n",
       "<style scoped>\n",
       "    .dataframe tbody tr th:only-of-type {\n",
       "        vertical-align: middle;\n",
       "    }\n",
       "\n",
       "    .dataframe tbody tr th {\n",
       "        vertical-align: top;\n",
       "    }\n",
       "\n",
       "    .dataframe thead th {\n",
       "        text-align: right;\n",
       "    }\n",
       "</style>\n",
       "<table border=\"1\" class=\"dataframe\">\n",
       "  <thead>\n",
       "    <tr style=\"text-align: right;\">\n",
       "      <th></th>\n",
       "      <th>C1_PartsDCAL</th>\n",
       "      <th>C2_ServiceDCAL</th>\n",
       "      <th>C3_PSPotential123</th>\n",
       "      <th>C4_PSPotentialABC</th>\n",
       "      <th>C8_Percentage_Parts_Purchased_Direct</th>\n",
       "      <th>C9_Percentage_Labour_Purchased_PSTotal</th>\n",
       "      <th>C10_Percentage_Parts_Purchased_ServiceTotal</th>\n",
       "      <th>C15_Percentage_Equipment_Currently_On_Contract</th>\n",
       "      <th>M17_Contract_Active</th>\n",
       "      <th>M18_Age_In_Years</th>\n",
       "      <th>...</th>\n",
       "      <th>M23_OLGAAmount</th>\n",
       "      <th>M25_Months_Until_Warranty_Ends</th>\n",
       "      <th>M30_Number_Of_Contracts_Under_Base_Model</th>\n",
       "      <th>M32_Percentage_Parts_Purchased_Direct</th>\n",
       "      <th>M33_Percentage_Labour_Purchased_PSTotal</th>\n",
       "      <th>M34_Percentage_Parts_Purchased_ServiceTotal</th>\n",
       "      <th>M35_Percentage_Parts_Returned</th>\n",
       "      <th>M36_Percentage_WO_Backed_Out</th>\n",
       "      <th>M37_SOS_Count</th>\n",
       "      <th>Is_Customers_Top_Model</th>\n",
       "    </tr>\n",
       "  </thead>\n",
       "  <tbody>\n",
       "    <tr>\n",
       "      <td>count</td>\n",
       "      <td>10850.000000</td>\n",
       "      <td>10850.000000</td>\n",
       "      <td>10974.000000</td>\n",
       "      <td>10974.0</td>\n",
       "      <td>10974.000000</td>\n",
       "      <td>10974.000000</td>\n",
       "      <td>10974.000000</td>\n",
       "      <td>10974.000000</td>\n",
       "      <td>10974.000000</td>\n",
       "      <td>10871.000000</td>\n",
       "      <td>...</td>\n",
       "      <td>1.097400e+04</td>\n",
       "      <td>10974.000000</td>\n",
       "      <td>10974.000000</td>\n",
       "      <td>10974.000000</td>\n",
       "      <td>10974.000000</td>\n",
       "      <td>10974.000000</td>\n",
       "      <td>10974.000000</td>\n",
       "      <td>10974.000000</td>\n",
       "      <td>10974.000000</td>\n",
       "      <td>10974.000000</td>\n",
       "    </tr>\n",
       "    <tr>\n",
       "      <td>mean</td>\n",
       "      <td>50.990763</td>\n",
       "      <td>44.221404</td>\n",
       "      <td>1.835885</td>\n",
       "      <td>0.0</td>\n",
       "      <td>60.493098</td>\n",
       "      <td>22.622227</td>\n",
       "      <td>41.678295</td>\n",
       "      <td>23.494259</td>\n",
       "      <td>0.270366</td>\n",
       "      <td>11.098611</td>\n",
       "      <td>...</td>\n",
       "      <td>4.699449e+04</td>\n",
       "      <td>5.245580</td>\n",
       "      <td>72.374704</td>\n",
       "      <td>37.388929</td>\n",
       "      <td>20.549193</td>\n",
       "      <td>16.922930</td>\n",
       "      <td>2.186258</td>\n",
       "      <td>2.280755</td>\n",
       "      <td>14.969929</td>\n",
       "      <td>1.455896</td>\n",
       "    </tr>\n",
       "    <tr>\n",
       "      <td>std</td>\n",
       "      <td>31.513980</td>\n",
       "      <td>36.155975</td>\n",
       "      <td>0.557578</td>\n",
       "      <td>0.0</td>\n",
       "      <td>39.745514</td>\n",
       "      <td>18.203213</td>\n",
       "      <td>26.429018</td>\n",
       "      <td>32.609645</td>\n",
       "      <td>0.444169</td>\n",
       "      <td>9.678304</td>\n",
       "      <td>...</td>\n",
       "      <td>8.384278e+04</td>\n",
       "      <td>12.868723</td>\n",
       "      <td>72.173343</td>\n",
       "      <td>45.470056</td>\n",
       "      <td>77.145231</td>\n",
       "      <td>41.444355</td>\n",
       "      <td>11.369783</td>\n",
       "      <td>8.435721</td>\n",
       "      <td>26.331406</td>\n",
       "      <td>1.541378</td>\n",
       "    </tr>\n",
       "    <tr>\n",
       "      <td>min</td>\n",
       "      <td>0.000000</td>\n",
       "      <td>0.000000</td>\n",
       "      <td>0.000000</td>\n",
       "      <td>0.0</td>\n",
       "      <td>-532.177600</td>\n",
       "      <td>-34.800800</td>\n",
       "      <td>-504.451500</td>\n",
       "      <td>0.000000</td>\n",
       "      <td>0.000000</td>\n",
       "      <td>0.000000</td>\n",
       "      <td>...</td>\n",
       "      <td>0.000000e+00</td>\n",
       "      <td>0.000000</td>\n",
       "      <td>0.000000</td>\n",
       "      <td>-883.366600</td>\n",
       "      <td>-1349.085300</td>\n",
       "      <td>-2290.816100</td>\n",
       "      <td>0.000000</td>\n",
       "      <td>0.000000</td>\n",
       "      <td>0.000000</td>\n",
       "      <td>0.000000</td>\n",
       "    </tr>\n",
       "    <tr>\n",
       "      <td>25%</td>\n",
       "      <td>24.390000</td>\n",
       "      <td>13.207500</td>\n",
       "      <td>2.000000</td>\n",
       "      <td>0.0</td>\n",
       "      <td>38.086800</td>\n",
       "      <td>10.076600</td>\n",
       "      <td>27.563500</td>\n",
       "      <td>0.000000</td>\n",
       "      <td>0.000000</td>\n",
       "      <td>4.000000</td>\n",
       "      <td>...</td>\n",
       "      <td>3.880875e+02</td>\n",
       "      <td>0.000000</td>\n",
       "      <td>12.000000</td>\n",
       "      <td>0.000000</td>\n",
       "      <td>0.000000</td>\n",
       "      <td>0.000000</td>\n",
       "      <td>0.000000</td>\n",
       "      <td>0.000000</td>\n",
       "      <td>0.000000</td>\n",
       "      <td>0.000000</td>\n",
       "    </tr>\n",
       "    <tr>\n",
       "      <td>50%</td>\n",
       "      <td>44.650000</td>\n",
       "      <td>32.120000</td>\n",
       "      <td>2.000000</td>\n",
       "      <td>0.0</td>\n",
       "      <td>69.198400</td>\n",
       "      <td>18.981500</td>\n",
       "      <td>46.314600</td>\n",
       "      <td>6.000000</td>\n",
       "      <td>0.000000</td>\n",
       "      <td>9.000000</td>\n",
       "      <td>...</td>\n",
       "      <td>1.211292e+04</td>\n",
       "      <td>0.000000</td>\n",
       "      <td>52.000000</td>\n",
       "      <td>10.389400</td>\n",
       "      <td>9.089400</td>\n",
       "      <td>0.000000</td>\n",
       "      <td>0.000000</td>\n",
       "      <td>0.000000</td>\n",
       "      <td>3.000000</td>\n",
       "      <td>1.000000</td>\n",
       "    </tr>\n",
       "    <tr>\n",
       "      <td>75%</td>\n",
       "      <td>78.610000</td>\n",
       "      <td>80.830000</td>\n",
       "      <td>2.000000</td>\n",
       "      <td>0.0</td>\n",
       "      <td>86.758300</td>\n",
       "      <td>32.349000</td>\n",
       "      <td>57.163000</td>\n",
       "      <td>37.000000</td>\n",
       "      <td>1.000000</td>\n",
       "      <td>15.000000</td>\n",
       "      <td>...</td>\n",
       "      <td>6.003059e+04</td>\n",
       "      <td>0.000000</td>\n",
       "      <td>102.000000</td>\n",
       "      <td>96.986275</td>\n",
       "      <td>34.976850</td>\n",
       "      <td>29.764075</td>\n",
       "      <td>0.000000</td>\n",
       "      <td>0.000000</td>\n",
       "      <td>20.000000</td>\n",
       "      <td>2.000000</td>\n",
       "    </tr>\n",
       "    <tr>\n",
       "      <td>max</td>\n",
       "      <td>100.000000</td>\n",
       "      <td>100.000000</td>\n",
       "      <td>3.000000</td>\n",
       "      <td>0.0</td>\n",
       "      <td>931.247000</td>\n",
       "      <td>132.091000</td>\n",
       "      <td>121.681200</td>\n",
       "      <td>262.000000</td>\n",
       "      <td>1.000000</td>\n",
       "      <td>79.000000</td>\n",
       "      <td>...</td>\n",
       "      <td>1.372258e+06</td>\n",
       "      <td>77.000000</td>\n",
       "      <td>249.000000</td>\n",
       "      <td>516.622200</td>\n",
       "      <td>7355.965600</td>\n",
       "      <td>2141.050000</td>\n",
       "      <td>600.000000</td>\n",
       "      <td>100.000000</td>\n",
       "      <td>342.000000</td>\n",
       "      <td>5.000000</td>\n",
       "    </tr>\n",
       "  </tbody>\n",
       "</table>\n",
       "<p>8 rows × 24 columns</p>\n",
       "</div>"
      ],
      "text/plain": [
       "       C1_PartsDCAL  C2_ServiceDCAL  C3_PSPotential123  C4_PSPotentialABC  \\\n",
       "count  10850.000000    10850.000000       10974.000000            10974.0   \n",
       "mean      50.990763       44.221404           1.835885                0.0   \n",
       "std       31.513980       36.155975           0.557578                0.0   \n",
       "min        0.000000        0.000000           0.000000                0.0   \n",
       "25%       24.390000       13.207500           2.000000                0.0   \n",
       "50%       44.650000       32.120000           2.000000                0.0   \n",
       "75%       78.610000       80.830000           2.000000                0.0   \n",
       "max      100.000000      100.000000           3.000000                0.0   \n",
       "\n",
       "       C8_Percentage_Parts_Purchased_Direct  \\\n",
       "count                          10974.000000   \n",
       "mean                              60.493098   \n",
       "std                               39.745514   \n",
       "min                             -532.177600   \n",
       "25%                               38.086800   \n",
       "50%                               69.198400   \n",
       "75%                               86.758300   \n",
       "max                              931.247000   \n",
       "\n",
       "       C9_Percentage_Labour_Purchased_PSTotal  \\\n",
       "count                            10974.000000   \n",
       "mean                                22.622227   \n",
       "std                                 18.203213   \n",
       "min                                -34.800800   \n",
       "25%                                 10.076600   \n",
       "50%                                 18.981500   \n",
       "75%                                 32.349000   \n",
       "max                                132.091000   \n",
       "\n",
       "       C10_Percentage_Parts_Purchased_ServiceTotal  \\\n",
       "count                                 10974.000000   \n",
       "mean                                     41.678295   \n",
       "std                                      26.429018   \n",
       "min                                    -504.451500   \n",
       "25%                                      27.563500   \n",
       "50%                                      46.314600   \n",
       "75%                                      57.163000   \n",
       "max                                     121.681200   \n",
       "\n",
       "       C15_Percentage_Equipment_Currently_On_Contract  M17_Contract_Active  \\\n",
       "count                                    10974.000000         10974.000000   \n",
       "mean                                        23.494259             0.270366   \n",
       "std                                         32.609645             0.444169   \n",
       "min                                          0.000000             0.000000   \n",
       "25%                                          0.000000             0.000000   \n",
       "50%                                          6.000000             0.000000   \n",
       "75%                                         37.000000             1.000000   \n",
       "max                                        262.000000             1.000000   \n",
       "\n",
       "       M18_Age_In_Years  ...  M23_OLGAAmount  M25_Months_Until_Warranty_Ends  \\\n",
       "count      10871.000000  ...    1.097400e+04                    10974.000000   \n",
       "mean          11.098611  ...    4.699449e+04                        5.245580   \n",
       "std            9.678304  ...    8.384278e+04                       12.868723   \n",
       "min            0.000000  ...    0.000000e+00                        0.000000   \n",
       "25%            4.000000  ...    3.880875e+02                        0.000000   \n",
       "50%            9.000000  ...    1.211292e+04                        0.000000   \n",
       "75%           15.000000  ...    6.003059e+04                        0.000000   \n",
       "max           79.000000  ...    1.372258e+06                       77.000000   \n",
       "\n",
       "       M30_Number_Of_Contracts_Under_Base_Model  \\\n",
       "count                              10974.000000   \n",
       "mean                                  72.374704   \n",
       "std                                   72.173343   \n",
       "min                                    0.000000   \n",
       "25%                                   12.000000   \n",
       "50%                                   52.000000   \n",
       "75%                                  102.000000   \n",
       "max                                  249.000000   \n",
       "\n",
       "       M32_Percentage_Parts_Purchased_Direct  \\\n",
       "count                           10974.000000   \n",
       "mean                               37.388929   \n",
       "std                                45.470056   \n",
       "min                              -883.366600   \n",
       "25%                                 0.000000   \n",
       "50%                                10.389400   \n",
       "75%                                96.986275   \n",
       "max                               516.622200   \n",
       "\n",
       "       M33_Percentage_Labour_Purchased_PSTotal  \\\n",
       "count                             10974.000000   \n",
       "mean                                 20.549193   \n",
       "std                                  77.145231   \n",
       "min                               -1349.085300   \n",
       "25%                                   0.000000   \n",
       "50%                                   9.089400   \n",
       "75%                                  34.976850   \n",
       "max                                7355.965600   \n",
       "\n",
       "       M34_Percentage_Parts_Purchased_ServiceTotal  \\\n",
       "count                                 10974.000000   \n",
       "mean                                     16.922930   \n",
       "std                                      41.444355   \n",
       "min                                   -2290.816100   \n",
       "25%                                       0.000000   \n",
       "50%                                       0.000000   \n",
       "75%                                      29.764075   \n",
       "max                                    2141.050000   \n",
       "\n",
       "       M35_Percentage_Parts_Returned  M36_Percentage_WO_Backed_Out  \\\n",
       "count                   10974.000000                  10974.000000   \n",
       "mean                        2.186258                      2.280755   \n",
       "std                        11.369783                      8.435721   \n",
       "min                         0.000000                      0.000000   \n",
       "25%                         0.000000                      0.000000   \n",
       "50%                         0.000000                      0.000000   \n",
       "75%                         0.000000                      0.000000   \n",
       "max                       600.000000                    100.000000   \n",
       "\n",
       "       M37_SOS_Count  Is_Customers_Top_Model  \n",
       "count   10974.000000            10974.000000  \n",
       "mean       14.969929                1.455896  \n",
       "std        26.331406                1.541378  \n",
       "min         0.000000                0.000000  \n",
       "25%         0.000000                0.000000  \n",
       "50%         3.000000                1.000000  \n",
       "75%        20.000000                2.000000  \n",
       "max       342.000000                5.000000  \n",
       "\n",
       "[8 rows x 24 columns]"
      ]
     },
     "execution_count": 71,
     "metadata": {},
     "output_type": "execute_result"
    }
   ],
   "source": [
    "data.describe()"
   ]
  },
  {
   "cell_type": "code",
   "execution_count": 72,
   "metadata": {
    "ExecuteTime": {
     "end_time": "2020-07-20T09:18:23.154599Z",
     "start_time": "2020-07-20T09:18:23.124715Z"
    },
    "scrolled": false
   },
   "outputs": [
    {
     "data": {
      "text/plain": [
       "M17_Contract_Active                               1.000000\n",
       "C15_Percentage_Equipment_Currently_On_Contract    0.671497\n",
       "M22_PLActive                                      0.482406\n",
       "M37_SOS_Count                                     0.411290\n",
       "C2_ServiceDCAL                                    0.362979\n",
       "C9_Percentage_Labour_Purchased_PSTotal            0.235526\n",
       "M25_Months_Until_Warranty_Ends                    0.224143\n",
       "C1_PartsDCAL                                      0.191101\n",
       "C3_PSPotential123                                 0.145325\n",
       "M34_Percentage_Parts_Purchased_ServiceTotal       0.143227\n",
       "M30_Number_Of_Contracts_Under_Base_Model          0.124138\n",
       "M33_Percentage_Labour_Purchased_PSTotal           0.090346\n",
       "M36_Percentage_WO_Backed_Out                      0.074548\n",
       "M23_OLGAAmount                                    0.035977\n",
       "M20_AnnualUsage                                   0.028585\n",
       "C10_Percentage_Parts_Purchased_ServiceTotal       0.021853\n",
       "Is_Customers_Top_Model                            0.014157\n",
       "M35_Percentage_Parts_Returned                    -0.021486\n",
       "M19_LTDSMU                                       -0.038536\n",
       "C8_Percentage_Parts_Purchased_Direct             -0.166434\n",
       "M32_Percentage_Parts_Purchased_Direct            -0.187076\n",
       "M21_Potentially_Disposed                         -0.211835\n",
       "M18_Age_In_Years                                 -0.276490\n",
       "C4_PSPotentialABC                                      NaN\n",
       "dtype: float64"
      ]
     },
     "execution_count": 72,
     "metadata": {},
     "output_type": "execute_result"
    }
   ],
   "source": [
    "#Check correlation\n",
    "Objective = data['M17_Contract_Active']\n",
    "data.corrwith(Objective).sort_values(ascending=False)"
   ]
  },
  {
   "cell_type": "markdown",
   "metadata": {},
   "source": [
    "From correlation chart we can see there are some features highly correlated (and those in a negative way). Plan is to explore each individual element between 2 data sets: machines have contract, and machines don't have contract.\n",
    "\n",
    "Note: The entire sample are the equipment owned by customers who has been exposed to contracts(contract active >=1 or contract expired >=1)"
   ]
  },
  {
   "cell_type": "markdown",
   "metadata": {},
   "source": [
    "# explore"
   ]
  },
  {
   "cell_type": "code",
   "execution_count": 73,
   "metadata": {
    "ExecuteTime": {
     "end_time": "2020-07-20T09:18:34.414353Z",
     "start_time": "2020-07-20T09:18:34.409366Z"
    }
   },
   "outputs": [
    {
     "name": "stdout",
     "output_type": "stream",
     "text": [
      "Index(['C1_PartsDCAL', 'C2_ServiceDCAL', 'C3_PSPotential123',\n",
      "       'C4_PSPotentialABC', 'C8_Percentage_Parts_Purchased_Direct',\n",
      "       'C9_Percentage_Labour_Purchased_PSTotal',\n",
      "       'C10_Percentage_Parts_Purchased_ServiceTotal',\n",
      "       'C15_Percentage_Equipment_Currently_On_Contract', 'M17_Contract_Active',\n",
      "       'M18_Age_In_Years', 'M19_LTDSMU', 'M20_AnnualUsage',\n",
      "       'M21_Potentially_Disposed', 'M22_PLActive', 'M23_OLGAAmount',\n",
      "       'M25_Months_Until_Warranty_Ends',\n",
      "       'M30_Number_Of_Contracts_Under_Base_Model',\n",
      "       'M32_Percentage_Parts_Purchased_Direct',\n",
      "       'M33_Percentage_Labour_Purchased_PSTotal',\n",
      "       'M34_Percentage_Parts_Purchased_ServiceTotal',\n",
      "       'M35_Percentage_Parts_Returned', 'M36_Percentage_WO_Backed_Out',\n",
      "       'M37_SOS_Count', 'Is_Customers_Top_Model'],\n",
      "      dtype='object')\n"
     ]
    }
   ],
   "source": [
    "print(data.columns)"
   ]
  },
  {
   "cell_type": "markdown",
   "metadata": {},
   "source": [
    "## C1_PartsDCAL"
   ]
  },
  {
   "cell_type": "code",
   "execution_count": 74,
   "metadata": {
    "ExecuteTime": {
     "end_time": "2020-07-20T09:18:36.846735Z",
     "start_time": "2020-07-20T09:18:36.425810Z"
    }
   },
   "outputs": [
    {
     "name": "stdout",
     "output_type": "stream",
     "text": [
      "C1_PartsDCAL           124\n",
      "M17_Contract_Active      0\n",
      "dtype: int64\n",
      "---------------------------------------\n",
      "C1_PartsDCAL           0\n",
      "M17_Contract_Active    0\n",
      "dtype: int64\n",
      "---------------------------------------\n",
      "C1_PartsDCAL           float64\n",
      "M17_Contract_Active      int64\n",
      "dtype: object\n",
      "---------------------------------------\n",
      "C1_PartsDCAL           float64\n",
      "M17_Contract_Active       bool\n",
      "dtype: object\n",
      "---------------------------------------\n",
      "       C1_PartsDCAL  On_Contract  Not_On_Contract   Difference\n",
      "count  10850.000000  2892.000000      7958.000000 -5066.000000\n",
      "mean      50.990763    60.980373        47.360460    13.619914\n",
      "std       31.513980    30.501646        31.090434    -0.588788\n",
      "min        0.000000     0.000000         0.000000     0.000000\n",
      "25%       24.390000    36.330000        20.630000    15.700000\n",
      "50%       44.650000    58.550000        42.850000    15.700000\n",
      "75%       78.610000    90.860000        70.050000    20.810000\n",
      "max      100.000000   100.000000       100.000000     0.000000\n",
      "---------------------------------------\n",
      "C1_PartsDCAL top 10%:  100.0\n",
      "C1_PartsDCAL top 20%:  87.2\n",
      "C1_PartsDCAL top 25%:  78.61\n",
      "C1_PartsDCAL top 30%:  68.39\n",
      "C1_PartsDCAL top 50%:  44.65\n",
      "C1_PartsDCAL top 75%:  24.39\n"
     ]
    },
    {
     "data": {
      "image/png": "[encoded data removed]",
      "text/plain": [
       "<Figure size 432x288 with 1 Axes>"
      ]
     },
     "metadata": {
      "needs_background": "light"
     },
     "output_type": "display_data"
    },
    {
     "data": {
      "image/png": "[encoded data removed]",
      "text/plain": [
       "<Figure size 432x288 with 1 Axes>"
      ]
     },
     "metadata": {
      "needs_background": "light"
     },
     "output_type": "display_data"
    }
   ],
   "source": [
    "#predefine variables so i only need to edit this box\n",
    "X = 'C1_PartsDCAL'\n",
    "Y = 'M17_Contract_Active'\n",
    "testset = data.loc[:,[X,Y]]\n",
    "\n",
    "#Check for null value\n",
    "print(testset.isnull().sum())\n",
    "testset = testset.dropna()\n",
    "print('---------------------------------------')\n",
    "print(testset.isnull().sum())\n",
    "print('---------------------------------------')\n",
    "#Check data types\n",
    "print(testset.dtypes)\n",
    "testset[X] = testset[X].astype('float')\n",
    "print('---------------------------------------')\n",
    "testset[Y] = testset[Y].astype('bool')\n",
    "print(testset.dtypes)\n",
    "print('---------------------------------------')\n",
    "\n",
    "#Seperate 2 dataframes\n",
    "contract = testset.drop(testset.index[testset.M17_Contract_Active != 1])\n",
    "notcontract = testset.drop(testset.index[testset.M17_Contract_Active == 1])\n",
    "\n",
    "#Complete sample size after drop null\n",
    "summary = testset.describe()\n",
    "summary_contract = contract.describe()\n",
    "summary_notcontract = notcontract.describe()\n",
    "summary['On_Contract'] = summary_contract[X]\n",
    "summary['Not_On_Contract'] = summary_notcontract[X]\n",
    "summary['Difference'] = summary['On_Contract'] - summary['Not_On_Contract']\n",
    "\n",
    "# add the standard deviation metric\n",
    "# summary.loc['+1_std'] = summary.loc['mean'] + (summary.loc['std'] * 1)\n",
    "# summary.loc['-1_std'] = summary.loc['mean'] - (summary.loc['std'] * 1)\n",
    "# summary.loc['+2_std'] = summary.loc['mean'] + (summary.loc['std'] * 2)\n",
    "# summary.loc['-2_std'] = summary.loc['mean'] - (summary.loc['std'] * 2)\n",
    "# summary.loc['+3_std'] = summary.loc['mean'] + (summary.loc['std'] * 3)\n",
    "# summary.loc['-3_std'] = summary.loc['mean'] - (summary.loc['std'] * 3)\n",
    "\n",
    "print(summary)\n",
    "print('---------------------------------------')\n",
    "print(X,'top 10%: ',testset[X].quantile(.9))\n",
    "print(X,'top 20%: ',testset[X].quantile(.8))\n",
    "print(X,'top 25%: ',testset[X].quantile(.75))\n",
    "print(X,'top 30%: ',testset[X].quantile(.7))\n",
    "print(X,'top 50%: ',testset[X].quantile(.5))\n",
    "print(X,'top 75%: ',testset[X].quantile(.25))\n",
    "# print(data.quantile(.5))\n",
    "\n",
    "x1 = contract[X]\n",
    "x2 = notcontract[X]\n",
    "ax1 = sns.distplot(x1,fit=norm,bins=10,kde=False,label=\"Contract\")\n",
    "ax2 = sns.distplot(x2,fit=norm,bins=10,kde=False,label=\"Not_Contract\")\n",
    "plt.legend()\n",
    "plt.show()\n",
    "ax1 = sns.kdeplot(x1, shade=True,label=\"Contract\")\n",
    "ax2 = sns.kdeplot(x2, shade=True,label=\"Not_Contract\")\n",
    "plt.legend()\n",
    "plt.show()"
   ]
  },
  {
   "cell_type": "markdown",
   "metadata": {},
   "source": [
    "Mean for all equipment is 51%, mean for equipment on contract is 61%, mean for equipment not on contract is 47%.\n",
    "Standard deviation are similiar across all 3 samples sizes.\n",
    "\n",
    "Appears that customers have contract on average have 14% higher POPS than customers don't.\n",
    "Customers have contract has high tendency to have very high POPS since they are completing all the services.\n",
    "\n",
    "Customers who don't have contract but also have very high pops are potentially our target CVA customers.\n",
    "Customers who don't have contract and also have very low pops are potentially our largestest opportunity pool.\n",
    "\n",
    "C1_PartsDCAL should be kept as one of the lead points.\n",
    "\n",
    "Weight: 10%\n",
    "Element points: 60~100: 10/10; 50~60:5/10; 45~50: 2/10; 0~45: 0/10\n",
    "Qualification: CustomerDivision PartsDCAL IS NOT NULL\n",
    "Points ranking: 0/10\n",
    "Constraint: Same TCDivisions for selected machines\n",
    "Note: None\n",
    "Message: This customer's POPS is %__. Customer is above %threshold (above average contract customer POPS; above average customer POPS; above average non-contract customer POPS; below average customer POPS.)"
   ]
  },
  {
   "cell_type": "markdown",
   "metadata": {},
   "source": [
    "## C2_ServiceDCAL"
   ]
  },
  {
   "cell_type": "code",
   "execution_count": 75,
   "metadata": {
    "ExecuteTime": {
     "end_time": "2020-07-20T09:18:39.775761Z",
     "start_time": "2020-07-20T09:18:39.354915Z"
    }
   },
   "outputs": [
    {
     "name": "stdout",
     "output_type": "stream",
     "text": [
      "(10974, 2)\n",
      "C2_ServiceDCAL         124\n",
      "M17_Contract_Active      0\n",
      "dtype: int64\n",
      "---------------------------------------\n",
      "C2_ServiceDCAL         0\n",
      "M17_Contract_Active    0\n",
      "dtype: int64\n",
      "---------------------------------------\n",
      "C2_ServiceDCAL         float64\n",
      "M17_Contract_Active      int64\n",
      "dtype: object\n",
      "---------------------------------------\n",
      "C2_ServiceDCAL         float64\n",
      "M17_Contract_Active       bool\n",
      "dtype: object\n",
      "---------------------------------------\n",
      "       C2_ServiceDCAL  On_Contract  Not_On_Contract   Difference\n",
      "count    10850.000000  2892.000000      7958.000000 -5066.000000\n",
      "mean        44.221404    65.990688        36.310274    29.680414\n",
      "std         36.155975    35.330427        33.076059     2.254368\n",
      "min          0.000000     0.000000         0.000000     0.000000\n",
      "25%         13.207500    33.870000         9.270000    24.600000\n",
      "50%         32.120000    75.685000        26.300000    49.385000\n",
      "75%         80.830000   100.000000        58.510000    41.490000\n",
      "max        100.000000   100.000000       100.000000     0.000000\n",
      "---------------------------------------\n",
      "C2_ServiceDCAL top 10%:  100.0\n",
      "C2_ServiceDCAL top 20%:  99.76999999999998\n",
      "C2_ServiceDCAL top 25%:  80.83\n",
      "C2_ServiceDCAL top 30%:  65.11\n",
      "C2_ServiceDCAL top 50%:  32.12\n",
      "C2_ServiceDCAL top 75%:  13.2075\n"
     ]
    },
    {
     "data": {
      "image/png": "[encoded data removed]",
      "text/plain": [
       "<Figure size 432x288 with 1 Axes>"
      ]
     },
     "metadata": {
      "needs_background": "light"
     },
     "output_type": "display_data"
    },
    {
     "data": {
      "image/png": "[encoded data removed]",
      "text/plain": [
       "<Figure size 432x288 with 1 Axes>"
      ]
     },
     "metadata": {
      "needs_background": "light"
     },
     "output_type": "display_data"
    }
   ],
   "source": [
    "#predefine variables so i only need to edit this box\n",
    "X = 'C2_ServiceDCAL'\n",
    "Y = 'M17_Contract_Active'\n",
    "testset = data.loc[:,[X,Y]]\n",
    "print(testset.shape)\n",
    "\n",
    "#Check for null value\n",
    "print(testset.isnull().sum())\n",
    "testset = testset.dropna()\n",
    "print('---------------------------------------')\n",
    "print(testset.isnull().sum())\n",
    "print('---------------------------------------')\n",
    "#Check data types\n",
    "print(testset.dtypes)\n",
    "testset[X] = testset[X].astype('float')\n",
    "print('---------------------------------------')\n",
    "testset[Y] = testset[Y].astype('bool')\n",
    "print(testset.dtypes)\n",
    "print('---------------------------------------')\n",
    "\n",
    "#Seperate 2 dataframes\n",
    "contract = testset.drop(testset.index[testset.M17_Contract_Active != 1])\n",
    "notcontract = testset.drop(testset.index[testset.M17_Contract_Active == 1])\n",
    "\n",
    "#Complete sample size after drop null\n",
    "summary = testset.describe()\n",
    "summary_contract = contract.describe()\n",
    "summary_notcontract = notcontract.describe()\n",
    "summary['On_Contract'] = summary_contract[X]\n",
    "summary['Not_On_Contract'] = summary_notcontract[X]\n",
    "summary['Difference'] = summary['On_Contract'] - summary['Not_On_Contract']\n",
    "\n",
    "# add the standard deviation metric\n",
    "# summary.loc['+1_std'] = summary.loc['mean'] + (summary.loc['std'] * 1)\n",
    "# summary.loc['-1_std'] = summary.loc['mean'] - (summary.loc['std'] * 1)\n",
    "# summary.loc['+2_std'] = summary.loc['mean'] + (summary.loc['std'] * 2)\n",
    "# summary.loc['-2_std'] = summary.loc['mean'] - (summary.loc['std'] * 2)\n",
    "# summary.loc['+3_std'] = summary.loc['mean'] + (summary.loc['std'] * 3)\n",
    "# summary.loc['-3_std'] = summary.loc['mean'] - (summary.loc['std'] * 3)\n",
    "\n",
    "print(summary)\n",
    "print('---------------------------------------')\n",
    "print(X,'top 10%: ',testset[X].quantile(.9))\n",
    "print(X,'top 20%: ',testset[X].quantile(.8))\n",
    "print(X,'top 25%: ',testset[X].quantile(.75))\n",
    "print(X,'top 30%: ',testset[X].quantile(.7))\n",
    "print(X,'top 50%: ',testset[X].quantile(.5))\n",
    "print(X,'top 75%: ',testset[X].quantile(.25))\n",
    "# print(data.quantile(.5))\n",
    "\n",
    "x1 = contract[X]\n",
    "x2 = notcontract[X]\n",
    "ax1 = sns.distplot(x1,fit=norm,bins=10,kde=False,label=\"Contract\")\n",
    "ax2 = sns.distplot(x2,fit=norm,bins=10,kde=False,label=\"Not_Contract\")\n",
    "plt.legend()\n",
    "plt.show()\n",
    "ax1 = sns.kdeplot(x1, shade=True,label=\"Contract\")\n",
    "ax2 = sns.kdeplot(x2, shade=True,label=\"Not_Contract\")\n",
    "plt.legend()\n",
    "plt.show()"
   ]
  },
  {
   "cell_type": "markdown",
   "metadata": {},
   "source": [
    "Mean for all equipment is 44%, mean for equipment on contract is 66%, mean for equipment not on contract is 36%.\n",
    "Standard deviation are similiar across all 3 samples sizes.\n",
    "\n",
    "Appears that customers have contract on average have 30% higher POLS than customers don't.\n",
    "Customers have contract has high tendency to have very high POLS since they are completing the services using toromont labour.\n",
    "\n",
    "Customers who don't have contract but also have very high POLS are potentially our target CVA customers.\n",
    "Customers who don't have contract and also have very low POLS are potentially our largestest opportunity pool.\n",
    "Customers who has contract but also have very low POLS are 1. DIM 2. Missed opportunity.\n",
    "\n",
    "C2_ServiceDCAL should be kept as one of the lead points.\n",
    "\n",
    "Weight: 10%\n",
    "Element points: 65~100: 10/10; 45~65:5/10; 35~45: 2/10; 0~35: 0/10\n",
    "Qualification: CustomerDivision ServiceDCAL IS NOT NULL\n",
    "Points ranking: 0/10\n",
    "Constraint: Same TCDivisions for selected machines\n",
    "Note: None\n",
    "Message: This customer's POLS is %__. Customer is above %threshold (above average contract customer POLS; above average customer POLS; above average non-contract customer POLS; below average customer POLS.)"
   ]
  },
  {
   "cell_type": "markdown",
   "metadata": {},
   "source": [
    "## C3_PSPotential123"
   ]
  },
  {
   "cell_type": "code",
   "execution_count": 164,
   "metadata": {
    "ExecuteTime": {
     "end_time": "2020-07-20T10:05:51.825385Z",
     "start_time": "2020-07-20T10:05:51.371543Z"
    }
   },
   "outputs": [
    {
     "name": "stdout",
     "output_type": "stream",
     "text": [
      "(10974, 2)\n",
      "C3_PSPotential123      60\n",
      "M17_Contract_Active     0\n",
      "dtype: int64\n",
      "---------------------------------------\n",
      "C3_PSPotential123      0\n",
      "M17_Contract_Active    0\n",
      "dtype: int64\n",
      "---------------------------------------\n"
     ]
    },
    {
     "data": {
      "image/png": "[encoded data removed]",
      "text/plain": [
       "<Figure size 432x288 with 1 Axes>"
      ]
     },
     "metadata": {},
     "output_type": "display_data"
    },
    {
     "data": {
      "image/png": "[encoded data removed]",
      "text/plain": [
       "<Figure size 432x288 with 1 Axes>"
      ]
     },
     "metadata": {},
     "output_type": "display_data"
    }
   ],
   "source": [
    "#predefine variables so i only need to edit this box\n",
    "X = 'C3_PSPotential123'\n",
    "Y = 'M17_Contract_Active'\n",
    "testset = data.loc[:,[X,Y]]\n",
    "print(testset.shape)\n",
    "\n",
    "#Check for null value\n",
    "print(testset.isnull().sum())\n",
    "testset = testset.dropna()\n",
    "print('---------------------------------------')\n",
    "print(testset.isnull().sum())\n",
    "testset[Y] = testset[Y].astype('bool')\n",
    "print('---------------------------------------')\n",
    "\n",
    "sns.barplot(x=X, y=Y, data=testset, palette='spring')\n",
    "plt.show()\n",
    "sns.countplot(x=X, hue=Y, data=testset, palette = 'spring')\n",
    "plt.show()"
   ]
  },
  {
   "cell_type": "markdown",
   "metadata": {},
   "source": [
    "Plot shows that C3_DIM customers have only 17~18% time have M17_Contract_Active, while C4_DI4M customers have around 55% time have contract active.\n",
    "\n",
    "For the contract active machines, 15% comes from DIM customers, 15% comes from DI4M customers and the rest come from others(WWM) customers.\n",
    "\n",
    "Recommend assign element points to DI4M/WWM/DIM elements:\n",
    "DI4M: High points\n",
    "WWM: Medium points\n",
    "DIM: Low or negative points\n",
    "\n",
    "Weight: 5%\n",
    "Element points: DI4M: 10/10; WWM:5/10; DIM: 2/10; Acct/Unkown: 0/10\n",
    "Qualification: \n",
    "Points ranking: 0/10\n",
    "Constraint: Same TCDivisions for selected machines\n",
    "Note: None\n",
    "Message: This customer's service preference is %_. "
   ]
  },
  {
   "cell_type": "markdown",
   "metadata": {},
   "source": [
    "## C5_PSPotentialABC_Low, C6_PSPotentialABC_High"
   ]
  },
  {
   "cell_type": "code",
   "execution_count": null,
   "metadata": {
    "ExecuteTime": {
     "end_time": "2020-07-17T10:33:08.212796Z",
     "start_time": "2020-07-17T10:33:08.202823Z"
    }
   },
   "outputs": [],
   "source": [
    "#predefine variables so i only need to edit this box\n",
    "x1 = 'C5_PSPotentialABC_Low'\n",
    "x2 = 'C6_PSPotentialABC_High'\n",
    "Y = 'M17_Contract_Active'\n",
    "testset = data.loc[:,[x1,x2,Y]]\n",
    "testset.head()"
   ]
  },
  {
   "cell_type": "code",
   "execution_count": null,
   "metadata": {
    "ExecuteTime": {
     "end_time": "2020-07-17T10:33:09.475326Z",
     "start_time": "2020-07-17T10:33:09.461367Z"
    }
   },
   "outputs": [],
   "source": [
    "print(testset.isnull().sum())\n",
    "testset = testset.dropna()\n",
    "print(testset.isnull().sum())"
   ]
  },
  {
   "cell_type": "code",
   "execution_count": null,
   "metadata": {
    "ExecuteTime": {
     "end_time": "2020-07-17T10:33:36.685069Z",
     "start_time": "2020-07-17T10:33:35.661880Z"
    }
   },
   "outputs": [],
   "source": [
    "ax1 = sns.barplot(y=Y, x=x1, data=testset)\n",
    "plt.show()\n",
    "ax3 = sns.barplot(y=Y, x=x2, data=testset)\n",
    "plt.show()\n",
    "ax2 = sns.barplot(y=x1, x=Y, data=testset)\n",
    "plt.show()\n",
    "ax4 = sns.barplot(y=x2, x=Y, data=testset)\n",
    "plt.show()"
   ]
  },
  {
   "cell_type": "markdown",
   "metadata": {},
   "source": [
    "Cummulative percentage plot shows that C5 and C6 are insignificant to whether customer signs contract.\n",
    "\n",
    "Recommend not to assign points, information only"
   ]
  },
  {
   "cell_type": "markdown",
   "metadata": {},
   "source": [
    "## C8_Percentage_Parts_Purchased_Direct"
   ]
  },
  {
   "cell_type": "code",
   "execution_count": null,
   "metadata": {
    "ExecuteTime": {
     "end_time": "2020-07-17T17:54:16.739888Z",
     "start_time": "2020-07-17T17:54:16.729955Z"
    }
   },
   "outputs": [],
   "source": [
    "#predefine variables so i only need to edit this box\n",
    "X = 'C8_Percentage_Parts_Purchased_Direct'\n",
    "Y = 'M17_Contract_Active'\n",
    "testset = data.loc[:,[X,Y]]\n",
    "print(testset.shape)\n",
    "testset = testset.drop(testset.index[testset.C8_Percentage_Parts_Purchased_Direct < 0])\n",
    "testset = testset.drop(testset.index[testset.C8_Percentage_Parts_Purchased_Direct > 100])"
   ]
  },
  {
   "cell_type": "code",
   "execution_count": null,
   "metadata": {
    "ExecuteTime": {
     "end_time": "2020-07-17T17:54:18.263684Z",
     "start_time": "2020-07-17T17:54:17.840718Z"
    }
   },
   "outputs": [],
   "source": [
    "#Check for null value\n",
    "print(testset.isnull().sum())\n",
    "testset = testset.dropna()\n",
    "print('---------------------------------------')\n",
    "print(testset.isnull().sum())\n",
    "print('---------------------------------------')\n",
    "#Check data types\n",
    "print(testset.dtypes)\n",
    "testset[X] = testset[X].astype('float')\n",
    "print('---------------------------------------')\n",
    "testset[Y] = testset[Y].astype('bool')\n",
    "print(testset.dtypes)\n",
    "print('---------------------------------------')\n",
    "contract = testset.drop(testset.index[testset.M17_Contract_Active != 1])\n",
    "notcontract = testset.drop(testset.index[testset.M17_Contract_Active == 1])\n",
    "#Complete sample size after drop null\n",
    "summary = testset.describe()\n",
    "summary_contract = contract.describe()\n",
    "summary_notcontract = notcontract.describe()\n",
    "summary['On_Contract'] = summary_contract[X]\n",
    "summary['Not_On_Contract'] = summary_notcontract[X]\n",
    "summary['Variance'] = summary['On_Contract'] - summary['Not_On_Contract']\n",
    "print(summary)\n",
    "x1 = contract[X]\n",
    "x2 = notcontract[X]\n",
    "ax1 = sns.distplot(x1,fit=norm,bins=10,kde=False,label=\"Contract\")\n",
    "ax2 = sns.distplot(x2,fit=norm,bins=10,kde=False,label=\"Not_Contract\")\n",
    "plt.legend()\n",
    "plt.show()\n",
    "ax1 = sns.kdeplot(x1, shade=True,label=\"Contract\")\n",
    "ax2 = sns.kdeplot(x2, shade=True,label=\"Not_Contract\")\n",
    "plt.legend()\n",
    "plt.show()\n"
   ]
  },
  {
   "cell_type": "markdown",
   "metadata": {},
   "source": [
    "Mean of % direct for Contract machines are 50%, mean for equipment not on contract is 64%. The higher percentage customer buys from parts department and install themselves, the less likely customer is going to buy contract.\n",
    "\n",
    "Customers who have PM contract and also have very high % direct are potentially MARC target customers.\n",
    "Customers who have MARC contract and also have very high % direct possibly are large GET/hose consumers.\n",
    "\n",
    "Customers who don't have contract and have very high % direct definitely has their own techs.\n",
    "Customers who don't have contract have very low % direct are missed opportunity for CVA.\n",
    "\n",
    "C8_Percentage_Parts_Purchased_Direct should be kept as one of the lead points."
   ]
  },
  {
   "cell_type": "markdown",
   "metadata": {
    "heading_collapsed": true
   },
   "source": [
    "## C9_Percentage_Labour_Purchased_PSTotal"
   ]
  },
  {
   "cell_type": "code",
   "execution_count": null,
   "metadata": {
    "ExecuteTime": {
     "end_time": "2020-07-17T17:54:27.439625Z",
     "start_time": "2020-07-17T17:54:27.430606Z"
    },
    "hidden": true
   },
   "outputs": [],
   "source": [
    "#predefine variables so i only need to edit this box\n",
    "X = 'C9_Percentage_Labour_Purchased_PSTotal'\n",
    "Y = 'M17_Contract_Active'\n",
    "testset = data.loc[:,[X,Y]]\n",
    "print(testset.shape)\n",
    "\n",
    "testset = testset.drop(testset.index[testset.C9_Percentage_Labour_Purchased_PSTotal < 0])\n",
    "testset = testset.drop(testset.index[testset.C9_Percentage_Labour_Purchased_PSTotal > 100])"
   ]
  },
  {
   "cell_type": "code",
   "execution_count": null,
   "metadata": {
    "ExecuteTime": {
     "end_time": "2020-07-17T17:54:28.977480Z",
     "start_time": "2020-07-17T17:54:28.607183Z"
    },
    "hidden": true
   },
   "outputs": [],
   "source": [
    "#Check for null value\n",
    "print(testset.isnull().sum())\n",
    "testset = testset.dropna()\n",
    "print('---------------------------------------')\n",
    "print(testset.isnull().sum())\n",
    "print('---------------------------------------')\n",
    "#Check data types\n",
    "print(testset.dtypes)\n",
    "testset[X] = testset[X].astype('float')\n",
    "print('---------------------------------------')\n",
    "testset[Y] = testset[Y].astype('bool')\n",
    "print(testset.dtypes)\n",
    "print('---------------------------------------')\n",
    "contract = testset.drop(testset.index[testset.M17_Contract_Active != 1])\n",
    "notcontract = testset.drop(testset.index[testset.M17_Contract_Active == 1])\n",
    "#Complete sample size after drop null\n",
    "summary = testset.describe()\n",
    "summary_contract = contract.describe()\n",
    "summary_notcontract = notcontract.describe()\n",
    "summary['On_Contract'] = summary_contract[X]\n",
    "summary['Not_On_Contract'] = summary_notcontract[X]\n",
    "summary['Variance'] = summary['On_Contract'] - summary['Not_On_Contract']\n",
    "print(summary)\n",
    "x1 = contract[X]\n",
    "x2 = notcontract[X]\n",
    "ax1 = sns.distplot(x1,fit=norm,bins=10,kde=False,label=\"Contract\")\n",
    "ax2 = sns.distplot(x2,fit=norm,bins=10,kde=False,label=\"Not_Contract\")\n",
    "plt.legend()\n",
    "plt.show()\n",
    "ax1 = sns.kdeplot(x1, shade=True,label=\"Contract\")\n",
    "ax2 = sns.kdeplot(x2, shade=True,label=\"Not_Contract\")\n",
    "plt.legend()\n",
    "plt.show()"
   ]
  },
  {
   "cell_type": "markdown",
   "metadata": {
    "hidden": true
   },
   "source": [
    "Mean of % labour for Contract machines is 30%, mean for equipment not on contract is 20%. The higher percentage customer buys from labour service department, they more they rely on us maintaining the machine.\n",
    "\n",
    "During tough times, small fleet owners may not be utilizing equipment as much and keeping a team of repair technicians may be financially infeasible. If this is the case for some of the customers, we should consider this percentage as an indicator to customer's reliance."
   ]
  },
  {
   "cell_type": "markdown",
   "metadata": {
    "heading_collapsed": true
   },
   "source": [
    "## C10_Percentage_Parts_Purchased_ServiceTotal"
   ]
  },
  {
   "cell_type": "code",
   "execution_count": null,
   "metadata": {
    "ExecuteTime": {
     "end_time": "2020-07-17T17:55:00.710186Z",
     "start_time": "2020-07-17T17:55:00.700234Z"
    },
    "hidden": true
   },
   "outputs": [],
   "source": [
    "#predefine variables so i only need to edit this box\n",
    "X = 'C10_Percentage_Parts_Purchased_ServiceTotal'\n",
    "Y = 'M17_Contract_Active'\n",
    "testset = data.loc[:,[X,Y]]\n",
    "print(testset.shape)\n",
    "testset = testset.drop(testset.index[testset.C10_Percentage_Parts_Purchased_ServiceTotal < 0])\n",
    "testset = testset.drop(testset.index[testset.C10_Percentage_Parts_Purchased_ServiceTotal > 100])"
   ]
  },
  {
   "cell_type": "code",
   "execution_count": null,
   "metadata": {
    "ExecuteTime": {
     "end_time": "2020-07-17T17:55:10.913591Z",
     "start_time": "2020-07-17T17:55:10.460802Z"
    },
    "hidden": true
   },
   "outputs": [],
   "source": [
    "#Check for null value\n",
    "print(testset.isnull().sum())\n",
    "testset = testset.dropna()\n",
    "print('---------------------------------------')\n",
    "print(testset.isnull().sum())\n",
    "print('---------------------------------------')\n",
    "#Check data types\n",
    "print(testset.dtypes)\n",
    "testset[X] = testset[X].astype('float')\n",
    "print('---------------------------------------')\n",
    "testset[Y] = testset[Y].astype('bool')\n",
    "print(testset.dtypes)\n",
    "print('---------------------------------------')\n",
    "contract = testset.drop(testset.index[testset.M17_Contract_Active != 1])\n",
    "notcontract = testset.drop(testset.index[testset.M17_Contract_Active == 1])\n",
    "#Complete sample size after drop null\n",
    "summary = testset.describe()\n",
    "summary_contract = contract.describe()\n",
    "summary_notcontract = notcontract.describe()\n",
    "summary['On_Contract'] = summary_contract[X]\n",
    "summary['Not_On_Contract'] = summary_notcontract[X]\n",
    "summary['Variance'] = summary['On_Contract'] - summary['Not_On_Contract']\n",
    "print(summary)\n",
    "x1 = contract[X]\n",
    "x2 = notcontract[X]\n",
    "ax1 = sns.distplot(x1,fit=norm,bins=10,kde=False,label=\"Contract\")\n",
    "ax2 = sns.distplot(x2,fit=norm,bins=10,kde=False,label=\"Not_Contract\")\n",
    "plt.legend()\n",
    "plt.show()\n",
    "ax1 = sns.kdeplot(x1, shade=True,label=\"Contract\")\n",
    "ax2 = sns.kdeplot(x2, shade=True,label=\"Not_Contract\")\n",
    "plt.legend()\n",
    "plt.show()"
   ]
  },
  {
   "cell_type": "markdown",
   "metadata": {
    "hidden": true
   },
   "source": [
    "No significant differences. No points. Do not display"
   ]
  },
  {
   "cell_type": "markdown",
   "metadata": {
    "heading_collapsed": true
   },
   "source": [
    "## C15_Percentage_Equipment_Currently_On_Contract"
   ]
  },
  {
   "cell_type": "code",
   "execution_count": null,
   "metadata": {
    "ExecuteTime": {
     "end_time": "2020-07-17T17:56:24.469641Z",
     "start_time": "2020-07-17T17:56:24.456668Z"
    },
    "hidden": true
   },
   "outputs": [],
   "source": [
    "#predefine variables so i only need to edit this box\n",
    "X = 'C15_Percentage_Equipment_Currently_On_Contract'\n",
    "Y = 'M17_Contract_Active'\n",
    "testset = data.loc[:,[X,Y]]\n",
    "print(testset.shape)\n",
    "\n",
    "testset = testset.drop(testset.index[testset.C15_Percentage_Equipment_Currently_On_Contract < 0])\n",
    "testset = testset.drop(testset.index[testset.C15_Percentage_Equipment_Currently_On_Contract > 100])"
   ]
  },
  {
   "cell_type": "code",
   "execution_count": null,
   "metadata": {
    "ExecuteTime": {
     "end_time": "2020-07-17T17:56:25.573204Z",
     "start_time": "2020-07-17T17:56:24.985804Z"
    },
    "hidden": true
   },
   "outputs": [],
   "source": [
    "#Check for null value\n",
    "print(testset.isnull().sum())\n",
    "testset = testset.dropna()\n",
    "print('---------------------------------------')\n",
    "print(testset.isnull().sum())\n",
    "print('---------------------------------------')\n",
    "#Check data types\n",
    "print(testset.dtypes)\n",
    "testset[X] = testset[X].astype('float')\n",
    "print('---------------------------------------')\n",
    "testset[Y] = testset[Y].astype('bool')\n",
    "print(testset.dtypes)\n",
    "print('---------------------------------------')\n",
    "contract = testset.drop(testset.index[testset.M17_Contract_Active != 1])\n",
    "notcontract = testset.drop(testset.index[testset.M17_Contract_Active == 1])\n",
    "#Complete sample size after drop null\n",
    "summary = testset.describe()\n",
    "summary_contract = contract.describe()\n",
    "summary_notcontract = notcontract.describe()\n",
    "summary['On_Contract'] = summary_contract[X]\n",
    "summary['Not_On_Contract'] = summary_notcontract[X]\n",
    "summary['Variance'] = summary['On_Contract'] - summary['Not_On_Contract']\n",
    "print(summary)\n",
    "x1 = contract[X]\n",
    "x2 = notcontract[X]\n",
    "ax1 = sns.distplot(x1,fit=norm,bins=10,kde=False,label=\"Contract\")\n",
    "ax2 = sns.distplot(x2,fit=norm,bins=10,kde=False,label=\"Not_Contract\")\n",
    "plt.legend()\n",
    "plt.show()\n",
    "ax1 = sns.kdeplot(x1, shade=True,label=\"Contract\")\n",
    "ax2 = sns.kdeplot(x2, shade=True,label=\"Not_Contract\")\n",
    "plt.legend()\n",
    "plt.show()\n"
   ]
  },
  {
   "cell_type": "markdown",
   "metadata": {
    "hidden": true
   },
   "source": [
    "One of the determining factors: If customer believes in CVA value, he will buy CVA on all his suitable machines. Else, he might not buy any CVA.\n",
    "\n",
    "Recommend high element points weight"
   ]
  },
  {
   "cell_type": "markdown",
   "metadata": {
    "heading_collapsed": true
   },
   "source": [
    "## Is_Customers_?_Top_Model"
   ]
  },
  {
   "cell_type": "code",
   "execution_count": null,
   "metadata": {
    "ExecuteTime": {
     "end_time": "2020-07-17T10:55:43.277045Z",
     "start_time": "2020-07-17T10:55:43.266069Z"
    },
    "hidden": true
   },
   "outputs": [],
   "source": [
    "#predefine variables so i only need to edit this box\n",
    "x1 = 'Is_Customers_1_Top_Model'\n",
    "x2 = 'Is_Customers_2_Top_Model'\n",
    "x3 = 'Is_Customers_3_Top_Model'\n",
    "x4 = 'Is_Customers_4_Top_Model'\n",
    "x5 = 'Is_Customers_5_Top_Model'\n",
    "Y = 'M17_Contract_Active'\n",
    "testset = data.loc[:,[x1,x2,x3,x4,x5,Y]]\n",
    "testset.head()"
   ]
  },
  {
   "cell_type": "code",
   "execution_count": null,
   "metadata": {
    "ExecuteTime": {
     "end_time": "2020-07-17T10:55:45.555726Z",
     "start_time": "2020-07-17T10:55:45.542750Z"
    },
    "hidden": true
   },
   "outputs": [],
   "source": [
    "print(testset.isnull().sum())\n",
    "testset = testset.dropna()\n",
    "print(testset.isnull().sum())"
   ]
  },
  {
   "cell_type": "code",
   "execution_count": null,
   "metadata": {
    "ExecuteTime": {
     "end_time": "2020-07-17T10:56:23.375260Z",
     "start_time": "2020-07-17T10:56:22.253550Z"
    },
    "hidden": true
   },
   "outputs": [],
   "source": [
    "ax1 = sns.barplot(y=x1, x=Y, data=testset)\n",
    "plt.show()\n",
    "ax2 = sns.barplot(y=x2, x=Y, data=testset)\n",
    "plt.show()\n",
    "ax3 = sns.barplot(y=x3, x=Y, data=testset)\n",
    "plt.show()\n",
    "ax4 = sns.barplot(y=x4, x=Y, data=testset)\n",
    "plt.show()\n",
    "ax5 = sns.barplot(y=x5, x=Y, data=testset)\n",
    "plt.show()"
   ]
  },
  {
   "cell_type": "markdown",
   "metadata": {
    "hidden": true
   },
   "source": [
    "Hard to say for 2,3,4,5 but from first chart, it is obvious customer has higher likelyhood signing contract for his/her top models (by count)."
   ]
  },
  {
   "cell_type": "markdown",
   "metadata": {
    "heading_collapsed": true
   },
   "source": [
    "## M18_Age_In_Years"
   ]
  },
  {
   "cell_type": "code",
   "execution_count": null,
   "metadata": {
    "ExecuteTime": {
     "end_time": "2020-07-17T17:57:51.349677Z",
     "start_time": "2020-07-17T17:57:51.341753Z"
    },
    "hidden": true
   },
   "outputs": [],
   "source": [
    "#predefine variables so i only need to edit this box\n",
    "X = 'M18_Age_In_Years'\n",
    "Y = 'M17_Contract_Active'\n",
    "testset = data.loc[:,[X,Y]]\n",
    "testset = testset.drop(testset.index[testset.M18_Age_In_Years > 30])\n",
    "print(testset.shape)"
   ]
  },
  {
   "cell_type": "code",
   "execution_count": null,
   "metadata": {
    "ExecuteTime": {
     "end_time": "2020-07-17T17:57:53.100160Z",
     "start_time": "2020-07-17T17:57:52.690106Z"
    },
    "hidden": true
   },
   "outputs": [],
   "source": [
    "#Check for null value\n",
    "print(testset.isnull().sum())\n",
    "testset = testset.dropna()\n",
    "print('---------------------------------------')\n",
    "print(testset.isnull().sum())\n",
    "print('---------------------------------------')\n",
    "#Check data types\n",
    "print(testset.dtypes)\n",
    "testset[X] = testset[X].astype('float')\n",
    "print('---------------------------------------')\n",
    "testset[Y] = testset[Y].astype('bool')\n",
    "print(testset.dtypes)\n",
    "print('---------------------------------------')\n",
    "contract = testset.drop(testset.index[testset.M17_Contract_Active != 1])\n",
    "notcontract = testset.drop(testset.index[testset.M17_Contract_Active == 1])\n",
    "#Complete sample size after drop null\n",
    "summary = testset.describe()\n",
    "summary_contract = contract.describe()\n",
    "summary_notcontract = notcontract.describe()\n",
    "summary['On_Contract'] = summary_contract[X]\n",
    "summary['Not_On_Contract'] = summary_notcontract[X]\n",
    "summary['Variance'] = summary['On_Contract'] - summary['Not_On_Contract']\n",
    "print(summary)\n",
    "x1 = contract[X]\n",
    "x2 = notcontract[X]\n",
    "ax1 = sns.distplot(x1,fit=norm,bins=10,kde=False,label=\"Contract\")\n",
    "ax2 = sns.distplot(x2,fit=norm,bins=10,kde=False,label=\"Not_Contract\")\n",
    "plt.legend()\n",
    "plt.show()\n",
    "ax1 = sns.kdeplot(x1, shade=True,label=\"Contract\")\n",
    "ax2 = sns.kdeplot(x2, shade=True,label=\"Not_Contract\")\n",
    "plt.legend()\n",
    "plt.show()\n"
   ]
  },
  {
   "cell_type": "markdown",
   "metadata": {
    "hidden": true
   },
   "source": [
    "Average age for all 10k machines is 9.48 (exlude machines over 30 years old from population), std 9.48\n",
    "\n",
    "It is obvious customer much prefer to sign contracts in early ages. 1 standard deviation is cut of at 15 years"
   ]
  },
  {
   "cell_type": "markdown",
   "metadata": {
    "heading_collapsed": true
   },
   "source": [
    "## M19_LTDSMU"
   ]
  },
  {
   "cell_type": "code",
   "execution_count": null,
   "metadata": {
    "ExecuteTime": {
     "end_time": "2020-07-17T17:59:37.267463Z",
     "start_time": "2020-07-17T17:59:37.259481Z"
    },
    "hidden": true
   },
   "outputs": [],
   "source": [
    "#predefine variables so i only need to edit this box\n",
    "X = 'M19_LTDSMU'\n",
    "Y = 'M17_Contract_Active'\n",
    "testset = data.loc[:,[X,Y]]\n",
    "print(testset.shape)\n",
    "testset = testset.drop(testset.index[testset.M19_LTDSMU > 50000])"
   ]
  },
  {
   "cell_type": "code",
   "execution_count": null,
   "metadata": {
    "ExecuteTime": {
     "end_time": "2020-07-17T17:59:44.515165Z",
     "start_time": "2020-07-17T17:59:44.124178Z"
    },
    "hidden": true
   },
   "outputs": [],
   "source": [
    "#Check for null value\n",
    "print(testset.isnull().sum())\n",
    "testset = testset.dropna()\n",
    "print('---------------------------------------')\n",
    "print(testset.isnull().sum())\n",
    "print('---------------------------------------')\n",
    "#Check data types\n",
    "print(testset.dtypes)\n",
    "testset[X] = testset[X].astype('float')\n",
    "print('---------------------------------------')\n",
    "testset[Y] = testset[Y].astype('bool')\n",
    "print(testset.dtypes)\n",
    "print('---------------------------------------')\n",
    "contract = testset.drop(testset.index[testset.M17_Contract_Active != 1])\n",
    "notcontract = testset.drop(testset.index[testset.M17_Contract_Active == 1])\n",
    "#Complete sample size after drop null\n",
    "summary = testset.describe()\n",
    "summary_contract = contract.describe()\n",
    "summary_notcontract = notcontract.describe()\n",
    "summary['On_Contract'] = summary_contract[X]\n",
    "summary['Not_On_Contract'] = summary_notcontract[X]\n",
    "summary['Variance'] = summary['On_Contract'] - summary['Not_On_Contract']\n",
    "print(summary)\n",
    "x1 = contract[X]\n",
    "x2 = notcontract[X]\n",
    "ax1 = sns.distplot(x1,fit=norm,bins=10,kde=False,label=\"Contract\")\n",
    "ax2 = sns.distplot(x2,fit=norm,bins=10,kde=False,label=\"Not_Contract\")\n",
    "plt.legend()\n",
    "plt.show()\n",
    "ax1 = sns.kdeplot(x1, shade=True,label=\"Contract\")\n",
    "ax2 = sns.kdeplot(x2, shade=True,label=\"Not_Contract\")\n",
    "plt.legend()\n",
    "plt.show()"
   ]
  },
  {
   "cell_type": "markdown",
   "metadata": {
    "hidden": true
   },
   "source": [
    "Average and standard deviation does not seem to matter much in terms of if machine has a contract.\n",
    "\n",
    "However worth to note if customer has already maintain his machine for a long term, unless business operation changes significantly, he would probably not sign new contract for a machine he knows very well.\n",
    "\n",
    "Recommend setting maximimum new contract at 16000 hours (No limit for renewal).\n",
    "No element points."
   ]
  },
  {
   "cell_type": "markdown",
   "metadata": {
    "heading_collapsed": true
   },
   "source": [
    "## M20_AnnualUsage"
   ]
  },
  {
   "cell_type": "code",
   "execution_count": null,
   "metadata": {
    "ExecuteTime": {
     "end_time": "2020-07-17T18:00:56.962725Z",
     "start_time": "2020-07-17T18:00:56.954709Z"
    },
    "hidden": true
   },
   "outputs": [],
   "source": [
    "#predefine variables so i only need to edit this box\n",
    "X = 'M20_AnnualUsage'\n",
    "Y = 'M17_Contract_Active'\n",
    "testset = data.loc[:,[X,Y]]\n",
    "testset = testset.drop(testset.index[testset.M20_AnnualUsage > 7200])\n",
    "print(testset.shape)"
   ]
  },
  {
   "cell_type": "code",
   "execution_count": null,
   "metadata": {
    "ExecuteTime": {
     "end_time": "2020-07-17T18:00:57.742615Z",
     "start_time": "2020-07-17T18:00:57.375618Z"
    },
    "hidden": true
   },
   "outputs": [],
   "source": [
    "#Check for null value\n",
    "print(testset.isnull().sum())\n",
    "testset = testset.dropna()\n",
    "print('---------------------------------------')\n",
    "print(testset.isnull().sum())\n",
    "print('---------------------------------------')\n",
    "#Check data types\n",
    "print(testset.dtypes)\n",
    "testset[X] = testset[X].astype('float')\n",
    "print('---------------------------------------')\n",
    "testset[Y] = testset[Y].astype('bool')\n",
    "print(testset.dtypes)\n",
    "print('---------------------------------------')\n",
    "contract = testset.drop(testset.index[testset.M17_Contract_Active != 1])\n",
    "notcontract = testset.drop(testset.index[testset.M17_Contract_Active == 1])\n",
    "#Complete sample size after drop null\n",
    "summary = testset.describe()\n",
    "summary_contract = contract.describe()\n",
    "summary_notcontract = notcontract.describe()\n",
    "summary['On_Contract'] = summary_contract[X]\n",
    "summary['Not_On_Contract'] = summary_notcontract[X]\n",
    "summary['Variance'] = summary['On_Contract'] - summary['Not_On_Contract']\n",
    "print(summary)\n",
    "x1 = contract[X]\n",
    "x2 = notcontract[X]\n",
    "ax1 = sns.distplot(x1,fit=norm,bins=10,kde=False,label=\"Contract\")\n",
    "ax2 = sns.distplot(x2,fit=norm,bins=10,kde=False,label=\"Not_Contract\")\n",
    "plt.legend()\n",
    "plt.show()\n",
    "ax1 = sns.kdeplot(x1, shade=True,label=\"Contract\")\n",
    "ax2 = sns.kdeplot(x2, shade=True,label=\"Not_Contract\")\n",
    "plt.legend()\n",
    "plt.show()"
   ]
  },
  {
   "cell_type": "markdown",
   "metadata": {
    "hidden": true
   },
   "source": [
    "Overall they do not vary very much. Mean for contract machines is about 77 hours higher than non-contract machines.\n",
    "\n",
    "I hope it is result from combination of smart planning, afterhour services and failure prevention. \n",
    "\n",
    "If desired maybe compare the equipment fleet by fleet.\n",
    "\n",
    "No element points. Information only"
   ]
  },
  {
   "cell_type": "markdown",
   "metadata": {
    "heading_collapsed": true
   },
   "source": [
    "## M21_Potentially_Disposed"
   ]
  },
  {
   "cell_type": "code",
   "execution_count": null,
   "metadata": {
    "ExecuteTime": {
     "end_time": "2020-07-17T11:16:24.179292Z",
     "start_time": "2020-07-17T11:16:24.169318Z"
    },
    "hidden": true,
    "scrolled": true
   },
   "outputs": [],
   "source": [
    "#predefine variables so i only need to edit this box\n",
    "x1 = 'M21_Potentially_Disposed'\n",
    "Y = 'M17_Contract_Active'\n",
    "testset = data.loc[:,[x1,Y]]\n",
    "testset.head()"
   ]
  },
  {
   "cell_type": "code",
   "execution_count": null,
   "metadata": {
    "ExecuteTime": {
     "end_time": "2020-07-17T11:16:26.216816Z",
     "start_time": "2020-07-17T11:16:26.207834Z"
    },
    "hidden": true,
    "scrolled": true
   },
   "outputs": [],
   "source": [
    "print(testset.isnull().sum())\n",
    "testset = testset.dropna()\n",
    "print(testset.isnull().sum())"
   ]
  },
  {
   "cell_type": "code",
   "execution_count": null,
   "metadata": {
    "ExecuteTime": {
     "end_time": "2020-07-17T11:16:32.973879Z",
     "start_time": "2020-07-17T11:16:32.505251Z"
    },
    "hidden": true
   },
   "outputs": [],
   "source": [
    "ax1 = sns.barplot(y=Y, x=x1, data=testset)\n",
    "plt.show()\n",
    "ax2 = sns.barplot(y=x1, x=Y, data=testset)\n",
    "plt.show()"
   ]
  },
  {
   "cell_type": "markdown",
   "metadata": {
    "hidden": true
   },
   "source": [
    "Appears my \"potentiall_disposed\" label is fairly accurate.\n",
    "\n",
    "No element points"
   ]
  },
  {
   "cell_type": "markdown",
   "metadata": {
    "heading_collapsed": true
   },
   "source": [
    "## M22_PLActive"
   ]
  },
  {
   "cell_type": "code",
   "execution_count": null,
   "metadata": {
    "ExecuteTime": {
     "end_time": "2020-07-17T11:16:24.179292Z",
     "start_time": "2020-07-17T11:16:24.169318Z"
    },
    "hidden": true
   },
   "outputs": [],
   "source": [
    "#predefine variables so i only need to edit this box\n",
    "x1 = 'M22_PLActive'\n",
    "Y = 'M17_Contract_Active'\n",
    "testset = data.loc[:,[x1,Y]]\n",
    "testset.head()"
   ]
  },
  {
   "cell_type": "code",
   "execution_count": null,
   "metadata": {
    "ExecuteTime": {
     "end_time": "2020-07-17T11:16:26.216816Z",
     "start_time": "2020-07-17T11:16:26.207834Z"
    },
    "hidden": true
   },
   "outputs": [],
   "source": [
    "print(testset.isnull().sum())\n",
    "testset = testset.dropna()\n",
    "print(testset.isnull().sum())"
   ]
  },
  {
   "cell_type": "code",
   "execution_count": null,
   "metadata": {
    "ExecuteTime": {
     "end_time": "2020-07-17T11:16:32.973879Z",
     "start_time": "2020-07-17T11:16:32.505251Z"
    },
    "hidden": true
   },
   "outputs": [],
   "source": [
    "ax1 = sns.barplot(y=Y, x=x1, data=testset)\n",
    "plt.show()\n",
    "ax2 = sns.barplot(y=x1, x=Y, data=testset)\n",
    "plt.show()"
   ]
  },
  {
   "cell_type": "markdown",
   "metadata": {
    "hidden": true
   },
   "source": [
    "In order for contract to be active, PL needs to be active\n",
    "\n",
    "About 45% machines have PLActive, but no contract. We can create condition monitoring lite for them.\n",
    "\n",
    "No element points"
   ]
  },
  {
   "cell_type": "markdown",
   "metadata": {
    "heading_collapsed": true
   },
   "source": [
    "## M23_OLGAAmount"
   ]
  },
  {
   "cell_type": "code",
   "execution_count": null,
   "metadata": {
    "ExecuteTime": {
     "end_time": "2020-07-17T18:01:55.887046Z",
     "start_time": "2020-07-17T18:01:55.878087Z"
    },
    "hidden": true
   },
   "outputs": [],
   "source": [
    "#predefine variables so i only need to edit this box\n",
    "X = 'M23_OLGAAmount'\n",
    "Y = 'M17_Contract_Active'\n",
    "testset = data.loc[:,[X,Y]]\n",
    "testset = testset.drop(testset.index[testset.M23_OLGAAmount > 500000])\n",
    "print(testset.shape)"
   ]
  },
  {
   "cell_type": "code",
   "execution_count": null,
   "metadata": {
    "ExecuteTime": {
     "end_time": "2020-07-17T18:03:37.259854Z",
     "start_time": "2020-07-17T18:03:36.733637Z"
    },
    "hidden": true
   },
   "outputs": [],
   "source": [
    "#Check for null value\n",
    "print(testset.isnull().sum())\n",
    "testset = testset.dropna()\n",
    "print('---------------------------------------')\n",
    "print(testset.isnull().sum())\n",
    "print('---------------------------------------')\n",
    "#Check data types\n",
    "print(testset.dtypes)\n",
    "testset[X] = testset[X].astype('float')\n",
    "print('---------------------------------------')\n",
    "testset[Y] = testset[Y].astype('bool')\n",
    "print(testset.dtypes)\n",
    "print('---------------------------------------')\n",
    "contract = testset.drop(testset.index[testset.M17_Contract_Active != 1])\n",
    "notcontract = testset.drop(testset.index[testset.M17_Contract_Active == 1])\n",
    "#Complete sample size after drop null\n",
    "summary = testset.describe()\n",
    "summary_contract = contract.describe()\n",
    "summary_notcontract = notcontract.describe()\n",
    "summary['On_Contract'] = summary_contract[X]\n",
    "summary['Not_On_Contract'] = summary_notcontract[X]\n",
    "summary['Variance'] = summary['On_Contract'] - summary['Not_On_Contract']\n",
    "print(summary)\n",
    "x1 = contract[X]\n",
    "x2 = notcontract[X]\n",
    "ax1 = sns.distplot(x1,fit=norm,bins=10,kde=False,label=\"Contract\")\n",
    "ax2 = sns.distplot(x2,fit=norm,bins=10,kde=False,label=\"Not_Contract\")\n",
    "plt.legend()\n",
    "plt.show()\n",
    "ax1 = sns.kdeplot(x1, shade=True,label=\"Contract\")\n",
    "ax2 = sns.kdeplot(x2, shade=True,label=\"Not_Contract\")\n",
    "plt.legend()\n",
    "plt.show()"
   ]
  },
  {
   "cell_type": "markdown",
   "metadata": {
    "hidden": true
   },
   "source": [
    "No significant difference. No element points."
   ]
  },
  {
   "cell_type": "markdown",
   "metadata": {
    "heading_collapsed": true
   },
   "source": [
    "## M25_Months_Until_Warranty_Ends"
   ]
  },
  {
   "cell_type": "code",
   "execution_count": null,
   "metadata": {
    "ExecuteTime": {
     "end_time": "2020-07-17T18:07:25.784831Z",
     "start_time": "2020-07-17T18:07:25.779845Z"
    },
    "hidden": true
   },
   "outputs": [],
   "source": [
    "#predefine variables so i only need to edit this box\n",
    "X = 'M25_Months_Until_Warranty_Ends'\n",
    "Y = 'M17_Contract_Active'\n",
    "testset = data.loc[:,[X,Y]]\n",
    "print(testset.shape)"
   ]
  },
  {
   "cell_type": "code",
   "execution_count": null,
   "metadata": {
    "ExecuteTime": {
     "end_time": "2020-07-17T18:07:26.773760Z",
     "start_time": "2020-07-17T18:07:26.376812Z"
    },
    "hidden": true
   },
   "outputs": [],
   "source": [
    "#Check for null value\n",
    "print(testset.isnull().sum())\n",
    "testset = testset.dropna()\n",
    "print('---------------------------------------')\n",
    "print(testset.isnull().sum())\n",
    "print('---------------------------------------')\n",
    "#Check data types\n",
    "print(testset.dtypes)\n",
    "testset[X] = testset[X].astype('float')\n",
    "print('---------------------------------------')\n",
    "testset[Y] = testset[Y].astype('bool')\n",
    "print(testset.dtypes)\n",
    "print('---------------------------------------')\n",
    "contract = testset.drop(testset.index[testset.M17_Contract_Active != 1])\n",
    "notcontract = testset.drop(testset.index[testset.M17_Contract_Active == 1])\n",
    "#Complete sample size after drop null\n",
    "summary = testset.describe()\n",
    "summary_contract = contract.describe()\n",
    "summary_notcontract = notcontract.describe()\n",
    "summary['On_Contract'] = summary_contract[X]\n",
    "summary['Not_On_Contract'] = summary_notcontract[X]\n",
    "summary['Variance'] = summary['On_Contract'] - summary['Not_On_Contract']\n",
    "print(summary)\n",
    "x1 = contract[X]\n",
    "x2 = notcontract[X]\n",
    "ax1 = sns.distplot(x1,fit=norm,bins=10,kde=False,label=\"Contract\")\n",
    "ax2 = sns.distplot(x2,fit=norm,bins=10,kde=False,label=\"Not_Contract\")\n",
    "plt.legend()\n",
    "plt.show()\n",
    "ax1 = sns.kdeplot(x1, shade=True,label=\"Contract\")\n",
    "ax2 = sns.kdeplot(x2, shade=True,label=\"Not_Contract\")\n",
    "plt.legend()\n",
    "plt.show()"
   ]
  },
  {
   "cell_type": "markdown",
   "metadata": {
    "hidden": true
   },
   "source": [
    "With contract machines generally being newer, the average warranty expire is 6 months higher than non-contract."
   ]
  },
  {
   "cell_type": "markdown",
   "metadata": {
    "heading_collapsed": true
   },
   "source": [
    "## M30_Number_Of_Contracts_Under_Base_Model"
   ]
  },
  {
   "cell_type": "markdown",
   "metadata": {
    "hidden": true
   },
   "source": [
    "Information only. No element points.\n",
    "\n",
    "Reps would generally feel more confident selling contract on machines we know very well."
   ]
  },
  {
   "cell_type": "markdown",
   "metadata": {
    "heading_collapsed": true
   },
   "source": [
    "## M32_Percentage_Parts_Purchased_Direct"
   ]
  },
  {
   "cell_type": "code",
   "execution_count": null,
   "metadata": {
    "ExecuteTime": {
     "end_time": "2020-07-17T18:08:05.006913Z",
     "start_time": "2020-07-17T18:08:04.993950Z"
    },
    "hidden": true
   },
   "outputs": [],
   "source": [
    "#predefine variables so i only need to edit this box\n",
    "X = 'M32_Percentage_Parts_Purchased_Direct'\n",
    "Y = 'M17_Contract_Active'\n",
    "testset = data.loc[:,[X,Y]]\n",
    "testset = testset.drop(testset.index[testset.M32_Percentage_Parts_Purchased_Direct > 100])\n",
    "testset = testset.drop(testset.index[testset.M32_Percentage_Parts_Purchased_Direct < 0])\n",
    "print(testset.shape)"
   ]
  },
  {
   "cell_type": "code",
   "execution_count": null,
   "metadata": {
    "ExecuteTime": {
     "end_time": "2020-07-17T18:08:09.219730Z",
     "start_time": "2020-07-17T18:08:08.645374Z"
    },
    "hidden": true
   },
   "outputs": [],
   "source": [
    "print(testset.shape)\n",
    "#Check for null value\n",
    "print(testset.isnull().sum())\n",
    "testset = testset.dropna()\n",
    "print('---------------------------------------')\n",
    "print(testset.isnull().sum())\n",
    "print('---------------------------------------')\n",
    "#Check data types\n",
    "print(testset.dtypes)\n",
    "testset[X] = testset[X].astype('float')\n",
    "print('---------------------------------------')\n",
    "testset[Y] = testset[Y].astype('bool')\n",
    "print(testset.dtypes)\n",
    "print('---------------------------------------')\n",
    "contract = testset.drop(testset.index[testset.M17_Contract_Active != 1])\n",
    "notcontract = testset.drop(testset.index[testset.M17_Contract_Active == 1])\n",
    "#Complete sample size after drop null\n",
    "summary = testset.describe()\n",
    "summary_contract = contract.describe()\n",
    "summary_notcontract = notcontract.describe()\n",
    "summary['On_Contract'] = summary_contract[X]\n",
    "summary['Not_On_Contract'] = summary_notcontract[X]\n",
    "summary['Variance'] = summary['On_Contract'] - summary['Not_On_Contract']\n",
    "print(summary)\n",
    "x1 = contract[X]\n",
    "x2 = notcontract[X]\n",
    "ax1 = sns.distplot(x1,fit=norm,bins=10,kde=False,label=\"Contract\")\n",
    "ax2 = sns.distplot(x2,fit=norm,bins=10,kde=False,label=\"Not_Contract\")\n",
    "plt.legend()\n",
    "plt.show()\n",
    "ax1 = sns.kdeplot(x1, shade=True,label=\"Contract\")\n",
    "ax2 = sns.kdeplot(x2, shade=True,label=\"Not_Contract\")\n",
    "plt.legend()\n",
    "plt.show()\n"
   ]
  },
  {
   "cell_type": "markdown",
   "metadata": {
    "hidden": true
   },
   "source": [
    "Mean of % direct for Contract machines are 23.65%, mean for equipment not on contract is 42.75%. The higher percentage customer buys from parts department and install themselves, the less likely customer is going to buy contract.\n",
    "\n",
    "Equipment currently has PM contract and also has very high % direct are potentially MARC target machine.\n",
    "Equipment currently has MARC contract and also has very high % direct possibly are large GET/hose machine.\n",
    "\n",
    "Equipment that doesn't have contract and have very high % direct definitely has their own techs.\n",
    "Equipment that doesn't contract have very low % direct are missed opportunity for CVA.\n",
    "\n",
    "M32_Percentage_Parts_Purchased_Direct should be kept as one of the lead points."
   ]
  },
  {
   "cell_type": "markdown",
   "metadata": {
    "heading_collapsed": true
   },
   "source": [
    "## M33_Percentage_Labour_Purchased_PSTotal"
   ]
  },
  {
   "cell_type": "code",
   "execution_count": null,
   "metadata": {
    "ExecuteTime": {
     "end_time": "2020-07-17T18:09:06.932691Z",
     "start_time": "2020-07-17T18:09:06.921752Z"
    },
    "hidden": true
   },
   "outputs": [],
   "source": [
    "#predefine variables so i only need to edit this box\n",
    "X = 'M33_Percentage_Labour_Purchased_PSTotal'\n",
    "Y = 'M17_Contract_Active'\n",
    "testset = data.loc[:,[X,Y]]\n",
    "testset = testset.drop(testset.index[testset.M33_Percentage_Labour_Purchased_PSTotal < 0])\n",
    "testset = testset.drop(testset.index[testset.M33_Percentage_Labour_Purchased_PSTotal > 100])\n",
    "print(testset.shape)"
   ]
  },
  {
   "cell_type": "code",
   "execution_count": null,
   "metadata": {
    "ExecuteTime": {
     "end_time": "2020-07-17T18:09:08.547721Z",
     "start_time": "2020-07-17T18:09:08.156764Z"
    },
    "hidden": true
   },
   "outputs": [],
   "source": [
    "#Check for null value\n",
    "print(testset.isnull().sum())\n",
    "testset = testset.dropna()\n",
    "print('---------------------------------------')\n",
    "print(testset.isnull().sum())\n",
    "print('---------------------------------------')\n",
    "#Check data types\n",
    "print(testset.dtypes)\n",
    "testset[X] = testset[X].astype('float')\n",
    "print('---------------------------------------')\n",
    "testset[Y] = testset[Y].astype('bool')\n",
    "print(testset.dtypes)\n",
    "print('---------------------------------------')\n",
    "contract = testset.drop(testset.index[testset.M17_Contract_Active != 1])\n",
    "notcontract = testset.drop(testset.index[testset.M17_Contract_Active == 1])\n",
    "#Complete sample size after drop null\n",
    "summary = testset.describe()\n",
    "summary_contract = contract.describe()\n",
    "summary_notcontract = notcontract.describe()\n",
    "summary['On_Contract'] = summary_contract[X]\n",
    "summary['Not_On_Contract'] = summary_notcontract[X]\n",
    "summary['Variance'] = summary['On_Contract'] - summary['Not_On_Contract']\n",
    "print(summary)\n",
    "x1 = contract[X]\n",
    "x2 = notcontract[X]\n",
    "ax1 = sns.distplot(x1,fit=norm,bins=10,kde=False,label=\"Contract\")\n",
    "ax2 = sns.distplot(x2,fit=norm,bins=10,kde=False,label=\"Not_Contract\")\n",
    "plt.legend()\n",
    "plt.show()\n",
    "ax1 = sns.kdeplot(x1, shade=True,label=\"Contract\")\n",
    "ax2 = sns.kdeplot(x2, shade=True,label=\"Not_Contract\")\n",
    "plt.legend()\n",
    "plt.show()\n"
   ]
  },
  {
   "cell_type": "markdown",
   "metadata": {
    "hidden": true
   },
   "source": [
    "Based on averages, we sell twice as much labour on contracts vs non-contracts. \n",
    "\n",
    "Customers who currently buys high percentage labour are candidates for contracts."
   ]
  },
  {
   "cell_type": "markdown",
   "metadata": {},
   "source": [
    "## M34_Percentage_Parts_Purchased_ServiceTotal"
   ]
  },
  {
   "cell_type": "code",
   "execution_count": null,
   "metadata": {
    "ExecuteTime": {
     "end_time": "2020-07-17T18:10:27.507285Z",
     "start_time": "2020-07-17T18:10:27.498271Z"
    }
   },
   "outputs": [],
   "source": [
    "#predefine variables so i only need to edit this box\n",
    "X = 'M34_Percentage_Parts_Purchased_ServiceTotal'\n",
    "Y = 'M17_Contract_Active'\n",
    "testset = data.loc[:,[X,Y]]\n",
    "testset = testset.drop(testset.index[testset.M34_Percentage_Parts_Purchased_ServiceTotal < 0])\n",
    "testset = testset.drop(testset.index[testset.M34_Percentage_Parts_Purchased_ServiceTotal > 100])\n",
    "print(testset.shape)"
   ]
  },
  {
   "cell_type": "code",
   "execution_count": null,
   "metadata": {
    "ExecuteTime": {
     "end_time": "2020-07-17T18:10:33.110955Z",
     "start_time": "2020-07-17T18:10:32.716941Z"
    }
   },
   "outputs": [],
   "source": [
    "#Check for null value\n",
    "print(testset.isnull().sum())\n",
    "testset = testset.dropna()\n",
    "print('---------------------------------------')\n",
    "print(testset.isnull().sum())\n",
    "print('---------------------------------------')\n",
    "#Check data types\n",
    "print(testset.dtypes)\n",
    "testset[X] = testset[X].astype('float')\n",
    "print('---------------------------------------')\n",
    "testset[Y] = testset[Y].astype('bool')\n",
    "print(testset.dtypes)\n",
    "print('---------------------------------------')\n",
    "contract = testset.drop(testset.index[testset.M17_Contract_Active != 1])\n",
    "notcontract = testset.drop(testset.index[testset.M17_Contract_Active == 1])\n",
    "#Complete sample size after drop null\n",
    "summary = testset.describe()\n",
    "summary_contract = contract.describe()\n",
    "summary_notcontract = notcontract.describe()\n",
    "summary['On_Contract'] = summary_contract[X]\n",
    "summary['Not_On_Contract'] = summary_notcontract[X]\n",
    "summary['Variance'] = summary['On_Contract'] - summary['Not_On_Contract']\n",
    "print(summary)\n",
    "x1 = contract[X]\n",
    "x2 = notcontract[X]\n",
    "ax1 = sns.distplot(x1,fit=norm,bins=10,kde=False,label=\"Contract\")\n",
    "ax2 = sns.distplot(x2,fit=norm,bins=10,kde=False,label=\"Not_Contract\")\n",
    "plt.legend()\n",
    "plt.show()\n",
    "ax1 = sns.kdeplot(x1, shade=True,label=\"Contract\")\n",
    "ax2 = sns.kdeplot(x2, shade=True,label=\"Not_Contract\")\n",
    "plt.legend()\n",
    "plt.show()\n"
   ]
  },
  {
   "cell_type": "markdown",
   "metadata": {},
   "source": [
    "Parts percentage from service is much higher on contract machines than non-contract machines.\n",
    "\n",
    "It first surprised me but also makes sense. Customers who don't buy contracts may only use toromont for major or high technical repairs, VS 50%/50% split on lighter works(PM and preventative repairs)."
   ]
  },
  {
   "cell_type": "markdown",
   "metadata": {
    "heading_collapsed": true
   },
   "source": [
    "## M35_Percentage_Parts_Returned"
   ]
  },
  {
   "cell_type": "code",
   "execution_count": null,
   "metadata": {
    "ExecuteTime": {
     "end_time": "2020-07-17T18:11:29.067285Z",
     "start_time": "2020-07-17T18:11:29.059302Z"
    },
    "hidden": true
   },
   "outputs": [],
   "source": [
    "#predefine variables so i only need to edit this box\n",
    "X = 'M35_Percentage_Parts_Returned'\n",
    "Y = 'M17_Contract_Active'\n",
    "testset = data.loc[:,[X,Y]]\n",
    "testset = testset.drop(testset.index[testset.M35_Percentage_Parts_Returned > 100])\n",
    "\n",
    "print(testset.shape)"
   ]
  },
  {
   "cell_type": "code",
   "execution_count": null,
   "metadata": {
    "ExecuteTime": {
     "end_time": "2020-07-17T18:11:30.591132Z",
     "start_time": "2020-07-17T18:11:30.223323Z"
    },
    "hidden": true
   },
   "outputs": [],
   "source": [
    "#Check for null value\n",
    "print(testset.isnull().sum())\n",
    "testset = testset.dropna()\n",
    "print('---------------------------------------')\n",
    "print(testset.isnull().sum())\n",
    "print('---------------------------------------')\n",
    "#Check data types\n",
    "print(testset.dtypes)\n",
    "testset[X] = testset[X].astype('float')\n",
    "print('---------------------------------------')\n",
    "testset[Y] = testset[Y].astype('bool')\n",
    "print(testset.dtypes)\n",
    "print('---------------------------------------')\n",
    "contract = testset.drop(testset.index[testset.M17_Contract_Active != 1])\n",
    "notcontract = testset.drop(testset.index[testset.M17_Contract_Active == 1])\n",
    "#Complete sample size after drop null\n",
    "summary = testset.describe()\n",
    "summary_contract = contract.describe()\n",
    "summary_notcontract = notcontract.describe()\n",
    "summary['On_Contract'] = summary_contract[X]\n",
    "summary['Not_On_Contract'] = summary_notcontract[X]\n",
    "summary['Variance'] = summary['On_Contract'] - summary['Not_On_Contract']\n",
    "print(summary)\n",
    "x1 = contract[X]\n",
    "x2 = notcontract[X]\n",
    "ax1 = sns.distplot(x1,fit=norm,bins=10,kde=False,label=\"Contract\")\n",
    "ax2 = sns.distplot(x2,fit=norm,bins=10,kde=False,label=\"Not_Contract\")\n",
    "plt.legend()\n",
    "plt.show()\n",
    "ax1 = sns.kdeplot(x1, shade=True,label=\"Contract\")\n",
    "ax2 = sns.kdeplot(x2, shade=True,label=\"Not_Contract\")\n",
    "plt.legend()\n",
    "plt.show()"
   ]
  },
  {
   "cell_type": "markdown",
   "metadata": {
    "hidden": true
   },
   "source": [
    "Non contract machine normally has slightly higher return percentage than contract machines. (customer ordering wrong parts).\n",
    "\n",
    "Information only"
   ]
  },
  {
   "cell_type": "markdown",
   "metadata": {
    "heading_collapsed": true
   },
   "source": [
    "## M36_Percentage_WO_Backed_Out"
   ]
  },
  {
   "cell_type": "code",
   "execution_count": null,
   "metadata": {
    "ExecuteTime": {
     "end_time": "2020-07-17T18:12:11.191201Z",
     "start_time": "2020-07-17T18:12:11.185183Z"
    },
    "hidden": true
   },
   "outputs": [],
   "source": [
    "#predefine variables so i only need to edit this box\n",
    "X = 'M36_Percentage_WO_Backed_Out'\n",
    "Y = 'M17_Contract_Active'\n",
    "testset = data.loc[:,[X,Y]]\n",
    "print(testset.shape)"
   ]
  },
  {
   "cell_type": "code",
   "execution_count": null,
   "metadata": {
    "ExecuteTime": {
     "end_time": "2020-07-17T18:12:12.357039Z",
     "start_time": "2020-07-17T18:12:11.958811Z"
    },
    "hidden": true
   },
   "outputs": [],
   "source": [
    "#Check for null value\n",
    "print(testset.isnull().sum())\n",
    "testset = testset.dropna()\n",
    "print('---------------------------------------')\n",
    "print(testset.isnull().sum())\n",
    "print('---------------------------------------')\n",
    "#Check data types\n",
    "print(testset.dtypes)\n",
    "testset[X] = testset[X].astype('float')\n",
    "print('---------------------------------------')\n",
    "testset[Y] = testset[Y].astype('bool')\n",
    "print(testset.dtypes)\n",
    "print('---------------------------------------')\n",
    "contract = testset.drop(testset.index[testset.M17_Contract_Active != 1])\n",
    "notcontract = testset.drop(testset.index[testset.M17_Contract_Active == 1])\n",
    "#Complete sample size after drop null\n",
    "summary = testset.describe()\n",
    "summary_contract = contract.describe()\n",
    "summary_notcontract = notcontract.describe()\n",
    "summary['On_Contract'] = summary_contract[X]\n",
    "summary['Not_On_Contract'] = summary_notcontract[X]\n",
    "summary['Variance'] = summary['On_Contract'] - summary['Not_On_Contract']\n",
    "print(summary)\n",
    "x1 = contract[X]\n",
    "x2 = notcontract[X]\n",
    "ax1 = sns.distplot(x1,fit=norm,bins=10,kde=False,label=\"Contract\")\n",
    "ax2 = sns.distplot(x2,fit=norm,bins=10,kde=False,label=\"Not_Contract\")\n",
    "plt.legend()\n",
    "plt.show()\n",
    "ax1 = sns.kdeplot(x1, shade=True,label=\"Contract\")\n",
    "ax2 = sns.kdeplot(x2, shade=True,label=\"Not_Contract\")\n",
    "plt.legend()\n",
    "plt.show()\n"
   ]
  },
  {
   "cell_type": "markdown",
   "metadata": {
    "hidden": true
   },
   "source": [
    "Machines under contract has 70% more back outs than non contract machines.\n",
    "\n",
    "This may be resultant of condition monitoring analyst / contract execution verifying billings.\n",
    "\n",
    "Information only. No element points"
   ]
  },
  {
   "cell_type": "markdown",
   "metadata": {
    "heading_collapsed": true
   },
   "source": [
    "## M37_SOS_Count"
   ]
  },
  {
   "cell_type": "code",
   "execution_count": null,
   "metadata": {
    "ExecuteTime": {
     "end_time": "2020-07-17T18:12:30.786851Z",
     "start_time": "2020-07-17T18:12:30.781864Z"
    },
    "hidden": true
   },
   "outputs": [],
   "source": [
    "#predefine variables so i only need to edit this box\n",
    "X = 'M37_SOS_Count'\n",
    "Y = 'M17_Contract_Active'\n",
    "testset = data.loc[:,[X,Y]]\n",
    "print(testset.shape)"
   ]
  },
  {
   "cell_type": "code",
   "execution_count": null,
   "metadata": {
    "ExecuteTime": {
     "end_time": "2020-07-17T18:12:47.876334Z",
     "start_time": "2020-07-17T18:12:47.461426Z"
    },
    "hidden": true
   },
   "outputs": [],
   "source": [
    "#Check for null value\n",
    "print(testset.isnull().sum())\n",
    "testset = testset.dropna()\n",
    "print('---------------------------------------')\n",
    "print(testset.isnull().sum())\n",
    "print('---------------------------------------')\n",
    "#Check data types\n",
    "print(testset.dtypes)\n",
    "testset[X] = testset[X].astype('float')\n",
    "print('---------------------------------------')\n",
    "testset[Y] = testset[Y].astype('bool')\n",
    "print(testset.dtypes)\n",
    "print('---------------------------------------')\n",
    "contract = testset.drop(testset.index[testset.M17_Contract_Active != 1])\n",
    "notcontract = testset.drop(testset.index[testset.M17_Contract_Active == 1])\n",
    "#Complete sample size after drop null\n",
    "summary = testset.describe()\n",
    "summary_contract = contract.describe()\n",
    "summary_notcontract = notcontract.describe()\n",
    "summary['On_Contract'] = summary_contract[X]\n",
    "summary['Not_On_Contract'] = summary_notcontract[X]\n",
    "summary['Variance'] = summary['On_Contract'] - summary['Not_On_Contract']\n",
    "print(summary)\n",
    "x1 = contract[X]\n",
    "x2 = notcontract[X]\n",
    "ax1 = sns.distplot(x1,fit=norm,bins=10,kde=False,label=\"Contract\")\n",
    "ax2 = sns.distplot(x2,fit=norm,bins=10,kde=False,label=\"Not_Contract\")\n",
    "plt.legend()\n",
    "plt.show()\n",
    "ax1 = sns.kdeplot(x1, shade=True,label=\"Contract\")\n",
    "ax2 = sns.kdeplot(x2, shade=True,label=\"Not_Contract\")\n",
    "plt.legend()\n",
    "plt.show()"
   ]
  },
  {
   "cell_type": "markdown",
   "metadata": {
    "hidden": true
   },
   "source": [
    "Mean for equipment with contract is 33 SOS over 5 years, mean for equipment without SOS is 8 over 5 years.\n",
    "\n",
    "SOS is a method of detecting issues and generate repairs. Higher SOS count increases likelihood generating parts and service sales.\n",
    "\n",
    "No element points, information only."
   ]
  }
 ],
 "metadata": {
  "kernelspec": {
   "display_name": "Python 3",
   "language": "python",
   "name": "python3"
  },
  "language_info": {
   "codemirror_mode": {
    "name": "ipython",
    "version": 3
   },
   "file_extension": ".py",
   "mimetype": "text/x-python",
   "name": "python",
   "nbconvert_exporter": "python",
   "pygments_lexer": "ipython3",
   "version": "3.7.4"
  },
  "varInspector": {
   "cols": {
    "lenName": 16,
    "lenType": 16,
    "lenVar": "100"
   },
   "kernels_config": {
    "python": {
     "delete_cmd_postfix": "",
     "delete_cmd_prefix": "del ",
     "library": "var_list.py",
     "varRefreshCmd": "print(var_dic_list())"
    },
    "r": {
     "delete_cmd_postfix": ") ",
     "delete_cmd_prefix": "rm(",
     "library": "var_list.r",
     "varRefreshCmd": "cat(var_dic_list()) "
    }
   },
   "types_to_exclude": [
    "module",
    "function",
    "builtin_function_or_method",
    "instance",
    "_Feature"
   ],
   "window_display": false
  }
 },
 "nbformat": 4,
 "nbformat_minor": 2
}
