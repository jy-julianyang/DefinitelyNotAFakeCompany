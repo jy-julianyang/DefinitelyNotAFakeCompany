{
 "cells": [
  {
   "cell_type": "markdown",
   "metadata": {},
   "source": [
    "# 1 Load libraries and data"
   ]
  },
  {
   "cell_type": "code",
   "execution_count": 1,
   "metadata": {
    "ExecuteTime": {
     "end_time": "2020-05-07T07:48:26.105933Z",
     "start_time": "2020-05-07T07:48:25.076169Z"
    }
   },
   "outputs": [],
   "source": [
    "#Libraries\n",
    "import numpy as np\n",
    "import pandas as pd\n",
    "import pandas_profiling as pp\n",
    "import seaborn as sns\n",
    "import matplotlib.pyplot as plt\n",
    "import statsmodels.api as sm\n",
    "import math \n",
    "import pickle\n",
    "import pylab\n",
    "from scipy import stats\n",
    "from scipy.stats import kurtosis, skew\n",
    "from statsmodels.stats import diagnostic as diag\n",
    "from statsmodels.stats.outliers_influence import variance_inflation_factor\n",
    "from sklearn.model_selection import train_test_split\n",
    "from sklearn.linear_model import LinearRegression\n",
    "from sklearn.metrics import mean_squared_error, r2_score, mean_absolute_error\n",
    "\n",
    "#Settings\n",
    "%matplotlib inline\n",
    "pd.options.display.max_rows = 50\n",
    "pd.options.display.max_columns = 50\n",
    "pd.set_option('display.precision', 2)\n",
    "pd.options.display.float_format = '{:8,.2f}'.format"
   ]
  },
  {
   "cell_type": "code",
   "execution_count": 2,
   "metadata": {
    "ExecuteTime": {
     "end_time": "2020-05-07T07:48:29.853448Z",
     "start_time": "2020-05-07T07:48:26.808570Z"
    }
   },
   "outputs": [
    {
     "data": {
      "text/plain": [
       "(4026, 110)"
      ]
     },
     "execution_count": 2,
     "metadata": {},
     "output_type": "execute_result"
    }
   ],
   "source": [
    "#load data\n",
    "data = pd.read_excel('..\\\\data\\\\LeadData_Customer_Mod.xlsx', index_col='OriginalCustomerNumber')\n",
    "#Drop text \n",
    "data = data.drop([],axis = 1)\n",
    "#data.head()\n",
    "#data.shape\n",
    "#Convert data to float for calculations\n",
    "data = data.astype(float)\n",
    "#Verify data types\n",
    "#data.dtypes\n",
    "data.shape"
   ]
  },
  {
   "cell_type": "markdown",
   "metadata": {},
   "source": [
    "# 2 Validate data"
   ]
  },
  {
   "cell_type": "code",
   "execution_count": 6,
   "metadata": {
    "ExecuteTime": {
     "end_time": "2020-05-07T07:50:21.921264Z",
     "start_time": "2020-05-07T07:50:21.911290Z"
    }
   },
   "outputs": [
    {
     "data": {
      "text/plain": [
       "Index(['LN_Expenditure_12M_PartsNServices', 'LN_Avg_AnnualUsage',\n",
       "       'LN_OLGAAmount', 'LN_PartsDCAL', 'LN_ServiceDCAL'],\n",
       "      dtype='object')"
      ]
     },
     "execution_count": 6,
     "metadata": {},
     "output_type": "execute_result"
    }
   ],
   "source": [
    "#Filter data as assumption (BIAS TO BE DESCRIBED)\n",
    "#data_filtered = data.drop(data.index[data.LoneStar == 1]) #LTDSMU should not be 99999 or higher\n",
    "data_filtered = data.drop(columns=['LoneStar'                                 \n",
    "                                    ,'Family_Accounts'\n",
    "                                    ,'LN_Family_Accounts'\n",
    "                                    ,'AverageDaysToPay'\n",
    "                                    ,'LN_AverageDaysToPay'\n",
    "                                    ,'Expenditure_12M_Equipment'\n",
    "                                    ,'LN_Expenditure_12M_Equipment'\n",
    "                                    ,'Expenditure_12M_PartsNServices'\n",
    "#                                    ,'LN_Expenditure_12M_PartsNServices'\n",
    "                                    ,'Expenditure_12M_Rentals'\n",
    "                                    ,'LN_Expenditure_12M_Rentals'\n",
    "                                    ,'Family_Expenditure_12M_Equipment'\n",
    "                                    ,'LN_Family_Expenditure_12M_Equipment'\n",
    "                                    ,'Family_Expenditure_12M_PartsNServices'\n",
    "                                    ,'LN_Family_Expenditure_12M_PartsNServices'\n",
    "                                    ,'Family_Expenditure_12M_Rentals'\n",
    "                                    ,'LN_Family_Expenditure_12M_Rentals'\n",
    "                                    ,'Family_CatFleetSize'\n",
    "                                    ,'LN_Family_CatFleetSize'\n",
    "                                    ,'Family_FleetSize'\n",
    "                                    ,'LN_Family_FleetSize'\n",
    "                                     ,'Count_CatFleetSize'\n",
    "                                     ,'LN_Count_CatFleetSize'\n",
    "                                    ,'Count_CatFleetSize_BINS_0'\n",
    "                                     ,'Count_CatFleetSize_BINS_1'\n",
    "                                    ,'Count_CatFleetSize_BINS_2_5'\n",
    "                                    ,'Count_CatFleetSize_BINS_6_10'\n",
    "                                    ,'Count_CatFleetSize_BINS_11_15'\n",
    "                                    ,'Count_CatFleetSize_BINS_16_20'\n",
    "                                    ,'Count_CatFleetSize_BINS_21-25'\n",
    "                                    ,'Count_CatFleetSize_BINS_26_PLUS'\n",
    "                                    ,'Count_FleetSize'\n",
    "                                    ,'LN_Count_FleetSize'\n",
    "                                    ,'Percentage_PLSubscriptionActive'\n",
    "                                    ,'LN_Percentage_PLSubscriptionActive'\n",
    "                                    ,'Percentage_Cat'\n",
    "                                    ,'LN_Percentage_Cat'\n",
    "                                    ,'PercentageFleetUtilized'\n",
    "                                    ,'LN_PercentageFleetUtilized'\n",
    "                                    ,'Avg_AnnualUsage'\n",
    "#                                     ,'LN_Avg_AnnualUsage'\n",
    "                                    ,'OLGAAmount'\n",
    "#                                     ,'LN_OLGAAmount'\n",
    "                                    ,'PartsDCAL'\n",
    "#                                     ,'LN_PartsDCAL'\n",
    "                                    ,'PartsDCAL_BINS_0'\n",
    "                                   ,'PartsDCAL_BINS_0_10'\n",
    "                                   ,'PartsDCAL_BINS_10_35'\n",
    "                                   ,'PartsDCAL_BINS_35_70'\n",
    "                                   ,'PartsDCAL_BINS_70_90'\n",
    "                                   ,'PartsDCAL_BINS_90_100'\n",
    "                                   ,'PartsDCAL_BINS_100'\n",
    "                                    ,'ServiceDCAL'\n",
    "#                                     ,'LN_ServiceDCAL'\n",
    "                                   ,'ServiceDCAL_BINS_0'\n",
    "                                   ,'ServiceDCAL_BINS_0_10'\n",
    "                                   ,'ServiceDCAL_BINS_10_35'\n",
    "                                   ,'ServiceDCAL_BINS_35_70'\n",
    "                                   ,'ServiceDCAL_BINS_70_90'\n",
    "                                   ,'ServiceDCAL_BINS_90_100'\n",
    "                                    ,'ServiceDCAL_BINS_100'\n",
    "                                    ,'Average_Fleet_Age_Months'\n",
    "                                    ,'LN_Average_Fleet_Age_Months'\n",
    "                                    ,'Average_Fleet_Hours'\n",
    "                                    ,'LN_Average_Fleet_Hours'\n",
    "                                    ,'PARTS_CU_0_12M'\n",
    "                                    ,'LN_PARTS_CU_0_12M'\n",
    "                                    ,'PARTS_Total_Per_CatFleetSize'\n",
    "                                    ,'LN_PARTS_Total_Per_CatFleetSize'\n",
    "                                    ,'PARTS_Total_Per_500HR_Utilized'\n",
    "                                    ,'LN_PARTS_Total_Per_500HR_Utilized'\n",
    "                                    ,'PARTS_COUNT_CU_0_12M'\n",
    "                                    ,'PARTS_Count_Per_CatFleetSize'\n",
    "                                    ,'LN_PARTS_Count_Per_CatFleetSize'\n",
    "                                    ,'PARTS_Count_Per_500HR_Utilized'\n",
    "                                    ,'LN_PARTS_Count_Per_500HR_Utilized'\n",
    "                                    ,'PartsReturnPercentage_CU'\n",
    "                                    ,'PartsReturnPercentage_BINS_0'\n",
    "                                    ,'PartsReturnPercentage_BINS_0_10'\n",
    "                                    ,'PartsReturnPercentage_BINS_10_35'\n",
    "                                    ,'PartsReturnPercentage_BINS_35_70'\n",
    "                                    ,'PartsReturnPercentage_BINS_70_90'\n",
    "                                    ,'PartsReturnPercentage_BINS_90_100'\n",
    "                                    ,'PartsReturnPercentage_BINS_100'\n",
    "                                    ,'SERVICES_CU_0_12M'\n",
    "                                    ,'LN_SERVICES_CU_0_12M'\n",
    "                                    ,'SERVICES_Total_Per_CatFleetSize'\n",
    "                                    ,'LN_SERVICES_Total_Per_CatFleetSize'\n",
    "                                    ,'SERVICES_Total_Per_500HR_Utilized'\n",
    "                                    ,'LN_SERVICES_Total_Per_500HR_Utilized'\n",
    "                                    ,'SERVICES_COUNT_CU_0_12M'\n",
    "                                    ,'LN_SERVICES_COUNT_CU_0_12M'\n",
    "                                    ,'SERVICES_Count_Per_CatFleetSize'\n",
    "                                    ,'LN_SERVICES_Count_Per_CatFleetSize'\n",
    "                                    ,'SERVICES_Count_Per_500HR_Utilized'\n",
    "                                    ,'LN_SERVICES_Count_Per_500HR_Utilized'\n",
    "                                    ,'ServicesBackOutPercentage_CU'\n",
    "                                    ,'ServiceBackOutPercentage_BINS_0'\n",
    "                                    ,'ServiceBackOutPercentage_BINS_0_10'\n",
    "                                    ,'ServiceBackOutPercentage_BINS_10_35'\n",
    "                                    ,'ServiceBackOutPercentage_BINS_35_70'\n",
    "                                    ,'ServiceBackOutPercentage_BINS_70_90'\n",
    "                                    ,'ServiceBackOutPercentage_BINS_90_100'\n",
    "                                    ,'ServiceBackOutPercentage_BINS_100'\n",
    "                                    ,'SOS_COUNT_CU_0_12M'\n",
    "                                    ,'LN_SOS_COUNT_CU_0_12M'\n",
    "                                    ,'SOS_Count_Per_CatFleetSize'\n",
    "                                    ,'LN_SOS_Count_Per_CatFleetSize'\n",
    "                                    ,'SOS_Count_Per_500HR_Utilized'\n",
    "                                    ,'LN_SOS_Count_Per_500HR_Utilized'\n",
    "                                  ])\n",
    "#data_filtered = data_filtered.drop(data_filtered.index[data_filtered.PartsDCAL < 10 ])   #Drop customers with POPS = 0\n",
    "#data_filtered = data_filtered.drop(data_filtered.index[data_filtered.Count_CatFleetSize ==0 ])   #Drop customers with POPS = 0\n",
    "#data_filtered = data_filtered.drop(data_filtered.index[data_filtered.OLGAAmount == 0]) #Eliminate OLGA = 0\n",
    "data_filtered.columns"
   ]
  },
  {
   "cell_type": "code",
   "execution_count": 8,
   "metadata": {
    "ExecuteTime": {
     "end_time": "2020-05-07T07:51:40.194075Z",
     "start_time": "2020-05-07T07:51:38.876097Z"
    }
   },
   "outputs": [
    {
     "name": "stdout",
     "output_type": "stream",
     "text": [
      "Requirement already satisfied: pandas-profiling in c:\\users\\yyjj\\anaconda3\\lib\\site-packages (1.4.1)\n",
      "Requirement already satisfied: pandas>=0.19 in c:\\users\\yyjj\\anaconda3\\lib\\site-packages (from pandas-profiling) (1.0.1)\n",
      "Requirement already satisfied: matplotlib>=1.4 in c:\\users\\yyjj\\anaconda3\\lib\\site-packages (from pandas-profiling) (3.1.3)\n",
      "Requirement already satisfied: jinja2>=2.8 in c:\\users\\yyjj\\anaconda3\\lib\\site-packages (from pandas-profiling) (2.11.1)\n",
      "Requirement already satisfied: six>=1.9 in c:\\users\\yyjj\\anaconda3\\lib\\site-packages (from pandas-profiling) (1.14.0)\n",
      "Requirement already satisfied: pytz>=2017.2 in c:\\users\\yyjj\\anaconda3\\lib\\site-packages (from pandas>=0.19->pandas-profiling) (2019.3)\n",
      "Requirement already satisfied: numpy>=1.13.3 in c:\\users\\yyjj\\anaconda3\\lib\\site-packages (from pandas>=0.19->pandas-profiling) (1.18.1)\n",
      "Requirement already satisfied: python-dateutil>=2.6.1 in c:\\users\\yyjj\\anaconda3\\lib\\site-packages (from pandas>=0.19->pandas-profiling) (2.8.1)\n",
      "Requirement already satisfied: pyparsing!=2.0.4,!=2.1.2,!=2.1.6,>=2.0.1 in c:\\users\\yyjj\\anaconda3\\lib\\site-packages (from matplotlib>=1.4->pandas-profiling) (2.4.6)\n",
      "Requirement already satisfied: cycler>=0.10 in c:\\users\\yyjj\\anaconda3\\lib\\site-packages (from matplotlib>=1.4->pandas-profiling) (0.10.0)\n",
      "Requirement already satisfied: kiwisolver>=1.0.1 in c:\\users\\yyjj\\anaconda3\\lib\\site-packages (from matplotlib>=1.4->pandas-profiling) (1.1.0)\n",
      "Requirement already satisfied: MarkupSafe>=0.23 in c:\\users\\yyjj\\anaconda3\\lib\\site-packages (from jinja2>=2.8->pandas-profiling) (1.1.1)\n",
      "Requirement already satisfied: setuptools in c:\\users\\yyjj\\anaconda3\\lib\\site-packages (from kiwisolver>=1.0.1->matplotlib>=1.4->pandas-profiling) (45.2.0.post20200210)\n",
      "Note: you may need to restart the kernel to use updated packages.\n"
     ]
    }
   ],
   "source": [
    "pip install pandas-profiling"
   ]
  },
  {
   "cell_type": "code",
   "execution_count": 9,
   "metadata": {
    "ExecuteTime": {
     "end_time": "2020-05-07T07:52:01.251402Z",
     "start_time": "2020-05-07T07:52:00.219654Z"
    },
    "scrolled": false
   },
   "outputs": [
    {
     "ename": "TypeError",
     "evalue": "concat() got an unexpected keyword argument 'join_axes'",
     "output_type": "error",
     "traceback": [
      "\u001b[1;31m---------------------------------------------------------------------------\u001b[0m",
      "\u001b[1;31mTypeError\u001b[0m                                 Traceback (most recent call last)",
      "\u001b[1;32m<ipython-input-9-e2254afb4592>\u001b[0m in \u001b[0;36m<module>\u001b[1;34m\u001b[0m\n\u001b[0;32m      1\u001b[0m \u001b[1;31m#Describe data via panda profiler\u001b[0m\u001b[1;33m\u001b[0m\u001b[1;33m\u001b[0m\u001b[1;33m\u001b[0m\u001b[0m\n\u001b[1;32m----> 2\u001b[1;33m \u001b[0meda\u001b[0m \u001b[1;33m=\u001b[0m \u001b[0mpp\u001b[0m\u001b[1;33m.\u001b[0m\u001b[0mProfileReport\u001b[0m\u001b[1;33m(\u001b[0m\u001b[0mdata_filtered\u001b[0m\u001b[1;33m)\u001b[0m\u001b[1;33m\u001b[0m\u001b[1;33m\u001b[0m\u001b[0m\n\u001b[0m\u001b[0;32m      3\u001b[0m \u001b[0mdisplay\u001b[0m\u001b[1;33m(\u001b[0m\u001b[0meda\u001b[0m\u001b[1;33m)\u001b[0m\u001b[1;33m\u001b[0m\u001b[1;33m\u001b[0m\u001b[0m\n",
      "\u001b[1;32m~\\anaconda3\\lib\\site-packages\\pandas_profiling\\__init__.py\u001b[0m in \u001b[0;36m__init__\u001b[1;34m(self, df, **kwargs)\u001b[0m\n\u001b[0;32m     64\u001b[0m         \u001b[0msample\u001b[0m \u001b[1;33m=\u001b[0m \u001b[0mkwargs\u001b[0m\u001b[1;33m.\u001b[0m\u001b[0mget\u001b[0m\u001b[1;33m(\u001b[0m\u001b[1;34m'sample'\u001b[0m\u001b[1;33m,\u001b[0m \u001b[0mdf\u001b[0m\u001b[1;33m.\u001b[0m\u001b[0mhead\u001b[0m\u001b[1;33m(\u001b[0m\u001b[1;33m)\u001b[0m\u001b[1;33m)\u001b[0m\u001b[1;33m\u001b[0m\u001b[1;33m\u001b[0m\u001b[0m\n\u001b[0;32m     65\u001b[0m \u001b[1;33m\u001b[0m\u001b[0m\n\u001b[1;32m---> 66\u001b[1;33m         \u001b[0mdescription_set\u001b[0m \u001b[1;33m=\u001b[0m \u001b[0mdescribe\u001b[0m\u001b[1;33m(\u001b[0m\u001b[0mdf\u001b[0m\u001b[1;33m,\u001b[0m \u001b[1;33m**\u001b[0m\u001b[0mkwargs\u001b[0m\u001b[1;33m)\u001b[0m\u001b[1;33m\u001b[0m\u001b[1;33m\u001b[0m\u001b[0m\n\u001b[0m\u001b[0;32m     67\u001b[0m \u001b[1;33m\u001b[0m\u001b[0m\n\u001b[0;32m     68\u001b[0m         self.html = to_html(sample,\n",
      "\u001b[1;32m~\\anaconda3\\lib\\site-packages\\pandas_profiling\\describe.py\u001b[0m in \u001b[0;36mdescribe\u001b[1;34m(df, bins, check_correlation, correlation_threshold, correlation_overrides, check_recoded, pool_size, **kwargs)\u001b[0m\n\u001b[0;32m    390\u001b[0m             \u001b[1;32mif\u001b[0m \u001b[0mname\u001b[0m \u001b[1;32mnot\u001b[0m \u001b[1;32min\u001b[0m \u001b[0mnames\u001b[0m\u001b[1;33m:\u001b[0m\u001b[1;33m\u001b[0m\u001b[1;33m\u001b[0m\u001b[0m\n\u001b[0;32m    391\u001b[0m                 \u001b[0mnames\u001b[0m\u001b[1;33m.\u001b[0m\u001b[0mappend\u001b[0m\u001b[1;33m(\u001b[0m\u001b[0mname\u001b[0m\u001b[1;33m)\u001b[0m\u001b[1;33m\u001b[0m\u001b[1;33m\u001b[0m\u001b[0m\n\u001b[1;32m--> 392\u001b[1;33m     \u001b[0mvariable_stats\u001b[0m \u001b[1;33m=\u001b[0m \u001b[0mpd\u001b[0m\u001b[1;33m.\u001b[0m\u001b[0mconcat\u001b[0m\u001b[1;33m(\u001b[0m\u001b[0mldesc\u001b[0m\u001b[1;33m,\u001b[0m \u001b[0mjoin_axes\u001b[0m\u001b[1;33m=\u001b[0m\u001b[0mpd\u001b[0m\u001b[1;33m.\u001b[0m\u001b[0mIndex\u001b[0m\u001b[1;33m(\u001b[0m\u001b[1;33m[\u001b[0m\u001b[0mnames\u001b[0m\u001b[1;33m]\u001b[0m\u001b[1;33m)\u001b[0m\u001b[1;33m,\u001b[0m \u001b[0maxis\u001b[0m\u001b[1;33m=\u001b[0m\u001b[1;36m1\u001b[0m\u001b[1;33m)\u001b[0m\u001b[1;33m\u001b[0m\u001b[1;33m\u001b[0m\u001b[0m\n\u001b[0m\u001b[0;32m    393\u001b[0m     \u001b[0mvariable_stats\u001b[0m\u001b[1;33m.\u001b[0m\u001b[0mcolumns\u001b[0m\u001b[1;33m.\u001b[0m\u001b[0mnames\u001b[0m \u001b[1;33m=\u001b[0m \u001b[0mdf\u001b[0m\u001b[1;33m.\u001b[0m\u001b[0mcolumns\u001b[0m\u001b[1;33m.\u001b[0m\u001b[0mnames\u001b[0m\u001b[1;33m\u001b[0m\u001b[1;33m\u001b[0m\u001b[0m\n\u001b[0;32m    394\u001b[0m \u001b[1;33m\u001b[0m\u001b[0m\n",
      "\u001b[1;31mTypeError\u001b[0m: concat() got an unexpected keyword argument 'join_axes'"
     ]
    }
   ],
   "source": [
    "#Describe data via panda profiler\n",
    "eda = pp.ProfileReport(data_filtered)\n",
    "display(eda)"
   ]
  },
  {
   "cell_type": "markdown",
   "metadata": {},
   "source": [
    "# 3 Correlation Matrix"
   ]
  },
  {
   "cell_type": "code",
   "execution_count": null,
   "metadata": {
    "ExecuteTime": {
     "end_time": "2020-05-06T19:09:45.693033Z",
     "start_time": "2020-05-06T19:09:45.670127Z"
    },
    "scrolled": true
   },
   "outputs": [],
   "source": [
    "# #Compute the correlation matrix\n",
    "corr_matrix = round(data_filtered.corr(),2)\n",
    "display(corr_matrix)\n",
    "\n",
    "def get_sorted_corr(df):\n",
    "    crr = df.corr().abs().unstack()\n",
    "# #     labels_to_drop = get_redundant_pairs(df)\n",
    "# #     crr = crr.drop(labels=labels_to_drop).sort_values(ascending=False)\n",
    "    return crr\n",
    "\n",
    "# def get_redundant_pairs(df):\n",
    "#     pairs_to_drop = set()\n",
    "#     cols = df.columns\n",
    "# #     for i in range(0, df.shape[1]):\n",
    "# #         for j in range(0, i+1):\n",
    "# #             pairs_to_drop.add((cols[i], cols[j]))\n",
    "#     return pairs_to_drop\n",
    "\n",
    "# #Unstack and print to excel\n",
    "get_sorted_corr(data_filtered)\n",
    "sorted_corr = get_sorted_corr(data_filtered)\n",
    "sorted_corr.to_csv('..\\\\data\\\\Output\\\\Sorted_Correlation_Equipment_Mod.csv')"
   ]
  },
  {
   "cell_type": "code",
   "execution_count": null,
   "metadata": {
    "ExecuteTime": {
     "end_time": "2020-05-06T19:10:54.731670Z",
     "start_time": "2020-05-06T19:10:54.530238Z"
    }
   },
   "outputs": [],
   "source": [
    "# # Generate a mask for the upper triangle\n",
    "mask = np.triu(np.ones_like(corr_matrix, dtype=np.bool))\n",
    "\n",
    "# # Set up the matplotlib figure\n",
    "fig, ax = plt.subplots(figsize=(4,4))\n",
    "\n",
    "# # Generate a custom diverging colormap\n",
    "cmap = sns.diverging_palette(240, 10, n=9, as_cmap=True)\n",
    "\n",
    "heatmap = sns.heatmap(corr_matrix, mask=mask, cmap=cmap,\n",
    "                      square=True, linewidths=3,\n",
    "                      cbar_kws = {'shrink': 1},\n",
    "                      vmin=-1, vmax=1,\n",
    "                      annot=True, annot_kws = {'size': 1})\n",
    "\n",
    "# add the column names as labels\n",
    "ax.set_yticklabels(corr_matrix.columns)\n",
    "ax.set_xticklabels(corr_matrix.columns)\n",
    "\n",
    "plt.show()\n",
    "# plt.savefig('..\\\\data\\\\Output\\\\Correlation_Matrix_Equipment')"
   ]
  },
  {
   "cell_type": "markdown",
   "metadata": {},
   "source": [
    "# 4 Evaluate Variables Y = LN_Expenditure_12M_PartsNServices"
   ]
  },
  {
   "cell_type": "markdown",
   "metadata": {
    "heading_collapsed": true
   },
   "source": [
    "## Variable test LN_Avg_AnnualUsage"
   ]
  },
  {
   "cell_type": "code",
   "execution_count": 5,
   "metadata": {
    "ExecuteTime": {
     "end_time": "2020-05-07T07:49:49.181343Z",
     "start_time": "2020-05-07T07:49:49.172367Z"
    },
    "hidden": true
   },
   "outputs": [
    {
     "ename": "NameError",
     "evalue": "name 'data_dropna' is not defined",
     "output_type": "error",
     "traceback": [
      "\u001b[1;31m---------------------------------------------------------------------------\u001b[0m",
      "\u001b[1;31mNameError\u001b[0m                                 Traceback (most recent call last)",
      "\u001b[1;32m<ipython-input-5-e23491c378e4>\u001b[0m in \u001b[0;36m<module>\u001b[1;34m\u001b[0m\n\u001b[0;32m      1\u001b[0m \u001b[1;31m#Create subset test for testing ideal element\u001b[0m\u001b[1;33m\u001b[0m\u001b[1;33m\u001b[0m\u001b[1;33m\u001b[0m\u001b[0m\n\u001b[1;32m----> 2\u001b[1;33m \u001b[0mtest\u001b[0m \u001b[1;33m=\u001b[0m \u001b[0mdata_dropna\u001b[0m\u001b[1;33m.\u001b[0m\u001b[0mloc\u001b[0m\u001b[1;33m[\u001b[0m\u001b[1;33m:\u001b[0m\u001b[1;33m,\u001b[0m \u001b[1;33m[\u001b[0m\u001b[1;34m'LN_Expenditure_12M_PartsNServices'\u001b[0m\u001b[1;33m,\u001b[0m\u001b[1;34m'LN_Avg_AnnualUsage'\u001b[0m\u001b[1;33m]\u001b[0m\u001b[1;33m]\u001b[0m\u001b[1;33m\u001b[0m\u001b[1;33m\u001b[0m\u001b[0m\n\u001b[0m\u001b[0;32m      3\u001b[0m \u001b[1;33m\u001b[0m\u001b[0m\n\u001b[0;32m      4\u001b[0m \u001b[0mX\u001b[0m \u001b[1;33m=\u001b[0m \u001b[0mtest\u001b[0m\u001b[1;33m[\u001b[0m\u001b[1;33m[\u001b[0m\u001b[1;34m'LN_Avg_AnnualUsage'\u001b[0m\u001b[1;33m]\u001b[0m\u001b[1;33m]\u001b[0m\u001b[1;33m\u001b[0m\u001b[1;33m\u001b[0m\u001b[0m\n\u001b[0;32m      5\u001b[0m \u001b[0mY\u001b[0m \u001b[1;33m=\u001b[0m \u001b[0mtest\u001b[0m\u001b[1;33m[\u001b[0m\u001b[1;33m[\u001b[0m\u001b[1;34m'LN_Expenditure_12M_PartsNServices'\u001b[0m\u001b[1;33m]\u001b[0m\u001b[1;33m]\u001b[0m\u001b[1;33m\u001b[0m\u001b[1;33m\u001b[0m\u001b[0m\n",
      "\u001b[1;31mNameError\u001b[0m: name 'data_dropna' is not defined"
     ]
    }
   ],
   "source": [
    "#Create subset test for testing ideal element\n",
    "test = data_dropna.loc[:, ['LN_Expenditure_12M_PartsNServices','LN_Avg_AnnualUsage']]\n",
    "\n",
    "X = test[['LN_Avg_AnnualUsage']]\n",
    "Y = test[['LN_Expenditure_12M_PartsNServices']]\n",
    "\n",
    "#test.describe()\n",
    "#scatter plot\n",
    "sns.pairplot(test, kind='reg', diag_kind='hist',\n",
    "             height=3, aspect=1,\n",
    "             plot_kws={'scatter_kws': {'alpha': 0.7}})\n",
    "#plt.savefig('..\\\\data\\\\Output\\\\LN_Avg_AnnualUsage')"
   ]
  },
  {
   "cell_type": "code",
   "execution_count": null,
   "metadata": {
    "ExecuteTime": {
     "end_time": "2020-05-06T19:20:26.285770Z",
     "start_time": "2020-05-06T19:20:26.273836Z"
    },
    "hidden": true
   },
   "outputs": [],
   "source": [
    "test.corr()"
   ]
  },
  {
   "cell_type": "code",
   "execution_count": null,
   "metadata": {
    "ExecuteTime": {
     "end_time": "2020-05-06T19:20:27.879842Z",
     "start_time": "2020-05-06T19:20:27.569645Z"
    },
    "hidden": true,
    "scrolled": false
   },
   "outputs": [],
   "source": [
    "test.hist(grid = True, color = 'CadetBlue')"
   ]
  },
  {
   "cell_type": "code",
   "execution_count": null,
   "metadata": {
    "ExecuteTime": {
     "end_time": "2020-05-06T19:20:29.770088Z",
     "start_time": "2020-05-06T19:20:29.751221Z"
    },
    "hidden": true
   },
   "outputs": [],
   "source": [
    "# create a OLS model.\n",
    "model = sm.OLS(Y, X)\n",
    "\n",
    "#Print\n",
    "results = model.fit()\n",
    "print(results.summary())"
   ]
  },
  {
   "cell_type": "code",
   "execution_count": null,
   "metadata": {
    "ExecuteTime": {
     "end_time": "2020-05-06T19:20:34.751653Z",
     "start_time": "2020-05-06T19:20:34.743676Z"
    },
    "hidden": true
   },
   "outputs": [],
   "source": [
    "# estimate the p-values\n",
    "results.pvalues"
   ]
  },
  {
   "cell_type": "code",
   "execution_count": null,
   "metadata": {
    "ExecuteTime": {
     "end_time": "2020-05-06T19:20:36.499619Z",
     "start_time": "2020-05-06T19:20:36.483698Z"
    },
    "hidden": true
   },
   "outputs": [],
   "source": [
    "# Split X and y into X_\n",
    "x_train, x_test, y_train, y_test = train_test_split(X, Y, test_size=0.20, random_state=1)\n",
    "# create a Linear Regression model object.\n",
    "single_regression_model = LinearRegression()\n",
    "# pass through the X_train & y_train data set.\n",
    "single_regression_model.fit(x_train, y_train)\n",
    "\n",
    "# create prediction value\n",
    "y_predict = single_regression_model.predict(x_test)\n",
    "\n",
    "# calculate the mean squared error.\n",
    "model_mse = mean_squared_error(y_test, y_predict)\n",
    "# calculate the mean absolute error.\n",
    "model_mae = mean_absolute_error(y_test, y_predict)\n",
    "# calulcate the root mean squared error\n",
    "model_rmse =  math.sqrt(model_mse)\n",
    "\n",
    "# display the output\n",
    "print(\"MSE {:3}\".format(model_mse))\n",
    "print(\"MAE {:3}\".format(model_mae))\n",
    "print(\"RMSE {:3}\".format(model_rmse))"
   ]
  },
  {
   "cell_type": "code",
   "execution_count": null,
   "metadata": {
    "ExecuteTime": {
     "end_time": "2020-05-06T19:20:37.334694Z",
     "start_time": "2020-05-06T19:20:37.326677Z"
    },
    "hidden": true
   },
   "outputs": [],
   "source": [
    "model_r2 = r2_score(y_test, y_predict)\n",
    "print(\"R2: {:.2}\".format(model_r2))"
   ]
  },
  {
   "cell_type": "code",
   "execution_count": null,
   "metadata": {
    "ExecuteTime": {
     "end_time": "2020-05-06T19:20:38.524728Z",
     "start_time": "2020-05-06T19:20:38.362221Z"
    },
    "hidden": true
   },
   "outputs": [],
   "source": [
    "# Grab the residuals & then call the hist() method\n",
    "(y_test - y_predict).hist(grid = False, color = 'royalblue')\n",
    "plt.title(\"Model Residuals\")\n",
    "plt.show()"
   ]
  },
  {
   "cell_type": "code",
   "execution_count": null,
   "metadata": {
    "ExecuteTime": {
     "end_time": "2020-05-06T19:20:42.446926Z",
     "start_time": "2020-05-06T19:20:42.271431Z"
    },
    "hidden": true
   },
   "outputs": [],
   "source": [
    "# Plot outputs\n",
    "plt.scatter(x_test, y_test,  color='red', label = 'Y')\n",
    "plt.plot(x_test, y_predict, color='royalblue', linewidth = 3, linestyle= '-',label ='Regression Line')\n",
    "\n",
    "plt.title(\"X VS Y\")\n",
    "plt.xlabel(\"x\")\n",
    "plt.ylabel(\"y\")\n",
    "plt.legend()\n",
    "plt.show()"
   ]
  },
  {
   "cell_type": "markdown",
   "metadata": {
    "heading_collapsed": true
   },
   "source": [
    "## Variable test LN_OLGAAmount"
   ]
  },
  {
   "cell_type": "code",
   "execution_count": null,
   "metadata": {
    "ExecuteTime": {
     "end_time": "2020-05-06T19:23:27.635729Z",
     "start_time": "2020-05-06T19:23:26.174622Z"
    },
    "hidden": true
   },
   "outputs": [],
   "source": [
    "#Create subset test for testing ideal element\n",
    "test = data_dropna.loc[:, ['LN_Expenditure_12M_PartsNServices','LN_OLGAAmount']]\n",
    "\n",
    "X = test[['LN_OLGAAmount']]\n",
    "Y = test[['LN_Expenditure_12M_PartsNServices']]\n",
    "\n",
    "#test.describe()\n",
    "#scatter plot\n",
    "sns.pairplot(test, kind='reg', diag_kind='hist',\n",
    "             height=3, aspect=1,\n",
    "             plot_kws={'scatter_kws': {'alpha': 0.7}})\n",
    "#plt.savefig('..\\\\data\\\\Output\\\\LN_Avg_AnnualUsage')"
   ]
  },
  {
   "cell_type": "code",
   "execution_count": null,
   "metadata": {
    "ExecuteTime": {
     "end_time": "2020-05-06T19:23:29.251850Z",
     "start_time": "2020-05-06T19:23:29.243867Z"
    },
    "hidden": true
   },
   "outputs": [],
   "source": [
    "test.corr()"
   ]
  },
  {
   "cell_type": "code",
   "execution_count": null,
   "metadata": {
    "ExecuteTime": {
     "end_time": "2020-05-06T19:23:30.677933Z",
     "start_time": "2020-05-06T19:23:30.366803Z"
    },
    "hidden": true,
    "scrolled": false
   },
   "outputs": [],
   "source": [
    "test.hist(grid = True, color = 'CadetBlue')"
   ]
  },
  {
   "cell_type": "code",
   "execution_count": null,
   "metadata": {
    "ExecuteTime": {
     "end_time": "2020-05-06T19:23:31.751800Z",
     "start_time": "2020-05-06T19:23:31.737827Z"
    },
    "hidden": true
   },
   "outputs": [],
   "source": [
    "# create a OLS model.\n",
    "model = sm.OLS(Y, X)\n",
    "\n",
    "#Print\n",
    "results = model.fit()\n",
    "print(results.summary())"
   ]
  },
  {
   "cell_type": "code",
   "execution_count": null,
   "metadata": {
    "ExecuteTime": {
     "end_time": "2020-05-06T19:23:35.337546Z",
     "start_time": "2020-05-06T19:23:35.331554Z"
    },
    "hidden": true
   },
   "outputs": [],
   "source": [
    "# estimate the p-values\n",
    "results.pvalues"
   ]
  },
  {
   "cell_type": "code",
   "execution_count": null,
   "metadata": {
    "ExecuteTime": {
     "end_time": "2020-05-06T19:23:37.927403Z",
     "start_time": "2020-05-06T19:23:37.912463Z"
    },
    "hidden": true
   },
   "outputs": [],
   "source": [
    "# Split X and y into X_\n",
    "x_train, x_test, y_train, y_test = train_test_split(X, Y, test_size=0.20, random_state=1)\n",
    "# create a Linear Regression model object.\n",
    "single_regression_model = LinearRegression()\n",
    "# pass through the X_train & y_train data set.\n",
    "single_regression_model.fit(x_train, y_train)\n",
    "\n",
    "# create prediction value\n",
    "y_predict = single_regression_model.predict(x_test)\n",
    "\n",
    "# calculate the mean squared error.\n",
    "model_mse = mean_squared_error(y_test, y_predict)\n",
    "# calculate the mean absolute error.\n",
    "model_mae = mean_absolute_error(y_test, y_predict)\n",
    "# calulcate the root mean squared error\n",
    "model_rmse =  math.sqrt(model_mse)\n",
    "\n",
    "# display the output\n",
    "print(\"MSE {:3}\".format(model_mse))\n",
    "print(\"MAE {:3}\".format(model_mae))\n",
    "print(\"RMSE {:3}\".format(model_rmse))"
   ]
  },
  {
   "cell_type": "code",
   "execution_count": null,
   "metadata": {
    "ExecuteTime": {
     "end_time": "2020-05-06T19:23:39.106223Z",
     "start_time": "2020-05-06T19:23:39.101238Z"
    },
    "hidden": true
   },
   "outputs": [],
   "source": [
    "model_r2 = r2_score(y_test, y_predict)\n",
    "print(\"R2: {:.2}\".format(model_r2))"
   ]
  },
  {
   "cell_type": "code",
   "execution_count": null,
   "metadata": {
    "ExecuteTime": {
     "end_time": "2020-05-06T19:23:44.663849Z",
     "start_time": "2020-05-06T19:23:44.505271Z"
    },
    "hidden": true
   },
   "outputs": [],
   "source": [
    "# Grab the residuals & then call the hist() method\n",
    "(y_test - y_predict).hist(grid = False, color = 'royalblue')\n",
    "plt.title(\"Model Residuals\")\n",
    "plt.show()"
   ]
  },
  {
   "cell_type": "code",
   "execution_count": null,
   "metadata": {
    "ExecuteTime": {
     "end_time": "2020-05-06T19:23:50.229144Z",
     "start_time": "2020-05-06T19:23:50.044622Z"
    },
    "hidden": true
   },
   "outputs": [],
   "source": [
    "# Plot outputs\n",
    "plt.scatter(x_test, y_test,  color='red', label = 'Y')\n",
    "plt.plot(x_test, y_predict, color='royalblue', linewidth = 3, linestyle= '-',label ='Regression Line')\n",
    "\n",
    "plt.title(\"X VS Y\")\n",
    "plt.xlabel(\"x\")\n",
    "plt.ylabel(\"y\")\n",
    "plt.legend()\n",
    "plt.show()"
   ]
  },
  {
   "cell_type": "markdown",
   "metadata": {
    "heading_collapsed": true
   },
   "source": [
    "## Variable test LN_PartsDCAL"
   ]
  },
  {
   "cell_type": "code",
   "execution_count": null,
   "metadata": {
    "ExecuteTime": {
     "end_time": "2020-05-06T19:23:27.635729Z",
     "start_time": "2020-05-06T19:23:26.174622Z"
    },
    "hidden": true
   },
   "outputs": [],
   "source": [
    "#Create subset test for testing ideal element\n",
    "test = data_dropna.loc[:, ['LN_Expenditure_12M_PartsNServices','LN_PartsDCAL']]\n",
    "\n",
    "X = test[['LN_PartsDCAL']]\n",
    "Y = test[['LN_Expenditure_12M_PartsNServices']]\n",
    "\n",
    "#test.describe()\n",
    "#scatter plot\n",
    "sns.pairplot(test, kind='reg', diag_kind='hist',\n",
    "             height=3, aspect=1,\n",
    "             plot_kws={'scatter_kws': {'alpha': 0.7}})\n",
    "#plt.savefig('..\\\\data\\\\Output\\\\LN_Avg_AnnualUsage')"
   ]
  },
  {
   "cell_type": "code",
   "execution_count": null,
   "metadata": {
    "ExecuteTime": {
     "end_time": "2020-05-06T19:23:29.251850Z",
     "start_time": "2020-05-06T19:23:29.243867Z"
    },
    "hidden": true
   },
   "outputs": [],
   "source": [
    "test.corr()"
   ]
  },
  {
   "cell_type": "code",
   "execution_count": null,
   "metadata": {
    "ExecuteTime": {
     "end_time": "2020-05-06T19:23:30.677933Z",
     "start_time": "2020-05-06T19:23:30.366803Z"
    },
    "hidden": true,
    "scrolled": false
   },
   "outputs": [],
   "source": [
    "test.hist(grid = True, color = 'CadetBlue')"
   ]
  },
  {
   "cell_type": "code",
   "execution_count": null,
   "metadata": {
    "ExecuteTime": {
     "end_time": "2020-05-06T19:23:31.751800Z",
     "start_time": "2020-05-06T19:23:31.737827Z"
    },
    "hidden": true
   },
   "outputs": [],
   "source": [
    "# create a OLS model.\n",
    "model = sm.OLS(Y, X)\n",
    "\n",
    "#Print\n",
    "results = model.fit()\n",
    "print(results.summary())"
   ]
  },
  {
   "cell_type": "code",
   "execution_count": null,
   "metadata": {
    "ExecuteTime": {
     "end_time": "2020-05-06T19:23:35.337546Z",
     "start_time": "2020-05-06T19:23:35.331554Z"
    },
    "hidden": true
   },
   "outputs": [],
   "source": [
    "# estimate the p-values\n",
    "results.pvalues"
   ]
  },
  {
   "cell_type": "code",
   "execution_count": null,
   "metadata": {
    "ExecuteTime": {
     "end_time": "2020-05-06T19:23:37.927403Z",
     "start_time": "2020-05-06T19:23:37.912463Z"
    },
    "hidden": true
   },
   "outputs": [],
   "source": [
    "# Split X and y into X_\n",
    "x_train, x_test, y_train, y_test = train_test_split(X, Y, test_size=0.20, random_state=1)\n",
    "# create a Linear Regression model object.\n",
    "single_regression_model = LinearRegression()\n",
    "# pass through the X_train & y_train data set.\n",
    "single_regression_model.fit(x_train, y_train)\n",
    "\n",
    "# create prediction value\n",
    "y_predict = single_regression_model.predict(x_test)\n",
    "\n",
    "# calculate the mean squared error.\n",
    "model_mse = mean_squared_error(y_test, y_predict)\n",
    "# calculate the mean absolute error.\n",
    "model_mae = mean_absolute_error(y_test, y_predict)\n",
    "# calulcate the root mean squared error\n",
    "model_rmse =  math.sqrt(model_mse)\n",
    "\n",
    "# display the output\n",
    "print(\"MSE {:3}\".format(model_mse))\n",
    "print(\"MAE {:3}\".format(model_mae))\n",
    "print(\"RMSE {:3}\".format(model_rmse))"
   ]
  },
  {
   "cell_type": "code",
   "execution_count": null,
   "metadata": {
    "ExecuteTime": {
     "end_time": "2020-05-06T19:23:39.106223Z",
     "start_time": "2020-05-06T19:23:39.101238Z"
    },
    "hidden": true
   },
   "outputs": [],
   "source": [
    "model_r2 = r2_score(y_test, y_predict)\n",
    "print(\"R2: {:.2}\".format(model_r2))"
   ]
  },
  {
   "cell_type": "code",
   "execution_count": null,
   "metadata": {
    "ExecuteTime": {
     "end_time": "2020-05-06T19:23:44.663849Z",
     "start_time": "2020-05-06T19:23:44.505271Z"
    },
    "hidden": true
   },
   "outputs": [],
   "source": [
    "# Grab the residuals & then call the hist() method\n",
    "(y_test - y_predict).hist(grid = False, color = 'royalblue')\n",
    "plt.title(\"Model Residuals\")\n",
    "plt.show()"
   ]
  },
  {
   "cell_type": "code",
   "execution_count": null,
   "metadata": {
    "ExecuteTime": {
     "end_time": "2020-05-06T19:23:50.229144Z",
     "start_time": "2020-05-06T19:23:50.044622Z"
    },
    "hidden": true
   },
   "outputs": [],
   "source": [
    "# Plot outputs\n",
    "plt.scatter(x_test, y_test,  color='red', label = 'Y')\n",
    "plt.plot(x_test, y_predict, color='royalblue', linewidth = 3, linestyle= '-',label ='Regression Line')\n",
    "\n",
    "plt.title(\"X VS Y\")\n",
    "plt.xlabel(\"x\")\n",
    "plt.ylabel(\"y\")\n",
    "plt.legend()\n",
    "plt.show()"
   ]
  },
  {
   "cell_type": "markdown",
   "metadata": {
    "heading_collapsed": true
   },
   "source": [
    "## Variable test LN_ServiceDCAL"
   ]
  },
  {
   "cell_type": "code",
   "execution_count": null,
   "metadata": {
    "ExecuteTime": {
     "end_time": "2020-05-06T19:23:27.635729Z",
     "start_time": "2020-05-06T19:23:26.174622Z"
    },
    "hidden": true
   },
   "outputs": [],
   "source": [
    "#Create subset test for testing ideal element\n",
    "test = data_dropna.loc[:, ['LN_Expenditure_12M_PartsNServices','LN_ServiceDCAL']]\n",
    "\n",
    "X = test[['LN_ServiceDCAL']]\n",
    "Y = test[['LN_Expenditure_12M_PartsNServices']]\n",
    "\n",
    "#test.describe()\n",
    "#scatter plot\n",
    "sns.pairplot(test, kind='reg', diag_kind='hist',\n",
    "             height=3, aspect=1,\n",
    "             plot_kws={'scatter_kws': {'alpha': 0.7}})\n",
    "#plt.savefig('..\\\\data\\\\Output\\\\LN_Avg_AnnualUsage')"
   ]
  },
  {
   "cell_type": "code",
   "execution_count": null,
   "metadata": {
    "ExecuteTime": {
     "end_time": "2020-05-06T19:23:29.251850Z",
     "start_time": "2020-05-06T19:23:29.243867Z"
    },
    "hidden": true
   },
   "outputs": [],
   "source": [
    "test.corr()"
   ]
  },
  {
   "cell_type": "code",
   "execution_count": null,
   "metadata": {
    "ExecuteTime": {
     "end_time": "2020-05-06T19:23:30.677933Z",
     "start_time": "2020-05-06T19:23:30.366803Z"
    },
    "hidden": true,
    "scrolled": false
   },
   "outputs": [],
   "source": [
    "test.hist(grid = True, color = 'CadetBlue')"
   ]
  },
  {
   "cell_type": "code",
   "execution_count": null,
   "metadata": {
    "ExecuteTime": {
     "end_time": "2020-05-06T19:23:31.751800Z",
     "start_time": "2020-05-06T19:23:31.737827Z"
    },
    "hidden": true
   },
   "outputs": [],
   "source": [
    "# create a OLS model.\n",
    "model = sm.OLS(Y, X)\n",
    "\n",
    "#Print\n",
    "results = model.fit()\n",
    "print(results.summary())"
   ]
  },
  {
   "cell_type": "code",
   "execution_count": null,
   "metadata": {
    "ExecuteTime": {
     "end_time": "2020-05-06T19:23:35.337546Z",
     "start_time": "2020-05-06T19:23:35.331554Z"
    },
    "hidden": true
   },
   "outputs": [],
   "source": [
    "# estimate the p-values\n",
    "results.pvalues"
   ]
  },
  {
   "cell_type": "code",
   "execution_count": null,
   "metadata": {
    "ExecuteTime": {
     "end_time": "2020-05-06T19:23:37.927403Z",
     "start_time": "2020-05-06T19:23:37.912463Z"
    },
    "hidden": true
   },
   "outputs": [],
   "source": [
    "# Split X and y into X_\n",
    "x_train, x_test, y_train, y_test = train_test_split(X, Y, test_size=0.20, random_state=1)\n",
    "# create a Linear Regression model object.\n",
    "single_regression_model = LinearRegression()\n",
    "# pass through the X_train & y_train data set.\n",
    "single_regression_model.fit(x_train, y_train)\n",
    "\n",
    "# create prediction value\n",
    "y_predict = single_regression_model.predict(x_test)\n",
    "\n",
    "# calculate the mean squared error.\n",
    "model_mse = mean_squared_error(y_test, y_predict)\n",
    "# calculate the mean absolute error.\n",
    "model_mae = mean_absolute_error(y_test, y_predict)\n",
    "# calulcate the root mean squared error\n",
    "model_rmse =  math.sqrt(model_mse)\n",
    "\n",
    "# display the output\n",
    "print(\"MSE {:3}\".format(model_mse))\n",
    "print(\"MAE {:3}\".format(model_mae))\n",
    "print(\"RMSE {:3}\".format(model_rmse))"
   ]
  },
  {
   "cell_type": "code",
   "execution_count": null,
   "metadata": {
    "ExecuteTime": {
     "end_time": "2020-05-06T19:23:39.106223Z",
     "start_time": "2020-05-06T19:23:39.101238Z"
    },
    "hidden": true
   },
   "outputs": [],
   "source": [
    "model_r2 = r2_score(y_test, y_predict)\n",
    "print(\"R2: {:.2}\".format(model_r2))"
   ]
  },
  {
   "cell_type": "code",
   "execution_count": null,
   "metadata": {
    "ExecuteTime": {
     "end_time": "2020-05-06T19:23:44.663849Z",
     "start_time": "2020-05-06T19:23:44.505271Z"
    },
    "hidden": true
   },
   "outputs": [],
   "source": [
    "# Grab the residuals & then call the hist() method\n",
    "(y_test - y_predict).hist(grid = False, color = 'royalblue')\n",
    "plt.title(\"Model Residuals\")\n",
    "plt.show()"
   ]
  },
  {
   "cell_type": "code",
   "execution_count": null,
   "metadata": {
    "ExecuteTime": {
     "end_time": "2020-05-06T19:23:50.229144Z",
     "start_time": "2020-05-06T19:23:50.044622Z"
    },
    "hidden": true
   },
   "outputs": [],
   "source": [
    "# Plot outputs\n",
    "plt.scatter(x_test, y_test,  color='red', label = 'Y')\n",
    "plt.plot(x_test, y_predict, color='royalblue', linewidth = 3, linestyle= '-',label ='Regression Line')\n",
    "\n",
    "plt.title(\"X VS Y\")\n",
    "plt.xlabel(\"x\")\n",
    "plt.ylabel(\"y\")\n",
    "plt.legend()\n",
    "plt.show()"
   ]
  },
  {
   "cell_type": "markdown",
   "metadata": {
    "heading_collapsed": true
   },
   "source": [
    "## Variable test ?"
   ]
  },
  {
   "cell_type": "code",
   "execution_count": null,
   "metadata": {
    "ExecuteTime": {
     "end_time": "2020-05-06T19:23:27.635729Z",
     "start_time": "2020-05-06T19:23:26.174622Z"
    },
    "hidden": true
   },
   "outputs": [],
   "source": [
    "#Create subset test for testing ideal element\n",
    "test = data_dropna.loc[:, ['LN_Expenditure_12M_PartsNServices','LN_Avg_AnnualUsage']]\n",
    "\n",
    "X = test[['LN_Avg_AnnualUsage']]\n",
    "Y = test[['LN_Expenditure_12M_PartsNServices']]\n",
    "\n",
    "#test.describe()\n",
    "#scatter plot\n",
    "sns.pairplot(test, kind='reg', diag_kind='hist',\n",
    "             height=3, aspect=1,\n",
    "             plot_kws={'scatter_kws': {'alpha': 0.7}})\n",
    "#plt.savefig('..\\\\data\\\\Output\\\\LN_Avg_AnnualUsage')"
   ]
  },
  {
   "cell_type": "code",
   "execution_count": null,
   "metadata": {
    "ExecuteTime": {
     "end_time": "2020-05-06T19:23:29.251850Z",
     "start_time": "2020-05-06T19:23:29.243867Z"
    },
    "hidden": true
   },
   "outputs": [],
   "source": [
    "test.corr()"
   ]
  },
  {
   "cell_type": "code",
   "execution_count": null,
   "metadata": {
    "ExecuteTime": {
     "end_time": "2020-05-06T19:23:30.677933Z",
     "start_time": "2020-05-06T19:23:30.366803Z"
    },
    "hidden": true,
    "scrolled": false
   },
   "outputs": [],
   "source": [
    "test.hist(grid = True, color = 'CadetBlue')"
   ]
  },
  {
   "cell_type": "code",
   "execution_count": null,
   "metadata": {
    "ExecuteTime": {
     "end_time": "2020-05-06T19:23:31.751800Z",
     "start_time": "2020-05-06T19:23:31.737827Z"
    },
    "hidden": true
   },
   "outputs": [],
   "source": [
    "# create a OLS model.\n",
    "model = sm.OLS(Y, X)\n",
    "\n",
    "#Print\n",
    "results = model.fit()\n",
    "print(results.summary())"
   ]
  },
  {
   "cell_type": "code",
   "execution_count": null,
   "metadata": {
    "ExecuteTime": {
     "end_time": "2020-05-06T19:23:35.337546Z",
     "start_time": "2020-05-06T19:23:35.331554Z"
    },
    "hidden": true
   },
   "outputs": [],
   "source": [
    "# estimate the p-values\n",
    "results.pvalues"
   ]
  },
  {
   "cell_type": "code",
   "execution_count": null,
   "metadata": {
    "ExecuteTime": {
     "end_time": "2020-05-06T19:23:37.927403Z",
     "start_time": "2020-05-06T19:23:37.912463Z"
    },
    "hidden": true
   },
   "outputs": [],
   "source": [
    "# Split X and y into X_\n",
    "x_train, x_test, y_train, y_test = train_test_split(X, Y, test_size=0.20, random_state=1)\n",
    "# create a Linear Regression model object.\n",
    "single_regression_model = LinearRegression()\n",
    "# pass through the X_train & y_train data set.\n",
    "single_regression_model.fit(x_train, y_train)\n",
    "\n",
    "# create prediction value\n",
    "y_predict = single_regression_model.predict(x_test)\n",
    "\n",
    "# calculate the mean squared error.\n",
    "model_mse = mean_squared_error(y_test, y_predict)\n",
    "# calculate the mean absolute error.\n",
    "model_mae = mean_absolute_error(y_test, y_predict)\n",
    "# calulcate the root mean squared error\n",
    "model_rmse =  math.sqrt(model_mse)\n",
    "\n",
    "# display the output\n",
    "print(\"MSE {:3}\".format(model_mse))\n",
    "print(\"MAE {:3}\".format(model_mae))\n",
    "print(\"RMSE {:3}\".format(model_rmse))"
   ]
  },
  {
   "cell_type": "code",
   "execution_count": null,
   "metadata": {
    "ExecuteTime": {
     "end_time": "2020-05-06T19:23:39.106223Z",
     "start_time": "2020-05-06T19:23:39.101238Z"
    },
    "hidden": true
   },
   "outputs": [],
   "source": [
    "model_r2 = r2_score(y_test, y_predict)\n",
    "print(\"R2: {:.2}\".format(model_r2))"
   ]
  },
  {
   "cell_type": "code",
   "execution_count": null,
   "metadata": {
    "ExecuteTime": {
     "end_time": "2020-05-06T19:23:44.663849Z",
     "start_time": "2020-05-06T19:23:44.505271Z"
    },
    "hidden": true
   },
   "outputs": [],
   "source": [
    "# Grab the residuals & then call the hist() method\n",
    "(y_test - y_predict).hist(grid = False, color = 'royalblue')\n",
    "plt.title(\"Model Residuals\")\n",
    "plt.show()"
   ]
  },
  {
   "cell_type": "code",
   "execution_count": null,
   "metadata": {
    "ExecuteTime": {
     "end_time": "2020-05-06T19:23:50.229144Z",
     "start_time": "2020-05-06T19:23:50.044622Z"
    },
    "hidden": true
   },
   "outputs": [],
   "source": [
    "# Plot outputs\n",
    "plt.scatter(x_test, y_test,  color='red', label = '')\n",
    "plt.plot(x_test, y_predict, color='royalblue', linewidth = 3, linestyle= '-',label ='Regression Line')\n",
    "\n",
    "plt.title(\"X VS Y\")\n",
    "plt.xlabel(\"x\")\n",
    "plt.ylabel(\"y\")\n",
    "plt.legend()\n",
    "plt.show()"
   ]
  },
  {
   "cell_type": "markdown",
   "metadata": {
    "heading_collapsed": true
   },
   "source": [
    "# 5 Regression Model Y = LN_Expenditure_12M_PartsNServices"
   ]
  },
  {
   "cell_type": "markdown",
   "metadata": {
    "heading_collapsed": true,
    "hidden": true
   },
   "source": [
    "## 1 OLS"
   ]
  },
  {
   "cell_type": "code",
   "execution_count": null,
   "metadata": {
    "ExecuteTime": {
     "end_time": "2020-05-06T19:28:53.682236Z",
     "start_time": "2020-05-06T19:28:53.658302Z"
    },
    "hidden": true,
    "scrolled": false
   },
   "outputs": [],
   "source": [
    "data_dropna = data_filtered.dropna()\n",
    "# define our input variable (X) & output variable\n",
    "X = data_dropna.drop('LN_Expenditure_12M_PartsNServices', axis = 1)\n",
    "Y = data_dropna[['LN_Expenditure_12M_PartsNServices']]\n",
    "\n",
    "#OLS Model\n",
    "model = sm.OLS(Y, X)\n",
    "\n",
    "results = model.fit()\n",
    "print(results.summary())"
   ]
  },
  {
   "cell_type": "code",
   "execution_count": null,
   "metadata": {
    "ExecuteTime": {
     "end_time": "2020-05-06T19:29:00.283809Z",
     "start_time": "2020-05-06T19:29:00.275868Z"
    },
    "hidden": true
   },
   "outputs": [],
   "source": [
    "results.conf_int()"
   ]
  },
  {
   "cell_type": "code",
   "execution_count": null,
   "metadata": {
    "ExecuteTime": {
     "end_time": "2020-05-06T19:27:28.557784Z",
     "start_time": "2020-05-06T19:27:28.550842Z"
    },
    "hidden": true,
    "scrolled": false
   },
   "outputs": [],
   "source": [
    "results.pvalues"
   ]
  },
  {
   "cell_type": "markdown",
   "metadata": {
    "heading_collapsed": true,
    "hidden": true
   },
   "source": [
    "## 2 Regression Model"
   ]
  },
  {
   "cell_type": "code",
   "execution_count": null,
   "metadata": {
    "ExecuteTime": {
     "end_time": "2020-05-06T19:28:55.867681Z",
     "start_time": "2020-05-06T19:28:55.848732Z"
    },
    "hidden": true
   },
   "outputs": [],
   "source": [
    "# Split X and y into X_\n",
    "X_train, X_test, y_train, y_test = train_test_split(X, Y, test_size=0.20, random_state=1)\n",
    "\n",
    "# create a Linear Regression model object\n",
    "regression_model = LinearRegression()\n",
    "\n",
    "# pass through the X_train & y_train data set\n",
    "regression_model.fit(X_train, y_train)\n",
    "\n",
    "# prediction model\n",
    "y_predict = regression_model.predict(X_test)\n",
    "\n",
    "# calculate the mean squared error\n",
    "model_mse = mean_squared_error(y_test, y_predict)\n",
    "\n",
    "# calculate the mean absolute error\n",
    "model_mae = mean_absolute_error(y_test, y_predict)\n",
    "\n",
    "# calulcate the root mean squared error\n",
    "model_rmse =  math.sqrt(model_mse)\n",
    "\n",
    "# display the output\n",
    "print(\"MSE {:.3}\".format(model_mse))\n",
    "print(\"MAE {:.3}\".format(model_mae))\n",
    "print(\"RMSE {:.3}\".format(model_rmse))"
   ]
  },
  {
   "cell_type": "code",
   "execution_count": null,
   "metadata": {
    "ExecuteTime": {
     "end_time": "2020-05-06T19:28:56.611865Z",
     "start_time": "2020-05-06T19:28:56.603848Z"
    },
    "hidden": true
   },
   "outputs": [],
   "source": [
    "model_r2 = r2_score(y_test, y_predict)\n",
    "print(\"R2: {:.2}\".format(model_r2))"
   ]
  },
  {
   "cell_type": "markdown",
   "metadata": {
    "ExecuteTime": {
     "end_time": "2020-05-04T19:53:40.000282Z",
     "start_time": "2020-05-04T19:53:39.995262Z"
    },
    "heading_collapsed": true,
    "hidden": true
   },
   "source": [
    "## 3 Test for Multicollinearity /  VIF Test"
   ]
  },
  {
   "cell_type": "code",
   "execution_count": null,
   "metadata": {
    "ExecuteTime": {
     "end_time": "2020-05-06T19:29:18.810187Z",
     "start_time": "2020-05-06T19:29:18.781296Z"
    },
    "hidden": true,
    "scrolled": false
   },
   "outputs": [],
   "source": [
    "# define two data frames one before the drop and one after the drop\n",
    "df_before = data_dropna\n",
    "df_after = data_dropna.drop([], axis = 1)\n",
    "\n",
    "# the VFI does expect a constant term in the data, so we need to add one using the add_constant method\n",
    "X1 = sm.tools.add_constant(df_before)\n",
    "X2 = sm.tools.add_constant(df_after)\n",
    "\n",
    "# create the series for both\n",
    "series_before = pd.Series([variance_inflation_factor(X1.values, i) for i in range(X1.shape[1])], index=X1.columns)\n",
    "series_after = pd.Series([variance_inflation_factor(X2.values, i) for i in range(X2.shape[1])], index=X2.columns)\n",
    "\n",
    "# display the series\n",
    "print('DATA BEFORE')\n",
    "print('-'*100)\n",
    "display(series_before)\n",
    "\n",
    "print('DATA AFTER')\n",
    "print('-'*100)\n",
    "display(series_after)"
   ]
  },
  {
   "cell_type": "markdown",
   "metadata": {
    "heading_collapsed": true,
    "hidden": true
   },
   "source": [
    "## 4 Testing for Autocorrelation"
   ]
  },
  {
   "cell_type": "code",
   "execution_count": null,
   "metadata": {
    "ExecuteTime": {
     "end_time": "2020-05-06T19:29:25.110567Z",
     "start_time": "2020-05-06T19:29:24.904117Z"
    },
    "hidden": true,
    "scrolled": false
   },
   "outputs": [],
   "source": [
    "# define our input variable (X) & output variable\n",
    "X = data_dropna.drop('LN_Expenditure_12M_PartsNServices', axis = 1)\n",
    "Y = data_dropna[['LN_Expenditure_12M_PartsNServices']]\n",
    "\n",
    "# test for Autocorrelation\n",
    "from statsmodels.stats.stattools import durbin_watson\n",
    "\n",
    "# define our intput\n",
    "X2 = sm.add_constant(X)\n",
    "\n",
    "# create a OLS model\n",
    "model = sm.OLS(Y, X2)\n",
    "\n",
    "# fit the data\n",
    "est = model.fit()\n",
    "\n",
    "# calculate the lag, optional\n",
    "lag = min(10, (len(X)//5))\n",
    "print('The number of lags will be {}'.format(lag))\n",
    "print('-'*100)\n",
    "\n",
    "# run the Ljung-Box test for no autocorrelation of residuals\n",
    "# test_results = diag.acorr_breusch_godfrey(est, nlags = lag, store = True)\n",
    "test_results = diag.acorr_ljungbox(est.resid, lags = lag)\n",
    "\n",
    "# grab the p-values and the test statistics\n",
    "ibvalue, p_val = test_results\n",
    "\n",
    "# print the results of the test\n",
    "if min(p_val) > 0.05:\n",
    "    print(\"The lowest p-value found was {:.4}\".format(min(p_val)))\n",
    "    print(\"We fail to reject the null hypthoesis, so there is no autocorrelation.\")\n",
    "    print('-'*100)\n",
    "else:\n",
    "    print(\"The lowest p-value found was {:.4}\".format(min(p_val)))\n",
    "    print(\"We reject the null hypthoesis, so there is autocorrelation.\")\n",
    "    print('-'*100)\n",
    "\n",
    "# plot autocorrelation\n",
    "sm.graphics.tsa.plot_acf(est.resid)\n",
    "plt.show()"
   ]
  },
  {
   "cell_type": "markdown",
   "metadata": {
    "heading_collapsed": true,
    "hidden": true
   },
   "source": [
    "## 5 Testing the Mean of the Residuals Equals 0"
   ]
  },
  {
   "cell_type": "code",
   "execution_count": null,
   "metadata": {
    "ExecuteTime": {
     "end_time": "2020-05-06T19:29:28.850544Z",
     "start_time": "2020-05-06T19:29:28.683185Z"
    },
    "hidden": true
   },
   "outputs": [],
   "source": [
    "# check for the normality of the residuals\n",
    "sm.qqplot(results.resid, line='s')\n",
    "pylab.show()\n",
    "\n",
    "# also check that the mean of the residuals is approx. 0.\n",
    "mean_residuals = sum(results.resid)/ len(results.resid)\n",
    "print(\"The mean of the residuals is {:.4}\".format(mean_residuals))"
   ]
  },
  {
   "cell_type": "markdown",
   "metadata": {
    "heading_collapsed": true,
    "hidden": true
   },
   "source": [
    "## 6 Testing for Heteroskedasticity"
   ]
  },
  {
   "cell_type": "code",
   "execution_count": null,
   "metadata": {
    "ExecuteTime": {
     "end_time": "2020-05-06T19:29:35.192402Z",
     "start_time": "2020-05-06T19:29:35.180460Z"
    },
    "hidden": true
   },
   "outputs": [],
   "source": [
    "# Run the Breusch-Pagan test\n",
    "_, pval, __, f_pval = diag.het_breuschpagan(results.resid, results.model.exog)\n",
    "print(pval, f_pval)\n",
    "print('-'*100)\n",
    "\n",
    "# print the results of the test\n",
    "if pval > 0.05:\n",
    "    print(\"For the Breusch-Pagan's Test\")\n",
    "    print(\"The p-value was {:.4}\".format(pval))\n",
    "    print(\"We fail to reject the null hypthoesis, so there is no heterosecdasticity.\")\n",
    "\n",
    "else:\n",
    "    print(\"For the Breusch-Pagan's Test\")\n",
    "    print(\"The p-value was {:.4}\".format(pval))\n",
    "    print(\"We reject the null hypthoesis, so there is heterosecdasticity.\")\n",
    "\n"
   ]
  }
 ],
 "metadata": {
  "kernelspec": {
   "display_name": "Python 3",
   "language": "python",
   "name": "python3"
  },
  "language_info": {
   "codemirror_mode": {
    "name": "ipython",
    "version": 3
   },
   "file_extension": ".py",
   "mimetype": "text/x-python",
   "name": "python",
   "nbconvert_exporter": "python",
   "pygments_lexer": "ipython3",
   "version": "3.7.6"
  },
  "varInspector": {
   "cols": {
    "lenName": 16,
    "lenType": 16,
    "lenVar": "100"
   },
   "kernels_config": {
    "python": {
     "delete_cmd_postfix": "",
     "delete_cmd_prefix": "del ",
     "library": "var_list.py",
     "varRefreshCmd": "print(var_dic_list())"
    },
    "r": {
     "delete_cmd_postfix": ") ",
     "delete_cmd_prefix": "rm(",
     "library": "var_list.r",
     "varRefreshCmd": "cat(var_dic_list()) "
    }
   },
   "types_to_exclude": [
    "module",
    "function",
    "builtin_function_or_method",
    "instance",
    "_Feature"
   ],
   "window_display": false
  }
 },
 "nbformat": 4,
 "nbformat_minor": 2
}
