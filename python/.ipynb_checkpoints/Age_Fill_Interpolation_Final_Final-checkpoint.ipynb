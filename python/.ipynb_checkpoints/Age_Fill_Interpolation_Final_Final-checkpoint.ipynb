{
 "cells": [
  {
   "cell_type": "markdown",
   "metadata": {
    "ExecuteTime": {
     "end_time": "2020-05-21T13:39:00.253441Z",
     "start_time": "2020-05-21T13:39:00.249440Z"
    },
    "heading_collapsed": true
   },
   "source": [
    "#  Explore"
   ]
  },
  {
   "cell_type": "code",
   "execution_count": null,
   "metadata": {
    "ExecuteTime": {
     "end_time": "2020-05-24T14:10:23.380873Z",
     "start_time": "2020-05-24T14:10:23.377919Z"
    },
    "hidden": true
   },
   "outputs": [],
   "source": [
    "#Libraries\n",
    "import pandas as pd\n",
    "import seaborn as sns\n",
    "from scipy import stats"
   ]
  },
  {
   "cell_type": "code",
   "execution_count": null,
   "metadata": {
    "ExecuteTime": {
     "end_time": "2020-05-24T13:40:52.830414Z",
     "start_time": "2020-05-24T13:40:51.718222Z"
    },
    "hidden": true
   },
   "outputs": [],
   "source": [
    "#Load Data\n",
    "df = pd.read_excel('..\\\\data\\\\EquipmentAge_Partial_Partial.xlsx', index_col='EquipmentCode')"
   ]
  },
  {
   "cell_type": "code",
   "execution_count": null,
   "metadata": {
    "ExecuteTime": {
     "end_time": "2020-05-24T13:40:53.873879Z",
     "start_time": "2020-05-24T13:40:53.858917Z"
    },
    "hidden": true,
    "scrolled": false
   },
   "outputs": [],
   "source": [
    "#How many prefixes did i load?\n",
    "Prefix = list(dict.fromkeys(list(df['SN1'])))\n",
    "Prefix"
   ]
  },
  {
   "cell_type": "code",
   "execution_count": null,
   "metadata": {
    "ExecuteTime": {
     "end_time": "2020-05-24T13:41:59.078819Z",
     "start_time": "2020-05-24T13:41:59.049853Z"
    },
    "hidden": true
   },
   "outputs": [],
   "source": [
    "# Testing with BZY\n",
    "BZY = df.drop(df.index[df.SN1 != 'BZY'])\n",
    "BZY.describe()"
   ]
  },
  {
   "cell_type": "code",
   "execution_count": null,
   "metadata": {
    "ExecuteTime": {
     "end_time": "2020-05-24T13:42:01.970633Z",
     "start_time": "2020-05-24T13:42:01.964663Z"
    },
    "hidden": true
   },
   "outputs": [],
   "source": [
    "#Print out columns for copy and paste\n",
    "BZY.columns"
   ]
  },
  {
   "cell_type": "code",
   "execution_count": null,
   "metadata": {
    "ExecuteTime": {
     "end_time": "2020-05-24T13:42:03.422839Z",
     "start_time": "2020-05-24T13:42:03.417852Z"
    },
    "hidden": true
   },
   "outputs": [],
   "source": [
    "#First play with Age_From_DBS. I need SN2 for matching and drop everything else.\n",
    "Explore = BZY.drop(['SerialNumber', 'SN1'\n",
    "#                     , 'SN2'\n",
    "                    , 'ModelName'\n",
    "#                     , 'Age_From_DBS'\n",
    "                    ,'Age_From_Delivery'\n",
    "                    , 'Combined_Age_Pro_Built_Year'\n",
    "                    ,'Combined_Age_Pro_Delivery'],axis=1)"
   ]
  },
  {
   "cell_type": "code",
   "execution_count": null,
   "metadata": {
    "ExecuteTime": {
     "end_time": "2020-05-24T13:42:04.504383Z",
     "start_time": "2020-05-24T13:42:04.499359Z"
    },
    "hidden": true
   },
   "outputs": [],
   "source": [
    "#Check columns again\n",
    "Explore.columns"
   ]
  },
  {
   "cell_type": "code",
   "execution_count": null,
   "metadata": {
    "ExecuteTime": {
     "end_time": "2020-05-24T13:42:06.406691Z",
     "start_time": "2020-05-24T13:42:05.254912Z"
    },
    "hidden": true,
    "scrolled": false
   },
   "outputs": [],
   "source": [
    "#Check scatter plot and distribution\n",
    "sns.pairplot(Explore, kind='reg', diag_kind='hist',\n",
    "height=4, aspect=1,\n",
    "plot_kws={'scatter_kws': {'alpha': 0.7}})"
   ]
  },
  {
   "cell_type": "code",
   "execution_count": null,
   "metadata": {
    "ExecuteTime": {
     "end_time": "2020-05-24T13:42:08.773592Z",
     "start_time": "2020-05-24T13:42:08.761565Z"
    },
    "hidden": true
   },
   "outputs": [],
   "source": [
    "# From the scatter, i can tell this is not exactly a linear relationship. Do a few more.\n",
    "Prefix"
   ]
  },
  {
   "cell_type": "code",
   "execution_count": null,
   "metadata": {
    "ExecuteTime": {
     "end_time": "2020-05-24T13:42:12.376851Z",
     "start_time": "2020-05-24T13:42:11.323635Z"
    },
    "hidden": true
   },
   "outputs": [],
   "source": [
    "RKB = df.drop(df.index[df.SN1 != 'RKB'])\n",
    "\n",
    "Explore = RKB.drop(['SerialNumber', 'SN1'                    , 'ModelName'                    ,'Age_From_Delivery'                    , 'Combined_Age_Pro_Built_Year','Combined_Age_Pro_Delivery'],axis=1)\n",
    "\n",
    "sns.pairplot(Explore, kind='reg', diag_kind='hist', height=4, aspect=1, plot_kws={'scatter_kws': {'alpha': 0.7}}) "
   ]
  },
  {
   "cell_type": "code",
   "execution_count": null,
   "metadata": {
    "ExecuteTime": {
     "end_time": "2020-05-24T13:42:14.651429Z",
     "start_time": "2020-05-24T13:42:13.530400Z"
    },
    "hidden": true
   },
   "outputs": [],
   "source": [
    "SPN = df.drop(df.index[df.SN1 != 'SPN'])\n",
    "\n",
    "Explore = SPN.drop(['SerialNumber', 'SN1'                    , 'ModelName'                    ,'Age_From_Delivery'                    , 'Combined_Age_Pro_Built_Year','Combined_Age_Pro_Delivery'],axis=1)\n",
    "\n",
    "sns.pairplot(Explore, kind='reg', diag_kind='hist', height=4, aspect=1, plot_kws={'scatter_kws': {'alpha': 0.7}}) "
   ]
  },
  {
   "cell_type": "code",
   "execution_count": null,
   "metadata": {
    "ExecuteTime": {
     "end_time": "2020-05-24T13:42:20.972266Z",
     "start_time": "2020-05-24T13:42:19.854232Z"
    },
    "hidden": true
   },
   "outputs": [],
   "source": [
    "EMB = df.drop(df.index[df.SN1 != 'EMB'])\n",
    "\n",
    "Explore = EMB.drop(['SerialNumber', 'SN1'                    , 'ModelName'                    ,'Age_From_Delivery'                    , 'Combined_Age_Pro_Built_Year','Combined_Age_Pro_Delivery'],axis=1)\n",
    "\n",
    "sns.pairplot(Explore, kind='reg', diag_kind='hist', height=4, aspect=1, plot_kws={'scatter_kws': {'alpha': 0.7}}) "
   ]
  },
  {
   "cell_type": "code",
   "execution_count": null,
   "metadata": {
    "ExecuteTime": {
     "end_time": "2020-05-24T13:42:24.411823Z",
     "start_time": "2020-05-24T13:42:23.261868Z"
    },
    "hidden": true
   },
   "outputs": [],
   "source": [
    "B1M = df.drop(df.index[df.SN1 != 'B1M'])\n",
    "Explore = B1M.drop(['SerialNumber', 'SN1'                    , 'ModelName'                    ,'Age_From_Delivery'                    , 'Combined_Age_Pro_Built_Year','Combined_Age_Pro_Delivery'],axis=1)\n",
    "sns.pairplot(Explore, kind='reg', diag_kind='hist', height=4, aspect=1, plot_kws={'scatter_kws': {'alpha': 0.7}}) "
   ]
  },
  {
   "cell_type": "code",
   "execution_count": null,
   "metadata": {
    "ExecuteTime": {
     "end_time": "2020-05-24T15:03:08.868886Z",
     "start_time": "2020-05-24T15:03:08.130356Z"
    },
    "hidden": true
   },
   "outputs": [],
   "source": [
    "TZA = df.drop(df.index[df.SN1 != 'TZA'])\n",
    "Explore = TZA.drop(['SerialNumber', 'SN1'                    , 'ModelName'                    ,'Age_From_Delivery'                    , 'Combined_Age_Pro_Built_Year','Combined_Age_Pro_Delivery'],axis=1)\n",
    "sns.pairplot(Explore, kind='reg', diag_kind='hist', height=4, aspect=1, plot_kws={'scatter_kws': {'alpha': 0.7}}) "
   ]
  },
  {
   "cell_type": "markdown",
   "metadata": {
    "heading_collapsed": true
   },
   "source": [
    "# Model"
   ]
  },
  {
   "cell_type": "code",
   "execution_count": null,
   "metadata": {
    "ExecuteTime": {
     "end_time": "2020-05-24T13:42:28.206418Z",
     "start_time": "2020-05-24T13:42:28.200434Z"
    },
    "hidden": true
   },
   "outputs": [],
   "source": [
    "#Since we are filling missing data in a sequencial curce, I decided to use interpolation function to estimate cat production rate.\n",
    "Data_found = Explore.dropna()"
   ]
  },
  {
   "cell_type": "code",
   "execution_count": null,
   "metadata": {
    "ExecuteTime": {
     "end_time": "2020-05-24T13:42:31.393714Z",
     "start_time": "2020-05-24T13:42:31.386765Z"
    },
    "hidden": true
   },
   "outputs": [],
   "source": [
    "#Convert both SN2 and age to interger. I don't kno\n",
    "X = Data_found[['SN2']].squeeze()\n",
    "Y = Data_found[['Age_From_DBS']].squeeze()\n",
    "X = X.astype(int)\n",
    "Y = Y.astype(int)"
   ]
  },
  {
   "cell_type": "code",
   "execution_count": null,
   "metadata": {
    "ExecuteTime": {
     "end_time": "2020-05-24T14:39:59.200672Z",
     "start_time": "2020-05-24T14:39:59.196682Z"
    },
    "hidden": true
   },
   "outputs": [],
   "source": [
    "from scipy import interpolate\n",
    "from scipy.interpolate import *\n",
    "\n",
    "# Scipy learn interp1d\n",
    "model = interp1d(X, Y,kind='linear',fill_value=\"extrapolate\")\n",
    "\n",
    "#Scipy developer note: #Note.  At the end i will test different interpolation \"kind\" by comparing linear regression errors.\n",
    "#Note2: kind: str or int, optional\n",
    "# Specifies the kind of interpolation as a string (‘linear’, ‘nearest’, ‘zero’, ‘slinear’, ‘quadratic’, ‘cubic’, ‘previous’, ‘next’, where ‘zero’, ‘slinear’, ‘quadratic’ and ‘cubic’ refer to a spline interpolation of zeroth, first, second or third order; ‘previous’ and ‘next’ simply return the previous or next value of the point) or as an integer specifying the order of the spline interpolator to use. Default is ‘linear’."
   ]
  },
  {
   "cell_type": "code",
   "execution_count": null,
   "metadata": {
    "ExecuteTime": {
     "end_time": "2020-05-24T13:42:33.619911Z",
     "start_time": "2020-05-24T13:42:33.609937Z"
    },
    "hidden": true,
    "scrolled": false
   },
   "outputs": [],
   "source": [
    "# Predict all machines in explore which i did not drop na\n",
    "Predict = Explore\n",
    "for idx in Predict.index.values:\n",
    "    Predict.loc[idx, 'Predicted_Age_By_DBS_Year'] = model(Predict.loc[idx, 'SN2'])"
   ]
  },
  {
   "cell_type": "code",
   "execution_count": null,
   "metadata": {
    "ExecuteTime": {
     "end_time": "2020-05-24T13:42:34.659608Z",
     "start_time": "2020-05-24T13:42:34.651591Z"
    },
    "hidden": true
   },
   "outputs": [],
   "source": [
    "# Check Output\n",
    "Check_Output = Predict.dropna()\n",
    "print(Check_Output)"
   ]
  },
  {
   "cell_type": "code",
   "execution_count": null,
   "metadata": {
    "ExecuteTime": {
     "end_time": "2020-05-24T13:42:37.093052Z",
     "start_time": "2020-05-24T13:42:36.037697Z"
    },
    "hidden": true
   },
   "outputs": [],
   "source": [
    "Check_Output = Check_Output.drop(['SN2'],axis=1)\n",
    "\n",
    "sns.pairplot(Check_Output, kind='reg', diag_kind='hist', height=4, aspect=1, plot_kws={'scatter_kws': {'alpha': 0.7}}) "
   ]
  },
  {
   "cell_type": "markdown",
   "metadata": {
    "hidden": true
   },
   "source": [
    "## Smoothing kind and error tests"
   ]
  },
  {
   "cell_type": "markdown",
   "metadata": {
    "hidden": true
   },
   "source": [
    "### linear"
   ]
  },
  {
   "cell_type": "code",
   "execution_count": null,
   "metadata": {
    "ExecuteTime": {
     "end_time": "2020-05-24T13:44:34.250680Z",
     "start_time": "2020-05-24T13:44:34.139698Z"
    },
    "hidden": true
   },
   "outputs": [],
   "source": [
    "df = pd.read_excel('..\\\\data\\\\EquipmentAge_Partial.xlsx', index_col='EquipmentCode')"
   ]
  },
  {
   "cell_type": "code",
   "execution_count": null,
   "metadata": {
    "ExecuteTime": {
     "end_time": "2020-05-24T13:44:35.422168Z",
     "start_time": "2020-05-24T13:44:35.418164Z"
    },
    "hidden": true
   },
   "outputs": [],
   "source": [
    "Prefix = list(dict.fromkeys(list(df['SN1'])))"
   ]
  },
  {
   "cell_type": "code",
   "execution_count": null,
   "metadata": {
    "ExecuteTime": {
     "end_time": "2020-05-24T13:44:39.166976Z",
     "start_time": "2020-05-24T13:44:38.621385Z"
    },
    "hidden": true,
    "scrolled": true
   },
   "outputs": [],
   "source": [
    "Results = pd.DataFrame()\n",
    "\n",
    "for x in Prefix:\n",
    "    Looping_Prefix = df.drop(df.index[df.SN1 != x])\n",
    "    Looping_Prefix = Looping_Prefix.drop(['SerialNumber', 'SN1'                    , 'ModelName'                    ,'Age_From_Delivery'                    , 'Combined_Age_Pro_Built_Year','Combined_Age_Pro_Delivery'],axis=1)\n",
    "\n",
    "# #     print('Training data selection complete, starting prefix:',x)\n",
    "        \n",
    "    Train = Looping_Prefix.dropna()\n",
    "    X = Train[['SN2']].squeeze()\n",
    "    Y = Train[['Age_From_DBS']].squeeze()\n",
    "    X = X.astype(int)\n",
    "    Y = Y.astype(int)\n",
    "    model = interp1d(X, Y,kind='linear',fill_value=\"extrapolate\")\\\n",
    "    \n",
    "#Scipy developer note: Note.  At the end i will test different interpolation \"kind\" by comparing linear regression errors.\n",
    "#Note2: kind: str or int, optional\n",
    "# Specifies the kind of interpolation as a string (‘linear’, ‘nearest’, ‘zero’, ‘slinear’, ‘quadratic’, ‘cubic’, ‘previous’, ‘next’, where ‘zero’, ‘slinear’, ‘quadratic’ and ‘cubic’ refer to a spline interpolation of zeroth, first, second or third order; ‘previous’ and ‘next’ simply return the previous or next value of the point) or as an integer specifying the order of the spline interpolator to use. Default is ‘linear’.\n",
    "    \n",
    "    print('Training complete')\n",
    "    \n",
    "    Predict = Looping_Prefix\n",
    "    for idx in Predict.index.values:\n",
    "        Predict.loc[idx, 'Predicted_Age_By_DBS_Year'] = model(Predict.loc[idx, 'SN2'])\n",
    "        \n",
    "#         print('Prediction complete')\n",
    "        \n",
    "    Results = Results.append([Predict])\n",
    "    \n",
    "    print('Appending final results complete')\n",
    "Results.describe()\n",
    "# Results.to_csv('..\\\\data\\\\Output\\\\Age_Predict.csv')"
   ]
  },
  {
   "cell_type": "code",
   "execution_count": null,
   "metadata": {
    "ExecuteTime": {
     "end_time": "2020-05-24T13:44:42.289979Z",
     "start_time": "2020-05-24T13:44:41.790581Z"
    },
    "hidden": true
   },
   "outputs": [],
   "source": [
    "# Check for errors. I can select different interp1d 'kind' for best results\n",
    "import statsmodels.api as sm"
   ]
  },
  {
   "cell_type": "code",
   "execution_count": null,
   "metadata": {
    "ExecuteTime": {
     "end_time": "2020-05-24T13:44:55.772790Z",
     "start_time": "2020-05-24T13:44:55.752841Z"
    },
    "hidden": true
   },
   "outputs": [],
   "source": [
    "Test = Results\n",
    "Test.describe()"
   ]
  },
  {
   "cell_type": "code",
   "execution_count": null,
   "metadata": {
    "ExecuteTime": {
     "end_time": "2020-05-24T13:48:42.920535Z",
     "start_time": "2020-05-24T13:48:42.904578Z"
    },
    "hidden": true
   },
   "outputs": [],
   "source": [
    "Test = Results.dropna()\n",
    "X = Test[['Predicted_Age_By_DBS_Year']].squeeze()\n",
    "Y = Test[['Age_From_DBS']].squeeze()\n",
    "results_ols = sm.OLS(Y, X)\n",
    "results_fit = results_ols.fit()\n",
    "print(results_fit.summary())"
   ]
  },
  {
   "cell_type": "code",
   "execution_count": null,
   "metadata": {
    "ExecuteTime": {
     "end_time": "2020-05-24T13:45:08.747336Z",
     "start_time": "2020-05-24T13:45:08.220739Z"
    },
    "hidden": true
   },
   "outputs": [],
   "source": [
    "#Plot results\n",
    "sns.lmplot(x=\"Predicted_Age_By_DBS_Year\", y=\"Age_From_DBS\", data=Test, x_estimator=np.mean);"
   ]
  },
  {
   "cell_type": "code",
   "execution_count": null,
   "metadata": {
    "ExecuteTime": {
     "end_time": "2020-05-24T13:46:03.593409Z",
     "start_time": "2020-05-24T13:46:02.700279Z"
    },
    "hidden": true
   },
   "outputs": [],
   "source": [
    "import math\n",
    "from sklearn.metrics import mean_squared_error, mean_absolute_error\n",
    "\n",
    "# # calculate the mean squared error\n",
    "model_mse = mean_squared_error(Y, X)\n",
    "\n",
    "# # calculate the mean absolute error\n",
    "model_mae = mean_absolute_error(Y, X)\n",
    "\n",
    "# # calulcate the root mean squared error\n",
    "model_rmse =  math.sqrt(model_mse)\n",
    "\n",
    "# # display the output\n",
    "print(\"MSE {:.3}\".format(model_mse))\n",
    "print(\"MAE {:.3}\".format(model_mae))\n",
    "print(\"RMSE {:.3}\".format(model_rmse))\n",
    "\n",
    "# Results are in months."
   ]
  },
  {
   "cell_type": "markdown",
   "metadata": {
    "hidden": true
   },
   "source": [
    "### nearest"
   ]
  },
  {
   "cell_type": "code",
   "execution_count": null,
   "metadata": {
    "ExecuteTime": {
     "end_time": "2020-05-24T13:49:30.879147Z",
     "start_time": "2020-05-24T13:49:30.390413Z"
    },
    "hidden": true,
    "scrolled": true
   },
   "outputs": [],
   "source": [
    "Results = pd.DataFrame()\n",
    "for x in Prefix:\n",
    "    Looping_Prefix = df.drop(df.index[df.SN1 != x])\n",
    "    Looping_Prefix = Looping_Prefix.drop(['SerialNumber', 'SN1'                    , 'ModelName'                    ,'Age_From_Delivery'                    , 'Combined_Age_Pro_Built_Year','Combined_Age_Pro_Delivery'],axis=1)\n",
    "\n",
    "        \n",
    "    Train = Looping_Prefix.dropna()\n",
    "    X = Train[['SN2']].squeeze()\n",
    "    Y = Train[['Age_From_DBS']].squeeze()\n",
    "    X = X.astype(int)\n",
    "    Y = Y.astype(int)\n",
    "    model = interp1d(X, Y,kind='nearest',fill_value=\"extrapolate\")\\\n",
    "    \n",
    "#Scipy developer note: Note.  At the end i will test different interpolation \"kind\" by comparing linear regression errors.\n",
    "#Note2: kind: str or int, optional\n",
    "# Specifies the kind of interpolation as a string (‘linear’, ‘nearest’, ‘zero’, ‘slinear’, ‘quadratic’, ‘cubic’, ‘previous’, ‘next’, where ‘zero’, ‘slinear’, ‘quadratic’ and ‘cubic’ refer to a spline interpolation of zeroth, first, second or third order; ‘previous’ and ‘next’ simply return the previous or next value of the point) or as an integer specifying the order of the spline interpolator to use. Default is ‘linear’.\n",
    "    \n",
    "    \n",
    "    Predict = Looping_Prefix\n",
    "    for idx in Predict.index.values:\n",
    "        Predict.loc[idx, 'Predicted_Age_By_DBS_Year'] = model(Predict.loc[idx, 'SN2'])\n",
    "        \n",
    "        \n",
    "    Results = Results.append([Predict])\n",
    "    \n",
    "Results.describe()\n",
    "# Results.to_csv('..\\\\data\\\\Output\\\\Age_Predict.csv')"
   ]
  },
  {
   "cell_type": "code",
   "execution_count": null,
   "metadata": {
    "ExecuteTime": {
     "end_time": "2020-05-24T13:49:33.296250Z",
     "start_time": "2020-05-24T13:49:33.278302Z"
    },
    "hidden": true
   },
   "outputs": [],
   "source": [
    "Test = Results.dropna()\n",
    "X = Test[['Predicted_Age_By_DBS_Year']].squeeze()\n",
    "Y = Test[['Age_From_DBS']].squeeze()\n",
    "results_ols = sm.OLS(Y, X)\n",
    "results_fit = results_ols.fit()\n",
    "print(results_fit.summary())"
   ]
  },
  {
   "cell_type": "code",
   "execution_count": null,
   "metadata": {
    "ExecuteTime": {
     "end_time": "2020-05-24T13:49:35.374171Z",
     "start_time": "2020-05-24T13:49:34.760804Z"
    },
    "hidden": true
   },
   "outputs": [],
   "source": [
    "#Plot results\n",
    "sns.lmplot(x=\"Predicted_Age_By_DBS_Year\", y=\"Age_From_DBS\", data=Test, x_estimator=np.mean);"
   ]
  },
  {
   "cell_type": "code",
   "execution_count": null,
   "metadata": {
    "ExecuteTime": {
     "end_time": "2020-05-24T13:49:36.178559Z",
     "start_time": "2020-05-24T13:49:36.172536Z"
    },
    "hidden": true
   },
   "outputs": [],
   "source": [
    "import math \n",
    "# # calculate the mean squared error\n",
    "model_mse = mean_squared_error(Y, X)\n",
    "\n",
    "# # calculate the mean absolute error\n",
    "model_mae = mean_absolute_error(Y, X)\n",
    "\n",
    "# # calulcate the root mean squared error\n",
    "model_rmse =  math.sqrt(model_mse)\n",
    "\n",
    "# # display the output\n",
    "print(\"MSE {:.3}\".format(model_mse))\n",
    "print(\"MAE {:.3}\".format(model_mae))\n",
    "print(\"RMSE {:.3}\".format(model_rmse))\n",
    "\n",
    "# Results are in months."
   ]
  },
  {
   "cell_type": "markdown",
   "metadata": {
    "hidden": true
   },
   "source": [
    "### slinear"
   ]
  },
  {
   "cell_type": "code",
   "execution_count": null,
   "metadata": {
    "ExecuteTime": {
     "end_time": "2020-05-24T13:51:47.614217Z",
     "start_time": "2020-05-24T13:51:47.575320Z"
    },
    "hidden": true
   },
   "outputs": [],
   "source": [
    "Results = pd.DataFrame()\n",
    "for x in Prefix:\n",
    "    Looping_Prefix = df.drop(df.index[df.SN1 != x])\n",
    "    Looping_Prefix = Looping_Prefix.drop(['SerialNumber', 'SN1'                    , 'ModelName'                    ,'Age_From_Delivery'                    , 'Combined_Age_Pro_Built_Year','Combined_Age_Pro_Delivery'],axis=1)\n",
    "\n",
    "        \n",
    "    Train = Looping_Prefix.dropna()\n",
    "    X = Train[['SN2']].squeeze()\n",
    "    Y = Train[['Age_From_DBS']].squeeze()\n",
    "    X = X.astype(int)\n",
    "    Y = Y.astype(int)\n",
    "    model = interp1d(X, Y,kind='slinear',fill_value=\"extrapolate\")\n",
    "    \n",
    "#Scipy developer note: Note.  At the end i will test different interpolation \"kind\" by comparing linear regression errors.\n",
    "#Note2: kind: str or int, optional\n",
    "# Specifies the kind of interpolation as a string (‘linear’, ‘nearest’, ‘zero’, ‘slinear’, ‘quadratic’, ‘cubic’, ‘previous’, ‘next’, where ‘zero’, ‘slinear’, ‘quadratic’ and ‘cubic’ refer to a spline interpolation of zeroth, first, second or third order; ‘previous’ and ‘next’ simply return the previous or next value of the point) or as an integer specifying the order of the spline interpolator to use. Default is ‘linear’.\n",
    "    \n",
    "    \n",
    "    Predict = Looping_Prefix\n",
    "    for idx in Predict.index.values:\n",
    "        Predict.loc[idx, 'Predicted_Age_By_DBS_Year'] = model(Predict.loc[idx, 'SN2'])\n",
    "        \n",
    "        \n",
    "    Results = Results.append([Predict])\n",
    "    \n",
    "Results.describe()\n",
    "# Results.to_csv('..\\\\data\\\\Output\\\\Age_Predict.csv')"
   ]
  },
  {
   "cell_type": "code",
   "execution_count": null,
   "metadata": {
    "ExecuteTime": {
     "end_time": "2020-05-24T13:49:41.873017Z",
     "start_time": "2020-05-24T13:49:41.855075Z"
    },
    "hidden": true
   },
   "outputs": [],
   "source": [
    "Test = Results.dropna()\n",
    "X = Test[['Predicted_Age_By_DBS_Year']].squeeze()\n",
    "Y = Test[['Age_From_DBS']].squeeze()\n",
    "results_ols = sm.OLS(Y, X)\n",
    "results_fit = results_ols.fit()\n",
    "print(results_fit.summary())"
   ]
  },
  {
   "cell_type": "code",
   "execution_count": null,
   "metadata": {
    "ExecuteTime": {
     "end_time": "2020-05-24T13:49:44.620416Z",
     "start_time": "2020-05-24T13:49:44.011038Z"
    },
    "hidden": true
   },
   "outputs": [],
   "source": [
    "#Plot results\n",
    "sns.lmplot(x=\"Predicted_Age_By_DBS_Year\", y=\"Age_From_DBS\", data=Test, x_estimator=np.mean);"
   ]
  },
  {
   "cell_type": "code",
   "execution_count": null,
   "metadata": {
    "ExecuteTime": {
     "end_time": "2020-05-24T13:49:45.518804Z",
     "start_time": "2020-05-24T13:49:45.512831Z"
    },
    "hidden": true
   },
   "outputs": [],
   "source": [
    "# # calculate the mean squared error\n",
    "model_mse = mean_squared_error(Y, X)\n",
    "\n",
    "# # calculate the mean absolute error\n",
    "model_mae = mean_absolute_error(Y, X)\n",
    "\n",
    "# # calulcate the root mean squared error\n",
    "model_rmse =  math.sqrt(model_mse)\n",
    "\n",
    "# # display the output\n",
    "print(\"MSE {:.3}\".format(model_mse))\n",
    "print(\"MAE {:.3}\".format(model_mae))\n",
    "print(\"RMSE {:.3}\".format(model_rmse))\n",
    "\n",
    "# Results are in months.\n",
    "\n",
    "\n",
    "\n",
    "## Type conclusion: because we have so many data samples the smoothing effect doesn't matter much. \n",
    "## Recommended type is linear"
   ]
  },
  {
   "cell_type": "markdown",
   "metadata": {
    "heading_collapsed": true
   },
   "source": [
    "# Run"
   ]
  },
  {
   "cell_type": "code",
   "execution_count": 1,
   "metadata": {
    "ExecuteTime": {
     "end_time": "2020-05-24T15:59:04.612737Z",
     "start_time": "2020-05-24T15:59:03.842292Z"
    },
    "hidden": true
   },
   "outputs": [],
   "source": [
    "#Libraries\n",
    "import pandas as pd\n",
    "import seaborn as sns\n",
    "from scipy import stats\n",
    "import statsmodels.api as sm\n",
    "import math\n",
    "from sklearn.metrics import mean_squared_error, mean_absolute_error\n",
    "from scipy import interpolate\n",
    "from scipy.interpolate import *"
   ]
  },
  {
   "cell_type": "code",
   "execution_count": 2,
   "metadata": {
    "ExecuteTime": {
     "end_time": "2020-05-24T15:59:10.763312Z",
     "start_time": "2020-05-24T15:59:05.811533Z"
    },
    "hidden": true
   },
   "outputs": [],
   "source": [
    "#Read data\n",
    "df = pd.read_excel('..\\\\data\\\\EquipmentAge.xlsx', index_col='EquipmentCode')\n",
    "Prefix = list(dict.fromkeys(list(df['SN1'])))"
   ]
  },
  {
   "cell_type": "code",
   "execution_count": 35,
   "metadata": {
    "ExecuteTime": {
     "end_time": "2020-05-24T16:29:37.746066Z",
     "start_time": "2020-05-24T16:29:37.743075Z"
    },
    "hidden": true
   },
   "outputs": [
    {
     "data": {
      "text/plain": [
       "(71540, 8)"
      ]
     },
     "execution_count": 35,
     "metadata": {},
     "output_type": "execute_result"
    }
   ],
   "source": [
    "df.shape"
   ]
  },
  {
   "cell_type": "markdown",
   "metadata": {
    "heading_collapsed": true,
    "hidden": true
   },
   "source": [
    "## DBS"
   ]
  },
  {
   "cell_type": "code",
   "execution_count": 5,
   "metadata": {
    "ExecuteTime": {
     "end_time": "2020-05-24T16:07:41.866649Z",
     "start_time": "2020-05-24T16:04:57.823365Z"
    },
    "hidden": true,
    "scrolled": true
   },
   "outputs": [
    {
     "name": "stderr",
     "output_type": "stream",
     "text": [
      "C:\\Users\\yyjj\\anaconda3\\lib\\site-packages\\ipykernel_launcher.py:13: RuntimeWarning: invalid value encountered in less\n",
      "  del sys.path[0]\n"
     ]
    },
    {
     "name": "stdout",
     "output_type": "stream",
     "text": [
      "All estimation completed. Ready to export\n",
      "export completed\n"
     ]
    }
   ],
   "source": [
    "Output = pd.DataFrame()\n",
    "\n",
    "for x in Prefix:\n",
    "    Looped_Eq = df.drop(df.index[df.SN1 != x])\n",
    "\n",
    "    Prediction = Looped_Eq\n",
    "    \n",
    "    Train = Looped_Eq.drop(['SerialNumber', 'ModelName', 'SN1',\n",
    "           'Age_From_Delivery', 'Combined_Age_Pro_Built_Year','Combined_Age_Pro_Delivery'],axis=1) \n",
    "\n",
    "    Train = Train.dropna()\n",
    "    \n",
    "    New_Train = Train[(np.abs(stats.zscore(Train)) < 3).all(axis=1)] #for reducing errors.\n",
    "\n",
    "    X = New_Train[['SN2']].squeeze()\n",
    "    X = X.astype(int)    \n",
    "    Y = New_Train[['Age_From_DBS']].squeeze()\n",
    "    Y = Y.astype(int)\n",
    "    \n",
    "    if New_Train.size > 1:  #for reducing errors. If there are only 1 machine, do not model.\n",
    "        model1 = interp1d(X, Y,kind='linear',fill_value=\"extrapolate\")\n",
    "    \n",
    "    for idx in Prediction.index.values:\n",
    "        if New_Train.size > 1:\n",
    "            Prediction.loc[idx, 'Predicted_Age_By_Year_Manufactured'] = model1(Prediction.loc[idx, 'SN2'])\n",
    "\n",
    "    Output = Output.append([Prediction])\n",
    "    Output = Output.drop_duplicates()\n",
    "    \n",
    "print('All estimation completed. Ready to export')\n",
    "DBS_Age = Output\n",
    "DBS_Age.to_csv('..\\\\data\\\\Output\\\\DBS_Age.csv')\n",
    "print('Export completed')"
   ]
  },
  {
   "cell_type": "markdown",
   "metadata": {
    "heading_collapsed": true,
    "hidden": true
   },
   "source": [
    "## Delivery"
   ]
  },
  {
   "cell_type": "code",
   "execution_count": 6,
   "metadata": {
    "ExecuteTime": {
     "end_time": "2020-05-24T16:10:19.300847Z",
     "start_time": "2020-05-24T16:07:41.867646Z"
    },
    "hidden": true
   },
   "outputs": [
    {
     "name": "stderr",
     "output_type": "stream",
     "text": [
      "C:\\Users\\yyjj\\anaconda3\\lib\\site-packages\\ipykernel_launcher.py:14: RuntimeWarning: invalid value encountered in less\n",
      "  \n"
     ]
    },
    {
     "name": "stdout",
     "output_type": "stream",
     "text": [
      "All estimation completed. Ready to export\n",
      "export completed\n"
     ]
    }
   ],
   "source": [
    "Output = pd.DataFrame()\n",
    "\n",
    "for x in Prefix:   #while loopingthrough prefix, delete all other prefix\n",
    "#     print('Starting prefix:',x)\n",
    "    Looped_Eq = df.drop(df.index[df.SN1 != x])\n",
    "\n",
    "    Prediction = Looped_Eq\n",
    "    \n",
    "    Train = Looped_Eq.drop(['SerialNumber', 'ModelName', 'SN1',\n",
    "           'Age_From_DBS', 'Combined_Age_Pro_Built_Year','Combined_Age_Pro_Delivery'],axis=1) \n",
    "\n",
    "    Train = Train.dropna()\n",
    "    \n",
    "    New_Train = Train[(np.abs(stats.zscore(Train)) < 3).all(axis=1)]\n",
    "\n",
    "    X1 = New_Train[['SN2']].squeeze()\n",
    "    X1 = X1.astype(int)    \n",
    "    Y1 = New_Train[['Age_From_Delivery']].squeeze()\n",
    "    Y1 = Y1.astype(int)\n",
    "    \n",
    "    if New_Train.size > 1:\n",
    "        model1 = interp1d(X1, Y1,kind='linear',fill_value=\"extrapolate\")\n",
    "    \n",
    "    for idx in Prediction.index.values:\n",
    "        if New_Train.size > 1:\n",
    "            Prediction.loc[idx, 'Predicted_Age_By_Time_Delivered'] = model1(Prediction.loc[idx, 'SN2'])\n",
    "\n",
    "    Output = Output.append([Prediction])\n",
    "    Output = Output.drop_duplicates()\n",
    "    \n",
    "print('All estimation completed. Ready to export')\n",
    "Delivery_Age = Output\n",
    "Delivery_Age.to_csv('..\\\\data\\\\Output\\\\Delivery_Age.csv')\n",
    "print('Export completed')"
   ]
  },
  {
   "cell_type": "markdown",
   "metadata": {
    "heading_collapsed": true,
    "hidden": true
   },
   "source": [
    "## Coalesce(Delivery, DBS)"
   ]
  },
  {
   "cell_type": "code",
   "execution_count": 7,
   "metadata": {
    "ExecuteTime": {
     "end_time": "2020-05-24T16:13:04.140061Z",
     "start_time": "2020-05-24T16:10:19.301845Z"
    },
    "hidden": true
   },
   "outputs": [
    {
     "name": "stderr",
     "output_type": "stream",
     "text": [
      "C:\\Users\\yyjj\\anaconda3\\lib\\site-packages\\ipykernel_launcher.py:14: RuntimeWarning: invalid value encountered in less\n",
      "  \n"
     ]
    },
    {
     "name": "stdout",
     "output_type": "stream",
     "text": [
      "All estimation completed. Ready to export\n",
      "export completed\n"
     ]
    }
   ],
   "source": [
    "Output = pd.DataFrame()\n",
    "\n",
    "for x in Prefix:   #while loopingthrough prefix, delete all other prefix\n",
    "#     print('Starting prefix:',x)\n",
    "    Looped_Eq = df.drop(df.index[df.SN1 != x])\n",
    "\n",
    "    Prediction = Looped_Eq\n",
    "    \n",
    "    Train = Looped_Eq.drop(['SerialNumber', 'ModelName', 'SN1',\n",
    "           'Age_From_Delivery', 'Combined_Age_Pro_Built_Year','Age_From_DBS'],axis=1) \n",
    "\n",
    "    Train = Train.dropna()\n",
    "    \n",
    "    New_Train = Train[(np.abs(stats.zscore(Train)) < 3).all(axis=1)]\n",
    "\n",
    "    X1 = New_Train[['SN2']].squeeze()\n",
    "    X1 = X1.astype(int)    \n",
    "    Y1 = New_Train[['Combined_Age_Pro_Delivery']].squeeze()\n",
    "    Y1 = Y1.astype(int)\n",
    "    \n",
    "    if New_Train.size > 1:\n",
    "        model1 = interp1d(X1, Y1,kind='linear',fill_value=\"extrapolate\")\n",
    "    \n",
    "    for idx in Prediction.index.values:\n",
    "        if New_Train.size > 1:\n",
    "            Prediction.loc[idx, 'Predicted_Age_Pro_Delivery'] = model1(Prediction.loc[idx, 'SN2'])\n",
    "\n",
    "    Output = Output.append([Prediction])\n",
    "    Output = Output.drop_duplicates()\n",
    "    \n",
    "print('All estimation completed. Ready to export')\n",
    "Delivery_DBS_Age = Output\n",
    "Delivery_DBS_Age.to_csv('..\\\\data\\\\Output\\\\Delivery_DBS_Age.csv')\n",
    "print('Export completed')"
   ]
  },
  {
   "cell_type": "markdown",
   "metadata": {
    "heading_collapsed": true,
    "hidden": true
   },
   "source": [
    "## Coalesce (DBS, Delivery)"
   ]
  },
  {
   "cell_type": "code",
   "execution_count": 8,
   "metadata": {
    "ExecuteTime": {
     "end_time": "2020-05-24T16:15:48.553298Z",
     "start_time": "2020-05-24T16:13:04.141059Z"
    },
    "hidden": true
   },
   "outputs": [
    {
     "name": "stderr",
     "output_type": "stream",
     "text": [
      "C:\\Users\\yyjj\\anaconda3\\lib\\site-packages\\ipykernel_launcher.py:14: RuntimeWarning: invalid value encountered in less\n",
      "  \n"
     ]
    },
    {
     "name": "stdout",
     "output_type": "stream",
     "text": [
      "All estimation completed. Ready to export\n",
      "export completed\n"
     ]
    }
   ],
   "source": [
    "Output = pd.DataFrame()\n",
    "\n",
    "for x in Prefix:   #while loopingthrough prefix, delete all other prefix\n",
    "#     print('Starting prefix:',x)\n",
    "    Looped_Eq = df.drop(df.index[df.SN1 != x])\n",
    "\n",
    "    Prediction = Looped_Eq\n",
    "    \n",
    "    Train = Looped_Eq.drop(['SerialNumber', 'ModelName', 'SN1',\n",
    "           'Age_From_Delivery', 'Combined_Age_Pro_Delivery','Age_From_DBS'],axis=1) \n",
    "\n",
    "    Train = Train.dropna()\n",
    "    \n",
    "    New_Train = Train[(np.abs(stats.zscore(Train)) < 3).all(axis=1)]\n",
    "\n",
    "    X1 = New_Train[['SN2']].squeeze()\n",
    "    X1 = X1.astype(int)    \n",
    "    Y1 = New_Train[['Combined_Age_Pro_Built_Year']].squeeze()\n",
    "    Y1 = Y1.astype(int)\n",
    "    \n",
    "    if New_Train.size > 1:\n",
    "        model1 = interp1d(X1, Y1,kind='linear',fill_value=\"extrapolate\")\n",
    "    \n",
    "    for idx in Prediction.index.values:\n",
    "        if New_Train.size > 1:\n",
    "            Prediction.loc[idx, 'Predicted_Age_Pro_Built_Year'] = model1(Prediction.loc[idx, 'SN2'])\n",
    "\n",
    "    Output = Output.append([Prediction])\n",
    "    Output = Output.drop_duplicates()\n",
    "    \n",
    "print('All estimation completed. Ready to export')\n",
    "DBS_Delivery_Age = Output\n",
    "DBS_Delivery_Age.to_csv('..\\\\data\\\\Output\\\\DBS_Delivery_Age.csv')\n",
    "print('Export completed')"
   ]
  },
  {
   "cell_type": "markdown",
   "metadata": {
    "heading_collapsed": true,
    "hidden": true
   },
   "source": [
    "## Tests"
   ]
  },
  {
   "cell_type": "code",
   "execution_count": 10,
   "metadata": {
    "ExecuteTime": {
     "end_time": "2020-05-24T16:22:54.647234Z",
     "start_time": "2020-05-24T16:22:54.639255Z"
    },
    "hidden": true
   },
   "outputs": [],
   "source": [
    "Test1 = DBS_Age.drop(['SerialNumber', 'ModelName', 'SN1','SN2','Age_From_Delivery','Combined_Age_Pro_Built_Year','Combined_Age_Pro_Delivery'],axis=1) \n",
    "Test2 = Delivery_Age.drop(['SerialNumber', 'ModelName', 'SN1','SN2','Age_From_DBS','Combined_Age_Pro_Built_Year','Combined_Age_Pro_Delivery'],axis=1) \n",
    "Test3 = Delivery_DBS_Age.drop(['SerialNumber', 'ModelName', 'SN1','SN2','Age_From_DBS','Age_From_Delivery','Combined_Age_Pro_Built_Year'],axis=1) \n",
    "Test4 = DBS_Delivery_Age.drop(['SerialNumber', 'ModelName', 'SN1','SN2','Age_From_Delivery','Age_From_DBS','Combined_Age_Pro_Delivery'],axis=1) "
   ]
  },
  {
   "cell_type": "code",
   "execution_count": 11,
   "metadata": {
    "ExecuteTime": {
     "end_time": "2020-05-24T16:22:56.494317Z",
     "start_time": "2020-05-24T16:22:56.473373Z"
    },
    "hidden": true
   },
   "outputs": [],
   "source": [
    "# I have some negative age predicted from machine with very high S/N and no history. I think most will be from 2018/2019 when cat switch to 10000, 20000 type of serial numbers\n",
    "Test1 = Test1.drop(Test1.index[Test1.Predicted_Age_By_Year_Manufactured < 0])\n",
    "Test2 = Test2.drop(Test2.index[Test2.Predicted_Age_By_Time_Delivered < 0])\n",
    "Test3 = Test3.drop(Test3.index[Test3.Predicted_Age_Pro_Delivery < 0])\n",
    "Test4 = Test4.drop(Test4.index[Test4.Predicted_Age_Pro_Built_Year < 0])"
   ]
  },
  {
   "cell_type": "code",
   "execution_count": 12,
   "metadata": {
    "ExecuteTime": {
     "end_time": "2020-05-24T16:22:57.958413Z",
     "start_time": "2020-05-24T16:22:57.941458Z"
    },
    "hidden": true
   },
   "outputs": [
    {
     "name": "stdout",
     "output_type": "stream",
     "text": [
      "                                 OLS Regression Results                                \n",
      "=======================================================================================\n",
      "Dep. Variable:           Age_From_DBS   R-squared (uncentered):                   0.999\n",
      "Model:                            OLS   Adj. R-squared (uncentered):              0.999\n",
      "Method:                 Least Squares   F-statistic:                          4.408e+07\n",
      "Date:                Sun, 24 May 2020   Prob (F-statistic):                        0.00\n",
      "Time:                        12:22:57   Log-Likelihood:                     -1.1481e+05\n",
      "No. Observations:               34848   AIC:                                  2.296e+05\n",
      "Df Residuals:                   34847   BIC:                                  2.296e+05\n",
      "Df Model:                           1                                                  \n",
      "Covariance Type:            nonrobust                                                  \n",
      "======================================================================================================\n",
      "                                         coef    std err          t      P>|t|      [0.025      0.975]\n",
      "------------------------------------------------------------------------------------------------------\n",
      "Predicted_Age_By_Year_Manufactured     0.9995      0.000   6639.373      0.000       0.999       1.000\n",
      "==============================================================================\n",
      "Omnibus:                    66134.895   Durbin-Watson:                   1.988\n",
      "Prob(Omnibus):                  0.000   Jarque-Bera (JB):      38283130138.969\n",
      "Skew:                         -12.655   Prob(JB):                         0.00\n",
      "Kurtosis:                    5137.701   Cond. No.                         1.00\n",
      "==============================================================================\n",
      "\n",
      "Warnings:\n",
      "[1] Standard Errors assume that the covariance matrix of the errors is correctly specified.\n"
     ]
    }
   ],
   "source": [
    "Test = Test1.dropna()\n",
    "X = Test[['Predicted_Age_By_Year_Manufactured']].squeeze()\n",
    "Y = Test[['Age_From_DBS']].squeeze()\n",
    "results_ols = sm.OLS(Y, X)\n",
    "results_fit = results_ols.fit()\n",
    "print(results_fit.summary())"
   ]
  },
  {
   "cell_type": "code",
   "execution_count": 13,
   "metadata": {
    "ExecuteTime": {
     "end_time": "2020-05-24T16:23:02.580090Z",
     "start_time": "2020-05-24T16:22:59.453425Z"
    },
    "hidden": true
   },
   "outputs": [
    {
     "data": {
      "image/png": "[encoded data removed]",
      "text/plain": [
       "<Figure size 360x360 with 1 Axes>"
      ]
     },
     "metadata": {
      "needs_background": "light"
     },
     "output_type": "display_data"
    }
   ],
   "source": [
    "#Plot results\n",
    "sns.lmplot(x=\"Predicted_Age_By_Year_Manufactured\", y=\"Age_From_DBS\", data=Test, x_estimator=np.mean);"
   ]
  },
  {
   "cell_type": "code",
   "execution_count": 14,
   "metadata": {
    "ExecuteTime": {
     "end_time": "2020-05-24T16:23:03.819282Z",
     "start_time": "2020-05-24T16:23:03.813298Z"
    },
    "hidden": true
   },
   "outputs": [
    {
     "name": "stdout",
     "output_type": "stream",
     "text": [
      "MSE 42.6\n",
      "MAE 0.164\n",
      "RMSE 6.53\n"
     ]
    }
   ],
   "source": [
    "import math\n",
    "from sklearn.metrics import mean_squared_error, mean_absolute_error\n",
    "\n",
    "# # calculate the mean squared error\n",
    "model_mse = mean_squared_error(Y, X)\n",
    "\n",
    "# # calculate the mean absolute error\n",
    "model_mae = mean_absolute_error(Y, X)\n",
    "\n",
    "# # calulcate the root mean squared error\n",
    "model_rmse =  math.sqrt(model_mse)\n",
    "\n",
    "# # display the output\n",
    "print(\"MSE {:.3}\".format(model_mse))\n",
    "print(\"MAE {:.3}\".format(model_mae))\n",
    "print(\"RMSE {:.3}\".format(model_rmse))\n",
    "\n",
    "# Results are in months."
   ]
  },
  {
   "cell_type": "code",
   "execution_count": 15,
   "metadata": {
    "ExecuteTime": {
     "end_time": "2020-05-24T16:23:04.652568Z",
     "start_time": "2020-05-24T16:23:04.639603Z"
    },
    "hidden": true
   },
   "outputs": [
    {
     "name": "stdout",
     "output_type": "stream",
     "text": [
      "                                 OLS Regression Results                                \n",
      "=======================================================================================\n",
      "Dep. Variable:      Age_From_Delivery   R-squared (uncentered):                   0.959\n",
      "Model:                            OLS   Adj. R-squared (uncentered):              0.959\n",
      "Method:                 Least Squares   F-statistic:                          1.676e+05\n",
      "Date:                Sun, 24 May 2020   Prob (F-statistic):                        0.00\n",
      "Time:                        12:23:04   Log-Likelihood:                         -36210.\n",
      "No. Observations:                7178   AIC:                                  7.242e+04\n",
      "Df Residuals:                    7177   BIC:                                  7.243e+04\n",
      "Df Model:                           1                                                  \n",
      "Covariance Type:            nonrobust                                                  \n",
      "===================================================================================================\n",
      "                                      coef    std err          t      P>|t|      [0.025      0.975]\n",
      "---------------------------------------------------------------------------------------------------\n",
      "Predicted_Age_By_Time_Delivered     0.9581      0.002    409.393      0.000       0.954       0.963\n",
      "==============================================================================\n",
      "Omnibus:                    25487.049   Durbin-Watson:                   1.924\n",
      "Prob(Omnibus):                  0.000   Jarque-Bera (JB):       8704540597.418\n",
      "Skew:                         -70.274   Prob(JB):                         0.00\n",
      "Kurtosis:                    5395.987   Cond. No.                         1.00\n",
      "==============================================================================\n",
      "\n",
      "Warnings:\n",
      "[1] Standard Errors assume that the covariance matrix of the errors is correctly specified.\n"
     ]
    }
   ],
   "source": [
    "Test = Test2.dropna()\n",
    "X = Test[['Predicted_Age_By_Time_Delivered']].squeeze()\n",
    "Y = Test[['Age_From_Delivery']].squeeze()\n",
    "results_ols = sm.OLS(Y, X)\n",
    "results_fit = results_ols.fit()\n",
    "print(results_fit.summary())"
   ]
  },
  {
   "cell_type": "code",
   "execution_count": 16,
   "metadata": {
    "ExecuteTime": {
     "end_time": "2020-05-24T16:23:17.573578Z",
     "start_time": "2020-05-24T16:23:08.670350Z"
    },
    "hidden": true
   },
   "outputs": [
    {
     "data": {
      "image/png": "[encoded data removed]",
      "text/plain": [
       "<Figure size 360x360 with 1 Axes>"
      ]
     },
     "metadata": {
      "needs_background": "light"
     },
     "output_type": "display_data"
    }
   ],
   "source": [
    "#Plot results\n",
    "sns.lmplot(x=\"Predicted_Age_By_Time_Delivered\", y=\"Age_From_Delivery\", data=Test, x_estimator=np.mean);"
   ]
  },
  {
   "cell_type": "code",
   "execution_count": 17,
   "metadata": {
    "ExecuteTime": {
     "end_time": "2020-05-24T16:23:18.815277Z",
     "start_time": "2020-05-24T16:23:18.810290Z"
    },
    "hidden": true
   },
   "outputs": [
    {
     "name": "stdout",
     "output_type": "stream",
     "text": [
      "MSE 1.47e+03\n",
      "MAE 0.726\n",
      "RMSE 38.4\n"
     ]
    }
   ],
   "source": [
    "import math\n",
    "from sklearn.metrics import mean_squared_error, mean_absolute_error\n",
    "\n",
    "# # calculate the mean squared error\n",
    "model_mse = mean_squared_error(Y, X)\n",
    "\n",
    "# # calculate the mean absolute error\n",
    "model_mae = mean_absolute_error(Y, X)\n",
    "\n",
    "# # calulcate the root mean squared error\n",
    "model_rmse =  math.sqrt(model_mse)\n",
    "\n",
    "# # display the output\n",
    "print(\"MSE {:.3}\".format(model_mse))\n",
    "print(\"MAE {:.3}\".format(model_mae))\n",
    "print(\"RMSE {:.3}\".format(model_rmse))\n",
    "\n",
    "# Results are in months."
   ]
  },
  {
   "cell_type": "code",
   "execution_count": 18,
   "metadata": {
    "ExecuteTime": {
     "end_time": "2020-05-24T16:23:20.137760Z",
     "start_time": "2020-05-24T16:23:20.122800Z"
    },
    "hidden": true
   },
   "outputs": [
    {
     "name": "stdout",
     "output_type": "stream",
     "text": [
      "                                    OLS Regression Results                                    \n",
      "==============================================================================================\n",
      "Dep. Variable:     Combined_Age_Pro_Delivery   R-squared (uncentered):                   0.999\n",
      "Model:                                   OLS   Adj. R-squared (uncentered):              0.999\n",
      "Method:                        Least Squares   F-statistic:                          4.342e+07\n",
      "Date:                       Sun, 24 May 2020   Prob (F-statistic):                        0.00\n",
      "Time:                               12:23:20   Log-Likelihood:                     -1.1508e+05\n",
      "No. Observations:                      34849   AIC:                                  2.302e+05\n",
      "Df Residuals:                          34848   BIC:                                  2.302e+05\n",
      "Df Model:                                  1                                                  \n",
      "Covariance Type:                   nonrobust                                                  \n",
      "==============================================================================================\n",
      "                                 coef    std err          t      P>|t|      [0.025      0.975]\n",
      "----------------------------------------------------------------------------------------------\n",
      "Predicted_Age_Pro_Delivery     0.9995      0.000   6589.049      0.000       0.999       1.000\n",
      "==============================================================================\n",
      "Omnibus:                    66232.066   Durbin-Watson:                   1.988\n",
      "Prob(Omnibus):                  0.000   Jarque-Bera (JB):      36134899196.943\n",
      "Skew:                         -12.713   Prob(JB):                         0.00\n",
      "Kurtosis:                    4991.480   Cond. No.                         1.00\n",
      "==============================================================================\n",
      "\n",
      "Warnings:\n",
      "[1] Standard Errors assume that the covariance matrix of the errors is correctly specified.\n"
     ]
    }
   ],
   "source": [
    "Test = Test3.dropna()\n",
    "X = Test[['Predicted_Age_Pro_Delivery']].squeeze()\n",
    "Y = Test[['Combined_Age_Pro_Delivery']].squeeze()\n",
    "results_ols = sm.OLS(Y, X)\n",
    "results_fit = results_ols.fit()\n",
    "print(results_fit.summary())"
   ]
  },
  {
   "cell_type": "code",
   "execution_count": 19,
   "metadata": {
    "ExecuteTime": {
     "end_time": "2020-05-24T16:23:27.277214Z",
     "start_time": "2020-05-24T16:23:24.181490Z"
    },
    "hidden": true
   },
   "outputs": [
    {
     "data": {
      "image/png": "[encoded data removed]",
      "text/plain": [
       "<Figure size 360x360 with 1 Axes>"
      ]
     },
     "metadata": {
      "needs_background": "light"
     },
     "output_type": "display_data"
    }
   ],
   "source": [
    "#Plot results\n",
    "sns.lmplot(x=\"Predicted_Age_Pro_Delivery\", y=\"Combined_Age_Pro_Delivery\", data=Test, x_estimator=np.mean);"
   ]
  },
  {
   "cell_type": "code",
   "execution_count": 20,
   "metadata": {
    "ExecuteTime": {
     "end_time": "2020-05-24T16:23:28.380790Z",
     "start_time": "2020-05-24T16:23:28.366828Z"
    },
    "hidden": true
   },
   "outputs": [
    {
     "name": "stdout",
     "output_type": "stream",
     "text": [
      "                                     OLS Regression Results                                     \n",
      "================================================================================================\n",
      "Dep. Variable:     Combined_Age_Pro_Built_Year   R-squared (uncentered):                   0.999\n",
      "Model:                                     OLS   Adj. R-squared (uncentered):              0.999\n",
      "Method:                          Least Squares   F-statistic:                          4.342e+07\n",
      "Date:                         Sun, 24 May 2020   Prob (F-statistic):                        0.00\n",
      "Time:                                 12:23:28   Log-Likelihood:                     -1.1508e+05\n",
      "No. Observations:                        34849   AIC:                                  2.302e+05\n",
      "Df Residuals:                            34848   BIC:                                  2.302e+05\n",
      "Df Model:                                    1                                                  \n",
      "Covariance Type:                     nonrobust                                                  \n",
      "================================================================================================\n",
      "                                   coef    std err          t      P>|t|      [0.025      0.975]\n",
      "------------------------------------------------------------------------------------------------\n",
      "Predicted_Age_Pro_Built_Year     0.9995      0.000   6589.049      0.000       0.999       1.000\n",
      "==============================================================================\n",
      "Omnibus:                    66232.066   Durbin-Watson:                   1.988\n",
      "Prob(Omnibus):                  0.000   Jarque-Bera (JB):      36134899196.943\n",
      "Skew:                         -12.713   Prob(JB):                         0.00\n",
      "Kurtosis:                    4991.480   Cond. No.                         1.00\n",
      "==============================================================================\n",
      "\n",
      "Warnings:\n",
      "[1] Standard Errors assume that the covariance matrix of the errors is correctly specified.\n"
     ]
    }
   ],
   "source": [
    "Test = Test4.dropna()\n",
    "X = Test[['Predicted_Age_Pro_Built_Year']].squeeze()\n",
    "Y = Test[['Combined_Age_Pro_Built_Year']].squeeze()\n",
    "results_ols = sm.OLS(Y, X)\n",
    "results_fit = results_ols.fit()\n",
    "print(results_fit.summary())"
   ]
  },
  {
   "cell_type": "code",
   "execution_count": 21,
   "metadata": {
    "ExecuteTime": {
     "end_time": "2020-05-24T16:23:35.094375Z",
     "start_time": "2020-05-24T16:23:32.011103Z"
    },
    "hidden": true
   },
   "outputs": [
    {
     "data": {
      "image/png": "[encoded data removed]",
      "text/plain": [
       "<Figure size 360x360 with 1 Axes>"
      ]
     },
     "metadata": {
      "needs_background": "light"
     },
     "output_type": "display_data"
    }
   ],
   "source": [
    "#Plot results\n",
    "sns.lmplot(x=\"Predicted_Age_Pro_Built_Year\", y=\"Combined_Age_Pro_Built_Year\", data=Test, x_estimator=np.mean);"
   ]
  },
  {
   "cell_type": "code",
   "execution_count": 22,
   "metadata": {
    "ExecuteTime": {
     "end_time": "2020-05-24T16:23:37.000784Z",
     "start_time": "2020-05-24T16:23:36.994800Z"
    },
    "hidden": true
   },
   "outputs": [
    {
     "name": "stdout",
     "output_type": "stream",
     "text": [
      "MSE 43.2\n",
      "MAE 0.168\n",
      "RMSE 6.58\n"
     ]
    }
   ],
   "source": [
    "import math\n",
    "from sklearn.metrics import mean_squared_error, mean_absolute_error\n",
    "\n",
    "# # calculate the mean squared error\n",
    "model_mse = mean_squared_error(Y, X)\n",
    "\n",
    "# # calculate the mean absolute error\n",
    "model_mae = mean_absolute_error(Y, X)\n",
    "\n",
    "# # calulcate the root mean squared error\n",
    "model_rmse =  math.sqrt(model_mse)\n",
    "\n",
    "# # display the output\n",
    "print(\"MSE {:.3}\".format(model_mse))\n",
    "print(\"MAE {:.3}\".format(model_mae))\n",
    "print(\"RMSE {:.3}\".format(model_rmse))\n",
    "\n",
    "# Results are in months."
   ]
  },
  {
   "cell_type": "markdown",
   "metadata": {
    "heading_collapsed": true
   },
   "source": [
    "# Export for Bruce"
   ]
  },
  {
   "cell_type": "code",
   "execution_count": 65,
   "metadata": {
    "ExecuteTime": {
     "end_time": "2020-05-24T16:33:41.131193Z",
     "start_time": "2020-05-24T16:33:41.127204Z"
    },
    "hidden": true
   },
   "outputs": [
    {
     "data": {
      "text/plain": [
       "(71540, 9)"
      ]
     },
     "execution_count": 65,
     "metadata": {},
     "output_type": "execute_result"
    }
   ],
   "source": [
    "Bruce = DBS_Age\n",
    "Bruce.shape"
   ]
  },
  {
   "cell_type": "code",
   "execution_count": 66,
   "metadata": {
    "ExecuteTime": {
     "end_time": "2020-05-24T16:33:41.717635Z",
     "start_time": "2020-05-24T16:33:41.704670Z"
    },
    "hidden": true
   },
   "outputs": [
    {
     "data": {
      "text/plain": [
       "(48127, 9)"
      ]
     },
     "execution_count": 66,
     "metadata": {},
     "output_type": "execute_result"
    }
   ],
   "source": [
    "Bruce = Bruce.drop(Bruce.index[Bruce.Age_From_DBS > 121])\n",
    "Bruce.shape"
   ]
  },
  {
   "cell_type": "code",
   "execution_count": 67,
   "metadata": {
    "ExecuteTime": {
     "end_time": "2020-05-24T16:33:42.877146Z",
     "start_time": "2020-05-24T16:33:42.865178Z"
    },
    "hidden": true
   },
   "outputs": [
    {
     "data": {
      "text/plain": [
       "(28895, 9)"
      ]
     },
     "execution_count": 67,
     "metadata": {},
     "output_type": "execute_result"
    }
   ],
   "source": [
    "Bruce = Bruce.drop(Bruce.index[Bruce.Predicted_Age_By_Year_Manufactured > 121])\n",
    "Bruce.shape"
   ]
  },
  {
   "cell_type": "code",
   "execution_count": 68,
   "metadata": {
    "ExecuteTime": {
     "end_time": "2020-05-24T16:33:45.047345Z",
     "start_time": "2020-05-24T16:33:45.043355Z"
    },
    "hidden": true
   },
   "outputs": [
    {
     "data": {
      "text/plain": [
       "Index(['SerialNumber', 'SN1', 'SN2', 'ModelName', 'Age_From_DBS',\n",
       "       'Age_From_Delivery', 'Combined_Age_Pro_Built_Year',\n",
       "       'Combined_Age_Pro_Delivery', 'Predicted_Age_By_Year_Manufactured'],\n",
       "      dtype='object')"
      ]
     },
     "execution_count": 68,
     "metadata": {},
     "output_type": "execute_result"
    }
   ],
   "source": [
    "Bruce.columns"
   ]
  },
  {
   "cell_type": "code",
   "execution_count": 69,
   "metadata": {
    "ExecuteTime": {
     "end_time": "2020-05-24T16:33:47.805231Z",
     "start_time": "2020-05-24T16:33:47.802000Z"
    },
    "hidden": true
   },
   "outputs": [],
   "source": [
    "Bruce = Bruce.drop(['SN1','SN2','Age_From_Delivery','Combined_Age_Pro_Built_Year','Combined_Age_Pro_Delivery'],axis=1) "
   ]
  },
  {
   "cell_type": "code",
   "execution_count": 70,
   "metadata": {
    "ExecuteTime": {
     "end_time": "2020-05-24T16:33:48.956419Z",
     "start_time": "2020-05-24T16:33:48.952430Z"
    },
    "hidden": true
   },
   "outputs": [
    {
     "data": {
      "text/plain": [
       "Index(['SerialNumber', 'ModelName', 'Age_From_DBS',\n",
       "       'Predicted_Age_By_Year_Manufactured'],\n",
       "      dtype='object')"
      ]
     },
     "execution_count": 70,
     "metadata": {},
     "output_type": "execute_result"
    }
   ],
   "source": [
    "Bruce.columns"
   ]
  },
  {
   "cell_type": "code",
   "execution_count": 72,
   "metadata": {
    "ExecuteTime": {
     "end_time": "2020-05-24T16:34:27.680598Z",
     "start_time": "2020-05-24T16:34:27.605798Z"
    },
    "hidden": true
   },
   "outputs": [],
   "source": [
    "Bruce.to_csv('..\\\\data\\\\Output\\\\Bruce.csv')"
   ]
  }
 ],
 "metadata": {
  "kernelspec": {
   "display_name": "Python 3",
   "language": "python",
   "name": "python3"
  },
  "language_info": {
   "codemirror_mode": {
    "name": "ipython",
    "version": 3
   },
   "file_extension": ".py",
   "mimetype": "text/x-python",
   "name": "python",
   "nbconvert_exporter": "python",
   "pygments_lexer": "ipython3",
   "version": "3.7.6"
  },
  "varInspector": {
   "cols": {
    "lenName": 16,
    "lenType": 16,
    "lenVar": "100"
   },
   "kernels_config": {
    "python": {
     "delete_cmd_postfix": "",
     "delete_cmd_prefix": "del ",
     "library": "var_list.py",
     "varRefreshCmd": "print(var_dic_list())"
    },
    "r": {
     "delete_cmd_postfix": ") ",
     "delete_cmd_prefix": "rm(",
     "library": "var_list.r",
     "varRefreshCmd": "cat(var_dic_list()) "
    }
   },
   "types_to_exclude": [
    "module",
    "function",
    "builtin_function_or_method",
    "instance",
    "_Feature"
   ],
   "window_display": false
  }
 },
 "nbformat": 4,
 "nbformat_minor": 2
}
