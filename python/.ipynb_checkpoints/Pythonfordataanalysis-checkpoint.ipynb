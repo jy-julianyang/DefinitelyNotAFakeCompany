{
 "cells": [
  {
   "cell_type": "markdown",
   "metadata": {
    "heading_collapsed": true
   },
   "source": [
    "# Basics"
   ]
  },
  {
   "cell_type": "code",
   "execution_count": null,
   "metadata": {
    "ExecuteTime": {
     "end_time": "2020-07-07T09:27:53.693315Z",
     "start_time": "2020-07-07T09:27:53.689325Z"
    },
    "hidden": true,
    "tags": []
   },
   "outputs": [],
   "source": [
    "#Comment: # Hash sign\n",
    "a= 'hello world!'\n",
    "print(a)\n",
    "print(type(a))"
   ]
  },
  {
   "cell_type": "markdown",
   "metadata": {
    "heading_collapsed": true
   },
   "source": [
    "# Data types"
   ]
  },
  {
   "cell_type": "markdown",
   "metadata": {
    "heading_collapsed": true,
    "hidden": true
   },
   "source": [
    "## Variable"
   ]
  },
  {
   "cell_type": "code",
   "execution_count": null,
   "metadata": {
    "ExecuteTime": {
     "end_time": "2020-07-07T09:27:55.130484Z",
     "start_time": "2020-07-07T09:27:55.127492Z"
    },
    "hidden": true,
    "tags": []
   },
   "outputs": [],
   "source": [
    "#Define a variable with type\n",
    "a=int(3)\n",
    "print(a)\n",
    "print(type(a))"
   ]
  },
  {
   "cell_type": "markdown",
   "metadata": {
    "ExecuteTime": {
     "end_time": "2020-07-07T09:39:07.276056Z",
     "start_time": "2020-07-07T09:39:07.273065Z"
    },
    "heading_collapsed": true,
    "hidden": true
   },
   "source": [
    "## Float"
   ]
  },
  {
   "cell_type": "code",
   "execution_count": null,
   "metadata": {
    "ExecuteTime": {
     "end_time": "2020-07-07T09:28:05.613749Z",
     "start_time": "2020-07-07T09:28:05.610757Z"
    },
    "hidden": true,
    "tags": []
   },
   "outputs": [],
   "source": [
    "#convert int to float\n",
    "b=float(a)\n",
    "print(b)\n",
    "print(type(b))"
   ]
  },
  {
   "cell_type": "markdown",
   "metadata": {
    "heading_collapsed": true,
    "hidden": true
   },
   "source": [
    "## String"
   ]
  },
  {
   "cell_type": "code",
   "execution_count": null,
   "metadata": {
    "ExecuteTime": {
     "end_time": "2020-07-07T09:28:15.533339Z",
     "start_time": "2020-07-07T09:28:15.529350Z"
    },
    "hidden": true,
    "tags": []
   },
   "outputs": [],
   "source": [
    "#convert float to string\n",
    "a=str(b)\n",
    "print(a)\n",
    "print(type(a))"
   ]
  },
  {
   "cell_type": "code",
   "execution_count": null,
   "metadata": {
    "hidden": true,
    "tags": []
   },
   "outputs": [],
   "source": [
    "#convert lower case to upper case vice versa\n",
    "r='how are you'\n",
    "q=r.upper()\n",
    "print(q)\n",
    "p=q.lower()\n",
    "print(p)"
   ]
  },
  {
   "cell_type": "markdown",
   "metadata": {
    "heading_collapsed": true,
    "hidden": true
   },
   "source": [
    "## Booleans"
   ]
  },
  {
   "cell_type": "code",
   "execution_count": null,
   "metadata": {
    "ExecuteTime": {
     "end_time": "2020-07-07T11:03:42.800114Z",
     "start_time": "2020-07-07T11:03:42.793133Z"
    },
    "hidden": true
   },
   "outputs": [],
   "source": [
    "a = 1\n",
    "b = 1\n",
    "a = b\n",
    "a == b"
   ]
  },
  {
   "cell_type": "markdown",
   "metadata": {
    "heading_collapsed": true,
    "hidden": true
   },
   "source": [
    "## Datetime"
   ]
  },
  {
   "cell_type": "code",
   "execution_count": 1,
   "metadata": {
    "ExecuteTime": {
     "end_time": "2020-07-07T11:10:13.985774Z",
     "start_time": "2020-07-07T11:10:13.982783Z"
    },
    "hidden": true
   },
   "outputs": [],
   "source": [
    "from datetime import datetime,date,time"
   ]
  },
  {
   "cell_type": "code",
   "execution_count": 2,
   "metadata": {
    "ExecuteTime": {
     "end_time": "2020-07-07T11:10:15.308248Z",
     "start_time": "2020-07-07T11:10:15.305256Z"
    },
    "hidden": true
   },
   "outputs": [
    {
     "name": "stdout",
     "output_type": "stream",
     "text": [
      "2020-07-07 07:07:07\n"
     ]
    }
   ],
   "source": [
    "#construct a datetime\n",
    "_datetime = datetime(2020,7,7,7,7,7)\n",
    "print(_datetime)"
   ]
  },
  {
   "cell_type": "code",
   "execution_count": 7,
   "metadata": {
    "ExecuteTime": {
     "end_time": "2020-07-07T11:11:03.862642Z",
     "start_time": "2020-07-07T11:11:03.858652Z"
    },
    "hidden": true
   },
   "outputs": [
    {
     "name": "stdout",
     "output_type": "stream",
     "text": [
      "2020-07-07\n",
      "2020\n",
      "7\n",
      "7\n",
      "7\n",
      "7\n",
      "7\n"
     ]
    }
   ],
   "source": [
    "print(_datetime.date())\n",
    "print(_datetime.year)\n",
    "print(_datetime.month)\n",
    "print(_datetime.day)\n",
    "print(_datetime.hour)\n",
    "print(_datetime.minute)\n",
    "print(_datetime.second)"
   ]
  },
  {
   "cell_type": "code",
   "execution_count": 5,
   "metadata": {
    "ExecuteTime": {
     "end_time": "2020-07-07T11:10:22.161123Z",
     "start_time": "2020-07-07T11:10:22.158131Z"
    },
    "hidden": true
   },
   "outputs": [
    {
     "name": "stdout",
     "output_type": "stream",
     "text": [
      "2020-07-07\n"
     ]
    }
   ],
   "source": [
    "#construct a date\n",
    "_date = date(2020,7,7)\n",
    "print(_date)"
   ]
  },
  {
   "cell_type": "code",
   "execution_count": 8,
   "metadata": {
    "ExecuteTime": {
     "end_time": "2020-07-07T11:15:36.885214Z",
     "start_time": "2020-07-07T11:15:36.877235Z"
    },
    "hidden": true
   },
   "outputs": [
    {
     "data": {
      "text/plain": [
       "'07/07/2020 07:07'"
      ]
     },
     "execution_count": 8,
     "metadata": {},
     "output_type": "execute_result"
    }
   ],
   "source": [
    "#string from time. Extract datetime to any desirable format \n",
    "_datetime.strftime('%m/%d/%Y %H:%M')\n",
    "\n",
    "#%Y : 4 digit year\n",
    "#%y : 2 digit year\n",
    "#%m : 2 digit month\n",
    "#%d : 2  digit day\n",
    "#%H : 24 hour time\n",
    "#%I : 12 hour time\n",
    "#%M : 2 digit minute\n",
    "#%S : seconds\n",
    "#%w : weekday\n",
    "#%U : weeknumber of year starting sunday\n",
    "#%W : weeknumber of year starting monday\n",
    "#%z : UTC timezone offset\n",
    "#%F : short for 2020-07-07\n",
    "#%D : shortcut for 07/18/2020"
   ]
  },
  {
   "cell_type": "code",
   "execution_count": 11,
   "metadata": {
    "ExecuteTime": {
     "end_time": "2020-07-07T11:20:13.246945Z",
     "start_time": "2020-07-07T11:20:13.243953Z"
    },
    "hidden": true
   },
   "outputs": [
    {
     "name": "stdout",
     "output_type": "stream",
     "text": [
      "2021-07-06 23:59:00\n",
      "364 days, 16:51:53\n",
      "<class 'datetime.timedelta'>\n"
     ]
    }
   ],
   "source": [
    "#time difference\n",
    "_datetime2 = datetime(2021,7,6,23,59)\n",
    "print(_datetime2)\n",
    "_delta = _datetime2 - _datetime\n",
    "print(_delta)\n",
    "print(type(_delta))"
   ]
  },
  {
   "cell_type": "markdown",
   "metadata": {
    "heading_collapsed": true,
    "hidden": true
   },
   "source": [
    "## Comparison"
   ]
  },
  {
   "cell_type": "code",
   "execution_count": null,
   "metadata": {
    "ExecuteTime": {
     "end_time": "2020-07-07T11:02:24.053930Z",
     "start_time": "2020-07-07T11:02:24.050938Z"
    },
    "hidden": true
   },
   "outputs": [],
   "source": [
    "##a + b\n",
    "##a - b\n",
    "##a * b\n",
    "##a / b\n",
    "##a // b floor divide a by b\n",
    "##a ** b raise a to the b power\n",
    "##a & b True if a and b are True\n",
    "##a | b True if a or b are True\n",
    "##a ^ b True if a or b is True but not both\n",
    "##a == b True if a equals b\n",
    "##a != b True if a is not equal to b\n",
    "##a <= b\n",
    "##a >= b\n",
    "##a > b\n",
    "##a < b\n",
    "##a is b True if a and b reference to same object\n",
    "##a is not b True if a and b does not reference to same object"
   ]
  },
  {
   "cell_type": "markdown",
   "metadata": {},
   "source": [
    "# Data structures"
   ]
  },
  {
   "cell_type": "markdown",
   "metadata": {
    "ExecuteTime": {
     "end_time": "2020-07-07T11:36:27.652260Z",
     "start_time": "2020-07-07T11:36:27.650266Z"
    },
    "heading_collapsed": true
   },
   "source": [
    "## Tuple"
   ]
  },
  {
   "cell_type": "code",
   "execution_count": 39,
   "metadata": {
    "ExecuteTime": {
     "end_time": "2020-07-07T11:36:47.915320Z",
     "start_time": "2020-07-07T11:36:47.911330Z"
    },
    "hidden": true
   },
   "outputs": [
    {
     "name": "stdout",
     "output_type": "stream",
     "text": [
      "(4, 5, 6)\n",
      "<class 'tuple'>\n"
     ]
    }
   ],
   "source": [
    "# create tuple\n",
    "tup = 4,5,6\n",
    "print(tup)\n",
    "print(type(tup))"
   ]
  },
  {
   "cell_type": "code",
   "execution_count": 40,
   "metadata": {
    "ExecuteTime": {
     "end_time": "2020-07-07T11:37:25.813413Z",
     "start_time": "2020-07-07T11:37:25.810421Z"
    },
    "hidden": true
   },
   "outputs": [
    {
     "name": "stdout",
     "output_type": "stream",
     "text": [
      "((4, 5, 6), (7, 8))\n",
      "<class 'tuple'>\n"
     ]
    }
   ],
   "source": [
    "# create nested tuple\n",
    "nested_tup = (4,5,6),(7,8)\n",
    "print(nested_tup)\n",
    "print(type(nested_tup))"
   ]
  },
  {
   "cell_type": "code",
   "execution_count": 45,
   "metadata": {
    "ExecuteTime": {
     "end_time": "2020-07-07T11:39:29.751601Z",
     "start_time": "2020-07-07T11:39:29.747611Z"
    },
    "hidden": true
   },
   "outputs": [
    {
     "name": "stdout",
     "output_type": "stream",
     "text": [
      "[1, 2, 3]\n",
      "<class 'list'>\n",
      "(1, 2, 3)\n",
      "<class 'tuple'>\n",
      "1\n",
      "1\n"
     ]
    }
   ],
   "source": [
    "# convert list to tuple\n",
    "_list = [1,2,3]\n",
    "print(_list)\n",
    "print(type(_list))\n",
    "tup = tuple(_list)\n",
    "print(tup)\n",
    "print(type(tup))\n",
    "\n",
    "#extract item from tuple\n",
    "print(_list[0])\n",
    "print(tup[0])"
   ]
  },
  {
   "cell_type": "code",
   "execution_count": 47,
   "metadata": {
    "ExecuteTime": {
     "end_time": "2020-07-07T11:42:20.387569Z",
     "start_time": "2020-07-07T11:42:20.383578Z"
    },
    "hidden": true
   },
   "outputs": [
    {
     "name": "stdout",
     "output_type": "stream",
     "text": [
      "1\n",
      "2\n"
     ]
    }
   ],
   "source": [
    "#assign value in a tuple to a variable\n",
    "a,b,*rest = tup\n",
    "print(a)\n",
    "print(b)"
   ]
  },
  {
   "cell_type": "markdown",
   "metadata": {
    "heading_collapsed": true
   },
   "source": [
    "## List"
   ]
  },
  {
   "cell_type": "code",
   "execution_count": 50,
   "metadata": {
    "ExecuteTime": {
     "end_time": "2020-07-07T11:44:24.371765Z",
     "start_time": "2020-07-07T11:44:24.367776Z"
    },
    "hidden": true,
    "tags": []
   },
   "outputs": [
    {
     "name": "stdout",
     "output_type": "stream",
     "text": [
      "[1, 2, 3]\n",
      "<class 'list'>\n"
     ]
    }
   ],
   "source": [
    "#convert variable to list\n",
    "a = 1,2,3\n",
    "b=list(a)\n",
    "print(b)\n",
    "print(type(b))"
   ]
  },
  {
   "cell_type": "code",
   "execution_count": 51,
   "metadata": {
    "ExecuteTime": {
     "end_time": "2020-07-07T11:44:29.745975Z",
     "start_time": "2020-07-07T11:44:29.742983Z"
    },
    "hidden": true
   },
   "outputs": [
    {
     "name": "stdout",
     "output_type": "stream",
     "text": [
      "<class 'list'>\n",
      "[]\n"
     ]
    }
   ],
   "source": [
    "#create blank list\n",
    "b = []\n",
    "print(type(b))\n",
    "print(b)"
   ]
  },
  {
   "cell_type": "code",
   "execution_count": 53,
   "metadata": {
    "ExecuteTime": {
     "end_time": "2020-07-07T11:44:37.537217Z",
     "start_time": "2020-07-07T11:44:37.534225Z"
    },
    "hidden": true
   },
   "outputs": [
    {
     "name": "stdout",
     "output_type": "stream",
     "text": [
      "[1, 2, 3]\n"
     ]
    }
   ],
   "source": [
    "# convert a tuple into a list\n",
    "_list = list(tup)\n",
    "print(_list)"
   ]
  },
  {
   "cell_type": "code",
   "execution_count": 54,
   "metadata": {
    "ExecuteTime": {
     "end_time": "2020-07-07T11:44:39.278086Z",
     "start_time": "2020-07-07T11:44:39.274096Z"
    },
    "hidden": true,
    "tags": []
   },
   "outputs": [
    {
     "name": "stdout",
     "output_type": "stream",
     "text": [
      "<class 'list'>\n",
      "[3, 4]\n"
     ]
    }
   ],
   "source": [
    "#create list with variables\n",
    "a=[3,4]\n",
    "print(type(a))\n",
    "print(a)"
   ]
  },
  {
   "cell_type": "code",
   "execution_count": 55,
   "metadata": {
    "ExecuteTime": {
     "end_time": "2020-07-07T11:44:43.399604Z",
     "start_time": "2020-07-07T11:44:43.395616Z"
    },
    "hidden": true
   },
   "outputs": [
    {
     "name": "stdout",
     "output_type": "stream",
     "text": [
      "<class 'list'>\n",
      "[4, 3]\n"
     ]
    }
   ],
   "source": [
    "# reverse a list --do not need to create new list as it is mutable\n",
    "b = a\n",
    "b.reverse()\n",
    "print(type(b))\n",
    "print(b)"
   ]
  },
  {
   "cell_type": "code",
   "execution_count": null,
   "metadata": {
    "ExecuteTime": {
     "end_time": "2020-07-07T09:37:48.793780Z",
     "start_time": "2020-07-07T09:37:48.789791Z"
    },
    "hidden": true
   },
   "outputs": [],
   "source": [
    "#append variable to list  --do not need to create new list as it is mutable\n",
    "b.append(2)\n",
    "print(type(b))\n",
    "print(b)"
   ]
  },
  {
   "cell_type": "code",
   "execution_count": 60,
   "metadata": {
    "ExecuteTime": {
     "end_time": "2020-07-07T11:47:03.757437Z",
     "start_time": "2020-07-07T11:47:03.753447Z"
    },
    "hidden": true
   },
   "outputs": [
    {
     "name": "stdout",
     "output_type": "stream",
     "text": [
      "[1, 2, 3, 4, 5, 6, 7, 9, 13]\n",
      "['sam', 'dean', 'castiel']\n"
     ]
    }
   ],
   "source": [
    "# sort list\n",
    "a = [1,13,6,2,3,5,4,7,9]\n",
    "a.sort()\n",
    "print(a)\n",
    "b = ['sam','dean','castiel']\n",
    "b.sort(key=len)\n",
    "print(b)"
   ]
  },
  {
   "cell_type": "code",
   "execution_count": 68,
   "metadata": {
    "ExecuteTime": {
     "end_time": "2020-07-07T11:48:57.692726Z",
     "start_time": "2020-07-07T11:48:57.689734Z"
    },
    "hidden": true
   },
   "outputs": [
    {
     "name": "stdout",
     "output_type": "stream",
     "text": [
      "<class 'list'>\n",
      "[['sam', 'dean', 'castiel'], 2, 3, 4, 5, 6]\n"
     ]
    }
   ],
   "source": [
    "# create new list from a list and variable \n",
    "a = [b,2,3,4,5,6]\n",
    "print(type(a))\n",
    "print(a)"
   ]
  },
  {
   "cell_type": "code",
   "execution_count": 77,
   "metadata": {
    "ExecuteTime": {
     "end_time": "2020-07-07T11:50:51.643610Z",
     "start_time": "2020-07-07T11:50:51.639620Z"
    },
    "hidden": true
   },
   "outputs": [
    {
     "name": "stdout",
     "output_type": "stream",
     "text": [
      "[2, 3, 4, 5]\n",
      "[3]\n",
      "[3, 4]\n"
     ]
    }
   ],
   "source": [
    "# slicing... note the last one is excluded\n",
    "partial_list = a[1:5]\n",
    "print(partial_list)\n",
    "partial_list2 = a[2:3]\n",
    "print(partial_list2)\n",
    "partial_list2 = a[2:4]\n",
    "print(partial_list2)"
   ]
  },
  {
   "cell_type": "markdown",
   "metadata": {},
   "source": [
    "## Dictionary"
   ]
  },
  {
   "cell_type": "code",
   "execution_count": 116,
   "metadata": {
    "ExecuteTime": {
     "end_time": "2020-07-07T12:04:36.720309Z",
     "start_time": "2020-07-07T12:04:36.716320Z"
    },
    "tags": []
   },
   "outputs": [
    {
     "name": "stdout",
     "output_type": "stream",
     "text": [
      "<class 'dict'>\n",
      "{}\n"
     ]
    }
   ],
   "source": [
    "#create  dictionary\n",
    "a={}\n",
    "print(type(a))\n",
    "print(a)"
   ]
  },
  {
   "cell_type": "code",
   "execution_count": 121,
   "metadata": {
    "ExecuteTime": {
     "end_time": "2020-07-07T12:06:03.687373Z",
     "start_time": "2020-07-07T12:06:03.682307Z"
    },
    "tags": []
   },
   "outputs": [
    {
     "name": "stdout",
     "output_type": "stream",
     "text": [
      "<class 'dict'>\n",
      "{'name': 'Julian', 'Age': 50.4, 'Weight': 250, 'Favourite_Colour': ['Red', 'Black']}\n",
      "['Red', 'Black']\n"
     ]
    }
   ],
   "source": [
    "#create a dictionary with data\n",
    "a={'name':'Julian','Age':50.4,'Weight':250,'Favourite_Colour':['Red','Black']}\n",
    "b={'name':'Mom','Age':58.4,'Weight':150,'Favourite_Colour':['Purple','Black']}\n",
    "print(type(a))\n",
    "print(a)\n",
    "print(a['Favourite_Colour'])"
   ]
  },
  {
   "cell_type": "code",
   "execution_count": 122,
   "metadata": {
    "ExecuteTime": {
     "end_time": "2020-07-07T12:06:12.375156Z",
     "start_time": "2020-07-07T12:06:12.372165Z"
    }
   },
   "outputs": [
    {
     "name": "stdout",
     "output_type": "stream",
     "text": [
      "{'name': 'Julian', 'Age': 50.4, 'Favourite_Colour': ['Red', 'Black']}\n",
      "{'name': 'Julian', 'Favourite_Colour': ['Red', 'Black']}\n"
     ]
    }
   ],
   "source": [
    "# delete a column from dictionary\n",
    "a.pop('Weight')\n",
    "print(a)\n",
    "del a['Age']\n",
    "print(a)"
   ]
  },
  {
   "cell_type": "code",
   "execution_count": 126,
   "metadata": {
    "ExecuteTime": {
     "end_time": "2020-07-07T12:07:14.758689Z",
     "start_time": "2020-07-07T12:07:14.754699Z"
    }
   },
   "outputs": [
    {
     "name": "stdout",
     "output_type": "stream",
     "text": [
      "['name', 'Age', 'Weight', 'Favourite_Colour']\n",
      "['Mom', 58.4, 149, ['Purple', 'Black']]\n",
      "{'name': 'Mom', 'Age': 58.4, 'Weight': 149, 'Favourite_Colour': ['Purple', 'Black']}\n"
     ]
    }
   ],
   "source": [
    "# using a key\n",
    "print(list(b.keys()))\n",
    "print(list(b.values()))\n",
    "b.update({'Weight':149})\n",
    "print(b)"
   ]
  },
  {
   "cell_type": "code",
   "execution_count": 132,
   "metadata": {
    "ExecuteTime": {
     "end_time": "2020-07-07T12:09:30.130207Z",
     "start_time": "2020-07-07T12:09:30.127300Z"
    }
   },
   "outputs": [
    {
     "name": "stdout",
     "output_type": "stream",
     "text": [
      "{0: 4, 1: 3, 2: 2, 3: 1, 4: 0}\n"
     ]
    }
   ],
   "source": [
    "# create dictionary using list\n",
    "#range(5): 0,1,2,3,4\n",
    "#reversed(): 4,3,2,1,0\n",
    "#zip(): 0:4,1:3, 2:2,3:1,4:0\n",
    "mapping = dict(zip(range(5),reversed(range(5))))\n",
    "print(mapping)"
   ]
  },
  {
   "cell_type": "code",
   "execution_count": 138,
   "metadata": {
    "ExecuteTime": {
     "end_time": "2020-07-07T12:13:40.854339Z",
     "start_time": "2020-07-07T12:13:40.850349Z"
    }
   },
   "outputs": [
    {
     "name": "stdout",
     "output_type": "stream",
     "text": [
      "['Purple', 'Black']\n",
      "Always\n"
     ]
    }
   ],
   "source": [
    "# default values\n",
    "colour = b.get('Favourite_Colour','Black')\n",
    "wantstoeat = b.get('Hungry','Always')\n",
    "print(colour)\n",
    "print(wantstoeat)"
   ]
  },
  {
   "cell_type": "markdown",
   "metadata": {},
   "source": [
    "## Set"
   ]
  },
  {
   "cell_type": "code",
   "execution_count": 179,
   "metadata": {
    "ExecuteTime": {
     "end_time": "2020-07-07T12:31:46.981787Z",
     "start_time": "2020-07-07T12:31:46.977800Z"
    }
   },
   "outputs": [
    {
     "name": "stdout",
     "output_type": "stream",
     "text": [
      "{1, 2, 3, 7}\n",
      "{1, 2, 3, 4, 5}\n"
     ]
    }
   ],
   "source": [
    "# Set is like a list but with no order and does not allow duplicate\n",
    "a = set([2,2,7,1,3,3])\n",
    "print(a)\n",
    "b = {1,2,3,4,5,5,4,2,1}\n",
    "print(b)"
   ]
  },
  {
   "cell_type": "code",
   "execution_count": 180,
   "metadata": {
    "ExecuteTime": {
     "end_time": "2020-07-07T12:31:48.085854Z",
     "start_time": "2020-07-07T12:31:48.081865Z"
    }
   },
   "outputs": [
    {
     "name": "stdout",
     "output_type": "stream",
     "text": [
      "{1, 2, 3, 7}\n",
      "set()\n",
      "{1, 2, 3, 4, 5, 8}\n"
     ]
    }
   ],
   "source": [
    "# Self function\n",
    "c = a.copy() #both edits will be udpated for both sets if use =\n",
    "print(c)\n",
    "\n",
    "a.clear()\n",
    "print(a)\n",
    "\n",
    "b.add(8)\n",
    "print(b)"
   ]
  },
  {
   "cell_type": "code",
   "execution_count": 181,
   "metadata": {
    "ExecuteTime": {
     "end_time": "2020-07-07T12:33:30.823361Z",
     "start_time": "2020-07-07T12:33:30.819372Z"
    }
   },
   "outputs": [
    {
     "name": "stdout",
     "output_type": "stream",
     "text": [
      "{1, 2, 3, 4, 5, 7, 8}\n",
      "{1, 2, 3}\n",
      "{1, 2, 3, 4, 5, 7, 8}\n"
     ]
    }
   ],
   "source": [
    "# Interact function\n",
    "d = c.union(b)\n",
    "e = c.intersection(b)\n",
    "print(d)\n",
    "print(e)\n",
    "\n",
    "f = c.copy()\n",
    "f.update(b) #Note: using update changes current set instead of creating new set\n",
    "print(f)\n",
    "\n",
    "#intersection(b)\n",
    "#intersection_update(b)\n",
    "#difference(b)\n",
    "#difference_update(b)\n",
    "#symmetric_difference(b)\n",
    "#symmetric_difference_update(b)\n",
    "#issubset(b)\n",
    "#issuperset(b)\n",
    "#isdisjoint(b)"
   ]
  },
  {
   "cell_type": "markdown",
   "metadata": {},
   "source": [
    "## Class"
   ]
  },
  {
   "cell_type": "code",
   "execution_count": null,
   "metadata": {
    "ExecuteTime": {
     "end_time": "2020-07-07T09:26:20.630317Z",
     "start_time": "2020-07-07T09:26:20.625330Z"
    }
   },
   "outputs": [],
   "source": [
    "#create class\n",
    "class dog:\n",
    "    def __init__(self,name,month,day,year,speakText):\n",
    "        self.name = name\n",
    "        self.month = month\n",
    "        self.day = day\n",
    "        self.year = year\n",
    "        self.speakText = speakText\n",
    "    def speak(self):\n",
    "        return self.speakText\n",
    "    def getName(self):\n",
    "        return self.name\n",
    "    def birthday(self):\n",
    "        return  str(self.month) + '/' + str(self.day) + '/' + str(self.year)\n",
    "    def changeBark(self,bark):\n",
    "        self.speakText = bark"
   ]
  },
  {
   "cell_type": "code",
   "execution_count": null,
   "metadata": {
    "ExecuteTime": {
     "end_time": "2020-07-07T09:26:24.677573Z",
     "start_time": "2020-07-07T09:26:24.668597Z"
    },
    "tags": []
   },
   "outputs": [],
   "source": [
    "#calling a class\n",
    "boydog = dog('Coco',12,31,2013,'WOOF')\n",
    "girldog = dog('Kitkat',6,4,2014,'WOOOOOOF')\n",
    "print(boydog.speak())\n",
    "print(boydog.birthday())\n",
    "print(girldog.speak())\n",
    "print(girldog.birthday())"
   ]
  },
  {
   "cell_type": "markdown",
   "metadata": {
    "heading_collapsed": true
   },
   "source": [
    "# Functions"
   ]
  },
  {
   "cell_type": "markdown",
   "metadata": {
    "hidden": true
   },
   "source": [
    "## Create function"
   ]
  },
  {
   "cell_type": "code",
   "execution_count": 238,
   "metadata": {
    "ExecuteTime": {
     "end_time": "2020-07-07T12:43:19.387401Z",
     "start_time": "2020-07-07T12:43:19.383412Z"
    },
    "hidden": true
   },
   "outputs": [
    {
     "name": "stdout",
     "output_type": "stream",
     "text": [
      "[]\n"
     ]
    }
   ],
   "source": [
    "# define function\n",
    "a = []\n",
    "def my_func():\n",
    "    for i in range(1):\n",
    "        a.append('*')\n",
    "print(a)"
   ]
  },
  {
   "cell_type": "code",
   "execution_count": 239,
   "metadata": {
    "ExecuteTime": {
     "end_time": "2020-07-07T12:43:20.020277Z",
     "start_time": "2020-07-07T12:43:20.017285Z"
    },
    "hidden": true
   },
   "outputs": [
    {
     "name": "stdout",
     "output_type": "stream",
     "text": [
      "['*']\n"
     ]
    }
   ],
   "source": [
    "# use function\n",
    "my_func()\n",
    "print(a)"
   ]
  },
  {
   "cell_type": "code",
   "execution_count": 241,
   "metadata": {
    "ExecuteTime": {
     "end_time": "2020-07-07T12:45:00.343908Z",
     "start_time": "2020-07-07T12:45:00.340917Z"
    },
    "hidden": true
   },
   "outputs": [
    {
     "data": {
      "text/plain": [
       "4"
      ]
     },
     "execution_count": 241,
     "metadata": {},
     "output_type": "execute_result"
    }
   ],
   "source": [
    "# lambda function\n",
    "lambda_function = lambda x: x*2\n",
    "lambda_function(2)"
   ]
  },
  {
   "cell_type": "markdown",
   "metadata": {
    "hidden": true
   },
   "source": [
    "## Structure Manipulation"
   ]
  },
  {
   "cell_type": "code",
   "execution_count": 94,
   "metadata": {
    "ExecuteTime": {
     "end_time": "2020-07-07T11:56:53.907322Z",
     "start_time": "2020-07-07T11:56:53.904330Z"
    },
    "hidden": true
   },
   "outputs": [
    {
     "name": "stdout",
     "output_type": "stream",
     "text": [
      "[2, 3, 5, 7]\n"
     ]
    }
   ],
   "source": [
    "# Sort\n",
    "b = sorted(a)\n",
    "print (b)"
   ]
  },
  {
   "cell_type": "code",
   "execution_count": 95,
   "metadata": {
    "ExecuteTime": {
     "end_time": "2020-07-07T11:56:54.442890Z",
     "start_time": "2020-07-07T11:56:54.438901Z"
    },
    "hidden": true
   },
   "outputs": [
    {
     "name": "stdout",
     "output_type": "stream",
     "text": [
      "<zip object at 0x000001C40F753408>\n",
      "[(1, 4), (2, 5), (3, 6)]\n"
     ]
    }
   ],
   "source": [
    "# zip\n",
    "a = [1,2,3]\n",
    "b = [4,5,6]\n",
    "c = zip(a,b)\n",
    "print(c)\n",
    "print(list(c))"
   ]
  },
  {
   "cell_type": "markdown",
   "metadata": {
    "ExecuteTime": {
     "end_time": "2020-07-07T12:38:19.813584Z",
     "start_time": "2020-07-07T12:38:19.810592Z"
    },
    "hidden": true
   },
   "source": [
    "## Flow Control"
   ]
  },
  {
   "cell_type": "code",
   "execution_count": 93,
   "metadata": {
    "ExecuteTime": {
     "end_time": "2020-07-07T11:56:50.420091Z",
     "start_time": "2020-07-07T11:56:50.416102Z"
    },
    "hidden": true
   },
   "outputs": [
    {
     "name": "stdout",
     "output_type": "stream",
     "text": [
      "haha\n",
      "haha\n",
      "haha\n",
      "haha\n"
     ]
    }
   ],
   "source": [
    "# Enumerate\n",
    "a = [2,3,7,5]\n",
    "\n",
    "i = 0\n",
    "for value in a:\n",
    "    print('haha')\n",
    "    i += 1"
   ]
  },
  {
   "cell_type": "code",
   "execution_count": 96,
   "metadata": {
    "ExecuteTime": {
     "end_time": "2020-07-07T11:56:55.083186Z",
     "start_time": "2020-07-07T11:56:55.079198Z"
    },
    "hidden": true
   },
   "outputs": [
    {
     "name": "stdout",
     "output_type": "stream",
     "text": [
      "zero\n"
     ]
    }
   ],
   "source": [
    "#if, elif, and else\n",
    "x = 0\n",
    "if x > 0:\n",
    "    print ('good')\n",
    "elif x == 0:\n",
    "    print ('zero')\n",
    "else:\n",
    "    print ('bad')"
   ]
  },
  {
   "cell_type": "code",
   "execution_count": 97,
   "metadata": {
    "ExecuteTime": {
     "end_time": "2020-07-07T11:56:56.398679Z",
     "start_time": "2020-07-07T11:56:56.395686Z"
    },
    "hidden": true
   },
   "outputs": [
    {
     "name": "stdout",
     "output_type": "stream",
     "text": [
      "3\n",
      "4\n",
      "5\n"
     ]
    }
   ],
   "source": [
    "#for loop\n",
    "x = [1,2,2,2,3,4,5]\n",
    "for value in x:\n",
    "    if value > 2:\n",
    "        print(value)\n",
    "    else:\n",
    "        pass #write another logic later"
   ]
  },
  {
   "cell_type": "code",
   "execution_count": 98,
   "metadata": {
    "ExecuteTime": {
     "end_time": "2020-07-07T11:56:57.443903Z",
     "start_time": "2020-07-07T11:56:57.440911Z"
    },
    "hidden": true
   },
   "outputs": [
    {
     "name": "stdout",
     "output_type": "stream",
     "text": [
      "2\n",
      "1\n",
      "0\n"
     ]
    }
   ],
   "source": [
    "#while loop\n",
    "x = 3\n",
    "while x > 0:\n",
    "    x = x - 1\n",
    "    print(x)"
   ]
  },
  {
   "cell_type": "code",
   "execution_count": 99,
   "metadata": {
    "ExecuteTime": {
     "end_time": "2020-07-07T11:56:57.970998Z",
     "start_time": "2020-07-07T11:56:57.968006Z"
    },
    "hidden": true
   },
   "outputs": [
    {
     "name": "stdout",
     "output_type": "stream",
     "text": [
      "0\n",
      "2\n",
      "4\n"
     ]
    }
   ],
   "source": [
    "#range\n",
    "x = [1,2,3,4,5]\n",
    "for x in list(range(0,6,2)): #begin, end, step. End is excluded.\n",
    "    print(x)"
   ]
  },
  {
   "cell_type": "code",
   "execution_count": 100,
   "metadata": {
    "ExecuteTime": {
     "end_time": "2020-07-07T11:56:58.466189Z",
     "start_time": "2020-07-07T11:56:58.462200Z"
    },
    "hidden": true
   },
   "outputs": [
    {
     "data": {
      "text/plain": [
       "'You are good'"
      ]
     },
     "execution_count": 100,
     "metadata": {},
     "output_type": "execute_result"
    }
   ],
   "source": [
    "#ternary expression. No elif here.\n",
    "x = 5\n",
    "'You are good' if x > 0 else 'You are bad'"
   ]
  }
 ],
 "metadata": {
  "kernelspec": {
   "display_name": "Python 3",
   "language": "python",
   "name": "python3"
  },
  "language_info": {
   "codemirror_mode": {
    "name": "ipython",
    "version": 3
   },
   "file_extension": ".py",
   "mimetype": "text/x-python",
   "name": "python",
   "nbconvert_exporter": "python",
   "pygments_lexer": "ipython3",
   "version": "3.7.6"
  },
  "varInspector": {
   "cols": {
    "lenName": 16,
    "lenType": 16,
    "lenVar": "100"
   },
   "kernels_config": {
    "python": {
     "delete_cmd_postfix": "",
     "delete_cmd_prefix": "del ",
     "library": "var_list.py",
     "varRefreshCmd": "print(var_dic_list())"
    },
    "r": {
     "delete_cmd_postfix": ") ",
     "delete_cmd_prefix": "rm(",
     "library": "var_list.r",
     "varRefreshCmd": "cat(var_dic_list()) "
    }
   },
   "types_to_exclude": [
    "module",
    "function",
    "builtin_function_or_method",
    "instance",
    "_Feature"
   ],
   "window_display": false
  }
 },
 "nbformat": 4,
 "nbformat_minor": 4
}
