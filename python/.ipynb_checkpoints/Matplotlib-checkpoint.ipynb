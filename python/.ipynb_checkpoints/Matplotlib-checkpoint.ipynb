{
 "cells": [
  {
   "cell_type": "code",
   "execution_count": null,
   "metadata": {},
   "outputs": [],
   "source": [
    "import matplotlib.pyplot as plt\n",
    "import numpy as np\n",
    "%matplotlib inline"
   ]
  },
  {
   "cell_type": "code",
   "execution_count": null,
   "metadata": {},
   "outputs": [],
   "source": [
    "# #Get values from the group and categories\n",
    "# quarter = [\"Q1\", \"Q2\", \"Q3\", \"Q4\"]\n",
    "# jeans = [100, 75, 50, 133]\n",
    "# tshirt = [44, 120, 150, 33]\n",
    "# formal_shirt = [70, 90, 111, 80]\n",
    "    \n",
    "# #add colors\n",
    "# colors = ['#FF9999', '#00BFFF','#C1FFC1','#CAE1FF','#FFDEAD']\n",
    "# # The position of the bars on the x-axis\n",
    "# r = range(len(quarter))\n",
    "# barWidth = 1\n",
    "# #plot bars\n",
    "# plt.figure(figsize=(10,7))\n",
    "# ax1 = plt.bar(r, jeans, color=colors[0], edgecolor='white', width=barWidth, label=\"jeans\")\n",
    "# ax2 = plt.bar(r, tshirt, bottom=np.array(jeans), color=colors[1], edgecolor='white', width=barWidth, label='tshirt')\n",
    "# ax3 = plt.bar(r, formal_shirt, bottom=np.array(jeans)+np.array(tshirt), color=colors[2], edgecolor='white', width=barWidth, label='formal shirt')\n",
    "# plt.legend()\n",
    "# # Custom X axis\n",
    "# plt.xticks(r, quarter, fontweight='bold')\n",
    "# plt.ylabel(\"sales\")\n",
    "# for r1, r2, r3 in zip(ax1, ax2, ax3):\n",
    "#     h1 = r1.get_height()\n",
    "#     h2 = r2.get_height()\n",
    "#     h3 = r3.get_height()\n",
    "#     plt.text(r1.get_x() + r1.get_width() / 2., h1 / 2., \"%d\" % h1, ha=\"center\", va=\"center\", color=\"white\", fontsize=16, fontweight=\"bold\")\n",
    "#     plt.text(r2.get_x() + r2.get_width() / 2., h1 + h2 / 2., \"%d\" % h2, ha=\"center\", va=\"center\", color=\"white\", fontsize=16, fontweight=\"bold\")\n",
    "#     plt.text(r3.get_x() + r3.get_width() / 2., h1 + h2 + h3 / 2., \"%d\" % h3, ha=\"center\", va=\"center\", color=\"white\", fontsize=16, fontweight=\"bold\")\n",
    "# plt.savefig(\"stacked2.png\")\n",
    "# plt.show()"
   ]
  },
  {
   "cell_type": "code",
   "execution_count": null,
   "metadata": {},
   "outputs": [],
   "source": [
    "# stacked bar plot\n",
    "# import numpy as np\n",
    "# import matplotlib.pyplot as plt\n",
    "# #Get values from the group and categories\n",
    "# quarter = np.array([\"Q1\", \"Q2\", \"Q3\", \"Q4\"])\n",
    "# jeans = np.array([100, 75, 50, 133])\n",
    "# tshirt = np.array([44, 120, 150, 33])\n",
    "# formal_shirt = np.array([70, 90, 111, 80])\n",
    "# total = jeans+ tshirt+ formal_shirt\n",
    "# proportion_jeans = np.true_divide(jeans, total) * 100\n",
    "# proportion_tshirts = np.true_divide(tshirt, total) * 100\n",
    "# proportion_formal = np.true_divide(formal_shirt, total) * 100\n",
    "    \n",
    "# #add colors\n",
    "# colors = ['#FF9999', '#00BFFF','#C1FFC1','#CAE1FF','#FFDEAD']\n",
    "# # The position of the bars on the x-axis\n",
    "# r = range(len(quarter))\n",
    "# barWidth = 1\n",
    "# #plot bars\n",
    "# plt.figure(figsize=(10,7))\n",
    "# ax1 = plt.bar(r, proportion_jeans, bottom=proportion_tshirts+proportion_formal, color=colors[0], edgecolor='white', width=barWidth, label=\"jeans\")\n",
    "# ax2 = plt.bar(r, proportion_tshirts, bottom=proportion_formal, color=colors[1], edgecolor='white', width=barWidth, label='tshirt')\n",
    "# ax3 = plt.bar(r, proportion_formal, color=colors[2], edgecolor='white', width=barWidth, label='formal shirt')\n",
    "# plt.legend()\n",
    "# plt.xticks(r, quarter, fontweight='bold')\n",
    "# plt.ylabel(\"sales\")\n",
    "# plt.savefig(\"percentileStacked.png\")\n",
    "# plt.show()"
   ]
  },
  {
   "cell_type": "code",
   "execution_count": null,
   "metadata": {},
   "outputs": [],
   "source": [
    "# # stacked bar plot\n",
    "# import numpy as np\n",
    "# import matplotlib.pyplot as plt\n",
    "# #Get values from the group and categories\n",
    "# quarter = [\"Q1\", \"Q2\", \"Q3\", \"Q4\"]\n",
    "# jeans = [100, 75, 50, 133]\n",
    "# tshirt = [44, 120, 150, 33]\n",
    "# formal_shirt = [70, 90, 111, 80]\n",
    "    \n",
    "# #add colors\n",
    "# colors = ['#FF9999', '#00BFFF','#C1FFC1','#CAE1FF','#FFDEAD']\n",
    "# # The position of the bars on the x-axis\n",
    "# r = range(len(quarter))\n",
    "# barWidth = 1\n",
    "# #plot bars\n",
    "# plt.figure(figsize=(10,7))\n",
    "# plt.bar(r, jeans, color=colors[0], edgecolor='white', width=barWidth, label=\"jeans\")\n",
    "# plt.bar(r, tshirt, bottom=np.array(jeans), color=colors[1], edgecolor='white', width=barWidth, label='tshirt')\n",
    "# plt.bar(r, formal_shirt, bottom=np.array(jeans)+np.array(tshirt), color=colors[2], edgecolor='white', width=barWidth, label='formal shirt')\n",
    "# plt.legend()\n",
    "# # Custom X axis\n",
    "# plt.xticks(r, quarter, fontweight='bold')\n",
    "# plt.ylabel(\"sales\")\n",
    "# plt.savefig(\"stacked1.png\")\n",
    "# plt.show()"
   ]
  }
 ],
 "metadata": {
  "kernelspec": {
   "display_name": "Python 3",
   "language": "python",
   "name": "python3"
  },
  "language_info": {
   "codemirror_mode": {
    "name": "ipython",
    "version": 3
   },
   "file_extension": ".py",
   "mimetype": "text/x-python",
   "name": "python",
   "nbconvert_exporter": "python",
   "pygments_lexer": "ipython3",
   "version": "3.7.6"
  },
  "varInspector": {
   "cols": {
    "lenName": 16,
    "lenType": 16,
    "lenVar": 40
   },
   "kernels_config": {
    "python": {
     "delete_cmd_postfix": "",
     "delete_cmd_prefix": "del ",
     "library": "var_list.py",
     "varRefreshCmd": "print(var_dic_list())"
    },
    "r": {
     "delete_cmd_postfix": ") ",
     "delete_cmd_prefix": "rm(",
     "library": "var_list.r",
     "varRefreshCmd": "cat(var_dic_list()) "
    }
   },
   "types_to_exclude": [
    "module",
    "function",
    "builtin_function_or_method",
    "instance",
    "_Feature"
   ],
   "window_display": false
  }
 },
 "nbformat": 4,
 "nbformat_minor": 4
}
