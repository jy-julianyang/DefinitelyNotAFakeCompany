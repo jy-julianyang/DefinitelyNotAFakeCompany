{
 "cells": [
  {
   "cell_type": "markdown",
   "metadata": {
    "ExecuteTime": {
     "end_time": "2020-05-21T13:39:00.253441Z",
     "start_time": "2020-05-21T13:39:00.249440Z"
    },
    "heading_collapsed": true
   },
   "source": [
    "#  Explore"
   ]
  },
  {
   "cell_type": "code",
   "execution_count": null,
   "metadata": {
    "ExecuteTime": {
     "end_time": "2020-05-25T10:07:35.087923Z",
     "start_time": "2020-05-25T10:07:35.084931Z"
    },
    "hidden": true
   },
   "outputs": [],
   "source": [
    "#Libraries\n",
    "import pandas as pd\n",
    "import seaborn as sns\n",
    "from scipy import stats"
   ]
  },
  {
   "cell_type": "code",
   "execution_count": null,
   "metadata": {
    "ExecuteTime": {
     "end_time": "2020-05-25T10:07:43.369320Z",
     "start_time": "2020-05-25T10:07:36.136139Z"
    },
    "hidden": true
   },
   "outputs": [],
   "source": [
    "#Load Data\n",
    "df = pd.read_excel('..\\\\data\\\\Equipment_Age_SQL_Export.xlsx', index_col='EquipmentCode')"
   ]
  },
  {
   "cell_type": "code",
   "execution_count": null,
   "metadata": {
    "ExecuteTime": {
     "end_time": "2020-05-25T10:07:44.148741Z",
     "start_time": "2020-05-25T10:07:44.129793Z"
    },
    "hidden": true,
    "scrolled": true
   },
   "outputs": [],
   "source": [
    "#How many prefixes did i load?\n",
    "Prefix = list(dict.fromkeys(list(df['SN1'])))\n",
    "Prefix"
   ]
  },
  {
   "cell_type": "code",
   "execution_count": null,
   "metadata": {
    "ExecuteTime": {
     "end_time": "2020-05-25T10:07:45.158076Z",
     "start_time": "2020-05-25T10:07:45.119180Z"
    },
    "hidden": true
   },
   "outputs": [],
   "source": [
    "# Testing with BZY\n",
    "BZY = df.drop(df.index[df.SN1 != 'BZY'])\n",
    "BZY.describe()"
   ]
  },
  {
   "cell_type": "code",
   "execution_count": null,
   "metadata": {
    "ExecuteTime": {
     "end_time": "2020-05-25T10:07:47.031637Z",
     "start_time": "2020-05-25T10:07:47.027649Z"
    },
    "hidden": true
   },
   "outputs": [],
   "source": [
    "#Print out columns for copy and paste\n",
    "BZY.columns"
   ]
  },
  {
   "cell_type": "code",
   "execution_count": null,
   "metadata": {
    "ExecuteTime": {
     "end_time": "2020-05-25T10:07:48.169659Z",
     "start_time": "2020-05-25T10:07:48.165670Z"
    },
    "hidden": true
   },
   "outputs": [],
   "source": [
    "#First play with Age_From_DBS. I need SN2 for matching and drop everything else.\n",
    "Explore = BZY.drop(['SerialNumber', 'SN1'\n",
    "#                     , 'SN2'\n",
    "                    ,'WODollarTotal'\n",
    "                    , 'ModelName'\n",
    "#                     , 'Age_In_Months_From_DBS'\n",
    "                    ,'Age_In_Months_From_Delivery'\n",
    "                    , 'Age_In_Months_From_DBS_Delivery'\n",
    "                    ,'Age_In_Months_From_Delivery_DBS'],axis=1)"
   ]
  },
  {
   "cell_type": "code",
   "execution_count": null,
   "metadata": {
    "ExecuteTime": {
     "end_time": "2020-05-25T10:07:48.933183Z",
     "start_time": "2020-05-25T10:07:48.929195Z"
    },
    "hidden": true
   },
   "outputs": [],
   "source": [
    "#Check columns again\n",
    "Explore.columns"
   ]
  },
  {
   "cell_type": "code",
   "execution_count": null,
   "metadata": {
    "ExecuteTime": {
     "end_time": "2020-05-25T10:07:50.292614Z",
     "start_time": "2020-05-25T10:07:49.534630Z"
    },
    "hidden": true,
    "scrolled": false
   },
   "outputs": [],
   "source": [
    "#Check scatter plot and distribution\n",
    "sns.pairplot(Explore, kind='reg', diag_kind='hist',\n",
    "height=4, aspect=1,\n",
    "plot_kws={'scatter_kws': {'alpha': 0.7}})"
   ]
  },
  {
   "cell_type": "code",
   "execution_count": null,
   "metadata": {
    "ExecuteTime": {
     "end_time": "2020-05-25T10:07:52.207029Z",
     "start_time": "2020-05-25T10:07:52.204036Z"
    },
    "hidden": true,
    "scrolled": true
   },
   "outputs": [],
   "source": [
    "# From the scatter, i can tell this is not exactly a linear relationship. Do a few more.\n"
   ]
  },
  {
   "cell_type": "code",
   "execution_count": null,
   "metadata": {
    "ExecuteTime": {
     "end_time": "2020-05-25T10:07:54.608127Z",
     "start_time": "2020-05-25T10:07:53.898513Z"
    },
    "hidden": true
   },
   "outputs": [],
   "source": [
    "RKB = df.drop(df.index[df.SN1 != 'RKB'])\n",
    "\n",
    "Explore = RKB.drop(['SerialNumber', 'SN1'\n",
    "#                     , 'SN2'\n",
    "                    ,'WODollarTotal'\n",
    "                    , 'ModelName'\n",
    "#                     , 'Age_In_Months_From_DBS'\n",
    "                    ,'Age_In_Months_From_Delivery'\n",
    "                    , 'Age_In_Months_From_DBS_Delivery'\n",
    "                    ,'Age_In_Months_From_Delivery_DBS'],axis=1)\n",
    "sns.pairplot(Explore, kind='reg', diag_kind='hist', height=4, aspect=1, plot_kws={'scatter_kws': {'alpha': 0.7}}) "
   ]
  },
  {
   "cell_type": "code",
   "execution_count": null,
   "metadata": {
    "ExecuteTime": {
     "end_time": "2020-05-25T10:07:56.925441Z",
     "start_time": "2020-05-25T10:07:56.122087Z"
    },
    "hidden": true
   },
   "outputs": [],
   "source": [
    "SPN = df.drop(df.index[df.SN1 != 'SPN'])\n",
    "\n",
    "Explore = SPN.drop(['SerialNumber', 'SN1'\n",
    "#                     , 'SN2'\n",
    "                    ,'WODollarTotal'\n",
    "                    , 'ModelName'\n",
    "#                     , 'Age_In_Months_From_DBS'\n",
    "                    ,'Age_In_Months_From_Delivery'\n",
    "                    , 'Age_In_Months_From_DBS_Delivery'\n",
    "                    ,'Age_In_Months_From_Delivery_DBS'],axis=1)\n",
    "sns.pairplot(Explore, kind='reg', diag_kind='hist', height=4, aspect=1, plot_kws={'scatter_kws': {'alpha': 0.7}}) "
   ]
  },
  {
   "cell_type": "code",
   "execution_count": null,
   "metadata": {
    "ExecuteTime": {
     "end_time": "2020-05-25T10:07:58.409974Z",
     "start_time": "2020-05-25T10:07:57.675434Z"
    },
    "hidden": true
   },
   "outputs": [],
   "source": [
    "EMB = df.drop(df.index[df.SN1 != 'EMB'])\n",
    "\n",
    "Explore = EMB.drop(['SerialNumber', 'SN1'\n",
    "#                     , 'SN2'\n",
    "                    ,'WODollarTotal'\n",
    "                    , 'ModelName'\n",
    "#                     , 'Age_In_Months_From_DBS'\n",
    "                    ,'Age_In_Months_From_Delivery'\n",
    "                    , 'Age_In_Months_From_DBS_Delivery'\n",
    "                    ,'Age_In_Months_From_Delivery_DBS'],axis=1)\n",
    "sns.pairplot(Explore, kind='reg', diag_kind='hist', height=4, aspect=1, plot_kws={'scatter_kws': {'alpha': 0.7}}) "
   ]
  },
  {
   "cell_type": "code",
   "execution_count": null,
   "metadata": {
    "ExecuteTime": {
     "end_time": "2020-05-25T10:08:00.031194Z",
     "start_time": "2020-05-25T10:07:59.247263Z"
    },
    "hidden": true
   },
   "outputs": [],
   "source": [
    "B1M = df.drop(df.index[df.SN1 != 'B1M'])\n",
    "Explore = B1M.drop(['SerialNumber', 'SN1'\n",
    "#                     , 'SN2'\n",
    "                    ,'WODollarTotal'\n",
    "                    , 'ModelName'\n",
    "#                     , 'Age_In_Months_From_DBS'\n",
    "                    ,'Age_In_Months_From_Delivery'\n",
    "                    , 'Age_In_Months_From_DBS_Delivery'\n",
    "                    ,'Age_In_Months_From_Delivery_DBS'],axis=1)\n",
    "sns.pairplot(Explore, kind='reg', diag_kind='hist', height=4, aspect=1, plot_kws={'scatter_kws': {'alpha': 0.7}}) "
   ]
  },
  {
   "cell_type": "code",
   "execution_count": null,
   "metadata": {
    "ExecuteTime": {
     "end_time": "2020-05-25T10:08:02.115641Z",
     "start_time": "2020-05-25T10:08:01.218523Z"
    },
    "hidden": true
   },
   "outputs": [],
   "source": [
    "TZA = df.drop(df.index[df.SN1 != 'TZA'])\n",
    "Explore = TZA.drop(['SerialNumber', 'SN1'\n",
    "#                     , 'SN2'\n",
    "                    ,'WODollarTotal'\n",
    "                    , 'ModelName'\n",
    "#                     , 'Age_In_Months_From_DBS'\n",
    "                    ,'Age_In_Months_From_Delivery'\n",
    "                    , 'Age_In_Months_From_DBS_Delivery'\n",
    "                    ,'Age_In_Months_From_Delivery_DBS'],axis=1)\n",
    "sns.pairplot(Explore, kind='reg', diag_kind='hist', height=4, aspect=1, plot_kws={'scatter_kws': {'alpha': 0.7}}) "
   ]
  },
  {
   "cell_type": "markdown",
   "metadata": {
    "heading_collapsed": true
   },
   "source": [
    "# Model"
   ]
  },
  {
   "cell_type": "code",
   "execution_count": null,
   "metadata": {
    "ExecuteTime": {
     "end_time": "2020-05-25T10:08:05.195528Z",
     "start_time": "2020-05-25T10:08:05.191540Z"
    },
    "hidden": true
   },
   "outputs": [],
   "source": [
    "#Since we are filling missing data in a sequencial curce, I decided to use interpolation function to estimate cat production rate.\n",
    "Data_found = Explore.dropna()"
   ]
  },
  {
   "cell_type": "code",
   "execution_count": null,
   "metadata": {
    "ExecuteTime": {
     "end_time": "2020-05-25T10:08:05.932555Z",
     "start_time": "2020-05-25T10:08:05.927569Z"
    },
    "hidden": true
   },
   "outputs": [],
   "source": [
    "#Convert both SN2 and age to interger. I don't kno\n",
    "X = Data_found[['SN2']].squeeze()\n",
    "Y = Data_found[['Age_In_Months_From_DBS']].squeeze()\n",
    "X = X.astype(int)\n",
    "Y = Y.astype(int)"
   ]
  },
  {
   "cell_type": "code",
   "execution_count": null,
   "metadata": {
    "ExecuteTime": {
     "end_time": "2020-05-25T10:08:06.534954Z",
     "start_time": "2020-05-25T10:08:06.530966Z"
    },
    "hidden": true
   },
   "outputs": [],
   "source": [
    "from scipy import interpolate\n",
    "from scipy.interpolate import *\n",
    "\n",
    "# Scipy learn interp1d\n",
    "model = interp1d(X, Y,kind='linear',fill_value=\"extrapolate\")\n",
    "\n",
    "#Scipy developer note: #Note.  At the end i will test different interpolation \"kind\" by comparing linear regression errors.\n",
    "#Note2: kind: str or int, optional\n",
    "# Specifies the kind of interpolation as a string (‘linear’, ‘nearest’, ‘zero’, ‘slinear’, ‘quadratic’, ‘cubic’, ‘previous’, ‘next’, where ‘zero’, ‘slinear’, ‘quadratic’ and ‘cubic’ refer to a spline interpolation of zeroth, first, second or third order; ‘previous’ and ‘next’ simply return the previous or next value of the point) or as an integer specifying the order of the spline interpolator to use. Default is ‘linear’."
   ]
  },
  {
   "cell_type": "code",
   "execution_count": null,
   "metadata": {
    "ExecuteTime": {
     "end_time": "2020-05-25T10:08:07.332839Z",
     "start_time": "2020-05-25T10:08:07.316883Z"
    },
    "hidden": true,
    "scrolled": false
   },
   "outputs": [],
   "source": [
    "# Predict all machines in explore which i did not drop na\n",
    "Predict = Explore\n",
    "for idx in Predict.index.values:\n",
    "    Predict.loc[idx, 'Predicted_Age_By_DBS_Year'] = model(Predict.loc[idx, 'SN2'])"
   ]
  },
  {
   "cell_type": "code",
   "execution_count": null,
   "metadata": {
    "ExecuteTime": {
     "end_time": "2020-05-25T10:08:07.932738Z",
     "start_time": "2020-05-25T10:08:07.927752Z"
    },
    "hidden": true
   },
   "outputs": [],
   "source": [
    "# Check Output\n",
    "Check_Output = Predict.dropna()\n",
    "print(Check_Output)"
   ]
  },
  {
   "cell_type": "code",
   "execution_count": null,
   "metadata": {
    "ExecuteTime": {
     "end_time": "2020-05-25T10:08:10.145837Z",
     "start_time": "2020-05-25T10:08:09.468134Z"
    },
    "hidden": true
   },
   "outputs": [],
   "source": [
    "Check_Output = Check_Output.drop(['SN2'],axis=1)\n",
    "\n",
    "sns.pairplot(Check_Output, kind='reg', diag_kind='hist', height=4, aspect=1, plot_kws={'scatter_kws': {'alpha': 0.7}}) "
   ]
  },
  {
   "cell_type": "markdown",
   "metadata": {
    "heading_collapsed": true,
    "hidden": true
   },
   "source": [
    "## Smoothing kind and error tests"
   ]
  },
  {
   "cell_type": "markdown",
   "metadata": {
    "heading_collapsed": true,
    "hidden": true
   },
   "source": [
    "### Test Conclusion: Use nearest because of extrapolation values. For instance: RKB03000 and RKB10100 are similiar age"
   ]
  },
  {
   "cell_type": "markdown",
   "metadata": {
    "heading_collapsed": true,
    "hidden": true
   },
   "source": [
    "### linear"
   ]
  },
  {
   "cell_type": "code",
   "execution_count": null,
   "metadata": {
    "ExecuteTime": {
     "end_time": "2020-05-24T13:44:34.250680Z",
     "start_time": "2020-05-24T13:44:34.139698Z"
    },
    "hidden": true
   },
   "outputs": [],
   "source": [
    "df = pd.read_excel('..\\\\data\\\\EquipmentAge_Partial.xlsx', index_col='EquipmentCode')"
   ]
  },
  {
   "cell_type": "code",
   "execution_count": null,
   "metadata": {
    "ExecuteTime": {
     "end_time": "2020-05-24T13:44:35.422168Z",
     "start_time": "2020-05-24T13:44:35.418164Z"
    },
    "hidden": true
   },
   "outputs": [],
   "source": [
    "Prefix = list(dict.fromkeys(list(df['SN1'])))"
   ]
  },
  {
   "cell_type": "code",
   "execution_count": null,
   "metadata": {
    "ExecuteTime": {
     "end_time": "2020-05-24T13:44:39.166976Z",
     "start_time": "2020-05-24T13:44:38.621385Z"
    },
    "hidden": true,
    "scrolled": true
   },
   "outputs": [],
   "source": [
    "Results = pd.DataFrame()\n",
    "\n",
    "for x in Prefix:\n",
    "    Looping_Prefix = df.drop(df.index[df.SN1 != x])\n",
    "    Looping_Prefix = Looping_Prefix.drop(['SerialNumber', 'SN1'                    , 'ModelName'                    ,'Age_From_Delivery'                    , 'Combined_Age_Pro_Built_Year','Combined_Age_Pro_Delivery'],axis=1)\n",
    "\n",
    "# #     print('Training data selection complete, starting prefix:',x)\n",
    "        \n",
    "    Train = Looping_Prefix.dropna()\n",
    "    X = Train[['SN2']].squeeze()\n",
    "    Y = Train[['Age_From_DBS']].squeeze()\n",
    "    X = X.astype(int)\n",
    "    Y = Y.astype(int)\n",
    "    model = interp1d(X, Y,kind='linear',fill_value=\"extrapolate\")\\\n",
    "    \n",
    "#Scipy developer note: Note.  At the end i will test different interpolation \"kind\" by comparing linear regression errors.\n",
    "#Note2: kind: str or int, optional\n",
    "# Specifies the kind of interpolation as a string (‘linear’, ‘nearest’, ‘zero’, ‘slinear’, ‘quadratic’, ‘cubic’, ‘previous’, ‘next’, where ‘zero’, ‘slinear’, ‘quadratic’ and ‘cubic’ refer to a spline interpolation of zeroth, first, second or third order; ‘previous’ and ‘next’ simply return the previous or next value of the point) or as an integer specifying the order of the spline interpolator to use. Default is ‘linear’.\n",
    "    \n",
    "    print('Training complete')\n",
    "    \n",
    "    Predict = Looping_Prefix\n",
    "    for idx in Predict.index.values:\n",
    "        Predict.loc[idx, 'Predicted_Age_By_DBS_Year'] = model(Predict.loc[idx, 'SN2'])\n",
    "        \n",
    "#         print('Prediction complete')\n",
    "        \n",
    "    Results = Results.append([Predict])\n",
    "    \n",
    "    print('Appending final results complete')\n",
    "Results.describe()\n",
    "# Results.to_csv('..\\\\data\\\\Output\\\\Age_Predict.csv')"
   ]
  },
  {
   "cell_type": "code",
   "execution_count": null,
   "metadata": {
    "ExecuteTime": {
     "end_time": "2020-05-24T13:44:42.289979Z",
     "start_time": "2020-05-24T13:44:41.790581Z"
    },
    "hidden": true
   },
   "outputs": [],
   "source": [
    "# Check for errors. I can select different interp1d 'kind' for best results\n",
    "import statsmodels.api as sm"
   ]
  },
  {
   "cell_type": "code",
   "execution_count": null,
   "metadata": {
    "ExecuteTime": {
     "end_time": "2020-05-24T13:44:55.772790Z",
     "start_time": "2020-05-24T13:44:55.752841Z"
    },
    "hidden": true
   },
   "outputs": [],
   "source": [
    "Test = Results\n",
    "Test.describe()"
   ]
  },
  {
   "cell_type": "code",
   "execution_count": null,
   "metadata": {
    "ExecuteTime": {
     "end_time": "2020-05-24T13:48:42.920535Z",
     "start_time": "2020-05-24T13:48:42.904578Z"
    },
    "hidden": true
   },
   "outputs": [],
   "source": [
    "Test = Results.dropna()\n",
    "X = Test[['Predicted_Age_By_DBS_Year']].squeeze()\n",
    "Y = Test[['Age_From_DBS']].squeeze()\n",
    "results_ols = sm.OLS(Y, X)\n",
    "results_fit = results_ols.fit()\n",
    "print(results_fit.summary())"
   ]
  },
  {
   "cell_type": "code",
   "execution_count": null,
   "metadata": {
    "ExecuteTime": {
     "end_time": "2020-05-24T13:45:08.747336Z",
     "start_time": "2020-05-24T13:45:08.220739Z"
    },
    "hidden": true
   },
   "outputs": [],
   "source": [
    "#Plot results\n",
    "sns.lmplot(x=\"Predicted_Age_By_DBS_Year\", y=\"Age_From_DBS\", data=Test, x_estimator=np.mean);"
   ]
  },
  {
   "cell_type": "code",
   "execution_count": null,
   "metadata": {
    "ExecuteTime": {
     "end_time": "2020-05-24T13:46:03.593409Z",
     "start_time": "2020-05-24T13:46:02.700279Z"
    },
    "hidden": true
   },
   "outputs": [],
   "source": [
    "import math\n",
    "from sklearn.metrics import mean_squared_error, mean_absolute_error\n",
    "\n",
    "# # calculate the mean squared error\n",
    "model_mse = mean_squared_error(Y, X)\n",
    "\n",
    "# # calculate the mean absolute error\n",
    "model_mae = mean_absolute_error(Y, X)\n",
    "\n",
    "# # calulcate the root mean squared error\n",
    "model_rmse =  math.sqrt(model_mse)\n",
    "\n",
    "# # display the output\n",
    "print(\"MSE {:.3}\".format(model_mse))\n",
    "print(\"MAE {:.3}\".format(model_mae))\n",
    "print(\"RMSE {:.3}\".format(model_rmse))\n",
    "\n",
    "# Results are in months."
   ]
  },
  {
   "cell_type": "markdown",
   "metadata": {
    "heading_collapsed": true,
    "hidden": true
   },
   "source": [
    "### nearest"
   ]
  },
  {
   "cell_type": "code",
   "execution_count": null,
   "metadata": {
    "ExecuteTime": {
     "end_time": "2020-05-24T13:49:30.879147Z",
     "start_time": "2020-05-24T13:49:30.390413Z"
    },
    "hidden": true,
    "scrolled": true
   },
   "outputs": [],
   "source": [
    "Results = pd.DataFrame()\n",
    "for x in Prefix:\n",
    "    Looping_Prefix = df.drop(df.index[df.SN1 != x])\n",
    "    Looping_Prefix = Looping_Prefix.drop(['SerialNumber', 'SN1'                    , 'ModelName'                    ,'Age_From_Delivery'                    , 'Combined_Age_Pro_Built_Year','Combined_Age_Pro_Delivery'],axis=1)\n",
    "\n",
    "        \n",
    "    Train = Looping_Prefix.dropna()\n",
    "    X = Train[['SN2']].squeeze()\n",
    "    Y = Train[['Age_From_DBS']].squeeze()\n",
    "    X = X.astype(int)\n",
    "    Y = Y.astype(int)\n",
    "    model = interp1d(X, Y,kind='nearest',fill_value=\"extrapolate\")\\\n",
    "    \n",
    "#Scipy developer note: Note.  At the end i will test different interpolation \"kind\" by comparing linear regression errors.\n",
    "#Note2: kind: str or int, optional\n",
    "# Specifies the kind of interpolation as a string (‘linear’, ‘nearest’, ‘zero’, ‘slinear’, ‘quadratic’, ‘cubic’, ‘previous’, ‘next’, where ‘zero’, ‘slinear’, ‘quadratic’ and ‘cubic’ refer to a spline interpolation of zeroth, first, second or third order; ‘previous’ and ‘next’ simply return the previous or next value of the point) or as an integer specifying the order of the spline interpolator to use. Default is ‘linear’.\n",
    "    \n",
    "    \n",
    "    Predict = Looping_Prefix\n",
    "    for idx in Predict.index.values:\n",
    "        Predict.loc[idx, 'Predicted_Age_By_DBS_Year'] = model(Predict.loc[idx, 'SN2'])\n",
    "        \n",
    "        \n",
    "    Results = Results.append([Predict])\n",
    "    \n",
    "Results.describe()\n",
    "# Results.to_csv('..\\\\data\\\\Output\\\\Age_Predict.csv')"
   ]
  },
  {
   "cell_type": "code",
   "execution_count": null,
   "metadata": {
    "ExecuteTime": {
     "end_time": "2020-05-24T13:49:33.296250Z",
     "start_time": "2020-05-24T13:49:33.278302Z"
    },
    "hidden": true
   },
   "outputs": [],
   "source": [
    "Test = Results.dropna()\n",
    "X = Test[['Predicted_Age_By_DBS_Year']].squeeze()\n",
    "Y = Test[['Age_From_DBS']].squeeze()\n",
    "results_ols = sm.OLS(Y, X)\n",
    "results_fit = results_ols.fit()\n",
    "print(results_fit.summary())"
   ]
  },
  {
   "cell_type": "code",
   "execution_count": null,
   "metadata": {
    "ExecuteTime": {
     "end_time": "2020-05-24T13:49:35.374171Z",
     "start_time": "2020-05-24T13:49:34.760804Z"
    },
    "hidden": true
   },
   "outputs": [],
   "source": [
    "#Plot results\n",
    "sns.lmplot(x=\"Predicted_Age_By_DBS_Year\", y=\"Age_From_DBS\", data=Test, x_estimator=np.mean);"
   ]
  },
  {
   "cell_type": "code",
   "execution_count": null,
   "metadata": {
    "ExecuteTime": {
     "end_time": "2020-05-24T13:49:36.178559Z",
     "start_time": "2020-05-24T13:49:36.172536Z"
    },
    "hidden": true
   },
   "outputs": [],
   "source": [
    "import math \n",
    "# # calculate the mean squared error\n",
    "model_mse = mean_squared_error(Y, X)\n",
    "\n",
    "# # calculate the mean absolute error\n",
    "model_mae = mean_absolute_error(Y, X)\n",
    "\n",
    "# # calulcate the root mean squared error\n",
    "model_rmse =  math.sqrt(model_mse)\n",
    "\n",
    "# # display the output\n",
    "print(\"MSE {:.3}\".format(model_mse))\n",
    "print(\"MAE {:.3}\".format(model_mae))\n",
    "print(\"RMSE {:.3}\".format(model_rmse))\n",
    "\n",
    "# Results are in months."
   ]
  },
  {
   "cell_type": "markdown",
   "metadata": {},
   "source": [
    "# Loop"
   ]
  },
  {
   "cell_type": "code",
   "execution_count": 1,
   "metadata": {
    "ExecuteTime": {
     "end_time": "2020-05-25T10:44:22.247110Z",
     "start_time": "2020-05-25T10:44:21.468689Z"
    }
   },
   "outputs": [],
   "source": [
    "#Libraries\n",
    "import pandas as pd\n",
    "import seaborn as sns\n",
    "from scipy import stats\n",
    "import statsmodels.api as sm\n",
    "import math\n",
    "from sklearn.metrics import mean_squared_error, mean_absolute_error\n",
    "from scipy import interpolate\n",
    "from scipy.interpolate import *"
   ]
  },
  {
   "cell_type": "code",
   "execution_count": 3,
   "metadata": {
    "ExecuteTime": {
     "end_time": "2020-05-25T10:44:42.211810Z",
     "start_time": "2020-05-25T10:44:35.035450Z"
    }
   },
   "outputs": [],
   "source": [
    "#Read data\n",
    "df = pd.read_excel('..\\\\data\\\\Equipment_Age_SQL_Export.xlsx', index_col='EquipmentCode')\n",
    "Prefix = list(dict.fromkeys(list(df['SN1'])))"
   ]
  },
  {
   "cell_type": "code",
   "execution_count": 4,
   "metadata": {
    "ExecuteTime": {
     "end_time": "2020-05-25T10:44:43.199179Z",
     "start_time": "2020-05-25T10:44:43.195189Z"
    }
   },
   "outputs": [
    {
     "data": {
      "text/plain": [
       "(93283, 9)"
      ]
     },
     "execution_count": 4,
     "metadata": {},
     "output_type": "execute_result"
    }
   ],
   "source": [
    "df.shape"
   ]
  },
  {
   "cell_type": "markdown",
   "metadata": {},
   "source": [
    "## Loop"
   ]
  },
  {
   "cell_type": "code",
   "execution_count": 5,
   "metadata": {
    "ExecuteTime": {
     "end_time": "2020-05-25T10:51:35.114847Z",
     "start_time": "2020-05-25T10:44:44.556557Z"
    },
    "scrolled": false
   },
   "outputs": [
    {
     "name": "stderr",
     "output_type": "stream",
     "text": [
      "C:\\Users\\yyjj\\anaconda3\\lib\\site-packages\\scipy\\stats\\stats.py:2416: RuntimeWarning: Mean of empty slice.\n",
      "  mns = a.mean(axis=axis, keepdims=True)\n",
      "C:\\Users\\yyjj\\anaconda3\\lib\\site-packages\\numpy\\core\\_methods.py:154: RuntimeWarning: invalid value encountered in true_divide\n",
      "  ret, rcount, out=ret, casting='unsafe', subok=False)\n",
      "C:\\Users\\yyjj\\anaconda3\\lib\\site-packages\\numpy\\core\\_methods.py:217: RuntimeWarning: Degrees of freedom <= 0 for slice\n",
      "  keepdims=keepdims)\n",
      "C:\\Users\\yyjj\\anaconda3\\lib\\site-packages\\numpy\\core\\_methods.py:186: RuntimeWarning: invalid value encountered in true_divide\n",
      "  arrmean, rcount, out=arrmean, casting='unsafe', subok=False)\n",
      "C:\\Users\\yyjj\\anaconda3\\lib\\site-packages\\numpy\\core\\_methods.py:207: RuntimeWarning: invalid value encountered in true_divide\n",
      "  ret, rcount, out=ret, casting='unsafe', subok=False)\n",
      "C:\\Users\\yyjj\\anaconda3\\lib\\site-packages\\scipy\\stats\\stats.py:2419: RuntimeWarning: invalid value encountered in true_divide\n",
      "  return (a - mns) / sstd\n",
      "C:\\Users\\yyjj\\anaconda3\\lib\\site-packages\\ipykernel_launcher.py:53: RuntimeWarning: invalid value encountered in less\n",
      "C:\\Users\\yyjj\\anaconda3\\lib\\site-packages\\ipykernel_launcher.py:55: RuntimeWarning: invalid value encountered in less\n",
      "C:\\Users\\yyjj\\anaconda3\\lib\\site-packages\\ipykernel_launcher.py:56: RuntimeWarning: invalid value encountered in less\n",
      "C:\\Users\\yyjj\\anaconda3\\lib\\site-packages\\ipykernel_launcher.py:54: RuntimeWarning: invalid value encountered in less\n"
     ]
    },
    {
     "name": "stdout",
     "output_type": "stream",
     "text": [
      "All estimation completed. Ready to export\n"
     ]
    }
   ],
   "source": [
    "Output = pd.DataFrame()\n",
    "\n",
    "#Loop by prefix, drop all machines not being looped by prefix\n",
    "for x in Prefix:\n",
    "    Looped_Eq = df.drop(df.index[df.SN1 != x]) \n",
    "\n",
    "    Prediction = Looped_Eq\n",
    "    \n",
    "#Create 4 different data sets at different size after dropna    \n",
    "    Train_DBS = Looped_Eq.drop(['SerialNumber', 'SN1'\n",
    "#                     , 'SN2'\n",
    "                    ,'WODollarTotal'\n",
    "                    , 'ModelName'\n",
    "#                     , 'Age_In_Months_From_DBS'\n",
    "                    ,'Age_In_Months_From_Delivery'\n",
    "                    , 'Age_In_Months_From_DBS_Delivery'\n",
    "                    ,'Age_In_Months_From_Delivery_DBS'],axis=1)\n",
    "\n",
    "    Train_Delivery = Looped_Eq.drop(['SerialNumber', 'SN1'\n",
    "#                     , 'SN2'\n",
    "                    ,'WODollarTotal'\n",
    "                    , 'ModelName'\n",
    "                    , 'Age_In_Months_From_DBS'\n",
    "#                     ,'Age_In_Months_From_Delivery'\n",
    "                    , 'Age_In_Months_From_DBS_Delivery'\n",
    "                    ,'Age_In_Months_From_Delivery_DBS'],axis=1)\n",
    "\n",
    "    Train_DBS_Delivery = Looped_Eq.drop(['SerialNumber', 'SN1'\n",
    "#                     , 'SN2'\n",
    "                    ,'WODollarTotal'\n",
    "                    , 'ModelName'\n",
    "                    , 'Age_In_Months_From_DBS'\n",
    "                    ,'Age_In_Months_From_Delivery'\n",
    "                    # , 'Age_In_Months_From_DBS_Delivery'\n",
    "                    ,'Age_In_Months_From_Delivery_DBS'\n",
    "                           ],axis=1)\n",
    "\n",
    "    Train_Delivery_DBS = Looped_Eq.drop(['SerialNumber', 'SN1'\n",
    "#                     , 'SN2'\n",
    "                    ,'WODollarTotal'\n",
    "                    , 'ModelName'\n",
    "                    , 'Age_In_Months_From_DBS'\n",
    "                    ,'Age_In_Months_From_Delivery'\n",
    "                    , 'Age_In_Months_From_DBS_Delivery'\n",
    "#                     ,'Age_In_Months_From_Delivery_DBS'\n",
    "                           ],axis=1)\n",
    "    Train_DBS = Train_DBS.dropna()\n",
    "    Train_Delivery = Train_Delivery.dropna()\n",
    "    Train_DBS_Delivery = Train_DBS_Delivery.dropna()        \n",
    "    Train_Delivery_DBS = Train_Delivery_DBS.dropna()\n",
    "    \n",
    "#Reduce errors for training data\n",
    "    New_Train_DBS = Train_DBS[(np.abs(stats.zscore(Train_DBS)) < 3).all(axis=1)]\n",
    "    New_Train_Delivery = Train_Delivery[(np.abs(stats.zscore(Train_Delivery)) < 3).all(axis=1)]\n",
    "    New_Train_DBS_Delivery = Train_DBS_Delivery[(np.abs(stats.zscore(Train_DBS_Delivery)) < 3).all(axis=1)]    \n",
    "    New_Train_Delivery_DBS = Train_Delivery_DBS[(np.abs(stats.zscore(Train_Delivery_DBS)) < 3).all(axis=1)]\n",
    "\n",
    "#Train 4 different models\n",
    "    X1 = New_Train_DBS[['SN2']].squeeze()\n",
    "    X1 = X1.astype(int)    \n",
    "    Y1 = New_Train_DBS[['Age_In_Months_From_DBS']].squeeze()\n",
    "    Y1 = Y1.astype(int)\n",
    "    X2 = New_Train_Delivery[['SN2']].squeeze()\n",
    "    X2 = X2.astype(int)    \n",
    "    Y2 = New_Train_Delivery[['Age_In_Months_From_Delivery']].squeeze()\n",
    "    Y2 = Y2.astype(int)    \n",
    "    X3 = New_Train_DBS_Delivery[['SN2']].squeeze()\n",
    "    X3 = X3.astype(int)    \n",
    "    Y3 = New_Train_DBS_Delivery[['Age_In_Months_From_DBS_Delivery']].squeeze()\n",
    "    Y3 = Y3.astype(int)    \n",
    "    X4 = New_Train_Delivery_DBS[['SN2']].squeeze()\n",
    "    X4 = X4.astype(int)    \n",
    "    Y4 = New_Train_Delivery_DBS[['Age_In_Months_From_Delivery_DBS']].squeeze()\n",
    "    Y4 = Y4.astype(int)    \n",
    "    \n",
    "    if New_Train_DBS.size > 0: \n",
    "        model1 = interp1d(X1, Y1,kind='nearest',fill_value=\"extrapolate\")\n",
    "    if New_Train_Delivery.size > 0: \n",
    "        model2 = interp1d(X2, Y2,kind='nearest',fill_value=\"extrapolate\")\n",
    "    if New_Train_DBS_Delivery.size > 0: \n",
    "        model3 = interp1d(X3, Y3,kind='nearest',fill_value=\"extrapolate\")\n",
    "    if New_Train_Delivery_DBS.size > 0:  \n",
    "        model4 = interp1d(X4, Y4,kind='nearest',fill_value=\"extrapolate\")\n",
    "\n",
    "# Apply model\n",
    "    for idx in Prediction.index.values:\n",
    "        if New_Train_DBS.size > 0:\n",
    "            Prediction.loc[idx, 'Predicted_Age_In_Months_From_DBS'] = model1(Prediction.loc[idx, 'SN2'])\n",
    "        if New_Train_Delivery.size > 0:\n",
    "            Prediction.loc[idx, 'Predicted_Age_In_Months_From_Delivery'] = model2(Prediction.loc[idx, 'SN2'])\n",
    "        if New_Train_DBS_Delivery.size > 0:\n",
    "            Prediction.loc[idx, 'Predicted_Age_In_Months_From_DBS_Delivery'] = model3(Prediction.loc[idx, 'SN2'])\n",
    "        if New_Train_Delivery_DBS.size > 0:\n",
    "            Prediction.loc[idx, 'Predicted_Age_In_Months_From_Delivery_DBS'] = model4(Prediction.loc[idx, 'SN2'])            \n",
    "#Append output            \n",
    "    Output = Output.append([Prediction])\n",
    "    Output = Output.drop_duplicates()\n",
    "    \n",
    "print('All estimation completed. Ready to export')"
   ]
  },
  {
   "cell_type": "code",
   "execution_count": 6,
   "metadata": {
    "ExecuteTime": {
     "end_time": "2020-05-25T10:53:58.235025Z",
     "start_time": "2020-05-25T10:53:57.569794Z"
    }
   },
   "outputs": [
    {
     "name": "stdout",
     "output_type": "stream",
     "text": [
      "Export completed\n"
     ]
    }
   ],
   "source": [
    "Output.to_csv('..\\\\data\\\\Output\\\\Age_Estimates_All.csv')\n",
    "print('Export completed')"
   ]
  },
  {
   "cell_type": "markdown",
   "metadata": {},
   "source": [
    "# Test"
   ]
  },
  {
   "cell_type": "markdown",
   "metadata": {},
   "source": [
    "## Errors"
   ]
  },
  {
   "cell_type": "code",
   "execution_count": 7,
   "metadata": {
    "ExecuteTime": {
     "end_time": "2020-05-25T10:54:04.193640Z",
     "start_time": "2020-05-25T10:54:04.189652Z"
    }
   },
   "outputs": [
    {
     "data": {
      "text/plain": [
       "Index(['SerialNumber', 'SN1', 'SN2', 'ModelName', 'WODollarTotal',\n",
       "       'Age_In_Months_From_DBS', 'Age_In_Months_From_Delivery',\n",
       "       'Age_In_Months_From_DBS_Delivery', 'Age_In_Months_From_Delivery_DBS',\n",
       "       'Predicted_Age_In_Months_From_DBS',\n",
       "       'Predicted_Age_In_Months_From_Delivery',\n",
       "       'Predicted_Age_In_Months_From_DBS_Delivery',\n",
       "       'Predicted_Age_In_Months_From_Delivery_DBS'],\n",
       "      dtype='object')"
      ]
     },
     "execution_count": 7,
     "metadata": {},
     "output_type": "execute_result"
    }
   ],
   "source": [
    "Output.columns"
   ]
  },
  {
   "cell_type": "code",
   "execution_count": 8,
   "metadata": {
    "ExecuteTime": {
     "end_time": "2020-05-25T10:54:04.864844Z",
     "start_time": "2020-05-25T10:54:04.847891Z"
    }
   },
   "outputs": [],
   "source": [
    "Test1 = Output.drop(['SN1'\n",
    "                    ,'SN2'\n",
    "                    ,'WODollarTotal'\n",
    "                    ,'ModelName'\n",
    "                    # ,'Age_In_Months_From_DBS'\n",
    "                    ,'Age_In_Months_From_Delivery'\n",
    "                    ,'Age_In_Months_From_DBS_Delivery'\n",
    "                    ,'Age_In_Months_From_Delivery_DBS'\n",
    "                    # ,'Predicted_Age_In_Months_From_DBS'\n",
    "                    ,'Predicted_Age_In_Months_From_Delivery'\n",
    "                    ,'Predicted_Age_In_Months_From_DBS_Delivery'\n",
    "                    ,'Predicted_Age_In_Months_From_Delivery_DBS'],axis=1)\n",
    "Test2 = Output.drop(['SN1'\n",
    "                    ,'SN2'\n",
    "                    ,'WODollarTotal'\n",
    "                    ,'ModelName'\n",
    "                    ,'Age_In_Months_From_DBS'\n",
    "                    # ,'Age_In_Months_From_Delivery'\n",
    "                    ,'Age_In_Months_From_DBS_Delivery'\n",
    "                    ,'Age_In_Months_From_Delivery_DBS'\n",
    "                    ,'Predicted_Age_In_Months_From_DBS'\n",
    "                    # ,'Predicted_Age_In_Months_From_Delivery'\n",
    "                    ,'Predicted_Age_In_Months_From_DBS_Delivery'\n",
    "                    ,'Predicted_Age_In_Months_From_Delivery_DBS'],axis=1)\n",
    "Test3 = Output.drop(['SN1'\n",
    "                    ,'SN2'\n",
    "                    ,'WODollarTotal'\n",
    "                    ,'ModelName'\n",
    "                    ,'Age_In_Months_From_DBS'\n",
    "                    ,'Age_In_Months_From_Delivery'\n",
    "                    # ,'Age_In_Months_From_DBS_Delivery'\n",
    "                    ,'Age_In_Months_From_Delivery_DBS'\n",
    "                    ,'Predicted_Age_In_Months_From_DBS'\n",
    "                    ,'Predicted_Age_In_Months_From_Delivery'\n",
    "                    # ,'Predicted_Age_In_Months_From_DBS_Delivery'\n",
    "                    ,'Predicted_Age_In_Months_From_Delivery_DBS'],axis=1)\n",
    "               \n",
    "Test4 = Output.drop(['SN1'\n",
    "                    ,'SN2'\n",
    "                    ,'WODollarTotal'\n",
    "                    ,'ModelName'\n",
    "                    ,'Age_In_Months_From_DBS'\n",
    "                    ,'Age_In_Months_From_Delivery'\n",
    "                    ,'Age_In_Months_From_DBS_Delivery'\n",
    "                    # ,'Age_In_Months_From_Delivery_DBS'\n",
    "                    ,'Predicted_Age_In_Months_From_DBS'\n",
    "                    ,'Predicted_Age_In_Months_From_Delivery'\n",
    "                    ,'Predicted_Age_In_Months_From_DBS_Delivery'\n",
    "                    # ,'Predicted_Age_In_Months_From_Delivery_DBS'\n",
    "                    ],axis=1)"
   ]
  },
  {
   "cell_type": "code",
   "execution_count": 9,
   "metadata": {
    "ExecuteTime": {
     "end_time": "2020-05-25T10:54:06.477549Z",
     "start_time": "2020-05-25T10:54:06.449624Z"
    }
   },
   "outputs": [
    {
     "name": "stdout",
     "output_type": "stream",
     "text": [
      "                                   OLS Regression Results                                  \n",
      "===========================================================================================\n",
      "Dep. Variable:     Age_In_Months_From_DBS   R-squared (uncentered):                   0.997\n",
      "Model:                                OLS   Adj. R-squared (uncentered):              0.997\n",
      "Method:                     Least Squares   F-statistic:                          1.800e+07\n",
      "Date:                    Mon, 25 May 2020   Prob (F-statistic):                        0.00\n",
      "Time:                            06:54:06   Log-Likelihood:                     -2.0534e+05\n",
      "No. Observations:                   50598   AIC:                                  4.107e+05\n",
      "Df Residuals:                       50597   BIC:                                  4.107e+05\n",
      "Df Model:                               1                                                  \n",
      "Covariance Type:                nonrobust                                                  \n",
      "====================================================================================================\n",
      "                                       coef    std err          t      P>|t|      [0.025      0.975]\n",
      "----------------------------------------------------------------------------------------------------\n",
      "Predicted_Age_In_Months_From_DBS     1.0009      0.000   4242.865      0.000       1.000       1.001\n",
      "==============================================================================\n",
      "Omnibus:                   121090.203   Durbin-Watson:                   0.958\n",
      "Prob(Omnibus):                  0.000   Jarque-Bera (JB):       1658383669.085\n",
      "Skew:                          24.647   Prob(JB):                         0.00\n",
      "Kurtosis:                     888.543   Cond. No.                         1.00\n",
      "==============================================================================\n",
      "\n",
      "Warnings:\n",
      "[1] Standard Errors assume that the covariance matrix of the errors is correctly specified.\n"
     ]
    }
   ],
   "source": [
    "Test1 = Test1.dropna()\n",
    "Y = Test1[['Age_In_Months_From_DBS']]\n",
    "X = Test1[['Predicted_Age_In_Months_From_DBS']]\n",
    "\n",
    "model = sm.OLS(Y, X)\n",
    "results = model.fit()\n",
    "\n",
    "print(results.summary())"
   ]
  },
  {
   "cell_type": "code",
   "execution_count": 10,
   "metadata": {
    "ExecuteTime": {
     "end_time": "2020-05-25T10:54:09.028742Z",
     "start_time": "2020-05-25T10:54:09.022758Z"
    }
   },
   "outputs": [
    {
     "name": "stdout",
     "output_type": "stream",
     "text": [
      "MSE 196.19494841693347\n",
      "MAE 0.7228744219139096\n",
      "RMSE 14.00696071305026\n"
     ]
    }
   ],
   "source": [
    "model_mse = mean_squared_error(Y, X)\n",
    "model_mae = mean_absolute_error(Y, X)\n",
    "model_rmse =  math.sqrt(model_mse)\n",
    "\n",
    "print(\"MSE {:3}\".format(model_mse))\n",
    "print(\"MAE {:3}\".format(model_mae))\n",
    "print(\"RMSE {:3}\".format(model_rmse))"
   ]
  },
  {
   "cell_type": "code",
   "execution_count": 11,
   "metadata": {
    "ExecuteTime": {
     "end_time": "2020-05-25T10:54:13.811008Z",
     "start_time": "2020-05-25T10:54:09.857030Z"
    }
   },
   "outputs": [
    {
     "data": {
      "text/plain": [
       "<seaborn.axisgrid.PairGrid at 0x12dc3867f48>"
      ]
     },
     "execution_count": 11,
     "metadata": {},
     "output_type": "execute_result"
    },
    {
     "data": {
      "image/png": "[encoded data removed]",
      "text/plain": [
       "<Figure size 432x432 with 6 Axes>"
      ]
     },
     "metadata": {
      "needs_background": "light"
     },
     "output_type": "display_data"
    }
   ],
   "source": [
    "sns.pairplot(Test1, kind='reg', diag_kind='hist',\n",
    "             height=3, aspect=1,\n",
    "             plot_kws={'scatter_kws': {'alpha': 0.7}})"
   ]
  },
  {
   "cell_type": "code",
   "execution_count": 12,
   "metadata": {
    "ExecuteTime": {
     "end_time": "2020-05-25T10:54:15.117522Z",
     "start_time": "2020-05-25T10:54:15.096577Z"
    }
   },
   "outputs": [
    {
     "name": "stdout",
     "output_type": "stream",
     "text": [
      "                                          OLS Regression Results                                          \n",
      "==========================================================================================================\n",
      "Dep. Variable:     Predicted_Age_In_Months_From_Delivery   R-squared (uncentered):                   0.997\n",
      "Model:                                               OLS   Adj. R-squared (uncentered):              0.997\n",
      "Method:                                    Least Squares   F-statistic:                          3.617e+06\n",
      "Date:                                   Mon, 25 May 2020   Prob (F-statistic):                        0.00\n",
      "Time:                                           06:54:15   Log-Likelihood:                         -36414.\n",
      "No. Observations:                                   9335   AIC:                                  7.283e+04\n",
      "Df Residuals:                                       9334   BIC:                                  7.284e+04\n",
      "Df Model:                                              1                                                  \n",
      "Covariance Type:                               nonrobust                                                  \n",
      "===============================================================================================\n",
      "                                  coef    std err          t      P>|t|      [0.025      0.975]\n",
      "-----------------------------------------------------------------------------------------------\n",
      "Age_In_Months_From_Delivery     0.9924      0.001   1901.744      0.000       0.991       0.993\n",
      "==============================================================================\n",
      "Omnibus:                    20526.090   Durbin-Watson:                   0.649\n",
      "Prob(Omnibus):                  0.000   Jarque-Bera (JB):         86301798.737\n",
      "Skew:                         -20.337   Prob(JB):                         0.00\n",
      "Kurtosis:                     472.281   Cond. No.                         1.00\n",
      "==============================================================================\n",
      "\n",
      "Warnings:\n",
      "[1] Standard Errors assume that the covariance matrix of the errors is correctly specified.\n"
     ]
    }
   ],
   "source": [
    "Test2 = Test2.dropna()\n",
    "X = Test2[['Age_In_Months_From_Delivery']]\n",
    "Y = Test2[['Predicted_Age_In_Months_From_Delivery']]\n",
    "\n",
    "model = sm.OLS(Y, X)\n",
    "results = model.fit()\n",
    "\n",
    "print(results.summary())"
   ]
  },
  {
   "cell_type": "code",
   "execution_count": 13,
   "metadata": {
    "ExecuteTime": {
     "end_time": "2020-05-25T10:54:16.264463Z",
     "start_time": "2020-05-25T10:54:16.257483Z"
    }
   },
   "outputs": [
    {
     "name": "stdout",
     "output_type": "stream",
     "text": [
      "MSE 146.3328334226031\n",
      "MAE 0.6940546331012319\n",
      "RMSE 12.096810878186163\n"
     ]
    }
   ],
   "source": [
    "model_mse = mean_squared_error(Y, X)\n",
    "model_mae = mean_absolute_error(Y, X)\n",
    "model_rmse =  math.sqrt(model_mse)\n",
    "\n",
    "print(\"MSE {:3}\".format(model_mse))\n",
    "print(\"MAE {:3}\".format(model_mae))\n",
    "print(\"RMSE {:3}\".format(model_rmse))"
   ]
  },
  {
   "cell_type": "code",
   "execution_count": 14,
   "metadata": {
    "ExecuteTime": {
     "end_time": "2020-05-25T10:54:18.484533Z",
     "start_time": "2020-05-25T10:54:17.320637Z"
    }
   },
   "outputs": [
    {
     "data": {
      "text/plain": [
       "<seaborn.axisgrid.PairGrid at 0x12dc18509c8>"
      ]
     },
     "execution_count": 14,
     "metadata": {},
     "output_type": "execute_result"
    },
    {
     "data": {
      "image/png": "[encoded data removed]",
      "text/plain": [
       "<Figure size 432x432 with 6 Axes>"
      ]
     },
     "metadata": {
      "needs_background": "light"
     },
     "output_type": "display_data"
    }
   ],
   "source": [
    "sns.pairplot(Test2, kind='reg', diag_kind='hist',\n",
    "             height=3, aspect=1,\n",
    "             plot_kws={'scatter_kws': {'alpha': 0.7}})"
   ]
  },
  {
   "cell_type": "code",
   "execution_count": 15,
   "metadata": {
    "ExecuteTime": {
     "end_time": "2020-05-25T10:54:19.622488Z",
     "start_time": "2020-05-25T10:54:19.596557Z"
    }
   },
   "outputs": [
    {
     "name": "stdout",
     "output_type": "stream",
     "text": [
      "                                            OLS Regression Results                                            \n",
      "==============================================================================================================\n",
      "Dep. Variable:     Predicted_Age_In_Months_From_DBS_Delivery   R-squared (uncentered):                   0.997\n",
      "Model:                                                   OLS   Adj. R-squared (uncentered):              0.997\n",
      "Method:                                        Least Squares   F-statistic:                          1.793e+07\n",
      "Date:                                       Mon, 25 May 2020   Prob (F-statistic):                        0.00\n",
      "Time:                                               06:54:19   Log-Likelihood:                     -2.0535e+05\n",
      "No. Observations:                                      50603   AIC:                                  4.107e+05\n",
      "Df Residuals:                                          50602   BIC:                                  4.107e+05\n",
      "Df Model:                                                  1                                                  \n",
      "Covariance Type:                                   nonrobust                                                  \n",
      "===================================================================================================\n",
      "                                      coef    std err          t      P>|t|      [0.025      0.975]\n",
      "---------------------------------------------------------------------------------------------------\n",
      "Age_In_Months_From_DBS_Delivery     0.9963      0.000   4234.804      0.000       0.996       0.997\n",
      "==============================================================================\n",
      "Omnibus:                   120522.120   Durbin-Watson:                   0.960\n",
      "Prob(Omnibus):                  0.000   Jarque-Bera (JB):       1615059781.412\n",
      "Skew:                         -24.354   Prob(JB):                         0.00\n",
      "Kurtosis:                     876.853   Cond. No.                         1.00\n",
      "==============================================================================\n",
      "\n",
      "Warnings:\n",
      "[1] Standard Errors assume that the covariance matrix of the errors is correctly specified.\n"
     ]
    }
   ],
   "source": [
    "Test3 = Test3.dropna()\n",
    "X = Test3[['Age_In_Months_From_DBS_Delivery']]\n",
    "Y = Test3[['Predicted_Age_In_Months_From_DBS_Delivery']]\n",
    "\n",
    "model = sm.OLS(Y, X)\n",
    "results = model.fit()\n",
    "\n",
    "print(results.summary())"
   ]
  },
  {
   "cell_type": "code",
   "execution_count": 16,
   "metadata": {
    "ExecuteTime": {
     "end_time": "2020-05-25T10:54:20.631304Z",
     "start_time": "2020-05-25T10:54:20.624323Z"
    }
   },
   "outputs": [
    {
     "name": "stdout",
     "output_type": "stream",
     "text": [
      "MSE 196.9704760587317\n",
      "MAE 0.7283955496709681\n",
      "RMSE 14.03461706134983\n"
     ]
    }
   ],
   "source": [
    "model_mse = mean_squared_error(Y, X)\n",
    "model_mae = mean_absolute_error(Y, X)\n",
    "model_rmse =  math.sqrt(model_mse)\n",
    "\n",
    "print(\"MSE {:3}\".format(model_mse))\n",
    "print(\"MAE {:3}\".format(model_mae))\n",
    "print(\"RMSE {:3}\".format(model_rmse))"
   ]
  },
  {
   "cell_type": "code",
   "execution_count": 17,
   "metadata": {
    "ExecuteTime": {
     "end_time": "2020-05-25T10:54:26.455765Z",
     "start_time": "2020-05-25T10:54:21.847073Z"
    }
   },
   "outputs": [
    {
     "data": {
      "text/plain": [
       "<seaborn.axisgrid.PairGrid at 0x12dc18ac808>"
      ]
     },
     "execution_count": 17,
     "metadata": {},
     "output_type": "execute_result"
    },
    {
     "data": {
      "image/png": "[encoded data removed]",
      "text/plain": [
       "<Figure size 432x432 with 6 Axes>"
      ]
     },
     "metadata": {
      "needs_background": "light"
     },
     "output_type": "display_data"
    }
   ],
   "source": [
    "sns.pairplot(Test3, kind='reg', diag_kind='hist',\n",
    "             height=3, aspect=1,\n",
    "             plot_kws={'scatter_kws': {'alpha': 0.7}})"
   ]
  },
  {
   "cell_type": "code",
   "execution_count": 18,
   "metadata": {
    "ExecuteTime": {
     "end_time": "2020-05-25T10:54:27.861508Z",
     "start_time": "2020-05-25T10:54:27.836574Z"
    }
   },
   "outputs": [
    {
     "name": "stdout",
     "output_type": "stream",
     "text": [
      "                                            OLS Regression Results                                            \n",
      "==============================================================================================================\n",
      "Dep. Variable:     Predicted_Age_In_Months_From_Delivery_DBS   R-squared (uncentered):                   0.997\n",
      "Model:                                                   OLS   Adj. R-squared (uncentered):              0.997\n",
      "Method:                                        Least Squares   F-statistic:                          1.793e+07\n",
      "Date:                                       Mon, 25 May 2020   Prob (F-statistic):                        0.00\n",
      "Time:                                               06:54:27   Log-Likelihood:                     -2.0535e+05\n",
      "No. Observations:                                      50603   AIC:                                  4.107e+05\n",
      "Df Residuals:                                          50602   BIC:                                  4.107e+05\n",
      "Df Model:                                                  1                                                  \n",
      "Covariance Type:                                   nonrobust                                                  \n",
      "===================================================================================================\n",
      "                                      coef    std err          t      P>|t|      [0.025      0.975]\n",
      "---------------------------------------------------------------------------------------------------\n",
      "Age_In_Months_From_Delivery_DBS     0.9963      0.000   4234.804      0.000       0.996       0.997\n",
      "==============================================================================\n",
      "Omnibus:                   120522.120   Durbin-Watson:                   0.960\n",
      "Prob(Omnibus):                  0.000   Jarque-Bera (JB):       1615059781.412\n",
      "Skew:                         -24.354   Prob(JB):                         0.00\n",
      "Kurtosis:                     876.853   Cond. No.                         1.00\n",
      "==============================================================================\n",
      "\n",
      "Warnings:\n",
      "[1] Standard Errors assume that the covariance matrix of the errors is correctly specified.\n"
     ]
    }
   ],
   "source": [
    "Test4 = Test4.dropna()\n",
    "X = Test4[['Age_In_Months_From_Delivery_DBS']]\n",
    "Y = Test4[['Predicted_Age_In_Months_From_Delivery_DBS']]\n",
    "model = sm.OLS(Y, X)\n",
    "\n",
    "results = model.fit()\n",
    "print(results.summary())"
   ]
  },
  {
   "cell_type": "code",
   "execution_count": 19,
   "metadata": {
    "ExecuteTime": {
     "end_time": "2020-05-25T10:54:28.967055Z",
     "start_time": "2020-05-25T10:54:28.961071Z"
    }
   },
   "outputs": [
    {
     "name": "stdout",
     "output_type": "stream",
     "text": [
      "MSE 196.9704760587317\n",
      "MAE 0.7283955496709681\n",
      "RMSE 14.03461706134983\n"
     ]
    }
   ],
   "source": [
    "model_mse = mean_squared_error(Y, X)\n",
    "model_mae = mean_absolute_error(Y, X)\n",
    "model_rmse =  math.sqrt(model_mse)\n",
    "\n",
    "print(\"MSE {:3}\".format(model_mse))\n",
    "print(\"MAE {:3}\".format(model_mae))\n",
    "print(\"RMSE {:3}\".format(model_rmse))"
   ]
  },
  {
   "cell_type": "code",
   "execution_count": 20,
   "metadata": {
    "ExecuteTime": {
     "end_time": "2020-05-25T10:54:34.655884Z",
     "start_time": "2020-05-25T10:54:30.065126Z"
    }
   },
   "outputs": [
    {
     "data": {
      "text/plain": [
       "<seaborn.axisgrid.PairGrid at 0x12dc21b9208>"
      ]
     },
     "execution_count": 20,
     "metadata": {},
     "output_type": "execute_result"
    },
    {
     "data": {
      "image/png": "[encoded data removed]",
      "text/plain": [
       "<Figure size 432x432 with 6 Axes>"
      ]
     },
     "metadata": {
      "needs_background": "light"
     },
     "output_type": "display_data"
    }
   ],
   "source": [
    "sns.pairplot(Test4, kind='reg', diag_kind='hist',\n",
    "             height=3, aspect=1,\n",
    "             plot_kws={'scatter_kws': {'alpha': 0.7}})"
   ]
  },
  {
   "cell_type": "markdown",
   "metadata": {},
   "source": [
    "# Export"
   ]
  },
  {
   "cell_type": "code",
   "execution_count": 22,
   "metadata": {
    "ExecuteTime": {
     "end_time": "2020-05-25T10:55:15.300812Z",
     "start_time": "2020-05-25T10:55:15.296823Z"
    }
   },
   "outputs": [
    {
     "data": {
      "text/plain": [
       "(93283, 13)"
      ]
     },
     "execution_count": 22,
     "metadata": {},
     "output_type": "execute_result"
    }
   ],
   "source": [
    "Bruce_Export = Output\n",
    "Bruce_Export.shape"
   ]
  },
  {
   "cell_type": "code",
   "execution_count": 23,
   "metadata": {
    "ExecuteTime": {
     "end_time": "2020-05-25T10:55:16.174483Z",
     "start_time": "2020-05-25T10:55:16.145561Z"
    }
   },
   "outputs": [
    {
     "data": {
      "text/plain": [
       "(31134, 13)"
      ]
     },
     "execution_count": 23,
     "metadata": {},
     "output_type": "execute_result"
    }
   ],
   "source": [
    "Bruce_Export = Bruce_Export.drop(Bruce_Export.index[Bruce_Export.Age_In_Months_From_DBS > 120])\n",
    "Bruce_Export = Bruce_Export.drop(Bruce_Export.index[Bruce_Export.Predicted_Age_In_Months_From_DBS > 120])\n",
    "Bruce_Export.shape"
   ]
  },
  {
   "cell_type": "code",
   "execution_count": 24,
   "metadata": {
    "ExecuteTime": {
     "end_time": "2020-05-25T10:55:16.832722Z",
     "start_time": "2020-05-25T10:55:16.825740Z"
    }
   },
   "outputs": [
    {
     "data": {
      "text/plain": [
       "(28122, 13)"
      ]
     },
     "execution_count": 24,
     "metadata": {},
     "output_type": "execute_result"
    }
   ],
   "source": [
    "Bruce_Export = Bruce_Export[Bruce_Export['Predicted_Age_In_Months_From_DBS'].notna()]\n",
    "Bruce_Export.shape"
   ]
  },
  {
   "cell_type": "code",
   "execution_count": 25,
   "metadata": {
    "ExecuteTime": {
     "end_time": "2020-05-25T10:55:18.355153Z",
     "start_time": "2020-05-25T10:55:18.351164Z"
    }
   },
   "outputs": [
    {
     "data": {
      "text/plain": [
       "Index(['SerialNumber', 'SN1', 'SN2', 'ModelName', 'WODollarTotal',\n",
       "       'Age_In_Months_From_DBS', 'Age_In_Months_From_Delivery',\n",
       "       'Age_In_Months_From_DBS_Delivery', 'Age_In_Months_From_Delivery_DBS',\n",
       "       'Predicted_Age_In_Months_From_DBS',\n",
       "       'Predicted_Age_In_Months_From_Delivery',\n",
       "       'Predicted_Age_In_Months_From_DBS_Delivery',\n",
       "       'Predicted_Age_In_Months_From_Delivery_DBS'],\n",
       "      dtype='object')"
      ]
     },
     "execution_count": 25,
     "metadata": {},
     "output_type": "execute_result"
    }
   ],
   "source": [
    "Bruce_Export.columns"
   ]
  },
  {
   "cell_type": "code",
   "execution_count": 26,
   "metadata": {
    "ExecuteTime": {
     "end_time": "2020-05-25T10:55:20.513387Z",
     "start_time": "2020-05-25T10:55:20.506406Z"
    }
   },
   "outputs": [
    {
     "data": {
      "text/plain": [
       "Index(['SerialNumber', 'ModelName', 'Age_In_Months_From_DBS',\n",
       "       'Predicted_Age_In_Months_From_DBS'],\n",
       "      dtype='object')"
      ]
     },
     "execution_count": 26,
     "metadata": {},
     "output_type": "execute_result"
    }
   ],
   "source": [
    "Bruce_Export = Bruce_Export.drop(['SN1'\n",
    "                    , 'SN2'\n",
    "                    ,'WODollarTotal'\n",
    "                    ,'Age_In_Months_From_Delivery'\n",
    "                    , 'Age_In_Months_From_DBS_Delivery'\n",
    "                    ,'Age_In_Months_From_Delivery_DBS'\n",
    "                    ,'Predicted_Age_In_Months_From_Delivery'\n",
    "                    ,'Predicted_Age_In_Months_From_DBS_Delivery'\n",
    "                    ,'Predicted_Age_In_Months_From_Delivery_DBS'\n",
    "                   ],axis=1)\n",
    "Bruce_Export.columns"
   ]
  },
  {
   "cell_type": "code",
   "execution_count": 27,
   "metadata": {
    "ExecuteTime": {
     "end_time": "2020-05-25T10:55:25.384879Z",
     "start_time": "2020-05-25T10:55:25.311077Z"
    }
   },
   "outputs": [],
   "source": [
    "Bruce_Export.to_csv('..\\\\data\\\\Output\\\\ECAN_Equipment_Under_10_Years.csv')"
   ]
  }
 ],
 "metadata": {
  "kernelspec": {
   "display_name": "Python 3",
   "language": "python",
   "name": "python3"
  },
  "language_info": {
   "codemirror_mode": {
    "name": "ipython",
    "version": 3
   },
   "file_extension": ".py",
   "mimetype": "text/x-python",
   "name": "python",
   "nbconvert_exporter": "python",
   "pygments_lexer": "ipython3",
   "version": "3.7.6"
  },
  "varInspector": {
   "cols": {
    "lenName": 16,
    "lenType": 16,
    "lenVar": "100"
   },
   "kernels_config": {
    "python": {
     "delete_cmd_postfix": "",
     "delete_cmd_prefix": "del ",
     "library": "var_list.py",
     "varRefreshCmd": "print(var_dic_list())"
    },
    "r": {
     "delete_cmd_postfix": ") ",
     "delete_cmd_prefix": "rm(",
     "library": "var_list.r",
     "varRefreshCmd": "cat(var_dic_list()) "
    }
   },
   "types_to_exclude": [
    "module",
    "function",
    "builtin_function_or_method",
    "instance",
    "_Feature"
   ],
   "window_display": false
  }
 },
 "nbformat": 4,
 "nbformat_minor": 2
}
